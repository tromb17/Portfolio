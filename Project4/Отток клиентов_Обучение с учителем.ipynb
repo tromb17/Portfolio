{
 "cells": [
  {
   "cell_type": "markdown",
   "id": "4f7c5080-8843-4e3b-8b67-a663ed34fad1",
   "metadata": {},
   "source": [
    "# Отток клиентов"
   ]
  },
  {
   "cell_type": "markdown",
   "id": "11617cb8-8bcf-47f6-94fa-26e938ad9051",
   "metadata": {},
   "source": [
    "##### Описание проекта"
   ]
  },
  {
   "cell_type": "markdown",
   "id": "090b38ab",
   "metadata": {},
   "source": [
    "Из «Бета-Банка» стали уходить клиенты. Каждый месяц. Немного, но заметно. Банковские маркетологи посчитали: сохранять текущих клиентов дешевле, чем привлекать новых.\n",
    "\n",
    "\n",
    "Нужно спрогнозировать, уйдёт клиент из банка в ближайшее время или нет. Были предоставлены исторические данные о поведении клиентов и расторжении договоров с банком.\n",
    "\n",
    "\n",
    "Необходимо построить модель с предельно большим значением F1-меры. "
   ]
  },
  {
   "cell_type": "markdown",
   "id": "34f841a2",
   "metadata": {},
   "source": [
    "## Загрузка и предобработка данных"
   ]
  },
  {
   "cell_type": "code",
   "execution_count": 99,
   "id": "b45b570a",
   "metadata": {},
   "outputs": [],
   "source": [
    "import pandas as pd\n",
    "import matplotlib.pyplot as plt\n",
    "\n",
    "from sklearn.model_selection import train_test_split\n",
    "from sklearn.linear_model import LogisticRegression\n",
    "from sklearn.tree import DecisionTreeClassifier\n",
    "from sklearn.ensemble import RandomForestClassifier\n",
    "from sklearn.metrics import f1_score\n",
    "from sklearn.utils import shuffle\n",
    "from sklearn.metrics import roc_curve\n",
    "from sklearn.metrics import roc_auc_score\n",
    "from sklearn.preprocessing import OneHotEncoder\n",
    "from sklearn.preprocessing import StandardScaler "
   ]
  },
  {
   "cell_type": "code",
   "execution_count": 100,
   "id": "5c861caf",
   "metadata": {},
   "outputs": [],
   "source": [
    "try:\n",
    "    df = pd.read_csv('C:/Users/trombee/Desktop/Учеба/ЯП. Обучение с учителем. Проект/Churn.csv')\n",
    "except:\n",
    "    df = pd.read_csv('/datasets/Churn.csv')"
   ]
  },
  {
   "cell_type": "code",
   "execution_count": 101,
   "id": "d78aa40e",
   "metadata": {},
   "outputs": [
    {
     "data": {
      "text/html": [
       "<div>\n",
       "<style scoped>\n",
       "    .dataframe tbody tr th:only-of-type {\n",
       "        vertical-align: middle;\n",
       "    }\n",
       "\n",
       "    .dataframe tbody tr th {\n",
       "        vertical-align: top;\n",
       "    }\n",
       "\n",
       "    .dataframe thead th {\n",
       "        text-align: right;\n",
       "    }\n",
       "</style>\n",
       "<table border=\"1\" class=\"dataframe\">\n",
       "  <thead>\n",
       "    <tr style=\"text-align: right;\">\n",
       "      <th></th>\n",
       "      <th>RowNumber</th>\n",
       "      <th>CustomerId</th>\n",
       "      <th>Surname</th>\n",
       "      <th>CreditScore</th>\n",
       "      <th>Geography</th>\n",
       "      <th>Gender</th>\n",
       "      <th>Age</th>\n",
       "      <th>Tenure</th>\n",
       "      <th>Balance</th>\n",
       "      <th>NumOfProducts</th>\n",
       "      <th>HasCrCard</th>\n",
       "      <th>IsActiveMember</th>\n",
       "      <th>EstimatedSalary</th>\n",
       "      <th>Exited</th>\n",
       "    </tr>\n",
       "  </thead>\n",
       "  <tbody>\n",
       "    <tr>\n",
       "      <th>0</th>\n",
       "      <td>1</td>\n",
       "      <td>15634602</td>\n",
       "      <td>Hargrave</td>\n",
       "      <td>619</td>\n",
       "      <td>France</td>\n",
       "      <td>Female</td>\n",
       "      <td>42</td>\n",
       "      <td>2.0</td>\n",
       "      <td>0.00</td>\n",
       "      <td>1</td>\n",
       "      <td>1</td>\n",
       "      <td>1</td>\n",
       "      <td>101348.88</td>\n",
       "      <td>1</td>\n",
       "    </tr>\n",
       "    <tr>\n",
       "      <th>1</th>\n",
       "      <td>2</td>\n",
       "      <td>15647311</td>\n",
       "      <td>Hill</td>\n",
       "      <td>608</td>\n",
       "      <td>Spain</td>\n",
       "      <td>Female</td>\n",
       "      <td>41</td>\n",
       "      <td>1.0</td>\n",
       "      <td>83807.86</td>\n",
       "      <td>1</td>\n",
       "      <td>0</td>\n",
       "      <td>1</td>\n",
       "      <td>112542.58</td>\n",
       "      <td>0</td>\n",
       "    </tr>\n",
       "    <tr>\n",
       "      <th>2</th>\n",
       "      <td>3</td>\n",
       "      <td>15619304</td>\n",
       "      <td>Onio</td>\n",
       "      <td>502</td>\n",
       "      <td>France</td>\n",
       "      <td>Female</td>\n",
       "      <td>42</td>\n",
       "      <td>8.0</td>\n",
       "      <td>159660.80</td>\n",
       "      <td>3</td>\n",
       "      <td>1</td>\n",
       "      <td>0</td>\n",
       "      <td>113931.57</td>\n",
       "      <td>1</td>\n",
       "    </tr>\n",
       "    <tr>\n",
       "      <th>3</th>\n",
       "      <td>4</td>\n",
       "      <td>15701354</td>\n",
       "      <td>Boni</td>\n",
       "      <td>699</td>\n",
       "      <td>France</td>\n",
       "      <td>Female</td>\n",
       "      <td>39</td>\n",
       "      <td>1.0</td>\n",
       "      <td>0.00</td>\n",
       "      <td>2</td>\n",
       "      <td>0</td>\n",
       "      <td>0</td>\n",
       "      <td>93826.63</td>\n",
       "      <td>0</td>\n",
       "    </tr>\n",
       "    <tr>\n",
       "      <th>4</th>\n",
       "      <td>5</td>\n",
       "      <td>15737888</td>\n",
       "      <td>Mitchell</td>\n",
       "      <td>850</td>\n",
       "      <td>Spain</td>\n",
       "      <td>Female</td>\n",
       "      <td>43</td>\n",
       "      <td>2.0</td>\n",
       "      <td>125510.82</td>\n",
       "      <td>1</td>\n",
       "      <td>1</td>\n",
       "      <td>1</td>\n",
       "      <td>79084.10</td>\n",
       "      <td>0</td>\n",
       "    </tr>\n",
       "  </tbody>\n",
       "</table>\n",
       "</div>"
      ],
      "text/plain": [
       "   RowNumber  CustomerId   Surname  CreditScore Geography  Gender  Age  \\\n",
       "0          1    15634602  Hargrave          619    France  Female   42   \n",
       "1          2    15647311      Hill          608     Spain  Female   41   \n",
       "2          3    15619304      Onio          502    France  Female   42   \n",
       "3          4    15701354      Boni          699    France  Female   39   \n",
       "4          5    15737888  Mitchell          850     Spain  Female   43   \n",
       "\n",
       "   Tenure    Balance  NumOfProducts  HasCrCard  IsActiveMember  \\\n",
       "0     2.0       0.00              1          1               1   \n",
       "1     1.0   83807.86              1          0               1   \n",
       "2     8.0  159660.80              3          1               0   \n",
       "3     1.0       0.00              2          0               0   \n",
       "4     2.0  125510.82              1          1               1   \n",
       "\n",
       "   EstimatedSalary  Exited  \n",
       "0        101348.88       1  \n",
       "1        112542.58       0  \n",
       "2        113931.57       1  \n",
       "3         93826.63       0  \n",
       "4         79084.10       0  "
      ]
     },
     "execution_count": 101,
     "metadata": {},
     "output_type": "execute_result"
    }
   ],
   "source": [
    "df.head()"
   ]
  },
  {
   "cell_type": "code",
   "execution_count": 102,
   "id": "cf653f1d",
   "metadata": {},
   "outputs": [
    {
     "name": "stdout",
     "output_type": "stream",
     "text": [
      "<class 'pandas.core.frame.DataFrame'>\n",
      "RangeIndex: 10000 entries, 0 to 9999\n",
      "Data columns (total 14 columns):\n",
      " #   Column           Non-Null Count  Dtype  \n",
      "---  ------           --------------  -----  \n",
      " 0   RowNumber        10000 non-null  int64  \n",
      " 1   CustomerId       10000 non-null  int64  \n",
      " 2   Surname          10000 non-null  object \n",
      " 3   CreditScore      10000 non-null  int64  \n",
      " 4   Geography        10000 non-null  object \n",
      " 5   Gender           10000 non-null  object \n",
      " 6   Age              10000 non-null  int64  \n",
      " 7   Tenure           9091 non-null   float64\n",
      " 8   Balance          10000 non-null  float64\n",
      " 9   NumOfProducts    10000 non-null  int64  \n",
      " 10  HasCrCard        10000 non-null  int64  \n",
      " 11  IsActiveMember   10000 non-null  int64  \n",
      " 12  EstimatedSalary  10000 non-null  float64\n",
      " 13  Exited           10000 non-null  int64  \n",
      "dtypes: float64(3), int64(8), object(3)\n",
      "memory usage: 1.1+ MB\n"
     ]
    }
   ],
   "source": [
    "df.info()"
   ]
  },
  {
   "cell_type": "code",
   "execution_count": 103,
   "id": "96cda26f",
   "metadata": {},
   "outputs": [
    {
     "data": {
      "text/html": [
       "<div>\n",
       "<style scoped>\n",
       "    .dataframe tbody tr th:only-of-type {\n",
       "        vertical-align: middle;\n",
       "    }\n",
       "\n",
       "    .dataframe tbody tr th {\n",
       "        vertical-align: top;\n",
       "    }\n",
       "\n",
       "    .dataframe thead th {\n",
       "        text-align: right;\n",
       "    }\n",
       "</style>\n",
       "<table border=\"1\" class=\"dataframe\">\n",
       "  <thead>\n",
       "    <tr style=\"text-align: right;\">\n",
       "      <th></th>\n",
       "      <th>RowNumber</th>\n",
       "      <th>CustomerId</th>\n",
       "      <th>CreditScore</th>\n",
       "      <th>Age</th>\n",
       "      <th>Tenure</th>\n",
       "      <th>Balance</th>\n",
       "      <th>NumOfProducts</th>\n",
       "      <th>HasCrCard</th>\n",
       "      <th>IsActiveMember</th>\n",
       "      <th>EstimatedSalary</th>\n",
       "      <th>Exited</th>\n",
       "    </tr>\n",
       "  </thead>\n",
       "  <tbody>\n",
       "    <tr>\n",
       "      <th>count</th>\n",
       "      <td>10000.00000</td>\n",
       "      <td>1.000000e+04</td>\n",
       "      <td>10000.000000</td>\n",
       "      <td>10000.000000</td>\n",
       "      <td>9091.000000</td>\n",
       "      <td>10000.000000</td>\n",
       "      <td>10000.000000</td>\n",
       "      <td>10000.00000</td>\n",
       "      <td>10000.000000</td>\n",
       "      <td>10000.000000</td>\n",
       "      <td>10000.000000</td>\n",
       "    </tr>\n",
       "    <tr>\n",
       "      <th>mean</th>\n",
       "      <td>5000.50000</td>\n",
       "      <td>1.569094e+07</td>\n",
       "      <td>650.528800</td>\n",
       "      <td>38.921800</td>\n",
       "      <td>4.997690</td>\n",
       "      <td>76485.889288</td>\n",
       "      <td>1.530200</td>\n",
       "      <td>0.70550</td>\n",
       "      <td>0.515100</td>\n",
       "      <td>100090.239881</td>\n",
       "      <td>0.203700</td>\n",
       "    </tr>\n",
       "    <tr>\n",
       "      <th>std</th>\n",
       "      <td>2886.89568</td>\n",
       "      <td>7.193619e+04</td>\n",
       "      <td>96.653299</td>\n",
       "      <td>10.487806</td>\n",
       "      <td>2.894723</td>\n",
       "      <td>62397.405202</td>\n",
       "      <td>0.581654</td>\n",
       "      <td>0.45584</td>\n",
       "      <td>0.499797</td>\n",
       "      <td>57510.492818</td>\n",
       "      <td>0.402769</td>\n",
       "    </tr>\n",
       "    <tr>\n",
       "      <th>min</th>\n",
       "      <td>1.00000</td>\n",
       "      <td>1.556570e+07</td>\n",
       "      <td>350.000000</td>\n",
       "      <td>18.000000</td>\n",
       "      <td>0.000000</td>\n",
       "      <td>0.000000</td>\n",
       "      <td>1.000000</td>\n",
       "      <td>0.00000</td>\n",
       "      <td>0.000000</td>\n",
       "      <td>11.580000</td>\n",
       "      <td>0.000000</td>\n",
       "    </tr>\n",
       "    <tr>\n",
       "      <th>25%</th>\n",
       "      <td>2500.75000</td>\n",
       "      <td>1.562853e+07</td>\n",
       "      <td>584.000000</td>\n",
       "      <td>32.000000</td>\n",
       "      <td>2.000000</td>\n",
       "      <td>0.000000</td>\n",
       "      <td>1.000000</td>\n",
       "      <td>0.00000</td>\n",
       "      <td>0.000000</td>\n",
       "      <td>51002.110000</td>\n",
       "      <td>0.000000</td>\n",
       "    </tr>\n",
       "    <tr>\n",
       "      <th>50%</th>\n",
       "      <td>5000.50000</td>\n",
       "      <td>1.569074e+07</td>\n",
       "      <td>652.000000</td>\n",
       "      <td>37.000000</td>\n",
       "      <td>5.000000</td>\n",
       "      <td>97198.540000</td>\n",
       "      <td>1.000000</td>\n",
       "      <td>1.00000</td>\n",
       "      <td>1.000000</td>\n",
       "      <td>100193.915000</td>\n",
       "      <td>0.000000</td>\n",
       "    </tr>\n",
       "    <tr>\n",
       "      <th>75%</th>\n",
       "      <td>7500.25000</td>\n",
       "      <td>1.575323e+07</td>\n",
       "      <td>718.000000</td>\n",
       "      <td>44.000000</td>\n",
       "      <td>7.000000</td>\n",
       "      <td>127644.240000</td>\n",
       "      <td>2.000000</td>\n",
       "      <td>1.00000</td>\n",
       "      <td>1.000000</td>\n",
       "      <td>149388.247500</td>\n",
       "      <td>0.000000</td>\n",
       "    </tr>\n",
       "    <tr>\n",
       "      <th>max</th>\n",
       "      <td>10000.00000</td>\n",
       "      <td>1.581569e+07</td>\n",
       "      <td>850.000000</td>\n",
       "      <td>92.000000</td>\n",
       "      <td>10.000000</td>\n",
       "      <td>250898.090000</td>\n",
       "      <td>4.000000</td>\n",
       "      <td>1.00000</td>\n",
       "      <td>1.000000</td>\n",
       "      <td>199992.480000</td>\n",
       "      <td>1.000000</td>\n",
       "    </tr>\n",
       "  </tbody>\n",
       "</table>\n",
       "</div>"
      ],
      "text/plain": [
       "         RowNumber    CustomerId   CreditScore           Age       Tenure  \\\n",
       "count  10000.00000  1.000000e+04  10000.000000  10000.000000  9091.000000   \n",
       "mean    5000.50000  1.569094e+07    650.528800     38.921800     4.997690   \n",
       "std     2886.89568  7.193619e+04     96.653299     10.487806     2.894723   \n",
       "min        1.00000  1.556570e+07    350.000000     18.000000     0.000000   \n",
       "25%     2500.75000  1.562853e+07    584.000000     32.000000     2.000000   \n",
       "50%     5000.50000  1.569074e+07    652.000000     37.000000     5.000000   \n",
       "75%     7500.25000  1.575323e+07    718.000000     44.000000     7.000000   \n",
       "max    10000.00000  1.581569e+07    850.000000     92.000000    10.000000   \n",
       "\n",
       "             Balance  NumOfProducts    HasCrCard  IsActiveMember  \\\n",
       "count   10000.000000   10000.000000  10000.00000    10000.000000   \n",
       "mean    76485.889288       1.530200      0.70550        0.515100   \n",
       "std     62397.405202       0.581654      0.45584        0.499797   \n",
       "min         0.000000       1.000000      0.00000        0.000000   \n",
       "25%         0.000000       1.000000      0.00000        0.000000   \n",
       "50%     97198.540000       1.000000      1.00000        1.000000   \n",
       "75%    127644.240000       2.000000      1.00000        1.000000   \n",
       "max    250898.090000       4.000000      1.00000        1.000000   \n",
       "\n",
       "       EstimatedSalary        Exited  \n",
       "count     10000.000000  10000.000000  \n",
       "mean     100090.239881      0.203700  \n",
       "std       57510.492818      0.402769  \n",
       "min          11.580000      0.000000  \n",
       "25%       51002.110000      0.000000  \n",
       "50%      100193.915000      0.000000  \n",
       "75%      149388.247500      0.000000  \n",
       "max      199992.480000      1.000000  "
      ]
     },
     "execution_count": 103,
     "metadata": {},
     "output_type": "execute_result"
    }
   ],
   "source": [
    "df.describe()"
   ]
  },
  {
   "cell_type": "code",
   "execution_count": 104,
   "id": "090bfaac",
   "metadata": {},
   "outputs": [],
   "source": [
    "df.loc[df['Tenure'].isna(), 'Tenure'] = df['Tenure'].median()"
   ]
  },
  {
   "cell_type": "code",
   "execution_count": 105,
   "id": "cd2e7f08",
   "metadata": {},
   "outputs": [
    {
     "data": {
      "text/plain": [
       "0"
      ]
     },
     "execution_count": 105,
     "metadata": {},
     "output_type": "execute_result"
    }
   ],
   "source": [
    "df['Tenure'].isna().sum()"
   ]
  },
  {
   "cell_type": "markdown",
   "id": "c2336894",
   "metadata": {},
   "source": [
    "Так как столбец \"Tenure\" практически никак не коррелирует с фактом ухода клиента, было решено совсем не использовать этот столбец в анализе."
   ]
  },
  {
   "cell_type": "code",
   "execution_count": 106,
   "id": "e841f426",
   "metadata": {},
   "outputs": [],
   "source": [
    "df = df.drop(['Surname', 'RowNumber', 'CustomerId'], axis=1)"
   ]
  },
  {
   "cell_type": "code",
   "execution_count": 107,
   "id": "d8727cb5",
   "metadata": {},
   "outputs": [],
   "source": [
    "df = pd.get_dummies(df, drop_first=True)"
   ]
  },
  {
   "cell_type": "code",
   "execution_count": 108,
   "id": "4a49a7b8",
   "metadata": {
    "scrolled": true
   },
   "outputs": [
    {
     "data": {
      "text/html": [
       "<div>\n",
       "<style scoped>\n",
       "    .dataframe tbody tr th:only-of-type {\n",
       "        vertical-align: middle;\n",
       "    }\n",
       "\n",
       "    .dataframe tbody tr th {\n",
       "        vertical-align: top;\n",
       "    }\n",
       "\n",
       "    .dataframe thead th {\n",
       "        text-align: right;\n",
       "    }\n",
       "</style>\n",
       "<table border=\"1\" class=\"dataframe\">\n",
       "  <thead>\n",
       "    <tr style=\"text-align: right;\">\n",
       "      <th></th>\n",
       "      <th>CreditScore</th>\n",
       "      <th>Age</th>\n",
       "      <th>Tenure</th>\n",
       "      <th>Balance</th>\n",
       "      <th>NumOfProducts</th>\n",
       "      <th>HasCrCard</th>\n",
       "      <th>IsActiveMember</th>\n",
       "      <th>EstimatedSalary</th>\n",
       "      <th>Exited</th>\n",
       "      <th>Geography_Germany</th>\n",
       "      <th>Geography_Spain</th>\n",
       "      <th>Gender_Male</th>\n",
       "    </tr>\n",
       "  </thead>\n",
       "  <tbody>\n",
       "    <tr>\n",
       "      <th>0</th>\n",
       "      <td>619</td>\n",
       "      <td>42</td>\n",
       "      <td>2.0</td>\n",
       "      <td>0.00</td>\n",
       "      <td>1</td>\n",
       "      <td>1</td>\n",
       "      <td>1</td>\n",
       "      <td>101348.88</td>\n",
       "      <td>1</td>\n",
       "      <td>0</td>\n",
       "      <td>0</td>\n",
       "      <td>0</td>\n",
       "    </tr>\n",
       "    <tr>\n",
       "      <th>1</th>\n",
       "      <td>608</td>\n",
       "      <td>41</td>\n",
       "      <td>1.0</td>\n",
       "      <td>83807.86</td>\n",
       "      <td>1</td>\n",
       "      <td>0</td>\n",
       "      <td>1</td>\n",
       "      <td>112542.58</td>\n",
       "      <td>0</td>\n",
       "      <td>0</td>\n",
       "      <td>1</td>\n",
       "      <td>0</td>\n",
       "    </tr>\n",
       "    <tr>\n",
       "      <th>2</th>\n",
       "      <td>502</td>\n",
       "      <td>42</td>\n",
       "      <td>8.0</td>\n",
       "      <td>159660.80</td>\n",
       "      <td>3</td>\n",
       "      <td>1</td>\n",
       "      <td>0</td>\n",
       "      <td>113931.57</td>\n",
       "      <td>1</td>\n",
       "      <td>0</td>\n",
       "      <td>0</td>\n",
       "      <td>0</td>\n",
       "    </tr>\n",
       "    <tr>\n",
       "      <th>3</th>\n",
       "      <td>699</td>\n",
       "      <td>39</td>\n",
       "      <td>1.0</td>\n",
       "      <td>0.00</td>\n",
       "      <td>2</td>\n",
       "      <td>0</td>\n",
       "      <td>0</td>\n",
       "      <td>93826.63</td>\n",
       "      <td>0</td>\n",
       "      <td>0</td>\n",
       "      <td>0</td>\n",
       "      <td>0</td>\n",
       "    </tr>\n",
       "    <tr>\n",
       "      <th>4</th>\n",
       "      <td>850</td>\n",
       "      <td>43</td>\n",
       "      <td>2.0</td>\n",
       "      <td>125510.82</td>\n",
       "      <td>1</td>\n",
       "      <td>1</td>\n",
       "      <td>1</td>\n",
       "      <td>79084.10</td>\n",
       "      <td>0</td>\n",
       "      <td>0</td>\n",
       "      <td>1</td>\n",
       "      <td>0</td>\n",
       "    </tr>\n",
       "  </tbody>\n",
       "</table>\n",
       "</div>"
      ],
      "text/plain": [
       "   CreditScore  Age  Tenure    Balance  NumOfProducts  HasCrCard  \\\n",
       "0          619   42     2.0       0.00              1          1   \n",
       "1          608   41     1.0   83807.86              1          0   \n",
       "2          502   42     8.0  159660.80              3          1   \n",
       "3          699   39     1.0       0.00              2          0   \n",
       "4          850   43     2.0  125510.82              1          1   \n",
       "\n",
       "   IsActiveMember  EstimatedSalary  Exited  Geography_Germany  \\\n",
       "0               1        101348.88       1                  0   \n",
       "1               1        112542.58       0                  0   \n",
       "2               0        113931.57       1                  0   \n",
       "3               0         93826.63       0                  0   \n",
       "4               1         79084.10       0                  0   \n",
       "\n",
       "   Geography_Spain  Gender_Male  \n",
       "0                0            0  \n",
       "1                1            0  \n",
       "2                0            0  \n",
       "3                0            0  \n",
       "4                1            0  "
      ]
     },
     "execution_count": 108,
     "metadata": {},
     "output_type": "execute_result"
    }
   ],
   "source": [
    "df.head()"
   ]
  },
  {
   "cell_type": "markdown",
   "id": "71acf8f1",
   "metadata": {},
   "source": [
    "Был проанализирован предоставленный датасет. В данных присутствует дисбаланс классов. Так как количество 1 в столбце \"Exited\" равно всего 20%, это следует учесть при обучении модели. Также в столбце \"Tenure\" имеются пропуски в количестве почти 10% от всех данных. Просто удалить строки с пропусками в этом столбце было бы некорректно, так как достаточно большой объем. Поэтому сделал проверку на корреляцию этого признака с целевым признаком, и оказалось, что он совсем никак не влияет на результат. Исходя из этого, данный столбец было решено совсем удалить и не использовать далее. То же самое с фамилиями клиентов, в дальнейшем анализе он не участвовал."
   ]
  },
  {
   "cell_type": "markdown",
   "id": "091fbb6e",
   "metadata": {},
   "source": [
    "## Разбивка на выборки и обучение моделей без учета дисбаланса классов"
   ]
  },
  {
   "cell_type": "code",
   "execution_count": 109,
   "id": "19031726",
   "metadata": {},
   "outputs": [],
   "source": [
    "features = df.drop('Exited', axis=1)\n",
    "target = df['Exited']\n",
    "features_train, features_valid, target_train, target_valid = train_test_split(features,\n",
    "                                                                              target,\n",
    "                                                                              test_size=0.3,\n",
    "                                                                              random_state=12345,\n",
    "                                                                              stratify=target)"
   ]
  },
  {
   "cell_type": "code",
   "execution_count": 110,
   "id": "4c8d2778",
   "metadata": {},
   "outputs": [],
   "source": [
    "features_valid, features_test, target_valid, target_test = train_test_split(features_valid,\n",
    "                                                                            target_valid,\n",
    "                                                                            test_size=0.5,\n",
    "                                                                            random_state=12345,\n",
    "                                                                            stratify=target_valid)"
   ]
  },
  {
   "cell_type": "code",
   "execution_count": 112,
   "id": "71b4c979",
   "metadata": {
    "scrolled": true
   },
   "outputs": [],
   "source": [
    "#ohe = OneHotEncoder()\n",
    "#features_train = ohe.fit_transform(features_train)\n",
    "#features_train"
   ]
  },
  {
   "cell_type": "markdown",
   "id": "8d2ae0bd",
   "metadata": {},
   "source": [
    "Данные были разбиты на выборки в отношении 70%-15%-15% (train-valid-test)."
   ]
  },
  {
   "cell_type": "code",
   "execution_count": 113,
   "id": "b8d8dc88",
   "metadata": {},
   "outputs": [
    {
     "name": "stdout",
     "output_type": "stream",
     "text": [
      "(7000, 11)\n",
      "(1500, 11)\n",
      "(1500, 11)\n"
     ]
    }
   ],
   "source": [
    "print(features_train.shape)\n",
    "print(features_valid.shape)\n",
    "print(features_test.shape)"
   ]
  },
  {
   "cell_type": "code",
   "execution_count": 114,
   "id": "23505042",
   "metadata": {},
   "outputs": [],
   "source": [
    "scaler = StandardScaler()\n",
    "scaler.fit(features_train)\n",
    "features_train = scaler.transform(features_train)\n",
    "features_valid = scaler.transform(features_valid)\n",
    "features_test = scaler.transform(features_test)"
   ]
  },
  {
   "cell_type": "code",
   "execution_count": 115,
   "id": "6ce5356f",
   "metadata": {},
   "outputs": [
    {
     "name": "stdout",
     "output_type": "stream",
     "text": [
      "Wall time: 19.8 ms\n"
     ]
    },
    {
     "data": {
      "text/plain": [
       "0.25757575757575757"
      ]
     },
     "execution_count": 115,
     "metadata": {},
     "output_type": "execute_result"
    }
   ],
   "source": [
    "%%time\n",
    "\n",
    "model_log_disbalanced = LogisticRegression(random_state=12345, solver='liblinear')\n",
    "model_log_disbalanced.fit(features_train, target_train)\n",
    "predicted = model_log_disbalanced.predict(features_valid)\n",
    "f1_log = f1_score(target_valid, predicted)\n",
    "f1_log"
   ]
  },
  {
   "cell_type": "code",
   "execution_count": 116,
   "id": "bc8be157",
   "metadata": {},
   "outputs": [
    {
     "name": "stdout",
     "output_type": "stream",
     "text": [
      "0.7714224718363056\n"
     ]
    }
   ],
   "source": [
    "probabilities_valid = model_log_disbalanced.predict_proba(features_valid)\n",
    "probabilities_one_valid = probabilities_valid[:, 1]\n",
    "\n",
    "auc_roc = roc_auc_score(target_valid, probabilities_one_valid)\n",
    "print(auc_roc)"
   ]
  },
  {
   "cell_type": "code",
   "execution_count": 117,
   "id": "f1b64d08",
   "metadata": {},
   "outputs": [
    {
     "name": "stdout",
     "output_type": "stream",
     "text": [
      "0.5253164556962024 31\n",
      "Wall time: 865 ms\n"
     ]
    }
   ],
   "source": [
    "%%time\n",
    "\n",
    "score=0\n",
    "best_depth=0\n",
    "\n",
    "for depth in range(1, 140, 10):\n",
    "    model_dt_disbalanced = DecisionTreeClassifier(random_state=12345, max_depth=depth)\n",
    "    model_dt_disbalanced.fit(features_train, target_train)\n",
    "    predicted = model_dt_disbalanced.predict(features_valid)\n",
    "    f1_dt = f1_score(target_valid, predicted)\n",
    "    if f1_dt > score:\n",
    "        score = f1_dt\n",
    "        best_depth = depth\n",
    "print(score, best_depth)"
   ]
  },
  {
   "cell_type": "code",
   "execution_count": 118,
   "id": "cc6a6a2f",
   "metadata": {},
   "outputs": [
    {
     "name": "stdout",
     "output_type": "stream",
     "text": [
      "0.7042401550234834\n"
     ]
    }
   ],
   "source": [
    "probabilities_valid = model_dt_disbalanced.predict_proba(features_valid)\n",
    "probabilities_one_valid = probabilities_valid[:, 1]\n",
    "\n",
    "auc_roc = roc_auc_score(target_valid, probabilities_one_valid)\n",
    "print(auc_roc)"
   ]
  },
  {
   "cell_type": "code",
   "execution_count": 119,
   "id": "b3472cd1",
   "metadata": {},
   "outputs": [
    {
     "name": "stdout",
     "output_type": "stream",
     "text": [
      "0.5743801652892562 31\n",
      "0.5865580448065173 111\n",
      "Wall time: 36 s\n"
     ]
    }
   ],
   "source": [
    "%%time\n",
    "\n",
    "score=0\n",
    "best_depth=0\n",
    "\n",
    "for depth in range(1, 140, 10):\n",
    "    model_rf_disbalanced = RandomForestClassifier(random_state=12345, max_depth=depth)\n",
    "    model_rf_disbalanced.fit(features_train, target_train)\n",
    "    predicted = model_rf_disbalanced.predict(features_valid)\n",
    "    f1_rf = f1_score(target_valid, predicted)\n",
    "    if f1_rf > score:\n",
    "        score = f1_rf\n",
    "        best_depth = depth\n",
    "print(score, best_depth)\n",
    "\n",
    "score=0\n",
    "best_est=0\n",
    "\n",
    "for est in range(1, 140, 10):\n",
    "    model_rf_disbalanced = RandomForestClassifier(random_state=12345, max_depth=best_depth, n_estimators=est)\n",
    "    model_rf_disbalanced.fit(features_train, target_train)\n",
    "    predicted = model_rf_disbalanced.predict(features_valid)\n",
    "    f1_rf = f1_score(target_valid, predicted)\n",
    "    if f1_rf > score:\n",
    "        score = f1_rf\n",
    "        best_est = est\n",
    "print(score, best_est)"
   ]
  },
  {
   "cell_type": "code",
   "execution_count": 120,
   "id": "c15f2fa2",
   "metadata": {},
   "outputs": [
    {
     "name": "stdout",
     "output_type": "stream",
     "text": [
      "0.8589762538181103\n"
     ]
    },
    {
     "data": {
      "image/png": "[encoded data removed]",
      "text/plain": [
       "<Figure size 640x480 with 1 Axes>"
      ]
     },
     "metadata": {},
     "output_type": "display_data"
    }
   ],
   "source": [
    "probabilities_valid = model_rf_disbalanced.predict_proba(features_valid)\n",
    "probabilities_one_valid = probabilities_valid[:, 1]\n",
    "\n",
    "auc_roc = roc_auc_score(target_valid, probabilities_one_valid)\n",
    "print(auc_roc)\n",
    "\n",
    "fpr, tpr, thresholds = roc_curve(target_valid, probabilities_one_valid)\n",
    "plt.figure()\n",
    "plt.plot(fpr, tpr, linestyle='-')\n",
    "plt.plot([0, 1], [0, 1], linestyle='--')\n",
    "plt.xlim(0, 1)\n",
    "plt.ylim(0, 1)\n",
    "plt.xlabel('False Positive Rate')\n",
    "plt.ylabel('True Positive Rate')\n",
    "plt.title('ROC-кривая')\n",
    "plt.show()"
   ]
  },
  {
   "cell_type": "markdown",
   "id": "0ff679d9",
   "metadata": {},
   "source": [
    "Максимальный результ f1-меры был получен моделью - Случайный лес, с max_depth =  31 и n_estimators = 111. И был равен 0.586. auc_roc = 0.858. Также можно отметить, что модель логистической регрессии здесь точно не подходит, так как результат у нее равен 0.25, и модель дерева решений показало себя слабее, с результатом равным 0.52"
   ]
  },
  {
   "cell_type": "markdown",
   "id": "548ca494",
   "metadata": {},
   "source": [
    "## Анализ моделей, с учетом дисбаланса классов"
   ]
  },
  {
   "cell_type": "markdown",
   "id": "07eaa7dc",
   "metadata": {},
   "source": [
    "Далее будет провезен анализ с учетом дисбаланса классов"
   ]
  },
  {
   "cell_type": "code",
   "execution_count": 59,
   "id": "4b24bd8d",
   "metadata": {
    "scrolled": true
   },
   "outputs": [],
   "source": [
    "#features_train = pd.DataFrame(data=features_train, columns=df.columns.drop('Exited'))\n",
    "#target_train = pd.DataFrame(data=target_train, columns=['Exited'])"
   ]
  },
  {
   "cell_type": "markdown",
   "id": "4ac8f5fa",
   "metadata": {},
   "source": [
    "### Метод class_weight='balanced'"
   ]
  },
  {
   "cell_type": "code",
   "execution_count": 74,
   "id": "2d53699c",
   "metadata": {},
   "outputs": [],
   "source": [
    "#features_train = features_train.drop('index', axis=1)\n",
    "#target_train = target_train.drop('index', axis=1)"
   ]
  },
  {
   "cell_type": "markdown",
   "id": "e64c9085",
   "metadata": {},
   "source": [
    "#### Логистическая регрессия"
   ]
  },
  {
   "cell_type": "code",
   "execution_count": 121,
   "id": "c02c7c1d",
   "metadata": {},
   "outputs": [
    {
     "name": "stdout",
     "output_type": "stream",
     "text": [
      "Wall time: 18.1 ms\n"
     ]
    },
    {
     "data": {
      "text/plain": [
       "0.5063879210220673"
      ]
     },
     "execution_count": 121,
     "metadata": {},
     "output_type": "execute_result"
    }
   ],
   "source": [
    "%%time\n",
    "\n",
    "model_log_balanced = LogisticRegression(random_state=12345, solver='liblinear', class_weight='balanced')\n",
    "model_log_balanced.fit(features_train, target_train)\n",
    "predicted = model_log_balanced.predict(features_valid)\n",
    "f1_log = f1_score(target_valid, predicted)\n",
    "f1_log"
   ]
  },
  {
   "cell_type": "code",
   "execution_count": 122,
   "id": "8aad4dc7",
   "metadata": {
    "scrolled": true
   },
   "outputs": [
    {
     "name": "stdout",
     "output_type": "stream",
     "text": [
      "0.7791873309904643\n"
     ]
    }
   ],
   "source": [
    "probabilities_valid = model_log_balanced.predict_proba(features_valid)\n",
    "probabilities_one_valid = probabilities_valid[:, 1]\n",
    "\n",
    "auc_roc = roc_auc_score(target_valid, probabilities_one_valid)\n",
    "print(auc_roc)"
   ]
  },
  {
   "cell_type": "markdown",
   "id": "47d9ea95",
   "metadata": {},
   "source": [
    "#### Дерево решений"
   ]
  },
  {
   "cell_type": "code",
   "execution_count": null,
   "id": "c9431af3",
   "metadata": {},
   "outputs": [],
   "source": [
    "#подбор гиперпараметров\n",
    "'''\n",
    "%%time\n",
    "\n",
    "score=0\n",
    "best_depth=0\n",
    "\n",
    "for depth in range(1, 140, 10):\n",
    "    model_dt_disbalanced = DecisionTreeClassifier(random_state=12345, max_depth=depth, class_weight='balanced')\n",
    "    model_dt_disbalanced.fit(features_train, target_train)\n",
    "    predicted = model_dt_disbalanced.predict(features_valid)\n",
    "    f1_dt = f1_score(target_valid, predicted)\n",
    "    if f1_dt > score:\n",
    "        score = f1_dt\n",
    "        best_depth = depth\n",
    "print(score, best_depth)\n",
    "'''"
   ]
  },
  {
   "cell_type": "code",
   "execution_count": 123,
   "id": "fe91ec2e",
   "metadata": {},
   "outputs": [
    {
     "data": {
      "text/plain": [
       "0.5375170532060027"
      ]
     },
     "execution_count": 123,
     "metadata": {},
     "output_type": "execute_result"
    }
   ],
   "source": [
    "model_dt_balanced = DecisionTreeClassifier(random_state=12345, max_depth=11, class_weight='balanced')\n",
    "model_dt_balanced.fit(features_train, target_train)\n",
    "predicted = model_dt_balanced.predict(features_valid)\n",
    "f1_dt = f1_score(target_valid, predicted)\n",
    "f1_dt"
   ]
  },
  {
   "cell_type": "code",
   "execution_count": 124,
   "id": "7c242a2c",
   "metadata": {
    "scrolled": true
   },
   "outputs": [
    {
     "name": "stdout",
     "output_type": "stream",
     "text": [
      "0.7791873309904643\n"
     ]
    }
   ],
   "source": [
    "probabilities_valid = model_log_balanced.predict_proba(features_valid)\n",
    "probabilities_one_valid = probabilities_valid[:, 1]\n",
    "\n",
    "auc_roc = roc_auc_score(target_valid, probabilities_one_valid)\n",
    "print(auc_roc)"
   ]
  },
  {
   "cell_type": "markdown",
   "id": "0fc7c23e",
   "metadata": {},
   "source": [
    "#### Случайный лес"
   ]
  },
  {
   "cell_type": "code",
   "execution_count": 143,
   "id": "5dcaa8ee",
   "metadata": {
    "scrolled": true
   },
   "outputs": [
    {
     "data": {
      "text/plain": [
       "0.6354319180087847"
      ]
     },
     "execution_count": 143,
     "metadata": {},
     "output_type": "execute_result"
    }
   ],
   "source": [
    "#подбор гиперпараметров\n",
    "'''\n",
    "%%time\n",
    "\n",
    "score = 0\n",
    "depth = 0\n",
    "for depth in range(1, 40, 1):\n",
    "    model_rf = RandomForestClassifier(random_state=12345, max_depth=depth, class_weight='balanced')\n",
    "    model_rf.fit(features_train, target_train)\n",
    "    predict_rf = model_rf.predict(features_valid)\n",
    "    f1_rf = f1_score(target_valid, predict_rf)\n",
    "    if f1_rf > score:\n",
    "        score = f1_rf\n",
    "        best_depth = depth\n",
    "        \n",
    "print(score, best_depth)\n",
    "\n",
    "score = 0\n",
    "est = 0\n",
    "for est in range(1, 200, 10):\n",
    "    model_rf = RandomForestClassifier(random_state=12345, max_depth=best_depth, n_estimators=est, class_weight='balanced')\n",
    "    model_rf.fit(features_train, target_train)\n",
    "    predict_rf = model_rf.predict(features_valid)\n",
    "    f1_rf = f1_score(target_valid, predict_rf)\n",
    "    if f1_rf > score:\n",
    "        score = f1_rf\n",
    "        best_est = est\n",
    "        \n",
    "print(score, best_est)\n",
    "'''\n",
    "\n",
    "model_rf = RandomForestClassifier(random_state=12345, max_depth=8, n_estimators=121, class_weight='balanced')\n",
    "model_rf.fit(features_train, target_train)\n",
    "predict_rf = model_rf.predict(features_valid)\n",
    "f1_rf = f1_score(target_valid, predict_rf)\n",
    "f1_rf"
   ]
  },
  {
   "cell_type": "code",
   "execution_count": 144,
   "id": "5ec85f76",
   "metadata": {},
   "outputs": [
    {
     "data": {
      "text/plain": [
       "0.868104137243954"
      ]
     },
     "execution_count": 144,
     "metadata": {},
     "output_type": "execute_result"
    }
   ],
   "source": [
    "probabilities_valid = model_rf.predict_proba(features_valid)\n",
    "probabilities_one_valid = probabilities_valid[:, 1]\n",
    "\n",
    "auc_roc = roc_auc_score(target_valid, probabilities_one_valid)\n",
    "auc_roc"
   ]
  },
  {
   "cell_type": "code",
   "execution_count": 145,
   "id": "ef542025",
   "metadata": {},
   "outputs": [
    {
     "data": {
      "image/png": "[encoded data removed]",
      "text/plain": [
       "<Figure size 640x480 with 1 Axes>"
      ]
     },
     "metadata": {},
     "output_type": "display_data"
    }
   ],
   "source": [
    "fpr, tpr, thresholds = roc_curve(target_valid, probabilities_one_valid)\n",
    "plt.figure()\n",
    "plt.plot(fpr, tpr, linestyle='-')\n",
    "plt.plot([0, 1], [0, 1], linestyle='--')\n",
    "plt.xlim(0, 1)\n",
    "plt.ylim(0, 1)\n",
    "plt.xlabel('False Positive Rate')\n",
    "plt.ylabel('True Positive Rate')\n",
    "plt.title('ROC-кривая')\n",
    "plt.show()"
   ]
  },
  {
   "cell_type": "markdown",
   "id": "352cd964",
   "metadata": {},
   "source": [
    "### Метод upsample"
   ]
  },
  {
   "cell_type": "code",
   "execution_count": 133,
   "id": "2bc68661",
   "metadata": {},
   "outputs": [],
   "source": [
    "features = df.drop('Exited', axis=1)\n",
    "target = df['Exited']\n",
    "features_train, features_valid, target_train, target_valid = train_test_split(features,\n",
    "                                                                              target,\n",
    "                                                                              test_size=0.3,\n",
    "                                                                              random_state=12345,\n",
    "                                                                              stratify=target)\n",
    "\n",
    "features_valid, features_test, target_valid, target_test = train_test_split(features_valid,\n",
    "                                                                            target_valid,\n",
    "                                                                            test_size=0.5,\n",
    "                                                                            random_state=12345,\n",
    "                                                                            stratify=target_valid)"
   ]
  },
  {
   "cell_type": "code",
   "execution_count": 134,
   "id": "4206d043",
   "metadata": {},
   "outputs": [],
   "source": [
    "def upsample(features, target, repeat):\n",
    "    features_zeros = features[target == 0]\n",
    "    features_ones = features[target == 1]\n",
    "    target_zeros = target[target == 0]\n",
    "    target_ones = target[target == 1]\n",
    "\n",
    "    features_upsampled = pd.concat([features_zeros] + [features_ones] * repeat)\n",
    "    target_upsampled = pd.concat([target_zeros] + [target_ones] * repeat)\n",
    "    \n",
    "    features_upsampled, target_upsampled = shuffle(\n",
    "        features_upsampled, target_upsampled, random_state=12345)\n",
    "    \n",
    "    return features_upsampled, target_upsampled\n",
    "\n",
    "features_upsampled, target_upsampled = upsample(features_train, target_train, 5)"
   ]
  },
  {
   "cell_type": "markdown",
   "id": "b9a7c963",
   "metadata": {},
   "source": [
    "#### Логистическая регрессия"
   ]
  },
  {
   "cell_type": "code",
   "execution_count": 135,
   "id": "3e103dad",
   "metadata": {},
   "outputs": [
    {
     "name": "stdout",
     "output_type": "stream",
     "text": [
      "Wall time: 107 ms\n"
     ]
    },
    {
     "data": {
      "text/plain": [
       "0.44109831709477415"
      ]
     },
     "execution_count": 135,
     "metadata": {},
     "output_type": "execute_result"
    }
   ],
   "source": [
    "%%time\n",
    "\n",
    "model_log_balanced = LogisticRegression(random_state=12345, solver='liblinear')\n",
    "model_log_balanced.fit(features_upsampled, target_upsampled)\n",
    "predicted = model_log_balanced.predict(features_valid)\n",
    "f1_log = f1_score(target_valid, predicted)\n",
    "f1_log"
   ]
  },
  {
   "cell_type": "code",
   "execution_count": 136,
   "id": "c4552c0f",
   "metadata": {},
   "outputs": [
    {
     "name": "stdout",
     "output_type": "stream",
     "text": [
      "0.72544366713743\n"
     ]
    }
   ],
   "source": [
    "probabilities_valid = model_log_balanced.predict_proba(features_valid)\n",
    "probabilities_one_valid = probabilities_valid[:, 1]\n",
    "\n",
    "auc_roc = roc_auc_score(target_valid, probabilities_one_valid)\n",
    "print(auc_roc)"
   ]
  },
  {
   "cell_type": "markdown",
   "id": "4f67848e",
   "metadata": {},
   "source": [
    "#### Дерево решений"
   ]
  },
  {
   "cell_type": "code",
   "execution_count": 137,
   "id": "0ed60ca0",
   "metadata": {},
   "outputs": [
    {
     "data": {
      "text/plain": [
       "0.553306342780027"
      ]
     },
     "execution_count": 137,
     "metadata": {},
     "output_type": "execute_result"
    }
   ],
   "source": [
    "model_dt_balanced = DecisionTreeClassifier(random_state=12345, max_depth=11)\n",
    "model_dt_balanced.fit(features_upsampled, target_upsampled)\n",
    "predicted = model_dt_balanced.predict(features_valid)\n",
    "f1_dt = f1_score(target_valid, predicted)\n",
    "f1_dt"
   ]
  },
  {
   "cell_type": "code",
   "execution_count": 138,
   "id": "fac01f08",
   "metadata": {},
   "outputs": [
    {
     "name": "stdout",
     "output_type": "stream",
     "text": [
      "0.72544366713743\n"
     ]
    }
   ],
   "source": [
    "probabilities_valid = model_log_balanced.predict_proba(features_valid)\n",
    "probabilities_one_valid = probabilities_valid[:, 1]\n",
    "\n",
    "auc_roc = roc_auc_score(target_valid, probabilities_one_valid)\n",
    "print(auc_roc)"
   ]
  },
  {
   "cell_type": "markdown",
   "id": "484d3f55",
   "metadata": {},
   "source": [
    "#### Случайный лес"
   ]
  },
  {
   "cell_type": "code",
   "execution_count": 140,
   "id": "cc8894e6",
   "metadata": {},
   "outputs": [
    {
     "name": "stdout",
     "output_type": "stream",
     "text": [
      "0.622286541244573 11\n",
      "0.6251808972503619 101\n",
      "Wall time: 2min 5s\n"
     ]
    },
    {
     "data": {
      "text/plain": [
       "\"\\nmodel_rf = RandomForestClassifier(random_state=12345, max_depth=8, n_estimators=121, class_weight='balanced')\\nmodel_rf.fit(features_train, target_train)\\npredict_rf = model_rf.predict(features_valid)\\nf1_rf = f1_score(target_valid, predict_rf)\\nf1_rf\\n\""
      ]
     },
     "execution_count": 140,
     "metadata": {},
     "output_type": "execute_result"
    }
   ],
   "source": [
    "%%time\n",
    "#подбор гиперпараметров\n",
    "\n",
    "\n",
    "score = 0\n",
    "depth = 0\n",
    "for depth in range(1, 40, 1):\n",
    "    model_rf = RandomForestClassifier(random_state=12345, max_depth=depth)\n",
    "    model_rf.fit(features_upsampled, target_upsampled)\n",
    "    predict_rf = model_rf.predict(features_valid)\n",
    "    f1_rf = f1_score(target_valid, predict_rf)\n",
    "    if f1_rf > score:\n",
    "        score = f1_rf\n",
    "        best_depth = depth\n",
    "        \n",
    "print(score, best_depth)\n",
    "\n",
    "score = 0\n",
    "est = 0\n",
    "for est in range(1, 200, 10):\n",
    "    model_rf = RandomForestClassifier(random_state=12345, max_depth=best_depth, n_estimators=est)\n",
    "    model_rf.fit(features_upsampled, target_upsampled)\n",
    "    predict_rf = model_rf.predict(features_valid)\n",
    "    f1_rf = f1_score(target_valid, predict_rf)\n",
    "    if f1_rf > score:\n",
    "        score = f1_rf\n",
    "        best_est = est\n",
    "        \n",
    "print(score, best_est)\n",
    "\n",
    "'''\n",
    "model_rf = RandomForestClassifier(random_state=12345, max_depth=8, n_estimators=121, class_weight='balanced')\n",
    "model_rf.fit(features_train, target_train)\n",
    "predict_rf = model_rf.predict(features_valid)\n",
    "f1_rf = f1_score(target_valid, predict_rf)\n",
    "f1_rf\n",
    "'''"
   ]
  },
  {
   "cell_type": "code",
   "execution_count": 141,
   "id": "dcac597b",
   "metadata": {},
   "outputs": [
    {
     "data": {
      "text/plain": [
       "0.8640479083872521"
      ]
     },
     "execution_count": 141,
     "metadata": {},
     "output_type": "execute_result"
    }
   ],
   "source": [
    "probabilities_valid = model_rf.predict_proba(features_valid)\n",
    "probabilities_one_valid = probabilities_valid[:, 1]\n",
    "\n",
    "auc_roc = roc_auc_score(target_valid, probabilities_one_valid)\n",
    "auc_roc"
   ]
  },
  {
   "cell_type": "code",
   "execution_count": 142,
   "id": "bc0d706f",
   "metadata": {},
   "outputs": [
    {
     "data": {
      "image/png": "[encoded data removed]",
      "text/plain": [
       "<Figure size 640x480 with 1 Axes>"
      ]
     },
     "metadata": {},
     "output_type": "display_data"
    }
   ],
   "source": [
    "fpr, tpr, thresholds = roc_curve(target_valid, probabilities_one_valid)\n",
    "plt.figure()\n",
    "plt.plot(fpr, tpr, linestyle='-')\n",
    "plt.plot([0, 1], [0, 1], linestyle='--')\n",
    "plt.xlim(0, 1)\n",
    "plt.ylim(0, 1)\n",
    "plt.xlabel('False Positive Rate')\n",
    "plt.ylabel('True Positive Rate')\n",
    "plt.title('ROC-кривая')\n",
    "plt.show()"
   ]
  },
  {
   "cell_type": "markdown",
   "id": "e5da1aa5",
   "metadata": {},
   "source": [
    "Теперь уже дисбаланс классов был учтен. После чего результат получился гораздо лучше: f1-мера = 0.64, auc_roc = 0.866"
   ]
  },
  {
   "cell_type": "code",
   "execution_count": 146,
   "id": "8d7ce77e",
   "metadata": {},
   "outputs": [],
   "source": [
    "features_train = pd.concat([features_train, features_valid])\n",
    "target_train = pd.concat([target_train, target_valid])"
   ]
  },
  {
   "cell_type": "markdown",
   "id": "3daa1b0c",
   "metadata": {},
   "source": [
    "## Финальное тестирование"
   ]
  },
  {
   "cell_type": "code",
   "execution_count": 147,
   "id": "b92ca885",
   "metadata": {},
   "outputs": [],
   "source": [
    "features_upsampled, target_upsampled = upsample(features_train, target_train, 5)"
   ]
  },
  {
   "cell_type": "code",
   "execution_count": 148,
   "id": "b1a6132d",
   "metadata": {},
   "outputs": [
    {
     "data": {
      "text/plain": [
       "0.6355140186915887"
      ]
     },
     "execution_count": 148,
     "metadata": {},
     "output_type": "execute_result"
    }
   ],
   "source": [
    "model_rf = RandomForestClassifier(random_state=12345, max_depth=8, n_estimators=121)\n",
    "model_rf.fit(features_upsampled, target_upsampled)\n",
    "predict_rf = model_rf.predict(features_test)\n",
    "f1_rf = f1_score(target_test, predict_rf)\n",
    "f1_rf"
   ]
  },
  {
   "cell_type": "code",
   "execution_count": 149,
   "id": "236d1f1a",
   "metadata": {},
   "outputs": [],
   "source": [
    "probabilities_valid = model_rf.predict_proba(features_test)\n",
    "probabilities_one_valid = probabilities_valid[:, 1]"
   ]
  },
  {
   "cell_type": "code",
   "execution_count": 150,
   "id": "5fb3a428",
   "metadata": {},
   "outputs": [
    {
     "data": {
      "text/plain": [
       "0.8736237053295836"
      ]
     },
     "execution_count": 150,
     "metadata": {},
     "output_type": "execute_result"
    }
   ],
   "source": [
    "auc_roc = roc_auc_score(target_test, probabilities_one_valid)\n",
    "auc_roc"
   ]
  },
  {
   "cell_type": "markdown",
   "id": "50d180dc",
   "metadata": {},
   "source": [
    "<div style=\"border:solid orange 2px; padding: 20px\"> \n",
    "\n",
    "## Вывод\n",
    "\n",
    "Изначально были предоставлены хорошие данные, в которых были пропуски только в столбце Tenure. Этот столбец был проверен на корреляцию с целевым признаком, после чего, было принято решение удалить этот столбец из анализа, так как он практически не коррелирует с целевым признаком. Также поступил со столбцом Surname.\n",
    "\n",
    "Далее, когда данные были подготовлены, они были разделены на выборки в соотношении 70-15-15. После чего были обучены модели логистической регрессии, дерева решений и случайного леса без учета дисбаланса. Лучшим результатом был случайный лес, где f1-мера = 0.56.\n",
    "\n",
    "Далее был учтен дисбаланс классов и уже была взята модель только случайной леса, и также проанализирована. Лучший результат f1-меры = 0.64.\n",
    "\n",
    "Далее выборки были еще немного доработаны\\\n",
    "В конечном итоге наилучшие результаты показала модель случайного леса. Лучший результат f1-меры получился равным 0.66, auc-roc = 0.869 \\\n",
    "Для достижения этого результата был использован метод увеличения выборки upsample, учтен дисбаланс классов (class_weight = 'balanced'), а также еще сильнее увеличена выборка за счет сложения тренировочной выборки и валидационной, после чего модель была обучена и протестирована сразу на тестовой выборке. Результат стал лучше, чем обучать только на тренировочной выборке."
   ]
  }
 ],
 "metadata": {
  "ExecuteTimeLog": [
   {
    "duration": 1574,
    "start_time": "2023-04-10T14:00:52.615Z"
   },
   {
    "duration": 113,
    "start_time": "2023-04-10T14:00:54.192Z"
   },
   {
    "duration": 19,
    "start_time": "2023-04-10T14:00:54.307Z"
   },
   {
    "duration": 13,
    "start_time": "2023-04-10T14:00:54.329Z"
   },
   {
    "duration": 49,
    "start_time": "2023-04-10T14:00:54.344Z"
   },
   {
    "duration": 9,
    "start_time": "2023-04-10T14:00:54.396Z"
   },
   {
    "duration": 10,
    "start_time": "2023-04-10T14:00:54.408Z"
   },
   {
    "duration": 5,
    "start_time": "2023-04-10T14:00:54.420Z"
   },
   {
    "duration": 3,
    "start_time": "2023-04-10T14:15:27.295Z"
   },
   {
    "duration": 96,
    "start_time": "2023-04-10T14:15:30.417Z"
   },
   {
    "duration": 15,
    "start_time": "2023-04-10T14:15:31.008Z"
   },
   {
    "duration": 13,
    "start_time": "2023-04-10T14:15:31.911Z"
   },
   {
    "duration": 42,
    "start_time": "2023-04-10T14:15:32.345Z"
   },
   {
    "duration": 11,
    "start_time": "2023-04-10T14:15:33.803Z"
   },
   {
    "duration": 5,
    "start_time": "2023-04-10T14:15:44.599Z"
   },
   {
    "duration": 5,
    "start_time": "2023-04-10T14:15:45.678Z"
   },
   {
    "duration": 6,
    "start_time": "2023-04-10T14:15:55.701Z"
   },
   {
    "duration": 5,
    "start_time": "2023-04-10T14:16:06.613Z"
   },
   {
    "duration": 2,
    "start_time": "2023-04-10T14:24:10.662Z"
   },
   {
    "duration": 2,
    "start_time": "2023-04-10T14:25:32.213Z"
   },
   {
    "duration": 122,
    "start_time": "2023-04-10T14:26:56.579Z"
   },
   {
    "duration": 16,
    "start_time": "2023-04-10T14:27:06.214Z"
   },
   {
    "duration": 9,
    "start_time": "2023-04-10T14:27:06.538Z"
   },
   {
    "duration": 3,
    "start_time": "2023-04-10T14:27:07.347Z"
   },
   {
    "duration": 17,
    "start_time": "2023-04-10T14:27:08.429Z"
   },
   {
    "duration": 3,
    "start_time": "2023-04-10T14:27:23.198Z"
   },
   {
    "duration": 66,
    "start_time": "2023-04-10T14:27:23.203Z"
   },
   {
    "duration": 0,
    "start_time": "2023-04-10T14:27:23.271Z"
   },
   {
    "duration": 0,
    "start_time": "2023-04-10T14:27:23.272Z"
   },
   {
    "duration": 0,
    "start_time": "2023-04-10T14:27:23.274Z"
   },
   {
    "duration": 0,
    "start_time": "2023-04-10T14:27:23.275Z"
   },
   {
    "duration": 0,
    "start_time": "2023-04-10T14:27:23.276Z"
   },
   {
    "duration": 0,
    "start_time": "2023-04-10T14:27:23.277Z"
   },
   {
    "duration": 0,
    "start_time": "2023-04-10T14:27:23.278Z"
   },
   {
    "duration": 0,
    "start_time": "2023-04-10T14:27:23.279Z"
   },
   {
    "duration": 0,
    "start_time": "2023-04-10T14:27:23.280Z"
   },
   {
    "duration": 0,
    "start_time": "2023-04-10T14:27:23.281Z"
   },
   {
    "duration": 3,
    "start_time": "2023-04-10T14:27:33.822Z"
   },
   {
    "duration": 14,
    "start_time": "2023-04-10T14:27:37.450Z"
   },
   {
    "duration": 24,
    "start_time": "2023-04-10T14:28:18.425Z"
   },
   {
    "duration": 4,
    "start_time": "2023-04-10T14:29:20.050Z"
   },
   {
    "duration": 62,
    "start_time": "2023-04-10T14:29:20.840Z"
   }
  ],
  "kernelspec": {
   "display_name": "Python 3 (ipykernel)",
   "language": "python",
   "name": "python3"
  },
  "language_info": {
   "codemirror_mode": {
    "name": "ipython",
    "version": 3
   },
   "file_extension": ".py",
   "mimetype": "text/x-python",
   "name": "python",
   "nbconvert_exporter": "python",
   "pygments_lexer": "ipython3",
   "version": "3.9.19"
  },
  "toc": {
   "base_numbering": 1,
   "nav_menu": {},
   "number_sections": true,
   "sideBar": true,
   "skip_h1_title": true,
   "title_cell": "Table of Contents",
   "title_sidebar": "Contents",
   "toc_cell": false,
   "toc_position": {},
   "toc_section_display": true,
   "toc_window_display": false
  }
 },
 "nbformat": 4,
 "nbformat_minor": 5
}
