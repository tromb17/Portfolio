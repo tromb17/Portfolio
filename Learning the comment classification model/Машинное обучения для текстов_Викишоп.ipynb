{
 "cells": [
  {
   "cell_type": "markdown",
   "id": "f24b4b66",
   "metadata": {},
   "source": [
    "# Проект для \"Викишоп\""
   ]
  },
  {
   "cell_type": "markdown",
   "id": "86d98416",
   "metadata": {},
   "source": [
    "## Описание проекта\n",
    "\n",
    "Интернет-магазин «Викишоп» запускает новый сервис. Теперь пользователи могут редактировать и дополнять описания товаров, как в вики-сообществах. То есть клиенты предлагают свои правки и комментируют изменения других. Магазину нужен инструмент, который будет искать токсичные комментарии и отправлять их на модерацию.\\\n",
    "Необходимо обучить модель классифицировать комментарии на позитивные и негативные. В распоряжении набор данных с разметкой о токсичности правок.\\\n",
    "Нужно построить модель со значением метрики качества F1 не меньше 0.75. "
   ]
  },
  {
   "cell_type": "code",
   "execution_count": 41,
   "id": "8d606559",
   "metadata": {},
   "outputs": [
    {
     "name": "stderr",
     "output_type": "stream",
     "text": [
      "[nltk_data] Downloading package stopwords to /home/jovyan/nltk_data...\n",
      "[nltk_data]   Package stopwords is already up-to-date!\n"
     ]
    }
   ],
   "source": [
    "import pandas as pd\n",
    "import numpy as np\n",
    "import matplotlib.pyplot as plt\n",
    "import re\n",
    "from tqdm.notebook import trange, tqdm\n",
    "from tqdm.notebook import tqdm\n",
    "from sklearn.model_selection import train_test_split, GridSearchCV\n",
    "from pymystem3 import Mystem\n",
    "import nltk\n",
    "nltk.download('stopwords')\n",
    "#from sklearn import *\n",
    "from nltk.corpus import stopwords as nltk_stopwords\n",
    "from sklearn.feature_extraction.text import TfidfVectorizer\n",
    "from sklearn.linear_model import LogisticRegression\n",
    "from sklearn.ensemble import RandomForestClassifier\n",
    "from sklearn.metrics import f1_score\n",
    "from sklearn.naive_bayes import ComplementNB\n",
    "from sklearn.pipeline import Pipeline\n",
    "\n",
    "from catboost import CatBoostClassifier\n",
    "from sklearn.model_selection import RandomizedSearchCV\n",
    "import warnings\n",
    "warnings.filterwarnings('ignore')"
   ]
  },
  {
   "cell_type": "markdown",
   "id": "1c4f381a",
   "metadata": {},
   "source": [
    "## Загрузка и подготовка данных"
   ]
  },
  {
   "cell_type": "code",
   "execution_count": 18,
   "id": "9bfa7a0b",
   "metadata": {},
   "outputs": [],
   "source": [
    "try:\n",
    "    df = pd.read_csv('C:/Users/trombee/YandexDisk/Учеба/Я. Практикум/Проект. Машинное обучение на текстах/toxic_comments.csv',\n",
    "                    index_col=0)\n",
    "except:\n",
    "    df = pd.read_csv('/datasets/toxic_comments.csv', index_col=0)"
   ]
  },
  {
   "cell_type": "code",
   "execution_count": 19,
   "id": "86c1faa8",
   "metadata": {},
   "outputs": [
    {
     "data": {
      "text/html": [
       "<div>\n",
       "<style scoped>\n",
       "    .dataframe tbody tr th:only-of-type {\n",
       "        vertical-align: middle;\n",
       "    }\n",
       "\n",
       "    .dataframe tbody tr th {\n",
       "        vertical-align: top;\n",
       "    }\n",
       "\n",
       "    .dataframe thead th {\n",
       "        text-align: right;\n",
       "    }\n",
       "</style>\n",
       "<table border=\"1\" class=\"dataframe\">\n",
       "  <thead>\n",
       "    <tr style=\"text-align: right;\">\n",
       "      <th></th>\n",
       "      <th>text</th>\n",
       "      <th>toxic</th>\n",
       "    </tr>\n",
       "  </thead>\n",
       "  <tbody>\n",
       "    <tr>\n",
       "      <th>0</th>\n",
       "      <td>Explanation\\nWhy the edits made under my usern...</td>\n",
       "      <td>0</td>\n",
       "    </tr>\n",
       "    <tr>\n",
       "      <th>1</th>\n",
       "      <td>D'aww! He matches this background colour I'm s...</td>\n",
       "      <td>0</td>\n",
       "    </tr>\n",
       "    <tr>\n",
       "      <th>2</th>\n",
       "      <td>Hey man, I'm really not trying to edit war. It...</td>\n",
       "      <td>0</td>\n",
       "    </tr>\n",
       "    <tr>\n",
       "      <th>3</th>\n",
       "      <td>\"\\nMore\\nI can't make any real suggestions on ...</td>\n",
       "      <td>0</td>\n",
       "    </tr>\n",
       "    <tr>\n",
       "      <th>4</th>\n",
       "      <td>You, sir, are my hero. Any chance you remember...</td>\n",
       "      <td>0</td>\n",
       "    </tr>\n",
       "  </tbody>\n",
       "</table>\n",
       "</div>"
      ],
      "text/plain": [
       "                                                text  toxic\n",
       "0  Explanation\\nWhy the edits made under my usern...      0\n",
       "1  D'aww! He matches this background colour I'm s...      0\n",
       "2  Hey man, I'm really not trying to edit war. It...      0\n",
       "3  \"\\nMore\\nI can't make any real suggestions on ...      0\n",
       "4  You, sir, are my hero. Any chance you remember...      0"
      ]
     },
     "execution_count": 19,
     "metadata": {},
     "output_type": "execute_result"
    }
   ],
   "source": [
    "df.head()"
   ]
  },
  {
   "cell_type": "code",
   "execution_count": 20,
   "id": "4c9c4599",
   "metadata": {},
   "outputs": [
    {
     "name": "stdout",
     "output_type": "stream",
     "text": [
      "<class 'pandas.core.frame.DataFrame'>\n",
      "Int64Index: 159292 entries, 0 to 159450\n",
      "Data columns (total 2 columns):\n",
      " #   Column  Non-Null Count   Dtype \n",
      "---  ------  --------------   ----- \n",
      " 0   text    159292 non-null  object\n",
      " 1   toxic   159292 non-null  int64 \n",
      "dtypes: int64(1), object(1)\n",
      "memory usage: 3.6+ MB\n"
     ]
    }
   ],
   "source": [
    "df.info()"
   ]
  },
  {
   "cell_type": "code",
   "execution_count": 21,
   "id": "000aa27c",
   "metadata": {},
   "outputs": [
    {
     "data": {
      "text/html": [
       "<div>\n",
       "<style scoped>\n",
       "    .dataframe tbody tr th:only-of-type {\n",
       "        vertical-align: middle;\n",
       "    }\n",
       "\n",
       "    .dataframe tbody tr th {\n",
       "        vertical-align: top;\n",
       "    }\n",
       "\n",
       "    .dataframe thead th {\n",
       "        text-align: right;\n",
       "    }\n",
       "</style>\n",
       "<table border=\"1\" class=\"dataframe\">\n",
       "  <thead>\n",
       "    <tr style=\"text-align: right;\">\n",
       "      <th></th>\n",
       "      <th>toxic</th>\n",
       "    </tr>\n",
       "  </thead>\n",
       "  <tbody>\n",
       "    <tr>\n",
       "      <th>count</th>\n",
       "      <td>159292.000000</td>\n",
       "    </tr>\n",
       "    <tr>\n",
       "      <th>mean</th>\n",
       "      <td>0.101612</td>\n",
       "    </tr>\n",
       "    <tr>\n",
       "      <th>std</th>\n",
       "      <td>0.302139</td>\n",
       "    </tr>\n",
       "    <tr>\n",
       "      <th>min</th>\n",
       "      <td>0.000000</td>\n",
       "    </tr>\n",
       "    <tr>\n",
       "      <th>25%</th>\n",
       "      <td>0.000000</td>\n",
       "    </tr>\n",
       "    <tr>\n",
       "      <th>50%</th>\n",
       "      <td>0.000000</td>\n",
       "    </tr>\n",
       "    <tr>\n",
       "      <th>75%</th>\n",
       "      <td>0.000000</td>\n",
       "    </tr>\n",
       "    <tr>\n",
       "      <th>max</th>\n",
       "      <td>1.000000</td>\n",
       "    </tr>\n",
       "  </tbody>\n",
       "</table>\n",
       "</div>"
      ],
      "text/plain": [
       "               toxic\n",
       "count  159292.000000\n",
       "mean        0.101612\n",
       "std         0.302139\n",
       "min         0.000000\n",
       "25%         0.000000\n",
       "50%         0.000000\n",
       "75%         0.000000\n",
       "max         1.000000"
      ]
     },
     "execution_count": 21,
     "metadata": {},
     "output_type": "execute_result"
    }
   ],
   "source": [
    "df.describe()"
   ]
  },
  {
   "cell_type": "code",
   "execution_count": 22,
   "id": "f3abcbfd",
   "metadata": {},
   "outputs": [
    {
     "data": {
      "text/plain": [
       "<AxesSubplot:>"
      ]
     },
     "execution_count": 22,
     "metadata": {},
     "output_type": "execute_result"
    },
    {
     "data": {
      "image/png": "[encoded data removed]",
      "text/plain": [
       "<Figure size 432x288 with 1 Axes>"
      ]
     },
     "metadata": {
      "needs_background": "light"
     },
     "output_type": "display_data"
    }
   ],
   "source": [
    "df['toxic'].value_counts().plot(kind='bar')"
   ]
  },
  {
   "cell_type": "code",
   "execution_count": 23,
   "id": "d17cc77a",
   "metadata": {},
   "outputs": [],
   "source": [
    "#функция обработки текста\n",
    "def clear_data(text):\n",
    "    text = text.lower() #приведение к нижнему регистру\n",
    "    \n",
    "    text = re.sub(r\"(?:\\n|\\r)\", \" \", text) #замена специальных символов на пробел\n",
    "    text = re.sub(r\"[^a-zA-Z' ]+\", \" \", text).strip() #удаление всех символов, которые не являются буквами или пробелами\n",
    "    text = re.sub(r'\\s+', ' ', text, flags=re.I) #удаление лишних пробелов\n",
    "    return text"
   ]
  },
  {
   "cell_type": "code",
   "execution_count": 24,
   "id": "442d3532",
   "metadata": {},
   "outputs": [
    {
     "data": {
      "text/html": [
       "<div>\n",
       "<style scoped>\n",
       "    .dataframe tbody tr th:only-of-type {\n",
       "        vertical-align: middle;\n",
       "    }\n",
       "\n",
       "    .dataframe tbody tr th {\n",
       "        vertical-align: top;\n",
       "    }\n",
       "\n",
       "    .dataframe thead th {\n",
       "        text-align: right;\n",
       "    }\n",
       "</style>\n",
       "<table border=\"1\" class=\"dataframe\">\n",
       "  <thead>\n",
       "    <tr style=\"text-align: right;\">\n",
       "      <th></th>\n",
       "      <th>text</th>\n",
       "      <th>toxic</th>\n",
       "    </tr>\n",
       "  </thead>\n",
       "  <tbody>\n",
       "    <tr>\n",
       "      <th>0</th>\n",
       "      <td>explanation why the edits made under my userna...</td>\n",
       "      <td>0</td>\n",
       "    </tr>\n",
       "    <tr>\n",
       "      <th>1</th>\n",
       "      <td>d'aww he matches this background colour i'm se...</td>\n",
       "      <td>0</td>\n",
       "    </tr>\n",
       "    <tr>\n",
       "      <th>2</th>\n",
       "      <td>hey man i'm really not trying to edit war it's...</td>\n",
       "      <td>0</td>\n",
       "    </tr>\n",
       "    <tr>\n",
       "      <th>3</th>\n",
       "      <td>more i can't make any real suggestions on impr...</td>\n",
       "      <td>0</td>\n",
       "    </tr>\n",
       "    <tr>\n",
       "      <th>4</th>\n",
       "      <td>you sir are my hero any chance you remember wh...</td>\n",
       "      <td>0</td>\n",
       "    </tr>\n",
       "  </tbody>\n",
       "</table>\n",
       "</div>"
      ],
      "text/plain": [
       "                                                text  toxic\n",
       "0  explanation why the edits made under my userna...      0\n",
       "1  d'aww he matches this background colour i'm se...      0\n",
       "2  hey man i'm really not trying to edit war it's...      0\n",
       "3  more i can't make any real suggestions on impr...      0\n",
       "4  you sir are my hero any chance you remember wh...      0"
      ]
     },
     "metadata": {},
     "output_type": "display_data"
    }
   ],
   "source": [
    "df['text'] = df['text'].apply(clear_data)\n",
    "display(df.head())"
   ]
  },
  {
   "cell_type": "markdown",
   "id": "8d3d6e88",
   "metadata": {},
   "source": [
    "Загрузив и проанализировав все данные, необходимо было также обработать текст в признаках.\\\n",
    "- Все символы приведены к нижнему регистру;\n",
    "- Специальные символы заменены на пробелы;\n",
    "- Удалены все лишние символы, которые не являются буквами или пробелами;\n",
    "- Также после замены всех символы образовались лишние пробелы, которые также были удалены."
   ]
  },
  {
   "cell_type": "markdown",
   "id": "0b0136dc",
   "metadata": {},
   "source": [
    "## Деление на подвыборки"
   ]
  },
  {
   "cell_type": "code",
   "execution_count": 25,
   "id": "be2f279d",
   "metadata": {},
   "outputs": [
    {
     "name": "stdout",
     "output_type": "stream",
     "text": [
      "Полученные размерности выборок:\n",
      "train: 143362(90%)\n",
      "test: 15930(10%)\n"
     ]
    }
   ],
   "source": [
    "df_train, df_test = train_test_split(df, test_size=0.1, random_state=12345)\n",
    "\n",
    "features_train = df_train.drop('toxic', axis=1)\n",
    "target_train = df_train['toxic']\n",
    "\n",
    "features_test = df_test.drop('toxic', axis=1)\n",
    "target_test = df_test['toxic']\n",
    "\n",
    "print('Полученные размерности выборок:')\n",
    "print(f'train: {df_train.shape[0]}({round(len(df_train)/len(df) * 100)}%)\\ntest: {df_test.shape[0]}({round(len(df_test)/len(df) * 100)}%)')"
   ]
  },
  {
   "cell_type": "code",
   "execution_count": 26,
   "id": "cc7f8e79",
   "metadata": {
    "scrolled": true
   },
   "outputs": [
    {
     "name": "stderr",
     "output_type": "stream",
     "text": [
      "[nltk_data] Downloading package averaged_perceptron_tagger to\n",
      "[nltk_data]     /home/jovyan/nltk_data...\n",
      "[nltk_data]   Package averaged_perceptron_tagger is already up-to-\n",
      "[nltk_data]       date!\n"
     ]
    }
   ],
   "source": [
    "from nltk import pos_tag\n",
    "from nltk.stem import WordNetLemmatizer\n",
    "from nltk import word_tokenize\n",
    "nltk.download('averaged_perceptron_tagger')\n",
    "\n",
    "wnl = WordNetLemmatizer()\n",
    "\n",
    "def penn2morphy(penntag):\n",
    "    \"\"\" Converts Penn Treebank tags to WordNet. \"\"\"\n",
    "    morphy_tag = {'NN':'n', 'JJ':'a',\n",
    "                  'VB':'v', 'RB':'r'}\n",
    "    try:\n",
    "        return morphy_tag[penntag[:2]]\n",
    "    except:\n",
    "        return 'n' \n",
    "\n",
    "def lemmatize_sent(text): \n",
    "    # Text input is string, returns lowercased strings.\n",
    "    return [wnl.lemmatize(word.lower(), pos=penn2morphy(tag)) \n",
    "            for word, tag in pos_tag(word_tokenize(text))]"
   ]
  },
  {
   "cell_type": "code",
   "execution_count": 27,
   "id": "ccf84915",
   "metadata": {},
   "outputs": [],
   "source": [
    "train_corpus = df_train['text'].values"
   ]
  },
  {
   "cell_type": "code",
   "execution_count": 28,
   "id": "44c663a8",
   "metadata": {},
   "outputs": [
    {
     "data": {
      "application/vnd.jupyter.widget-view+json": {
       "model_id": "4a31baf689f24d7980bd152b5bddd69c",
       "version_major": 2,
       "version_minor": 0
      },
      "text/plain": [
       "  0%|          | 0/143362 [00:00<?, ?it/s]"
      ]
     },
     "metadata": {},
     "output_type": "display_data"
    }
   ],
   "source": [
    "for i in trange(train_corpus.shape[0]):\n",
    "    train_corpus[i] = lemmatize_sent(train_corpus[i])\n",
    "    train_corpus[i] = ' '.join(train_corpus[i])"
   ]
  },
  {
   "cell_type": "code",
   "execution_count": 29,
   "id": "995a6290",
   "metadata": {
    "scrolled": true
   },
   "outputs": [
    {
     "data": {
      "text/plain": [
       "array(['latin on august you ask on my talkpage whether i could help you with translate something into latin you never tell me what however',\n",
       "       \"this be n't base off of a cure song sometimes the band be compare stylistically to the cure but that 's where the similarity end\",\n",
       "       'i think your position be very weird this be about english people not about american what do you imply that the majority of people in england descend from the th century i will just leave it here for other people to judge but beleive me your position be among the most weird one that i have see up to now',\n",
       "       ...,\n",
       "       \"agree we really should try to stick to the subject of the article at hand and look through the jeremy clarkson article i see there really be n't a lot about his penchant for speed it 's mention but just briefly alongside his clean driving record however in search via google i find this article http drive timesonline co uk article html this to me seem rather strike to have somebody talk so openly about speed maybe we could change the article around to be in spite of his penchant for speed clarkson hold a clean driving licence none the less he be not especially reluctant to discuss the subject of speed in a november article in the sunday time mr clarkson write while discuss the bugatti veyron on a recent drive across europe i desperately want to reach the top speed but i run out of road when the needle hit mph and later in the same article from behind the wheel of a veyron france be the size of a small coconut i can not tell you how fast i cross it the other day because you simply wouldn t believe me could we write that these two quote be rather remarkable in my opinion and worth mentioning in the article they demonstrate his honest and frank manner of discuss his travel across europe and we could just leave it to the reader to decide if he be talk about go mph on public road or whatever i realize you may feel differently about mr clarkson than i do but none the less these two quote do clarify his penchant for speed and be worth mention alongside his clean driving record i would say\",\n",
       "       'umm killer do you not like that he copy your whole userpage i put it up for deletion but it be keep with one vote cheer tlover',\n",
       "       'bradford city i be remove unreferanced content'], dtype=object)"
      ]
     },
     "execution_count": 29,
     "metadata": {},
     "output_type": "execute_result"
    }
   ],
   "source": [
    "#train_corpus = ' '.join(train_corpus)\n",
    "train_corpus"
   ]
  },
  {
   "cell_type": "code",
   "execution_count": 30,
   "id": "10d350dc",
   "metadata": {},
   "outputs": [],
   "source": [
    "test_corpus = df_test['text'].values"
   ]
  },
  {
   "cell_type": "code",
   "execution_count": 31,
   "id": "d9607341",
   "metadata": {},
   "outputs": [
    {
     "data": {
      "application/vnd.jupyter.widget-view+json": {
       "model_id": "dfad1eb64b5d414ca2cecb7948f06614",
       "version_major": 2,
       "version_minor": 0
      },
      "text/plain": [
       "  0%|          | 0/15930 [00:00<?, ?it/s]"
      ]
     },
     "metadata": {},
     "output_type": "display_data"
    }
   ],
   "source": [
    "for i in trange(test_corpus.shape[0]):\n",
    "    test_corpus[i] = lemmatize_sent(test_corpus[i])\n",
    "    test_corpus[i] = ' '.join(test_corpus[i])"
   ]
  },
  {
   "cell_type": "code",
   "execution_count": 32,
   "id": "bc8769bb",
   "metadata": {
    "scrolled": true
   },
   "outputs": [
    {
     "data": {
      "text/plain": [
       "array(['expert categorizers why be there no mention of the fact that nazis be particularly great categorizers they excel in identify various thing and write about them and put them in their proper place',\n",
       "       'noise fart talk',\n",
       "       'an indefinite block be appropriate even for a minor infraction if you show know sign of discontinue talk',\n",
       "       ...,\n",
       "       \"july utc well i suppose the question on the table be this do we want to be rational or irrational my answer be obvious but i 'll carry the discussion a little further libertarian be interested in the social situation of their environment but be they interested in the social situation of their environment a a whole that would be a subject under the purview of socialism would n't it shepherd of commerce and discourse do your bad please\",\n",
       "       \"i agree with this person 's comment how blatantly these two editor subhash and baka say they be not liberal and secular and carry on edits to support organisation that india 's first prime minister call indian version of fascism their edits be either to promote an alternate version of history base on the superiority of hinduism and ancient hindu india 's dominance or wesel word to hide the activity of the organisation they support ban on many occasion in india they have even write racial anti white comment they call other user with slur and call other user a terrorist supporter it be high time their activity on wikipedia be stop they be use the facility of wp to promote and advertise their organisation\",\n",
       "       'a mm gun be normally use for grind out it can also be useful in protect line what in the world do this mean this be an encyclopedia intend to inform reader who be not expert in a give field please define grind out and protect line if you think they be germane to the definition of mm caliber thank you'],\n",
       "      dtype=object)"
      ]
     },
     "execution_count": 32,
     "metadata": {},
     "output_type": "execute_result"
    }
   ],
   "source": [
    "test_corpus"
   ]
  },
  {
   "cell_type": "code",
   "execution_count": 33,
   "id": "91795284",
   "metadata": {},
   "outputs": [],
   "source": [
    "stopwords = set(nltk_stopwords.words('english'))\n",
    "count_tf_idf = TfidfVectorizer(stop_words=stopwords, ngram_range=(1,1))\n",
    "tf_idf_train = count_tf_idf.fit_transform(train_corpus)"
   ]
  },
  {
   "cell_type": "code",
   "execution_count": 37,
   "id": "fba044c8",
   "metadata": {},
   "outputs": [],
   "source": [
    "tf_idf_test = count_tf_idf.transform(test_corpus)"
   ]
  },
  {
   "cell_type": "markdown",
   "id": "32cf2b6c",
   "metadata": {},
   "source": [
    "Данные были разделены на выборки, в соотношении 80:10:10 (train:valid:test).\\\n",
    "Далее все выборки были лемматизированы, с помощью библиотеки pymystem3."
   ]
  },
  {
   "cell_type": "markdown",
   "id": "c812410e",
   "metadata": {},
   "source": [
    "## Обучение различных моделей"
   ]
  },
  {
   "cell_type": "markdown",
   "id": "843404ef",
   "metadata": {},
   "source": [
    "##### LogisticRegression"
   ]
  },
  {
   "cell_type": "code",
   "execution_count": 122,
   "id": "9b87ead0",
   "metadata": {
    "scrolled": true
   },
   "outputs": [
    {
     "name": "stdout",
     "output_type": "stream",
     "text": [
      "Fitting 3 folds for each of 10 candidates, totalling 30 fits\n",
      "[CV 1/3] END ................................C=1, penalty=l1; total time=   0.9s\n",
      "[CV 2/3] END ................................C=1, penalty=l1; total time=   0.8s\n",
      "[CV 3/3] END ................................C=1, penalty=l1; total time=   0.8s\n",
      "[CV 1/3] END ................................C=1, penalty=l2; total time=   7.1s\n",
      "[CV 2/3] END ................................C=1, penalty=l2; total time=   7.3s\n",
      "[CV 3/3] END ................................C=1, penalty=l2; total time=   7.6s\n",
      "[CV 1/3] END ................................C=3, penalty=l1; total time=   1.2s\n",
      "[CV 2/3] END ................................C=3, penalty=l1; total time=   1.1s\n",
      "[CV 3/3] END ................................C=3, penalty=l1; total time=   1.1s\n",
      "[CV 1/3] END ................................C=3, penalty=l2; total time=  11.0s\n",
      "[CV 2/3] END ................................C=3, penalty=l2; total time=  10.2s\n",
      "[CV 3/3] END ................................C=3, penalty=l2; total time=  10.1s\n",
      "[CV 1/3] END ................................C=5, penalty=l1; total time=   1.6s\n",
      "[CV 2/3] END ................................C=5, penalty=l1; total time=   1.4s\n",
      "[CV 3/3] END ................................C=5, penalty=l1; total time=   2.0s\n",
      "[CV 1/3] END ................................C=5, penalty=l2; total time=  11.0s\n",
      "[CV 2/3] END ................................C=5, penalty=l2; total time=  11.4s\n",
      "[CV 3/3] END ................................C=5, penalty=l2; total time=  12.0s\n",
      "[CV 1/3] END ................................C=7, penalty=l1; total time=   1.9s\n",
      "[CV 2/3] END ................................C=7, penalty=l1; total time=   2.1s\n",
      "[CV 3/3] END ................................C=7, penalty=l1; total time=   2.1s\n",
      "[CV 1/3] END ................................C=7, penalty=l2; total time=  12.0s\n",
      "[CV 2/3] END ................................C=7, penalty=l2; total time=  12.7s\n",
      "[CV 3/3] END ................................C=7, penalty=l2; total time=  11.6s\n",
      "[CV 1/3] END ................................C=9, penalty=l1; total time=   2.3s\n",
      "[CV 2/3] END ................................C=9, penalty=l1; total time=   2.3s\n",
      "[CV 3/3] END ................................C=9, penalty=l1; total time=   2.2s\n",
      "[CV 1/3] END ................................C=9, penalty=l2; total time=  12.8s\n",
      "[CV 2/3] END ................................C=9, penalty=l2; total time=  12.9s\n",
      "[CV 3/3] END ................................C=9, penalty=l2; total time=  13.1s\n",
      "Best Params {'C': 3, 'penalty': 'l1'}\n",
      "Best Score 0.7717659328079042\n",
      "CPU times: user 1min 37s, sys: 1min 31s, total: 3min 8s\n",
      "Wall time: 3min 8s\n"
     ]
    }
   ],
   "source": [
    "#%%time\n",
    "#lr = LogisticRegression(random_state=12345, solver='liblinear', max_iter=100)\n",
    "#params = {\n",
    "#   'penalty':['l1', 'l2'],        \n",
    "#   'C':list(range(1, 10, 2)) \n",
    "#}\n",
    "\n",
    "#lr_gs = GridSearchCV(lr, params, cv=3, scoring='f1', verbose=3, n_jobs=-1).fit(tf_idf_train, target_train)\n",
    "\n",
    "#print (\"Best Params\", lr_gs.best_params_)\n",
    "#print (\"Best Score\", lr_gs.best_score_)"
   ]
  },
  {
   "cell_type": "code",
   "execution_count": 44,
   "id": "9c1c1ce3",
   "metadata": {},
   "outputs": [],
   "source": [
    "pipeline = Pipeline(\n",
    "    [\n",
    "        ('model', LogisticRegression(max_iter=100, random_state=12345))\n",
    "    ]\n",
    ")"
   ]
  },
  {
   "cell_type": "code",
   "execution_count": 45,
   "id": "91ef4737",
   "metadata": {},
   "outputs": [],
   "source": [
    "param_distributions = {\n",
    "    'model__C': list(range(7, 10, 2)),\n",
    "    'model__penalty': ['l1', 'l2'],\n",
    "}"
   ]
  },
  {
   "cell_type": "code",
   "execution_count": 46,
   "id": "428c577f",
   "metadata": {},
   "outputs": [
    {
     "name": "stdout",
     "output_type": "stream",
     "text": [
      "Fitting 5 folds for each of 4 candidates, totalling 20 fits\n",
      "[CV 1/5] END ..................model__C=7, model__penalty=l1; total time=   0.0s\n",
      "[CV 2/5] END ..................model__C=7, model__penalty=l1; total time=   0.0s\n",
      "[CV 3/5] END ..................model__C=7, model__penalty=l1; total time=   0.0s\n",
      "[CV 4/5] END ..................model__C=7, model__penalty=l1; total time=   0.0s\n",
      "[CV 5/5] END ..................model__C=7, model__penalty=l1; total time=   0.0s\n",
      "[CV 1/5] END ..................model__C=7, model__penalty=l2; total time=  47.9s\n",
      "[CV 2/5] END ..................model__C=7, model__penalty=l2; total time=  46.2s\n",
      "[CV 3/5] END ..................model__C=7, model__penalty=l2; total time=  45.0s\n",
      "[CV 4/5] END ..................model__C=7, model__penalty=l2; total time=  50.0s\n",
      "[CV 5/5] END ..................model__C=7, model__penalty=l2; total time=  50.3s\n",
      "[CV 1/5] END ..................model__C=9, model__penalty=l1; total time=   0.0s\n",
      "[CV 2/5] END ..................model__C=9, model__penalty=l1; total time=   0.1s\n",
      "[CV 3/5] END ..................model__C=9, model__penalty=l1; total time=   0.0s\n",
      "[CV 4/5] END ..................model__C=9, model__penalty=l1; total time=   0.0s\n",
      "[CV 5/5] END ..................model__C=9, model__penalty=l1; total time=   0.0s\n",
      "[CV 1/5] END ..................model__C=9, model__penalty=l2; total time=  48.9s\n",
      "[CV 2/5] END ..................model__C=9, model__penalty=l2; total time=  46.7s\n",
      "[CV 3/5] END ..................model__C=9, model__penalty=l2; total time=  50.4s\n",
      "[CV 4/5] END ..................model__C=9, model__penalty=l2; total time=  49.2s\n",
      "[CV 5/5] END ..................model__C=9, model__penalty=l2; total time=  46.5s\n"
     ]
    }
   ],
   "source": [
    "random_search_lr = RandomizedSearchCV(\n",
    "    estimator=pipeline,\n",
    "    param_distributions=param_distributions,\n",
    "    n_iter=40,\n",
    "    random_state=12345,\n",
    "    scoring='f1',\n",
    "    n_jobs=-1,\n",
    "    verbose=3,\n",
    ").fit(tf_idf_train, target_train)"
   ]
  },
  {
   "cell_type": "code",
   "execution_count": 47,
   "id": "c3e7d677",
   "metadata": {},
   "outputs": [
    {
     "name": "stdout",
     "output_type": "stream",
     "text": [
      "Best parameters found: {'model__penalty': 'l2', 'model__C': 9}\n",
      "Best f1 score: 0.7661780629648409\n"
     ]
    }
   ],
   "source": [
    "print(\"Best parameters found:\", random_search_lr.best_params_)\n",
    "print(\"Best f1 score:\", random_search_lr.best_score_)"
   ]
  },
  {
   "cell_type": "markdown",
   "id": "26ab4212",
   "metadata": {},
   "source": [
    "##### RandomForestClassifier"
   ]
  },
  {
   "cell_type": "code",
   "execution_count": 144,
   "id": "cad97bb3",
   "metadata": {},
   "outputs": [],
   "source": [
    "pipeline = Pipeline(\n",
    "    [\n",
    "        ('model', RandomForestClassifier(random_state=12345))\n",
    "    ]\n",
    ")"
   ]
  },
  {
   "cell_type": "code",
   "execution_count": 145,
   "id": "9c0241a0",
   "metadata": {},
   "outputs": [],
   "source": [
    "param_distributions = {\n",
    "    'model__n_estimators': [10],\n",
    "    'model__max_depth': [None, 10]\n",
    "}"
   ]
  },
  {
   "cell_type": "code",
   "execution_count": 146,
   "id": "5152a898",
   "metadata": {},
   "outputs": [
    {
     "name": "stdout",
     "output_type": "stream",
     "text": [
      "Fitting 5 folds for each of 2 candidates, totalling 10 fits\n",
      "[CV 1/5] END ..model__max_depth=None, model__n_estimators=10; total time= 1.7min\n",
      "[CV 2/5] END ..model__max_depth=None, model__n_estimators=10; total time= 1.7min\n",
      "[CV 3/5] END ..model__max_depth=None, model__n_estimators=10; total time= 1.7min\n",
      "[CV 4/5] END ..model__max_depth=None, model__n_estimators=10; total time= 1.7min\n",
      "[CV 5/5] END ..model__max_depth=None, model__n_estimators=10; total time= 1.7min\n",
      "[CV 1/5] END ....model__max_depth=10, model__n_estimators=10; total time=   2.4s\n",
      "[CV 2/5] END ....model__max_depth=10, model__n_estimators=10; total time=   2.4s\n",
      "[CV 3/5] END ....model__max_depth=10, model__n_estimators=10; total time=   2.5s\n",
      "[CV 4/5] END ....model__max_depth=10, model__n_estimators=10; total time=   2.5s\n",
      "[CV 5/5] END ....model__max_depth=10, model__n_estimators=10; total time=   2.4s\n"
     ]
    }
   ],
   "source": [
    "random_search_rf = RandomizedSearchCV(\n",
    "    estimator=pipeline,\n",
    "    param_distributions=param_distributions,\n",
    "    n_iter=40,\n",
    "    random_state=12345,\n",
    "    scoring='f1',\n",
    "    n_jobs=-1,\n",
    "    verbose=3,\n",
    ").fit(tf_idf_train, target_train)"
   ]
  },
  {
   "cell_type": "code",
   "execution_count": 147,
   "id": "c9f86c12",
   "metadata": {},
   "outputs": [
    {
     "name": "stdout",
     "output_type": "stream",
     "text": [
      "Best parameters found: {'model__n_estimators': 10, 'model__max_depth': None}\n",
      "Best f1 score: 0.646643055055265\n"
     ]
    }
   ],
   "source": [
    "print(\"Best parameters found:\", random_search_rf.best_params_)\n",
    "print(\"Best f1 score:\", random_search_rf.best_score_)"
   ]
  },
  {
   "cell_type": "code",
   "execution_count": 216,
   "id": "3047542d",
   "metadata": {},
   "outputs": [
    {
     "name": "stdout",
     "output_type": "stream",
     "text": [
      "Fitting 3 folds for each of 135 candidates, totalling 405 fits\n",
      "Best Params {'max_depth': 29, 'n_estimators': 10}\n",
      "Best Score 0.026830704514663985\n",
      "Wall time: 44min 45s\n"
     ]
    }
   ],
   "source": [
    "#%%time\n",
    "#rf = RandomForestClassifier(random_state=12345)\n",
    "#params = {\n",
    "#   'n_estimators':list(range(10, 100, 10)),        \n",
    "#   'max_depth':list(range(1,30, 2)) \n",
    "#}\n",
    "\n",
    "#rf_gs = GridSearchCV(rf, params, cv=3, scoring='f1', verbose=3, n_jobs=-1).fit(tf_idf_train, target_train)\n",
    "\n",
    "#print (\"Best Params\", rf_gs.best_params_)\n",
    "#print (\"Best Score\", rf_gs.best_score_)"
   ]
  },
  {
   "cell_type": "markdown",
   "id": "446212e7",
   "metadata": {},
   "source": [
    "##### CatBoostClassifier"
   ]
  },
  {
   "cell_type": "code",
   "execution_count": 38,
   "id": "6558b669",
   "metadata": {},
   "outputs": [],
   "source": [
    "pipeline = Pipeline(\n",
    "    [\n",
    "        ('model', CatBoostClassifier(random_state=12345))\n",
    "    ]\n",
    ")"
   ]
  },
  {
   "cell_type": "code",
   "execution_count": 39,
   "id": "367189e2",
   "metadata": {},
   "outputs": [],
   "source": [
    "param_distributions = {\n",
    "    'model__iterations': [10],\n",
    "    'model__learning_rate': [0.1],\n",
    "    'model__depth': [3],\n",
    "    'model__l2_leaf_reg': [1] \n",
    "}"
   ]
  },
  {
   "cell_type": "code",
   "execution_count": 42,
   "id": "c16cd9a8",
   "metadata": {},
   "outputs": [
    {
     "name": "stdout",
     "output_type": "stream",
     "text": [
      "Fitting 5 folds for each of 1 candidates, totalling 5 fits\n",
      "0:\tlearn: 0.5950123\ttotal: 933ms\tremaining: 8.4s\n",
      "1:\tlearn: 0.5199578\ttotal: 1.74s\tremaining: 6.94s\n",
      "2:\tlearn: 0.4604328\ttotal: 2.56s\tremaining: 5.98s\n",
      "3:\tlearn: 0.4155886\ttotal: 3.4s\tremaining: 5.1s\n",
      "4:\tlearn: 0.3804955\ttotal: 4.26s\tremaining: 4.26s\n",
      "5:\tlearn: 0.3526596\ttotal: 5.09s\tremaining: 3.39s\n",
      "6:\tlearn: 0.3313999\ttotal: 5.94s\tremaining: 2.54s\n",
      "7:\tlearn: 0.3149413\ttotal: 6.76s\tremaining: 1.69s\n",
      "8:\tlearn: 0.3016184\ttotal: 7.58s\tremaining: 842ms\n",
      "9:\tlearn: 0.2908188\ttotal: 8.39s\tremaining: 0us\n",
      "[CV 1/5] END model__depth=3, model__iterations=10, model__l2_leaf_reg=1, model__learning_rate=0.1; total time=  53.5s\n",
      "0:\tlearn: 0.5952319\ttotal: 992ms\tremaining: 8.93s\n",
      "1:\tlearn: 0.5231626\ttotal: 1.89s\tremaining: 7.58s\n",
      "2:\tlearn: 0.4636910\ttotal: 2.81s\tremaining: 6.56s\n",
      "3:\tlearn: 0.4173783\ttotal: 3.69s\tremaining: 5.53s\n",
      "4:\tlearn: 0.3821951\ttotal: 4.56s\tremaining: 4.56s\n",
      "5:\tlearn: 0.3556781\ttotal: 5.4s\tremaining: 3.6s\n",
      "6:\tlearn: 0.3334461\ttotal: 6.24s\tremaining: 2.67s\n",
      "7:\tlearn: 0.3160792\ttotal: 7.1s\tremaining: 1.77s\n",
      "8:\tlearn: 0.3028730\ttotal: 7.92s\tremaining: 880ms\n",
      "9:\tlearn: 0.2918117\ttotal: 8.75s\tremaining: 0us\n",
      "[CV 2/5] END model__depth=3, model__iterations=10, model__l2_leaf_reg=1, model__learning_rate=0.1; total time=  52.2s\n",
      "0:\tlearn: 0.5989415\ttotal: 883ms\tremaining: 7.94s\n",
      "1:\tlearn: 0.5206044\ttotal: 1.71s\tremaining: 6.84s\n",
      "2:\tlearn: 0.4613308\ttotal: 2.53s\tremaining: 5.91s\n",
      "3:\tlearn: 0.4156611\ttotal: 3.38s\tremaining: 5.06s\n",
      "4:\tlearn: 0.3803726\ttotal: 4.19s\tremaining: 4.19s\n",
      "5:\tlearn: 0.3531451\ttotal: 4.99s\tremaining: 3.32s\n",
      "6:\tlearn: 0.3315370\ttotal: 5.78s\tremaining: 2.48s\n",
      "7:\tlearn: 0.3148713\ttotal: 6.59s\tremaining: 1.65s\n",
      "8:\tlearn: 0.3012676\ttotal: 7.46s\tremaining: 828ms\n",
      "9:\tlearn: 0.2908174\ttotal: 8.27s\tremaining: 0us\n",
      "[CV 3/5] END model__depth=3, model__iterations=10, model__l2_leaf_reg=1, model__learning_rate=0.1; total time=  52.8s\n",
      "0:\tlearn: 0.5949736\ttotal: 926ms\tremaining: 8.33s\n",
      "1:\tlearn: 0.5179963\ttotal: 1.78s\tremaining: 7.14s\n",
      "2:\tlearn: 0.4589642\ttotal: 2.65s\tremaining: 6.18s\n",
      "3:\tlearn: 0.4133419\ttotal: 3.49s\tremaining: 5.24s\n",
      "4:\tlearn: 0.3801841\ttotal: 4.34s\tremaining: 4.34s\n",
      "5:\tlearn: 0.3528584\ttotal: 5.18s\tremaining: 3.46s\n",
      "6:\tlearn: 0.3322504\ttotal: 6.04s\tremaining: 2.59s\n",
      "7:\tlearn: 0.3155881\ttotal: 6.86s\tremaining: 1.71s\n",
      "8:\tlearn: 0.3016779\ttotal: 7.7s\tremaining: 855ms\n",
      "9:\tlearn: 0.2913335\ttotal: 8.5s\tremaining: 0us\n",
      "[CV 4/5] END model__depth=3, model__iterations=10, model__l2_leaf_reg=1, model__learning_rate=0.1; total time=  52.1s\n",
      "0:\tlearn: 0.5953256\ttotal: 966ms\tremaining: 8.69s\n",
      "1:\tlearn: 0.5179010\ttotal: 1.81s\tremaining: 7.25s\n",
      "2:\tlearn: 0.4583982\ttotal: 2.65s\tremaining: 6.18s\n",
      "3:\tlearn: 0.4132656\ttotal: 3.48s\tremaining: 5.21s\n",
      "4:\tlearn: 0.3782527\ttotal: 4.29s\tremaining: 4.29s\n",
      "5:\tlearn: 0.3515837\ttotal: 5.11s\tremaining: 3.4s\n",
      "6:\tlearn: 0.3304257\ttotal: 5.92s\tremaining: 2.54s\n",
      "7:\tlearn: 0.3141679\ttotal: 6.79s\tremaining: 1.7s\n",
      "8:\tlearn: 0.3002675\ttotal: 7.58s\tremaining: 843ms\n",
      "9:\tlearn: 0.2891162\ttotal: 8.4s\tremaining: 0us\n",
      "[CV 5/5] END model__depth=3, model__iterations=10, model__l2_leaf_reg=1, model__learning_rate=0.1; total time=  52.3s\n",
      "0:\tlearn: 0.5952038\ttotal: 1.14s\tremaining: 10.3s\n",
      "1:\tlearn: 0.5183622\ttotal: 2.2s\tremaining: 8.79s\n",
      "2:\tlearn: 0.4591865\ttotal: 3.27s\tremaining: 7.63s\n",
      "3:\tlearn: 0.4131326\ttotal: 4.35s\tremaining: 6.52s\n",
      "4:\tlearn: 0.3781067\ttotal: 5.38s\tremaining: 5.38s\n",
      "5:\tlearn: 0.3510439\ttotal: 6.45s\tremaining: 4.3s\n",
      "6:\tlearn: 0.3297286\ttotal: 7.49s\tremaining: 3.21s\n",
      "7:\tlearn: 0.3133319\ttotal: 8.52s\tremaining: 2.13s\n",
      "8:\tlearn: 0.3000330\ttotal: 9.58s\tremaining: 1.06s\n",
      "9:\tlearn: 0.2892811\ttotal: 10.6s\tremaining: 0us\n"
     ]
    }
   ],
   "source": [
    "random_search_cb = RandomizedSearchCV(\n",
    "    estimator=pipeline,\n",
    "    param_distributions=param_distributions,\n",
    "    n_iter=40,\n",
    "    random_state=12345,\n",
    "    scoring='f1',\n",
    "    n_jobs=-1,\n",
    "    verbose=3,\n",
    ").fit(tf_idf_train, target_train)"
   ]
  },
  {
   "cell_type": "code",
   "execution_count": 43,
   "id": "702b4d0e",
   "metadata": {},
   "outputs": [
    {
     "name": "stdout",
     "output_type": "stream",
     "text": [
      "Best parameters found: {'model__learning_rate': 0.1, 'model__l2_leaf_reg': 1, 'model__iterations': 10, 'model__depth': 3}\n",
      "Best f1 score: 0.40999390890282433\n"
     ]
    }
   ],
   "source": [
    "print(\"Best parameters found:\", random_search_cb.best_params_)\n",
    "print(\"Best f1 score:\", random_search_cb.best_score_)"
   ]
  },
  {
   "cell_type": "markdown",
   "id": "5c9ae11d",
   "metadata": {},
   "source": [
    "В ходе анализа различных моделей, были обучены следующие:\\\n",
    "- LogisticRegression с результатом метрики f1_score = 0.767, что удовлетворяет условию f1 > 0.75;\n",
    "- RandomForestClassifier с результатом метрики f1_score = 0.64, что не удовлетворяет условию f1 > 0.75;\n",
    "- CatBoostClassifier с результатом метрики f1_score = 0.4, что не удовлетворяет условию f1 > 0.75.\n",
    "\n",
    "По итогу, лучший результат был получен на модели LogisticRegression, которая и будет использована для дальнейшей проверки не тестовой выборке."
   ]
  },
  {
   "cell_type": "markdown",
   "id": "ef174042",
   "metadata": {},
   "source": [
    "## Проверка лучшей модели на тестовой выборке и выводы"
   ]
  },
  {
   "cell_type": "code",
   "execution_count": 49,
   "id": "48939110",
   "metadata": {},
   "outputs": [
    {
     "data": {
      "text/plain": [
       "0.7792479108635098"
      ]
     },
     "execution_count": 49,
     "metadata": {},
     "output_type": "execute_result"
    }
   ],
   "source": [
    "model_pred = random_search_lr.predict(tf_idf_test)\n",
    "test_score = f1_score(target_test, model_pred)\n",
    "test_score"
   ]
  },
  {
   "cell_type": "markdown",
   "id": "86757460",
   "metadata": {},
   "source": [
    "<div style=\"border:solid orange 2px; padding: 20px\">\n",
    "\n",
    "## Вывод\n",
    "\n",
    "В ходе работы над проектом были проделаны следующие действия:\n",
    "- Загружен датасет и проанализирован;\n",
    "- Данные были предобработаны для дальнейшей работы, путем очистки от лишних символов;\n",
    "- Текст в признаках был лемматизирован;\n",
    "- Далее данные были разбиты на выборки, в соотношении 90:10 (train:test);\n",
    "- Были обучены модели логистической регрессии, случайного леса и catboost;\n",
    "- Лучший результат показала модель логистической регрессии, и именно она была проверена на тестовом наборе данных;\n",
    "\n",
    "В конечном итоге, модель логистической регрессии на тесте показала результа метрики f1_score равный 0.78, что удовлетворяет условию задачи (f1 > 0.75). Лучшие параметры модели были 'C': 9, 'penalty': 'l2'."
   ]
  }
 ],
 "metadata": {
  "ExecuteTimeLog": [
   {
    "duration": 2443,
    "start_time": "2023-08-09T22:41:47.118Z"
   },
   {
    "duration": 19,
    "start_time": "2023-08-10T18:11:32.281Z"
   },
   {
    "duration": 85,
    "start_time": "2023-08-10T18:11:32.307Z"
   },
   {
    "duration": 3477,
    "start_time": "2023-08-10T18:11:42.198Z"
   },
   {
    "duration": 56,
    "start_time": "2023-08-10T18:11:57.812Z"
   },
   {
    "duration": 6746,
    "start_time": "2023-08-10T18:12:06.178Z"
   },
   {
    "duration": 35,
    "start_time": "2023-08-10T18:12:12.929Z"
   },
   {
    "duration": 26,
    "start_time": "2023-08-10T18:12:18.409Z"
   },
   {
    "duration": 31,
    "start_time": "2023-08-10T18:12:19.281Z"
   },
   {
    "duration": 222,
    "start_time": "2023-08-10T18:12:31.378Z"
   },
   {
    "duration": 4,
    "start_time": "2023-08-10T18:14:05.030Z"
   },
   {
    "duration": 9649,
    "start_time": "2023-08-10T18:14:05.358Z"
   },
   {
    "duration": 9,
    "start_time": "2023-08-10T18:14:43.283Z"
   },
   {
    "duration": 3,
    "start_time": "2023-08-10T18:14:48.013Z"
   },
   {
    "duration": 13,
    "start_time": "2023-08-10T18:14:48.018Z"
   },
   {
    "duration": 43,
    "start_time": "2023-08-10T18:14:48.032Z"
   },
   {
    "duration": 1177,
    "start_time": "2023-08-10T18:14:48.085Z"
   },
   {
    "duration": 11,
    "start_time": "2023-08-10T18:14:49.267Z"
   },
   {
    "duration": 180,
    "start_time": "2023-08-10T18:14:49.280Z"
   },
   {
    "duration": 64,
    "start_time": "2023-08-10T18:14:49.472Z"
   },
   {
    "duration": 204,
    "start_time": "2023-08-10T18:14:49.556Z"
   },
   {
    "duration": 5,
    "start_time": "2023-08-10T18:14:52.892Z"
   },
   {
    "duration": 8555,
    "start_time": "2023-08-10T18:14:53.357Z"
   },
   {
    "duration": 56,
    "start_time": "2023-08-10T18:21:41.090Z"
   },
   {
    "duration": 39,
    "start_time": "2023-08-10T18:26:59.073Z"
   },
   {
    "duration": 21,
    "start_time": "2023-08-10T18:27:59.692Z"
   },
   {
    "duration": 97,
    "start_time": "2023-08-10T18:28:15.919Z"
   },
   {
    "duration": 2847,
    "start_time": "2023-08-10T18:28:44.327Z"
   },
   {
    "duration": 3,
    "start_time": "2023-08-10T18:30:02.024Z"
   },
   {
    "duration": 7,
    "start_time": "2023-08-10T18:30:06.073Z"
   },
   {
    "duration": 80,
    "start_time": "2023-08-10T18:30:18.212Z"
   },
   {
    "duration": 24,
    "start_time": "2023-08-10T18:30:39.436Z"
   },
   {
    "duration": 14,
    "start_time": "2023-08-10T18:32:48.023Z"
   },
   {
    "duration": 7,
    "start_time": "2023-08-10T18:32:53.079Z"
   },
   {
    "duration": 45,
    "start_time": "2023-08-10T18:33:00.218Z"
   },
   {
    "duration": 28,
    "start_time": "2023-08-10T18:33:09.665Z"
   },
   {
    "duration": 2,
    "start_time": "2023-08-10T18:33:34.879Z"
   },
   {
    "duration": 23,
    "start_time": "2023-08-10T18:33:34.884Z"
   },
   {
    "duration": 20,
    "start_time": "2023-08-10T18:33:34.909Z"
   },
   {
    "duration": 1195,
    "start_time": "2023-08-10T18:33:34.931Z"
   },
   {
    "duration": 7,
    "start_time": "2023-08-10T18:33:36.128Z"
   },
   {
    "duration": 69,
    "start_time": "2023-08-10T18:33:36.152Z"
   },
   {
    "duration": 54,
    "start_time": "2023-08-10T18:33:36.223Z"
   },
   {
    "duration": 186,
    "start_time": "2023-08-10T18:33:36.279Z"
   },
   {
    "duration": 12,
    "start_time": "2023-08-10T18:33:36.479Z"
   },
   {
    "duration": 8952,
    "start_time": "2023-08-10T18:33:36.492Z"
   },
   {
    "duration": 44,
    "start_time": "2023-08-10T18:33:45.450Z"
   },
   {
    "duration": 27,
    "start_time": "2023-08-10T18:33:45.500Z"
   },
   {
    "duration": 8,
    "start_time": "2023-08-10T18:33:48.188Z"
   },
   {
    "duration": 8,
    "start_time": "2023-08-10T18:33:52.722Z"
   },
   {
    "duration": 20,
    "start_time": "2023-08-10T18:34:03.899Z"
   },
   {
    "duration": 6,
    "start_time": "2023-08-10T18:34:07.897Z"
   },
   {
    "duration": 23,
    "start_time": "2023-08-10T18:34:07.907Z"
   },
   {
    "duration": 70,
    "start_time": "2023-08-10T18:34:07.931Z"
   },
   {
    "duration": 1131,
    "start_time": "2023-08-10T18:34:08.003Z"
   },
   {
    "duration": 11,
    "start_time": "2023-08-10T18:34:09.136Z"
   },
   {
    "duration": 87,
    "start_time": "2023-08-10T18:34:09.148Z"
   },
   {
    "duration": 68,
    "start_time": "2023-08-10T18:34:09.236Z"
   },
   {
    "duration": 131,
    "start_time": "2023-08-10T18:34:09.309Z"
   },
   {
    "duration": 20,
    "start_time": "2023-08-10T18:34:09.443Z"
   },
   {
    "duration": 9371,
    "start_time": "2023-08-10T18:34:09.476Z"
   },
   {
    "duration": 47,
    "start_time": "2023-08-10T18:34:18.860Z"
   },
   {
    "duration": 19,
    "start_time": "2023-08-10T18:34:18.909Z"
   },
   {
    "duration": 57,
    "start_time": "2023-08-10T18:34:18.930Z"
   },
   {
    "duration": 27,
    "start_time": "2023-08-10T18:34:22.296Z"
   },
   {
    "duration": 4,
    "start_time": "2023-08-10T18:35:58.522Z"
   },
   {
    "duration": 4,
    "start_time": "2023-08-10T18:36:03.607Z"
   },
   {
    "duration": 8,
    "start_time": "2023-08-10T18:36:53.097Z"
   },
   {
    "duration": 14,
    "start_time": "2023-08-10T18:36:53.110Z"
   },
   {
    "duration": 69,
    "start_time": "2023-08-10T18:36:53.127Z"
   },
   {
    "duration": 1651,
    "start_time": "2023-08-10T18:36:53.197Z"
   },
   {
    "duration": 11,
    "start_time": "2023-08-10T18:36:54.865Z"
   },
   {
    "duration": 118,
    "start_time": "2023-08-10T18:36:54.877Z"
   },
   {
    "duration": 41,
    "start_time": "2023-08-10T18:36:55.003Z"
   },
   {
    "duration": 264,
    "start_time": "2023-08-10T18:36:55.052Z"
   },
   {
    "duration": 5,
    "start_time": "2023-08-10T18:36:55.322Z"
   },
   {
    "duration": 8790,
    "start_time": "2023-08-10T18:36:55.333Z"
   },
   {
    "duration": 75,
    "start_time": "2023-08-10T18:37:04.125Z"
   },
   {
    "duration": 11,
    "start_time": "2023-08-10T18:37:04.203Z"
   },
   {
    "duration": 85,
    "start_time": "2023-08-10T18:37:04.216Z"
   },
   {
    "duration": 36370,
    "start_time": "2023-08-10T18:37:04.305Z"
   },
   {
    "duration": 9,
    "start_time": "2023-08-10T18:37:49.617Z"
   },
   {
    "duration": 2,
    "start_time": "2023-08-10T18:38:26.303Z"
   },
   {
    "duration": 7,
    "start_time": "2023-08-10T18:38:26.365Z"
   },
   {
    "duration": 26,
    "start_time": "2023-08-10T18:38:26.374Z"
   },
   {
    "duration": 1128,
    "start_time": "2023-08-10T18:38:26.402Z"
   },
   {
    "duration": 33,
    "start_time": "2023-08-10T18:38:27.532Z"
   },
   {
    "duration": 70,
    "start_time": "2023-08-10T18:38:27.584Z"
   },
   {
    "duration": 73,
    "start_time": "2023-08-10T18:38:27.658Z"
   },
   {
    "duration": 399,
    "start_time": "2023-08-10T18:38:27.734Z"
   },
   {
    "duration": 20,
    "start_time": "2023-08-10T18:38:28.135Z"
   },
   {
    "duration": 9318,
    "start_time": "2023-08-10T18:38:28.160Z"
   },
   {
    "duration": 49,
    "start_time": "2023-08-10T18:38:37.479Z"
   },
   {
    "duration": 6,
    "start_time": "2023-08-10T18:38:37.530Z"
   },
   {
    "duration": 89,
    "start_time": "2023-08-10T18:38:37.537Z"
   },
   {
    "duration": 593859,
    "start_time": "2023-08-10T18:38:51.617Z"
   },
   {
    "duration": 11,
    "start_time": "2023-08-10T18:48:50.065Z"
   },
   {
    "duration": 8,
    "start_time": "2023-08-10T18:49:23.067Z"
   },
   {
    "duration": 63229,
    "start_time": "2023-08-10T18:49:25.027Z"
   },
   {
    "duration": 3,
    "start_time": "2023-08-10T18:50:28.257Z"
   },
   {
    "duration": 19,
    "start_time": "2023-08-10T18:51:06.584Z"
   },
   {
    "duration": 27,
    "start_time": "2023-08-10T18:52:51.921Z"
   },
   {
    "duration": 2,
    "start_time": "2023-08-10T18:54:00.485Z"
   },
   {
    "duration": 32,
    "start_time": "2023-08-10T18:54:00.489Z"
   },
   {
    "duration": 56,
    "start_time": "2023-08-10T18:54:00.523Z"
   },
   {
    "duration": 1064,
    "start_time": "2023-08-10T18:54:00.581Z"
   },
   {
    "duration": 13,
    "start_time": "2023-08-10T18:54:01.646Z"
   },
   {
    "duration": 88,
    "start_time": "2023-08-10T18:54:01.660Z"
   },
   {
    "duration": 68,
    "start_time": "2023-08-10T18:54:01.750Z"
   },
   {
    "duration": 257,
    "start_time": "2023-08-10T18:54:01.819Z"
   },
   {
    "duration": 4,
    "start_time": "2023-08-10T18:54:02.079Z"
   },
   {
    "duration": 6691,
    "start_time": "2023-08-10T18:54:02.084Z"
   },
   {
    "duration": 29,
    "start_time": "2023-08-10T18:54:08.776Z"
   },
   {
    "duration": 5,
    "start_time": "2023-08-10T18:54:08.806Z"
   },
   {
    "duration": 5,
    "start_time": "2023-08-10T18:54:08.812Z"
   },
   {
    "duration": 526105,
    "start_time": "2023-08-10T18:54:17.907Z"
   },
   {
    "duration": 4,
    "start_time": "2023-08-10T19:03:32.296Z"
   },
   {
    "duration": 3,
    "start_time": "2023-08-10T19:03:57.990Z"
   },
   {
    "duration": 56087,
    "start_time": "2023-08-10T19:03:58.368Z"
   },
   {
    "duration": 4,
    "start_time": "2023-08-10T19:04:54.457Z"
   },
   {
    "duration": 6006,
    "start_time": "2023-08-10T19:05:33.166Z"
   },
   {
    "duration": 668,
    "start_time": "2023-08-10T19:05:45.106Z"
   },
   {
    "duration": 188701,
    "start_time": "2023-08-10T19:06:19.097Z"
   },
   {
    "duration": 243,
    "start_time": "2023-08-10T19:12:35.957Z"
   },
   {
    "duration": 3,
    "start_time": "2023-08-10T19:12:53.922Z"
   },
   {
    "duration": 3,
    "start_time": "2023-08-10T19:21:46.459Z"
   },
   {
    "duration": 2,
    "start_time": "2023-08-10T19:21:46.865Z"
   },
   {
    "duration": 38,
    "start_time": "2023-08-10T19:21:47.614Z"
   },
   {
    "duration": 3,
    "start_time": "2023-08-10T19:22:18.628Z"
   },
   {
    "duration": 3,
    "start_time": "2023-08-10T19:22:18.856Z"
   },
   {
    "duration": 108346,
    "start_time": "2023-08-10T19:22:19.430Z"
   },
   {
    "duration": 54,
    "start_time": "2023-08-10T19:24:15.463Z"
   },
   {
    "duration": 3739,
    "start_time": "2023-08-10T19:24:16.389Z"
   },
   {
    "duration": 3,
    "start_time": "2023-08-10T19:24:33.934Z"
   },
   {
    "duration": 5,
    "start_time": "2023-08-10T19:25:08.063Z"
   },
   {
    "duration": 2,
    "start_time": "2023-08-10T19:25:16.106Z"
   },
   {
    "duration": 2,
    "start_time": "2023-08-10T19:25:16.313Z"
   },
   {
    "duration": 36558,
    "start_time": "2023-08-10T19:25:17.397Z"
   },
   {
    "duration": 1241781,
    "start_time": "2023-08-10T19:26:04.367Z"
   },
   {
    "duration": 84,
    "start_time": "2023-08-10T19:46:46.154Z"
   },
   {
    "duration": 11,
    "start_time": "2023-08-10T19:55:32.357Z"
   },
   {
    "duration": 2,
    "start_time": "2023-08-10T19:56:36.812Z"
   },
   {
    "duration": 2,
    "start_time": "2023-08-10T19:56:37.730Z"
   },
   {
    "duration": 162,
    "start_time": "2023-08-10T19:56:42.939Z"
   },
   {
    "duration": 4,
    "start_time": "2023-08-10T19:57:01.801Z"
   },
   {
    "duration": 3,
    "start_time": "2023-08-10T19:57:02.157Z"
   },
   {
    "duration": 576983,
    "start_time": "2023-08-10T19:57:02.588Z"
   },
   {
    "duration": 4,
    "start_time": "2023-08-10T20:07:25.912Z"
   },
   {
    "duration": 3,
    "start_time": "2023-08-10T20:07:42.863Z"
   },
   {
    "duration": 2,
    "start_time": "2023-08-10T20:07:43.308Z"
   },
   {
    "duration": 54,
    "start_time": "2023-08-10T20:14:27.335Z"
   },
   {
    "duration": 14,
    "start_time": "2023-08-10T20:15:33.138Z"
   },
   {
    "duration": 10,
    "start_time": "2023-08-10T20:15:33.157Z"
   },
   {
    "duration": 1814,
    "start_time": "2023-08-10T20:15:33.168Z"
   },
   {
    "duration": 2437,
    "start_time": "2023-08-10T20:15:34.984Z"
   },
   {
    "duration": 9,
    "start_time": "2023-08-10T20:15:37.423Z"
   },
   {
    "duration": 27,
    "start_time": "2023-08-10T20:15:37.434Z"
   },
   {
    "duration": 18,
    "start_time": "2023-08-10T20:15:37.463Z"
   },
   {
    "duration": 122,
    "start_time": "2023-08-10T20:15:37.483Z"
   },
   {
    "duration": 4,
    "start_time": "2023-08-10T20:15:37.607Z"
   },
   {
    "duration": 6266,
    "start_time": "2023-08-10T20:15:37.613Z"
   },
   {
    "duration": 24,
    "start_time": "2023-08-10T20:15:43.880Z"
   },
   {
    "duration": 30,
    "start_time": "2023-08-10T20:15:43.906Z"
   },
   {
    "duration": 5,
    "start_time": "2023-08-10T20:15:43.937Z"
   },
   {
    "duration": 0,
    "start_time": "2023-08-10T20:19:10.437Z"
   },
   {
    "duration": 0,
    "start_time": "2023-08-10T20:19:10.440Z"
   },
   {
    "duration": 0,
    "start_time": "2023-08-10T20:19:10.442Z"
   },
   {
    "duration": 0,
    "start_time": "2023-08-10T20:19:10.443Z"
   },
   {
    "duration": 0,
    "start_time": "2023-08-10T20:19:10.444Z"
   },
   {
    "duration": 0,
    "start_time": "2023-08-10T20:19:10.446Z"
   },
   {
    "duration": 0,
    "start_time": "2023-08-10T20:19:10.447Z"
   },
   {
    "duration": 0,
    "start_time": "2023-08-10T20:19:10.448Z"
   },
   {
    "duration": 0,
    "start_time": "2023-08-10T20:19:10.450Z"
   },
   {
    "duration": 0,
    "start_time": "2023-08-10T20:19:10.451Z"
   },
   {
    "duration": 0,
    "start_time": "2023-08-10T20:19:10.452Z"
   },
   {
    "duration": 0,
    "start_time": "2023-08-10T20:19:10.453Z"
   },
   {
    "duration": 0,
    "start_time": "2023-08-10T20:19:10.454Z"
   },
   {
    "duration": 0,
    "start_time": "2023-08-10T20:19:10.455Z"
   },
   {
    "duration": 0,
    "start_time": "2023-08-10T20:19:10.457Z"
   },
   {
    "duration": 0,
    "start_time": "2023-08-10T20:19:10.458Z"
   },
   {
    "duration": 0,
    "start_time": "2023-08-10T20:19:10.459Z"
   },
   {
    "duration": 0,
    "start_time": "2023-08-10T20:19:10.460Z"
   },
   {
    "duration": 0,
    "start_time": "2023-08-10T20:19:10.461Z"
   },
   {
    "duration": 0,
    "start_time": "2023-08-10T20:19:10.462Z"
   },
   {
    "duration": 0,
    "start_time": "2023-08-10T20:19:10.464Z"
   },
   {
    "duration": 0,
    "start_time": "2023-08-10T20:19:10.465Z"
   },
   {
    "duration": 2,
    "start_time": "2023-08-10T20:19:13.612Z"
   },
   {
    "duration": 8,
    "start_time": "2023-08-10T20:19:18.950Z"
   },
   {
    "duration": 886,
    "start_time": "2023-08-10T20:19:20.926Z"
   },
   {
    "duration": 9,
    "start_time": "2023-08-10T20:19:21.814Z"
   },
   {
    "duration": 63,
    "start_time": "2023-08-10T20:19:21.824Z"
   },
   {
    "duration": 29,
    "start_time": "2023-08-10T20:19:21.890Z"
   },
   {
    "duration": 96,
    "start_time": "2023-08-10T20:19:23.432Z"
   },
   {
    "duration": 3,
    "start_time": "2023-08-10T20:19:24.405Z"
   },
   {
    "duration": 5894,
    "start_time": "2023-08-10T20:19:24.705Z"
   },
   {
    "duration": 27,
    "start_time": "2023-08-10T20:19:30.600Z"
   },
   {
    "duration": 15,
    "start_time": "2023-08-10T20:19:30.628Z"
   },
   {
    "duration": 27,
    "start_time": "2023-08-10T20:19:30.645Z"
   },
   {
    "duration": 476953,
    "start_time": "2023-08-10T20:19:31.925Z"
   },
   {
    "duration": 3,
    "start_time": "2023-08-10T20:27:28.880Z"
   },
   {
    "duration": 7,
    "start_time": "2023-08-10T20:27:28.884Z"
   },
   {
    "duration": 53348,
    "start_time": "2023-08-10T20:27:28.893Z"
   },
   {
    "duration": 5,
    "start_time": "2023-08-10T20:28:22.242Z"
   },
   {
    "duration": 5768,
    "start_time": "2023-08-10T20:28:22.248Z"
   },
   {
    "duration": 2,
    "start_time": "2023-08-10T20:28:28.018Z"
   },
   {
    "duration": 32,
    "start_time": "2023-08-10T20:28:28.022Z"
   },
   {
    "duration": 15,
    "start_time": "2023-08-10T20:28:28.056Z"
   },
   {
    "duration": 634,
    "start_time": "2023-08-10T20:28:28.074Z"
   },
   {
    "duration": 4,
    "start_time": "2023-08-10T20:28:48.382Z"
   },
   {
    "duration": 3,
    "start_time": "2023-08-10T20:28:48.913Z"
   },
   {
    "duration": 9,
    "start_time": "2023-08-10T20:28:52.012Z"
   },
   {
    "duration": 6,
    "start_time": "2023-08-10T20:29:22.433Z"
   },
   {
    "duration": 334861,
    "start_time": "2023-08-10T20:29:34.507Z"
   },
   {
    "duration": 4,
    "start_time": "2023-08-10T20:35:35.807Z"
   },
   {
    "duration": 3,
    "start_time": "2023-08-10T20:37:20.973Z"
   },
   {
    "duration": 3,
    "start_time": "2023-08-10T20:37:21.274Z"
   },
   {
    "duration": 530525,
    "start_time": "2023-08-10T20:37:22.714Z"
   },
   {
    "duration": 4,
    "start_time": "2023-08-10T20:46:13.241Z"
   },
   {
    "duration": 12,
    "start_time": "2023-08-10T20:46:52.330Z"
   },
   {
    "duration": 12,
    "start_time": "2023-08-10T20:46:56.134Z"
   }
  ],
  "kernelspec": {
   "display_name": "Python 3 (ipykernel)",
   "language": "python",
   "name": "python3"
  },
  "language_info": {
   "codemirror_mode": {
    "name": "ipython",
    "version": 3
   },
   "file_extension": ".py",
   "mimetype": "text/x-python",
   "name": "python",
   "nbconvert_exporter": "python",
   "pygments_lexer": "ipython3",
   "version": "3.9.19"
  },
  "toc": {
   "base_numbering": 1,
   "nav_menu": {},
   "number_sections": true,
   "sideBar": true,
   "skip_h1_title": true,
   "title_cell": "Table of Contents",
   "title_sidebar": "Contents",
   "toc_cell": false,
   "toc_position": {},
   "toc_section_display": true,
   "toc_window_display": false
  }
 },
 "nbformat": 4,
 "nbformat_minor": 5
}
