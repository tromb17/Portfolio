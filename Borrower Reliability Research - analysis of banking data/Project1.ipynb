{
 "cells": [
  {
   "cell_type": "markdown",
   "id": "003b049c",
   "metadata": {
    "deletable": false,
    "editable": false,
    "id": "c81daeeb"
   },
   "source": [
    "# Исследование надежности заемщиков\n"
   ]
  },
  {
   "cell_type": "code",
   "execution_count": 27,
   "id": "e3fdf93f",
   "metadata": {},
   "outputs": [],
   "source": [
    "import pandas as pd\n",
    "\n",
    "try:\n",
    "    data = pd.read_csv('/datasets/data.csv')\n",
    "except:\n",
    "    data = pd.read_csv('https://code.s3.yandex.net/datasets/data.csv')"
   ]
  },
  {
   "cell_type": "markdown",
   "id": "581c6d6b-51bb-461c-b1d6-1e3fe66604b2",
   "metadata": {},
   "source": [
    "## Предобработка данных"
   ]
  },
  {
   "cell_type": "markdown",
   "id": "ea2cc945-3805-4615-88d2-67eb39287aae",
   "metadata": {},
   "source": [
    "### Выгрузка данных"
   ]
  },
  {
   "cell_type": "code",
   "execution_count": 28,
   "id": "8f06cf74",
   "metadata": {},
   "outputs": [
    {
     "data": {
      "text/html": [
       "<div>\n",
       "<style scoped>\n",
       "    .dataframe tbody tr th:only-of-type {\n",
       "        vertical-align: middle;\n",
       "    }\n",
       "\n",
       "    .dataframe tbody tr th {\n",
       "        vertical-align: top;\n",
       "    }\n",
       "\n",
       "    .dataframe thead th {\n",
       "        text-align: right;\n",
       "    }\n",
       "</style>\n",
       "<table border=\"1\" class=\"dataframe\">\n",
       "  <thead>\n",
       "    <tr style=\"text-align: right;\">\n",
       "      <th></th>\n",
       "      <th>children</th>\n",
       "      <th>days_employed</th>\n",
       "      <th>dob_years</th>\n",
       "      <th>education</th>\n",
       "      <th>education_id</th>\n",
       "      <th>family_status</th>\n",
       "      <th>family_status_id</th>\n",
       "      <th>gender</th>\n",
       "      <th>income_type</th>\n",
       "      <th>debt</th>\n",
       "      <th>total_income</th>\n",
       "      <th>purpose</th>\n",
       "    </tr>\n",
       "  </thead>\n",
       "  <tbody>\n",
       "    <tr>\n",
       "      <th>0</th>\n",
       "      <td>1</td>\n",
       "      <td>-8437.673028</td>\n",
       "      <td>42</td>\n",
       "      <td>высшее</td>\n",
       "      <td>0</td>\n",
       "      <td>женат / замужем</td>\n",
       "      <td>0</td>\n",
       "      <td>F</td>\n",
       "      <td>сотрудник</td>\n",
       "      <td>0</td>\n",
       "      <td>253875.639453</td>\n",
       "      <td>покупка жилья</td>\n",
       "    </tr>\n",
       "    <tr>\n",
       "      <th>1</th>\n",
       "      <td>1</td>\n",
       "      <td>-4024.803754</td>\n",
       "      <td>36</td>\n",
       "      <td>среднее</td>\n",
       "      <td>1</td>\n",
       "      <td>женат / замужем</td>\n",
       "      <td>0</td>\n",
       "      <td>F</td>\n",
       "      <td>сотрудник</td>\n",
       "      <td>0</td>\n",
       "      <td>112080.014102</td>\n",
       "      <td>приобретение автомобиля</td>\n",
       "    </tr>\n",
       "    <tr>\n",
       "      <th>2</th>\n",
       "      <td>0</td>\n",
       "      <td>-5623.422610</td>\n",
       "      <td>33</td>\n",
       "      <td>Среднее</td>\n",
       "      <td>1</td>\n",
       "      <td>женат / замужем</td>\n",
       "      <td>0</td>\n",
       "      <td>M</td>\n",
       "      <td>сотрудник</td>\n",
       "      <td>0</td>\n",
       "      <td>145885.952297</td>\n",
       "      <td>покупка жилья</td>\n",
       "    </tr>\n",
       "    <tr>\n",
       "      <th>3</th>\n",
       "      <td>3</td>\n",
       "      <td>-4124.747207</td>\n",
       "      <td>32</td>\n",
       "      <td>среднее</td>\n",
       "      <td>1</td>\n",
       "      <td>женат / замужем</td>\n",
       "      <td>0</td>\n",
       "      <td>M</td>\n",
       "      <td>сотрудник</td>\n",
       "      <td>0</td>\n",
       "      <td>267628.550329</td>\n",
       "      <td>дополнительное образование</td>\n",
       "    </tr>\n",
       "    <tr>\n",
       "      <th>4</th>\n",
       "      <td>0</td>\n",
       "      <td>340266.072047</td>\n",
       "      <td>53</td>\n",
       "      <td>среднее</td>\n",
       "      <td>1</td>\n",
       "      <td>гражданский брак</td>\n",
       "      <td>1</td>\n",
       "      <td>F</td>\n",
       "      <td>пенсионер</td>\n",
       "      <td>0</td>\n",
       "      <td>158616.077870</td>\n",
       "      <td>сыграть свадьбу</td>\n",
       "    </tr>\n",
       "    <tr>\n",
       "      <th>5</th>\n",
       "      <td>0</td>\n",
       "      <td>-926.185831</td>\n",
       "      <td>27</td>\n",
       "      <td>высшее</td>\n",
       "      <td>0</td>\n",
       "      <td>гражданский брак</td>\n",
       "      <td>1</td>\n",
       "      <td>M</td>\n",
       "      <td>компаньон</td>\n",
       "      <td>0</td>\n",
       "      <td>255763.565419</td>\n",
       "      <td>покупка жилья</td>\n",
       "    </tr>\n",
       "    <tr>\n",
       "      <th>6</th>\n",
       "      <td>0</td>\n",
       "      <td>-2879.202052</td>\n",
       "      <td>43</td>\n",
       "      <td>высшее</td>\n",
       "      <td>0</td>\n",
       "      <td>женат / замужем</td>\n",
       "      <td>0</td>\n",
       "      <td>F</td>\n",
       "      <td>компаньон</td>\n",
       "      <td>0</td>\n",
       "      <td>240525.971920</td>\n",
       "      <td>операции с жильем</td>\n",
       "    </tr>\n",
       "    <tr>\n",
       "      <th>7</th>\n",
       "      <td>0</td>\n",
       "      <td>-152.779569</td>\n",
       "      <td>50</td>\n",
       "      <td>СРЕДНЕЕ</td>\n",
       "      <td>1</td>\n",
       "      <td>женат / замужем</td>\n",
       "      <td>0</td>\n",
       "      <td>M</td>\n",
       "      <td>сотрудник</td>\n",
       "      <td>0</td>\n",
       "      <td>135823.934197</td>\n",
       "      <td>образование</td>\n",
       "    </tr>\n",
       "    <tr>\n",
       "      <th>8</th>\n",
       "      <td>2</td>\n",
       "      <td>-6929.865299</td>\n",
       "      <td>35</td>\n",
       "      <td>ВЫСШЕЕ</td>\n",
       "      <td>0</td>\n",
       "      <td>гражданский брак</td>\n",
       "      <td>1</td>\n",
       "      <td>F</td>\n",
       "      <td>сотрудник</td>\n",
       "      <td>0</td>\n",
       "      <td>95856.832424</td>\n",
       "      <td>на проведение свадьбы</td>\n",
       "    </tr>\n",
       "    <tr>\n",
       "      <th>9</th>\n",
       "      <td>0</td>\n",
       "      <td>-2188.756445</td>\n",
       "      <td>41</td>\n",
       "      <td>среднее</td>\n",
       "      <td>1</td>\n",
       "      <td>женат / замужем</td>\n",
       "      <td>0</td>\n",
       "      <td>M</td>\n",
       "      <td>сотрудник</td>\n",
       "      <td>0</td>\n",
       "      <td>144425.938277</td>\n",
       "      <td>покупка жилья для семьи</td>\n",
       "    </tr>\n",
       "    <tr>\n",
       "      <th>10</th>\n",
       "      <td>2</td>\n",
       "      <td>-4171.483647</td>\n",
       "      <td>36</td>\n",
       "      <td>высшее</td>\n",
       "      <td>0</td>\n",
       "      <td>женат / замужем</td>\n",
       "      <td>0</td>\n",
       "      <td>M</td>\n",
       "      <td>компаньон</td>\n",
       "      <td>0</td>\n",
       "      <td>113943.491460</td>\n",
       "      <td>покупка недвижимости</td>\n",
       "    </tr>\n",
       "    <tr>\n",
       "      <th>11</th>\n",
       "      <td>0</td>\n",
       "      <td>-792.701887</td>\n",
       "      <td>40</td>\n",
       "      <td>среднее</td>\n",
       "      <td>1</td>\n",
       "      <td>женат / замужем</td>\n",
       "      <td>0</td>\n",
       "      <td>F</td>\n",
       "      <td>сотрудник</td>\n",
       "      <td>0</td>\n",
       "      <td>77069.234271</td>\n",
       "      <td>покупка коммерческой недвижимости</td>\n",
       "    </tr>\n",
       "    <tr>\n",
       "      <th>12</th>\n",
       "      <td>0</td>\n",
       "      <td>NaN</td>\n",
       "      <td>65</td>\n",
       "      <td>среднее</td>\n",
       "      <td>1</td>\n",
       "      <td>гражданский брак</td>\n",
       "      <td>1</td>\n",
       "      <td>M</td>\n",
       "      <td>пенсионер</td>\n",
       "      <td>0</td>\n",
       "      <td>NaN</td>\n",
       "      <td>сыграть свадьбу</td>\n",
       "    </tr>\n",
       "    <tr>\n",
       "      <th>13</th>\n",
       "      <td>0</td>\n",
       "      <td>-1846.641941</td>\n",
       "      <td>54</td>\n",
       "      <td>неоконченное высшее</td>\n",
       "      <td>2</td>\n",
       "      <td>женат / замужем</td>\n",
       "      <td>0</td>\n",
       "      <td>F</td>\n",
       "      <td>сотрудник</td>\n",
       "      <td>0</td>\n",
       "      <td>130458.228857</td>\n",
       "      <td>приобретение автомобиля</td>\n",
       "    </tr>\n",
       "    <tr>\n",
       "      <th>14</th>\n",
       "      <td>0</td>\n",
       "      <td>-1844.956182</td>\n",
       "      <td>56</td>\n",
       "      <td>высшее</td>\n",
       "      <td>0</td>\n",
       "      <td>гражданский брак</td>\n",
       "      <td>1</td>\n",
       "      <td>F</td>\n",
       "      <td>компаньон</td>\n",
       "      <td>1</td>\n",
       "      <td>165127.911772</td>\n",
       "      <td>покупка жилой недвижимости</td>\n",
       "    </tr>\n",
       "    <tr>\n",
       "      <th>15</th>\n",
       "      <td>1</td>\n",
       "      <td>-972.364419</td>\n",
       "      <td>26</td>\n",
       "      <td>среднее</td>\n",
       "      <td>1</td>\n",
       "      <td>женат / замужем</td>\n",
       "      <td>0</td>\n",
       "      <td>F</td>\n",
       "      <td>сотрудник</td>\n",
       "      <td>0</td>\n",
       "      <td>116820.904450</td>\n",
       "      <td>строительство собственной недвижимости</td>\n",
       "    </tr>\n",
       "    <tr>\n",
       "      <th>16</th>\n",
       "      <td>0</td>\n",
       "      <td>-1719.934226</td>\n",
       "      <td>35</td>\n",
       "      <td>среднее</td>\n",
       "      <td>1</td>\n",
       "      <td>женат / замужем</td>\n",
       "      <td>0</td>\n",
       "      <td>F</td>\n",
       "      <td>сотрудник</td>\n",
       "      <td>0</td>\n",
       "      <td>289202.704229</td>\n",
       "      <td>недвижимость</td>\n",
       "    </tr>\n",
       "    <tr>\n",
       "      <th>17</th>\n",
       "      <td>0</td>\n",
       "      <td>-2369.999720</td>\n",
       "      <td>33</td>\n",
       "      <td>высшее</td>\n",
       "      <td>0</td>\n",
       "      <td>гражданский брак</td>\n",
       "      <td>1</td>\n",
       "      <td>M</td>\n",
       "      <td>сотрудник</td>\n",
       "      <td>0</td>\n",
       "      <td>90410.586745</td>\n",
       "      <td>строительство недвижимости</td>\n",
       "    </tr>\n",
       "    <tr>\n",
       "      <th>18</th>\n",
       "      <td>0</td>\n",
       "      <td>400281.136913</td>\n",
       "      <td>53</td>\n",
       "      <td>среднее</td>\n",
       "      <td>1</td>\n",
       "      <td>вдовец / вдова</td>\n",
       "      <td>2</td>\n",
       "      <td>F</td>\n",
       "      <td>пенсионер</td>\n",
       "      <td>0</td>\n",
       "      <td>56823.777243</td>\n",
       "      <td>на покупку подержанного автомобиля</td>\n",
       "    </tr>\n",
       "    <tr>\n",
       "      <th>19</th>\n",
       "      <td>0</td>\n",
       "      <td>-10038.818549</td>\n",
       "      <td>48</td>\n",
       "      <td>СРЕДНЕЕ</td>\n",
       "      <td>1</td>\n",
       "      <td>в разводе</td>\n",
       "      <td>3</td>\n",
       "      <td>F</td>\n",
       "      <td>сотрудник</td>\n",
       "      <td>0</td>\n",
       "      <td>242831.107982</td>\n",
       "      <td>на покупку своего автомобиля</td>\n",
       "    </tr>\n",
       "  </tbody>\n",
       "</table>\n",
       "</div>"
      ],
      "text/plain": [
       "    children  days_employed  dob_years            education  education_id  \\\n",
       "0          1   -8437.673028         42               высшее             0   \n",
       "1          1   -4024.803754         36              среднее             1   \n",
       "2          0   -5623.422610         33              Среднее             1   \n",
       "3          3   -4124.747207         32              среднее             1   \n",
       "4          0  340266.072047         53              среднее             1   \n",
       "5          0    -926.185831         27               высшее             0   \n",
       "6          0   -2879.202052         43               высшее             0   \n",
       "7          0    -152.779569         50              СРЕДНЕЕ             1   \n",
       "8          2   -6929.865299         35               ВЫСШЕЕ             0   \n",
       "9          0   -2188.756445         41              среднее             1   \n",
       "10         2   -4171.483647         36               высшее             0   \n",
       "11         0    -792.701887         40              среднее             1   \n",
       "12         0            NaN         65              среднее             1   \n",
       "13         0   -1846.641941         54  неоконченное высшее             2   \n",
       "14         0   -1844.956182         56               высшее             0   \n",
       "15         1    -972.364419         26              среднее             1   \n",
       "16         0   -1719.934226         35              среднее             1   \n",
       "17         0   -2369.999720         33               высшее             0   \n",
       "18         0  400281.136913         53              среднее             1   \n",
       "19         0  -10038.818549         48              СРЕДНЕЕ             1   \n",
       "\n",
       "       family_status  family_status_id gender income_type  debt  \\\n",
       "0    женат / замужем                 0      F   сотрудник     0   \n",
       "1    женат / замужем                 0      F   сотрудник     0   \n",
       "2    женат / замужем                 0      M   сотрудник     0   \n",
       "3    женат / замужем                 0      M   сотрудник     0   \n",
       "4   гражданский брак                 1      F   пенсионер     0   \n",
       "5   гражданский брак                 1      M   компаньон     0   \n",
       "6    женат / замужем                 0      F   компаньон     0   \n",
       "7    женат / замужем                 0      M   сотрудник     0   \n",
       "8   гражданский брак                 1      F   сотрудник     0   \n",
       "9    женат / замужем                 0      M   сотрудник     0   \n",
       "10   женат / замужем                 0      M   компаньон     0   \n",
       "11   женат / замужем                 0      F   сотрудник     0   \n",
       "12  гражданский брак                 1      M   пенсионер     0   \n",
       "13   женат / замужем                 0      F   сотрудник     0   \n",
       "14  гражданский брак                 1      F   компаньон     1   \n",
       "15   женат / замужем                 0      F   сотрудник     0   \n",
       "16   женат / замужем                 0      F   сотрудник     0   \n",
       "17  гражданский брак                 1      M   сотрудник     0   \n",
       "18    вдовец / вдова                 2      F   пенсионер     0   \n",
       "19         в разводе                 3      F   сотрудник     0   \n",
       "\n",
       "     total_income                                 purpose  \n",
       "0   253875.639453                           покупка жилья  \n",
       "1   112080.014102                 приобретение автомобиля  \n",
       "2   145885.952297                           покупка жилья  \n",
       "3   267628.550329              дополнительное образование  \n",
       "4   158616.077870                         сыграть свадьбу  \n",
       "5   255763.565419                           покупка жилья  \n",
       "6   240525.971920                       операции с жильем  \n",
       "7   135823.934197                             образование  \n",
       "8    95856.832424                   на проведение свадьбы  \n",
       "9   144425.938277                 покупка жилья для семьи  \n",
       "10  113943.491460                    покупка недвижимости  \n",
       "11   77069.234271       покупка коммерческой недвижимости  \n",
       "12            NaN                         сыграть свадьбу  \n",
       "13  130458.228857                 приобретение автомобиля  \n",
       "14  165127.911772              покупка жилой недвижимости  \n",
       "15  116820.904450  строительство собственной недвижимости  \n",
       "16  289202.704229                            недвижимость  \n",
       "17   90410.586745              строительство недвижимости  \n",
       "18   56823.777243      на покупку подержанного автомобиля  \n",
       "19  242831.107982            на покупку своего автомобиля  "
      ]
     },
     "execution_count": 28,
     "metadata": {},
     "output_type": "execute_result"
    }
   ],
   "source": [
    "data.head(20)"
   ]
  },
  {
   "cell_type": "code",
   "execution_count": 29,
   "id": "0fd4d8a0",
   "metadata": {},
   "outputs": [
    {
     "name": "stdout",
     "output_type": "stream",
     "text": [
      "<class 'pandas.core.frame.DataFrame'>\n",
      "RangeIndex: 21525 entries, 0 to 21524\n",
      "Data columns (total 12 columns):\n",
      " #   Column            Non-Null Count  Dtype  \n",
      "---  ------            --------------  -----  \n",
      " 0   children          21525 non-null  int64  \n",
      " 1   days_employed     19351 non-null  float64\n",
      " 2   dob_years         21525 non-null  int64  \n",
      " 3   education         21525 non-null  object \n",
      " 4   education_id      21525 non-null  int64  \n",
      " 5   family_status     21525 non-null  object \n",
      " 6   family_status_id  21525 non-null  int64  \n",
      " 7   gender            21525 non-null  object \n",
      " 8   income_type       21525 non-null  object \n",
      " 9   debt              21525 non-null  int64  \n",
      " 10  total_income      19351 non-null  float64\n",
      " 11  purpose           21525 non-null  object \n",
      "dtypes: float64(2), int64(5), object(5)\n",
      "memory usage: 2.0+ MB\n"
     ]
    }
   ],
   "source": [
    "data.info()"
   ]
  },
  {
   "cell_type": "code",
   "execution_count": 30,
   "id": "8776c9cc",
   "metadata": {},
   "outputs": [
    {
     "data": {
      "text/plain": [
       "children               0\n",
       "days_employed       2174\n",
       "dob_years              0\n",
       "education              0\n",
       "education_id           0\n",
       "family_status          0\n",
       "family_status_id       0\n",
       "gender                 0\n",
       "income_type            0\n",
       "debt                   0\n",
       "total_income        2174\n",
       "purpose                0\n",
       "dtype: int64"
      ]
     },
     "execution_count": 30,
     "metadata": {},
     "output_type": "execute_result"
    }
   ],
   "source": [
    "data.isna().sum()"
   ]
  },
  {
   "cell_type": "code",
   "execution_count": 31,
   "id": "39352974",
   "metadata": {},
   "outputs": [],
   "source": [
    "for t in data['income_type'].unique():\n",
    "    data.loc[(data['income_type'] == t) & (data['total_income'].isna()), 'total_income'] = \\\n",
    "    data.loc[(data['income_type'] == t), 'total_income'].median()"
   ]
  },
  {
   "cell_type": "code",
   "execution_count": 32,
   "id": "4b9e7e54",
   "metadata": {},
   "outputs": [],
   "source": [
    "data['days_employed'] = data['days_employed'].abs()"
   ]
  },
  {
   "cell_type": "code",
   "execution_count": 33,
   "id": "e0a4d4e9",
   "metadata": {},
   "outputs": [
    {
     "data": {
      "text/plain": [
       "income_type\n",
       "безработный        366413.652744\n",
       "в декрете            3296.759962\n",
       "госслужащий          2689.368353\n",
       "компаньон            1547.382223\n",
       "пенсионер          365213.306266\n",
       "предприниматель       520.848083\n",
       "сотрудник            1574.202821\n",
       "студент               578.751554\n",
       "Name: days_employed, dtype: float64"
      ]
     },
     "execution_count": 33,
     "metadata": {},
     "output_type": "execute_result"
    }
   ],
   "source": [
    "data.groupby('income_type')['days_employed'].agg('median')"
   ]
  },
  {
   "cell_type": "markdown",
   "id": "7c33fa56",
   "metadata": {},
   "source": [
    "У двух типов (безработные и пенсионеры) получатся аномально большие значения. Исправить такие значения сложно, поэтому оставьте их как есть. Тем более этот столбец не понадобится вам для исследования."
   ]
  },
  {
   "cell_type": "code",
   "execution_count": 34,
   "id": "3b134f85",
   "metadata": {},
   "outputs": [
    {
     "data": {
      "text/plain": [
       "array([ 1,  0,  3,  2, -1,  4, 20,  5], dtype=int64)"
      ]
     },
     "execution_count": 34,
     "metadata": {},
     "output_type": "execute_result"
    }
   ],
   "source": [
    "data['children'].unique()"
   ]
  },
  {
   "cell_type": "code",
   "execution_count": 35,
   "id": "b6bd8d92",
   "metadata": {},
   "outputs": [],
   "source": [
    "data = data[(data['children'] != -1) & (data['children'] != 20)]"
   ]
  },
  {
   "cell_type": "code",
   "execution_count": 36,
   "id": "e82eccc1",
   "metadata": {},
   "outputs": [
    {
     "data": {
      "text/plain": [
       "array([1, 0, 3, 2, 4, 5], dtype=int64)"
      ]
     },
     "execution_count": 36,
     "metadata": {},
     "output_type": "execute_result"
    }
   ],
   "source": [
    "data['children'].unique()"
   ]
  },
  {
   "cell_type": "markdown",
   "id": "80d0e8a8",
   "metadata": {},
   "source": [
    "### Удаление пропусков"
   ]
  },
  {
   "cell_type": "code",
   "execution_count": 37,
   "id": "e64058a3",
   "metadata": {},
   "outputs": [],
   "source": [
    "for t in data['income_type'].unique():\n",
    "    data.loc[(data['income_type'] == t) & (data['days_employed'].isna()), 'days_employed'] = \\\n",
    "    data.loc[(data['income_type'] == t), 'days_employed'].median()"
   ]
  },
  {
   "cell_type": "code",
   "execution_count": 38,
   "id": "a17db1c5",
   "metadata": {},
   "outputs": [
    {
     "data": {
      "text/plain": [
       "children            0\n",
       "days_employed       0\n",
       "dob_years           0\n",
       "education           0\n",
       "education_id        0\n",
       "family_status       0\n",
       "family_status_id    0\n",
       "gender              0\n",
       "income_type         0\n",
       "debt                0\n",
       "total_income        0\n",
       "purpose             0\n",
       "dtype: int64"
      ]
     },
     "execution_count": 38,
     "metadata": {},
     "output_type": "execute_result"
    }
   ],
   "source": [
    "data.isna().sum()"
   ]
  },
  {
   "cell_type": "markdown",
   "id": "1e94dc05",
   "metadata": {},
   "source": [
    "### Изменение типов данных"
   ]
  },
  {
   "cell_type": "code",
   "execution_count": 39,
   "id": "57ab2f67",
   "metadata": {},
   "outputs": [],
   "source": [
    "data['total_income'] = data['total_income'].astype(int)"
   ]
  },
  {
   "cell_type": "markdown",
   "id": "8e625ab0",
   "metadata": {},
   "source": [
    "### Обработка дубликатов"
   ]
  },
  {
   "cell_type": "code",
   "execution_count": 40,
   "id": "0d062c8f",
   "metadata": {},
   "outputs": [],
   "source": [
    "data['education'] = data['education'].str.lower()"
   ]
  },
  {
   "cell_type": "code",
   "execution_count": 41,
   "id": "389c741a",
   "metadata": {},
   "outputs": [
    {
     "data": {
      "text/plain": [
       "71"
      ]
     },
     "execution_count": 41,
     "metadata": {},
     "output_type": "execute_result"
    }
   ],
   "source": [
    "data.duplicated().sum()"
   ]
  },
  {
   "cell_type": "code",
   "execution_count": 42,
   "id": "edc9d93b",
   "metadata": {},
   "outputs": [],
   "source": [
    "data = data.drop_duplicates()"
   ]
  },
  {
   "cell_type": "markdown",
   "id": "6937e20b",
   "metadata": {},
   "source": [
    "### Категоризация данных"
   ]
  },
  {
   "cell_type": "code",
   "execution_count": 43,
   "id": "b7fa4c55",
   "metadata": {},
   "outputs": [],
   "source": [
    "def categorize_income(income):\n",
    "    try:\n",
    "        if 0 <= income <= 30000:\n",
    "            return 'E'\n",
    "        elif 30001 <= income <= 50000:\n",
    "            return 'D'\n",
    "        elif 50001 <= income <= 200000:\n",
    "            return 'C'\n",
    "        elif 200001 <= income <= 1000000:\n",
    "            return 'B'\n",
    "        elif income >= 1000001:\n",
    "            return 'A'\n",
    "    except:\n",
    "        pass"
   ]
  },
  {
   "cell_type": "code",
   "execution_count": 44,
   "id": "2ef86edf",
   "metadata": {},
   "outputs": [],
   "source": [
    "data['total_income_category'] = data['total_income'].apply(categorize_income)"
   ]
  },
  {
   "cell_type": "code",
   "execution_count": 45,
   "id": "c268755f",
   "metadata": {},
   "outputs": [
    {
     "data": {
      "text/plain": [
       "array(['покупка жилья', 'приобретение автомобиля',\n",
       "       'дополнительное образование', 'сыграть свадьбу',\n",
       "       'операции с жильем', 'образование', 'на проведение свадьбы',\n",
       "       'покупка жилья для семьи', 'покупка недвижимости',\n",
       "       'покупка коммерческой недвижимости', 'покупка жилой недвижимости',\n",
       "       'строительство собственной недвижимости', 'недвижимость',\n",
       "       'строительство недвижимости', 'на покупку подержанного автомобиля',\n",
       "       'на покупку своего автомобиля',\n",
       "       'операции с коммерческой недвижимостью',\n",
       "       'строительство жилой недвижимости', 'жилье',\n",
       "       'операции со своей недвижимостью', 'автомобили',\n",
       "       'заняться образованием', 'сделка с подержанным автомобилем',\n",
       "       'получение образования', 'автомобиль', 'свадьба',\n",
       "       'получение дополнительного образования', 'покупка своего жилья',\n",
       "       'операции с недвижимостью', 'получение высшего образования',\n",
       "       'свой автомобиль', 'сделка с автомобилем',\n",
       "       'профильное образование', 'высшее образование',\n",
       "       'покупка жилья для сдачи', 'на покупку автомобиля', 'ремонт жилью',\n",
       "       'заняться высшим образованием'], dtype=object)"
      ]
     },
     "execution_count": 45,
     "metadata": {},
     "output_type": "execute_result"
    }
   ],
   "source": [
    "data['purpose'].unique()"
   ]
  },
  {
   "cell_type": "code",
   "execution_count": 46,
   "id": "71e3d38a",
   "metadata": {},
   "outputs": [],
   "source": [
    "def categorize_purpose(row):\n",
    "    try:\n",
    "        if 'автом' in row:\n",
    "            return 'операции с автомобилем'\n",
    "        elif 'жил' in row or 'недвиж' in row:\n",
    "            return 'операции с недвижимостью'\n",
    "        elif 'свад' in row:\n",
    "            return 'проведение свадьбы'\n",
    "        elif 'образов' in row:\n",
    "            return 'получение образования'\n",
    "    except:\n",
    "        return 'нет категории'"
   ]
  },
  {
   "cell_type": "code",
   "execution_count": 47,
   "id": "bc283319",
   "metadata": {},
   "outputs": [],
   "source": [
    "data['purpose_category'] = data['purpose'].apply(categorize_purpose)"
   ]
  },
  {
   "cell_type": "markdown",
   "id": "12ddcdb3",
   "metadata": {},
   "source": [
    "### Шаг 3. Исследование данных"
   ]
  },
  {
   "cell_type": "code",
   "execution_count": 48,
   "id": "ce9dcdcb",
   "metadata": {},
   "outputs": [
    {
     "data": {
      "text/html": [
       "<div>\n",
       "<style scoped>\n",
       "    .dataframe tbody tr th:only-of-type {\n",
       "        vertical-align: middle;\n",
       "    }\n",
       "\n",
       "    .dataframe tbody tr th {\n",
       "        vertical-align: top;\n",
       "    }\n",
       "\n",
       "    .dataframe thead th {\n",
       "        text-align: right;\n",
       "    }\n",
       "</style>\n",
       "<table border=\"1\" class=\"dataframe\">\n",
       "  <thead>\n",
       "    <tr style=\"text-align: right;\">\n",
       "      <th></th>\n",
       "      <th>Общее количество</th>\n",
       "      <th>Доля должников</th>\n",
       "      <th>Количество должников</th>\n",
       "    </tr>\n",
       "    <tr>\n",
       "      <th>children</th>\n",
       "      <th></th>\n",
       "      <th></th>\n",
       "      <th></th>\n",
       "    </tr>\n",
       "  </thead>\n",
       "  <tbody>\n",
       "    <tr>\n",
       "      <th>0</th>\n",
       "      <td>14091</td>\n",
       "      <td>0.075438</td>\n",
       "      <td>1063</td>\n",
       "    </tr>\n",
       "    <tr>\n",
       "      <th>1</th>\n",
       "      <td>4808</td>\n",
       "      <td>0.092346</td>\n",
       "      <td>444</td>\n",
       "    </tr>\n",
       "    <tr>\n",
       "      <th>2</th>\n",
       "      <td>2052</td>\n",
       "      <td>0.094542</td>\n",
       "      <td>194</td>\n",
       "    </tr>\n",
       "    <tr>\n",
       "      <th>3</th>\n",
       "      <td>330</td>\n",
       "      <td>0.081818</td>\n",
       "      <td>27</td>\n",
       "    </tr>\n",
       "    <tr>\n",
       "      <th>4</th>\n",
       "      <td>41</td>\n",
       "      <td>0.097561</td>\n",
       "      <td>4</td>\n",
       "    </tr>\n",
       "    <tr>\n",
       "      <th>5</th>\n",
       "      <td>9</td>\n",
       "      <td>0.000000</td>\n",
       "      <td>0</td>\n",
       "    </tr>\n",
       "  </tbody>\n",
       "</table>\n",
       "</div>"
      ],
      "text/plain": [
       "          Общее количество  Доля должников  Количество должников\n",
       "children                                                        \n",
       "0                    14091        0.075438                  1063\n",
       "1                     4808        0.092346                   444\n",
       "2                     2052        0.094542                   194\n",
       "3                      330        0.081818                    27\n",
       "4                       41        0.097561                     4\n",
       "5                        9        0.000000                     0"
      ]
     },
     "execution_count": 48,
     "metadata": {},
     "output_type": "execute_result"
    }
   ],
   "source": [
    "data_pivot = data.pivot_table(index='children', values='debt', aggfunc=['count','mean', 'sum'])\n",
    "data_pivot.columns = ['Общее количество', 'Доля должников', 'Количество должников']\n",
    "data_pivot"
   ]
  },
  {
   "cell_type": "code",
   "execution_count": 49,
   "id": "fe4cf233",
   "metadata": {},
   "outputs": [
    {
     "name": "stdout",
     "output_type": "stream",
     "text": [
      "Процент должников с детьми = 9.24%\n",
      "Процент должников без детей = 7.54%\n"
     ]
    }
   ],
   "source": [
    "import seaborn as sns\n",
    "\n",
    "data_child = pd.DataFrame(data=data[['children', 'debt']], columns=['children', 'debt'])\n",
    "\n",
    "#функция для разделения на категории по наличию детей\n",
    "def category_child(children):\n",
    "    if children == 0:\n",
    "        return 'нет детей'\n",
    "    else:\n",
    "        return 'есть дети'\n",
    "#применение функции для создания нового столбца 'child_category'\n",
    "data_child['child_category'] = data_child['children'].apply(category_child)\n",
    "\n",
    "#подсчет количества должников с детьми\n",
    "debt_with_child = data_child[(data_child['child_category'] == 'есть дети') & (data_child['debt'] == 1)]['children'].count() \\\n",
    "    / data_child[data_child['child_category'] == 'есть дети']['child_category'].count()\n",
    "#подсчет количества должников без детей\n",
    "debt_without_child = data_child[(data_child['child_category'] == 'нет детей') & (data_child['debt'] == 1)]['children'].count() \\\n",
    "    / data_child[data_child['child_category'] == 'нет детей']['child_category'].count() \n",
    "\n",
    "print(f'Процент должников с детьми = {debt_with_child * 100:.2f}%')\n",
    "print(f'Процент должников без детей = {debt_without_child * 100:.2f}%')"
   ]
  },
  {
   "cell_type": "code",
   "execution_count": 50,
   "id": "d3ff8a9d",
   "metadata": {},
   "outputs": [
    {
     "name": "stdout",
     "output_type": "stream",
     "text": [
      "Процент должников без детей = 7.54%\n",
      "Процент должников с одним ребенком = 9.23%\n",
      "Процент должников с двумя детьми = 9.45%\n",
      "Процент должников с тремя и более детьми = 8.16%\n"
     ]
    }
   ],
   "source": [
    "#Функция для разделения данных на категории по количеству детей (0, 1, 2, 3+)\n",
    "def count_child(children):\n",
    "    if children == 0:\n",
    "        return 0\n",
    "    elif children == 1:\n",
    "        return 1\n",
    "    elif children == 2:\n",
    "        return 2\n",
    "    else:\n",
    "        return '3+'\n",
    "\n",
    "#Создание нового столбца 'count_child' для результатов выполнения созданной функции\n",
    "data_child['count_child'] = data_child['children'].apply(count_child)    \n",
    "\n",
    "#подсчет процентного соотношения количества должников по каждой категории\n",
    "one_child = data_child[(data_child['count_child'] == 1) & (data_child['debt'] == 1)]['children'].count() \\\n",
    "                        / data_child[data_child['count_child'] == 1]['child_category'].count()\n",
    "two_child = data_child[(data_child['count_child'] == 2) & (data_child['debt'] == 1)]['children'].count() \\\n",
    "                        / data_child[data_child['count_child'] == 2]['child_category'].count()\n",
    "three_plus_child = data_child[(data_child['count_child'] == '3+') & (data_child['debt'] == 1)]['children'].count() \\\n",
    "                        / data_child[data_child['count_child'] == '3+']['child_category'].count()\n",
    "\n",
    "print(f'Процент должников без детей = {debt_without_child * 100:.2f}%')\n",
    "print(f'Процент должников с одним ребенком = {one_child * 100:.2f}%')\n",
    "print(f'Процент должников с двумя детьми = {two_child * 100:.2f}%')\n",
    "print(f'Процент должников с тремя и более детьми = {three_plus_child * 100:.2f}%')"
   ]
  },
  {
   "cell_type": "code",
   "execution_count": 51,
   "id": "1d51e2fe",
   "metadata": {},
   "outputs": [
    {
     "data": {
      "text/plain": [
       "0     14091\n",
       "1      4808\n",
       "2      2052\n",
       "3+      380\n",
       "Name: count_child, dtype: int64"
      ]
     },
     "execution_count": 51,
     "metadata": {},
     "output_type": "execute_result"
    }
   ],
   "source": [
    "count_0 = data_child[data_child['count_child'] == 0]['debt'].count()\n",
    "count_1 = data_child[data_child['count_child'] == 1]['debt'].count()\n",
    "count_2 = data_child[data_child['count_child'] == 2]['debt'].count()\n",
    "count_3 = data_child[data_child['count_child'] == '3+']['debt'].count()\n",
    "data_child['count_child'].value_counts()"
   ]
  },
  {
   "cell_type": "code",
   "execution_count": 52,
   "id": "636e4cdb",
   "metadata": {},
   "outputs": [
    {
     "data": {
      "text/html": [
       "<div>\n",
       "<style scoped>\n",
       "    .dataframe tbody tr th:only-of-type {\n",
       "        vertical-align: middle;\n",
       "    }\n",
       "\n",
       "    .dataframe tbody tr th {\n",
       "        vertical-align: top;\n",
       "    }\n",
       "\n",
       "    .dataframe thead th {\n",
       "        text-align: right;\n",
       "    }\n",
       "</style>\n",
       "<table border=\"1\" class=\"dataframe\">\n",
       "  <thead>\n",
       "    <tr style=\"text-align: right;\">\n",
       "      <th></th>\n",
       "      <th>Количество детей</th>\n",
       "      <th>Процент должников</th>\n",
       "      <th>Количество заемщиков</th>\n",
       "    </tr>\n",
       "  </thead>\n",
       "  <tbody>\n",
       "    <tr>\n",
       "      <th>0</th>\n",
       "      <td>0</td>\n",
       "      <td>7.543822</td>\n",
       "      <td>14091</td>\n",
       "    </tr>\n",
       "    <tr>\n",
       "      <th>1</th>\n",
       "      <td>1</td>\n",
       "      <td>9.234609</td>\n",
       "      <td>4808</td>\n",
       "    </tr>\n",
       "    <tr>\n",
       "      <th>2</th>\n",
       "      <td>2</td>\n",
       "      <td>9.454191</td>\n",
       "      <td>2052</td>\n",
       "    </tr>\n",
       "    <tr>\n",
       "      <th>3</th>\n",
       "      <td>3+</td>\n",
       "      <td>8.157895</td>\n",
       "      <td>380</td>\n",
       "    </tr>\n",
       "  </tbody>\n",
       "</table>\n",
       "</div>"
      ],
      "text/plain": [
       "  Количество детей  Процент должников  Количество заемщиков\n",
       "0                0           7.543822                 14091\n",
       "1                1           9.234609                  4808\n",
       "2                2           9.454191                  2052\n",
       "3               3+           8.157895                   380"
      ]
     },
     "execution_count": 52,
     "metadata": {},
     "output_type": "execute_result"
    }
   ],
   "source": [
    "#Создание таблицы для визуализации результатов\n",
    "child_count = [debt_without_child*100 , one_child*100 , two_child*100 , three_plus_child*100]\n",
    "df_count_child = pd.DataFrame(data = {'Количество детей': ['0', '1', '2', '3+'], 'Процент должников': child_count })\n",
    "df_count_child['Количество заемщиков'] = [count_0, count_1, count_2, count_3]\n",
    "df_count_child"
   ]
  },
  {
   "cell_type": "code",
   "execution_count": 53,
   "id": "5f768f24",
   "metadata": {},
   "outputs": [
    {
     "data": {
      "text/html": [
       "<div>\n",
       "<style scoped>\n",
       "    .dataframe tbody tr th:only-of-type {\n",
       "        vertical-align: middle;\n",
       "    }\n",
       "\n",
       "    .dataframe tbody tr th {\n",
       "        vertical-align: top;\n",
       "    }\n",
       "\n",
       "    .dataframe thead th {\n",
       "        text-align: right;\n",
       "    }\n",
       "</style>\n",
       "<table border=\"1\" class=\"dataframe\">\n",
       "  <thead>\n",
       "    <tr style=\"text-align: right;\">\n",
       "      <th></th>\n",
       "      <th>Количество заемщиков</th>\n",
       "      <th>Доля должников</th>\n",
       "      <th>Количество должников</th>\n",
       "    </tr>\n",
       "    <tr>\n",
       "      <th>children</th>\n",
       "      <th></th>\n",
       "      <th></th>\n",
       "      <th></th>\n",
       "    </tr>\n",
       "  </thead>\n",
       "  <tbody>\n",
       "    <tr>\n",
       "      <th>0</th>\n",
       "      <td>14091</td>\n",
       "      <td>0.075438</td>\n",
       "      <td>1063</td>\n",
       "    </tr>\n",
       "    <tr>\n",
       "      <th>1</th>\n",
       "      <td>4808</td>\n",
       "      <td>0.092346</td>\n",
       "      <td>444</td>\n",
       "    </tr>\n",
       "    <tr>\n",
       "      <th>2</th>\n",
       "      <td>2052</td>\n",
       "      <td>0.094542</td>\n",
       "      <td>194</td>\n",
       "    </tr>\n",
       "    <tr>\n",
       "      <th>3</th>\n",
       "      <td>330</td>\n",
       "      <td>0.081818</td>\n",
       "      <td>27</td>\n",
       "    </tr>\n",
       "    <tr>\n",
       "      <th>4</th>\n",
       "      <td>41</td>\n",
       "      <td>0.097561</td>\n",
       "      <td>4</td>\n",
       "    </tr>\n",
       "    <tr>\n",
       "      <th>5</th>\n",
       "      <td>9</td>\n",
       "      <td>0.000000</td>\n",
       "      <td>0</td>\n",
       "    </tr>\n",
       "  </tbody>\n",
       "</table>\n",
       "</div>"
      ],
      "text/plain": [
       "          Количество заемщиков  Доля должников  Количество должников\n",
       "children                                                            \n",
       "0                        14091        0.075438                  1063\n",
       "1                         4808        0.092346                   444\n",
       "2                         2052        0.094542                   194\n",
       "3                          330        0.081818                    27\n",
       "4                           41        0.097561                     4\n",
       "5                            9        0.000000                     0"
      ]
     },
     "execution_count": 53,
     "metadata": {},
     "output_type": "execute_result"
    }
   ],
   "source": [
    "data_pivot = data.pivot_table(index='children', values='debt', aggfunc=['count','mean', 'sum'])\n",
    "data_pivot.columns = ['Количество заемщиков', 'Доля должников', 'Количество должников']\n",
    "data_pivot"
   ]
  },
  {
   "cell_type": "code",
   "execution_count": 54,
   "id": "7554b535",
   "metadata": {},
   "outputs": [
    {
     "data": {
      "image/png": "[encoded data removed]",
      "text/plain": [
       "<Figure size 640x480 with 1 Axes>"
      ]
     },
     "metadata": {},
     "output_type": "display_data"
    }
   ],
   "source": [
    "#Визуализация соотношения категорий с помощью библиотеки seaborn и метода barplot\n",
    "ax = sns.barplot(data=df_count_child, x='Количество детей', y='Процент должников')\n",
    "import matplotlib.pyplot as plt\n",
    "ax.set_title('Соотношение процента должников по количеству детей')\n",
    "plt.grid(axis='y')\n",
    "plt.show()"
   ]
  },
  {
   "cell_type": "markdown",
   "id": "894fba43",
   "metadata": {},
   "source": [
    "**Вывод:**\\\n",
    "По результатам исследования можно сделать вывод, что количество детей влияет на возврат кредита в срок.\\\n",
    "Таким образом, график показывает, что если детей нет, то шанс возврата задолженности в срок наивысший, среди остальных категорий. Также можно отметить, если количество детей 3 или более, то шансы возврата кредита в срок становятся больше, чем если детей 1 или 2.\\\n",
    "Было решено объединить 3,4,5 детей в одну категории ('3+'), т.к. для 4 и 5 в данных слишком маленькая выборка, что не будет отражать действительность."
   ]
  },
  {
   "cell_type": "markdown",
   "id": "89383011",
   "metadata": {},
   "source": [
    "Сравнив категории с 0,1 и 2 детьми наблюдается зависимость по увеличению количества детей. Чем детей больше, тем сложнее заемщикам возвращать кредит в срок."
   ]
  },
  {
   "cell_type": "code",
   "execution_count": 55,
   "id": "c78e0753",
   "metadata": {},
   "outputs": [
    {
     "data": {
      "text/html": [
       "<div>\n",
       "<style scoped>\n",
       "    .dataframe tbody tr th:only-of-type {\n",
       "        vertical-align: middle;\n",
       "    }\n",
       "\n",
       "    .dataframe tbody tr th {\n",
       "        vertical-align: top;\n",
       "    }\n",
       "\n",
       "    .dataframe thead th {\n",
       "        text-align: right;\n",
       "    }\n",
       "</style>\n",
       "<table border=\"1\" class=\"dataframe\">\n",
       "  <thead>\n",
       "    <tr style=\"text-align: right;\">\n",
       "      <th></th>\n",
       "      <th>family_status_id</th>\n",
       "      <th>debt</th>\n",
       "    </tr>\n",
       "    <tr>\n",
       "      <th>family_status</th>\n",
       "      <th></th>\n",
       "      <th></th>\n",
       "    </tr>\n",
       "  </thead>\n",
       "  <tbody>\n",
       "    <tr>\n",
       "      <th>Не женат / не замужем</th>\n",
       "      <td>2796</td>\n",
       "      <td>2796</td>\n",
       "    </tr>\n",
       "    <tr>\n",
       "      <th>в разводе</th>\n",
       "      <td>1189</td>\n",
       "      <td>1189</td>\n",
       "    </tr>\n",
       "    <tr>\n",
       "      <th>вдовец / вдова</th>\n",
       "      <td>951</td>\n",
       "      <td>951</td>\n",
       "    </tr>\n",
       "    <tr>\n",
       "      <th>гражданский брак</th>\n",
       "      <td>4134</td>\n",
       "      <td>4134</td>\n",
       "    </tr>\n",
       "    <tr>\n",
       "      <th>женат / замужем</th>\n",
       "      <td>12261</td>\n",
       "      <td>12261</td>\n",
       "    </tr>\n",
       "  </tbody>\n",
       "</table>\n",
       "</div>"
      ],
      "text/plain": [
       "                       family_status_id   debt\n",
       "family_status                                 \n",
       "Не женат / не замужем              2796   2796\n",
       "в разводе                          1189   1189\n",
       "вдовец / вдова                      951    951\n",
       "гражданский брак                   4134   4134\n",
       "женат / замужем                   12261  12261"
      ]
     },
     "execution_count": 55,
     "metadata": {},
     "output_type": "execute_result"
    }
   ],
   "source": [
    "data_family = pd.DataFrame(data=data[['family_status', 'family_status_id', 'debt']], \\\n",
    "                           columns=['family_status', 'family_status_id', 'debt'])\n",
    "data_family.groupby('family_status').count()"
   ]
  },
  {
   "cell_type": "code",
   "execution_count": 56,
   "id": "eabd56d6",
   "metadata": {},
   "outputs": [
    {
     "name": "stdout",
     "output_type": "stream",
     "text": [
      "Процент должников среди категории женат / замужем = 7.56%\n",
      "Процент должников среди категории гражданский брак = 9.31%\n",
      "Процент должников среди категории вдовец / вдова = 6.62%\n",
      "Процент должников среди категории в разводе = 7.06%\n",
      "Процент должников среди категории Не женат / не замужем = 9.76%\n"
     ]
    }
   ],
   "source": [
    "#посчитать количество должников для каждой категории семейного положения\n",
    "#женат/замужем - 0\n",
    "#гражданский брак - 1\n",
    "#вдовец/вдова - 2\n",
    "#в разводе - 3\n",
    "#не женат/не замужем - 4\n",
    "family_debt = []\n",
    "\n",
    "#циклом проходим по длине уникальных значений семейного положение\n",
    "#для каждой категории высчитываем процент должников относительно всех в этой категории и выводим значения\n",
    "for i in range(len(data_family['family_status'].unique())):\n",
    "    family_debt.append(data_family[(data_family['family_status_id'] == i) & (data_family['debt'] == 1)]['debt'].count() \\\n",
    "            / data_family[data_family['family_status_id'] == i]['debt'].count())\n",
    "    print(f'Процент должников среди категории {data_family[\"family_status\"].unique()[i]} = {family_debt[i] * 100:.2f}%')"
   ]
  },
  {
   "cell_type": "code",
   "execution_count": 57,
   "id": "ccb06065",
   "metadata": {},
   "outputs": [
    {
     "data": {
      "text/html": [
       "<div>\n",
       "<style scoped>\n",
       "    .dataframe tbody tr th:only-of-type {\n",
       "        vertical-align: middle;\n",
       "    }\n",
       "\n",
       "    .dataframe tbody tr th {\n",
       "        vertical-align: top;\n",
       "    }\n",
       "\n",
       "    .dataframe thead th {\n",
       "        text-align: right;\n",
       "    }\n",
       "</style>\n",
       "<table border=\"1\" class=\"dataframe\">\n",
       "  <thead>\n",
       "    <tr style=\"text-align: right;\">\n",
       "      <th></th>\n",
       "      <th>Семейное положение</th>\n",
       "      <th>Процент должников</th>\n",
       "    </tr>\n",
       "  </thead>\n",
       "  <tbody>\n",
       "    <tr>\n",
       "      <th>0</th>\n",
       "      <td>женат / замужем</td>\n",
       "      <td>7.560558</td>\n",
       "    </tr>\n",
       "    <tr>\n",
       "      <th>1</th>\n",
       "      <td>гражданский брак</td>\n",
       "      <td>9.313014</td>\n",
       "    </tr>\n",
       "    <tr>\n",
       "      <th>2</th>\n",
       "      <td>вдовец / вдова</td>\n",
       "      <td>6.624606</td>\n",
       "    </tr>\n",
       "    <tr>\n",
       "      <th>3</th>\n",
       "      <td>в разводе</td>\n",
       "      <td>7.064760</td>\n",
       "    </tr>\n",
       "    <tr>\n",
       "      <th>4</th>\n",
       "      <td>Не женат / не замужем</td>\n",
       "      <td>9.763948</td>\n",
       "    </tr>\n",
       "  </tbody>\n",
       "</table>\n",
       "</div>"
      ],
      "text/plain": [
       "      Семейное положение  Процент должников\n",
       "0        женат / замужем           7.560558\n",
       "1       гражданский брак           9.313014\n",
       "2         вдовец / вдова           6.624606\n",
       "3              в разводе           7.064760\n",
       "4  Не женат / не замужем           9.763948"
      ]
     },
     "execution_count": 57,
     "metadata": {},
     "output_type": "execute_result"
    }
   ],
   "source": [
    "#Создание таблицы для визуализации результатов\n",
    "family_status_debt = []\n",
    "for i in family_debt:\n",
    "    family_status_debt.append(i*100)\n",
    "family_status = data_family['family_status'].unique()\n",
    "df_family_status_debt = pd.DataFrame(data = {'Семейное положение': family_status, 'Процент должников': family_status_debt })\n",
    "df_family_status_debt"
   ]
  },
  {
   "cell_type": "code",
   "execution_count": 58,
   "id": "65d850b5",
   "metadata": {},
   "outputs": [
    {
     "data": {
      "text/html": [
       "<div>\n",
       "<style scoped>\n",
       "    .dataframe tbody tr th:only-of-type {\n",
       "        vertical-align: middle;\n",
       "    }\n",
       "\n",
       "    .dataframe tbody tr th {\n",
       "        vertical-align: top;\n",
       "    }\n",
       "\n",
       "    .dataframe thead th {\n",
       "        text-align: right;\n",
       "    }\n",
       "</style>\n",
       "<table border=\"1\" class=\"dataframe\">\n",
       "  <thead>\n",
       "    <tr style=\"text-align: right;\">\n",
       "      <th></th>\n",
       "      <th>Количество заемщиков</th>\n",
       "      <th>Доля должников</th>\n",
       "      <th>Коичество должников</th>\n",
       "    </tr>\n",
       "    <tr>\n",
       "      <th>family_status</th>\n",
       "      <th></th>\n",
       "      <th></th>\n",
       "      <th></th>\n",
       "    </tr>\n",
       "  </thead>\n",
       "  <tbody>\n",
       "    <tr>\n",
       "      <th>Не женат / не замужем</th>\n",
       "      <td>2796</td>\n",
       "      <td>0.097639</td>\n",
       "      <td>273</td>\n",
       "    </tr>\n",
       "    <tr>\n",
       "      <th>в разводе</th>\n",
       "      <td>1189</td>\n",
       "      <td>0.070648</td>\n",
       "      <td>84</td>\n",
       "    </tr>\n",
       "    <tr>\n",
       "      <th>вдовец / вдова</th>\n",
       "      <td>951</td>\n",
       "      <td>0.066246</td>\n",
       "      <td>63</td>\n",
       "    </tr>\n",
       "    <tr>\n",
       "      <th>гражданский брак</th>\n",
       "      <td>4134</td>\n",
       "      <td>0.093130</td>\n",
       "      <td>385</td>\n",
       "    </tr>\n",
       "    <tr>\n",
       "      <th>женат / замужем</th>\n",
       "      <td>12261</td>\n",
       "      <td>0.075606</td>\n",
       "      <td>927</td>\n",
       "    </tr>\n",
       "  </tbody>\n",
       "</table>\n",
       "</div>"
      ],
      "text/plain": [
       "                       Количество заемщиков  Доля должников  \\\n",
       "family_status                                                 \n",
       "Не женат / не замужем                  2796        0.097639   \n",
       "в разводе                              1189        0.070648   \n",
       "вдовец / вдова                          951        0.066246   \n",
       "гражданский брак                       4134        0.093130   \n",
       "женат / замужем                       12261        0.075606   \n",
       "\n",
       "                       Коичество должников  \n",
       "family_status                               \n",
       "Не женат / не замужем                  273  \n",
       "в разводе                               84  \n",
       "вдовец / вдова                          63  \n",
       "гражданский брак                       385  \n",
       "женат / замужем                        927  "
      ]
     },
     "execution_count": 58,
     "metadata": {},
     "output_type": "execute_result"
    }
   ],
   "source": [
    "data_pivot = data.pivot_table(index='family_status', values='debt', aggfunc=['count', 'mean', 'sum'])\n",
    "data_pivot.columns = ['Количество заемщиков', 'Доля должников', 'Коичество должников']\n",
    "data_pivot"
   ]
  },
  {
   "cell_type": "code",
   "execution_count": 59,
   "id": "75fc4107",
   "metadata": {},
   "outputs": [
    {
     "data": {
      "image/png": "[encoded data removed]",
      "text/plain": [
       "<Figure size 640x480 with 1 Axes>"
      ]
     },
     "metadata": {},
     "output_type": "display_data"
    }
   ],
   "source": [
    "#Визуализация соотношения категорий с помощью библиотеки seaborn и метода barplot\n",
    "ax = sns.barplot(data=df_family_status_debt, x='Семейное положение', y='Процент должников')\n",
    "import matplotlib.pyplot as plt\n",
    "ax.set_title('Соотношение процента должников по семейному положению')\n",
    "plt.grid(axis='y')\n",
    "plt.xticks(rotation = 15)\n",
    "plt.show()"
   ]
  },
  {
   "cell_type": "markdown",
   "id": "88bdec31",
   "metadata": {},
   "source": [
    "**Вывод:** \\\n",
    "Исследовав наличие зависимости между семейным положением и возвратом кредита в срок, можно сделать вывод, что да, такая зависимость действително наблюдается.\\\n",
    "На графике хорошо видно, что если люди находятся в гражданском браке или не женаты/не замужем, то количество долгов в этих категориях значительно больше остальных (практически на 3% больше, чем у категории \"вдовец/вдова\".\\\n",
    "Возможно такая зависимость наблюдается из-за пониженной ответственности людей находящихся в гражданском браке, либо не женат/не замужем."
   ]
  },
  {
   "cell_type": "code",
   "execution_count": 60,
   "id": "198bccac",
   "metadata": {},
   "outputs": [
    {
     "data": {
      "text/plain": [
       "array(['B', 'C', 'D', 'E', 'A'], dtype=object)"
      ]
     },
     "execution_count": 60,
     "metadata": {},
     "output_type": "execute_result"
    }
   ],
   "source": [
    "data['total_income_category'].unique()"
   ]
  },
  {
   "cell_type": "code",
   "execution_count": 61,
   "id": "0f587515",
   "metadata": {},
   "outputs": [
    {
     "name": "stdout",
     "output_type": "stream",
     "text": [
      "Процент должников среди категории с доходом B = 7.06%\n",
      "Процент должников среди категории с доходом C = 8.50%\n",
      "Процент должников среди категории с доходом D = 6.02%\n",
      "Процент должников среди категории с доходом E = 9.09%\n",
      "Процент должников среди категории с доходом A = 8.00%\n"
     ]
    },
    {
     "data": {
      "text/plain": [
       "C    15921\n",
       "B     5014\n",
       "D      349\n",
       "A       25\n",
       "E       22\n",
       "Name: total_income_category, dtype: int64"
      ]
     },
     "execution_count": 61,
     "metadata": {},
     "output_type": "execute_result"
    }
   ],
   "source": [
    "income_debt = []\n",
    "n = 0\n",
    "\n",
    "for i in data['total_income_category'].unique():\n",
    "    income_debt.append(data[(data['total_income_category'] == i) & (data['debt'] == 1)]['debt'].count() \\\n",
    "            / data[data['total_income_category'] == i]['debt'].count())\n",
    "    print(f'Процент должников среди категории с доходом {i} = {income_debt[n]*100:.2f}%')\n",
    "    n +=1\n",
    "    \n",
    "data['total_income_category'].value_counts()"
   ]
  },
  {
   "cell_type": "code",
   "execution_count": 62,
   "id": "12bffb5e",
   "metadata": {},
   "outputs": [
    {
     "data": {
      "text/html": [
       "<div>\n",
       "<style scoped>\n",
       "    .dataframe tbody tr th:only-of-type {\n",
       "        vertical-align: middle;\n",
       "    }\n",
       "\n",
       "    .dataframe tbody tr th {\n",
       "        vertical-align: top;\n",
       "    }\n",
       "\n",
       "    .dataframe thead th {\n",
       "        text-align: right;\n",
       "    }\n",
       "</style>\n",
       "<table border=\"1\" class=\"dataframe\">\n",
       "  <thead>\n",
       "    <tr style=\"text-align: right;\">\n",
       "      <th></th>\n",
       "      <th>Количество заемщиков</th>\n",
       "      <th>Доля должников</th>\n",
       "      <th>Количество должников</th>\n",
       "    </tr>\n",
       "    <tr>\n",
       "      <th>total_income_category</th>\n",
       "      <th></th>\n",
       "      <th></th>\n",
       "      <th></th>\n",
       "    </tr>\n",
       "  </thead>\n",
       "  <tbody>\n",
       "    <tr>\n",
       "      <th>A</th>\n",
       "      <td>25</td>\n",
       "      <td>0.080000</td>\n",
       "      <td>2</td>\n",
       "    </tr>\n",
       "    <tr>\n",
       "      <th>B</th>\n",
       "      <td>5014</td>\n",
       "      <td>0.070602</td>\n",
       "      <td>354</td>\n",
       "    </tr>\n",
       "    <tr>\n",
       "      <th>C</th>\n",
       "      <td>15921</td>\n",
       "      <td>0.084982</td>\n",
       "      <td>1353</td>\n",
       "    </tr>\n",
       "    <tr>\n",
       "      <th>D</th>\n",
       "      <td>349</td>\n",
       "      <td>0.060172</td>\n",
       "      <td>21</td>\n",
       "    </tr>\n",
       "    <tr>\n",
       "      <th>E</th>\n",
       "      <td>22</td>\n",
       "      <td>0.090909</td>\n",
       "      <td>2</td>\n",
       "    </tr>\n",
       "  </tbody>\n",
       "</table>\n",
       "</div>"
      ],
      "text/plain": [
       "                       Количество заемщиков  Доля должников  \\\n",
       "total_income_category                                         \n",
       "A                                        25        0.080000   \n",
       "B                                      5014        0.070602   \n",
       "C                                     15921        0.084982   \n",
       "D                                       349        0.060172   \n",
       "E                                        22        0.090909   \n",
       "\n",
       "                       Количество должников  \n",
       "total_income_category                        \n",
       "A                                         2  \n",
       "B                                       354  \n",
       "C                                      1353  \n",
       "D                                        21  \n",
       "E                                         2  "
      ]
     },
     "execution_count": 62,
     "metadata": {},
     "output_type": "execute_result"
    }
   ],
   "source": [
    "data_pivot = data.pivot_table(index='total_income_category', values='debt', aggfunc=['count', 'mean', 'sum'])\n",
    "data_pivot.columns = ['Количество заемщиков', 'Доля должников', 'Количество должников']\n",
    "data_pivot"
   ]
  },
  {
   "cell_type": "code",
   "execution_count": 63,
   "id": "419971a3",
   "metadata": {},
   "outputs": [
    {
     "data": {
      "text/html": [
       "<div>\n",
       "<style scoped>\n",
       "    .dataframe tbody tr th:only-of-type {\n",
       "        vertical-align: middle;\n",
       "    }\n",
       "\n",
       "    .dataframe tbody tr th {\n",
       "        vertical-align: top;\n",
       "    }\n",
       "\n",
       "    .dataframe thead th {\n",
       "        text-align: right;\n",
       "    }\n",
       "</style>\n",
       "<table border=\"1\" class=\"dataframe\">\n",
       "  <thead>\n",
       "    <tr style=\"text-align: right;\">\n",
       "      <th></th>\n",
       "      <th>Доход</th>\n",
       "      <th>Процент должников</th>\n",
       "    </tr>\n",
       "  </thead>\n",
       "  <tbody>\n",
       "    <tr>\n",
       "      <th>0</th>\n",
       "      <td>200 001 - 1 000 000</td>\n",
       "      <td>7.060231</td>\n",
       "    </tr>\n",
       "    <tr>\n",
       "      <th>1</th>\n",
       "      <td>50 0001 - 200 000</td>\n",
       "      <td>8.498210</td>\n",
       "    </tr>\n",
       "    <tr>\n",
       "      <th>2</th>\n",
       "      <td>30 001 - 50 000</td>\n",
       "      <td>6.017192</td>\n",
       "    </tr>\n",
       "  </tbody>\n",
       "</table>\n",
       "</div>"
      ],
      "text/plain": [
       "                 Доход  Процент должников\n",
       "0  200 001 - 1 000 000           7.060231\n",
       "1    50 0001 - 200 000           8.498210\n",
       "2      30 001 - 50 000           6.017192"
      ]
     },
     "execution_count": 63,
     "metadata": {},
     "output_type": "execute_result"
    }
   ],
   "source": [
    "#Создание таблицы для визуализации результатов\n",
    "income_debt_percent = []\n",
    "for i in income_debt:\n",
    "    income_debt_percent.append(i*100)\n",
    "income_category = ['200 001 - 1 000 000', '50 0001 - 200 000', '30 001 - 50 000']\n",
    "df_income_category_debt = pd.DataFrame(data = {'Доход': income_category, 'Процент должников': income_debt_percent[:3] })\n",
    "df_income_category_debt"
   ]
  },
  {
   "cell_type": "code",
   "execution_count": 64,
   "id": "1f4bc334",
   "metadata": {},
   "outputs": [
    {
     "data": {
      "image/png": "[encoded data removed]",
      "text/plain": [
       "<Figure size 640x480 with 1 Axes>"
      ]
     },
     "metadata": {},
     "output_type": "display_data"
    }
   ],
   "source": [
    "#Визуализация соотношения категорий с помощью библиотеки seaborn и метода barplot\n",
    "ax = sns.barplot(data=df_income_category_debt, x='Доход', y='Процент должников')\n",
    "import matplotlib.pyplot as plt\n",
    "ax.set_title('Соотношение процента должников по уровню дохода')\n",
    "plt.grid(axis='y')\n",
    "plt.show()"
   ]
  },
  {
   "cell_type": "markdown",
   "id": "8ab83772",
   "metadata": {},
   "source": [
    "**Вывод:** \\\n",
    "По категориям, где уровень дохода от 0 до 30000 и от 1000000 и выше, по данным получается слишком маленькая выборка, поэтому к общему сравнению не были добавлены.\\\n",
    "По остальным категориям можно сделать вывод, что чаще выплачивают кредиты в срок люди, с доходом от 30 т.р. до 50 т.р.\\\n",
    "А наиболее часто доводят до долгов люди, с доходом от 50 т.р. до 200 т.р."
   ]
  },
  {
   "cell_type": "code",
   "execution_count": 65,
   "id": "3ab87208",
   "metadata": {},
   "outputs": [
    {
     "name": "stdout",
     "output_type": "stream",
     "text": [
      "Процент должников среди категории \"операции с недвижимостью\" = 7.26%\n",
      "Процент должников среди категории \"операции с автомобилем\" = 9.35%\n",
      "Процент должников среди категории \"получение образования\" = 9.25%\n",
      "Процент должников среди категории \"проведение свадьбы\" = 7.91%\n"
     ]
    }
   ],
   "source": [
    "purpose_debt = []\n",
    "n = 0\n",
    "#циклом проходим по длине уникальных значений семейного положение\n",
    "#для каждой категории высчитываем процент должников относительно всех в этой категории и выводим значения\n",
    "for i in data['purpose_category'].unique():\n",
    "    purpose_debt.append(data[(data['purpose_category'] == i) & (data['debt'] == 1)]['debt'].count() \\\n",
    "            / data[data['purpose_category'] == i]['debt'].count())\n",
    "    print(f'Процент должников среди категории \"{data[\"purpose_category\"].unique()[n]}\" = {purpose_debt[n] * 100:.2f}%')\n",
    "    n += 1"
   ]
  },
  {
   "cell_type": "code",
   "execution_count": 66,
   "id": "ce85f9ad",
   "metadata": {},
   "outputs": [
    {
     "data": {
      "text/html": [
       "<div>\n",
       "<style scoped>\n",
       "    .dataframe tbody tr th:only-of-type {\n",
       "        vertical-align: middle;\n",
       "    }\n",
       "\n",
       "    .dataframe tbody tr th {\n",
       "        vertical-align: top;\n",
       "    }\n",
       "\n",
       "    .dataframe thead th {\n",
       "        text-align: right;\n",
       "    }\n",
       "</style>\n",
       "<table border=\"1\" class=\"dataframe\">\n",
       "  <thead>\n",
       "    <tr style=\"text-align: right;\">\n",
       "      <th></th>\n",
       "      <th>Цель кредита</th>\n",
       "      <th>Процент должников</th>\n",
       "    </tr>\n",
       "  </thead>\n",
       "  <tbody>\n",
       "    <tr>\n",
       "      <th>0</th>\n",
       "      <td>операции с недвижимостью</td>\n",
       "      <td>7.255139</td>\n",
       "    </tr>\n",
       "    <tr>\n",
       "      <th>1</th>\n",
       "      <td>операции с автомобилем</td>\n",
       "      <td>9.347978</td>\n",
       "    </tr>\n",
       "    <tr>\n",
       "      <th>2</th>\n",
       "      <td>получение образования</td>\n",
       "      <td>9.252758</td>\n",
       "    </tr>\n",
       "    <tr>\n",
       "      <th>3</th>\n",
       "      <td>проведение свадьбы</td>\n",
       "      <td>7.911803</td>\n",
       "    </tr>\n",
       "  </tbody>\n",
       "</table>\n",
       "</div>"
      ],
      "text/plain": [
       "               Цель кредита  Процент должников\n",
       "0  операции с недвижимостью           7.255139\n",
       "1    операции с автомобилем           9.347978\n",
       "2     получение образования           9.252758\n",
       "3        проведение свадьбы           7.911803"
      ]
     },
     "execution_count": 66,
     "metadata": {},
     "output_type": "execute_result"
    }
   ],
   "source": [
    "#Создание таблицы для визуализации результатов\n",
    "purpose_debt_percent = []\n",
    "for i in purpose_debt:\n",
    "    purpose_debt_percent.append(i*100)\n",
    "#family_status = data_family['family_status'].unique()\n",
    "df_purpose_debt = pd.DataFrame(data = {'Цель кредита': data['purpose_category'].unique(),\\\n",
    "                                             'Процент должников': purpose_debt_percent })\n",
    "df_purpose_debt"
   ]
  },
  {
   "cell_type": "code",
   "execution_count": 67,
   "id": "c8f4fd61",
   "metadata": {},
   "outputs": [
    {
     "data": {
      "text/html": [
       "<div>\n",
       "<style scoped>\n",
       "    .dataframe tbody tr th:only-of-type {\n",
       "        vertical-align: middle;\n",
       "    }\n",
       "\n",
       "    .dataframe tbody tr th {\n",
       "        vertical-align: top;\n",
       "    }\n",
       "\n",
       "    .dataframe thead th {\n",
       "        text-align: right;\n",
       "    }\n",
       "</style>\n",
       "<table border=\"1\" class=\"dataframe\">\n",
       "  <thead>\n",
       "    <tr style=\"text-align: right;\">\n",
       "      <th></th>\n",
       "      <th>Количество замещиков</th>\n",
       "      <th>Доля должников</th>\n",
       "      <th>Количество должников</th>\n",
       "    </tr>\n",
       "    <tr>\n",
       "      <th>purpose_category</th>\n",
       "      <th></th>\n",
       "      <th></th>\n",
       "      <th></th>\n",
       "    </tr>\n",
       "  </thead>\n",
       "  <tbody>\n",
       "    <tr>\n",
       "      <th>операции с автомобилем</th>\n",
       "      <td>4279</td>\n",
       "      <td>0.093480</td>\n",
       "      <td>400</td>\n",
       "    </tr>\n",
       "    <tr>\n",
       "      <th>операции с недвижимостью</th>\n",
       "      <td>10751</td>\n",
       "      <td>0.072551</td>\n",
       "      <td>780</td>\n",
       "    </tr>\n",
       "    <tr>\n",
       "      <th>получение образования</th>\n",
       "      <td>3988</td>\n",
       "      <td>0.092528</td>\n",
       "      <td>369</td>\n",
       "    </tr>\n",
       "    <tr>\n",
       "      <th>проведение свадьбы</th>\n",
       "      <td>2313</td>\n",
       "      <td>0.079118</td>\n",
       "      <td>183</td>\n",
       "    </tr>\n",
       "  </tbody>\n",
       "</table>\n",
       "</div>"
      ],
      "text/plain": [
       "                          Количество замещиков  Доля должников  \\\n",
       "purpose_category                                                 \n",
       "операции с автомобилем                    4279        0.093480   \n",
       "операции с недвижимостью                 10751        0.072551   \n",
       "получение образования                     3988        0.092528   \n",
       "проведение свадьбы                        2313        0.079118   \n",
       "\n",
       "                          Количество должников  \n",
       "purpose_category                                \n",
       "операции с автомобилем                     400  \n",
       "операции с недвижимостью                   780  \n",
       "получение образования                      369  \n",
       "проведение свадьбы                         183  "
      ]
     },
     "execution_count": 67,
     "metadata": {},
     "output_type": "execute_result"
    }
   ],
   "source": [
    "data_pivot = data.pivot_table(index='purpose_category', values='debt', aggfunc=['count', 'mean', 'sum'])\n",
    "data_pivot.columns = ['Количество замещиков', 'Доля должников', 'Количество должников']\n",
    "data_pivot"
   ]
  },
  {
   "cell_type": "code",
   "execution_count": 68,
   "id": "da713693",
   "metadata": {},
   "outputs": [
    {
     "data": {
      "image/png": "[encoded data removed]",
      "text/plain": [
       "<Figure size 640x480 with 1 Axes>"
      ]
     },
     "metadata": {},
     "output_type": "display_data"
    }
   ],
   "source": [
    "#Визуализация соотношения категорий с помощью библиотеки seaborn и метода barplot\n",
    "ax = sns.barplot(data=df_purpose_debt, x='Цель кредита', y='Процент должников')\n",
    "import matplotlib.pyplot as plt\n",
    "ax.set_title('Соотношение процента должников по цели кредита')\n",
    "plt.grid(axis='y')\n",
    "plt.xticks(rotation=15)\n",
    "plt.show()"
   ]
  },
  {
   "cell_type": "markdown",
   "id": "da774191",
   "metadata": {},
   "source": [
    "**Вывод:** \\\n",
    "В данном случае выборки по каждой категории достаточные, поэтому по результатам уже можно сделать какие-то выводы.\\\n",
    "Самыми надежными заемщика оказались те, кто брал кредит на операции с недвижимостью. \\\n",
    "Далее в меньшей степени надежности клиенты, которые брали кредит на проведение свадьбы.\\\n",
    "Самыми ненадежными оказались те, кто после выдачи кредита использовал его на автомобиль, либо на образование"
   ]
  },
  {
   "cell_type": "markdown",
   "id": "38b59d82",
   "metadata": {},
   "source": [
    "<div style=\"border:solid orange 2px; padding: 20px\"> \n",
    "\n",
    "## Вывод\n",
    "\n",
    "По итогам всех исследований можно сделать вывод, что для полноценного анализа необходимо иметь досточные выборки по категориям, которые необходимо сравнить. И желательно, чтобы их было равное количество, чтобы результаты были наиболее приближены к реальности.\\\n",
    "Также, при отсутствии значений в исследуемом столбце, можно воспользоваться методами заполнения пропусков, например, лучшим решением для количественных переменных является медианное значение.\\\n",
    "Для подведения каких-либо итогов по проведенному анализу, лучше всего использовать построениие графиков, чтобы более наглядно увидеть различия данных, чем просто сравнивать цифры.\n",
    "\n",
    "На основе полученных данных, были произведены следующие действия:\n",
    "- Заполнение пропусков в данных;\n",
    "В исходных данных были пропуски в двух столбцах (days_employed и total_income). Их было решено заменить на медианные значения по нужным категориям.\n",
    "- Поиск и избавление от аномальных значений;\n",
    "Такая ситуация сложилась со столбцом, где количество детей было равно -1, и 20. Такие данные из таблицы были убраны.\n",
    "- Также из таблицы с данными были удалены дубликаты;\n",
    "- Некоторые данные были объединены в зависимости от их категории(по уровню дохода и цели кредита). Таким образом были получены новые столбцы уже с более сжатой и понятной информацией для дальнейшей обработки.\n",
    "\n",
    "В ходе исследования были выведены следующие зависимости:\n",
    "- Зависимость возврата кредита в срок от количества детей. Чем детей больше, тем сложнее заемщикам возвращать кредит в срок;\n",
    "- Зависимость между семейным положением и возвратом кредита в срок. Если человек был, либо на данный момент находится в браке, то они реже допускают просрочки;\n",
    "- Зависимость между уровнем дохода и возвратом кредита в срок. Если оценивать по тем данным, которые можно анализировать (то есть имеют достаточную выборку), то наблюдается зависимость, что чем выше доход заемщика, тем шанс выплаты кредита в срок выше;\n",
    "- Зависимость цели кредита на возврат в срок. Здесь уже данных было достаточно, поэтому можно сказать, что самыми надежными заемщиками являются те, кто брал кредит на операции с недвижимостью, либо на проведение свадьбы.\n",
    "\n",
    "В качестве итога могу привести описания \"хорошего\" и \"рискованного\" заемщика.\n",
    "    \n",
    "\"Хороший\" заемщик - человек без детей, вдова/вдовец, с доходом 50 т.р. - 200 т.р., и с целью кредита на операции с недвижимостью.\n",
    "    \n",
    "\"Рискованный\" заемщик - человек с 2 детьми, не женат/не замужем(либо в гражданском браке), с доходом 30 - 50 т.р., с целью кредита на приобретение автомобиля.</div>"
   ]
  }
 ],
 "metadata": {
  "kernelspec": {
   "display_name": "Python 3 (ipykernel)",
   "language": "python",
   "name": "python3"
  },
  "language_info": {
   "codemirror_mode": {
    "name": "ipython",
    "version": 3
   },
   "file_extension": ".py",
   "mimetype": "text/x-python",
   "name": "python",
   "nbconvert_exporter": "python",
   "pygments_lexer": "ipython3",
   "version": "3.9.19"
  }
 },
 "nbformat": 4,
 "nbformat_minor": 5
}
