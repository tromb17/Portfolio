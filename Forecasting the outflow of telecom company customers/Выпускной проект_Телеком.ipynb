{
 "cells": [
  {
   "cell_type": "markdown",
   "id": "cdc56ad3",
   "metadata": {},
   "source": [
    "# Название проекта: \"Телекоммуникации\""
   ]
  },
  {
   "cell_type": "markdown",
   "id": "5c6221ea",
   "metadata": {},
   "source": [
    "## Описание проекта"
   ]
  },
  {
   "cell_type": "markdown",
   "id": "77477410",
   "metadata": {},
   "source": [
    "Оператор связи «Ниединогоразрыва.ком» хочет научиться прогнозировать отток клиентов. \\\n",
    "Если выяснится, что пользователь планирует уйти, ему будут предложены промокоды и специальные условия.\\\n",
    "Команда оператора собрала персональные данные о некоторых клиентах, информацию об их тарифах и договорах."
   ]
  },
  {
   "cell_type": "markdown",
   "id": "79932a56",
   "metadata": {},
   "source": [
    "Оператор предоставляет два основных типа услуг:\n",
    "- Стационарную телефонную связь. Возможно подключение телефонного аппарата к нескольким линиям одновременно.\n",
    "- Интернет. Подключение может быть двух типов: через телефонную линию (DSL, от англ. digital subscriber line, «цифровая абонентская линия») или оптоволоконный кабель (Fiber optic).\n",
    "\n",
    "Также доступны такие услуги:\n",
    "- Интернет-безопасность: антивирус (DeviceProtection) и блокировка небезопасных сайтов (OnlineSecurity);\n",
    "- Выделенная линия технической поддержки (TechSupport);\n",
    "- Облачное хранилище файлов для резервного копирования данных (OnlineBackup);\n",
    "- Стриминговое телевидение (StreamingTV) и каталог фильмов (StreamingMovies).\\\n",
    "\n",
    "За услуги клиенты могут платить каждый месяц или заключить договор на 1–2 года. Доступны различные способы расчёта и возможность получения электронного чека."
   ]
  },
  {
   "cell_type": "markdown",
   "id": "795c4471",
   "metadata": {},
   "source": [
    "## Импорт библиотек"
   ]
  },
  {
   "cell_type": "code",
   "execution_count": 1,
   "id": "7e360fd8",
   "metadata": {},
   "outputs": [],
   "source": [
    "import pandas as pd\n",
    "import numpy as np\n",
    "import matplotlib.pyplot as plt\n",
    "import math\n",
    "\n",
    "from sklearn.model_selection import train_test_split\n",
    "from sklearn.pipeline import Pipeline\n",
    "from sklearn.ensemble import RandomForestClassifier\n",
    "from sklearn.compose import ColumnTransformer, make_column_selector\n",
    "from sklearn.preprocessing import StandardScaler, OneHotEncoder\n",
    "from sklearn.model_selection import GridSearchCV\n",
    "from sklearn.metrics import roc_auc_score\n",
    "from sklearn.linear_model import LogisticRegression\n",
    "from catboost import CatBoostClassifier\n",
    "\n",
    "import warnings\n",
    "warnings.filterwarnings('ignore')"
   ]
  },
  {
   "cell_type": "code",
   "execution_count": 2,
   "id": "e95d3fd9",
   "metadata": {},
   "outputs": [],
   "source": [
    "#Фиксируем значение random_state\n",
    "RANDOM_STATE = 250923"
   ]
  },
  {
   "cell_type": "markdown",
   "id": "cffc895c",
   "metadata": {},
   "source": [
    "## Загрузка данных"
   ]
  },
  {
   "cell_type": "code",
   "execution_count": 3,
   "id": "00b882cf",
   "metadata": {},
   "outputs": [],
   "source": [
    "try:\n",
    "    df_contract = pd.read_csv('C:/Users/trombee/YandexDisk/Учеба/Я. Практикум/Выпускной проект/contract_new.csv')\n",
    "    df_internet = pd.read_csv('C:/Users/trombee/YandexDisk/Учеба/Я. Практикум/Выпускной проект/internet_new.csv')\n",
    "    df_personal = pd.read_csv('C:/Users/trombee/YandexDisk/Учеба/Я. Практикум/Выпускной проект/personal_new.csv')\n",
    "    df_phone = pd.read_csv('C:/Users/trombee/YandexDisk/Учеба/Я. Практикум/Выпускной проект/phone_new.csv')\n",
    "except:\n",
    "    df_contract = pd.read_csv('/datasets/contract_new.csv')\n",
    "    df_internet = pd.read_csv('/datasets/internet_new.csv')\n",
    "    df_personal = pd.read_csv('/datasets/personal_new.csv')\n",
    "    df_phone = pd.read_csv('/datasets/phone_new.csv')"
   ]
  },
  {
   "cell_type": "markdown",
   "id": "39dd7701",
   "metadata": {},
   "source": [
    "## Исследование каждого датафрейма"
   ]
  },
  {
   "cell_type": "markdown",
   "id": "9ea88f03",
   "metadata": {},
   "source": [
    "### Contract"
   ]
  },
  {
   "cell_type": "code",
   "execution_count": 4,
   "id": "813bb3bd",
   "metadata": {},
   "outputs": [
    {
     "data": {
      "text/html": [
       "<div>\n",
       "<style scoped>\n",
       "    .dataframe tbody tr th:only-of-type {\n",
       "        vertical-align: middle;\n",
       "    }\n",
       "\n",
       "    .dataframe tbody tr th {\n",
       "        vertical-align: top;\n",
       "    }\n",
       "\n",
       "    .dataframe thead th {\n",
       "        text-align: right;\n",
       "    }\n",
       "</style>\n",
       "<table border=\"1\" class=\"dataframe\">\n",
       "  <thead>\n",
       "    <tr style=\"text-align: right;\">\n",
       "      <th></th>\n",
       "      <th>customerID</th>\n",
       "      <th>BeginDate</th>\n",
       "      <th>EndDate</th>\n",
       "      <th>Type</th>\n",
       "      <th>PaperlessBilling</th>\n",
       "      <th>PaymentMethod</th>\n",
       "      <th>MonthlyCharges</th>\n",
       "      <th>TotalCharges</th>\n",
       "    </tr>\n",
       "  </thead>\n",
       "  <tbody>\n",
       "    <tr>\n",
       "      <th>0</th>\n",
       "      <td>7590-VHVEG</td>\n",
       "      <td>2020-01-01</td>\n",
       "      <td>No</td>\n",
       "      <td>Month-to-month</td>\n",
       "      <td>Yes</td>\n",
       "      <td>Electronic check</td>\n",
       "      <td>29.85</td>\n",
       "      <td>31.04</td>\n",
       "    </tr>\n",
       "    <tr>\n",
       "      <th>1</th>\n",
       "      <td>5575-GNVDE</td>\n",
       "      <td>2017-04-01</td>\n",
       "      <td>No</td>\n",
       "      <td>One year</td>\n",
       "      <td>No</td>\n",
       "      <td>Mailed check</td>\n",
       "      <td>56.95</td>\n",
       "      <td>2071.84</td>\n",
       "    </tr>\n",
       "    <tr>\n",
       "      <th>2</th>\n",
       "      <td>3668-QPYBK</td>\n",
       "      <td>2019-10-01</td>\n",
       "      <td>No</td>\n",
       "      <td>Month-to-month</td>\n",
       "      <td>Yes</td>\n",
       "      <td>Mailed check</td>\n",
       "      <td>53.85</td>\n",
       "      <td>226.17</td>\n",
       "    </tr>\n",
       "    <tr>\n",
       "      <th>3</th>\n",
       "      <td>7795-CFOCW</td>\n",
       "      <td>2016-05-01</td>\n",
       "      <td>No</td>\n",
       "      <td>One year</td>\n",
       "      <td>No</td>\n",
       "      <td>Bank transfer (automatic)</td>\n",
       "      <td>42.30</td>\n",
       "      <td>1960.6</td>\n",
       "    </tr>\n",
       "    <tr>\n",
       "      <th>4</th>\n",
       "      <td>9237-HQITU</td>\n",
       "      <td>2019-09-01</td>\n",
       "      <td>No</td>\n",
       "      <td>Month-to-month</td>\n",
       "      <td>Yes</td>\n",
       "      <td>Electronic check</td>\n",
       "      <td>70.70</td>\n",
       "      <td>353.5</td>\n",
       "    </tr>\n",
       "  </tbody>\n",
       "</table>\n",
       "</div>"
      ],
      "text/plain": [
       "   customerID   BeginDate EndDate            Type PaperlessBilling  \\\n",
       "0  7590-VHVEG  2020-01-01      No  Month-to-month              Yes   \n",
       "1  5575-GNVDE  2017-04-01      No        One year               No   \n",
       "2  3668-QPYBK  2019-10-01      No  Month-to-month              Yes   \n",
       "3  7795-CFOCW  2016-05-01      No        One year               No   \n",
       "4  9237-HQITU  2019-09-01      No  Month-to-month              Yes   \n",
       "\n",
       "               PaymentMethod  MonthlyCharges TotalCharges  \n",
       "0           Electronic check           29.85        31.04  \n",
       "1               Mailed check           56.95      2071.84  \n",
       "2               Mailed check           53.85       226.17  \n",
       "3  Bank transfer (automatic)           42.30       1960.6  \n",
       "4           Electronic check           70.70        353.5  "
      ]
     },
     "execution_count": 4,
     "metadata": {},
     "output_type": "execute_result"
    }
   ],
   "source": [
    "df_contract.head()"
   ]
  },
  {
   "cell_type": "code",
   "execution_count": 5,
   "id": "ad7080e8",
   "metadata": {},
   "outputs": [
    {
     "name": "stdout",
     "output_type": "stream",
     "text": [
      "<class 'pandas.core.frame.DataFrame'>\n",
      "RangeIndex: 7043 entries, 0 to 7042\n",
      "Data columns (total 8 columns):\n",
      " #   Column            Non-Null Count  Dtype  \n",
      "---  ------            --------------  -----  \n",
      " 0   customerID        7043 non-null   object \n",
      " 1   BeginDate         7043 non-null   object \n",
      " 2   EndDate           7043 non-null   object \n",
      " 3   Type              7043 non-null   object \n",
      " 4   PaperlessBilling  7043 non-null   object \n",
      " 5   PaymentMethod     7043 non-null   object \n",
      " 6   MonthlyCharges    7043 non-null   float64\n",
      " 7   TotalCharges      7043 non-null   object \n",
      "dtypes: float64(1), object(7)\n",
      "memory usage: 440.3+ KB\n"
     ]
    }
   ],
   "source": [
    "df_contract.info()"
   ]
  },
  {
   "cell_type": "code",
   "execution_count": 6,
   "id": "0a232f0d",
   "metadata": {},
   "outputs": [
    {
     "data": {
      "text/html": [
       "<div>\n",
       "<style scoped>\n",
       "    .dataframe tbody tr th:only-of-type {\n",
       "        vertical-align: middle;\n",
       "    }\n",
       "\n",
       "    .dataframe tbody tr th {\n",
       "        vertical-align: top;\n",
       "    }\n",
       "\n",
       "    .dataframe thead th {\n",
       "        text-align: right;\n",
       "    }\n",
       "</style>\n",
       "<table border=\"1\" class=\"dataframe\">\n",
       "  <thead>\n",
       "    <tr style=\"text-align: right;\">\n",
       "      <th></th>\n",
       "      <th>MonthlyCharges</th>\n",
       "    </tr>\n",
       "  </thead>\n",
       "  <tbody>\n",
       "    <tr>\n",
       "      <th>count</th>\n",
       "      <td>7043.000000</td>\n",
       "    </tr>\n",
       "    <tr>\n",
       "      <th>mean</th>\n",
       "      <td>64.761692</td>\n",
       "    </tr>\n",
       "    <tr>\n",
       "      <th>std</th>\n",
       "      <td>30.090047</td>\n",
       "    </tr>\n",
       "    <tr>\n",
       "      <th>min</th>\n",
       "      <td>18.250000</td>\n",
       "    </tr>\n",
       "    <tr>\n",
       "      <th>25%</th>\n",
       "      <td>35.500000</td>\n",
       "    </tr>\n",
       "    <tr>\n",
       "      <th>50%</th>\n",
       "      <td>70.350000</td>\n",
       "    </tr>\n",
       "    <tr>\n",
       "      <th>75%</th>\n",
       "      <td>89.850000</td>\n",
       "    </tr>\n",
       "    <tr>\n",
       "      <th>max</th>\n",
       "      <td>118.750000</td>\n",
       "    </tr>\n",
       "  </tbody>\n",
       "</table>\n",
       "</div>"
      ],
      "text/plain": [
       "       MonthlyCharges\n",
       "count     7043.000000\n",
       "mean        64.761692\n",
       "std         30.090047\n",
       "min         18.250000\n",
       "25%         35.500000\n",
       "50%         70.350000\n",
       "75%         89.850000\n",
       "max        118.750000"
      ]
     },
     "execution_count": 6,
     "metadata": {},
     "output_type": "execute_result"
    }
   ],
   "source": [
    "df_contract.describe()"
   ]
  },
  {
   "cell_type": "code",
   "execution_count": 7,
   "id": "73f31ee5",
   "metadata": {},
   "outputs": [
    {
     "data": {
      "image/png": "[encoded data removed]",
      "text/plain": [
       "<Figure size 360x216 with 1 Axes>"
      ]
     },
     "metadata": {
      "needs_background": "light"
     },
     "output_type": "display_data"
    }
   ],
   "source": [
    "df_contract.hist(figsize=(5, 3))\n",
    "plt.title('Распределение по общим расходам за месяц')\n",
    "plt.xlabel('Расходы за месяц')\n",
    "plt.ylabel('Количество абонентов')\n",
    "plt.show()"
   ]
  },
  {
   "cell_type": "code",
   "execution_count": 8,
   "id": "53afbbe5",
   "metadata": {},
   "outputs": [
    {
     "data": {
      "image/png": "[encoded data removed]",
      "text/plain": [
       "<Figure size 720x576 with 4 Axes>"
      ]
     },
     "metadata": {
      "needs_background": "light"
     },
     "output_type": "display_data"
    }
   ],
   "source": [
    "num_rows = 2  # Количество рядов\n",
    "num_cols = 2  # Количество колонок\n",
    "\n",
    "# Создание сетки графиков\n",
    "fig, axes = plt.subplots(num_rows, num_cols, figsize=(10, 8))\n",
    "\n",
    "# Переменные для отслеживания текущего ряда и колонки\n",
    "curr_row = 0\n",
    "curr_col = 0\n",
    "\n",
    "# Перебор столбцов датафрейма\n",
    "for column in df_contract[['Type', 'PaperlessBilling', 'PaymentMethod']].columns:\n",
    "    # Построение графика распределения данных в столбце\n",
    "    df_contract[column].value_counts().plot(kind='bar', ax=axes[curr_row][curr_col])\n",
    "    axes[curr_row][curr_col].set_title(f'Распределение по {column}')\n",
    "    axes[curr_row][curr_col].set_xlabel(column)\n",
    "    axes[curr_row][curr_col].set_ylabel('Частота')\n",
    "\n",
    "    # Обновляем текущую позицию в сетке\n",
    "    curr_col += 1\n",
    "    if curr_col == num_cols:\n",
    "        curr_row += 1\n",
    "        curr_col = 0\n",
    "\n",
    "# Устранение пустых ячеек в сетке\n",
    "if curr_row < num_rows - 1 or curr_col < num_cols - 1:\n",
    "    for row in range(curr_row, num_rows):\n",
    "        for col in range(curr_col, num_cols):\n",
    "            axes[row][col].axis('off')\n",
    "            \n",
    "# Вывод графиков\n",
    "plt.tight_layout()\n",
    "plt.show()"
   ]
  },
  {
   "cell_type": "markdown",
   "id": "6afc6d56",
   "metadata": {},
   "source": [
    "В столбце total_charges тип данных указан object, в предобработке нужно будет изменить на float.\\\n",
    "Также столбец с датой 'BeginDate' нужно заменить на тип данных datetime.\\\n",
    "Также можно отметить, что в этом датафрейме нет пропусков.\\\n",
    "По графику видно, что наиболее частые расходы за месяц находятся в районе 18-35."
   ]
  },
  {
   "cell_type": "markdown",
   "id": "72854075",
   "metadata": {},
   "source": [
    "### Internet"
   ]
  },
  {
   "cell_type": "code",
   "execution_count": 9,
   "id": "02c8fdd0",
   "metadata": {},
   "outputs": [
    {
     "data": {
      "text/html": [
       "<div>\n",
       "<style scoped>\n",
       "    .dataframe tbody tr th:only-of-type {\n",
       "        vertical-align: middle;\n",
       "    }\n",
       "\n",
       "    .dataframe tbody tr th {\n",
       "        vertical-align: top;\n",
       "    }\n",
       "\n",
       "    .dataframe thead th {\n",
       "        text-align: right;\n",
       "    }\n",
       "</style>\n",
       "<table border=\"1\" class=\"dataframe\">\n",
       "  <thead>\n",
       "    <tr style=\"text-align: right;\">\n",
       "      <th></th>\n",
       "      <th>customerID</th>\n",
       "      <th>InternetService</th>\n",
       "      <th>OnlineSecurity</th>\n",
       "      <th>OnlineBackup</th>\n",
       "      <th>DeviceProtection</th>\n",
       "      <th>TechSupport</th>\n",
       "      <th>StreamingTV</th>\n",
       "      <th>StreamingMovies</th>\n",
       "    </tr>\n",
       "  </thead>\n",
       "  <tbody>\n",
       "    <tr>\n",
       "      <th>0</th>\n",
       "      <td>7590-VHVEG</td>\n",
       "      <td>DSL</td>\n",
       "      <td>No</td>\n",
       "      <td>Yes</td>\n",
       "      <td>No</td>\n",
       "      <td>No</td>\n",
       "      <td>No</td>\n",
       "      <td>No</td>\n",
       "    </tr>\n",
       "    <tr>\n",
       "      <th>1</th>\n",
       "      <td>5575-GNVDE</td>\n",
       "      <td>DSL</td>\n",
       "      <td>Yes</td>\n",
       "      <td>No</td>\n",
       "      <td>Yes</td>\n",
       "      <td>No</td>\n",
       "      <td>No</td>\n",
       "      <td>No</td>\n",
       "    </tr>\n",
       "    <tr>\n",
       "      <th>2</th>\n",
       "      <td>3668-QPYBK</td>\n",
       "      <td>DSL</td>\n",
       "      <td>Yes</td>\n",
       "      <td>Yes</td>\n",
       "      <td>No</td>\n",
       "      <td>No</td>\n",
       "      <td>No</td>\n",
       "      <td>No</td>\n",
       "    </tr>\n",
       "    <tr>\n",
       "      <th>3</th>\n",
       "      <td>7795-CFOCW</td>\n",
       "      <td>DSL</td>\n",
       "      <td>Yes</td>\n",
       "      <td>No</td>\n",
       "      <td>Yes</td>\n",
       "      <td>Yes</td>\n",
       "      <td>No</td>\n",
       "      <td>No</td>\n",
       "    </tr>\n",
       "    <tr>\n",
       "      <th>4</th>\n",
       "      <td>9237-HQITU</td>\n",
       "      <td>Fiber optic</td>\n",
       "      <td>No</td>\n",
       "      <td>No</td>\n",
       "      <td>No</td>\n",
       "      <td>No</td>\n",
       "      <td>No</td>\n",
       "      <td>No</td>\n",
       "    </tr>\n",
       "  </tbody>\n",
       "</table>\n",
       "</div>"
      ],
      "text/plain": [
       "   customerID InternetService OnlineSecurity OnlineBackup DeviceProtection  \\\n",
       "0  7590-VHVEG             DSL             No          Yes               No   \n",
       "1  5575-GNVDE             DSL            Yes           No              Yes   \n",
       "2  3668-QPYBK             DSL            Yes          Yes               No   \n",
       "3  7795-CFOCW             DSL            Yes           No              Yes   \n",
       "4  9237-HQITU     Fiber optic             No           No               No   \n",
       "\n",
       "  TechSupport StreamingTV StreamingMovies  \n",
       "0          No          No              No  \n",
       "1          No          No              No  \n",
       "2          No          No              No  \n",
       "3         Yes          No              No  \n",
       "4          No          No              No  "
      ]
     },
     "execution_count": 9,
     "metadata": {},
     "output_type": "execute_result"
    }
   ],
   "source": [
    "df_internet.head()"
   ]
  },
  {
   "cell_type": "code",
   "execution_count": 10,
   "id": "d795a573",
   "metadata": {},
   "outputs": [
    {
     "name": "stdout",
     "output_type": "stream",
     "text": [
      "<class 'pandas.core.frame.DataFrame'>\n",
      "RangeIndex: 5517 entries, 0 to 5516\n",
      "Data columns (total 8 columns):\n",
      " #   Column            Non-Null Count  Dtype \n",
      "---  ------            --------------  ----- \n",
      " 0   customerID        5517 non-null   object\n",
      " 1   InternetService   5517 non-null   object\n",
      " 2   OnlineSecurity    5517 non-null   object\n",
      " 3   OnlineBackup      5517 non-null   object\n",
      " 4   DeviceProtection  5517 non-null   object\n",
      " 5   TechSupport       5517 non-null   object\n",
      " 6   StreamingTV       5517 non-null   object\n",
      " 7   StreamingMovies   5517 non-null   object\n",
      "dtypes: object(8)\n",
      "memory usage: 344.9+ KB\n"
     ]
    }
   ],
   "source": [
    "df_internet.info()"
   ]
  },
  {
   "cell_type": "code",
   "execution_count": 11,
   "id": "ed2543fc",
   "metadata": {},
   "outputs": [
    {
     "data": {
      "text/html": [
       "<div>\n",
       "<style scoped>\n",
       "    .dataframe tbody tr th:only-of-type {\n",
       "        vertical-align: middle;\n",
       "    }\n",
       "\n",
       "    .dataframe tbody tr th {\n",
       "        vertical-align: top;\n",
       "    }\n",
       "\n",
       "    .dataframe thead th {\n",
       "        text-align: right;\n",
       "    }\n",
       "</style>\n",
       "<table border=\"1\" class=\"dataframe\">\n",
       "  <thead>\n",
       "    <tr style=\"text-align: right;\">\n",
       "      <th></th>\n",
       "      <th>customerID</th>\n",
       "      <th>InternetService</th>\n",
       "      <th>OnlineSecurity</th>\n",
       "      <th>OnlineBackup</th>\n",
       "      <th>DeviceProtection</th>\n",
       "      <th>TechSupport</th>\n",
       "      <th>StreamingTV</th>\n",
       "      <th>StreamingMovies</th>\n",
       "    </tr>\n",
       "  </thead>\n",
       "  <tbody>\n",
       "    <tr>\n",
       "      <th>count</th>\n",
       "      <td>5517</td>\n",
       "      <td>5517</td>\n",
       "      <td>5517</td>\n",
       "      <td>5517</td>\n",
       "      <td>5517</td>\n",
       "      <td>5517</td>\n",
       "      <td>5517</td>\n",
       "      <td>5517</td>\n",
       "    </tr>\n",
       "    <tr>\n",
       "      <th>unique</th>\n",
       "      <td>5517</td>\n",
       "      <td>2</td>\n",
       "      <td>2</td>\n",
       "      <td>2</td>\n",
       "      <td>2</td>\n",
       "      <td>2</td>\n",
       "      <td>2</td>\n",
       "      <td>2</td>\n",
       "    </tr>\n",
       "    <tr>\n",
       "      <th>top</th>\n",
       "      <td>5816-JMLGY</td>\n",
       "      <td>Fiber optic</td>\n",
       "      <td>No</td>\n",
       "      <td>No</td>\n",
       "      <td>No</td>\n",
       "      <td>No</td>\n",
       "      <td>No</td>\n",
       "      <td>No</td>\n",
       "    </tr>\n",
       "    <tr>\n",
       "      <th>freq</th>\n",
       "      <td>1</td>\n",
       "      <td>3096</td>\n",
       "      <td>3498</td>\n",
       "      <td>3088</td>\n",
       "      <td>3095</td>\n",
       "      <td>3473</td>\n",
       "      <td>2810</td>\n",
       "      <td>2785</td>\n",
       "    </tr>\n",
       "  </tbody>\n",
       "</table>\n",
       "</div>"
      ],
      "text/plain": [
       "        customerID InternetService OnlineSecurity OnlineBackup  \\\n",
       "count         5517            5517           5517         5517   \n",
       "unique        5517               2              2            2   \n",
       "top     5816-JMLGY     Fiber optic             No           No   \n",
       "freq             1            3096           3498         3088   \n",
       "\n",
       "       DeviceProtection TechSupport StreamingTV StreamingMovies  \n",
       "count              5517        5517        5517            5517  \n",
       "unique                2           2           2               2  \n",
       "top                  No          No          No              No  \n",
       "freq               3095        3473        2810            2785  "
      ]
     },
     "execution_count": 11,
     "metadata": {},
     "output_type": "execute_result"
    }
   ],
   "source": [
    "df_internet.describe()"
   ]
  },
  {
   "cell_type": "code",
   "execution_count": 12,
   "id": "5c04ca6c",
   "metadata": {},
   "outputs": [
    {
     "data": {
      "image/png": "[encoded data removed]",
      "text/plain": [
       "<Figure size 720x576 with 9 Axes>"
      ]
     },
     "metadata": {
      "needs_background": "light"
     },
     "output_type": "display_data"
    }
   ],
   "source": [
    "num_rows = 3  # Количество рядов\n",
    "num_cols = 3  # Количество колонок\n",
    "\n",
    "# Создание сетки графиков\n",
    "fig, axes = plt.subplots(num_rows, num_cols, figsize=(10, 8))\n",
    "\n",
    "# Переменные для отслеживания текущего ряда и колонки\n",
    "curr_row = 0\n",
    "curr_col = 0\n",
    "\n",
    "# Перебор столбцов датафрейма\n",
    "for column in df_internet.drop('customerID', axis=1).columns:\n",
    "    # Построение графика распределения данных в столбце\n",
    "    df_internet[column].value_counts().plot(kind='bar', ax=axes[curr_row][curr_col])\n",
    "    axes[curr_row][curr_col].set_title(f'Распределение по {column}')\n",
    "    axes[curr_row][curr_col].set_xlabel(column)\n",
    "    axes[curr_row][curr_col].set_ylabel('Частота')\n",
    "\n",
    "    # Обновляем текущую позицию в сетке\n",
    "    curr_col += 1\n",
    "    if curr_col == num_cols:\n",
    "        curr_row += 1\n",
    "        curr_col = 0\n",
    "\n",
    "# Устранение пустых ячеек в сетке\n",
    "if curr_row < num_rows - 1 or curr_col < num_cols - 1:\n",
    "    for row in range(curr_row, num_rows):\n",
    "        for col in range(curr_col, num_cols):\n",
    "            axes[row][col].axis('off')\n",
    "            \n",
    "# Вывод графиков\n",
    "plt.tight_layout()\n",
    "plt.show()"
   ]
  },
  {
   "cell_type": "markdown",
   "id": "451fd32a",
   "metadata": {},
   "source": [
    "В датафрейме 'internet' все данные категориальные, и имеют тип object.\\\n",
    "Пропуски также отсутствуют."
   ]
  },
  {
   "cell_type": "markdown",
   "id": "caeee111",
   "metadata": {},
   "source": [
    "### Personal"
   ]
  },
  {
   "cell_type": "code",
   "execution_count": 13,
   "id": "6355caad",
   "metadata": {},
   "outputs": [
    {
     "data": {
      "text/html": [
       "<div>\n",
       "<style scoped>\n",
       "    .dataframe tbody tr th:only-of-type {\n",
       "        vertical-align: middle;\n",
       "    }\n",
       "\n",
       "    .dataframe tbody tr th {\n",
       "        vertical-align: top;\n",
       "    }\n",
       "\n",
       "    .dataframe thead th {\n",
       "        text-align: right;\n",
       "    }\n",
       "</style>\n",
       "<table border=\"1\" class=\"dataframe\">\n",
       "  <thead>\n",
       "    <tr style=\"text-align: right;\">\n",
       "      <th></th>\n",
       "      <th>customerID</th>\n",
       "      <th>gender</th>\n",
       "      <th>SeniorCitizen</th>\n",
       "      <th>Partner</th>\n",
       "      <th>Dependents</th>\n",
       "    </tr>\n",
       "  </thead>\n",
       "  <tbody>\n",
       "    <tr>\n",
       "      <th>0</th>\n",
       "      <td>7590-VHVEG</td>\n",
       "      <td>Female</td>\n",
       "      <td>0</td>\n",
       "      <td>Yes</td>\n",
       "      <td>No</td>\n",
       "    </tr>\n",
       "    <tr>\n",
       "      <th>1</th>\n",
       "      <td>5575-GNVDE</td>\n",
       "      <td>Male</td>\n",
       "      <td>0</td>\n",
       "      <td>No</td>\n",
       "      <td>No</td>\n",
       "    </tr>\n",
       "    <tr>\n",
       "      <th>2</th>\n",
       "      <td>3668-QPYBK</td>\n",
       "      <td>Male</td>\n",
       "      <td>0</td>\n",
       "      <td>No</td>\n",
       "      <td>No</td>\n",
       "    </tr>\n",
       "    <tr>\n",
       "      <th>3</th>\n",
       "      <td>7795-CFOCW</td>\n",
       "      <td>Male</td>\n",
       "      <td>0</td>\n",
       "      <td>No</td>\n",
       "      <td>No</td>\n",
       "    </tr>\n",
       "    <tr>\n",
       "      <th>4</th>\n",
       "      <td>9237-HQITU</td>\n",
       "      <td>Female</td>\n",
       "      <td>0</td>\n",
       "      <td>No</td>\n",
       "      <td>No</td>\n",
       "    </tr>\n",
       "  </tbody>\n",
       "</table>\n",
       "</div>"
      ],
      "text/plain": [
       "   customerID  gender  SeniorCitizen Partner Dependents\n",
       "0  7590-VHVEG  Female              0     Yes         No\n",
       "1  5575-GNVDE    Male              0      No         No\n",
       "2  3668-QPYBK    Male              0      No         No\n",
       "3  7795-CFOCW    Male              0      No         No\n",
       "4  9237-HQITU  Female              0      No         No"
      ]
     },
     "execution_count": 13,
     "metadata": {},
     "output_type": "execute_result"
    }
   ],
   "source": [
    "df_personal.head()"
   ]
  },
  {
   "cell_type": "code",
   "execution_count": 14,
   "id": "d9b74ac5",
   "metadata": {},
   "outputs": [
    {
     "name": "stdout",
     "output_type": "stream",
     "text": [
      "<class 'pandas.core.frame.DataFrame'>\n",
      "RangeIndex: 7043 entries, 0 to 7042\n",
      "Data columns (total 5 columns):\n",
      " #   Column         Non-Null Count  Dtype \n",
      "---  ------         --------------  ----- \n",
      " 0   customerID     7043 non-null   object\n",
      " 1   gender         7043 non-null   object\n",
      " 2   SeniorCitizen  7043 non-null   int64 \n",
      " 3   Partner        7043 non-null   object\n",
      " 4   Dependents     7043 non-null   object\n",
      "dtypes: int64(1), object(4)\n",
      "memory usage: 275.2+ KB\n"
     ]
    }
   ],
   "source": [
    "df_personal.info()"
   ]
  },
  {
   "cell_type": "code",
   "execution_count": 15,
   "id": "ee85c7e8",
   "metadata": {
    "scrolled": true
   },
   "outputs": [
    {
     "data": {
      "text/html": [
       "<div>\n",
       "<style scoped>\n",
       "    .dataframe tbody tr th:only-of-type {\n",
       "        vertical-align: middle;\n",
       "    }\n",
       "\n",
       "    .dataframe tbody tr th {\n",
       "        vertical-align: top;\n",
       "    }\n",
       "\n",
       "    .dataframe thead th {\n",
       "        text-align: right;\n",
       "    }\n",
       "</style>\n",
       "<table border=\"1\" class=\"dataframe\">\n",
       "  <thead>\n",
       "    <tr style=\"text-align: right;\">\n",
       "      <th></th>\n",
       "      <th>SeniorCitizen</th>\n",
       "    </tr>\n",
       "  </thead>\n",
       "  <tbody>\n",
       "    <tr>\n",
       "      <th>count</th>\n",
       "      <td>7043.000000</td>\n",
       "    </tr>\n",
       "    <tr>\n",
       "      <th>mean</th>\n",
       "      <td>0.162147</td>\n",
       "    </tr>\n",
       "    <tr>\n",
       "      <th>std</th>\n",
       "      <td>0.368612</td>\n",
       "    </tr>\n",
       "    <tr>\n",
       "      <th>min</th>\n",
       "      <td>0.000000</td>\n",
       "    </tr>\n",
       "    <tr>\n",
       "      <th>25%</th>\n",
       "      <td>0.000000</td>\n",
       "    </tr>\n",
       "    <tr>\n",
       "      <th>50%</th>\n",
       "      <td>0.000000</td>\n",
       "    </tr>\n",
       "    <tr>\n",
       "      <th>75%</th>\n",
       "      <td>0.000000</td>\n",
       "    </tr>\n",
       "    <tr>\n",
       "      <th>max</th>\n",
       "      <td>1.000000</td>\n",
       "    </tr>\n",
       "  </tbody>\n",
       "</table>\n",
       "</div>"
      ],
      "text/plain": [
       "       SeniorCitizen\n",
       "count    7043.000000\n",
       "mean        0.162147\n",
       "std         0.368612\n",
       "min         0.000000\n",
       "25%         0.000000\n",
       "50%         0.000000\n",
       "75%         0.000000\n",
       "max         1.000000"
      ]
     },
     "execution_count": 15,
     "metadata": {},
     "output_type": "execute_result"
    }
   ],
   "source": [
    "df_personal.describe()"
   ]
  },
  {
   "cell_type": "code",
   "execution_count": 16,
   "id": "9af5e02d",
   "metadata": {},
   "outputs": [
    {
     "data": {
      "image/png": "[encoded data removed]",
      "text/plain": [
       "<Figure size 504x360 with 4 Axes>"
      ]
     },
     "metadata": {
      "needs_background": "light"
     },
     "output_type": "display_data"
    }
   ],
   "source": [
    "num_rows = 2  # Количество рядов\n",
    "num_cols = 2  # Количество колонок\n",
    "\n",
    "# Создание сетки графиков\n",
    "fig, axes = plt.subplots(num_rows, num_cols, figsize=(7, 5))\n",
    "\n",
    "# Переменные для отслеживания текущего ряда и колонки\n",
    "curr_row = 0\n",
    "curr_col = 0\n",
    "\n",
    "# Перебор столбцов датафрейма\n",
    "for column in df_personal.drop('customerID', axis=1).columns:\n",
    "    # Построение графика распределения данных в столбце\n",
    "    df_personal[column].value_counts().plot(kind='bar', ax=axes[curr_row][curr_col])\n",
    "    axes[curr_row][curr_col].set_title(f'Распределение по {column}')\n",
    "    axes[curr_row][curr_col].set_xlabel(column)\n",
    "    axes[curr_row][curr_col].set_ylabel('Частота')\n",
    "\n",
    "    # Обновляем текущую позицию в сетке\n",
    "    curr_col += 1\n",
    "    if curr_col == num_cols:\n",
    "        curr_row += 1\n",
    "        curr_col = 0\n",
    "\n",
    "# Вывод графиков\n",
    "plt.tight_layout()\n",
    "plt.show()"
   ]
  },
  {
   "cell_type": "markdown",
   "id": "4d325873",
   "metadata": {},
   "source": [
    "В данном датафрейме также отсутствуют пропуски, все столбцы также категориальные.\\\n",
    "Также можно отметить, что среди абонентов 16.2% являются пенсионерами.\\\n",
    "Распределение по полу примерно 50 на 50.\\\n",
    "И также абонентов без детей гораздо больше."
   ]
  },
  {
   "cell_type": "markdown",
   "id": "4bd71cb1",
   "metadata": {},
   "source": [
    "### Phone"
   ]
  },
  {
   "cell_type": "code",
   "execution_count": 17,
   "id": "c81570a6",
   "metadata": {},
   "outputs": [
    {
     "data": {
      "text/html": [
       "<div>\n",
       "<style scoped>\n",
       "    .dataframe tbody tr th:only-of-type {\n",
       "        vertical-align: middle;\n",
       "    }\n",
       "\n",
       "    .dataframe tbody tr th {\n",
       "        vertical-align: top;\n",
       "    }\n",
       "\n",
       "    .dataframe thead th {\n",
       "        text-align: right;\n",
       "    }\n",
       "</style>\n",
       "<table border=\"1\" class=\"dataframe\">\n",
       "  <thead>\n",
       "    <tr style=\"text-align: right;\">\n",
       "      <th></th>\n",
       "      <th>customerID</th>\n",
       "      <th>MultipleLines</th>\n",
       "    </tr>\n",
       "  </thead>\n",
       "  <tbody>\n",
       "    <tr>\n",
       "      <th>0</th>\n",
       "      <td>5575-GNVDE</td>\n",
       "      <td>No</td>\n",
       "    </tr>\n",
       "    <tr>\n",
       "      <th>1</th>\n",
       "      <td>3668-QPYBK</td>\n",
       "      <td>No</td>\n",
       "    </tr>\n",
       "    <tr>\n",
       "      <th>2</th>\n",
       "      <td>9237-HQITU</td>\n",
       "      <td>No</td>\n",
       "    </tr>\n",
       "    <tr>\n",
       "      <th>3</th>\n",
       "      <td>9305-CDSKC</td>\n",
       "      <td>Yes</td>\n",
       "    </tr>\n",
       "    <tr>\n",
       "      <th>4</th>\n",
       "      <td>1452-KIOVK</td>\n",
       "      <td>Yes</td>\n",
       "    </tr>\n",
       "  </tbody>\n",
       "</table>\n",
       "</div>"
      ],
      "text/plain": [
       "   customerID MultipleLines\n",
       "0  5575-GNVDE            No\n",
       "1  3668-QPYBK            No\n",
       "2  9237-HQITU            No\n",
       "3  9305-CDSKC           Yes\n",
       "4  1452-KIOVK           Yes"
      ]
     },
     "execution_count": 17,
     "metadata": {},
     "output_type": "execute_result"
    }
   ],
   "source": [
    "df_phone.head()"
   ]
  },
  {
   "cell_type": "code",
   "execution_count": 18,
   "id": "91d63113",
   "metadata": {},
   "outputs": [
    {
     "name": "stdout",
     "output_type": "stream",
     "text": [
      "<class 'pandas.core.frame.DataFrame'>\n",
      "RangeIndex: 6361 entries, 0 to 6360\n",
      "Data columns (total 2 columns):\n",
      " #   Column         Non-Null Count  Dtype \n",
      "---  ------         --------------  ----- \n",
      " 0   customerID     6361 non-null   object\n",
      " 1   MultipleLines  6361 non-null   object\n",
      "dtypes: object(2)\n",
      "memory usage: 99.5+ KB\n"
     ]
    }
   ],
   "source": [
    "df_phone.info()"
   ]
  },
  {
   "cell_type": "code",
   "execution_count": 19,
   "id": "d1cfc652",
   "metadata": {},
   "outputs": [
    {
     "data": {
      "text/html": [
       "<div>\n",
       "<style scoped>\n",
       "    .dataframe tbody tr th:only-of-type {\n",
       "        vertical-align: middle;\n",
       "    }\n",
       "\n",
       "    .dataframe tbody tr th {\n",
       "        vertical-align: top;\n",
       "    }\n",
       "\n",
       "    .dataframe thead th {\n",
       "        text-align: right;\n",
       "    }\n",
       "</style>\n",
       "<table border=\"1\" class=\"dataframe\">\n",
       "  <thead>\n",
       "    <tr style=\"text-align: right;\">\n",
       "      <th></th>\n",
       "      <th>customerID</th>\n",
       "      <th>MultipleLines</th>\n",
       "    </tr>\n",
       "  </thead>\n",
       "  <tbody>\n",
       "    <tr>\n",
       "      <th>count</th>\n",
       "      <td>6361</td>\n",
       "      <td>6361</td>\n",
       "    </tr>\n",
       "    <tr>\n",
       "      <th>unique</th>\n",
       "      <td>6361</td>\n",
       "      <td>2</td>\n",
       "    </tr>\n",
       "    <tr>\n",
       "      <th>top</th>\n",
       "      <td>4749-VFKVB</td>\n",
       "      <td>No</td>\n",
       "    </tr>\n",
       "    <tr>\n",
       "      <th>freq</th>\n",
       "      <td>1</td>\n",
       "      <td>3390</td>\n",
       "    </tr>\n",
       "  </tbody>\n",
       "</table>\n",
       "</div>"
      ],
      "text/plain": [
       "        customerID MultipleLines\n",
       "count         6361          6361\n",
       "unique        6361             2\n",
       "top     4749-VFKVB            No\n",
       "freq             1          3390"
      ]
     },
     "execution_count": 19,
     "metadata": {},
     "output_type": "execute_result"
    }
   ],
   "source": [
    "df_phone.describe()"
   ]
  },
  {
   "cell_type": "code",
   "execution_count": 20,
   "id": "e3782916",
   "metadata": {},
   "outputs": [
    {
     "data": {
      "text/plain": [
       "<AxesSubplot:>"
      ]
     },
     "execution_count": 20,
     "metadata": {},
     "output_type": "execute_result"
    },
    {
     "data": {
      "image/png": "[encoded data removed]",
      "text/plain": [
       "<Figure size 216x360 with 1 Axes>"
      ]
     },
     "metadata": {
      "needs_background": "light"
     },
     "output_type": "display_data"
    }
   ],
   "source": [
    "df_phone['MultipleLines'].hist(figsize=(3, 5), bins=3)"
   ]
  },
  {
   "cell_type": "markdown",
   "id": "b28e172e",
   "metadata": {},
   "source": [
    "По данному датафрейму можно сказать, что чаще абоненты подключаются только к одной линии одновременно, чем к нескольким."
   ]
  },
  {
   "cell_type": "markdown",
   "id": "c8cffe51",
   "metadata": {},
   "source": [
    "##### План работы по пунктам"
   ]
  },
  {
   "cell_type": "markdown",
   "id": "0102ed85",
   "metadata": {},
   "source": [
    "- Ознакомился с данными;\n",
    "- Провести предобработку данных:\\\n",
    "  Объединить таблицы;\\\n",
    "  Создать дополнительный признак длительности \"жизни\" клиента;\\\n",
    "  Обработать пропуски в данных, которые возникнут из-за разных размеров датафреймов;\\\n",
    "  Обработать аномалии, если будут\n",
    "- Сделать анализ общего датасета;\n",
    "- Сделать разделение данных на обучающую и тестовую выборки;\n",
    "- Попробовать различные модели (на данном этапе пока не определился какие), используя пайплайны для подбора гиперпараметров;\n",
    "- Анализ лучшей модели;\n",
    "- Проверка лучшей модели на тестовой выборке\n",
    "- Итоговый вывод по проекту"
   ]
  },
  {
   "cell_type": "markdown",
   "id": "021247c5",
   "metadata": {},
   "source": [
    "## Часть 2"
   ]
  },
  {
   "cell_type": "markdown",
   "id": "60da3015",
   "metadata": {},
   "source": [
    "### Предобработка данных"
   ]
  },
  {
   "cell_type": "markdown",
   "id": "64afd898",
   "metadata": {},
   "source": [
    "##### Преобразование столбцов с датами к типу datetime"
   ]
  },
  {
   "cell_type": "code",
   "execution_count": 21,
   "id": "1a69634f",
   "metadata": {},
   "outputs": [
    {
     "data": {
      "text/plain": [
       "0       2020-01-01\n",
       "1       2017-04-01\n",
       "2       2019-10-01\n",
       "3       2016-05-01\n",
       "4       2019-09-01\n",
       "           ...    \n",
       "7038    2018-02-01\n",
       "7039    2014-02-01\n",
       "7040    2019-03-01\n",
       "7041    2019-07-01\n",
       "7042    2014-08-01\n",
       "Name: BeginDate, Length: 7043, dtype: object"
      ]
     },
     "execution_count": 21,
     "metadata": {},
     "output_type": "execute_result"
    }
   ],
   "source": [
    "df_contract['BeginDate']"
   ]
  },
  {
   "cell_type": "code",
   "execution_count": 22,
   "id": "1c9ea1c7",
   "metadata": {},
   "outputs": [],
   "source": [
    "df_contract['BeginDate'] = pd.to_datetime(df_contract['BeginDate'])"
   ]
  },
  {
   "cell_type": "code",
   "execution_count": 23,
   "id": "067e6b05",
   "metadata": {
    "scrolled": true
   },
   "outputs": [
    {
     "data": {
      "text/plain": [
       "0      2020-01-01\n",
       "1      2017-04-01\n",
       "2      2019-10-01\n",
       "3      2016-05-01\n",
       "4      2019-09-01\n",
       "          ...    \n",
       "7038   2018-02-01\n",
       "7039   2014-02-01\n",
       "7040   2019-03-01\n",
       "7041   2019-07-01\n",
       "7042   2014-08-01\n",
       "Name: BeginDate, Length: 7043, dtype: datetime64[ns]"
      ]
     },
     "execution_count": 23,
     "metadata": {},
     "output_type": "execute_result"
    }
   ],
   "source": [
    "df_contract['BeginDate']"
   ]
  },
  {
   "cell_type": "code",
   "execution_count": 24,
   "id": "7096fbd1",
   "metadata": {
    "scrolled": true
   },
   "outputs": [],
   "source": [
    "df_contract.loc[df_contract['EndDate'] == 'No', 'EndDate'] = np.NaN"
   ]
  },
  {
   "cell_type": "code",
   "execution_count": 25,
   "id": "a36f3f88",
   "metadata": {},
   "outputs": [
    {
     "data": {
      "text/plain": [
       "array([nan, '2017-05-01', '2016-03-01', '2018-09-01', '2018-11-01',\n",
       "       '2018-12-01', '2019-08-01', '2018-07-01', '2017-09-01',\n",
       "       '2015-09-01', '2016-07-01', '2016-06-01', '2018-03-01',\n",
       "       '2019-02-01', '2018-06-01', '2019-06-01', '2020-01-01',\n",
       "       '2019-11-01', '2016-09-01', '2015-06-01', '2016-12-01',\n",
       "       '2019-05-01', '2019-04-01', '2017-06-01', '2017-08-01',\n",
       "       '2018-04-01', '2018-08-01', '2018-02-01', '2019-07-01',\n",
       "       '2015-12-01', '2014-06-01', '2018-10-01', '2019-01-01',\n",
       "       '2017-07-01', '2017-12-01', '2018-05-01', '2015-11-01',\n",
       "       '2019-10-01', '2019-03-01', '2016-02-01', '2016-10-01',\n",
       "       '2018-01-01', '2017-11-01', '2015-10-01', '2019-12-01',\n",
       "       '2015-07-01', '2017-04-01', '2015-02-01', '2017-03-01',\n",
       "       '2016-05-01', '2016-11-01', '2015-08-01', '2019-09-01',\n",
       "       '2017-10-01', '2017-02-01', '2016-08-01', '2016-04-01',\n",
       "       '2015-05-01', '2014-09-01', '2014-10-01', '2017-01-01',\n",
       "       '2015-03-01', '2015-01-01', '2016-01-01', '2015-04-01',\n",
       "       '2014-12-01', '2014-11-01'], dtype=object)"
      ]
     },
     "execution_count": 25,
     "metadata": {},
     "output_type": "execute_result"
    }
   ],
   "source": [
    "df_contract['EndDate'].unique()"
   ]
  },
  {
   "cell_type": "code",
   "execution_count": 26,
   "id": "d0f4a48d",
   "metadata": {},
   "outputs": [],
   "source": [
    "df_contract['EndDate'] = pd.to_datetime(df_contract['EndDate'])"
   ]
  },
  {
   "cell_type": "markdown",
   "id": "7c2f9dea",
   "metadata": {},
   "source": [
    "#### Выделение целевого признака"
   ]
  },
  {
   "cell_type": "code",
   "execution_count": 27,
   "id": "74dfd90d",
   "metadata": {},
   "outputs": [],
   "source": [
    "df_contract['target'] = (~df_contract['EndDate'].isnull())"
   ]
  },
  {
   "cell_type": "code",
   "execution_count": 28,
   "id": "e93219a8",
   "metadata": {},
   "outputs": [
    {
     "data": {
      "text/plain": [
       "array([False,  True])"
      ]
     },
     "execution_count": 28,
     "metadata": {},
     "output_type": "execute_result"
    }
   ],
   "source": [
    "df_contract['target'].unique()"
   ]
  },
  {
   "cell_type": "code",
   "execution_count": 29,
   "id": "7e05c0cf",
   "metadata": {},
   "outputs": [],
   "source": [
    "df_contract['target'] = df_contract['target'].astype(int)"
   ]
  },
  {
   "cell_type": "code",
   "execution_count": 30,
   "id": "bc6f3d23",
   "metadata": {},
   "outputs": [
    {
     "data": {
      "text/plain": [
       "array([0, 1])"
      ]
     },
     "execution_count": 30,
     "metadata": {},
     "output_type": "execute_result"
    }
   ],
   "source": [
    "df_contract['target'].unique()"
   ]
  },
  {
   "cell_type": "markdown",
   "id": "8e5ef40d",
   "metadata": {},
   "source": [
    "#### Создание доп. признака о длительности жизни клиента"
   ]
  },
  {
   "cell_type": "code",
   "execution_count": 31,
   "id": "430c8964",
   "metadata": {
    "scrolled": true
   },
   "outputs": [
    {
     "data": {
      "text/plain": [
       "2020-01-01    39\n",
       "2019-12-01    38\n",
       "2018-11-01    35\n",
       "2019-09-01    32\n",
       "2019-10-01    31\n",
       "              ..\n",
       "2014-12-01     2\n",
       "2015-04-01     2\n",
       "2014-06-01     1\n",
       "2014-11-01     1\n",
       "2014-10-01     1\n",
       "Name: EndDate, Length: 66, dtype: int64"
      ]
     },
     "execution_count": 31,
     "metadata": {},
     "output_type": "execute_result"
    }
   ],
   "source": [
    "#создание доп. признака о длительности жизни клиента в датафрейме contract\n",
    "df_contract['EndDate'].value_counts()"
   ]
  },
  {
   "cell_type": "code",
   "execution_count": 32,
   "id": "97c4828e",
   "metadata": {},
   "outputs": [
    {
     "data": {
      "text/plain": [
       "numpy.datetime64('2014-06-01T00:00:00.000000000')"
      ]
     },
     "execution_count": 32,
     "metadata": {},
     "output_type": "execute_result"
    }
   ],
   "source": [
    "sorted(df_contract['EndDate'].unique())[1]"
   ]
  },
  {
   "cell_type": "code",
   "execution_count": 33,
   "id": "545e3a4e",
   "metadata": {},
   "outputs": [
    {
     "data": {
      "text/plain": [
       "numpy.datetime64('2020-01-01T00:00:00.000000000')"
      ]
     },
     "execution_count": 33,
     "metadata": {},
     "output_type": "execute_result"
    }
   ],
   "source": [
    "sorted(df_contract['EndDate'].unique())[-1]"
   ]
  },
  {
   "cell_type": "markdown",
   "id": "b40298a4",
   "metadata": {},
   "source": [
    "Последняя дата начала контракта числится за 01.01.2020. Соответственно длительность жизни будет считаться с самой первой даты до текущей."
   ]
  },
  {
   "cell_type": "code",
   "execution_count": 34,
   "id": "3e124c2f",
   "metadata": {},
   "outputs": [
    {
     "data": {
      "text/plain": [
       "9      2014-12-01\n",
       "15     2014-05-01\n",
       "25     2017-08-01\n",
       "30     2014-03-01\n",
       "35     2014-02-01\n",
       "          ...    \n",
       "7004   2016-12-01\n",
       "7005   2018-03-01\n",
       "7006   2016-09-01\n",
       "7012   2014-12-01\n",
       "7034   2014-03-01\n",
       "Name: BeginDate, Length: 1101, dtype: datetime64[ns]"
      ]
     },
     "execution_count": 34,
     "metadata": {},
     "output_type": "execute_result"
    }
   ],
   "source": [
    "df_contract.loc[(~df_contract['EndDate'].isnull()), 'BeginDate']"
   ]
  },
  {
   "cell_type": "code",
   "execution_count": 35,
   "id": "12689f07",
   "metadata": {},
   "outputs": [
    {
     "data": {
      "text/html": [
       "<div>\n",
       "<style scoped>\n",
       "    .dataframe tbody tr th:only-of-type {\n",
       "        vertical-align: middle;\n",
       "    }\n",
       "\n",
       "    .dataframe tbody tr th {\n",
       "        vertical-align: top;\n",
       "    }\n",
       "\n",
       "    .dataframe thead th {\n",
       "        text-align: right;\n",
       "    }\n",
       "</style>\n",
       "<table border=\"1\" class=\"dataframe\">\n",
       "  <thead>\n",
       "    <tr style=\"text-align: right;\">\n",
       "      <th></th>\n",
       "      <th>customerID</th>\n",
       "      <th>BeginDate</th>\n",
       "      <th>EndDate</th>\n",
       "      <th>Type</th>\n",
       "      <th>PaperlessBilling</th>\n",
       "      <th>PaymentMethod</th>\n",
       "      <th>MonthlyCharges</th>\n",
       "      <th>TotalCharges</th>\n",
       "      <th>target</th>\n",
       "    </tr>\n",
       "  </thead>\n",
       "  <tbody>\n",
       "    <tr>\n",
       "      <th>0</th>\n",
       "      <td>7590-VHVEG</td>\n",
       "      <td>2020-01-01</td>\n",
       "      <td>NaT</td>\n",
       "      <td>Month-to-month</td>\n",
       "      <td>Yes</td>\n",
       "      <td>Electronic check</td>\n",
       "      <td>29.85</td>\n",
       "      <td>31.04</td>\n",
       "      <td>0</td>\n",
       "    </tr>\n",
       "    <tr>\n",
       "      <th>1</th>\n",
       "      <td>5575-GNVDE</td>\n",
       "      <td>2017-04-01</td>\n",
       "      <td>NaT</td>\n",
       "      <td>One year</td>\n",
       "      <td>No</td>\n",
       "      <td>Mailed check</td>\n",
       "      <td>56.95</td>\n",
       "      <td>2071.84</td>\n",
       "      <td>0</td>\n",
       "    </tr>\n",
       "    <tr>\n",
       "      <th>2</th>\n",
       "      <td>3668-QPYBK</td>\n",
       "      <td>2019-10-01</td>\n",
       "      <td>NaT</td>\n",
       "      <td>Month-to-month</td>\n",
       "      <td>Yes</td>\n",
       "      <td>Mailed check</td>\n",
       "      <td>53.85</td>\n",
       "      <td>226.17</td>\n",
       "      <td>0</td>\n",
       "    </tr>\n",
       "    <tr>\n",
       "      <th>3</th>\n",
       "      <td>7795-CFOCW</td>\n",
       "      <td>2016-05-01</td>\n",
       "      <td>NaT</td>\n",
       "      <td>One year</td>\n",
       "      <td>No</td>\n",
       "      <td>Bank transfer (automatic)</td>\n",
       "      <td>42.30</td>\n",
       "      <td>1960.6</td>\n",
       "      <td>0</td>\n",
       "    </tr>\n",
       "    <tr>\n",
       "      <th>4</th>\n",
       "      <td>9237-HQITU</td>\n",
       "      <td>2019-09-01</td>\n",
       "      <td>NaT</td>\n",
       "      <td>Month-to-month</td>\n",
       "      <td>Yes</td>\n",
       "      <td>Electronic check</td>\n",
       "      <td>70.70</td>\n",
       "      <td>353.5</td>\n",
       "      <td>0</td>\n",
       "    </tr>\n",
       "    <tr>\n",
       "      <th>...</th>\n",
       "      <td>...</td>\n",
       "      <td>...</td>\n",
       "      <td>...</td>\n",
       "      <td>...</td>\n",
       "      <td>...</td>\n",
       "      <td>...</td>\n",
       "      <td>...</td>\n",
       "      <td>...</td>\n",
       "      <td>...</td>\n",
       "    </tr>\n",
       "    <tr>\n",
       "      <th>7038</th>\n",
       "      <td>6840-RESVB</td>\n",
       "      <td>2018-02-01</td>\n",
       "      <td>NaT</td>\n",
       "      <td>One year</td>\n",
       "      <td>Yes</td>\n",
       "      <td>Mailed check</td>\n",
       "      <td>84.80</td>\n",
       "      <td>2035.2</td>\n",
       "      <td>0</td>\n",
       "    </tr>\n",
       "    <tr>\n",
       "      <th>7039</th>\n",
       "      <td>2234-XADUH</td>\n",
       "      <td>2014-02-01</td>\n",
       "      <td>NaT</td>\n",
       "      <td>One year</td>\n",
       "      <td>Yes</td>\n",
       "      <td>Credit card (automatic)</td>\n",
       "      <td>103.20</td>\n",
       "      <td>7430.4</td>\n",
       "      <td>0</td>\n",
       "    </tr>\n",
       "    <tr>\n",
       "      <th>7040</th>\n",
       "      <td>4801-JZAZL</td>\n",
       "      <td>2019-03-01</td>\n",
       "      <td>NaT</td>\n",
       "      <td>Month-to-month</td>\n",
       "      <td>Yes</td>\n",
       "      <td>Electronic check</td>\n",
       "      <td>29.60</td>\n",
       "      <td>325.6</td>\n",
       "      <td>0</td>\n",
       "    </tr>\n",
       "    <tr>\n",
       "      <th>7041</th>\n",
       "      <td>8361-LTMKD</td>\n",
       "      <td>2019-07-01</td>\n",
       "      <td>NaT</td>\n",
       "      <td>Month-to-month</td>\n",
       "      <td>Yes</td>\n",
       "      <td>Mailed check</td>\n",
       "      <td>74.40</td>\n",
       "      <td>520.8</td>\n",
       "      <td>0</td>\n",
       "    </tr>\n",
       "    <tr>\n",
       "      <th>7042</th>\n",
       "      <td>3186-AJIEK</td>\n",
       "      <td>2014-08-01</td>\n",
       "      <td>NaT</td>\n",
       "      <td>Two year</td>\n",
       "      <td>Yes</td>\n",
       "      <td>Bank transfer (automatic)</td>\n",
       "      <td>105.65</td>\n",
       "      <td>7251.82</td>\n",
       "      <td>0</td>\n",
       "    </tr>\n",
       "  </tbody>\n",
       "</table>\n",
       "<p>5942 rows × 9 columns</p>\n",
       "</div>"
      ],
      "text/plain": [
       "      customerID  BeginDate EndDate            Type PaperlessBilling  \\\n",
       "0     7590-VHVEG 2020-01-01     NaT  Month-to-month              Yes   \n",
       "1     5575-GNVDE 2017-04-01     NaT        One year               No   \n",
       "2     3668-QPYBK 2019-10-01     NaT  Month-to-month              Yes   \n",
       "3     7795-CFOCW 2016-05-01     NaT        One year               No   \n",
       "4     9237-HQITU 2019-09-01     NaT  Month-to-month              Yes   \n",
       "...          ...        ...     ...             ...              ...   \n",
       "7038  6840-RESVB 2018-02-01     NaT        One year              Yes   \n",
       "7039  2234-XADUH 2014-02-01     NaT        One year              Yes   \n",
       "7040  4801-JZAZL 2019-03-01     NaT  Month-to-month              Yes   \n",
       "7041  8361-LTMKD 2019-07-01     NaT  Month-to-month              Yes   \n",
       "7042  3186-AJIEK 2014-08-01     NaT        Two year              Yes   \n",
       "\n",
       "                  PaymentMethod  MonthlyCharges TotalCharges  target  \n",
       "0              Electronic check           29.85        31.04       0  \n",
       "1                  Mailed check           56.95      2071.84       0  \n",
       "2                  Mailed check           53.85       226.17       0  \n",
       "3     Bank transfer (automatic)           42.30       1960.6       0  \n",
       "4              Electronic check           70.70        353.5       0  \n",
       "...                         ...             ...          ...     ...  \n",
       "7038               Mailed check           84.80       2035.2       0  \n",
       "7039    Credit card (automatic)          103.20       7430.4       0  \n",
       "7040           Electronic check           29.60        325.6       0  \n",
       "7041               Mailed check           74.40        520.8       0  \n",
       "7042  Bank transfer (automatic)          105.65      7251.82       0  \n",
       "\n",
       "[5942 rows x 9 columns]"
      ]
     },
     "execution_count": 35,
     "metadata": {},
     "output_type": "execute_result"
    }
   ],
   "source": [
    "df_contract[df_contract['EndDate'].isnull()]"
   ]
  },
  {
   "cell_type": "markdown",
   "id": "42c2e91f",
   "metadata": {},
   "source": [
    "В столбце EndDate очень много пропусков, которые необходимо заполнить. Так как даты окончания контракта еще нет, значит он еще действующий, и можно указать текущую дату для расчета длительности жизни клиента."
   ]
  },
  {
   "cell_type": "code",
   "execution_count": 36,
   "id": "a56ed1ff",
   "metadata": {},
   "outputs": [],
   "source": [
    "df_contract.loc[df_contract['EndDate'].isnull(), 'EndDate'] = '2020-02-01T00:00:00.000000000'"
   ]
  },
  {
   "cell_type": "code",
   "execution_count": 37,
   "id": "06bbd557",
   "metadata": {
    "scrolled": true
   },
   "outputs": [
    {
     "data": {
      "text/plain": [
       "array(['2020-02-01T00:00:00.000000000', Timestamp('2017-05-01 00:00:00'),\n",
       "       Timestamp('2016-03-01 00:00:00'), Timestamp('2018-09-01 00:00:00'),\n",
       "       Timestamp('2018-11-01 00:00:00'), Timestamp('2018-12-01 00:00:00'),\n",
       "       Timestamp('2019-08-01 00:00:00'), Timestamp('2018-07-01 00:00:00'),\n",
       "       Timestamp('2017-09-01 00:00:00'), Timestamp('2015-09-01 00:00:00'),\n",
       "       Timestamp('2016-07-01 00:00:00'), Timestamp('2016-06-01 00:00:00'),\n",
       "       Timestamp('2018-03-01 00:00:00'), Timestamp('2019-02-01 00:00:00'),\n",
       "       Timestamp('2018-06-01 00:00:00'), Timestamp('2019-06-01 00:00:00'),\n",
       "       Timestamp('2020-01-01 00:00:00'), Timestamp('2019-11-01 00:00:00'),\n",
       "       Timestamp('2016-09-01 00:00:00'), Timestamp('2015-06-01 00:00:00'),\n",
       "       Timestamp('2016-12-01 00:00:00'), Timestamp('2019-05-01 00:00:00'),\n",
       "       Timestamp('2019-04-01 00:00:00'), Timestamp('2017-06-01 00:00:00'),\n",
       "       Timestamp('2017-08-01 00:00:00'), Timestamp('2018-04-01 00:00:00'),\n",
       "       Timestamp('2018-08-01 00:00:00'), Timestamp('2018-02-01 00:00:00'),\n",
       "       Timestamp('2019-07-01 00:00:00'), Timestamp('2015-12-01 00:00:00'),\n",
       "       Timestamp('2014-06-01 00:00:00'), Timestamp('2018-10-01 00:00:00'),\n",
       "       Timestamp('2019-01-01 00:00:00'), Timestamp('2017-07-01 00:00:00'),\n",
       "       Timestamp('2017-12-01 00:00:00'), Timestamp('2018-05-01 00:00:00'),\n",
       "       Timestamp('2015-11-01 00:00:00'), Timestamp('2019-10-01 00:00:00'),\n",
       "       Timestamp('2019-03-01 00:00:00'), Timestamp('2016-02-01 00:00:00'),\n",
       "       Timestamp('2016-10-01 00:00:00'), Timestamp('2018-01-01 00:00:00'),\n",
       "       Timestamp('2017-11-01 00:00:00'), Timestamp('2015-10-01 00:00:00'),\n",
       "       Timestamp('2019-12-01 00:00:00'), Timestamp('2015-07-01 00:00:00'),\n",
       "       Timestamp('2017-04-01 00:00:00'), Timestamp('2015-02-01 00:00:00'),\n",
       "       Timestamp('2017-03-01 00:00:00'), Timestamp('2016-05-01 00:00:00'),\n",
       "       Timestamp('2016-11-01 00:00:00'), Timestamp('2015-08-01 00:00:00'),\n",
       "       Timestamp('2019-09-01 00:00:00'), Timestamp('2017-10-01 00:00:00'),\n",
       "       Timestamp('2017-02-01 00:00:00'), Timestamp('2016-08-01 00:00:00'),\n",
       "       Timestamp('2016-04-01 00:00:00'), Timestamp('2015-05-01 00:00:00'),\n",
       "       Timestamp('2014-09-01 00:00:00'), Timestamp('2014-10-01 00:00:00'),\n",
       "       Timestamp('2017-01-01 00:00:00'), Timestamp('2015-03-01 00:00:00'),\n",
       "       Timestamp('2015-01-01 00:00:00'), Timestamp('2016-01-01 00:00:00'),\n",
       "       Timestamp('2015-04-01 00:00:00'), Timestamp('2014-12-01 00:00:00'),\n",
       "       Timestamp('2014-11-01 00:00:00')], dtype=object)"
      ]
     },
     "execution_count": 37,
     "metadata": {},
     "output_type": "execute_result"
    }
   ],
   "source": [
    "df_contract['EndDate'].unique()"
   ]
  },
  {
   "cell_type": "code",
   "execution_count": null,
   "id": "9ac58680",
   "metadata": {},
   "outputs": [],
   "source": [
    "df_contract['duration'] = df_contract['EndDate'] - df_contract['BeginDate']\n",
    "df_contract.head()"
   ]
  },
  {
   "cell_type": "code",
   "execution_count": null,
   "id": "987b516f",
   "metadata": {},
   "outputs": [],
   "source": [
    "df_contract['duration'] = df_contract['duration'].dt.days\n",
    "df_contract.head()"
   ]
  },
  {
   "cell_type": "markdown",
   "id": "423861bc",
   "metadata": {},
   "source": [
    "Далее столбцы с датами больше не понадобятся, их можно удалить"
   ]
  },
  {
   "cell_type": "code",
   "execution_count": 40,
   "id": "00d6c06a",
   "metadata": {},
   "outputs": [
    {
     "data": {
      "text/html": [
       "<div>\n",
       "<style scoped>\n",
       "    .dataframe tbody tr th:only-of-type {\n",
       "        vertical-align: middle;\n",
       "    }\n",
       "\n",
       "    .dataframe tbody tr th {\n",
       "        vertical-align: top;\n",
       "    }\n",
       "\n",
       "    .dataframe thead th {\n",
       "        text-align: right;\n",
       "    }\n",
       "</style>\n",
       "<table border=\"1\" class=\"dataframe\">\n",
       "  <thead>\n",
       "    <tr style=\"text-align: right;\">\n",
       "      <th></th>\n",
       "      <th>customerID</th>\n",
       "      <th>Type</th>\n",
       "      <th>PaperlessBilling</th>\n",
       "      <th>PaymentMethod</th>\n",
       "      <th>MonthlyCharges</th>\n",
       "      <th>TotalCharges</th>\n",
       "      <th>target</th>\n",
       "    </tr>\n",
       "  </thead>\n",
       "  <tbody>\n",
       "    <tr>\n",
       "      <th>0</th>\n",
       "      <td>7590-VHVEG</td>\n",
       "      <td>Month-to-month</td>\n",
       "      <td>Yes</td>\n",
       "      <td>Electronic check</td>\n",
       "      <td>29.85</td>\n",
       "      <td>31.04</td>\n",
       "      <td>0</td>\n",
       "    </tr>\n",
       "    <tr>\n",
       "      <th>1</th>\n",
       "      <td>5575-GNVDE</td>\n",
       "      <td>One year</td>\n",
       "      <td>No</td>\n",
       "      <td>Mailed check</td>\n",
       "      <td>56.95</td>\n",
       "      <td>2071.84</td>\n",
       "      <td>0</td>\n",
       "    </tr>\n",
       "    <tr>\n",
       "      <th>2</th>\n",
       "      <td>3668-QPYBK</td>\n",
       "      <td>Month-to-month</td>\n",
       "      <td>Yes</td>\n",
       "      <td>Mailed check</td>\n",
       "      <td>53.85</td>\n",
       "      <td>226.17</td>\n",
       "      <td>0</td>\n",
       "    </tr>\n",
       "    <tr>\n",
       "      <th>3</th>\n",
       "      <td>7795-CFOCW</td>\n",
       "      <td>One year</td>\n",
       "      <td>No</td>\n",
       "      <td>Bank transfer (automatic)</td>\n",
       "      <td>42.30</td>\n",
       "      <td>1960.6</td>\n",
       "      <td>0</td>\n",
       "    </tr>\n",
       "    <tr>\n",
       "      <th>4</th>\n",
       "      <td>9237-HQITU</td>\n",
       "      <td>Month-to-month</td>\n",
       "      <td>Yes</td>\n",
       "      <td>Electronic check</td>\n",
       "      <td>70.70</td>\n",
       "      <td>353.5</td>\n",
       "      <td>0</td>\n",
       "    </tr>\n",
       "  </tbody>\n",
       "</table>\n",
       "</div>"
      ],
      "text/plain": [
       "   customerID            Type PaperlessBilling              PaymentMethod  \\\n",
       "0  7590-VHVEG  Month-to-month              Yes           Electronic check   \n",
       "1  5575-GNVDE        One year               No               Mailed check   \n",
       "2  3668-QPYBK  Month-to-month              Yes               Mailed check   \n",
       "3  7795-CFOCW        One year               No  Bank transfer (automatic)   \n",
       "4  9237-HQITU  Month-to-month              Yes           Electronic check   \n",
       "\n",
       "   MonthlyCharges TotalCharges  target  \n",
       "0           29.85        31.04       0  \n",
       "1           56.95      2071.84       0  \n",
       "2           53.85       226.17       0  \n",
       "3           42.30       1960.6       0  \n",
       "4           70.70        353.5       0  "
      ]
     },
     "execution_count": 40,
     "metadata": {},
     "output_type": "execute_result"
    }
   ],
   "source": [
    "df_contract = df_contract.drop(['BeginDate', 'EndDate'], axis=1)\n",
    "df_contract.head()"
   ]
  },
  {
   "cell_type": "markdown",
   "id": "90554df9",
   "metadata": {},
   "source": [
    "#### Объединение таблиц"
   ]
  },
  {
   "cell_type": "code",
   "execution_count": 41,
   "id": "093a929a",
   "metadata": {},
   "outputs": [
    {
     "data": {
      "text/html": [
       "<div>\n",
       "<style scoped>\n",
       "    .dataframe tbody tr th:only-of-type {\n",
       "        vertical-align: middle;\n",
       "    }\n",
       "\n",
       "    .dataframe tbody tr th {\n",
       "        vertical-align: top;\n",
       "    }\n",
       "\n",
       "    .dataframe thead th {\n",
       "        text-align: right;\n",
       "    }\n",
       "</style>\n",
       "<table border=\"1\" class=\"dataframe\">\n",
       "  <thead>\n",
       "    <tr style=\"text-align: right;\">\n",
       "      <th></th>\n",
       "      <th>customerID</th>\n",
       "      <th>Type</th>\n",
       "      <th>PaperlessBilling</th>\n",
       "      <th>PaymentMethod</th>\n",
       "      <th>MonthlyCharges</th>\n",
       "      <th>TotalCharges</th>\n",
       "      <th>target</th>\n",
       "      <th>InternetService</th>\n",
       "      <th>OnlineSecurity</th>\n",
       "      <th>OnlineBackup</th>\n",
       "      <th>DeviceProtection</th>\n",
       "      <th>TechSupport</th>\n",
       "      <th>StreamingTV</th>\n",
       "      <th>StreamingMovies</th>\n",
       "      <th>gender</th>\n",
       "      <th>SeniorCitizen</th>\n",
       "      <th>Partner</th>\n",
       "      <th>Dependents</th>\n",
       "      <th>MultipleLines</th>\n",
       "    </tr>\n",
       "  </thead>\n",
       "  <tbody>\n",
       "    <tr>\n",
       "      <th>0</th>\n",
       "      <td>7590-VHVEG</td>\n",
       "      <td>Month-to-month</td>\n",
       "      <td>Yes</td>\n",
       "      <td>Electronic check</td>\n",
       "      <td>29.85</td>\n",
       "      <td>31.04</td>\n",
       "      <td>0</td>\n",
       "      <td>DSL</td>\n",
       "      <td>No</td>\n",
       "      <td>Yes</td>\n",
       "      <td>No</td>\n",
       "      <td>No</td>\n",
       "      <td>No</td>\n",
       "      <td>No</td>\n",
       "      <td>Female</td>\n",
       "      <td>0</td>\n",
       "      <td>Yes</td>\n",
       "      <td>No</td>\n",
       "      <td>NaN</td>\n",
       "    </tr>\n",
       "    <tr>\n",
       "      <th>1</th>\n",
       "      <td>5575-GNVDE</td>\n",
       "      <td>One year</td>\n",
       "      <td>No</td>\n",
       "      <td>Mailed check</td>\n",
       "      <td>56.95</td>\n",
       "      <td>2071.84</td>\n",
       "      <td>0</td>\n",
       "      <td>DSL</td>\n",
       "      <td>Yes</td>\n",
       "      <td>No</td>\n",
       "      <td>Yes</td>\n",
       "      <td>No</td>\n",
       "      <td>No</td>\n",
       "      <td>No</td>\n",
       "      <td>Male</td>\n",
       "      <td>0</td>\n",
       "      <td>No</td>\n",
       "      <td>No</td>\n",
       "      <td>No</td>\n",
       "    </tr>\n",
       "    <tr>\n",
       "      <th>2</th>\n",
       "      <td>3668-QPYBK</td>\n",
       "      <td>Month-to-month</td>\n",
       "      <td>Yes</td>\n",
       "      <td>Mailed check</td>\n",
       "      <td>53.85</td>\n",
       "      <td>226.17</td>\n",
       "      <td>0</td>\n",
       "      <td>DSL</td>\n",
       "      <td>Yes</td>\n",
       "      <td>Yes</td>\n",
       "      <td>No</td>\n",
       "      <td>No</td>\n",
       "      <td>No</td>\n",
       "      <td>No</td>\n",
       "      <td>Male</td>\n",
       "      <td>0</td>\n",
       "      <td>No</td>\n",
       "      <td>No</td>\n",
       "      <td>No</td>\n",
       "    </tr>\n",
       "    <tr>\n",
       "      <th>3</th>\n",
       "      <td>7795-CFOCW</td>\n",
       "      <td>One year</td>\n",
       "      <td>No</td>\n",
       "      <td>Bank transfer (automatic)</td>\n",
       "      <td>42.30</td>\n",
       "      <td>1960.6</td>\n",
       "      <td>0</td>\n",
       "      <td>DSL</td>\n",
       "      <td>Yes</td>\n",
       "      <td>No</td>\n",
       "      <td>Yes</td>\n",
       "      <td>Yes</td>\n",
       "      <td>No</td>\n",
       "      <td>No</td>\n",
       "      <td>Male</td>\n",
       "      <td>0</td>\n",
       "      <td>No</td>\n",
       "      <td>No</td>\n",
       "      <td>NaN</td>\n",
       "    </tr>\n",
       "    <tr>\n",
       "      <th>4</th>\n",
       "      <td>9237-HQITU</td>\n",
       "      <td>Month-to-month</td>\n",
       "      <td>Yes</td>\n",
       "      <td>Electronic check</td>\n",
       "      <td>70.70</td>\n",
       "      <td>353.5</td>\n",
       "      <td>0</td>\n",
       "      <td>Fiber optic</td>\n",
       "      <td>No</td>\n",
       "      <td>No</td>\n",
       "      <td>No</td>\n",
       "      <td>No</td>\n",
       "      <td>No</td>\n",
       "      <td>No</td>\n",
       "      <td>Female</td>\n",
       "      <td>0</td>\n",
       "      <td>No</td>\n",
       "      <td>No</td>\n",
       "      <td>No</td>\n",
       "    </tr>\n",
       "  </tbody>\n",
       "</table>\n",
       "</div>"
      ],
      "text/plain": [
       "   customerID            Type PaperlessBilling              PaymentMethod  \\\n",
       "0  7590-VHVEG  Month-to-month              Yes           Electronic check   \n",
       "1  5575-GNVDE        One year               No               Mailed check   \n",
       "2  3668-QPYBK  Month-to-month              Yes               Mailed check   \n",
       "3  7795-CFOCW        One year               No  Bank transfer (automatic)   \n",
       "4  9237-HQITU  Month-to-month              Yes           Electronic check   \n",
       "\n",
       "   MonthlyCharges TotalCharges  target InternetService OnlineSecurity  \\\n",
       "0           29.85        31.04       0             DSL             No   \n",
       "1           56.95      2071.84       0             DSL            Yes   \n",
       "2           53.85       226.17       0             DSL            Yes   \n",
       "3           42.30       1960.6       0             DSL            Yes   \n",
       "4           70.70        353.5       0     Fiber optic             No   \n",
       "\n",
       "  OnlineBackup DeviceProtection TechSupport StreamingTV StreamingMovies  \\\n",
       "0          Yes               No          No          No              No   \n",
       "1           No              Yes          No          No              No   \n",
       "2          Yes               No          No          No              No   \n",
       "3           No              Yes         Yes          No              No   \n",
       "4           No               No          No          No              No   \n",
       "\n",
       "   gender  SeniorCitizen Partner Dependents MultipleLines  \n",
       "0  Female              0     Yes         No           NaN  \n",
       "1    Male              0      No         No            No  \n",
       "2    Male              0      No         No            No  \n",
       "3    Male              0      No         No           NaN  \n",
       "4  Female              0      No         No            No  "
      ]
     },
     "execution_count": 41,
     "metadata": {},
     "output_type": "execute_result"
    }
   ],
   "source": [
    "df_1 = pd.merge(df_contract, df_internet, on='customerID', how='outer')\n",
    "df_2 = pd.merge(df_1, df_personal, on='customerID', how='outer')\n",
    "df = pd.merge(df_2, df_phone, on='customerID', how='outer')\n",
    "df.head()"
   ]
  },
  {
   "cell_type": "code",
   "execution_count": 42,
   "id": "e83b5e75",
   "metadata": {},
   "outputs": [
    {
     "name": "stdout",
     "output_type": "stream",
     "text": [
      "<class 'pandas.core.frame.DataFrame'>\n",
      "Int64Index: 7043 entries, 0 to 7042\n",
      "Data columns (total 19 columns):\n",
      " #   Column            Non-Null Count  Dtype  \n",
      "---  ------            --------------  -----  \n",
      " 0   customerID        7043 non-null   object \n",
      " 1   Type              7043 non-null   object \n",
      " 2   PaperlessBilling  7043 non-null   object \n",
      " 3   PaymentMethod     7043 non-null   object \n",
      " 4   MonthlyCharges    7043 non-null   float64\n",
      " 5   TotalCharges      7043 non-null   object \n",
      " 6   target            7043 non-null   int64  \n",
      " 7   InternetService   5517 non-null   object \n",
      " 8   OnlineSecurity    5517 non-null   object \n",
      " 9   OnlineBackup      5517 non-null   object \n",
      " 10  DeviceProtection  5517 non-null   object \n",
      " 11  TechSupport       5517 non-null   object \n",
      " 12  StreamingTV       5517 non-null   object \n",
      " 13  StreamingMovies   5517 non-null   object \n",
      " 14  gender            7043 non-null   object \n",
      " 15  SeniorCitizen     7043 non-null   int64  \n",
      " 16  Partner           7043 non-null   object \n",
      " 17  Dependents        7043 non-null   object \n",
      " 18  MultipleLines     6361 non-null   object \n",
      "dtypes: float64(1), int64(2), object(16)\n",
      "memory usage: 1.1+ MB\n"
     ]
    }
   ],
   "source": [
    "df.info()"
   ]
  },
  {
   "cell_type": "code",
   "execution_count": 43,
   "id": "3799806c",
   "metadata": {},
   "outputs": [
    {
     "data": {
      "text/html": [
       "<div>\n",
       "<style scoped>\n",
       "    .dataframe tbody tr th:only-of-type {\n",
       "        vertical-align: middle;\n",
       "    }\n",
       "\n",
       "    .dataframe tbody tr th {\n",
       "        vertical-align: top;\n",
       "    }\n",
       "\n",
       "    .dataframe thead th {\n",
       "        text-align: right;\n",
       "    }\n",
       "</style>\n",
       "<table border=\"1\" class=\"dataframe\">\n",
       "  <thead>\n",
       "    <tr style=\"text-align: right;\">\n",
       "      <th></th>\n",
       "      <th>customerID</th>\n",
       "      <th>Type</th>\n",
       "      <th>PaperlessBilling</th>\n",
       "      <th>PaymentMethod</th>\n",
       "      <th>MonthlyCharges</th>\n",
       "      <th>target</th>\n",
       "      <th>InternetService</th>\n",
       "      <th>OnlineSecurity</th>\n",
       "      <th>OnlineBackup</th>\n",
       "      <th>DeviceProtection</th>\n",
       "      <th>TechSupport</th>\n",
       "      <th>StreamingTV</th>\n",
       "      <th>StreamingMovies</th>\n",
       "      <th>gender</th>\n",
       "      <th>SeniorCitizen</th>\n",
       "      <th>Partner</th>\n",
       "      <th>Dependents</th>\n",
       "      <th>MultipleLines</th>\n",
       "    </tr>\n",
       "  </thead>\n",
       "  <tbody>\n",
       "    <tr>\n",
       "      <th>0</th>\n",
       "      <td>7590-VHVEG</td>\n",
       "      <td>Month-to-month</td>\n",
       "      <td>Yes</td>\n",
       "      <td>Electronic check</td>\n",
       "      <td>29.85</td>\n",
       "      <td>0</td>\n",
       "      <td>DSL</td>\n",
       "      <td>No</td>\n",
       "      <td>Yes</td>\n",
       "      <td>No</td>\n",
       "      <td>No</td>\n",
       "      <td>No</td>\n",
       "      <td>No</td>\n",
       "      <td>Female</td>\n",
       "      <td>0</td>\n",
       "      <td>Yes</td>\n",
       "      <td>No</td>\n",
       "      <td>NaN</td>\n",
       "    </tr>\n",
       "    <tr>\n",
       "      <th>1</th>\n",
       "      <td>5575-GNVDE</td>\n",
       "      <td>One year</td>\n",
       "      <td>No</td>\n",
       "      <td>Mailed check</td>\n",
       "      <td>56.95</td>\n",
       "      <td>0</td>\n",
       "      <td>DSL</td>\n",
       "      <td>Yes</td>\n",
       "      <td>No</td>\n",
       "      <td>Yes</td>\n",
       "      <td>No</td>\n",
       "      <td>No</td>\n",
       "      <td>No</td>\n",
       "      <td>Male</td>\n",
       "      <td>0</td>\n",
       "      <td>No</td>\n",
       "      <td>No</td>\n",
       "      <td>No</td>\n",
       "    </tr>\n",
       "    <tr>\n",
       "      <th>2</th>\n",
       "      <td>3668-QPYBK</td>\n",
       "      <td>Month-to-month</td>\n",
       "      <td>Yes</td>\n",
       "      <td>Mailed check</td>\n",
       "      <td>53.85</td>\n",
       "      <td>0</td>\n",
       "      <td>DSL</td>\n",
       "      <td>Yes</td>\n",
       "      <td>Yes</td>\n",
       "      <td>No</td>\n",
       "      <td>No</td>\n",
       "      <td>No</td>\n",
       "      <td>No</td>\n",
       "      <td>Male</td>\n",
       "      <td>0</td>\n",
       "      <td>No</td>\n",
       "      <td>No</td>\n",
       "      <td>No</td>\n",
       "    </tr>\n",
       "    <tr>\n",
       "      <th>3</th>\n",
       "      <td>7795-CFOCW</td>\n",
       "      <td>One year</td>\n",
       "      <td>No</td>\n",
       "      <td>Bank transfer (automatic)</td>\n",
       "      <td>42.30</td>\n",
       "      <td>0</td>\n",
       "      <td>DSL</td>\n",
       "      <td>Yes</td>\n",
       "      <td>No</td>\n",
       "      <td>Yes</td>\n",
       "      <td>Yes</td>\n",
       "      <td>No</td>\n",
       "      <td>No</td>\n",
       "      <td>Male</td>\n",
       "      <td>0</td>\n",
       "      <td>No</td>\n",
       "      <td>No</td>\n",
       "      <td>NaN</td>\n",
       "    </tr>\n",
       "    <tr>\n",
       "      <th>4</th>\n",
       "      <td>9237-HQITU</td>\n",
       "      <td>Month-to-month</td>\n",
       "      <td>Yes</td>\n",
       "      <td>Electronic check</td>\n",
       "      <td>70.70</td>\n",
       "      <td>0</td>\n",
       "      <td>Fiber optic</td>\n",
       "      <td>No</td>\n",
       "      <td>No</td>\n",
       "      <td>No</td>\n",
       "      <td>No</td>\n",
       "      <td>No</td>\n",
       "      <td>No</td>\n",
       "      <td>Female</td>\n",
       "      <td>0</td>\n",
       "      <td>No</td>\n",
       "      <td>No</td>\n",
       "      <td>No</td>\n",
       "    </tr>\n",
       "  </tbody>\n",
       "</table>\n",
       "</div>"
      ],
      "text/plain": [
       "   customerID            Type PaperlessBilling              PaymentMethod  \\\n",
       "0  7590-VHVEG  Month-to-month              Yes           Electronic check   \n",
       "1  5575-GNVDE        One year               No               Mailed check   \n",
       "2  3668-QPYBK  Month-to-month              Yes               Mailed check   \n",
       "3  7795-CFOCW        One year               No  Bank transfer (automatic)   \n",
       "4  9237-HQITU  Month-to-month              Yes           Electronic check   \n",
       "\n",
       "   MonthlyCharges  target InternetService OnlineSecurity OnlineBackup  \\\n",
       "0           29.85       0             DSL             No          Yes   \n",
       "1           56.95       0             DSL            Yes           No   \n",
       "2           53.85       0             DSL            Yes          Yes   \n",
       "3           42.30       0             DSL            Yes           No   \n",
       "4           70.70       0     Fiber optic             No           No   \n",
       "\n",
       "  DeviceProtection TechSupport StreamingTV StreamingMovies  gender  \\\n",
       "0               No          No          No              No  Female   \n",
       "1              Yes          No          No              No    Male   \n",
       "2               No          No          No              No    Male   \n",
       "3              Yes         Yes          No              No    Male   \n",
       "4               No          No          No              No  Female   \n",
       "\n",
       "   SeniorCitizen Partner Dependents MultipleLines  \n",
       "0              0     Yes         No           NaN  \n",
       "1              0      No         No            No  \n",
       "2              0      No         No            No  \n",
       "3              0      No         No           NaN  \n",
       "4              0      No         No            No  "
      ]
     },
     "execution_count": 43,
     "metadata": {},
     "output_type": "execute_result"
    }
   ],
   "source": [
    "#Также можно удалить столбец total charges так как ежемесячный траты гораздо важнее общих\n",
    "df = df.drop('TotalCharges', axis=1)\n",
    "df.head()"
   ]
  },
  {
   "cell_type": "markdown",
   "id": "61209e62",
   "metadata": {},
   "source": [
    "#### Обработка пропусков и аномалий"
   ]
  },
  {
   "cell_type": "markdown",
   "id": "5191bb56",
   "metadata": {},
   "source": [
    "После объединения образовалось большое количество пропусков в некоторых признаках.\\\n",
    "Т.к. данных и так не очень много, просто избавиться от этих строк нельзя."
   ]
  },
  {
   "cell_type": "code",
   "execution_count": 44,
   "id": "525f450f",
   "metadata": {},
   "outputs": [
    {
     "name": "stdout",
     "output_type": "stream",
     "text": [
      "<class 'pandas.core.frame.DataFrame'>\n",
      "Int64Index: 7043 entries, 0 to 7042\n",
      "Data columns (total 18 columns):\n",
      " #   Column            Non-Null Count  Dtype  \n",
      "---  ------            --------------  -----  \n",
      " 0   customerID        7043 non-null   object \n",
      " 1   Type              7043 non-null   object \n",
      " 2   PaperlessBilling  7043 non-null   object \n",
      " 3   PaymentMethod     7043 non-null   object \n",
      " 4   MonthlyCharges    7043 non-null   float64\n",
      " 5   target            7043 non-null   int64  \n",
      " 6   InternetService   5517 non-null   object \n",
      " 7   OnlineSecurity    5517 non-null   object \n",
      " 8   OnlineBackup      5517 non-null   object \n",
      " 9   DeviceProtection  5517 non-null   object \n",
      " 10  TechSupport       5517 non-null   object \n",
      " 11  StreamingTV       5517 non-null   object \n",
      " 12  StreamingMovies   5517 non-null   object \n",
      " 13  gender            7043 non-null   object \n",
      " 14  SeniorCitizen     7043 non-null   int64  \n",
      " 15  Partner           7043 non-null   object \n",
      " 16  Dependents        7043 non-null   object \n",
      " 17  MultipleLines     6361 non-null   object \n",
      "dtypes: float64(1), int64(2), object(15)\n",
      "memory usage: 1.0+ MB\n"
     ]
    }
   ],
   "source": [
    "df.info()"
   ]
  },
  {
   "cell_type": "markdown",
   "id": "ef0e2518",
   "metadata": {},
   "source": [
    "Пропуски означают, что этими услугами клиенты не пользовались, соответственно можно проставить значение, которое будет обозначать неиспользованную услугу."
   ]
  },
  {
   "cell_type": "code",
   "execution_count": 45,
   "id": "2592bcdd",
   "metadata": {},
   "outputs": [
    {
     "data": {
      "text/html": [
       "<div>\n",
       "<style scoped>\n",
       "    .dataframe tbody tr th:only-of-type {\n",
       "        vertical-align: middle;\n",
       "    }\n",
       "\n",
       "    .dataframe tbody tr th {\n",
       "        vertical-align: top;\n",
       "    }\n",
       "\n",
       "    .dataframe thead th {\n",
       "        text-align: right;\n",
       "    }\n",
       "</style>\n",
       "<table border=\"1\" class=\"dataframe\">\n",
       "  <thead>\n",
       "    <tr style=\"text-align: right;\">\n",
       "      <th></th>\n",
       "      <th>customerID</th>\n",
       "      <th>Type</th>\n",
       "      <th>PaperlessBilling</th>\n",
       "      <th>PaymentMethod</th>\n",
       "      <th>MonthlyCharges</th>\n",
       "      <th>target</th>\n",
       "      <th>InternetService</th>\n",
       "      <th>OnlineSecurity</th>\n",
       "      <th>OnlineBackup</th>\n",
       "      <th>DeviceProtection</th>\n",
       "      <th>TechSupport</th>\n",
       "      <th>StreamingTV</th>\n",
       "      <th>StreamingMovies</th>\n",
       "      <th>gender</th>\n",
       "      <th>SeniorCitizen</th>\n",
       "      <th>Partner</th>\n",
       "      <th>Dependents</th>\n",
       "      <th>MultipleLines</th>\n",
       "    </tr>\n",
       "  </thead>\n",
       "  <tbody>\n",
       "    <tr>\n",
       "      <th>0</th>\n",
       "      <td>7590-VHVEG</td>\n",
       "      <td>Month-to-month</td>\n",
       "      <td>Yes</td>\n",
       "      <td>Electronic check</td>\n",
       "      <td>29.85</td>\n",
       "      <td>0</td>\n",
       "      <td>DSL</td>\n",
       "      <td>No</td>\n",
       "      <td>Yes</td>\n",
       "      <td>No</td>\n",
       "      <td>No</td>\n",
       "      <td>No</td>\n",
       "      <td>No</td>\n",
       "      <td>Female</td>\n",
       "      <td>0</td>\n",
       "      <td>Yes</td>\n",
       "      <td>No</td>\n",
       "      <td>not_used</td>\n",
       "    </tr>\n",
       "    <tr>\n",
       "      <th>1</th>\n",
       "      <td>5575-GNVDE</td>\n",
       "      <td>One year</td>\n",
       "      <td>No</td>\n",
       "      <td>Mailed check</td>\n",
       "      <td>56.95</td>\n",
       "      <td>0</td>\n",
       "      <td>DSL</td>\n",
       "      <td>Yes</td>\n",
       "      <td>No</td>\n",
       "      <td>Yes</td>\n",
       "      <td>No</td>\n",
       "      <td>No</td>\n",
       "      <td>No</td>\n",
       "      <td>Male</td>\n",
       "      <td>0</td>\n",
       "      <td>No</td>\n",
       "      <td>No</td>\n",
       "      <td>No</td>\n",
       "    </tr>\n",
       "    <tr>\n",
       "      <th>2</th>\n",
       "      <td>3668-QPYBK</td>\n",
       "      <td>Month-to-month</td>\n",
       "      <td>Yes</td>\n",
       "      <td>Mailed check</td>\n",
       "      <td>53.85</td>\n",
       "      <td>0</td>\n",
       "      <td>DSL</td>\n",
       "      <td>Yes</td>\n",
       "      <td>Yes</td>\n",
       "      <td>No</td>\n",
       "      <td>No</td>\n",
       "      <td>No</td>\n",
       "      <td>No</td>\n",
       "      <td>Male</td>\n",
       "      <td>0</td>\n",
       "      <td>No</td>\n",
       "      <td>No</td>\n",
       "      <td>No</td>\n",
       "    </tr>\n",
       "    <tr>\n",
       "      <th>3</th>\n",
       "      <td>7795-CFOCW</td>\n",
       "      <td>One year</td>\n",
       "      <td>No</td>\n",
       "      <td>Bank transfer (automatic)</td>\n",
       "      <td>42.30</td>\n",
       "      <td>0</td>\n",
       "      <td>DSL</td>\n",
       "      <td>Yes</td>\n",
       "      <td>No</td>\n",
       "      <td>Yes</td>\n",
       "      <td>Yes</td>\n",
       "      <td>No</td>\n",
       "      <td>No</td>\n",
       "      <td>Male</td>\n",
       "      <td>0</td>\n",
       "      <td>No</td>\n",
       "      <td>No</td>\n",
       "      <td>not_used</td>\n",
       "    </tr>\n",
       "    <tr>\n",
       "      <th>4</th>\n",
       "      <td>9237-HQITU</td>\n",
       "      <td>Month-to-month</td>\n",
       "      <td>Yes</td>\n",
       "      <td>Electronic check</td>\n",
       "      <td>70.70</td>\n",
       "      <td>0</td>\n",
       "      <td>Fiber optic</td>\n",
       "      <td>No</td>\n",
       "      <td>No</td>\n",
       "      <td>No</td>\n",
       "      <td>No</td>\n",
       "      <td>No</td>\n",
       "      <td>No</td>\n",
       "      <td>Female</td>\n",
       "      <td>0</td>\n",
       "      <td>No</td>\n",
       "      <td>No</td>\n",
       "      <td>No</td>\n",
       "    </tr>\n",
       "  </tbody>\n",
       "</table>\n",
       "</div>"
      ],
      "text/plain": [
       "   customerID            Type PaperlessBilling              PaymentMethod  \\\n",
       "0  7590-VHVEG  Month-to-month              Yes           Electronic check   \n",
       "1  5575-GNVDE        One year               No               Mailed check   \n",
       "2  3668-QPYBK  Month-to-month              Yes               Mailed check   \n",
       "3  7795-CFOCW        One year               No  Bank transfer (automatic)   \n",
       "4  9237-HQITU  Month-to-month              Yes           Electronic check   \n",
       "\n",
       "   MonthlyCharges  target InternetService OnlineSecurity OnlineBackup  \\\n",
       "0           29.85       0             DSL             No          Yes   \n",
       "1           56.95       0             DSL            Yes           No   \n",
       "2           53.85       0             DSL            Yes          Yes   \n",
       "3           42.30       0             DSL            Yes           No   \n",
       "4           70.70       0     Fiber optic             No           No   \n",
       "\n",
       "  DeviceProtection TechSupport StreamingTV StreamingMovies  gender  \\\n",
       "0               No          No          No              No  Female   \n",
       "1              Yes          No          No              No    Male   \n",
       "2               No          No          No              No    Male   \n",
       "3              Yes         Yes          No              No    Male   \n",
       "4               No          No          No              No  Female   \n",
       "\n",
       "   SeniorCitizen Partner Dependents MultipleLines  \n",
       "0              0     Yes         No      not_used  \n",
       "1              0      No         No            No  \n",
       "2              0      No         No            No  \n",
       "3              0      No         No      not_used  \n",
       "4              0      No         No            No  "
      ]
     },
     "execution_count": 45,
     "metadata": {},
     "output_type": "execute_result"
    }
   ],
   "source": [
    "df = df.fillna('not_used')\n",
    "df.head()"
   ]
  },
  {
   "cell_type": "code",
   "execution_count": 46,
   "id": "998b1f42",
   "metadata": {
    "scrolled": true
   },
   "outputs": [
    {
     "name": "stdout",
     "output_type": "stream",
     "text": [
      "<class 'pandas.core.frame.DataFrame'>\n",
      "Int64Index: 7043 entries, 0 to 7042\n",
      "Data columns (total 18 columns):\n",
      " #   Column            Non-Null Count  Dtype  \n",
      "---  ------            --------------  -----  \n",
      " 0   customerID        7043 non-null   object \n",
      " 1   Type              7043 non-null   object \n",
      " 2   PaperlessBilling  7043 non-null   object \n",
      " 3   PaymentMethod     7043 non-null   object \n",
      " 4   MonthlyCharges    7043 non-null   float64\n",
      " 5   target            7043 non-null   int64  \n",
      " 6   InternetService   7043 non-null   object \n",
      " 7   OnlineSecurity    7043 non-null   object \n",
      " 8   OnlineBackup      7043 non-null   object \n",
      " 9   DeviceProtection  7043 non-null   object \n",
      " 10  TechSupport       7043 non-null   object \n",
      " 11  StreamingTV       7043 non-null   object \n",
      " 12  StreamingMovies   7043 non-null   object \n",
      " 13  gender            7043 non-null   object \n",
      " 14  SeniorCitizen     7043 non-null   int64  \n",
      " 15  Partner           7043 non-null   object \n",
      " 16  Dependents        7043 non-null   object \n",
      " 17  MultipleLines     7043 non-null   object \n",
      "dtypes: float64(1), int64(2), object(15)\n",
      "memory usage: 1.0+ MB\n"
     ]
    }
   ],
   "source": [
    "df.info()"
   ]
  },
  {
   "cell_type": "markdown",
   "id": "2bab3320",
   "metadata": {},
   "source": [
    "#### Разбивка данных на выборки"
   ]
  },
  {
   "cell_type": "code",
   "execution_count": 47,
   "id": "70b7e07f",
   "metadata": {},
   "outputs": [],
   "source": [
    "train, test = train_test_split(df, random_state=RANDOM_STATE, test_size=0.25)\n",
    "\n",
    "features_train = train.drop('target', axis=1)\n",
    "target_train = train['target']\n",
    "\n",
    "features_test = test.drop('target', axis=1)\n",
    "target_test = test['target']"
   ]
  },
  {
   "cell_type": "code",
   "execution_count": 48,
   "id": "dd1c6a94",
   "metadata": {
    "scrolled": true
   },
   "outputs": [
    {
     "data": {
      "text/html": [
       "<div>\n",
       "<style scoped>\n",
       "    .dataframe tbody tr th:only-of-type {\n",
       "        vertical-align: middle;\n",
       "    }\n",
       "\n",
       "    .dataframe tbody tr th {\n",
       "        vertical-align: top;\n",
       "    }\n",
       "\n",
       "    .dataframe thead th {\n",
       "        text-align: right;\n",
       "    }\n",
       "</style>\n",
       "<table border=\"1\" class=\"dataframe\">\n",
       "  <thead>\n",
       "    <tr style=\"text-align: right;\">\n",
       "      <th></th>\n",
       "      <th>customerID</th>\n",
       "      <th>Type</th>\n",
       "      <th>PaperlessBilling</th>\n",
       "      <th>PaymentMethod</th>\n",
       "      <th>MonthlyCharges</th>\n",
       "      <th>InternetService</th>\n",
       "      <th>OnlineSecurity</th>\n",
       "      <th>OnlineBackup</th>\n",
       "      <th>DeviceProtection</th>\n",
       "      <th>TechSupport</th>\n",
       "      <th>StreamingTV</th>\n",
       "      <th>StreamingMovies</th>\n",
       "      <th>gender</th>\n",
       "      <th>SeniorCitizen</th>\n",
       "      <th>Partner</th>\n",
       "      <th>Dependents</th>\n",
       "      <th>MultipleLines</th>\n",
       "    </tr>\n",
       "  </thead>\n",
       "  <tbody>\n",
       "    <tr>\n",
       "      <th>1634</th>\n",
       "      <td>9995-HOTOH</td>\n",
       "      <td>Two year</td>\n",
       "      <td>No</td>\n",
       "      <td>Electronic check</td>\n",
       "      <td>59.00</td>\n",
       "      <td>DSL</td>\n",
       "      <td>Yes</td>\n",
       "      <td>Yes</td>\n",
       "      <td>Yes</td>\n",
       "      <td>No</td>\n",
       "      <td>Yes</td>\n",
       "      <td>Yes</td>\n",
       "      <td>Male</td>\n",
       "      <td>0</td>\n",
       "      <td>Yes</td>\n",
       "      <td>Yes</td>\n",
       "      <td>not_used</td>\n",
       "    </tr>\n",
       "    <tr>\n",
       "      <th>6889</th>\n",
       "      <td>7952-OBOYL</td>\n",
       "      <td>Month-to-month</td>\n",
       "      <td>Yes</td>\n",
       "      <td>Mailed check</td>\n",
       "      <td>89.85</td>\n",
       "      <td>Fiber optic</td>\n",
       "      <td>No</td>\n",
       "      <td>No</td>\n",
       "      <td>Yes</td>\n",
       "      <td>Yes</td>\n",
       "      <td>Yes</td>\n",
       "      <td>No</td>\n",
       "      <td>Male</td>\n",
       "      <td>0</td>\n",
       "      <td>No</td>\n",
       "      <td>No</td>\n",
       "      <td>No</td>\n",
       "    </tr>\n",
       "    <tr>\n",
       "      <th>6630</th>\n",
       "      <td>1226-IENZN</td>\n",
       "      <td>Month-to-month</td>\n",
       "      <td>Yes</td>\n",
       "      <td>Electronic check</td>\n",
       "      <td>78.75</td>\n",
       "      <td>Fiber optic</td>\n",
       "      <td>No</td>\n",
       "      <td>No</td>\n",
       "      <td>No</td>\n",
       "      <td>No</td>\n",
       "      <td>No</td>\n",
       "      <td>Yes</td>\n",
       "      <td>Male</td>\n",
       "      <td>1</td>\n",
       "      <td>No</td>\n",
       "      <td>No</td>\n",
       "      <td>No</td>\n",
       "    </tr>\n",
       "    <tr>\n",
       "      <th>4261</th>\n",
       "      <td>6195-MELTI</td>\n",
       "      <td>One year</td>\n",
       "      <td>Yes</td>\n",
       "      <td>Mailed check</td>\n",
       "      <td>54.65</td>\n",
       "      <td>DSL</td>\n",
       "      <td>No</td>\n",
       "      <td>Yes</td>\n",
       "      <td>No</td>\n",
       "      <td>Yes</td>\n",
       "      <td>No</td>\n",
       "      <td>No</td>\n",
       "      <td>Male</td>\n",
       "      <td>0</td>\n",
       "      <td>No</td>\n",
       "      <td>No</td>\n",
       "      <td>No</td>\n",
       "    </tr>\n",
       "    <tr>\n",
       "      <th>6785</th>\n",
       "      <td>3090-HAWSU</td>\n",
       "      <td>Two year</td>\n",
       "      <td>Yes</td>\n",
       "      <td>Credit card (automatic)</td>\n",
       "      <td>111.60</td>\n",
       "      <td>Fiber optic</td>\n",
       "      <td>Yes</td>\n",
       "      <td>No</td>\n",
       "      <td>Yes</td>\n",
       "      <td>Yes</td>\n",
       "      <td>Yes</td>\n",
       "      <td>Yes</td>\n",
       "      <td>Male</td>\n",
       "      <td>0</td>\n",
       "      <td>No</td>\n",
       "      <td>No</td>\n",
       "      <td>Yes</td>\n",
       "    </tr>\n",
       "    <tr>\n",
       "      <th>...</th>\n",
       "      <td>...</td>\n",
       "      <td>...</td>\n",
       "      <td>...</td>\n",
       "      <td>...</td>\n",
       "      <td>...</td>\n",
       "      <td>...</td>\n",
       "      <td>...</td>\n",
       "      <td>...</td>\n",
       "      <td>...</td>\n",
       "      <td>...</td>\n",
       "      <td>...</td>\n",
       "      <td>...</td>\n",
       "      <td>...</td>\n",
       "      <td>...</td>\n",
       "      <td>...</td>\n",
       "      <td>...</td>\n",
       "      <td>...</td>\n",
       "    </tr>\n",
       "    <tr>\n",
       "      <th>801</th>\n",
       "      <td>1450-GALXR</td>\n",
       "      <td>Month-to-month</td>\n",
       "      <td>Yes</td>\n",
       "      <td>Electronic check</td>\n",
       "      <td>98.50</td>\n",
       "      <td>Fiber optic</td>\n",
       "      <td>No</td>\n",
       "      <td>No</td>\n",
       "      <td>No</td>\n",
       "      <td>Yes</td>\n",
       "      <td>Yes</td>\n",
       "      <td>Yes</td>\n",
       "      <td>Female</td>\n",
       "      <td>0</td>\n",
       "      <td>No</td>\n",
       "      <td>No</td>\n",
       "      <td>Yes</td>\n",
       "    </tr>\n",
       "    <tr>\n",
       "      <th>3840</th>\n",
       "      <td>1080-BWSYE</td>\n",
       "      <td>Two year</td>\n",
       "      <td>No</td>\n",
       "      <td>Credit card (automatic)</td>\n",
       "      <td>25.65</td>\n",
       "      <td>not_used</td>\n",
       "      <td>not_used</td>\n",
       "      <td>not_used</td>\n",
       "      <td>not_used</td>\n",
       "      <td>not_used</td>\n",
       "      <td>not_used</td>\n",
       "      <td>not_used</td>\n",
       "      <td>Male</td>\n",
       "      <td>1</td>\n",
       "      <td>Yes</td>\n",
       "      <td>No</td>\n",
       "      <td>Yes</td>\n",
       "    </tr>\n",
       "    <tr>\n",
       "      <th>935</th>\n",
       "      <td>6630-UJZMY</td>\n",
       "      <td>Month-to-month</td>\n",
       "      <td>Yes</td>\n",
       "      <td>Electronic check</td>\n",
       "      <td>83.25</td>\n",
       "      <td>Fiber optic</td>\n",
       "      <td>No</td>\n",
       "      <td>No</td>\n",
       "      <td>No</td>\n",
       "      <td>No</td>\n",
       "      <td>Yes</td>\n",
       "      <td>No</td>\n",
       "      <td>Female</td>\n",
       "      <td>1</td>\n",
       "      <td>Yes</td>\n",
       "      <td>No</td>\n",
       "      <td>Yes</td>\n",
       "    </tr>\n",
       "    <tr>\n",
       "      <th>4395</th>\n",
       "      <td>5502-RLUYV</td>\n",
       "      <td>Month-to-month</td>\n",
       "      <td>Yes</td>\n",
       "      <td>Electronic check</td>\n",
       "      <td>103.95</td>\n",
       "      <td>Fiber optic</td>\n",
       "      <td>No</td>\n",
       "      <td>Yes</td>\n",
       "      <td>Yes</td>\n",
       "      <td>No</td>\n",
       "      <td>Yes</td>\n",
       "      <td>Yes</td>\n",
       "      <td>Female</td>\n",
       "      <td>0</td>\n",
       "      <td>Yes</td>\n",
       "      <td>Yes</td>\n",
       "      <td>Yes</td>\n",
       "    </tr>\n",
       "    <tr>\n",
       "      <th>4264</th>\n",
       "      <td>8818-DOPVL</td>\n",
       "      <td>Month-to-month</td>\n",
       "      <td>Yes</td>\n",
       "      <td>Electronic check</td>\n",
       "      <td>104.45</td>\n",
       "      <td>Fiber optic</td>\n",
       "      <td>No</td>\n",
       "      <td>Yes</td>\n",
       "      <td>Yes</td>\n",
       "      <td>No</td>\n",
       "      <td>Yes</td>\n",
       "      <td>Yes</td>\n",
       "      <td>Female</td>\n",
       "      <td>1</td>\n",
       "      <td>No</td>\n",
       "      <td>No</td>\n",
       "      <td>Yes</td>\n",
       "    </tr>\n",
       "  </tbody>\n",
       "</table>\n",
       "<p>5282 rows × 17 columns</p>\n",
       "</div>"
      ],
      "text/plain": [
       "      customerID            Type PaperlessBilling            PaymentMethod  \\\n",
       "1634  9995-HOTOH        Two year               No         Electronic check   \n",
       "6889  7952-OBOYL  Month-to-month              Yes             Mailed check   \n",
       "6630  1226-IENZN  Month-to-month              Yes         Electronic check   \n",
       "4261  6195-MELTI        One year              Yes             Mailed check   \n",
       "6785  3090-HAWSU        Two year              Yes  Credit card (automatic)   \n",
       "...          ...             ...              ...                      ...   \n",
       "801   1450-GALXR  Month-to-month              Yes         Electronic check   \n",
       "3840  1080-BWSYE        Two year               No  Credit card (automatic)   \n",
       "935   6630-UJZMY  Month-to-month              Yes         Electronic check   \n",
       "4395  5502-RLUYV  Month-to-month              Yes         Electronic check   \n",
       "4264  8818-DOPVL  Month-to-month              Yes         Electronic check   \n",
       "\n",
       "      MonthlyCharges InternetService OnlineSecurity OnlineBackup  \\\n",
       "1634           59.00             DSL            Yes          Yes   \n",
       "6889           89.85     Fiber optic             No           No   \n",
       "6630           78.75     Fiber optic             No           No   \n",
       "4261           54.65             DSL             No          Yes   \n",
       "6785          111.60     Fiber optic            Yes           No   \n",
       "...              ...             ...            ...          ...   \n",
       "801            98.50     Fiber optic             No           No   \n",
       "3840           25.65        not_used       not_used     not_used   \n",
       "935            83.25     Fiber optic             No           No   \n",
       "4395          103.95     Fiber optic             No          Yes   \n",
       "4264          104.45     Fiber optic             No          Yes   \n",
       "\n",
       "     DeviceProtection TechSupport StreamingTV StreamingMovies  gender  \\\n",
       "1634              Yes          No         Yes             Yes    Male   \n",
       "6889              Yes         Yes         Yes              No    Male   \n",
       "6630               No          No          No             Yes    Male   \n",
       "4261               No         Yes          No              No    Male   \n",
       "6785              Yes         Yes         Yes             Yes    Male   \n",
       "...               ...         ...         ...             ...     ...   \n",
       "801                No         Yes         Yes             Yes  Female   \n",
       "3840         not_used    not_used    not_used        not_used    Male   \n",
       "935                No          No         Yes              No  Female   \n",
       "4395              Yes          No         Yes             Yes  Female   \n",
       "4264              Yes          No         Yes             Yes  Female   \n",
       "\n",
       "      SeniorCitizen Partner Dependents MultipleLines  \n",
       "1634              0     Yes        Yes      not_used  \n",
       "6889              0      No         No            No  \n",
       "6630              1      No         No            No  \n",
       "4261              0      No         No            No  \n",
       "6785              0      No         No           Yes  \n",
       "...             ...     ...        ...           ...  \n",
       "801               0      No         No           Yes  \n",
       "3840              1     Yes         No           Yes  \n",
       "935               1     Yes         No           Yes  \n",
       "4395              0     Yes        Yes           Yes  \n",
       "4264              1      No         No           Yes  \n",
       "\n",
       "[5282 rows x 17 columns]"
      ]
     },
     "execution_count": 48,
     "metadata": {},
     "output_type": "execute_result"
    }
   ],
   "source": [
    "features_train"
   ]
  },
  {
   "cell_type": "code",
   "execution_count": 49,
   "id": "e78aeabd",
   "metadata": {},
   "outputs": [
    {
     "data": {
      "text/plain": [
       "1634    0\n",
       "6889    0\n",
       "6630    0\n",
       "4261    0\n",
       "6785    1\n",
       "       ..\n",
       "801     0\n",
       "3840    0\n",
       "935     0\n",
       "4395    1\n",
       "4264    0\n",
       "Name: target, Length: 5282, dtype: int64"
      ]
     },
     "execution_count": 49,
     "metadata": {},
     "output_type": "execute_result"
    }
   ],
   "source": [
    "target_train"
   ]
  },
  {
   "cell_type": "code",
   "execution_count": 50,
   "id": "5423ad57",
   "metadata": {},
   "outputs": [
    {
     "data": {
      "text/plain": [
       "1634     No\n",
       "6889     No\n",
       "6630    Yes\n",
       "4261     No\n",
       "6785     No\n",
       "       ... \n",
       "801      No\n",
       "3840    Yes\n",
       "935     Yes\n",
       "4395     No\n",
       "4264    Yes\n",
       "Name: SeniorCitizen, Length: 5282, dtype: object"
      ]
     },
     "execution_count": 50,
     "metadata": {},
     "output_type": "execute_result"
    }
   ],
   "source": [
    "features_train['SeniorCitizen'] = features_train['SeniorCitizen'].replace({0:'No', 1:'Yes'})\n",
    "features_train['SeniorCitizen']"
   ]
  },
  {
   "cell_type": "code",
   "execution_count": 51,
   "id": "305fcf07",
   "metadata": {},
   "outputs": [
    {
     "data": {
      "text/html": [
       "<div>\n",
       "<style scoped>\n",
       "    .dataframe tbody tr th:only-of-type {\n",
       "        vertical-align: middle;\n",
       "    }\n",
       "\n",
       "    .dataframe tbody tr th {\n",
       "        vertical-align: top;\n",
       "    }\n",
       "\n",
       "    .dataframe thead th {\n",
       "        text-align: right;\n",
       "    }\n",
       "</style>\n",
       "<table border=\"1\" class=\"dataframe\">\n",
       "  <thead>\n",
       "    <tr style=\"text-align: right;\">\n",
       "      <th></th>\n",
       "      <th>customerID</th>\n",
       "      <th>Type</th>\n",
       "      <th>PaperlessBilling</th>\n",
       "      <th>PaymentMethod</th>\n",
       "      <th>MonthlyCharges</th>\n",
       "      <th>InternetService</th>\n",
       "      <th>OnlineSecurity</th>\n",
       "      <th>OnlineBackup</th>\n",
       "      <th>DeviceProtection</th>\n",
       "      <th>TechSupport</th>\n",
       "      <th>StreamingTV</th>\n",
       "      <th>StreamingMovies</th>\n",
       "      <th>gender</th>\n",
       "      <th>SeniorCitizen</th>\n",
       "      <th>Partner</th>\n",
       "      <th>Dependents</th>\n",
       "      <th>MultipleLines</th>\n",
       "    </tr>\n",
       "  </thead>\n",
       "  <tbody>\n",
       "    <tr>\n",
       "      <th>1634</th>\n",
       "      <td>9995-HOTOH</td>\n",
       "      <td>Two year</td>\n",
       "      <td>No</td>\n",
       "      <td>Electronic check</td>\n",
       "      <td>59.00</td>\n",
       "      <td>DSL</td>\n",
       "      <td>Yes</td>\n",
       "      <td>Yes</td>\n",
       "      <td>Yes</td>\n",
       "      <td>No</td>\n",
       "      <td>Yes</td>\n",
       "      <td>Yes</td>\n",
       "      <td>Male</td>\n",
       "      <td>No</td>\n",
       "      <td>Yes</td>\n",
       "      <td>Yes</td>\n",
       "      <td>not_used</td>\n",
       "    </tr>\n",
       "    <tr>\n",
       "      <th>6889</th>\n",
       "      <td>7952-OBOYL</td>\n",
       "      <td>Month-to-month</td>\n",
       "      <td>Yes</td>\n",
       "      <td>Mailed check</td>\n",
       "      <td>89.85</td>\n",
       "      <td>Fiber optic</td>\n",
       "      <td>No</td>\n",
       "      <td>No</td>\n",
       "      <td>Yes</td>\n",
       "      <td>Yes</td>\n",
       "      <td>Yes</td>\n",
       "      <td>No</td>\n",
       "      <td>Male</td>\n",
       "      <td>No</td>\n",
       "      <td>No</td>\n",
       "      <td>No</td>\n",
       "      <td>No</td>\n",
       "    </tr>\n",
       "    <tr>\n",
       "      <th>6630</th>\n",
       "      <td>1226-IENZN</td>\n",
       "      <td>Month-to-month</td>\n",
       "      <td>Yes</td>\n",
       "      <td>Electronic check</td>\n",
       "      <td>78.75</td>\n",
       "      <td>Fiber optic</td>\n",
       "      <td>No</td>\n",
       "      <td>No</td>\n",
       "      <td>No</td>\n",
       "      <td>No</td>\n",
       "      <td>No</td>\n",
       "      <td>Yes</td>\n",
       "      <td>Male</td>\n",
       "      <td>Yes</td>\n",
       "      <td>No</td>\n",
       "      <td>No</td>\n",
       "      <td>No</td>\n",
       "    </tr>\n",
       "    <tr>\n",
       "      <th>4261</th>\n",
       "      <td>6195-MELTI</td>\n",
       "      <td>One year</td>\n",
       "      <td>Yes</td>\n",
       "      <td>Mailed check</td>\n",
       "      <td>54.65</td>\n",
       "      <td>DSL</td>\n",
       "      <td>No</td>\n",
       "      <td>Yes</td>\n",
       "      <td>No</td>\n",
       "      <td>Yes</td>\n",
       "      <td>No</td>\n",
       "      <td>No</td>\n",
       "      <td>Male</td>\n",
       "      <td>No</td>\n",
       "      <td>No</td>\n",
       "      <td>No</td>\n",
       "      <td>No</td>\n",
       "    </tr>\n",
       "    <tr>\n",
       "      <th>6785</th>\n",
       "      <td>3090-HAWSU</td>\n",
       "      <td>Two year</td>\n",
       "      <td>Yes</td>\n",
       "      <td>Credit card (automatic)</td>\n",
       "      <td>111.60</td>\n",
       "      <td>Fiber optic</td>\n",
       "      <td>Yes</td>\n",
       "      <td>No</td>\n",
       "      <td>Yes</td>\n",
       "      <td>Yes</td>\n",
       "      <td>Yes</td>\n",
       "      <td>Yes</td>\n",
       "      <td>Male</td>\n",
       "      <td>No</td>\n",
       "      <td>No</td>\n",
       "      <td>No</td>\n",
       "      <td>Yes</td>\n",
       "    </tr>\n",
       "  </tbody>\n",
       "</table>\n",
       "</div>"
      ],
      "text/plain": [
       "      customerID            Type PaperlessBilling            PaymentMethod  \\\n",
       "1634  9995-HOTOH        Two year               No         Electronic check   \n",
       "6889  7952-OBOYL  Month-to-month              Yes             Mailed check   \n",
       "6630  1226-IENZN  Month-to-month              Yes         Electronic check   \n",
       "4261  6195-MELTI        One year              Yes             Mailed check   \n",
       "6785  3090-HAWSU        Two year              Yes  Credit card (automatic)   \n",
       "\n",
       "      MonthlyCharges InternetService OnlineSecurity OnlineBackup  \\\n",
       "1634           59.00             DSL            Yes          Yes   \n",
       "6889           89.85     Fiber optic             No           No   \n",
       "6630           78.75     Fiber optic             No           No   \n",
       "4261           54.65             DSL             No          Yes   \n",
       "6785          111.60     Fiber optic            Yes           No   \n",
       "\n",
       "     DeviceProtection TechSupport StreamingTV StreamingMovies gender  \\\n",
       "1634              Yes          No         Yes             Yes   Male   \n",
       "6889              Yes         Yes         Yes              No   Male   \n",
       "6630               No          No          No             Yes   Male   \n",
       "4261               No         Yes          No              No   Male   \n",
       "6785              Yes         Yes         Yes             Yes   Male   \n",
       "\n",
       "     SeniorCitizen Partner Dependents MultipleLines  \n",
       "1634            No     Yes        Yes      not_used  \n",
       "6889            No      No         No            No  \n",
       "6630           Yes      No         No            No  \n",
       "4261            No      No         No            No  \n",
       "6785            No      No         No           Yes  "
      ]
     },
     "execution_count": 51,
     "metadata": {},
     "output_type": "execute_result"
    }
   ],
   "source": [
    "features_train.head()"
   ]
  },
  {
   "cell_type": "code",
   "execution_count": 53,
   "id": "dd43672c",
   "metadata": {},
   "outputs": [
    {
     "data": {
      "text/plain": [
       "Index(['Type', 'PaperlessBilling', 'PaymentMethod', 'InternetService',\n",
       "       'OnlineSecurity', 'OnlineBackup', 'DeviceProtection', 'TechSupport',\n",
       "       'StreamingTV', 'StreamingMovies', 'gender', 'SeniorCitizen', 'Partner',\n",
       "       'Dependents', 'MultipleLines'],\n",
       "      dtype='object')"
      ]
     },
     "execution_count": 53,
     "metadata": {},
     "output_type": "execute_result"
    }
   ],
   "source": [
    "categorical_columns = features_train.drop(['customerID', 'duration', 'MonthlyCharges'], axis=1).columns\n",
    "categorical_columns"
   ]
  },
  {
   "cell_type": "code",
   "execution_count": 54,
   "id": "c7352de7",
   "metadata": {},
   "outputs": [],
   "source": [
    "features_train[categorical_columns] = features_train[categorical_columns].astype('category')\n",
    "features_test[categorical_columns] = features_test[categorical_columns].astype('category')"
   ]
  },
  {
   "cell_type": "code",
   "execution_count": 55,
   "id": "0d2cb798",
   "metadata": {},
   "outputs": [],
   "source": [
    "features_train.set_index('customerID', inplace=True)\n",
    "features_test.set_index('customerID', inplace=True)"
   ]
  },
  {
   "cell_type": "markdown",
   "id": "71c91abf",
   "metadata": {},
   "source": [
    "## Обучение моделей"
   ]
  },
  {
   "cell_type": "code",
   "execution_count": 56,
   "id": "049693fb",
   "metadata": {},
   "outputs": [],
   "source": [
    "transformer = ColumnTransformer([\n",
    "    ('numbers', StandardScaler(), make_column_selector(dtype_include=np.number)),\n",
    "    ('category', OneHotEncoder(drop='first'), make_column_selector(dtype_include='category'))\n",
    "])"
   ]
  },
  {
   "cell_type": "markdown",
   "id": "18fabaff",
   "metadata": {},
   "source": [
    "##### RandomForestClassifier"
   ]
  },
  {
   "cell_type": "code",
   "execution_count": 118,
   "id": "e67c7b8e",
   "metadata": {},
   "outputs": [],
   "source": [
    "pipeline_rf = Pipeline([\n",
    "    ('transformer', transformer),\n",
    "    ('classifier', RandomForestClassifier(random_state=RANDOM_STATE, class_weight='balanced'))\n",
    "])"
   ]
  },
  {
   "cell_type": "code",
   "execution_count": 119,
   "id": "19ca44e7",
   "metadata": {},
   "outputs": [],
   "source": [
    "param_grid = {\n",
    "    'classifier__n_estimators': [20, 30, 50, 100],\n",
    "    'classifier__max_depth': [2, 4, 8, 12],\n",
    "    'classifier__min_samples_leaf': [2, 4, 8, 12]\n",
    "}"
   ]
  },
  {
   "cell_type": "code",
   "execution_count": 120,
   "id": "eb616d3f",
   "metadata": {},
   "outputs": [],
   "source": [
    "grid_search_rf = GridSearchCV(pipeline_rf, param_grid=param_grid, scoring='roc_auc', cv=5, verbose=3)"
   ]
  },
  {
   "cell_type": "code",
   "execution_count": 121,
   "id": "6bae0273",
   "metadata": {
    "scrolled": true
   },
   "outputs": [
    {
     "name": "stdout",
     "output_type": "stream",
     "text": [
      "Fitting 5 folds for each of 64 candidates, totalling 320 fits\n",
      "[CV 1/5] END classifier__max_depth=2, classifier__min_samples_leaf=2, classifier__n_estimators=20;, score=0.805 total time=   0.1s\n",
      "[CV 2/5] END classifier__max_depth=2, classifier__min_samples_leaf=2, classifier__n_estimators=20;, score=0.779 total time=   0.1s\n",
      "[CV 3/5] END classifier__max_depth=2, classifier__min_samples_leaf=2, classifier__n_estimators=20;, score=0.780 total time=   0.1s\n",
      "[CV 4/5] END classifier__max_depth=2, classifier__min_samples_leaf=2, classifier__n_estimators=20;, score=0.776 total time=   0.1s\n",
      "[CV 5/5] END classifier__max_depth=2, classifier__min_samples_leaf=2, classifier__n_estimators=20;, score=0.788 total time=   0.1s\n",
      "[CV 1/5] END classifier__max_depth=2, classifier__min_samples_leaf=2, classifier__n_estimators=30;, score=0.792 total time=   0.2s\n",
      "[CV 2/5] END classifier__max_depth=2, classifier__min_samples_leaf=2, classifier__n_estimators=30;, score=0.766 total time=   0.1s\n",
      "[CV 3/5] END classifier__max_depth=2, classifier__min_samples_leaf=2, classifier__n_estimators=30;, score=0.771 total time=   0.1s\n",
      "[CV 4/5] END classifier__max_depth=2, classifier__min_samples_leaf=2, classifier__n_estimators=30;, score=0.773 total time=   0.1s\n",
      "[CV 5/5] END classifier__max_depth=2, classifier__min_samples_leaf=2, classifier__n_estimators=30;, score=0.778 total time=   0.1s\n",
      "[CV 1/5] END classifier__max_depth=2, classifier__min_samples_leaf=2, classifier__n_estimators=50;, score=0.788 total time=   0.2s\n",
      "[CV 2/5] END classifier__max_depth=2, classifier__min_samples_leaf=2, classifier__n_estimators=50;, score=0.779 total time=   0.2s\n",
      "[CV 3/5] END classifier__max_depth=2, classifier__min_samples_leaf=2, classifier__n_estimators=50;, score=0.768 total time=   0.2s\n",
      "[CV 4/5] END classifier__max_depth=2, classifier__min_samples_leaf=2, classifier__n_estimators=50;, score=0.764 total time=   0.2s\n",
      "[CV 5/5] END classifier__max_depth=2, classifier__min_samples_leaf=2, classifier__n_estimators=50;, score=0.769 total time=   0.2s\n",
      "[CV 1/5] END classifier__max_depth=2, classifier__min_samples_leaf=2, classifier__n_estimators=100;, score=0.783 total time=   0.4s\n",
      "[CV 2/5] END classifier__max_depth=2, classifier__min_samples_leaf=2, classifier__n_estimators=100;, score=0.767 total time=   0.4s\n",
      "[CV 3/5] END classifier__max_depth=2, classifier__min_samples_leaf=2, classifier__n_estimators=100;, score=0.767 total time=   0.4s\n",
      "[CV 4/5] END classifier__max_depth=2, classifier__min_samples_leaf=2, classifier__n_estimators=100;, score=0.754 total time=   0.4s\n",
      "[CV 5/5] END classifier__max_depth=2, classifier__min_samples_leaf=2, classifier__n_estimators=100;, score=0.760 total time=   0.4s\n",
      "[CV 1/5] END classifier__max_depth=2, classifier__min_samples_leaf=4, classifier__n_estimators=20;, score=0.805 total time=   0.1s\n",
      "[CV 2/5] END classifier__max_depth=2, classifier__min_samples_leaf=4, classifier__n_estimators=20;, score=0.779 total time=   0.1s\n",
      "[CV 3/5] END classifier__max_depth=2, classifier__min_samples_leaf=4, classifier__n_estimators=20;, score=0.780 total time=   0.1s\n",
      "[CV 4/5] END classifier__max_depth=2, classifier__min_samples_leaf=4, classifier__n_estimators=20;, score=0.776 total time=   0.1s\n",
      "[CV 5/5] END classifier__max_depth=2, classifier__min_samples_leaf=4, classifier__n_estimators=20;, score=0.788 total time=   0.1s\n",
      "[CV 1/5] END classifier__max_depth=2, classifier__min_samples_leaf=4, classifier__n_estimators=30;, score=0.792 total time=   0.1s\n",
      "[CV 2/5] END classifier__max_depth=2, classifier__min_samples_leaf=4, classifier__n_estimators=30;, score=0.766 total time=   0.1s\n",
      "[CV 3/5] END classifier__max_depth=2, classifier__min_samples_leaf=4, classifier__n_estimators=30;, score=0.771 total time=   0.1s\n",
      "[CV 4/5] END classifier__max_depth=2, classifier__min_samples_leaf=4, classifier__n_estimators=30;, score=0.773 total time=   0.1s\n",
      "[CV 5/5] END classifier__max_depth=2, classifier__min_samples_leaf=4, classifier__n_estimators=30;, score=0.778 total time=   0.1s\n",
      "[CV 1/5] END classifier__max_depth=2, classifier__min_samples_leaf=4, classifier__n_estimators=50;, score=0.788 total time=   0.2s\n",
      "[CV 2/5] END classifier__max_depth=2, classifier__min_samples_leaf=4, classifier__n_estimators=50;, score=0.779 total time=   0.2s\n",
      "[CV 3/5] END classifier__max_depth=2, classifier__min_samples_leaf=4, classifier__n_estimators=50;, score=0.768 total time=   0.2s\n",
      "[CV 4/5] END classifier__max_depth=2, classifier__min_samples_leaf=4, classifier__n_estimators=50;, score=0.764 total time=   0.2s\n",
      "[CV 5/5] END classifier__max_depth=2, classifier__min_samples_leaf=4, classifier__n_estimators=50;, score=0.769 total time=   0.2s\n",
      "[CV 1/5] END classifier__max_depth=2, classifier__min_samples_leaf=4, classifier__n_estimators=100;, score=0.783 total time=   0.4s\n",
      "[CV 2/5] END classifier__max_depth=2, classifier__min_samples_leaf=4, classifier__n_estimators=100;, score=0.767 total time=   0.4s\n",
      "[CV 3/5] END classifier__max_depth=2, classifier__min_samples_leaf=4, classifier__n_estimators=100;, score=0.767 total time=   0.4s\n",
      "[CV 4/5] END classifier__max_depth=2, classifier__min_samples_leaf=4, classifier__n_estimators=100;, score=0.754 total time=   0.4s\n",
      "[CV 5/5] END classifier__max_depth=2, classifier__min_samples_leaf=4, classifier__n_estimators=100;, score=0.760 total time=   0.4s\n",
      "[CV 1/5] END classifier__max_depth=2, classifier__min_samples_leaf=8, classifier__n_estimators=20;, score=0.805 total time=   0.1s\n",
      "[CV 2/5] END classifier__max_depth=2, classifier__min_samples_leaf=8, classifier__n_estimators=20;, score=0.779 total time=   0.1s\n",
      "[CV 3/5] END classifier__max_depth=2, classifier__min_samples_leaf=8, classifier__n_estimators=20;, score=0.780 total time=   0.1s\n",
      "[CV 4/5] END classifier__max_depth=2, classifier__min_samples_leaf=8, classifier__n_estimators=20;, score=0.776 total time=   0.1s\n",
      "[CV 5/5] END classifier__max_depth=2, classifier__min_samples_leaf=8, classifier__n_estimators=20;, score=0.788 total time=   0.1s\n",
      "[CV 1/5] END classifier__max_depth=2, classifier__min_samples_leaf=8, classifier__n_estimators=30;, score=0.792 total time=   0.1s\n",
      "[CV 2/5] END classifier__max_depth=2, classifier__min_samples_leaf=8, classifier__n_estimators=30;, score=0.766 total time=   0.1s\n",
      "[CV 3/5] END classifier__max_depth=2, classifier__min_samples_leaf=8, classifier__n_estimators=30;, score=0.771 total time=   0.1s\n",
      "[CV 4/5] END classifier__max_depth=2, classifier__min_samples_leaf=8, classifier__n_estimators=30;, score=0.773 total time=   0.1s\n",
      "[CV 5/5] END classifier__max_depth=2, classifier__min_samples_leaf=8, classifier__n_estimators=30;, score=0.778 total time=   0.1s\n",
      "[CV 1/5] END classifier__max_depth=2, classifier__min_samples_leaf=8, classifier__n_estimators=50;, score=0.788 total time=   0.2s\n",
      "[CV 2/5] END classifier__max_depth=2, classifier__min_samples_leaf=8, classifier__n_estimators=50;, score=0.779 total time=   0.2s\n",
      "[CV 3/5] END classifier__max_depth=2, classifier__min_samples_leaf=8, classifier__n_estimators=50;, score=0.768 total time=   0.2s\n",
      "[CV 4/5] END classifier__max_depth=2, classifier__min_samples_leaf=8, classifier__n_estimators=50;, score=0.764 total time=   0.2s\n",
      "[CV 5/5] END classifier__max_depth=2, classifier__min_samples_leaf=8, classifier__n_estimators=50;, score=0.769 total time=   0.2s\n",
      "[CV 1/5] END classifier__max_depth=2, classifier__min_samples_leaf=8, classifier__n_estimators=100;, score=0.783 total time=   0.4s\n",
      "[CV 2/5] END classifier__max_depth=2, classifier__min_samples_leaf=8, classifier__n_estimators=100;, score=0.767 total time=   0.4s\n",
      "[CV 3/5] END classifier__max_depth=2, classifier__min_samples_leaf=8, classifier__n_estimators=100;, score=0.767 total time=   0.4s\n",
      "[CV 4/5] END classifier__max_depth=2, classifier__min_samples_leaf=8, classifier__n_estimators=100;, score=0.754 total time=   0.4s\n",
      "[CV 5/5] END classifier__max_depth=2, classifier__min_samples_leaf=8, classifier__n_estimators=100;, score=0.760 total time=   0.4s\n",
      "[CV 1/5] END classifier__max_depth=2, classifier__min_samples_leaf=12, classifier__n_estimators=20;, score=0.805 total time=   0.1s\n",
      "[CV 2/5] END classifier__max_depth=2, classifier__min_samples_leaf=12, classifier__n_estimators=20;, score=0.779 total time=   0.1s\n",
      "[CV 3/5] END classifier__max_depth=2, classifier__min_samples_leaf=12, classifier__n_estimators=20;, score=0.780 total time=   0.1s\n",
      "[CV 4/5] END classifier__max_depth=2, classifier__min_samples_leaf=12, classifier__n_estimators=20;, score=0.776 total time=   0.1s\n",
      "[CV 5/5] END classifier__max_depth=2, classifier__min_samples_leaf=12, classifier__n_estimators=20;, score=0.788 total time=   0.1s\n",
      "[CV 1/5] END classifier__max_depth=2, classifier__min_samples_leaf=12, classifier__n_estimators=30;, score=0.792 total time=   0.1s\n",
      "[CV 2/5] END classifier__max_depth=2, classifier__min_samples_leaf=12, classifier__n_estimators=30;, score=0.766 total time=   0.1s\n",
      "[CV 3/5] END classifier__max_depth=2, classifier__min_samples_leaf=12, classifier__n_estimators=30;, score=0.771 total time=   0.1s\n",
      "[CV 4/5] END classifier__max_depth=2, classifier__min_samples_leaf=12, classifier__n_estimators=30;, score=0.773 total time=   0.1s\n",
      "[CV 5/5] END classifier__max_depth=2, classifier__min_samples_leaf=12, classifier__n_estimators=30;, score=0.778 total time=   0.1s\n",
      "[CV 1/5] END classifier__max_depth=2, classifier__min_samples_leaf=12, classifier__n_estimators=50;, score=0.788 total time=   0.2s\n",
      "[CV 2/5] END classifier__max_depth=2, classifier__min_samples_leaf=12, classifier__n_estimators=50;, score=0.779 total time=   0.2s\n",
      "[CV 3/5] END classifier__max_depth=2, classifier__min_samples_leaf=12, classifier__n_estimators=50;, score=0.768 total time=   0.2s\n",
      "[CV 4/5] END classifier__max_depth=2, classifier__min_samples_leaf=12, classifier__n_estimators=50;, score=0.764 total time=   0.2s\n",
      "[CV 5/5] END classifier__max_depth=2, classifier__min_samples_leaf=12, classifier__n_estimators=50;, score=0.769 total time=   0.2s\n",
      "[CV 1/5] END classifier__max_depth=2, classifier__min_samples_leaf=12, classifier__n_estimators=100;, score=0.783 total time=   0.4s\n",
      "[CV 2/5] END classifier__max_depth=2, classifier__min_samples_leaf=12, classifier__n_estimators=100;, score=0.767 total time=   0.4s\n",
      "[CV 3/5] END classifier__max_depth=2, classifier__min_samples_leaf=12, classifier__n_estimators=100;, score=0.767 total time=   0.4s\n",
      "[CV 4/5] END classifier__max_depth=2, classifier__min_samples_leaf=12, classifier__n_estimators=100;, score=0.754 total time=   0.4s\n",
      "[CV 5/5] END classifier__max_depth=2, classifier__min_samples_leaf=12, classifier__n_estimators=100;, score=0.760 total time=   0.5s\n",
      "[CV 1/5] END classifier__max_depth=4, classifier__min_samples_leaf=2, classifier__n_estimators=20;, score=0.827 total time=   0.1s\n",
      "[CV 2/5] END classifier__max_depth=4, classifier__min_samples_leaf=2, classifier__n_estimators=20;, score=0.791 total time=   0.1s\n",
      "[CV 3/5] END classifier__max_depth=4, classifier__min_samples_leaf=2, classifier__n_estimators=20;, score=0.795 total time=   0.1s\n",
      "[CV 4/5] END classifier__max_depth=4, classifier__min_samples_leaf=2, classifier__n_estimators=20;, score=0.795 total time=   0.1s\n",
      "[CV 5/5] END classifier__max_depth=4, classifier__min_samples_leaf=2, classifier__n_estimators=20;, score=0.793 total time=   0.1s\n",
      "[CV 1/5] END classifier__max_depth=4, classifier__min_samples_leaf=2, classifier__n_estimators=30;, score=0.826 total time=   0.1s\n",
      "[CV 2/5] END classifier__max_depth=4, classifier__min_samples_leaf=2, classifier__n_estimators=30;, score=0.792 total time=   0.2s\n",
      "[CV 3/5] END classifier__max_depth=4, classifier__min_samples_leaf=2, classifier__n_estimators=30;, score=0.802 total time=   0.1s\n",
      "[CV 4/5] END classifier__max_depth=4, classifier__min_samples_leaf=2, classifier__n_estimators=30;, score=0.800 total time=   0.1s\n",
      "[CV 5/5] END classifier__max_depth=4, classifier__min_samples_leaf=2, classifier__n_estimators=30;, score=0.792 total time=   0.1s\n",
      "[CV 1/5] END classifier__max_depth=4, classifier__min_samples_leaf=2, classifier__n_estimators=50;, score=0.825 total time=   0.3s\n",
      "[CV 2/5] END classifier__max_depth=4, classifier__min_samples_leaf=2, classifier__n_estimators=50;, score=0.799 total time=   0.3s\n",
      "[CV 3/5] END classifier__max_depth=4, classifier__min_samples_leaf=2, classifier__n_estimators=50;, score=0.806 total time=   0.3s\n",
      "[CV 4/5] END classifier__max_depth=4, classifier__min_samples_leaf=2, classifier__n_estimators=50;, score=0.803 total time=   0.4s\n",
      "[CV 5/5] END classifier__max_depth=4, classifier__min_samples_leaf=2, classifier__n_estimators=50;, score=0.796 total time=   0.3s\n",
      "[CV 1/5] END classifier__max_depth=4, classifier__min_samples_leaf=2, classifier__n_estimators=100;, score=0.826 total time=   0.5s\n",
      "[CV 2/5] END classifier__max_depth=4, classifier__min_samples_leaf=2, classifier__n_estimators=100;, score=0.798 total time=   0.5s\n",
      "[CV 3/5] END classifier__max_depth=4, classifier__min_samples_leaf=2, classifier__n_estimators=100;, score=0.806 total time=   0.5s\n",
      "[CV 4/5] END classifier__max_depth=4, classifier__min_samples_leaf=2, classifier__n_estimators=100;, score=0.801 total time=   0.5s\n",
      "[CV 5/5] END classifier__max_depth=4, classifier__min_samples_leaf=2, classifier__n_estimators=100;, score=0.797 total time=   0.5s\n",
      "[CV 1/5] END classifier__max_depth=4, classifier__min_samples_leaf=4, classifier__n_estimators=20;, score=0.828 total time=   0.1s\n",
      "[CV 2/5] END classifier__max_depth=4, classifier__min_samples_leaf=4, classifier__n_estimators=20;, score=0.791 total time=   0.1s\n",
      "[CV 3/5] END classifier__max_depth=4, classifier__min_samples_leaf=4, classifier__n_estimators=20;, score=0.795 total time=   0.1s\n",
      "[CV 4/5] END classifier__max_depth=4, classifier__min_samples_leaf=4, classifier__n_estimators=20;, score=0.795 total time=   0.1s\n",
      "[CV 5/5] END classifier__max_depth=4, classifier__min_samples_leaf=4, classifier__n_estimators=20;, score=0.794 total time=   0.1s\n",
      "[CV 1/5] END classifier__max_depth=4, classifier__min_samples_leaf=4, classifier__n_estimators=30;, score=0.827 total time=   0.2s\n",
      "[CV 2/5] END classifier__max_depth=4, classifier__min_samples_leaf=4, classifier__n_estimators=30;, score=0.792 total time=   0.1s\n",
      "[CV 3/5] END classifier__max_depth=4, classifier__min_samples_leaf=4, classifier__n_estimators=30;, score=0.802 total time=   0.2s\n",
      "[CV 4/5] END classifier__max_depth=4, classifier__min_samples_leaf=4, classifier__n_estimators=30;, score=0.799 total time=   0.2s\n",
      "[CV 5/5] END classifier__max_depth=4, classifier__min_samples_leaf=4, classifier__n_estimators=30;, score=0.792 total time=   0.2s\n",
      "[CV 1/5] END classifier__max_depth=4, classifier__min_samples_leaf=4, classifier__n_estimators=50;, score=0.825 total time=   0.3s\n",
      "[CV 2/5] END classifier__max_depth=4, classifier__min_samples_leaf=4, classifier__n_estimators=50;, score=0.799 total time=   0.2s\n",
      "[CV 3/5] END classifier__max_depth=4, classifier__min_samples_leaf=4, classifier__n_estimators=50;, score=0.806 total time=   0.2s\n",
      "[CV 4/5] END classifier__max_depth=4, classifier__min_samples_leaf=4, classifier__n_estimators=50;, score=0.803 total time=   0.3s\n",
      "[CV 5/5] END classifier__max_depth=4, classifier__min_samples_leaf=4, classifier__n_estimators=50;, score=0.796 total time=   0.2s\n",
      "[CV 1/5] END classifier__max_depth=4, classifier__min_samples_leaf=4, classifier__n_estimators=100;, score=0.827 total time=   0.5s\n",
      "[CV 2/5] END classifier__max_depth=4, classifier__min_samples_leaf=4, classifier__n_estimators=100;, score=0.799 total time=   0.5s\n",
      "[CV 3/5] END classifier__max_depth=4, classifier__min_samples_leaf=4, classifier__n_estimators=100;, score=0.806 total time=   0.5s\n",
      "[CV 4/5] END classifier__max_depth=4, classifier__min_samples_leaf=4, classifier__n_estimators=100;, score=0.801 total time=   0.5s\n",
      "[CV 5/5] END classifier__max_depth=4, classifier__min_samples_leaf=4, classifier__n_estimators=100;, score=0.798 total time=   0.5s\n",
      "[CV 1/5] END classifier__max_depth=4, classifier__min_samples_leaf=8, classifier__n_estimators=20;, score=0.829 total time=   0.1s\n",
      "[CV 2/5] END classifier__max_depth=4, classifier__min_samples_leaf=8, classifier__n_estimators=20;, score=0.791 total time=   0.1s\n",
      "[CV 3/5] END classifier__max_depth=4, classifier__min_samples_leaf=8, classifier__n_estimators=20;, score=0.794 total time=   0.1s\n",
      "[CV 4/5] END classifier__max_depth=4, classifier__min_samples_leaf=8, classifier__n_estimators=20;, score=0.794 total time=   0.1s\n",
      "[CV 5/5] END classifier__max_depth=4, classifier__min_samples_leaf=8, classifier__n_estimators=20;, score=0.793 total time=   0.1s\n",
      "[CV 1/5] END classifier__max_depth=4, classifier__min_samples_leaf=8, classifier__n_estimators=30;, score=0.828 total time=   0.1s\n",
      "[CV 2/5] END classifier__max_depth=4, classifier__min_samples_leaf=8, classifier__n_estimators=30;, score=0.792 total time=   0.1s\n",
      "[CV 3/5] END classifier__max_depth=4, classifier__min_samples_leaf=8, classifier__n_estimators=30;, score=0.802 total time=   0.1s\n",
      "[CV 4/5] END classifier__max_depth=4, classifier__min_samples_leaf=8, classifier__n_estimators=30;, score=0.799 total time=   0.1s\n",
      "[CV 5/5] END classifier__max_depth=4, classifier__min_samples_leaf=8, classifier__n_estimators=30;, score=0.793 total time=   0.1s\n",
      "[CV 1/5] END classifier__max_depth=4, classifier__min_samples_leaf=8, classifier__n_estimators=50;, score=0.827 total time=   0.2s\n",
      "[CV 2/5] END classifier__max_depth=4, classifier__min_samples_leaf=8, classifier__n_estimators=50;, score=0.800 total time=   0.2s\n",
      "[CV 3/5] END classifier__max_depth=4, classifier__min_samples_leaf=8, classifier__n_estimators=50;, score=0.805 total time=   0.3s\n",
      "[CV 4/5] END classifier__max_depth=4, classifier__min_samples_leaf=8, classifier__n_estimators=50;, score=0.803 total time=   0.2s\n",
      "[CV 5/5] END classifier__max_depth=4, classifier__min_samples_leaf=8, classifier__n_estimators=50;, score=0.796 total time=   0.2s\n",
      "[CV 1/5] END classifier__max_depth=4, classifier__min_samples_leaf=8, classifier__n_estimators=100;, score=0.828 total time=   0.5s\n",
      "[CV 2/5] END classifier__max_depth=4, classifier__min_samples_leaf=8, classifier__n_estimators=100;, score=0.799 total time=   0.5s\n",
      "[CV 3/5] END classifier__max_depth=4, classifier__min_samples_leaf=8, classifier__n_estimators=100;, score=0.805 total time=   0.7s\n",
      "[CV 4/5] END classifier__max_depth=4, classifier__min_samples_leaf=8, classifier__n_estimators=100;, score=0.801 total time=   0.5s\n",
      "[CV 5/5] END classifier__max_depth=4, classifier__min_samples_leaf=8, classifier__n_estimators=100;, score=0.799 total time=   0.5s\n",
      "[CV 1/5] END classifier__max_depth=4, classifier__min_samples_leaf=12, classifier__n_estimators=20;, score=0.829 total time=   0.1s\n",
      "[CV 2/5] END classifier__max_depth=4, classifier__min_samples_leaf=12, classifier__n_estimators=20;, score=0.791 total time=   0.1s\n",
      "[CV 3/5] END classifier__max_depth=4, classifier__min_samples_leaf=12, classifier__n_estimators=20;, score=0.790 total time=   0.1s\n",
      "[CV 4/5] END classifier__max_depth=4, classifier__min_samples_leaf=12, classifier__n_estimators=20;, score=0.794 total time=   0.1s\n",
      "[CV 5/5] END classifier__max_depth=4, classifier__min_samples_leaf=12, classifier__n_estimators=20;, score=0.793 total time=   0.1s\n",
      "[CV 1/5] END classifier__max_depth=4, classifier__min_samples_leaf=12, classifier__n_estimators=30;, score=0.827 total time=   0.1s\n",
      "[CV 2/5] END classifier__max_depth=4, classifier__min_samples_leaf=12, classifier__n_estimators=30;, score=0.793 total time=   0.2s\n",
      "[CV 3/5] END classifier__max_depth=4, classifier__min_samples_leaf=12, classifier__n_estimators=30;, score=0.799 total time=   0.1s\n",
      "[CV 4/5] END classifier__max_depth=4, classifier__min_samples_leaf=12, classifier__n_estimators=30;, score=0.798 total time=   0.1s\n",
      "[CV 5/5] END classifier__max_depth=4, classifier__min_samples_leaf=12, classifier__n_estimators=30;, score=0.793 total time=   0.1s\n",
      "[CV 1/5] END classifier__max_depth=4, classifier__min_samples_leaf=12, classifier__n_estimators=50;, score=0.826 total time=   0.3s\n",
      "[CV 2/5] END classifier__max_depth=4, classifier__min_samples_leaf=12, classifier__n_estimators=50;, score=0.801 total time=   0.2s\n",
      "[CV 3/5] END classifier__max_depth=4, classifier__min_samples_leaf=12, classifier__n_estimators=50;, score=0.804 total time=   0.2s\n",
      "[CV 4/5] END classifier__max_depth=4, classifier__min_samples_leaf=12, classifier__n_estimators=50;, score=0.803 total time=   0.2s\n",
      "[CV 5/5] END classifier__max_depth=4, classifier__min_samples_leaf=12, classifier__n_estimators=50;, score=0.796 total time=   0.2s\n",
      "[CV 1/5] END classifier__max_depth=4, classifier__min_samples_leaf=12, classifier__n_estimators=100;, score=0.827 total time=   0.5s\n",
      "[CV 2/5] END classifier__max_depth=4, classifier__min_samples_leaf=12, classifier__n_estimators=100;, score=0.801 total time=   0.5s\n",
      "[CV 3/5] END classifier__max_depth=4, classifier__min_samples_leaf=12, classifier__n_estimators=100;, score=0.804 total time=   0.5s\n",
      "[CV 4/5] END classifier__max_depth=4, classifier__min_samples_leaf=12, classifier__n_estimators=100;, score=0.801 total time=   0.5s\n",
      "[CV 5/5] END classifier__max_depth=4, classifier__min_samples_leaf=12, classifier__n_estimators=100;, score=0.799 total time=   0.5s\n",
      "[CV 1/5] END classifier__max_depth=8, classifier__min_samples_leaf=2, classifier__n_estimators=20;, score=0.831 total time=   0.1s\n",
      "[CV 2/5] END classifier__max_depth=8, classifier__min_samples_leaf=2, classifier__n_estimators=20;, score=0.794 total time=   0.1s\n",
      "[CV 3/5] END classifier__max_depth=8, classifier__min_samples_leaf=2, classifier__n_estimators=20;, score=0.804 total time=   0.1s\n",
      "[CV 4/5] END classifier__max_depth=8, classifier__min_samples_leaf=2, classifier__n_estimators=20;, score=0.797 total time=   0.1s\n",
      "[CV 5/5] END classifier__max_depth=8, classifier__min_samples_leaf=2, classifier__n_estimators=20;, score=0.805 total time=   0.1s\n",
      "[CV 1/5] END classifier__max_depth=8, classifier__min_samples_leaf=2, classifier__n_estimators=30;, score=0.835 total time=   0.2s\n",
      "[CV 2/5] END classifier__max_depth=8, classifier__min_samples_leaf=2, classifier__n_estimators=30;, score=0.802 total time=   0.2s\n",
      "[CV 3/5] END classifier__max_depth=8, classifier__min_samples_leaf=2, classifier__n_estimators=30;, score=0.810 total time=   0.2s\n",
      "[CV 4/5] END classifier__max_depth=8, classifier__min_samples_leaf=2, classifier__n_estimators=30;, score=0.807 total time=   0.2s\n",
      "[CV 5/5] END classifier__max_depth=8, classifier__min_samples_leaf=2, classifier__n_estimators=30;, score=0.811 total time=   0.2s\n",
      "[CV 1/5] END classifier__max_depth=8, classifier__min_samples_leaf=2, classifier__n_estimators=50;, score=0.832 total time=   0.3s\n",
      "[CV 2/5] END classifier__max_depth=8, classifier__min_samples_leaf=2, classifier__n_estimators=50;, score=0.807 total time=   0.4s\n",
      "[CV 3/5] END classifier__max_depth=8, classifier__min_samples_leaf=2, classifier__n_estimators=50;, score=0.814 total time=   0.3s\n",
      "[CV 4/5] END classifier__max_depth=8, classifier__min_samples_leaf=2, classifier__n_estimators=50;, score=0.814 total time=   0.3s\n",
      "[CV 5/5] END classifier__max_depth=8, classifier__min_samples_leaf=2, classifier__n_estimators=50;, score=0.814 total time=   0.3s\n",
      "[CV 1/5] END classifier__max_depth=8, classifier__min_samples_leaf=2, classifier__n_estimators=100;, score=0.833 total time=   0.7s\n",
      "[CV 2/5] END classifier__max_depth=8, classifier__min_samples_leaf=2, classifier__n_estimators=100;, score=0.806 total time=   0.6s\n",
      "[CV 3/5] END classifier__max_depth=8, classifier__min_samples_leaf=2, classifier__n_estimators=100;, score=0.819 total time=   0.7s\n",
      "[CV 4/5] END classifier__max_depth=8, classifier__min_samples_leaf=2, classifier__n_estimators=100;, score=0.813 total time=   0.7s\n",
      "[CV 5/5] END classifier__max_depth=8, classifier__min_samples_leaf=2, classifier__n_estimators=100;, score=0.815 total time=   0.6s\n",
      "[CV 1/5] END classifier__max_depth=8, classifier__min_samples_leaf=4, classifier__n_estimators=20;, score=0.816 total time=   0.1s\n",
      "[CV 2/5] END classifier__max_depth=8, classifier__min_samples_leaf=4, classifier__n_estimators=20;, score=0.802 total time=   0.1s\n",
      "[CV 3/5] END classifier__max_depth=8, classifier__min_samples_leaf=4, classifier__n_estimators=20;, score=0.817 total time=   0.1s\n",
      "[CV 4/5] END classifier__max_depth=8, classifier__min_samples_leaf=4, classifier__n_estimators=20;, score=0.792 total time=   0.1s\n",
      "[CV 5/5] END classifier__max_depth=8, classifier__min_samples_leaf=4, classifier__n_estimators=20;, score=0.799 total time=   0.1s\n",
      "[CV 1/5] END classifier__max_depth=8, classifier__min_samples_leaf=4, classifier__n_estimators=30;, score=0.826 total time=   0.2s\n",
      "[CV 2/5] END classifier__max_depth=8, classifier__min_samples_leaf=4, classifier__n_estimators=30;, score=0.815 total time=   0.2s\n",
      "[CV 3/5] END classifier__max_depth=8, classifier__min_samples_leaf=4, classifier__n_estimators=30;, score=0.824 total time=   0.2s\n",
      "[CV 4/5] END classifier__max_depth=8, classifier__min_samples_leaf=4, classifier__n_estimators=30;, score=0.798 total time=   0.2s\n",
      "[CV 5/5] END classifier__max_depth=8, classifier__min_samples_leaf=4, classifier__n_estimators=30;, score=0.807 total time=   0.2s\n",
      "[CV 1/5] END classifier__max_depth=8, classifier__min_samples_leaf=4, classifier__n_estimators=50;, score=0.828 total time=   0.3s\n",
      "[CV 2/5] END classifier__max_depth=8, classifier__min_samples_leaf=4, classifier__n_estimators=50;, score=0.817 total time=   0.3s\n",
      "[CV 3/5] END classifier__max_depth=8, classifier__min_samples_leaf=4, classifier__n_estimators=50;, score=0.821 total time=   0.3s\n",
      "[CV 4/5] END classifier__max_depth=8, classifier__min_samples_leaf=4, classifier__n_estimators=50;, score=0.804 total time=   0.3s\n",
      "[CV 5/5] END classifier__max_depth=8, classifier__min_samples_leaf=4, classifier__n_estimators=50;, score=0.809 total time=   0.3s\n",
      "[CV 1/5] END classifier__max_depth=8, classifier__min_samples_leaf=4, classifier__n_estimators=100;, score=0.833 total time=   0.6s\n",
      "[CV 2/5] END classifier__max_depth=8, classifier__min_samples_leaf=4, classifier__n_estimators=100;, score=0.816 total time=   0.6s\n",
      "[CV 3/5] END classifier__max_depth=8, classifier__min_samples_leaf=4, classifier__n_estimators=100;, score=0.823 total time=   0.7s\n",
      "[CV 4/5] END classifier__max_depth=8, classifier__min_samples_leaf=4, classifier__n_estimators=100;, score=0.808 total time=   0.7s\n",
      "[CV 5/5] END classifier__max_depth=8, classifier__min_samples_leaf=4, classifier__n_estimators=100;, score=0.811 total time=   0.7s\n",
      "[CV 1/5] END classifier__max_depth=8, classifier__min_samples_leaf=8, classifier__n_estimators=20;, score=0.820 total time=   0.1s\n",
      "[CV 2/5] END classifier__max_depth=8, classifier__min_samples_leaf=8, classifier__n_estimators=20;, score=0.801 total time=   0.1s\n",
      "[CV 3/5] END classifier__max_depth=8, classifier__min_samples_leaf=8, classifier__n_estimators=20;, score=0.807 total time=   0.1s\n",
      "[CV 4/5] END classifier__max_depth=8, classifier__min_samples_leaf=8, classifier__n_estimators=20;, score=0.802 total time=   0.1s\n",
      "[CV 5/5] END classifier__max_depth=8, classifier__min_samples_leaf=8, classifier__n_estimators=20;, score=0.808 total time=   0.1s\n",
      "[CV 1/5] END classifier__max_depth=8, classifier__min_samples_leaf=8, classifier__n_estimators=30;, score=0.828 total time=   0.2s\n",
      "[CV 2/5] END classifier__max_depth=8, classifier__min_samples_leaf=8, classifier__n_estimators=30;, score=0.802 total time=   0.2s\n",
      "[CV 3/5] END classifier__max_depth=8, classifier__min_samples_leaf=8, classifier__n_estimators=30;, score=0.810 total time=   0.2s\n",
      "[CV 4/5] END classifier__max_depth=8, classifier__min_samples_leaf=8, classifier__n_estimators=30;, score=0.810 total time=   0.2s\n",
      "[CV 5/5] END classifier__max_depth=8, classifier__min_samples_leaf=8, classifier__n_estimators=30;, score=0.807 total time=   0.2s\n",
      "[CV 1/5] END classifier__max_depth=8, classifier__min_samples_leaf=8, classifier__n_estimators=50;, score=0.829 total time=   0.3s\n",
      "[CV 2/5] END classifier__max_depth=8, classifier__min_samples_leaf=8, classifier__n_estimators=50;, score=0.807 total time=   0.3s\n",
      "[CV 3/5] END classifier__max_depth=8, classifier__min_samples_leaf=8, classifier__n_estimators=50;, score=0.816 total time=   0.3s\n",
      "[CV 4/5] END classifier__max_depth=8, classifier__min_samples_leaf=8, classifier__n_estimators=50;, score=0.810 total time=   0.3s\n",
      "[CV 5/5] END classifier__max_depth=8, classifier__min_samples_leaf=8, classifier__n_estimators=50;, score=0.809 total time=   0.3s\n",
      "[CV 1/5] END classifier__max_depth=8, classifier__min_samples_leaf=8, classifier__n_estimators=100;, score=0.833 total time=   0.6s\n",
      "[CV 2/5] END classifier__max_depth=8, classifier__min_samples_leaf=8, classifier__n_estimators=100;, score=0.809 total time=   0.6s\n",
      "[CV 3/5] END classifier__max_depth=8, classifier__min_samples_leaf=8, classifier__n_estimators=100;, score=0.818 total time=   0.6s\n",
      "[CV 4/5] END classifier__max_depth=8, classifier__min_samples_leaf=8, classifier__n_estimators=100;, score=0.813 total time=   0.7s\n",
      "[CV 5/5] END classifier__max_depth=8, classifier__min_samples_leaf=8, classifier__n_estimators=100;, score=0.809 total time=   0.6s\n",
      "[CV 1/5] END classifier__max_depth=8, classifier__min_samples_leaf=12, classifier__n_estimators=20;, score=0.830 total time=   0.1s\n",
      "[CV 2/5] END classifier__max_depth=8, classifier__min_samples_leaf=12, classifier__n_estimators=20;, score=0.799 total time=   0.1s\n",
      "[CV 3/5] END classifier__max_depth=8, classifier__min_samples_leaf=12, classifier__n_estimators=20;, score=0.813 total time=   0.1s\n",
      "[CV 4/5] END classifier__max_depth=8, classifier__min_samples_leaf=12, classifier__n_estimators=20;, score=0.803 total time=   0.1s\n",
      "[CV 5/5] END classifier__max_depth=8, classifier__min_samples_leaf=12, classifier__n_estimators=20;, score=0.801 total time=   0.1s\n",
      "[CV 1/5] END classifier__max_depth=8, classifier__min_samples_leaf=12, classifier__n_estimators=30;, score=0.835 total time=   0.2s\n",
      "[CV 2/5] END classifier__max_depth=8, classifier__min_samples_leaf=12, classifier__n_estimators=30;, score=0.806 total time=   0.2s\n",
      "[CV 3/5] END classifier__max_depth=8, classifier__min_samples_leaf=12, classifier__n_estimators=30;, score=0.817 total time=   0.2s\n",
      "[CV 4/5] END classifier__max_depth=8, classifier__min_samples_leaf=12, classifier__n_estimators=30;, score=0.814 total time=   0.2s\n",
      "[CV 5/5] END classifier__max_depth=8, classifier__min_samples_leaf=12, classifier__n_estimators=30;, score=0.803 total time=   0.2s\n",
      "[CV 1/5] END classifier__max_depth=8, classifier__min_samples_leaf=12, classifier__n_estimators=50;, score=0.836 total time=   0.3s\n",
      "[CV 2/5] END classifier__max_depth=8, classifier__min_samples_leaf=12, classifier__n_estimators=50;, score=0.807 total time=   0.3s\n",
      "[CV 3/5] END classifier__max_depth=8, classifier__min_samples_leaf=12, classifier__n_estimators=50;, score=0.814 total time=   0.3s\n",
      "[CV 4/5] END classifier__max_depth=8, classifier__min_samples_leaf=12, classifier__n_estimators=50;, score=0.813 total time=   0.3s\n",
      "[CV 5/5] END classifier__max_depth=8, classifier__min_samples_leaf=12, classifier__n_estimators=50;, score=0.805 total time=   0.3s\n",
      "[CV 1/5] END classifier__max_depth=8, classifier__min_samples_leaf=12, classifier__n_estimators=100;, score=0.837 total time=   0.6s\n",
      "[CV 2/5] END classifier__max_depth=8, classifier__min_samples_leaf=12, classifier__n_estimators=100;, score=0.810 total time=   0.6s\n",
      "[CV 3/5] END classifier__max_depth=8, classifier__min_samples_leaf=12, classifier__n_estimators=100;, score=0.820 total time=   0.6s\n",
      "[CV 4/5] END classifier__max_depth=8, classifier__min_samples_leaf=12, classifier__n_estimators=100;, score=0.815 total time=   0.6s\n",
      "[CV 5/5] END classifier__max_depth=8, classifier__min_samples_leaf=12, classifier__n_estimators=100;, score=0.809 total time=   0.6s\n",
      "[CV 1/5] END classifier__max_depth=12, classifier__min_samples_leaf=2, classifier__n_estimators=20;, score=0.814 total time=   0.1s\n",
      "[CV 2/5] END classifier__max_depth=12, classifier__min_samples_leaf=2, classifier__n_estimators=20;, score=0.791 total time=   0.1s\n",
      "[CV 3/5] END classifier__max_depth=12, classifier__min_samples_leaf=2, classifier__n_estimators=20;, score=0.798 total time=   0.2s\n",
      "[CV 4/5] END classifier__max_depth=12, classifier__min_samples_leaf=2, classifier__n_estimators=20;, score=0.797 total time=   0.2s\n",
      "[CV 5/5] END classifier__max_depth=12, classifier__min_samples_leaf=2, classifier__n_estimators=20;, score=0.786 total time=   0.2s\n",
      "[CV 1/5] END classifier__max_depth=12, classifier__min_samples_leaf=2, classifier__n_estimators=30;, score=0.818 total time=   0.2s\n",
      "[CV 2/5] END classifier__max_depth=12, classifier__min_samples_leaf=2, classifier__n_estimators=30;, score=0.797 total time=   0.2s\n",
      "[CV 3/5] END classifier__max_depth=12, classifier__min_samples_leaf=2, classifier__n_estimators=30;, score=0.805 total time=   0.3s\n",
      "[CV 4/5] END classifier__max_depth=12, classifier__min_samples_leaf=2, classifier__n_estimators=30;, score=0.801 total time=   0.2s\n",
      "[CV 5/5] END classifier__max_depth=12, classifier__min_samples_leaf=2, classifier__n_estimators=30;, score=0.794 total time=   0.3s\n",
      "[CV 1/5] END classifier__max_depth=12, classifier__min_samples_leaf=2, classifier__n_estimators=50;, score=0.818 total time=   0.4s\n",
      "[CV 2/5] END classifier__max_depth=12, classifier__min_samples_leaf=2, classifier__n_estimators=50;, score=0.801 total time=   0.4s\n",
      "[CV 3/5] END classifier__max_depth=12, classifier__min_samples_leaf=2, classifier__n_estimators=50;, score=0.812 total time=   0.4s\n",
      "[CV 4/5] END classifier__max_depth=12, classifier__min_samples_leaf=2, classifier__n_estimators=50;, score=0.806 total time=   0.4s\n",
      "[CV 5/5] END classifier__max_depth=12, classifier__min_samples_leaf=2, classifier__n_estimators=50;, score=0.805 total time=   0.4s\n",
      "[CV 1/5] END classifier__max_depth=12, classifier__min_samples_leaf=2, classifier__n_estimators=100;, score=0.824 total time=   0.8s\n",
      "[CV 2/5] END classifier__max_depth=12, classifier__min_samples_leaf=2, classifier__n_estimators=100;, score=0.804 total time=   0.8s\n",
      "[CV 3/5] END classifier__max_depth=12, classifier__min_samples_leaf=2, classifier__n_estimators=100;, score=0.816 total time=   0.8s\n",
      "[CV 4/5] END classifier__max_depth=12, classifier__min_samples_leaf=2, classifier__n_estimators=100;, score=0.805 total time=   0.8s\n",
      "[CV 5/5] END classifier__max_depth=12, classifier__min_samples_leaf=2, classifier__n_estimators=100;, score=0.806 total time=   0.8s\n",
      "[CV 1/5] END classifier__max_depth=12, classifier__min_samples_leaf=4, classifier__n_estimators=20;, score=0.825 total time=   0.1s\n",
      "[CV 2/5] END classifier__max_depth=12, classifier__min_samples_leaf=4, classifier__n_estimators=20;, score=0.801 total time=   0.2s\n",
      "[CV 3/5] END classifier__max_depth=12, classifier__min_samples_leaf=4, classifier__n_estimators=20;, score=0.809 total time=   0.1s\n",
      "[CV 4/5] END classifier__max_depth=12, classifier__min_samples_leaf=4, classifier__n_estimators=20;, score=0.799 total time=   0.1s\n",
      "[CV 5/5] END classifier__max_depth=12, classifier__min_samples_leaf=4, classifier__n_estimators=20;, score=0.808 total time=   0.1s\n",
      "[CV 1/5] END classifier__max_depth=12, classifier__min_samples_leaf=4, classifier__n_estimators=30;, score=0.831 total time=   0.3s\n",
      "[CV 2/5] END classifier__max_depth=12, classifier__min_samples_leaf=4, classifier__n_estimators=30;, score=0.802 total time=   0.2s\n",
      "[CV 3/5] END classifier__max_depth=12, classifier__min_samples_leaf=4, classifier__n_estimators=30;, score=0.813 total time=   0.2s\n",
      "[CV 4/5] END classifier__max_depth=12, classifier__min_samples_leaf=4, classifier__n_estimators=30;, score=0.804 total time=   0.2s\n",
      "[CV 5/5] END classifier__max_depth=12, classifier__min_samples_leaf=4, classifier__n_estimators=30;, score=0.814 total time=   0.2s\n",
      "[CV 1/5] END classifier__max_depth=12, classifier__min_samples_leaf=4, classifier__n_estimators=50;, score=0.832 total time=   0.4s\n",
      "[CV 2/5] END classifier__max_depth=12, classifier__min_samples_leaf=4, classifier__n_estimators=50;, score=0.802 total time=   0.4s\n",
      "[CV 3/5] END classifier__max_depth=12, classifier__min_samples_leaf=4, classifier__n_estimators=50;, score=0.811 total time=   0.4s\n",
      "[CV 4/5] END classifier__max_depth=12, classifier__min_samples_leaf=4, classifier__n_estimators=50;, score=0.811 total time=   0.4s\n",
      "[CV 5/5] END classifier__max_depth=12, classifier__min_samples_leaf=4, classifier__n_estimators=50;, score=0.812 total time=   0.4s\n",
      "[CV 1/5] END classifier__max_depth=12, classifier__min_samples_leaf=4, classifier__n_estimators=100;, score=0.834 total time=   0.7s\n",
      "[CV 2/5] END classifier__max_depth=12, classifier__min_samples_leaf=4, classifier__n_estimators=100;, score=0.804 total time=   0.7s\n",
      "[CV 3/5] END classifier__max_depth=12, classifier__min_samples_leaf=4, classifier__n_estimators=100;, score=0.817 total time=   0.7s\n",
      "[CV 4/5] END classifier__max_depth=12, classifier__min_samples_leaf=4, classifier__n_estimators=100;, score=0.811 total time=   0.7s\n",
      "[CV 5/5] END classifier__max_depth=12, classifier__min_samples_leaf=4, classifier__n_estimators=100;, score=0.812 total time=   0.7s\n",
      "[CV 1/5] END classifier__max_depth=12, classifier__min_samples_leaf=8, classifier__n_estimators=20;, score=0.832 total time=   0.1s\n",
      "[CV 2/5] END classifier__max_depth=12, classifier__min_samples_leaf=8, classifier__n_estimators=20;, score=0.796 total time=   0.1s\n",
      "[CV 3/5] END classifier__max_depth=12, classifier__min_samples_leaf=8, classifier__n_estimators=20;, score=0.806 total time=   0.1s\n",
      "[CV 4/5] END classifier__max_depth=12, classifier__min_samples_leaf=8, classifier__n_estimators=20;, score=0.800 total time=   0.1s\n",
      "[CV 5/5] END classifier__max_depth=12, classifier__min_samples_leaf=8, classifier__n_estimators=20;, score=0.806 total time=   0.2s\n",
      "[CV 1/5] END classifier__max_depth=12, classifier__min_samples_leaf=8, classifier__n_estimators=30;, score=0.836 total time=   0.2s\n",
      "[CV 2/5] END classifier__max_depth=12, classifier__min_samples_leaf=8, classifier__n_estimators=30;, score=0.802 total time=   0.2s\n",
      "[CV 3/5] END classifier__max_depth=12, classifier__min_samples_leaf=8, classifier__n_estimators=30;, score=0.814 total time=   0.2s\n",
      "[CV 4/5] END classifier__max_depth=12, classifier__min_samples_leaf=8, classifier__n_estimators=30;, score=0.807 total time=   0.2s\n",
      "[CV 5/5] END classifier__max_depth=12, classifier__min_samples_leaf=8, classifier__n_estimators=30;, score=0.809 total time=   0.2s\n",
      "[CV 1/5] END classifier__max_depth=12, classifier__min_samples_leaf=8, classifier__n_estimators=50;, score=0.836 total time=   0.3s\n",
      "[CV 2/5] END classifier__max_depth=12, classifier__min_samples_leaf=8, classifier__n_estimators=50;, score=0.807 total time=   0.3s\n",
      "[CV 3/5] END classifier__max_depth=12, classifier__min_samples_leaf=8, classifier__n_estimators=50;, score=0.817 total time=   0.3s\n",
      "[CV 4/5] END classifier__max_depth=12, classifier__min_samples_leaf=8, classifier__n_estimators=50;, score=0.810 total time=   0.3s\n",
      "[CV 5/5] END classifier__max_depth=12, classifier__min_samples_leaf=8, classifier__n_estimators=50;, score=0.811 total time=   0.3s\n",
      "[CV 1/5] END classifier__max_depth=12, classifier__min_samples_leaf=8, classifier__n_estimators=100;, score=0.836 total time=   0.7s\n",
      "[CV 2/5] END classifier__max_depth=12, classifier__min_samples_leaf=8, classifier__n_estimators=100;, score=0.808 total time=   0.7s\n",
      "[CV 3/5] END classifier__max_depth=12, classifier__min_samples_leaf=8, classifier__n_estimators=100;, score=0.821 total time=   0.7s\n",
      "[CV 4/5] END classifier__max_depth=12, classifier__min_samples_leaf=8, classifier__n_estimators=100;, score=0.810 total time=   0.7s\n",
      "[CV 5/5] END classifier__max_depth=12, classifier__min_samples_leaf=8, classifier__n_estimators=100;, score=0.810 total time=   0.7s\n",
      "[CV 1/5] END classifier__max_depth=12, classifier__min_samples_leaf=12, classifier__n_estimators=20;, score=0.835 total time=   0.1s\n",
      "[CV 2/5] END classifier__max_depth=12, classifier__min_samples_leaf=12, classifier__n_estimators=20;, score=0.796 total time=   0.1s\n",
      "[CV 3/5] END classifier__max_depth=12, classifier__min_samples_leaf=12, classifier__n_estimators=20;, score=0.819 total time=   0.1s\n",
      "[CV 4/5] END classifier__max_depth=12, classifier__min_samples_leaf=12, classifier__n_estimators=20;, score=0.796 total time=   0.1s\n",
      "[CV 5/5] END classifier__max_depth=12, classifier__min_samples_leaf=12, classifier__n_estimators=20;, score=0.802 total time=   0.1s\n",
      "[CV 1/5] END classifier__max_depth=12, classifier__min_samples_leaf=12, classifier__n_estimators=30;, score=0.837 total time=   0.2s\n",
      "[CV 2/5] END classifier__max_depth=12, classifier__min_samples_leaf=12, classifier__n_estimators=30;, score=0.800 total time=   0.2s\n",
      "[CV 3/5] END classifier__max_depth=12, classifier__min_samples_leaf=12, classifier__n_estimators=30;, score=0.821 total time=   0.2s\n",
      "[CV 4/5] END classifier__max_depth=12, classifier__min_samples_leaf=12, classifier__n_estimators=30;, score=0.804 total time=   0.2s\n",
      "[CV 5/5] END classifier__max_depth=12, classifier__min_samples_leaf=12, classifier__n_estimators=30;, score=0.805 total time=   0.2s\n",
      "[CV 1/5] END classifier__max_depth=12, classifier__min_samples_leaf=12, classifier__n_estimators=50;, score=0.834 total time=   0.3s\n",
      "[CV 2/5] END classifier__max_depth=12, classifier__min_samples_leaf=12, classifier__n_estimators=50;, score=0.801 total time=   0.4s\n",
      "[CV 3/5] END classifier__max_depth=12, classifier__min_samples_leaf=12, classifier__n_estimators=50;, score=0.819 total time=   0.3s\n",
      "[CV 4/5] END classifier__max_depth=12, classifier__min_samples_leaf=12, classifier__n_estimators=50;, score=0.808 total time=   0.4s\n",
      "[CV 5/5] END classifier__max_depth=12, classifier__min_samples_leaf=12, classifier__n_estimators=50;, score=0.807 total time=   0.3s\n",
      "[CV 1/5] END classifier__max_depth=12, classifier__min_samples_leaf=12, classifier__n_estimators=100;, score=0.835 total time=   0.7s\n",
      "[CV 2/5] END classifier__max_depth=12, classifier__min_samples_leaf=12, classifier__n_estimators=100;, score=0.807 total time=   0.7s\n",
      "[CV 3/5] END classifier__max_depth=12, classifier__min_samples_leaf=12, classifier__n_estimators=100;, score=0.821 total time=   0.7s\n",
      "[CV 4/5] END classifier__max_depth=12, classifier__min_samples_leaf=12, classifier__n_estimators=100;, score=0.808 total time=   0.7s\n",
      "[CV 5/5] END classifier__max_depth=12, classifier__min_samples_leaf=12, classifier__n_estimators=100;, score=0.807 total time=   0.7s\n"
     ]
    },
    {
     "data": {
      "text/plain": [
       "GridSearchCV(cv=5,\n",
       "             estimator=Pipeline(steps=[('transformer',\n",
       "                                        ColumnTransformer(transformers=[('numbers',\n",
       "                                                                         StandardScaler(),\n",
       "                                                                         <sklearn.compose._column_transformer.make_column_selector object at 0x00000181C8505A60>),\n",
       "                                                                        ('category',\n",
       "                                                                         OneHotEncoder(drop='first'),\n",
       "                                                                         <sklearn.compose._column_transformer.make_column_selector object at 0x00000181C8519670>)])),\n",
       "                                       ('classifier',\n",
       "                                        RandomForestClassifier(class_weight='balanced',\n",
       "                                                               random_state=250923))]),\n",
       "             param_grid={'classifier__max_depth': [2, 4, 8, 12],\n",
       "                         'classifier__min_samples_leaf': [2, 4, 8, 12],\n",
       "                         'classifier__n_estimators': [20, 30, 50, 100]},\n",
       "             scoring='roc_auc', verbose=3)"
      ]
     },
     "execution_count": 121,
     "metadata": {},
     "output_type": "execute_result"
    }
   ],
   "source": [
    "grid_search_rf.fit(features_train, target_train)"
   ]
  },
  {
   "cell_type": "code",
   "execution_count": 122,
   "id": "a28e8c8f",
   "metadata": {},
   "outputs": [
    {
     "data": {
      "text/plain": [
       "{'classifier__max_depth': 8,\n",
       " 'classifier__min_samples_leaf': 4,\n",
       " 'classifier__n_estimators': 100}"
      ]
     },
     "execution_count": 122,
     "metadata": {},
     "output_type": "execute_result"
    }
   ],
   "source": [
    "grid_search_rf.best_params_"
   ]
  },
  {
   "cell_type": "code",
   "execution_count": 124,
   "id": "85b52c59",
   "metadata": {},
   "outputs": [],
   "source": [
    "best_model_rf = grid_search_rf.best_estimator_"
   ]
  },
  {
   "cell_type": "code",
   "execution_count": 125,
   "id": "80d063b1",
   "metadata": {},
   "outputs": [
    {
     "data": {
      "text/plain": [
       "0.8184368975206556"
      ]
     },
     "execution_count": 125,
     "metadata": {},
     "output_type": "execute_result"
    }
   ],
   "source": [
    "grid_search_rf.best_score_"
   ]
  },
  {
   "cell_type": "markdown",
   "id": "15d93d81",
   "metadata": {},
   "source": [
    "##### LogisticRegression"
   ]
  },
  {
   "cell_type": "code",
   "execution_count": 126,
   "id": "cdc80e19",
   "metadata": {},
   "outputs": [],
   "source": [
    "pipeline_lr = Pipeline([\n",
    "    ('transformer', transformer),\n",
    "    ('classifier', LogisticRegression(random_state=RANDOM_STATE, class_weight='balanced', verbose=3))\n",
    "])"
   ]
  },
  {
   "cell_type": "code",
   "execution_count": 127,
   "id": "6df1ef05",
   "metadata": {},
   "outputs": [],
   "source": [
    "param_grid = {\n",
    "    'classifier__penalty': ['l1', 'l2'],\n",
    "    'classifier__C': [0.1, 1.0, 10.0]\n",
    "}"
   ]
  },
  {
   "cell_type": "code",
   "execution_count": 128,
   "id": "130602e2",
   "metadata": {},
   "outputs": [],
   "source": [
    "grid_search_lr = GridSearchCV(pipeline_lr, param_grid, cv=5, scoring='roc_auc')"
   ]
  },
  {
   "cell_type": "code",
   "execution_count": 129,
   "id": "d88e0ab1",
   "metadata": {
    "scrolled": true
   },
   "outputs": [
    {
     "name": "stderr",
     "output_type": "stream",
     "text": [
      "[Parallel(n_jobs=1)]: Using backend SequentialBackend with 1 concurrent workers.\n",
      "[Parallel(n_jobs=1)]: Done   1 out of   1 | elapsed:    0.0s remaining:    0.0s\n",
      "[Parallel(n_jobs=1)]: Done   1 out of   1 | elapsed:    0.0s finished\n",
      "[Parallel(n_jobs=1)]: Using backend SequentialBackend with 1 concurrent workers.\n",
      "[Parallel(n_jobs=1)]: Done   1 out of   1 | elapsed:    0.0s remaining:    0.0s\n",
      "[Parallel(n_jobs=1)]: Done   1 out of   1 | elapsed:    0.0s finished\n",
      "[Parallel(n_jobs=1)]: Using backend SequentialBackend with 1 concurrent workers.\n",
      "[Parallel(n_jobs=1)]: Done   1 out of   1 | elapsed:    0.0s remaining:    0.0s\n",
      "[Parallel(n_jobs=1)]: Done   1 out of   1 | elapsed:    0.0s finished\n",
      "[Parallel(n_jobs=1)]: Using backend SequentialBackend with 1 concurrent workers.\n",
      "[Parallel(n_jobs=1)]: Done   1 out of   1 | elapsed:    0.0s remaining:    0.0s\n",
      "[Parallel(n_jobs=1)]: Done   1 out of   1 | elapsed:    0.0s finished\n",
      "[Parallel(n_jobs=1)]: Using backend SequentialBackend with 1 concurrent workers.\n",
      "[Parallel(n_jobs=1)]: Done   1 out of   1 | elapsed:    0.0s remaining:    0.0s\n",
      "[Parallel(n_jobs=1)]: Done   1 out of   1 | elapsed:    0.0s finished\n",
      "[Parallel(n_jobs=1)]: Using backend SequentialBackend with 1 concurrent workers.\n",
      "[Parallel(n_jobs=1)]: Done   1 out of   1 | elapsed:    0.0s remaining:    0.0s\n",
      "[Parallel(n_jobs=1)]: Done   1 out of   1 | elapsed:    0.0s finished\n",
      "[Parallel(n_jobs=1)]: Using backend SequentialBackend with 1 concurrent workers.\n",
      "[Parallel(n_jobs=1)]: Done   1 out of   1 | elapsed:    0.0s remaining:    0.0s\n",
      "[Parallel(n_jobs=1)]: Done   1 out of   1 | elapsed:    0.0s finished\n",
      "[Parallel(n_jobs=1)]: Using backend SequentialBackend with 1 concurrent workers.\n",
      "[Parallel(n_jobs=1)]: Done   1 out of   1 | elapsed:    0.0s remaining:    0.0s\n",
      "[Parallel(n_jobs=1)]: Done   1 out of   1 | elapsed:    0.0s finished\n",
      "[Parallel(n_jobs=1)]: Using backend SequentialBackend with 1 concurrent workers.\n",
      "[Parallel(n_jobs=1)]: Done   1 out of   1 | elapsed:    0.0s remaining:    0.0s\n",
      "[Parallel(n_jobs=1)]: Done   1 out of   1 | elapsed:    0.0s finished\n",
      "[Parallel(n_jobs=1)]: Using backend SequentialBackend with 1 concurrent workers.\n",
      "[Parallel(n_jobs=1)]: Done   1 out of   1 | elapsed:    0.0s remaining:    0.0s\n",
      "[Parallel(n_jobs=1)]: Done   1 out of   1 | elapsed:    0.0s finished\n",
      "[Parallel(n_jobs=1)]: Using backend SequentialBackend with 1 concurrent workers.\n",
      "[Parallel(n_jobs=1)]: Done   1 out of   1 | elapsed:    0.0s remaining:    0.0s\n",
      "[Parallel(n_jobs=1)]: Done   1 out of   1 | elapsed:    0.0s finished\n",
      "[Parallel(n_jobs=1)]: Using backend SequentialBackend with 1 concurrent workers.\n",
      "[Parallel(n_jobs=1)]: Done   1 out of   1 | elapsed:    0.0s remaining:    0.0s\n",
      "[Parallel(n_jobs=1)]: Done   1 out of   1 | elapsed:    0.0s finished\n",
      "[Parallel(n_jobs=1)]: Using backend SequentialBackend with 1 concurrent workers.\n",
      "[Parallel(n_jobs=1)]: Done   1 out of   1 | elapsed:    0.0s remaining:    0.0s\n",
      "[Parallel(n_jobs=1)]: Done   1 out of   1 | elapsed:    0.0s finished\n",
      "[Parallel(n_jobs=1)]: Using backend SequentialBackend with 1 concurrent workers.\n",
      "[Parallel(n_jobs=1)]: Done   1 out of   1 | elapsed:    0.0s remaining:    0.0s\n",
      "[Parallel(n_jobs=1)]: Done   1 out of   1 | elapsed:    0.0s finished\n",
      "[Parallel(n_jobs=1)]: Using backend SequentialBackend with 1 concurrent workers.\n",
      "[Parallel(n_jobs=1)]: Done   1 out of   1 | elapsed:    0.0s remaining:    0.0s\n",
      "[Parallel(n_jobs=1)]: Done   1 out of   1 | elapsed:    0.0s finished\n",
      "[Parallel(n_jobs=1)]: Using backend SequentialBackend with 1 concurrent workers.\n",
      "[Parallel(n_jobs=1)]: Done   1 out of   1 | elapsed:    0.0s remaining:    0.0s\n",
      "[Parallel(n_jobs=1)]: Done   1 out of   1 | elapsed:    0.0s finished\n"
     ]
    },
    {
     "data": {
      "text/plain": [
       "GridSearchCV(cv=5,\n",
       "             estimator=Pipeline(steps=[('transformer',\n",
       "                                        ColumnTransformer(transformers=[('numbers',\n",
       "                                                                         StandardScaler(),\n",
       "                                                                         <sklearn.compose._column_transformer.make_column_selector object at 0x00000181C8505A60>),\n",
       "                                                                        ('category',\n",
       "                                                                         OneHotEncoder(drop='first'),\n",
       "                                                                         <sklearn.compose._column_transformer.make_column_selector object at 0x00000181C8519670>)])),\n",
       "                                       ('classifier',\n",
       "                                        LogisticRegression(class_weight='balanced',\n",
       "                                                           random_state=250923,\n",
       "                                                           verbose=3))]),\n",
       "             param_grid={'classifier__C': [0.1, 1.0, 10.0],\n",
       "                         'classifier__penalty': ['l1', 'l2']},\n",
       "             scoring='roc_auc')"
      ]
     },
     "execution_count": 129,
     "metadata": {},
     "output_type": "execute_result"
    }
   ],
   "source": [
    "grid_search_lr.fit(features_train, target_train)"
   ]
  },
  {
   "cell_type": "code",
   "execution_count": 130,
   "id": "7fde7541",
   "metadata": {},
   "outputs": [
    {
     "data": {
      "text/plain": [
       "{'classifier__C': 1.0, 'classifier__penalty': 'l2'}"
      ]
     },
     "execution_count": 130,
     "metadata": {},
     "output_type": "execute_result"
    }
   ],
   "source": [
    "grid_search_lr.best_params_"
   ]
  },
  {
   "cell_type": "code",
   "execution_count": 131,
   "id": "a309dbc1",
   "metadata": {},
   "outputs": [],
   "source": [
    "best_model_lr = grid_search_lr.best_estimator_"
   ]
  },
  {
   "cell_type": "code",
   "execution_count": 132,
   "id": "a07f0f2a",
   "metadata": {},
   "outputs": [
    {
     "data": {
      "text/plain": [
       "0.7497304524024706"
      ]
     },
     "execution_count": 132,
     "metadata": {},
     "output_type": "execute_result"
    }
   ],
   "source": [
    "grid_search_lr.best_score_"
   ]
  },
  {
   "cell_type": "markdown",
   "id": "fb704cd4",
   "metadata": {},
   "source": [
    "##### CatBoost"
   ]
  },
  {
   "cell_type": "code",
   "execution_count": 133,
   "id": "10cb666c",
   "metadata": {},
   "outputs": [],
   "source": [
    "#индексы категориальных признаков для catboost\n",
    "cat_feature_indices = [features_train.columns.get_loc(feature_name) for feature_name in categorical_columns]"
   ]
  },
  {
   "cell_type": "code",
   "execution_count": 134,
   "id": "084c4576",
   "metadata": {},
   "outputs": [
    {
     "data": {
      "text/plain": [
       "[0, 1, 2, 5, 6, 7, 8, 9, 10, 11, 12, 13, 14, 15, 16]"
      ]
     },
     "execution_count": 134,
     "metadata": {},
     "output_type": "execute_result"
    }
   ],
   "source": [
    "cat_feature_indices"
   ]
  },
  {
   "cell_type": "code",
   "execution_count": 135,
   "id": "72096c74",
   "metadata": {},
   "outputs": [],
   "source": [
    "pipeline_cat = Pipeline([\n",
    "    ('classifier', CatBoostClassifier(random_state=RANDOM_STATE, cat_features=cat_feature_indices))\n",
    "])"
   ]
  },
  {
   "cell_type": "code",
   "execution_count": 136,
   "id": "6d8c6425",
   "metadata": {},
   "outputs": [],
   "source": [
    "param_grid = {\n",
    "    'classifier__iterations': [100, 200, 300],  # количество итераций\n",
    "    'classifier__learning_rate': [0.01, 0.1, 1.0],  # скорость обучения\n",
    "    'classifier__depth': [3, 5, 7],  # глубина деревьев\n",
    "}"
   ]
  },
  {
   "cell_type": "code",
   "execution_count": 137,
   "id": "757d52a0",
   "metadata": {},
   "outputs": [],
   "source": [
    "grid_search_cat = GridSearchCV(pipeline_cat, param_grid, cv=5, scoring='roc_auc', n_jobs=-1, verbose=5)"
   ]
  },
  {
   "cell_type": "code",
   "execution_count": 138,
   "id": "724e165d",
   "metadata": {
    "scrolled": true
   },
   "outputs": [
    {
     "name": "stdout",
     "output_type": "stream",
     "text": [
      "Fitting 5 folds for each of 27 candidates, totalling 135 fits\n",
      "0:\tlearn: 0.3959095\ttotal: 158ms\tremaining: 31.4s\n",
      "1:\tlearn: 0.3605305\ttotal: 176ms\tremaining: 17.4s\n",
      "2:\tlearn: 0.3446405\ttotal: 196ms\tremaining: 12.9s\n",
      "3:\tlearn: 0.3390168\ttotal: 217ms\tremaining: 10.6s\n",
      "4:\tlearn: 0.3336396\ttotal: 235ms\tremaining: 9.18s\n",
      "5:\tlearn: 0.3305197\ttotal: 247ms\tremaining: 8s\n",
      "6:\tlearn: 0.3296800\ttotal: 265ms\tremaining: 7.31s\n",
      "7:\tlearn: 0.3268052\ttotal: 285ms\tremaining: 6.83s\n",
      "8:\tlearn: 0.3245887\ttotal: 303ms\tremaining: 6.43s\n",
      "9:\tlearn: 0.3227838\ttotal: 323ms\tremaining: 6.14s\n",
      "10:\tlearn: 0.3184956\ttotal: 342ms\tremaining: 5.88s\n",
      "11:\tlearn: 0.3144856\ttotal: 363ms\tremaining: 5.68s\n",
      "12:\tlearn: 0.3098449\ttotal: 387ms\tremaining: 5.57s\n",
      "13:\tlearn: 0.3064254\ttotal: 414ms\tremaining: 5.5s\n",
      "14:\tlearn: 0.3009089\ttotal: 433ms\tremaining: 5.34s\n",
      "15:\tlearn: 0.2994823\ttotal: 451ms\tremaining: 5.19s\n",
      "16:\tlearn: 0.2994319\ttotal: 472ms\tremaining: 5.08s\n",
      "17:\tlearn: 0.2991824\ttotal: 490ms\tremaining: 4.95s\n",
      "18:\tlearn: 0.2970601\ttotal: 511ms\tremaining: 4.87s\n",
      "19:\tlearn: 0.2968622\ttotal: 531ms\tremaining: 4.78s\n",
      "20:\tlearn: 0.2957392\ttotal: 555ms\tremaining: 4.73s\n",
      "21:\tlearn: 0.2953323\ttotal: 580ms\tremaining: 4.69s\n",
      "22:\tlearn: 0.2932742\ttotal: 606ms\tremaining: 4.66s\n",
      "23:\tlearn: 0.2887943\ttotal: 632ms\tremaining: 4.64s\n",
      "24:\tlearn: 0.2886409\ttotal: 653ms\tremaining: 4.57s\n",
      "25:\tlearn: 0.2875566\ttotal: 673ms\tremaining: 4.5s\n",
      "26:\tlearn: 0.2833872\ttotal: 693ms\tremaining: 4.44s\n",
      "27:\tlearn: 0.2823220\ttotal: 714ms\tremaining: 4.38s\n",
      "28:\tlearn: 0.2816454\ttotal: 736ms\tremaining: 4.34s\n",
      "29:\tlearn: 0.2814847\ttotal: 758ms\tremaining: 4.3s\n",
      "30:\tlearn: 0.2770043\ttotal: 777ms\tremaining: 4.24s\n",
      "31:\tlearn: 0.2761224\ttotal: 801ms\tremaining: 4.21s\n",
      "32:\tlearn: 0.2742618\ttotal: 826ms\tremaining: 4.18s\n",
      "33:\tlearn: 0.2738473\ttotal: 846ms\tremaining: 4.13s\n",
      "34:\tlearn: 0.2737653\ttotal: 864ms\tremaining: 4.07s\n",
      "35:\tlearn: 0.2684840\ttotal: 882ms\tremaining: 4.02s\n",
      "36:\tlearn: 0.2636764\ttotal: 900ms\tremaining: 3.96s\n",
      "37:\tlearn: 0.2592750\ttotal: 920ms\tremaining: 3.92s\n",
      "38:\tlearn: 0.2581108\ttotal: 936ms\tremaining: 3.87s\n",
      "39:\tlearn: 0.2575180\ttotal: 955ms\tremaining: 3.82s\n",
      "40:\tlearn: 0.2574023\ttotal: 973ms\tremaining: 3.77s\n",
      "41:\tlearn: 0.2563817\ttotal: 991ms\tremaining: 3.73s\n",
      "42:\tlearn: 0.2554529\ttotal: 1.01s\tremaining: 3.69s\n",
      "43:\tlearn: 0.2550403\ttotal: 1.03s\tremaining: 3.66s\n",
      "44:\tlearn: 0.2545307\ttotal: 1.05s\tremaining: 3.64s\n",
      "45:\tlearn: 0.2534788\ttotal: 1.07s\tremaining: 3.59s\n",
      "46:\tlearn: 0.2534093\ttotal: 1.09s\tremaining: 3.55s\n",
      "47:\tlearn: 0.2520382\ttotal: 1.11s\tremaining: 3.52s\n",
      "48:\tlearn: 0.2518840\ttotal: 1.13s\tremaining: 3.49s\n",
      "49:\tlearn: 0.2514489\ttotal: 1.15s\tremaining: 3.45s\n",
      "50:\tlearn: 0.2478008\ttotal: 1.17s\tremaining: 3.41s\n",
      "51:\tlearn: 0.2466908\ttotal: 1.19s\tremaining: 3.38s\n",
      "52:\tlearn: 0.2440553\ttotal: 1.21s\tremaining: 3.35s\n",
      "53:\tlearn: 0.2393469\ttotal: 1.23s\tremaining: 3.32s\n",
      "54:\tlearn: 0.2384668\ttotal: 1.25s\tremaining: 3.31s\n",
      "55:\tlearn: 0.2382705\ttotal: 1.27s\tremaining: 3.28s\n",
      "56:\tlearn: 0.2373410\ttotal: 1.29s\tremaining: 3.24s\n",
      "57:\tlearn: 0.2359263\ttotal: 1.31s\tremaining: 3.21s\n",
      "58:\tlearn: 0.2331710\ttotal: 1.33s\tremaining: 3.18s\n",
      "59:\tlearn: 0.2330871\ttotal: 1.35s\tremaining: 3.15s\n",
      "60:\tlearn: 0.2329995\ttotal: 1.37s\tremaining: 3.11s\n",
      "61:\tlearn: 0.2322434\ttotal: 1.39s\tremaining: 3.09s\n",
      "62:\tlearn: 0.2303122\ttotal: 1.41s\tremaining: 3.06s\n",
      "63:\tlearn: 0.2262823\ttotal: 1.42s\tremaining: 3.02s\n",
      "64:\tlearn: 0.2244445\ttotal: 1.44s\tremaining: 2.99s\n",
      "65:\tlearn: 0.2200410\ttotal: 1.46s\tremaining: 2.97s\n",
      "66:\tlearn: 0.2188754\ttotal: 1.48s\tremaining: 2.94s\n",
      "67:\tlearn: 0.2185566\ttotal: 1.5s\tremaining: 2.91s\n",
      "68:\tlearn: 0.2166216\ttotal: 1.52s\tremaining: 2.88s\n",
      "69:\tlearn: 0.2164790\ttotal: 1.54s\tremaining: 2.85s\n",
      "70:\tlearn: 0.2120965\ttotal: 1.55s\tremaining: 2.82s\n",
      "71:\tlearn: 0.2109961\ttotal: 1.57s\tremaining: 2.79s\n",
      "72:\tlearn: 0.2077795\ttotal: 1.59s\tremaining: 2.76s\n",
      "73:\tlearn: 0.2034341\ttotal: 1.6s\tremaining: 2.73s\n",
      "74:\tlearn: 0.2032233\ttotal: 1.62s\tremaining: 2.7s\n",
      "75:\tlearn: 0.2017208\ttotal: 1.64s\tremaining: 2.68s\n",
      "76:\tlearn: 0.2013595\ttotal: 1.67s\tremaining: 2.67s\n",
      "77:\tlearn: 0.2010066\ttotal: 1.7s\tremaining: 2.66s\n",
      "78:\tlearn: 0.2006488\ttotal: 1.72s\tremaining: 2.64s\n",
      "79:\tlearn: 0.2005749\ttotal: 1.75s\tremaining: 2.62s\n",
      "80:\tlearn: 0.2001784\ttotal: 1.77s\tremaining: 2.6s\n",
      "81:\tlearn: 0.1986656\ttotal: 1.79s\tremaining: 2.57s\n",
      "82:\tlearn: 0.1981176\ttotal: 1.8s\tremaining: 2.54s\n",
      "83:\tlearn: 0.1956845\ttotal: 1.82s\tremaining: 2.52s\n",
      "84:\tlearn: 0.1905197\ttotal: 1.84s\tremaining: 2.49s\n",
      "85:\tlearn: 0.1901889\ttotal: 1.86s\tremaining: 2.47s\n",
      "86:\tlearn: 0.1857691\ttotal: 1.89s\tremaining: 2.45s\n",
      "87:\tlearn: 0.1849648\ttotal: 1.91s\tremaining: 2.43s\n",
      "88:\tlearn: 0.1809216\ttotal: 1.93s\tremaining: 2.4s\n",
      "89:\tlearn: 0.1800618\ttotal: 1.94s\tremaining: 2.37s\n",
      "90:\tlearn: 0.1791684\ttotal: 1.96s\tremaining: 2.35s\n",
      "91:\tlearn: 0.1743016\ttotal: 1.98s\tremaining: 2.32s\n",
      "92:\tlearn: 0.1741641\ttotal: 2s\tremaining: 2.3s\n",
      "93:\tlearn: 0.1735880\ttotal: 2.02s\tremaining: 2.27s\n",
      "94:\tlearn: 0.1732853\ttotal: 2.03s\tremaining: 2.25s\n",
      "95:\tlearn: 0.1718039\ttotal: 2.05s\tremaining: 2.22s\n",
      "96:\tlearn: 0.1709100\ttotal: 2.07s\tremaining: 2.2s\n",
      "97:\tlearn: 0.1697751\ttotal: 2.09s\tremaining: 2.17s\n",
      "98:\tlearn: 0.1667756\ttotal: 2.11s\tremaining: 2.15s\n",
      "99:\tlearn: 0.1664669\ttotal: 2.13s\tremaining: 2.13s\n",
      "100:\tlearn: 0.1661112\ttotal: 2.15s\tremaining: 2.1s\n",
      "101:\tlearn: 0.1659229\ttotal: 2.17s\tremaining: 2.09s\n",
      "102:\tlearn: 0.1657774\ttotal: 2.19s\tremaining: 2.06s\n",
      "103:\tlearn: 0.1641375\ttotal: 2.21s\tremaining: 2.04s\n",
      "104:\tlearn: 0.1637982\ttotal: 2.22s\tremaining: 2.01s\n",
      "105:\tlearn: 0.1621179\ttotal: 2.24s\tremaining: 1.99s\n",
      "106:\tlearn: 0.1599431\ttotal: 2.26s\tremaining: 1.97s\n",
      "107:\tlearn: 0.1582315\ttotal: 2.28s\tremaining: 1.94s\n",
      "108:\tlearn: 0.1574969\ttotal: 2.3s\tremaining: 1.92s\n",
      "109:\tlearn: 0.1569165\ttotal: 2.33s\tremaining: 1.9s\n",
      "110:\tlearn: 0.1539189\ttotal: 2.35s\tremaining: 1.88s\n",
      "111:\tlearn: 0.1538674\ttotal: 2.37s\tremaining: 1.86s\n",
      "112:\tlearn: 0.1523921\ttotal: 2.39s\tremaining: 1.84s\n",
      "113:\tlearn: 0.1520131\ttotal: 2.41s\tremaining: 1.81s\n",
      "114:\tlearn: 0.1516160\ttotal: 2.42s\tremaining: 1.79s\n",
      "115:\tlearn: 0.1515485\ttotal: 2.44s\tremaining: 1.77s\n",
      "116:\tlearn: 0.1509674\ttotal: 2.46s\tremaining: 1.74s\n",
      "117:\tlearn: 0.1501593\ttotal: 2.48s\tremaining: 1.72s\n",
      "118:\tlearn: 0.1496606\ttotal: 2.5s\tremaining: 1.7s\n",
      "119:\tlearn: 0.1487634\ttotal: 2.52s\tremaining: 1.68s\n",
      "120:\tlearn: 0.1474550\ttotal: 2.54s\tremaining: 1.66s\n",
      "121:\tlearn: 0.1463480\ttotal: 2.56s\tremaining: 1.63s\n",
      "122:\tlearn: 0.1447747\ttotal: 2.58s\tremaining: 1.61s\n",
      "123:\tlearn: 0.1441485\ttotal: 2.59s\tremaining: 1.59s\n",
      "124:\tlearn: 0.1428220\ttotal: 2.61s\tremaining: 1.56s\n",
      "125:\tlearn: 0.1427582\ttotal: 2.63s\tremaining: 1.54s\n",
      "126:\tlearn: 0.1424677\ttotal: 2.64s\tremaining: 1.52s\n",
      "127:\tlearn: 0.1424133\ttotal: 2.66s\tremaining: 1.5s\n",
      "128:\tlearn: 0.1423509\ttotal: 2.68s\tremaining: 1.48s\n",
      "129:\tlearn: 0.1410326\ttotal: 2.71s\tremaining: 1.46s\n",
      "130:\tlearn: 0.1409556\ttotal: 2.73s\tremaining: 1.44s\n",
      "131:\tlearn: 0.1404642\ttotal: 2.76s\tremaining: 1.42s\n",
      "132:\tlearn: 0.1388685\ttotal: 2.78s\tremaining: 1.4s\n",
      "133:\tlearn: 0.1373987\ttotal: 2.8s\tremaining: 1.38s\n",
      "134:\tlearn: 0.1355648\ttotal: 2.81s\tremaining: 1.35s\n",
      "135:\tlearn: 0.1355183\ttotal: 2.83s\tremaining: 1.33s\n",
      "136:\tlearn: 0.1354605\ttotal: 2.85s\tremaining: 1.31s\n",
      "137:\tlearn: 0.1348136\ttotal: 2.87s\tremaining: 1.29s\n",
      "138:\tlearn: 0.1341983\ttotal: 2.89s\tremaining: 1.27s\n",
      "139:\tlearn: 0.1334196\ttotal: 2.91s\tremaining: 1.25s\n",
      "140:\tlearn: 0.1330484\ttotal: 2.93s\tremaining: 1.23s\n",
      "141:\tlearn: 0.1327134\ttotal: 2.95s\tremaining: 1.21s\n",
      "142:\tlearn: 0.1313280\ttotal: 2.97s\tremaining: 1.18s\n",
      "143:\tlearn: 0.1310393\ttotal: 2.99s\tremaining: 1.16s\n",
      "144:\tlearn: 0.1307903\ttotal: 3.01s\tremaining: 1.14s\n",
      "145:\tlearn: 0.1300233\ttotal: 3.02s\tremaining: 1.12s\n",
      "146:\tlearn: 0.1286857\ttotal: 3.04s\tremaining: 1.1s\n",
      "147:\tlearn: 0.1286125\ttotal: 3.06s\tremaining: 1.07s\n",
      "148:\tlearn: 0.1283445\ttotal: 3.08s\tremaining: 1.05s\n",
      "149:\tlearn: 0.1280840\ttotal: 3.09s\tremaining: 1.03s\n",
      "150:\tlearn: 0.1274036\ttotal: 3.11s\tremaining: 1.01s\n",
      "151:\tlearn: 0.1260801\ttotal: 3.13s\tremaining: 990ms\n",
      "152:\tlearn: 0.1259300\ttotal: 3.16s\tremaining: 971ms\n",
      "153:\tlearn: 0.1254757\ttotal: 3.18s\tremaining: 949ms\n",
      "154:\tlearn: 0.1251948\ttotal: 3.2s\tremaining: 928ms\n",
      "155:\tlearn: 0.1246111\ttotal: 3.22s\tremaining: 908ms\n",
      "156:\tlearn: 0.1237064\ttotal: 3.24s\tremaining: 887ms\n",
      "157:\tlearn: 0.1230009\ttotal: 3.25s\tremaining: 865ms\n",
      "158:\tlearn: 0.1228670\ttotal: 3.27s\tremaining: 844ms\n",
      "159:\tlearn: 0.1224977\ttotal: 3.29s\tremaining: 823ms\n",
      "160:\tlearn: 0.1218528\ttotal: 3.31s\tremaining: 801ms\n",
      "161:\tlearn: 0.1215635\ttotal: 3.33s\tremaining: 780ms\n",
      "162:\tlearn: 0.1211916\ttotal: 3.35s\tremaining: 760ms\n",
      "163:\tlearn: 0.1201014\ttotal: 3.37s\tremaining: 740ms\n",
      "164:\tlearn: 0.1200910\ttotal: 3.39s\tremaining: 719ms\n",
      "165:\tlearn: 0.1188959\ttotal: 3.41s\tremaining: 698ms\n",
      "166:\tlearn: 0.1187525\ttotal: 3.43s\tremaining: 677ms\n",
      "167:\tlearn: 0.1184374\ttotal: 3.44s\tremaining: 656ms\n",
      "168:\tlearn: 0.1183548\ttotal: 3.46s\tremaining: 635ms\n",
      "169:\tlearn: 0.1179861\ttotal: 3.48s\tremaining: 614ms\n",
      "170:\tlearn: 0.1178972\ttotal: 3.5s\tremaining: 593ms\n",
      "171:\tlearn: 0.1174331\ttotal: 3.51s\tremaining: 572ms\n",
      "172:\tlearn: 0.1164107\ttotal: 3.53s\tremaining: 551ms\n",
      "173:\tlearn: 0.1159640\ttotal: 3.54s\tremaining: 530ms\n",
      "174:\tlearn: 0.1151134\ttotal: 3.57s\tremaining: 510ms\n",
      "175:\tlearn: 0.1144919\ttotal: 3.58s\tremaining: 489ms\n",
      "176:\tlearn: 0.1139097\ttotal: 3.6s\tremaining: 468ms\n",
      "177:\tlearn: 0.1137434\ttotal: 3.62s\tremaining: 447ms\n",
      "178:\tlearn: 0.1136724\ttotal: 3.64s\tremaining: 427ms\n",
      "179:\tlearn: 0.1135304\ttotal: 3.65s\tremaining: 406ms\n",
      "180:\tlearn: 0.1131811\ttotal: 3.67s\tremaining: 385ms\n",
      "181:\tlearn: 0.1129717\ttotal: 3.69s\tremaining: 365ms\n",
      "182:\tlearn: 0.1123301\ttotal: 3.7s\tremaining: 344ms\n",
      "183:\tlearn: 0.1118578\ttotal: 3.72s\tremaining: 323ms\n",
      "184:\tlearn: 0.1114240\ttotal: 3.74s\tremaining: 303ms\n",
      "185:\tlearn: 0.1107641\ttotal: 3.76s\tremaining: 283ms\n",
      "186:\tlearn: 0.1106032\ttotal: 3.78s\tremaining: 263ms\n",
      "187:\tlearn: 0.1103837\ttotal: 3.8s\tremaining: 243ms\n",
      "188:\tlearn: 0.1096703\ttotal: 3.82s\tremaining: 222ms\n",
      "189:\tlearn: 0.1093912\ttotal: 3.84s\tremaining: 202ms\n",
      "190:\tlearn: 0.1090334\ttotal: 3.85s\tremaining: 182ms\n",
      "191:\tlearn: 0.1084410\ttotal: 3.87s\tremaining: 161ms\n",
      "192:\tlearn: 0.1083453\ttotal: 3.89s\tremaining: 141ms\n",
      "193:\tlearn: 0.1073175\ttotal: 3.91s\tremaining: 121ms\n",
      "194:\tlearn: 0.1072279\ttotal: 3.92s\tremaining: 101ms\n",
      "195:\tlearn: 0.1067902\ttotal: 3.94s\tremaining: 80.4ms\n",
      "196:\tlearn: 0.1067356\ttotal: 3.96s\tremaining: 60.3ms\n",
      "197:\tlearn: 0.1067181\ttotal: 3.98s\tremaining: 40.2ms\n",
      "198:\tlearn: 0.1063402\ttotal: 4s\tremaining: 20.1ms\n",
      "199:\tlearn: 0.1060770\ttotal: 4.01s\tremaining: 0us\n"
     ]
    },
    {
     "data": {
      "text/plain": [
       "GridSearchCV(cv=5,\n",
       "             estimator=Pipeline(steps=[('classifier',\n",
       "                                        <catboost.core.CatBoostClassifier object at 0x00000181C8A50DC0>)]),\n",
       "             n_jobs=-1,\n",
       "             param_grid={'classifier__depth': [3, 5, 7],\n",
       "                         'classifier__iterations': [100, 200, 300],\n",
       "                         'classifier__learning_rate': [0.01, 0.1, 1.0]},\n",
       "             scoring='roc_auc', verbose=5)"
      ]
     },
     "execution_count": 138,
     "metadata": {},
     "output_type": "execute_result"
    }
   ],
   "source": [
    "grid_search_cat.fit(features_train, target_train)"
   ]
  },
  {
   "cell_type": "code",
   "execution_count": 139,
   "id": "b16333c1",
   "metadata": {},
   "outputs": [
    {
     "data": {
      "text/plain": [
       "{'classifier__depth': 3,\n",
       " 'classifier__iterations': 200,\n",
       " 'classifier__learning_rate': 1.0}"
      ]
     },
     "execution_count": 139,
     "metadata": {},
     "output_type": "execute_result"
    }
   ],
   "source": [
    "grid_search_cat.best_params_"
   ]
  },
  {
   "cell_type": "code",
   "execution_count": 140,
   "id": "40e2f351",
   "metadata": {},
   "outputs": [],
   "source": [
    "best_model_cat = grid_search_cat.best_estimator_"
   ]
  },
  {
   "cell_type": "code",
   "execution_count": 143,
   "id": "43913d13",
   "metadata": {},
   "outputs": [
    {
     "data": {
      "text/plain": [
       "0.9064682183935991"
      ]
     },
     "execution_count": 143,
     "metadata": {},
     "output_type": "execute_result"
    }
   ],
   "source": [
    "grid_search_cat.best_score_"
   ]
  },
  {
   "cell_type": "markdown",
   "id": "45357b16",
   "metadata": {},
   "source": [
    "## Проверка лучшей модели на тестовой выборке"
   ]
  },
  {
   "cell_type": "code",
   "execution_count": 148,
   "id": "86880a77",
   "metadata": {},
   "outputs": [
    {
     "data": {
      "text/plain": [
       "0.8957439646051746"
      ]
     },
     "execution_count": 148,
     "metadata": {},
     "output_type": "execute_result"
    }
   ],
   "source": [
    "score = roc_auc_score(target_test, best_model_cat.predict_proba(features_test)[:, 1])\n",
    "score"
   ]
  },
  {
   "cell_type": "markdown",
   "id": "ec543fbf",
   "metadata": {},
   "source": [
    "## Проверка значимости признаков модели"
   ]
  },
  {
   "cell_type": "code",
   "execution_count": 157,
   "id": "136507a9",
   "metadata": {},
   "outputs": [],
   "source": [
    "best_model = grid_search_cat.best_estimator_.named_steps['classifier']\n",
    "\n",
    "# Получение важности признаков\n",
    "importances = best_model.feature_importances_"
   ]
  },
  {
   "cell_type": "code",
   "execution_count": 161,
   "id": "a779e2f3",
   "metadata": {},
   "outputs": [
    {
     "data": {
      "image/png": "[encoded data removed]",
      "text/plain": [
       "<Figure size 640x480 with 1 Axes>"
      ]
     },
     "metadata": {},
     "output_type": "display_data"
    }
   ],
   "source": [
    "plt.bar(range(len(importances)), importances)\n",
    "plt.xticks(range(len(importances)), features_train.columns, rotation='vertical')\n",
    "plt.xlabel('Features')\n",
    "plt.ylabel('Importance')\n",
    "plt.title('Feature Importance')\n",
    "plt.show()"
   ]
  },
  {
   "cell_type": "markdown",
   "id": "80b3eae0",
   "metadata": {},
   "source": [
    "В итоге, наилучшая модель показала результат roc_auc равный 0.896.\\\n",
    "Наиболее важными признаками являются: 'duration', 'MonthlyCharges' и 'Type'.\\\n",
    "А наименее важными получились 'gender', 'StreamingTV', 'PaperlessBilling' и 'SeniorCitizen'."
   ]
  },
  {
   "cell_type": "markdown",
   "id": "2ddc1622",
   "metadata": {},
   "source": [
    "<div style=\"border:solid orange 2px; padding: 20px\"> \n",
    "\n",
    "## Вывод\n",
    "\n",
    "Для работы над проектом были предоставлены данные в 4 датафреймах, эти данные предстояло подгрузить и ознакомиться с ними.\\\n",
    "Далее был проведен исследовательский анализ предоставленных данных, построены графики распределений каждых признаков в датафреймах.\\\n",
    "Датафреймы были разными по количеству данных, так как были услуги, которыми клиенты не пользовались, соответственно данных в определенных столбцах было меньше.\n",
    "\n",
    "Далее предстояло провести предобработку данных:\n",
    "- Изначально были обработаны столбцы, у которых был некорректный тип данных;\n",
    "- Затем был выделен целевой признак в отдельную колонку, где было отмечено, является ли человек клиентом или уже нет;\n",
    "- Был создан дополнительный признак \"длительность жизни клиента\";\n",
    "- Были удалены признаки со временем;\n",
    "- Были объединены таблицы по столбцу 'customerID';\n",
    "- Далее необходимо было обработать пропуски, возникшие после объединения таблиц, были объединены они с помощью заполнения всех пропусков значением 'not_used';\n",
    "\n",
    "После предобработки данные были разбиты на обучающую и тестовую выборки.\n",
    "\n",
    "Далее уже был выбор и обучение моделей:\n",
    "- Были выбраны LogisticRegression, RandomForestClassifier и CatBoostClassifier;\n",
    "- При помощи пайплайна были масштабированы и кодированы признаки перед обучением;\n",
    "- Далее при помощи GridSearchCV были обработаны различные гиперпараметры, для выявления лучших;\n",
    "- Далее модели были обучены и получены результаты метрики 'roc_auc' на обучающих выборках.\n",
    "\n",
    "Результат на обучающей выборке был лучшим у CatBoostClassifier, который был равен 0.906, поэтому эта модель была выбрана для тестирования.\n",
    "\n",
    "Результат лучшей модели на тестовой выборке получился равен 0.896, что удовлетворяет условию поставленной задачи.\n",
    "\n",
    "Итоговая модель выглядит следующим образом.\\\n",
    "CatBoostClassifier()\\\n",
    "Подобранные гиперпараметры:\n",
    "- depth = 3;\n",
    "- iterations = 200;\n",
    "- learning_rate = 1.0\n",
    "\n",
    "ROC_AUC равен 0.896\n",
    "\n",
    "Список признаков, используемых для обучения лучшей модели:\\\n",
    "['Type', 'PaperlessBilling', 'PaymentMethod', 'InternetService',\n",
    "       'OnlineSecurity', 'OnlineBackup', 'DeviceProtection', 'TechSupport',\n",
    "       'StreamingTV', 'StreamingMovies', 'gender', 'SeniorCitizen', 'Partner',\n",
    "       'Dependents', 'MultipleLines', 'duration', 'MonthlyCharges'].\n",
    "       \n",
    "Описание предобработки было выше."
   ]
  }
 ],
 "metadata": {
  "ExecuteTimeLog": [
   {
    "duration": 865,
    "start_time": "2023-10-01T11:01:36.866Z"
   },
   {
    "duration": 3,
    "start_time": "2023-10-01T11:01:37.803Z"
   },
   {
    "duration": 438,
    "start_time": "2023-10-01T11:02:57.740Z"
   },
   {
    "duration": 20,
    "start_time": "2023-10-01T11:03:01.615Z"
   },
   {
    "duration": 2536,
    "start_time": "2023-10-05T12:16:32.767Z"
   },
   {
    "duration": 3,
    "start_time": "2023-10-05T12:16:35.305Z"
   },
   {
    "duration": 454,
    "start_time": "2023-10-05T12:16:37.031Z"
   },
   {
    "duration": 15,
    "start_time": "2023-10-05T12:16:39.263Z"
   },
   {
    "duration": 15,
    "start_time": "2023-10-05T12:16:39.591Z"
   },
   {
    "duration": 13,
    "start_time": "2023-10-05T12:16:39.805Z"
   },
   {
    "duration": 161,
    "start_time": "2023-10-05T12:16:39.959Z"
   },
   {
    "duration": 592,
    "start_time": "2023-10-05T12:16:40.142Z"
   },
   {
    "duration": 11,
    "start_time": "2023-10-05T12:16:41.578Z"
   },
   {
    "duration": 12,
    "start_time": "2023-10-05T12:16:41.894Z"
   },
   {
    "duration": 28,
    "start_time": "2023-10-05T12:16:42.185Z"
   },
   {
    "duration": 779,
    "start_time": "2023-10-05T12:16:42.600Z"
   },
   {
    "duration": 9,
    "start_time": "2023-10-05T12:16:43.965Z"
   },
   {
    "duration": 15,
    "start_time": "2023-10-05T12:16:44.222Z"
   },
   {
    "duration": 11,
    "start_time": "2023-10-05T12:16:44.471Z"
   },
   {
    "duration": 458,
    "start_time": "2023-10-05T12:16:44.750Z"
   },
   {
    "duration": 7,
    "start_time": "2023-10-05T12:16:46.072Z"
   },
   {
    "duration": 10,
    "start_time": "2023-10-05T12:16:46.285Z"
   },
   {
    "duration": 16,
    "start_time": "2023-10-05T12:16:46.477Z"
   },
   {
    "duration": 92,
    "start_time": "2023-10-05T12:16:46.663Z"
   },
   {
    "duration": 6,
    "start_time": "2023-10-05T12:16:49.803Z"
   },
   {
    "duration": 6,
    "start_time": "2023-10-05T12:16:50.017Z"
   },
   {
    "duration": 5,
    "start_time": "2023-10-05T12:16:50.236Z"
   },
   {
    "duration": 4,
    "start_time": "2023-10-05T12:16:50.466Z"
   },
   {
    "duration": 5,
    "start_time": "2023-10-05T12:16:50.753Z"
   },
   {
    "duration": 6,
    "start_time": "2023-10-05T12:16:51.073Z"
   },
   {
    "duration": 4,
    "start_time": "2023-10-05T12:16:51.658Z"
   },
   {
    "duration": 4,
    "start_time": "2023-10-05T12:16:51.989Z"
   },
   {
    "duration": 4,
    "start_time": "2023-10-05T12:16:53.658Z"
   },
   {
    "duration": 5,
    "start_time": "2023-10-05T12:16:53.946Z"
   },
   {
    "duration": 7,
    "start_time": "2023-10-05T12:16:55.252Z"
   },
   {
    "duration": 4,
    "start_time": "2023-10-05T12:16:55.503Z"
   },
   {
    "duration": 5,
    "start_time": "2023-10-05T12:16:55.912Z"
   },
   {
    "duration": 6,
    "start_time": "2023-10-05T12:16:57.488Z"
   },
   {
    "duration": 17,
    "start_time": "2023-10-05T12:16:57.659Z"
   },
   {
    "duration": 13,
    "start_time": "2023-10-05T12:16:59.213Z"
   },
   {
    "duration": 6,
    "start_time": "2023-10-05T12:17:00.475Z"
   },
   {
    "duration": 123,
    "start_time": "2023-10-05T12:17:02.209Z"
   },
   {
    "duration": 2415,
    "start_time": "2023-10-05T12:17:21.214Z"
   },
   {
    "duration": 12,
    "start_time": "2023-10-05T12:17:45.549Z"
   },
   {
    "duration": 46,
    "start_time": "2023-10-05T12:17:50.331Z"
   },
   {
    "duration": 16,
    "start_time": "2023-10-05T12:17:51.978Z"
   },
   {
    "duration": 31,
    "start_time": "2023-10-05T12:17:54.169Z"
   },
   {
    "duration": 16,
    "start_time": "2023-10-05T12:17:55.957Z"
   },
   {
    "duration": 22,
    "start_time": "2023-10-05T12:17:57.464Z"
   },
   {
    "duration": 19,
    "start_time": "2023-10-05T12:17:59.056Z"
   },
   {
    "duration": 12,
    "start_time": "2023-10-05T12:18:00.532Z"
   },
   {
    "duration": 23,
    "start_time": "2023-10-05T12:18:02.476Z"
   },
   {
    "duration": 7,
    "start_time": "2023-10-05T12:18:04.219Z"
   },
   {
    "duration": 8,
    "start_time": "2023-10-05T12:18:06.265Z"
   },
   {
    "duration": 16,
    "start_time": "2023-10-05T12:18:07.858Z"
   },
   {
    "duration": 15,
    "start_time": "2023-10-05T12:18:23.361Z"
   },
   {
    "duration": 9,
    "start_time": "2023-10-05T12:18:47.893Z"
   },
   {
    "duration": 34,
    "start_time": "2023-10-05T12:18:58.260Z"
   },
   {
    "duration": 6,
    "start_time": "2023-10-05T12:19:00.606Z"
   },
   {
    "duration": 4,
    "start_time": "2023-10-05T12:19:08.289Z"
   },
   {
    "duration": 52,
    "start_time": "2023-10-05T12:19:24.191Z"
   },
   {
    "duration": 8,
    "start_time": "2023-10-05T12:20:17.638Z"
   },
   {
    "duration": 9,
    "start_time": "2023-10-05T12:20:29.062Z"
   },
   {
    "duration": 9,
    "start_time": "2023-10-05T12:20:33.291Z"
   },
   {
    "duration": 11,
    "start_time": "2023-10-05T12:21:05.052Z"
   },
   {
    "duration": 15,
    "start_time": "2023-10-05T12:21:43.668Z"
   },
   {
    "duration": 15,
    "start_time": "2023-10-05T12:22:16.546Z"
   },
   {
    "duration": 10,
    "start_time": "2023-10-05T12:22:24.665Z"
   },
   {
    "duration": 10,
    "start_time": "2023-10-05T12:22:37.756Z"
   },
   {
    "duration": 11,
    "start_time": "2023-10-05T12:22:55.851Z"
   },
   {
    "duration": 15,
    "start_time": "2023-10-05T12:23:02.128Z"
   },
   {
    "duration": 12,
    "start_time": "2023-10-05T12:23:06.738Z"
   }
  ],
  "kernelspec": {
   "display_name": "Python 3 (ipykernel)",
   "language": "python",
   "name": "python3"
  },
  "language_info": {
   "codemirror_mode": {
    "name": "ipython",
    "version": 3
   },
   "file_extension": ".py",
   "mimetype": "text/x-python",
   "name": "python",
   "nbconvert_exporter": "python",
   "pygments_lexer": "ipython3",
   "version": "3.9.19"
  },
  "toc": {
   "base_numbering": 1,
   "nav_menu": {},
   "number_sections": true,
   "sideBar": true,
   "skip_h1_title": true,
   "title_cell": "Table of Contents",
   "title_sidebar": "Contents",
   "toc_cell": false,
   "toc_position": {},
   "toc_section_display": true,
   "toc_window_display": false
  }
 },
 "nbformat": 4,
 "nbformat_minor": 5
}
