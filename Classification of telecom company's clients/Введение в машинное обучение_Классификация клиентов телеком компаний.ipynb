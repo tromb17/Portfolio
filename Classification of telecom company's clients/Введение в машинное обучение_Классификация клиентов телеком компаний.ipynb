{
 "cells": [
  {
   "cell_type": "markdown",
   "id": "84e62b93-b57a-41f3-9b20-9a7694f56404",
   "metadata": {},
   "source": [
    "# Классификация клиентов телеком компаний"
   ]
  },
  {
   "cell_type": "markdown",
   "id": "f32c36da",
   "metadata": {},
   "source": [
    "## Постановка задачи \n",
    "В данном проекте будут предоставлены данные от мобильного оператора \"Мегалайн\". \\\n",
    "Оператор мобильной связи выяснил, что многие клиенты пользуются архивными тарифами. Им необходимо построить систему, способную проанализировать поведение клиентов и предложить им перейти на тарифы \"Смарт\" и \"Ультра\". \\\n",
    "Для решения данной задачи необходимо проанализировать исходные данные и построить модель для задачи классификации, которая выберет подходящий тариф.\n",
    "\n",
    "Также необходимо построить модель с максимально большим значением accuracy (более 0.75)."
   ]
  },
  {
   "cell_type": "markdown",
   "id": "7be9b532",
   "metadata": {},
   "source": [
    "## Загрузка датасета и знакомство с данными"
   ]
  },
  {
   "cell_type": "code",
   "execution_count": 92,
   "id": "6ecb4f29",
   "metadata": {},
   "outputs": [],
   "source": [
    "import pandas as pd\n",
    "import matplotlib.pyplot as plt\n",
    "import seaborn as sns\n",
    "from tqdm import tqdm\n",
    "\n",
    "from sklearn.model_selection import train_test_split\n",
    "from sklearn.tree import plot_tree\n",
    "from sklearn.tree import DecisionTreeClassifier\n",
    "from sklearn.ensemble import RandomForestClassifier\n",
    "from sklearn.linear_model import LogisticRegression\n",
    "from sklearn.metrics import accuracy_score\n",
    "from sklearn.dummy import DummyClassifier"
   ]
  },
  {
   "cell_type": "code",
   "execution_count": 93,
   "id": "e1c38e89",
   "metadata": {
    "scrolled": true
   },
   "outputs": [
    {
     "data": {
      "text/html": [
       "<div>\n",
       "<style scoped>\n",
       "    .dataframe tbody tr th:only-of-type {\n",
       "        vertical-align: middle;\n",
       "    }\n",
       "\n",
       "    .dataframe tbody tr th {\n",
       "        vertical-align: top;\n",
       "    }\n",
       "\n",
       "    .dataframe thead th {\n",
       "        text-align: right;\n",
       "    }\n",
       "</style>\n",
       "<table border=\"1\" class=\"dataframe\">\n",
       "  <thead>\n",
       "    <tr style=\"text-align: right;\">\n",
       "      <th></th>\n",
       "      <th>calls</th>\n",
       "      <th>minutes</th>\n",
       "      <th>messages</th>\n",
       "      <th>mb_used</th>\n",
       "      <th>is_ultra</th>\n",
       "    </tr>\n",
       "  </thead>\n",
       "  <tbody>\n",
       "    <tr>\n",
       "      <th>0</th>\n",
       "      <td>40.0</td>\n",
       "      <td>311.90</td>\n",
       "      <td>83.0</td>\n",
       "      <td>19915.42</td>\n",
       "      <td>0</td>\n",
       "    </tr>\n",
       "    <tr>\n",
       "      <th>1</th>\n",
       "      <td>85.0</td>\n",
       "      <td>516.75</td>\n",
       "      <td>56.0</td>\n",
       "      <td>22696.96</td>\n",
       "      <td>0</td>\n",
       "    </tr>\n",
       "    <tr>\n",
       "      <th>2</th>\n",
       "      <td>77.0</td>\n",
       "      <td>467.66</td>\n",
       "      <td>86.0</td>\n",
       "      <td>21060.45</td>\n",
       "      <td>0</td>\n",
       "    </tr>\n",
       "    <tr>\n",
       "      <th>3</th>\n",
       "      <td>106.0</td>\n",
       "      <td>745.53</td>\n",
       "      <td>81.0</td>\n",
       "      <td>8437.39</td>\n",
       "      <td>1</td>\n",
       "    </tr>\n",
       "    <tr>\n",
       "      <th>4</th>\n",
       "      <td>66.0</td>\n",
       "      <td>418.74</td>\n",
       "      <td>1.0</td>\n",
       "      <td>14502.75</td>\n",
       "      <td>0</td>\n",
       "    </tr>\n",
       "    <tr>\n",
       "      <th>...</th>\n",
       "      <td>...</td>\n",
       "      <td>...</td>\n",
       "      <td>...</td>\n",
       "      <td>...</td>\n",
       "      <td>...</td>\n",
       "    </tr>\n",
       "    <tr>\n",
       "      <th>3209</th>\n",
       "      <td>122.0</td>\n",
       "      <td>910.98</td>\n",
       "      <td>20.0</td>\n",
       "      <td>35124.90</td>\n",
       "      <td>1</td>\n",
       "    </tr>\n",
       "    <tr>\n",
       "      <th>3210</th>\n",
       "      <td>25.0</td>\n",
       "      <td>190.36</td>\n",
       "      <td>0.0</td>\n",
       "      <td>3275.61</td>\n",
       "      <td>0</td>\n",
       "    </tr>\n",
       "    <tr>\n",
       "      <th>3211</th>\n",
       "      <td>97.0</td>\n",
       "      <td>634.44</td>\n",
       "      <td>70.0</td>\n",
       "      <td>13974.06</td>\n",
       "      <td>0</td>\n",
       "    </tr>\n",
       "    <tr>\n",
       "      <th>3212</th>\n",
       "      <td>64.0</td>\n",
       "      <td>462.32</td>\n",
       "      <td>90.0</td>\n",
       "      <td>31239.78</td>\n",
       "      <td>0</td>\n",
       "    </tr>\n",
       "    <tr>\n",
       "      <th>3213</th>\n",
       "      <td>80.0</td>\n",
       "      <td>566.09</td>\n",
       "      <td>6.0</td>\n",
       "      <td>29480.52</td>\n",
       "      <td>1</td>\n",
       "    </tr>\n",
       "  </tbody>\n",
       "</table>\n",
       "<p>3214 rows × 5 columns</p>\n",
       "</div>"
      ],
      "text/plain": [
       "      calls  minutes  messages   mb_used  is_ultra\n",
       "0      40.0   311.90      83.0  19915.42         0\n",
       "1      85.0   516.75      56.0  22696.96         0\n",
       "2      77.0   467.66      86.0  21060.45         0\n",
       "3     106.0   745.53      81.0   8437.39         1\n",
       "4      66.0   418.74       1.0  14502.75         0\n",
       "...     ...      ...       ...       ...       ...\n",
       "3209  122.0   910.98      20.0  35124.90         1\n",
       "3210   25.0   190.36       0.0   3275.61         0\n",
       "3211   97.0   634.44      70.0  13974.06         0\n",
       "3212   64.0   462.32      90.0  31239.78         0\n",
       "3213   80.0   566.09       6.0  29480.52         1\n",
       "\n",
       "[3214 rows x 5 columns]"
      ]
     },
     "execution_count": 93,
     "metadata": {},
     "output_type": "execute_result"
    }
   ],
   "source": [
    "try:\n",
    "    df = pd.read_csv('C:/Users/trombee/YandexDisk/Учеба/Я. Практикум/Проект. Введение в машинное обучение/users_behavior.csv')\n",
    "except:\n",
    "    df = pd.read_csv('/datasets/users_behavior.csv')\n",
    "df"
   ]
  },
  {
   "cell_type": "code",
   "execution_count": 94,
   "id": "ca014d26",
   "metadata": {
    "scrolled": true
   },
   "outputs": [
    {
     "name": "stdout",
     "output_type": "stream",
     "text": [
      "<class 'pandas.core.frame.DataFrame'>\n",
      "RangeIndex: 3214 entries, 0 to 3213\n",
      "Data columns (total 5 columns):\n",
      " #   Column    Non-Null Count  Dtype  \n",
      "---  ------    --------------  -----  \n",
      " 0   calls     3214 non-null   float64\n",
      " 1   minutes   3214 non-null   float64\n",
      " 2   messages  3214 non-null   float64\n",
      " 3   mb_used   3214 non-null   float64\n",
      " 4   is_ultra  3214 non-null   int64  \n",
      "dtypes: float64(4), int64(1)\n",
      "memory usage: 125.7 KB\n"
     ]
    }
   ],
   "source": [
    "df.info()"
   ]
  },
  {
   "cell_type": "code",
   "execution_count": 95,
   "id": "802141ee",
   "metadata": {},
   "outputs": [
    {
     "data": {
      "text/html": [
       "<div>\n",
       "<style scoped>\n",
       "    .dataframe tbody tr th:only-of-type {\n",
       "        vertical-align: middle;\n",
       "    }\n",
       "\n",
       "    .dataframe tbody tr th {\n",
       "        vertical-align: top;\n",
       "    }\n",
       "\n",
       "    .dataframe thead th {\n",
       "        text-align: right;\n",
       "    }\n",
       "</style>\n",
       "<table border=\"1\" class=\"dataframe\">\n",
       "  <thead>\n",
       "    <tr style=\"text-align: right;\">\n",
       "      <th></th>\n",
       "      <th>calls</th>\n",
       "      <th>minutes</th>\n",
       "      <th>messages</th>\n",
       "      <th>mb_used</th>\n",
       "      <th>is_ultra</th>\n",
       "    </tr>\n",
       "  </thead>\n",
       "  <tbody>\n",
       "    <tr>\n",
       "      <th>count</th>\n",
       "      <td>3214.000000</td>\n",
       "      <td>3214.000000</td>\n",
       "      <td>3214.000000</td>\n",
       "      <td>3214.000000</td>\n",
       "      <td>3214.000000</td>\n",
       "    </tr>\n",
       "    <tr>\n",
       "      <th>mean</th>\n",
       "      <td>63.038892</td>\n",
       "      <td>438.208787</td>\n",
       "      <td>38.281269</td>\n",
       "      <td>17207.673836</td>\n",
       "      <td>0.306472</td>\n",
       "    </tr>\n",
       "    <tr>\n",
       "      <th>std</th>\n",
       "      <td>33.236368</td>\n",
       "      <td>234.569872</td>\n",
       "      <td>36.148326</td>\n",
       "      <td>7570.968246</td>\n",
       "      <td>0.461100</td>\n",
       "    </tr>\n",
       "    <tr>\n",
       "      <th>min</th>\n",
       "      <td>0.000000</td>\n",
       "      <td>0.000000</td>\n",
       "      <td>0.000000</td>\n",
       "      <td>0.000000</td>\n",
       "      <td>0.000000</td>\n",
       "    </tr>\n",
       "    <tr>\n",
       "      <th>25%</th>\n",
       "      <td>40.000000</td>\n",
       "      <td>274.575000</td>\n",
       "      <td>9.000000</td>\n",
       "      <td>12491.902500</td>\n",
       "      <td>0.000000</td>\n",
       "    </tr>\n",
       "    <tr>\n",
       "      <th>50%</th>\n",
       "      <td>62.000000</td>\n",
       "      <td>430.600000</td>\n",
       "      <td>30.000000</td>\n",
       "      <td>16943.235000</td>\n",
       "      <td>0.000000</td>\n",
       "    </tr>\n",
       "    <tr>\n",
       "      <th>75%</th>\n",
       "      <td>82.000000</td>\n",
       "      <td>571.927500</td>\n",
       "      <td>57.000000</td>\n",
       "      <td>21424.700000</td>\n",
       "      <td>1.000000</td>\n",
       "    </tr>\n",
       "    <tr>\n",
       "      <th>max</th>\n",
       "      <td>244.000000</td>\n",
       "      <td>1632.060000</td>\n",
       "      <td>224.000000</td>\n",
       "      <td>49745.730000</td>\n",
       "      <td>1.000000</td>\n",
       "    </tr>\n",
       "  </tbody>\n",
       "</table>\n",
       "</div>"
      ],
      "text/plain": [
       "             calls      minutes     messages       mb_used     is_ultra\n",
       "count  3214.000000  3214.000000  3214.000000   3214.000000  3214.000000\n",
       "mean     63.038892   438.208787    38.281269  17207.673836     0.306472\n",
       "std      33.236368   234.569872    36.148326   7570.968246     0.461100\n",
       "min       0.000000     0.000000     0.000000      0.000000     0.000000\n",
       "25%      40.000000   274.575000     9.000000  12491.902500     0.000000\n",
       "50%      62.000000   430.600000    30.000000  16943.235000     0.000000\n",
       "75%      82.000000   571.927500    57.000000  21424.700000     1.000000\n",
       "max     244.000000  1632.060000   224.000000  49745.730000     1.000000"
      ]
     },
     "execution_count": 95,
     "metadata": {},
     "output_type": "execute_result"
    }
   ],
   "source": [
    "df.describe()"
   ]
  },
  {
   "cell_type": "code",
   "execution_count": 96,
   "id": "6f9a29cc",
   "metadata": {},
   "outputs": [
    {
     "data": {
      "text/plain": [
       "0.30647168637212197"
      ]
     },
     "execution_count": 96,
     "metadata": {},
     "output_type": "execute_result"
    }
   ],
   "source": [
    "df['is_ultra'].mean()"
   ]
  },
  {
   "cell_type": "code",
   "execution_count": 97,
   "id": "c584f91b",
   "metadata": {},
   "outputs": [
    {
     "data": {
      "text/html": [
       "<div>\n",
       "<style scoped>\n",
       "    .dataframe tbody tr th:only-of-type {\n",
       "        vertical-align: middle;\n",
       "    }\n",
       "\n",
       "    .dataframe tbody tr th {\n",
       "        vertical-align: top;\n",
       "    }\n",
       "\n",
       "    .dataframe thead th {\n",
       "        text-align: right;\n",
       "    }\n",
       "</style>\n",
       "<table border=\"1\" class=\"dataframe\">\n",
       "  <thead>\n",
       "    <tr style=\"text-align: right;\">\n",
       "      <th></th>\n",
       "      <th>calls</th>\n",
       "      <th>minutes</th>\n",
       "      <th>messages</th>\n",
       "      <th>mb_used</th>\n",
       "      <th>is_ultra</th>\n",
       "    </tr>\n",
       "  </thead>\n",
       "  <tbody>\n",
       "    <tr>\n",
       "      <th>calls</th>\n",
       "      <td>1.000000</td>\n",
       "      <td>0.982083</td>\n",
       "      <td>0.177385</td>\n",
       "      <td>0.286442</td>\n",
       "      <td>0.207122</td>\n",
       "    </tr>\n",
       "    <tr>\n",
       "      <th>minutes</th>\n",
       "      <td>0.982083</td>\n",
       "      <td>1.000000</td>\n",
       "      <td>0.173110</td>\n",
       "      <td>0.280967</td>\n",
       "      <td>0.206955</td>\n",
       "    </tr>\n",
       "    <tr>\n",
       "      <th>messages</th>\n",
       "      <td>0.177385</td>\n",
       "      <td>0.173110</td>\n",
       "      <td>1.000000</td>\n",
       "      <td>0.195721</td>\n",
       "      <td>0.203830</td>\n",
       "    </tr>\n",
       "    <tr>\n",
       "      <th>mb_used</th>\n",
       "      <td>0.286442</td>\n",
       "      <td>0.280967</td>\n",
       "      <td>0.195721</td>\n",
       "      <td>1.000000</td>\n",
       "      <td>0.198568</td>\n",
       "    </tr>\n",
       "    <tr>\n",
       "      <th>is_ultra</th>\n",
       "      <td>0.207122</td>\n",
       "      <td>0.206955</td>\n",
       "      <td>0.203830</td>\n",
       "      <td>0.198568</td>\n",
       "      <td>1.000000</td>\n",
       "    </tr>\n",
       "  </tbody>\n",
       "</table>\n",
       "</div>"
      ],
      "text/plain": [
       "             calls   minutes  messages   mb_used  is_ultra\n",
       "calls     1.000000  0.982083  0.177385  0.286442  0.207122\n",
       "minutes   0.982083  1.000000  0.173110  0.280967  0.206955\n",
       "messages  0.177385  0.173110  1.000000  0.195721  0.203830\n",
       "mb_used   0.286442  0.280967  0.195721  1.000000  0.198568\n",
       "is_ultra  0.207122  0.206955  0.203830  0.198568  1.000000"
      ]
     },
     "execution_count": 97,
     "metadata": {},
     "output_type": "execute_result"
    }
   ],
   "source": [
    "corr = df.corr()\n",
    "corr"
   ]
  },
  {
   "cell_type": "markdown",
   "id": "824fea33",
   "metadata": {},
   "source": [
    "## Разделение данных на обучающую, валидационную и тестовую выборки"
   ]
  },
  {
   "cell_type": "code",
   "execution_count": 98,
   "id": "d8364c60",
   "metadata": {},
   "outputs": [],
   "source": [
    "features = df.drop('is_ultra', axis=1)\n",
    "target = df['is_ultra']"
   ]
  },
  {
   "cell_type": "code",
   "execution_count": 99,
   "id": "0ead8f65",
   "metadata": {},
   "outputs": [],
   "source": [
    "features_train, features_test, target_train, target_test = train_test_split(features, target, random_state=12345, test_size=0.3, stratify=target)\n",
    "features_valid, features_test, target_valid, target_test = train_test_split(features_test, target_test, random_state=12345, test_size=0.5, stratify=target_test)"
   ]
  },
  {
   "cell_type": "code",
   "execution_count": 100,
   "id": "f7c0d56e",
   "metadata": {
    "scrolled": true
   },
   "outputs": [
    {
     "name": "stdout",
     "output_type": "stream",
     "text": [
      "Общее количество строк: 3214\n",
      "Обучающая выборка:2249\n",
      "Валидационная выборка:482, доля от общих данных: 0.14996888612321096\n",
      "Тестовая выборка:483, доля от общих данных: 0.15028002489110143\n"
     ]
    }
   ],
   "source": [
    "print(f'Общее количество строк: {len(df)}')\n",
    "print(f'Обучающая выборка:{len(features_train)}')\n",
    "print(f'Валидационная выборка:{len(features_valid)}, доля от общих данных: {(len(features_valid) / len(df))}')\n",
    "print(f'Тестовая выборка:{len(features_test)}, доля от общих данных: {(len(features_test) / len(df))}')"
   ]
  },
  {
   "cell_type": "markdown",
   "id": "a6c226d9",
   "metadata": {},
   "source": [
    "## Исследование качества разных моделей, с разными гипермараметрами"
   ]
  },
  {
   "cell_type": "code",
   "execution_count": 101,
   "id": "99ae0f69",
   "metadata": {},
   "outputs": [
    {
     "name": "stdout",
     "output_type": "stream",
     "text": [
      "Максимальная глубина лучшей модель = 5\n",
      "Результат лучшей модели = 0.8070539419087137\n"
     ]
    },
    {
     "data": {
      "text/plain": [
       "Text(0.5, 0, 'Максимальная глубина')"
      ]
     },
     "execution_count": 101,
     "metadata": {},
     "output_type": "execute_result"
    },
    {
     "data": {
      "image/png": "[encoded data removed]",
      "text/plain": [
       "<Figure size 432x288 with 1 Axes>"
      ]
     },
     "metadata": {
      "needs_background": "light"
     },
     "output_type": "display_data"
    }
   ],
   "source": [
    "#Проверка модели дерева решений\n",
    "\n",
    "best_model = None\n",
    "best_result = 0\n",
    "metrics = []\n",
    "\n",
    "for i in range(1, 20):\n",
    "    model = DecisionTreeClassifier(random_state=12345, max_depth=i)\n",
    "    model.fit(features_train, target_train)\n",
    "    predictions = model.predict(features_valid)\n",
    "    result = accuracy_score(target_valid, predictions)\n",
    "    metrics.append(result)\n",
    "    if result > best_result:\n",
    "        best_model = model\n",
    "        best_result = result\n",
    "print(f'Максимальная глубина лучшей модель = {best_model.max_depth}\\nРезультат лучшей модели = {best_result}')\n",
    "\n",
    "plt.plot(metrics)\n",
    "plt.grid()\n",
    "plt.title('Точность модели на валидационной выборке')\n",
    "plt.ylabel('Точность')\n",
    "plt.xlabel('Максимальная глубина')"
   ]
  },
  {
   "cell_type": "code",
   "execution_count": 102,
   "id": "1e2972a2",
   "metadata": {},
   "outputs": [
    {
     "name": "stdout",
     "output_type": "stream",
     "text": [
      "Количество деревьев лучшей модели = 8\n",
      "Глубина лучшей модели = 5\n",
      "Точность лучшей модели = 0.8236514522821576\n"
     ]
    }
   ],
   "source": [
    "#Проверка модели случайного леса\n",
    "\n",
    "best_model = None\n",
    "best_result = 0\n",
    "\n",
    "for n_est in range(1, 11):\n",
    "    for depth in range(1, 10):\n",
    "        model = RandomForestClassifier(random_state=12345, n_estimators=n_est, max_depth=depth)\n",
    "        model.fit(features_train, target_train)\n",
    "        predictions = model.predict(features_valid)\n",
    "        result = accuracy_score(target_valid, predictions)\n",
    "        \n",
    "        if best_result < result:\n",
    "            best_result = result\n",
    "            best_model = model\n",
    "print(f'Количество деревьев лучшей модели = {best_model.n_estimators}\\nГлубина лучшей модели = {best_model.max_depth}\\nТочность лучшей модели = {best_result}')"
   ]
  },
  {
   "cell_type": "code",
   "execution_count": 103,
   "id": "09a91486",
   "metadata": {
    "scrolled": true
   },
   "outputs": [
    {
     "name": "stdout",
     "output_type": "stream",
     "text": [
      "Точность модели логистической регрессии = 0.7053941908713693\n"
     ]
    }
   ],
   "source": [
    "model = LogisticRegression(random_state=12345, solver='lbfgs', max_iter=1000)\n",
    "model.fit(features_train, target_train)\n",
    "predictions = model.predict(features_valid)\n",
    "result = accuracy_score(target_valid, predictions)\n",
    "print(f'Точность модели логистической регрессии = {result}')"
   ]
  },
  {
   "cell_type": "markdown",
   "id": "7a1c3027",
   "metadata": {},
   "source": [
    "Промежуточные выводы: \\\n",
    "Модели дерева решений и случайного леса обе показывают неплохие результаты, и обе подходят для этих данных \\\n",
    "Но лучшей из них оказалась модель случайного леса с глубиной = 8, и количеством деревьев = 7 \\\n",
    "Модель логистической регрессии показала низкую точность, поэтому эта модель не подходит"
   ]
  },
  {
   "cell_type": "markdown",
   "id": "91695b6c",
   "metadata": {},
   "source": [
    "## Проверка модели на тестовой выборке"
   ]
  },
  {
   "cell_type": "code",
   "execution_count": 109,
   "id": "8b0b52d7",
   "metadata": {},
   "outputs": [
    {
     "name": "stdout",
     "output_type": "stream",
     "text": [
      "Точность модели на тестовой выборке = 0.8136645962732919\n"
     ]
    }
   ],
   "source": [
    "# Лучшей моделью по точности стала модель случайного леса со следующими гиперпараметрами:\n",
    "# n_estimators = 7\n",
    "# max_depth = 8\n",
    "# Проверим эту модель на тестовой выборке\n",
    "\n",
    "model = RandomForestClassifier(random_state=12345, n_estimators=8, max_depth=5)\n",
    "model.fit(features_train, target_train)\n",
    "predictions = model.predict(features_test)\n",
    "result = accuracy_score(target_test, predictions)\n",
    "print(f'Точность модели на тестовой выборке = {result}')"
   ]
  },
  {
   "cell_type": "markdown",
   "id": "8ca09cc8",
   "metadata": {},
   "source": [
    "Получился довольно хороший результат точности для этих данных - 81% точности."
   ]
  },
  {
   "cell_type": "code",
   "execution_count": 110,
   "id": "3492c370",
   "metadata": {},
   "outputs": [],
   "source": [
    "new_features_train = pd.concat([features_train, features_valid])\n",
    "new_target_train = pd.concat([target_train, target_valid])"
   ]
  },
  {
   "cell_type": "code",
   "execution_count": 113,
   "id": "15581c53",
   "metadata": {},
   "outputs": [
    {
     "data": {
      "text/plain": [
       "0.8157349896480331"
      ]
     },
     "execution_count": 113,
     "metadata": {},
     "output_type": "execute_result"
    }
   ],
   "source": [
    "model = RandomForestClassifier(random_state=12345, n_estimators=8, max_depth=5)\n",
    "model.fit(new_features_train, new_target_train)\n",
    "predictions = model.predict(features_test)\n",
    "result = accuracy_score(target_test, predictions)\n",
    "result"
   ]
  },
  {
   "cell_type": "markdown",
   "id": "3ab29827",
   "metadata": {},
   "source": [
    "## Проверка модели на вменяемость"
   ]
  },
  {
   "cell_type": "code",
   "execution_count": 11,
   "id": "aecad99d",
   "metadata": {},
   "outputs": [
    {
     "data": {
      "text/plain": [
       "0.693528313627878"
      ]
     },
     "execution_count": 11,
     "metadata": {},
     "output_type": "execute_result"
    }
   ],
   "source": [
    "model = DummyClassifier(random_state=12345, strategy='most_frequent')\n",
    "model.fit(features, target)\n",
    "model.score(features, target)"
   ]
  },
  {
   "cell_type": "markdown",
   "id": "d1975017",
   "metadata": {},
   "source": [
    "Не до конца понял это задание. Но в данном случае, такой результат означает, что полученная модель вменяемая, потому что результат точности лучшей модели - 81%, что больше 69. Если бы точность была бы ниже 69%, то модель уже была бы невменяемой."
   ]
  },
  {
   "cell_type": "markdown",
   "id": "1a8c61a3",
   "metadata": {},
   "source": [
    "<div style=\"border:solid orange 2px; padding: 20px\"> \n",
    "\n",
    "## Вывод\n",
    "\n",
    "Были предоставлены данные оператора мобильной связи \"Мегалайн\". Эти данные предварительно уже были обработаны. \\\n",
    "\n",
    "Для обучения моделей эти данные были разделены на выборке со своими пропорциями:\n",
    " - обучающая выборка - 70%\n",
    " - валидационная выборка ~20%\n",
    " - тестовая выборка ~10%\n",
    " \n",
    "Далее были проверены различные вариации моделей, с различными гиперпараметрами. \\\n",
    "Были рассмотрены такие модели, как:\n",
    " - Дерево решений\n",
    " - Случайный лес\n",
    " - Логистическая регрессия\n",
    "\n",
    "По результатам анализа, была выявлена наилучшая модель, которая показала наивысшую точность среди остальных. Это модель случайного леса со слудующими гиперпараметрами:\n",
    " - n_estimators = 7\n",
    " - max_depth = 8\n",
    " \n",
    "При проверке этой модели на тестовой выборке, был показан результат равный 81.4% точности.\n",
    "\n",
    "Также модель была проверена на вменяемость. Модель оказалась вменяемой, так как точность модели выше 69%."
   ]
  }
 ],
 "metadata": {
  "ExecuteTimeLog": [
   {
    "duration": 2185,
    "start_time": "2023-03-22T11:14:36.192Z"
   },
   {
    "duration": 75,
    "start_time": "2023-03-22T11:14:38.378Z"
   },
   {
    "duration": 9,
    "start_time": "2023-03-22T11:14:38.455Z"
   },
   {
    "duration": 5,
    "start_time": "2023-03-22T11:14:38.465Z"
   },
   {
    "duration": 7,
    "start_time": "2023-03-22T11:14:38.471Z"
   },
   {
    "duration": 5,
    "start_time": "2023-03-22T11:14:38.479Z"
   },
   {
    "duration": 190,
    "start_time": "2023-03-22T11:14:38.485Z"
   },
   {
    "duration": 1487,
    "start_time": "2023-03-22T11:14:38.677Z"
   },
   {
    "duration": 15,
    "start_time": "2023-03-22T11:14:40.166Z"
   },
   {
    "duration": 29,
    "start_time": "2023-03-22T11:14:40.183Z"
   },
   {
    "duration": 28,
    "start_time": "2023-03-22T11:14:40.214Z"
   },
   {
    "duration": 1618,
    "start_time": "2023-03-26T07:36:33.371Z"
   },
   {
    "duration": 157,
    "start_time": "2023-03-26T07:36:34.994Z"
   },
   {
    "duration": 16,
    "start_time": "2023-03-26T07:36:35.152Z"
   },
   {
    "duration": 12,
    "start_time": "2023-03-26T07:36:35.170Z"
   },
   {
    "duration": 12,
    "start_time": "2023-03-26T07:36:35.184Z"
   },
   {
    "duration": 5,
    "start_time": "2023-03-26T07:36:35.198Z"
   },
   {
    "duration": 4,
    "start_time": "2023-03-26T07:37:15.684Z"
   },
   {
    "duration": 98,
    "start_time": "2023-03-26T07:37:15.690Z"
   },
   {
    "duration": 10,
    "start_time": "2023-03-26T07:37:15.790Z"
   },
   {
    "duration": 3,
    "start_time": "2023-03-26T07:37:15.802Z"
   },
   {
    "duration": 8,
    "start_time": "2023-03-26T07:37:15.807Z"
   },
   {
    "duration": 5,
    "start_time": "2023-03-26T07:37:15.817Z"
   },
   {
    "duration": 3,
    "start_time": "2023-03-26T07:37:34.795Z"
   },
   {
    "duration": 79,
    "start_time": "2023-03-26T07:37:34.802Z"
   },
   {
    "duration": 11,
    "start_time": "2023-03-26T07:37:34.883Z"
   },
   {
    "duration": 9,
    "start_time": "2023-03-26T07:37:34.896Z"
   },
   {
    "duration": 23,
    "start_time": "2023-03-26T07:37:34.907Z"
   },
   {
    "duration": 4,
    "start_time": "2023-03-26T07:37:34.931Z"
   },
   {
    "duration": 3,
    "start_time": "2023-03-26T07:45:32.074Z"
   },
   {
    "duration": 89,
    "start_time": "2023-03-26T07:45:32.080Z"
   },
   {
    "duration": 12,
    "start_time": "2023-03-26T07:45:32.171Z"
   },
   {
    "duration": 3,
    "start_time": "2023-03-26T07:45:32.185Z"
   },
   {
    "duration": 7,
    "start_time": "2023-03-26T07:45:32.191Z"
   },
   {
    "duration": 4,
    "start_time": "2023-03-26T07:45:32.200Z"
   },
   {
    "duration": 23,
    "start_time": "2023-03-26T07:46:25.319Z"
   },
   {
    "duration": 5,
    "start_time": "2023-03-26T07:47:11.537Z"
   },
   {
    "duration": 10,
    "start_time": "2023-03-26T07:48:09.823Z"
   },
   {
    "duration": 138,
    "start_time": "2023-03-26T07:48:17.351Z"
   },
   {
    "duration": 9,
    "start_time": "2023-03-26T07:48:21.768Z"
   },
   {
    "duration": 239,
    "start_time": "2023-03-26T07:48:24.930Z"
   },
   {
    "duration": 12,
    "start_time": "2023-03-26T07:49:16.384Z"
   },
   {
    "duration": 14,
    "start_time": "2023-03-26T07:50:17.419Z"
   },
   {
    "duration": 63,
    "start_time": "2023-03-26T07:50:21.322Z"
   },
   {
    "duration": 20,
    "start_time": "2023-03-26T07:53:55.809Z"
   },
   {
    "duration": 72,
    "start_time": "2023-03-26T07:54:12.758Z"
   },
   {
    "duration": 117,
    "start_time": "2023-03-26T07:54:14.911Z"
   },
   {
    "duration": 7,
    "start_time": "2023-03-26T07:54:38.487Z"
   },
   {
    "duration": 400,
    "start_time": "2023-03-26T07:54:59.267Z"
   },
   {
    "duration": 10,
    "start_time": "2023-03-26T07:57:03.877Z"
   },
   {
    "duration": 4,
    "start_time": "2023-03-26T07:58:30.822Z"
   },
   {
    "duration": 93,
    "start_time": "2023-03-26T07:58:30.832Z"
   },
   {
    "duration": 10,
    "start_time": "2023-03-26T07:58:30.927Z"
   },
   {
    "duration": 50,
    "start_time": "2023-03-26T07:58:30.939Z"
   },
   {
    "duration": 12,
    "start_time": "2023-03-26T07:58:30.991Z"
   },
   {
    "duration": 51,
    "start_time": "2023-03-26T07:58:31.005Z"
   },
   {
    "duration": 24,
    "start_time": "2023-03-26T07:58:31.058Z"
   },
   {
    "duration": 35,
    "start_time": "2023-03-26T07:58:31.084Z"
   },
   {
    "duration": 0,
    "start_time": "2023-03-26T07:58:31.121Z"
   },
   {
    "duration": 10,
    "start_time": "2023-03-26T07:58:42.000Z"
   },
   {
    "duration": 4,
    "start_time": "2023-03-26T07:58:46.424Z"
   },
   {
    "duration": 8,
    "start_time": "2023-03-26T08:02:07.220Z"
   },
   {
    "duration": 5,
    "start_time": "2023-03-26T08:02:10.556Z"
   },
   {
    "duration": 338,
    "start_time": "2023-03-26T08:15:24.567Z"
   },
   {
    "duration": 344,
    "start_time": "2023-03-26T08:16:40.431Z"
   },
   {
    "duration": 309,
    "start_time": "2023-03-26T08:17:05.805Z"
   },
   {
    "duration": 318,
    "start_time": "2023-03-26T08:17:29.161Z"
   },
   {
    "duration": 348,
    "start_time": "2023-03-26T08:17:48.384Z"
   },
   {
    "duration": 8,
    "start_time": "2023-03-26T08:19:25.876Z"
   },
   {
    "duration": 9,
    "start_time": "2023-03-26T08:19:51.468Z"
   },
   {
    "duration": 3,
    "start_time": "2023-03-26T08:20:06.836Z"
   },
   {
    "duration": 1682,
    "start_time": "2023-03-26T08:20:18.301Z"
   },
   {
    "duration": 827,
    "start_time": "2023-03-26T08:21:35.161Z"
   },
   {
    "duration": 9,
    "start_time": "2023-03-26T08:27:35.943Z"
   },
   {
    "duration": 7,
    "start_time": "2023-03-26T08:27:57.824Z"
   },
   {
    "duration": 75,
    "start_time": "2023-03-26T08:27:57.833Z"
   },
   {
    "duration": 8,
    "start_time": "2023-03-26T08:27:57.910Z"
   },
   {
    "duration": 19,
    "start_time": "2023-03-26T08:27:57.920Z"
   },
   {
    "duration": 6,
    "start_time": "2023-03-26T08:27:57.941Z"
   },
   {
    "duration": 11,
    "start_time": "2023-03-26T08:27:57.949Z"
   },
   {
    "duration": 4,
    "start_time": "2023-03-26T08:27:57.962Z"
   },
   {
    "duration": 8,
    "start_time": "2023-03-26T08:27:57.967Z"
   },
   {
    "duration": 3,
    "start_time": "2023-03-26T08:27:57.978Z"
   },
   {
    "duration": 371,
    "start_time": "2023-03-26T08:27:57.982Z"
   },
   {
    "duration": 7,
    "start_time": "2023-03-26T08:27:58.356Z"
   },
   {
    "duration": 1698,
    "start_time": "2023-03-26T08:28:09.937Z"
   },
   {
    "duration": 1618,
    "start_time": "2023-03-26T08:28:23.993Z"
   },
   {
    "duration": 72,
    "start_time": "2023-03-26T08:29:24.082Z"
   },
   {
    "duration": 78,
    "start_time": "2023-03-26T08:29:45.479Z"
   },
   {
    "duration": 1676,
    "start_time": "2023-03-26T08:34:44.139Z"
   },
   {
    "duration": 10,
    "start_time": "2023-03-26T08:46:37.066Z"
   },
   {
    "duration": 8,
    "start_time": "2023-03-26T08:47:21.627Z"
   },
   {
    "duration": 11,
    "start_time": "2023-03-26T08:47:50.531Z"
   },
   {
    "duration": 11,
    "start_time": "2023-03-26T08:48:28.635Z"
   },
   {
    "duration": 12,
    "start_time": "2023-03-26T08:48:36.678Z"
   },
   {
    "duration": 10,
    "start_time": "2023-03-26T08:48:52.361Z"
   },
   {
    "duration": 10,
    "start_time": "2023-03-26T08:50:33.848Z"
   },
   {
    "duration": 12,
    "start_time": "2023-03-26T08:51:15.629Z"
   },
   {
    "duration": 4,
    "start_time": "2023-03-26T08:51:58.585Z"
   },
   {
    "duration": 6,
    "start_time": "2023-03-26T08:52:04.746Z"
   },
   {
    "duration": 9,
    "start_time": "2023-03-26T08:54:05.513Z"
   },
   {
    "duration": 31,
    "start_time": "2023-03-26T08:54:13.093Z"
   },
   {
    "duration": 34,
    "start_time": "2023-03-26T08:54:16.849Z"
   },
   {
    "duration": 3,
    "start_time": "2023-03-26T08:55:19.540Z"
   },
   {
    "duration": 84,
    "start_time": "2023-03-26T08:55:19.544Z"
   },
   {
    "duration": 9,
    "start_time": "2023-03-26T08:55:19.629Z"
   },
   {
    "duration": 21,
    "start_time": "2023-03-26T08:55:19.639Z"
   },
   {
    "duration": 3,
    "start_time": "2023-03-26T08:55:19.662Z"
   },
   {
    "duration": 9,
    "start_time": "2023-03-26T08:55:19.666Z"
   },
   {
    "duration": 3,
    "start_time": "2023-03-26T08:55:19.676Z"
   },
   {
    "duration": 8,
    "start_time": "2023-03-26T08:55:19.680Z"
   },
   {
    "duration": 3,
    "start_time": "2023-03-26T08:55:19.689Z"
   },
   {
    "duration": 321,
    "start_time": "2023-03-26T08:55:19.694Z"
   },
   {
    "duration": 1472,
    "start_time": "2023-03-26T08:55:20.017Z"
   },
   {
    "duration": 13,
    "start_time": "2023-03-26T08:55:21.490Z"
   },
   {
    "duration": 39,
    "start_time": "2023-03-26T08:55:21.505Z"
   },
   {
    "duration": 3,
    "start_time": "2023-03-26T08:55:21.545Z"
   },
   {
    "duration": 37,
    "start_time": "2023-03-26T08:55:21.549Z"
   },
   {
    "duration": 24,
    "start_time": "2023-03-26T08:55:31.726Z"
   },
   {
    "duration": 26,
    "start_time": "2023-03-26T08:55:42.084Z"
   },
   {
    "duration": 31,
    "start_time": "2023-03-26T08:56:18.764Z"
   },
   {
    "duration": 4,
    "start_time": "2023-03-26T08:56:22.709Z"
   },
   {
    "duration": 35,
    "start_time": "2023-03-26T08:56:23.101Z"
   },
   {
    "duration": 74,
    "start_time": "2023-03-26T08:56:30.207Z"
   },
   {
    "duration": 32,
    "start_time": "2023-03-26T08:56:34.533Z"
   }
  ],
  "kernelspec": {
   "display_name": "Python 3 (ipykernel)",
   "language": "python",
   "name": "python3"
  },
  "language_info": {
   "codemirror_mode": {
    "name": "ipython",
    "version": 3
   },
   "file_extension": ".py",
   "mimetype": "text/x-python",
   "name": "python",
   "nbconvert_exporter": "python",
   "pygments_lexer": "ipython3",
   "version": "3.9.19"
  },
  "toc": {
   "base_numbering": 1,
   "nav_menu": {},
   "number_sections": true,
   "sideBar": true,
   "skip_h1_title": true,
   "title_cell": "Table of Contents",
   "title_sidebar": "Contents",
   "toc_cell": false,
   "toc_position": {},
   "toc_section_display": true,
   "toc_window_display": false
  }
 },
 "nbformat": 4,
 "nbformat_minor": 5
}
