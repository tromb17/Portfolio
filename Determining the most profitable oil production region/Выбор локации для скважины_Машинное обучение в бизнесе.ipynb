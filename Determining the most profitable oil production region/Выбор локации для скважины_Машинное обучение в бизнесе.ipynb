{
 "cells": [
  {
   "cell_type": "markdown",
   "id": "034e5f85-fc7a-48c2-8fba-3e4c5ac587e2",
   "metadata": {},
   "source": [
    "# Выбор локации для скважины"
   ]
  },
  {
   "cell_type": "markdown",
   "id": "86ad93e9-1418-463c-978a-fea5a6488eff",
   "metadata": {},
   "source": [
    "## Импорт библиотек и выгрузка данных"
   ]
  },
  {
   "cell_type": "code",
   "execution_count": 1,
   "id": "f1095ad4",
   "metadata": {},
   "outputs": [
    {
     "data": {
      "text/html": [
       "<style>.container { width:90% !important; }</style>"
      ],
      "text/plain": [
       "<IPython.core.display.HTML object>"
      ]
     },
     "metadata": {},
     "output_type": "display_data"
    }
   ],
   "source": [
    "import pandas as pd\n",
    "import numpy as np\n",
    "import matplotlib.pyplot as plt\n",
    "\n",
    "from sklearn.model_selection import cross_val_score\n",
    "from sklearn.model_selection import train_test_split\n",
    "\n",
    "from sklearn.linear_model import LinearRegression\n",
    "\n",
    "from sklearn.metrics import mean_squared_error\n",
    "\n",
    "from tqdm import tqdm\n",
    "\n",
    "from IPython.core.display import display, HTML\n",
    "display(HTML(\"<style>.container { width:90% !important; }</style>\"))"
   ]
  },
  {
   "cell_type": "code",
   "execution_count": 2,
   "id": "86f7c879",
   "metadata": {},
   "outputs": [
    {
     "name": "stdout",
     "output_type": "stream",
     "text": [
      "<class 'pandas.core.frame.DataFrame'>\n",
      "RangeIndex: 100000 entries, 0 to 99999\n",
      "Data columns (total 5 columns):\n",
      " #   Column   Non-Null Count   Dtype  \n",
      "---  ------   --------------   -----  \n",
      " 0   id       100000 non-null  object \n",
      " 1   f0       100000 non-null  float64\n",
      " 2   f1       100000 non-null  float64\n",
      " 3   f2       100000 non-null  float64\n",
      " 4   product  100000 non-null  float64\n",
      "dtypes: float64(4), object(1)\n",
      "memory usage: 3.8+ MB\n",
      "None\n"
     ]
    },
    {
     "data": {
      "text/html": [
       "<div>\n",
       "<style scoped>\n",
       "    .dataframe tbody tr th:only-of-type {\n",
       "        vertical-align: middle;\n",
       "    }\n",
       "\n",
       "    .dataframe tbody tr th {\n",
       "        vertical-align: top;\n",
       "    }\n",
       "\n",
       "    .dataframe thead th {\n",
       "        text-align: right;\n",
       "    }\n",
       "</style>\n",
       "<table border=\"1\" class=\"dataframe\">\n",
       "  <thead>\n",
       "    <tr style=\"text-align: right;\">\n",
       "      <th></th>\n",
       "      <th>f0</th>\n",
       "      <th>f1</th>\n",
       "      <th>f2</th>\n",
       "      <th>product</th>\n",
       "    </tr>\n",
       "  </thead>\n",
       "  <tbody>\n",
       "    <tr>\n",
       "      <th>count</th>\n",
       "      <td>100000.000000</td>\n",
       "      <td>100000.000000</td>\n",
       "      <td>100000.000000</td>\n",
       "      <td>100000.000000</td>\n",
       "    </tr>\n",
       "    <tr>\n",
       "      <th>mean</th>\n",
       "      <td>0.500419</td>\n",
       "      <td>0.250143</td>\n",
       "      <td>2.502647</td>\n",
       "      <td>92.500000</td>\n",
       "    </tr>\n",
       "    <tr>\n",
       "      <th>std</th>\n",
       "      <td>0.871832</td>\n",
       "      <td>0.504433</td>\n",
       "      <td>3.248248</td>\n",
       "      <td>44.288691</td>\n",
       "    </tr>\n",
       "    <tr>\n",
       "      <th>min</th>\n",
       "      <td>-1.408605</td>\n",
       "      <td>-0.848218</td>\n",
       "      <td>-12.088328</td>\n",
       "      <td>0.000000</td>\n",
       "    </tr>\n",
       "    <tr>\n",
       "      <th>25%</th>\n",
       "      <td>-0.072580</td>\n",
       "      <td>-0.200881</td>\n",
       "      <td>0.287748</td>\n",
       "      <td>56.497507</td>\n",
       "    </tr>\n",
       "    <tr>\n",
       "      <th>50%</th>\n",
       "      <td>0.502360</td>\n",
       "      <td>0.250252</td>\n",
       "      <td>2.515969</td>\n",
       "      <td>91.849972</td>\n",
       "    </tr>\n",
       "    <tr>\n",
       "      <th>75%</th>\n",
       "      <td>1.073581</td>\n",
       "      <td>0.700646</td>\n",
       "      <td>4.715088</td>\n",
       "      <td>128.564089</td>\n",
       "    </tr>\n",
       "    <tr>\n",
       "      <th>max</th>\n",
       "      <td>2.362331</td>\n",
       "      <td>1.343769</td>\n",
       "      <td>16.003790</td>\n",
       "      <td>185.364347</td>\n",
       "    </tr>\n",
       "  </tbody>\n",
       "</table>\n",
       "</div>"
      ],
      "text/plain": [
       "                  f0             f1             f2        product\n",
       "count  100000.000000  100000.000000  100000.000000  100000.000000\n",
       "mean        0.500419       0.250143       2.502647      92.500000\n",
       "std         0.871832       0.504433       3.248248      44.288691\n",
       "min        -1.408605      -0.848218     -12.088328       0.000000\n",
       "25%        -0.072580      -0.200881       0.287748      56.497507\n",
       "50%         0.502360       0.250252       2.515969      91.849972\n",
       "75%         1.073581       0.700646       4.715088     128.564089\n",
       "max         2.362331       1.343769      16.003790     185.364347"
      ]
     },
     "execution_count": 2,
     "metadata": {},
     "output_type": "execute_result"
    }
   ],
   "source": [
    "try:\n",
    "    geo_data_0 = pd.read_csv('C:/Users/acer/YandexDisk/Учеба/Я. Практикум/Data/geo_data_0.csv')\n",
    "except:\n",
    "    geo_data_0 = pd.read_csv('/datasets/geo_data_0.csv')\n",
    "print(geo_data_0.info())\n",
    "geo_data_0.describe()"
   ]
  },
  {
   "cell_type": "code",
   "execution_count": 3,
   "id": "72850d2a",
   "metadata": {},
   "outputs": [
    {
     "name": "stdout",
     "output_type": "stream",
     "text": [
      "<class 'pandas.core.frame.DataFrame'>\n",
      "RangeIndex: 100000 entries, 0 to 99999\n",
      "Data columns (total 5 columns):\n",
      " #   Column   Non-Null Count   Dtype  \n",
      "---  ------   --------------   -----  \n",
      " 0   id       100000 non-null  object \n",
      " 1   f0       100000 non-null  float64\n",
      " 2   f1       100000 non-null  float64\n",
      " 3   f2       100000 non-null  float64\n",
      " 4   product  100000 non-null  float64\n",
      "dtypes: float64(4), object(1)\n",
      "memory usage: 3.8+ MB\n",
      "None\n"
     ]
    },
    {
     "data": {
      "text/html": [
       "<div>\n",
       "<style scoped>\n",
       "    .dataframe tbody tr th:only-of-type {\n",
       "        vertical-align: middle;\n",
       "    }\n",
       "\n",
       "    .dataframe tbody tr th {\n",
       "        vertical-align: top;\n",
       "    }\n",
       "\n",
       "    .dataframe thead th {\n",
       "        text-align: right;\n",
       "    }\n",
       "</style>\n",
       "<table border=\"1\" class=\"dataframe\">\n",
       "  <thead>\n",
       "    <tr style=\"text-align: right;\">\n",
       "      <th></th>\n",
       "      <th>f0</th>\n",
       "      <th>f1</th>\n",
       "      <th>f2</th>\n",
       "      <th>product</th>\n",
       "    </tr>\n",
       "  </thead>\n",
       "  <tbody>\n",
       "    <tr>\n",
       "      <th>count</th>\n",
       "      <td>100000.000000</td>\n",
       "      <td>100000.000000</td>\n",
       "      <td>100000.000000</td>\n",
       "      <td>100000.000000</td>\n",
       "    </tr>\n",
       "    <tr>\n",
       "      <th>mean</th>\n",
       "      <td>1.141296</td>\n",
       "      <td>-4.796579</td>\n",
       "      <td>2.494541</td>\n",
       "      <td>68.825000</td>\n",
       "    </tr>\n",
       "    <tr>\n",
       "      <th>std</th>\n",
       "      <td>8.965932</td>\n",
       "      <td>5.119872</td>\n",
       "      <td>1.703572</td>\n",
       "      <td>45.944423</td>\n",
       "    </tr>\n",
       "    <tr>\n",
       "      <th>min</th>\n",
       "      <td>-31.609576</td>\n",
       "      <td>-26.358598</td>\n",
       "      <td>-0.018144</td>\n",
       "      <td>0.000000</td>\n",
       "    </tr>\n",
       "    <tr>\n",
       "      <th>25%</th>\n",
       "      <td>-6.298551</td>\n",
       "      <td>-8.267985</td>\n",
       "      <td>1.000021</td>\n",
       "      <td>26.953261</td>\n",
       "    </tr>\n",
       "    <tr>\n",
       "      <th>50%</th>\n",
       "      <td>1.153055</td>\n",
       "      <td>-4.813172</td>\n",
       "      <td>2.011479</td>\n",
       "      <td>57.085625</td>\n",
       "    </tr>\n",
       "    <tr>\n",
       "      <th>75%</th>\n",
       "      <td>8.621015</td>\n",
       "      <td>-1.332816</td>\n",
       "      <td>3.999904</td>\n",
       "      <td>107.813044</td>\n",
       "    </tr>\n",
       "    <tr>\n",
       "      <th>max</th>\n",
       "      <td>29.421755</td>\n",
       "      <td>18.734063</td>\n",
       "      <td>5.019721</td>\n",
       "      <td>137.945408</td>\n",
       "    </tr>\n",
       "  </tbody>\n",
       "</table>\n",
       "</div>"
      ],
      "text/plain": [
       "                  f0             f1             f2        product\n",
       "count  100000.000000  100000.000000  100000.000000  100000.000000\n",
       "mean        1.141296      -4.796579       2.494541      68.825000\n",
       "std         8.965932       5.119872       1.703572      45.944423\n",
       "min       -31.609576     -26.358598      -0.018144       0.000000\n",
       "25%        -6.298551      -8.267985       1.000021      26.953261\n",
       "50%         1.153055      -4.813172       2.011479      57.085625\n",
       "75%         8.621015      -1.332816       3.999904     107.813044\n",
       "max        29.421755      18.734063       5.019721     137.945408"
      ]
     },
     "execution_count": 3,
     "metadata": {},
     "output_type": "execute_result"
    }
   ],
   "source": [
    "try:\n",
    "    geo_data_1 = pd.read_csv('C:/Users/acer/YandexDisk/Учеба/Я. Практикум/Data/geo_data_1.csv')\n",
    "except:\n",
    "    geo_data_1 = pd.read_csv('/datasets/geo_data_1.csv')\n",
    "print(geo_data_1.info())\n",
    "geo_data_1.describe()"
   ]
  },
  {
   "cell_type": "code",
   "execution_count": 4,
   "id": "9bb45f30",
   "metadata": {
    "scrolled": true
   },
   "outputs": [
    {
     "name": "stdout",
     "output_type": "stream",
     "text": [
      "<class 'pandas.core.frame.DataFrame'>\n",
      "RangeIndex: 100000 entries, 0 to 99999\n",
      "Data columns (total 5 columns):\n",
      " #   Column   Non-Null Count   Dtype  \n",
      "---  ------   --------------   -----  \n",
      " 0   id       100000 non-null  object \n",
      " 1   f0       100000 non-null  float64\n",
      " 2   f1       100000 non-null  float64\n",
      " 3   f2       100000 non-null  float64\n",
      " 4   product  100000 non-null  float64\n",
      "dtypes: float64(4), object(1)\n",
      "memory usage: 3.8+ MB\n",
      "None\n"
     ]
    },
    {
     "data": {
      "text/html": [
       "<div>\n",
       "<style scoped>\n",
       "    .dataframe tbody tr th:only-of-type {\n",
       "        vertical-align: middle;\n",
       "    }\n",
       "\n",
       "    .dataframe tbody tr th {\n",
       "        vertical-align: top;\n",
       "    }\n",
       "\n",
       "    .dataframe thead th {\n",
       "        text-align: right;\n",
       "    }\n",
       "</style>\n",
       "<table border=\"1\" class=\"dataframe\">\n",
       "  <thead>\n",
       "    <tr style=\"text-align: right;\">\n",
       "      <th></th>\n",
       "      <th>f0</th>\n",
       "      <th>f1</th>\n",
       "      <th>f2</th>\n",
       "      <th>product</th>\n",
       "    </tr>\n",
       "  </thead>\n",
       "  <tbody>\n",
       "    <tr>\n",
       "      <th>count</th>\n",
       "      <td>100000.000000</td>\n",
       "      <td>100000.000000</td>\n",
       "      <td>100000.000000</td>\n",
       "      <td>100000.000000</td>\n",
       "    </tr>\n",
       "    <tr>\n",
       "      <th>mean</th>\n",
       "      <td>0.002023</td>\n",
       "      <td>-0.002081</td>\n",
       "      <td>2.495128</td>\n",
       "      <td>95.000000</td>\n",
       "    </tr>\n",
       "    <tr>\n",
       "      <th>std</th>\n",
       "      <td>1.732045</td>\n",
       "      <td>1.730417</td>\n",
       "      <td>3.473445</td>\n",
       "      <td>44.749921</td>\n",
       "    </tr>\n",
       "    <tr>\n",
       "      <th>min</th>\n",
       "      <td>-8.760004</td>\n",
       "      <td>-7.084020</td>\n",
       "      <td>-11.970335</td>\n",
       "      <td>0.000000</td>\n",
       "    </tr>\n",
       "    <tr>\n",
       "      <th>25%</th>\n",
       "      <td>-1.162288</td>\n",
       "      <td>-1.174820</td>\n",
       "      <td>0.130359</td>\n",
       "      <td>59.450441</td>\n",
       "    </tr>\n",
       "    <tr>\n",
       "      <th>50%</th>\n",
       "      <td>0.009424</td>\n",
       "      <td>-0.009482</td>\n",
       "      <td>2.484236</td>\n",
       "      <td>94.925613</td>\n",
       "    </tr>\n",
       "    <tr>\n",
       "      <th>75%</th>\n",
       "      <td>1.158535</td>\n",
       "      <td>1.163678</td>\n",
       "      <td>4.858794</td>\n",
       "      <td>130.595027</td>\n",
       "    </tr>\n",
       "    <tr>\n",
       "      <th>max</th>\n",
       "      <td>7.238262</td>\n",
       "      <td>7.844801</td>\n",
       "      <td>16.739402</td>\n",
       "      <td>190.029838</td>\n",
       "    </tr>\n",
       "  </tbody>\n",
       "</table>\n",
       "</div>"
      ],
      "text/plain": [
       "                  f0             f1             f2        product\n",
       "count  100000.000000  100000.000000  100000.000000  100000.000000\n",
       "mean        0.002023      -0.002081       2.495128      95.000000\n",
       "std         1.732045       1.730417       3.473445      44.749921\n",
       "min        -8.760004      -7.084020     -11.970335       0.000000\n",
       "25%        -1.162288      -1.174820       0.130359      59.450441\n",
       "50%         0.009424      -0.009482       2.484236      94.925613\n",
       "75%         1.158535       1.163678       4.858794     130.595027\n",
       "max         7.238262       7.844801      16.739402     190.029838"
      ]
     },
     "execution_count": 4,
     "metadata": {},
     "output_type": "execute_result"
    }
   ],
   "source": [
    "try:\n",
    "    geo_data_2 = pd.read_csv('C:/Users/acer/YandexDisk/Учеба/Я. Практикум/Data/geo_data_2.csv')\n",
    "except:\n",
    "    geo_data_2 = pd.read_csv('/datasets/geo_data_2.csv')\n",
    "print(geo_data_2.info())\n",
    "geo_data_2.describe()"
   ]
  },
  {
   "cell_type": "code",
   "execution_count": 5,
   "id": "152c10c8",
   "metadata": {},
   "outputs": [
    {
     "data": {
      "text/plain": [
       "10"
      ]
     },
     "execution_count": 5,
     "metadata": {},
     "output_type": "execute_result"
    }
   ],
   "source": [
    "geo_data_0['id'].duplicated().sum()"
   ]
  },
  {
   "cell_type": "code",
   "execution_count": 6,
   "id": "ff995d4b",
   "metadata": {},
   "outputs": [
    {
     "data": {
      "text/plain": [
       "4"
      ]
     },
     "execution_count": 6,
     "metadata": {},
     "output_type": "execute_result"
    }
   ],
   "source": [
    "geo_data_1['id'].duplicated().sum()"
   ]
  },
  {
   "cell_type": "code",
   "execution_count": 7,
   "id": "e3d9e864",
   "metadata": {},
   "outputs": [
    {
     "data": {
      "text/plain": [
       "4"
      ]
     },
     "execution_count": 7,
     "metadata": {},
     "output_type": "execute_result"
    }
   ],
   "source": [
    "geo_data_2['id'].duplicated().sum()"
   ]
  },
  {
   "cell_type": "markdown",
   "id": "25a406e4",
   "metadata": {},
   "source": [
    "Каждые данные имеют 10000 строк, пропуски в них отсутствуют. Также в данных присутствуют скважины с одинаковыми 'id'."
   ]
  },
  {
   "cell_type": "markdown",
   "id": "4ebe4cde",
   "metadata": {},
   "source": [
    "## Разбивка датасетов на выборки"
   ]
  },
  {
   "cell_type": "code",
   "execution_count": 8,
   "id": "c75584cc",
   "metadata": {},
   "outputs": [
    {
     "data": {
      "text/plain": [
       "0        105.280062\n",
       "1         73.037750\n",
       "2         85.265647\n",
       "3        168.620776\n",
       "4        154.036647\n",
       "            ...    \n",
       "99995    110.744026\n",
       "99996    122.346843\n",
       "99997     64.375443\n",
       "99998     74.040764\n",
       "99999    149.633246\n",
       "Name: product, Length: 100000, dtype: float64"
      ]
     },
     "execution_count": 8,
     "metadata": {},
     "output_type": "execute_result"
    }
   ],
   "source": [
    "#geo_data_0\n",
    "features_0 = geo_data_0.drop(['id', 'product'], axis=1)\n",
    "target_0 = geo_data_0['product']\n",
    "target_0"
   ]
  },
  {
   "cell_type": "code",
   "execution_count": 9,
   "id": "259ea668",
   "metadata": {},
   "outputs": [
    {
     "data": {
      "text/plain": [
       "0          3.179103\n",
       "1         26.953261\n",
       "2        134.766305\n",
       "3        137.945408\n",
       "4        134.766305\n",
       "            ...    \n",
       "99995     53.906522\n",
       "99996    137.945408\n",
       "99997    137.945408\n",
       "99998     30.132364\n",
       "99999      3.179103\n",
       "Name: product, Length: 100000, dtype: float64"
      ]
     },
     "execution_count": 9,
     "metadata": {},
     "output_type": "execute_result"
    }
   ],
   "source": [
    "#geo_data_1\n",
    "features_1 = geo_data_1.drop(['id', 'product'], axis=1)\n",
    "target_1 = geo_data_1['product']\n",
    "target_1"
   ]
  },
  {
   "cell_type": "code",
   "execution_count": 10,
   "id": "20704d2b",
   "metadata": {},
   "outputs": [
    {
     "data": {
      "text/plain": [
       "0         27.758673\n",
       "1         56.069697\n",
       "2         62.871910\n",
       "3        114.572842\n",
       "4        149.600746\n",
       "            ...    \n",
       "99995    172.327046\n",
       "99996    138.748846\n",
       "99997    157.080080\n",
       "99998     51.795253\n",
       "99999    102.775767\n",
       "Name: product, Length: 100000, dtype: float64"
      ]
     },
     "execution_count": 10,
     "metadata": {},
     "output_type": "execute_result"
    }
   ],
   "source": [
    "#geo_data_2\n",
    "features_2 = geo_data_2.drop(['id', 'product'], axis=1)\n",
    "target_2 = geo_data_2['product']\n",
    "target_2"
   ]
  },
  {
   "cell_type": "markdown",
   "id": "794513a2",
   "metadata": {},
   "source": [
    "### Разбивка на выборки и обучение по датасету geo_data_0"
   ]
  },
  {
   "cell_type": "code",
   "execution_count": 11,
   "id": "562b7245",
   "metadata": {},
   "outputs": [],
   "source": [
    "features_train_0, features_valid_0, target_train_0, target_valid_0 = train_test_split(features_0,\n",
    "                                                                                      target_0,\n",
    "                                                                                      test_size=0.25,\n",
    "                                                                                      random_state=12345\n",
    "                                                                                     )"
   ]
  },
  {
   "cell_type": "code",
   "execution_count": 12,
   "id": "cb0b105e",
   "metadata": {},
   "outputs": [
    {
     "name": "stdout",
     "output_type": "stream",
     "text": [
      "(75000, 3) (25000, 3)\n"
     ]
    }
   ],
   "source": [
    "print(features_train_0.shape, features_valid_0.shape)"
   ]
  },
  {
   "cell_type": "code",
   "execution_count": 13,
   "id": "d8958118",
   "metadata": {},
   "outputs": [
    {
     "name": "stdout",
     "output_type": "stream",
     "text": [
      "Запас среднего запаса сырья первого региона равен 92.59256778438035\n",
      "RMSE модели равен 37.5794217150813\n"
     ]
    }
   ],
   "source": [
    "model_0 = LinearRegression()\n",
    "model_0.fit(features_train_0, target_train_0)\n",
    "prediction_0 = model_0.predict(features_valid_0)\n",
    "prediction_0 = pd.Series(prediction_0, index=target_valid_0.index)\n",
    "rmse_0 = mean_squared_error(target_valid_0, prediction_0) ** 0.5\n",
    "print('Запас среднего запаса сырья первого региона равен', prediction_0.mean())\n",
    "print('RMSE модели равен', rmse_0)"
   ]
  },
  {
   "cell_type": "markdown",
   "id": "9db50135",
   "metadata": {},
   "source": [
    "### Разбивка на выборки и обучение по датасету geo_data_1"
   ]
  },
  {
   "cell_type": "code",
   "execution_count": 14,
   "id": "28536fc5",
   "metadata": {},
   "outputs": [],
   "source": [
    "features_train_1, features_valid_1, target_train_1, target_valid_1 = train_test_split(features_1,\n",
    "                                                                                      target_1,\n",
    "                                                                                      test_size=0.25,\n",
    "                                                                                      random_state=12345\n",
    "                                                                                     )"
   ]
  },
  {
   "cell_type": "code",
   "execution_count": 15,
   "id": "e5c41cbc",
   "metadata": {},
   "outputs": [
    {
     "name": "stdout",
     "output_type": "stream",
     "text": [
      "(75000, 3) (25000, 3)\n"
     ]
    }
   ],
   "source": [
    "print(features_train_1.shape, features_valid_1.shape)"
   ]
  },
  {
   "cell_type": "code",
   "execution_count": 16,
   "id": "02a461c4",
   "metadata": {},
   "outputs": [
    {
     "name": "stdout",
     "output_type": "stream",
     "text": [
      "Запас среднего запаса сырья второго региона равен 68.728546895446\n",
      "RMSE модели равен 0.893099286775617\n"
     ]
    }
   ],
   "source": [
    "model_1 = LinearRegression()\n",
    "model_1.fit(features_train_1, target_train_1)\n",
    "prediction_1 = model_1.predict(features_valid_1)\n",
    "prediction_1 = pd.Series(prediction_1, index=target_valid_1.index)\n",
    "rmse_1 = mean_squared_error(target_valid_1, prediction_1) ** 0.5\n",
    "print('Запас среднего запаса сырья второго региона равен', prediction_1.mean())\n",
    "print('RMSE модели равен', rmse_1)"
   ]
  },
  {
   "cell_type": "markdown",
   "id": "49d8f735",
   "metadata": {},
   "source": [
    "### Разбивка на выборки и обучение по датасету geo_data_2"
   ]
  },
  {
   "cell_type": "code",
   "execution_count": 17,
   "id": "84dced9e",
   "metadata": {},
   "outputs": [],
   "source": [
    "features_train_2, features_valid_2, target_train_2, target_valid_2 = train_test_split(features_2,\n",
    "                                                                                      target_2,\n",
    "                                                                                      test_size=0.25,\n",
    "                                                                                      random_state=12345\n",
    "                                                                                     )"
   ]
  },
  {
   "cell_type": "code",
   "execution_count": 18,
   "id": "c97d15bb",
   "metadata": {},
   "outputs": [
    {
     "name": "stdout",
     "output_type": "stream",
     "text": [
      "(75000, 3) (25000, 3)\n"
     ]
    }
   ],
   "source": [
    "print(features_train_2.shape, features_valid_2.shape)"
   ]
  },
  {
   "cell_type": "code",
   "execution_count": 19,
   "id": "ae7ac46a",
   "metadata": {},
   "outputs": [
    {
     "name": "stdout",
     "output_type": "stream",
     "text": [
      "Запас среднего запаса сырья третьего региона равен 94.96504596800489\n",
      "RMSE модели равен 40.02970873393434\n"
     ]
    }
   ],
   "source": [
    "model_2 = LinearRegression()\n",
    "model_2.fit(features_train_2, target_train_2)\n",
    "prediction_2 = model_2.predict(features_valid_2)\n",
    "prediction_2 = pd.Series(prediction_2, index=target_valid_2.index)\n",
    "rmse_2 = mean_squared_error(target_valid_2, prediction_2) ** 0.5\n",
    "print('Запас среднего запаса сырья третьего региона равен', prediction_2.mean())\n",
    "print('RMSE модели равен', rmse_2)"
   ]
  },
  {
   "cell_type": "markdown",
   "id": "8bbb3be3",
   "metadata": {},
   "source": [
    "Средние показатели предсказаний по среднему запасу сырья практически одинаковы со средними значениями всей выборки"
   ]
  },
  {
   "cell_type": "markdown",
   "id": "5439b980",
   "metadata": {},
   "source": [
    "## Подготовка к расчету прибыли"
   ]
  },
  {
   "cell_type": "code",
   "execution_count": 20,
   "id": "3edb19bb",
   "metadata": {},
   "outputs": [
    {
     "name": "stdout",
     "output_type": "stream",
     "text": [
      "Достаточный объём сырья для безубыточной разработки новой скважины равен 111.11\n"
     ]
    }
   ],
   "source": [
    "BUDGET = 10000000000\n",
    "INCOME = 450000\n",
    "N = 200\n",
    "value = BUDGET / INCOME / N\n",
    "print(f'Достаточный объём сырья для безубыточной разработки новой скважины равен {round(value, 2)}')"
   ]
  },
  {
   "cell_type": "code",
   "execution_count": 21,
   "id": "46b95566",
   "metadata": {},
   "outputs": [
    {
     "name": "stdout",
     "output_type": "stream",
     "text": [
      "Доля среднего запас сырья по 1 региону от 111 баррелей 0.83\n",
      "Доля среднего запас сырья по 2 региону от 111 баррелей 0.62\n",
      "Доля среднего запас сырья по 3 региону от 111 баррелей 0.86\n"
     ]
    }
   ],
   "source": [
    "perc_0 = geo_data_0['product'].mean() / value\n",
    "perc_1 = geo_data_1['product'].mean() / value\n",
    "perc_2 = geo_data_2['product'].mean() / value\n",
    "print(f'Доля среднего запас сырья по 1 региону от 111 баррелей {round(perc_0, 2)}')\n",
    "print(f'Доля среднего запас сырья по 2 региону от 111 баррелей {round(perc_1, 2)}')\n",
    "print(f'Доля среднего запас сырья по 3 региону от 111 баррелей {round(perc_2, 2)}')"
   ]
  },
  {
   "cell_type": "markdown",
   "id": "d95d9bb4",
   "metadata": {},
   "source": [
    "## Функция для расчёта прибыли по выбранным скважинам и предсказаниям модели"
   ]
  },
  {
   "cell_type": "code",
   "execution_count": 22,
   "id": "3bb75e34",
   "metadata": {},
   "outputs": [
    {
     "name": "stdout",
     "output_type": "stream",
     "text": [
      "Количество скважин 1-ого региона, где объем запаса сырья больше 111 баррелей = 36676\n",
      "Количество скважин 2-ого региона, где объем запаса сырья больше 111 баррелей = 16537\n",
      "Количество скважин 3-ого региона, где объем запаса сырья больше 111 баррелей = 38278\n"
     ]
    }
   ],
   "source": [
    "count_0 = geo_data_0.loc[geo_data_0['product'] > 111, 'product'].count()\n",
    "count_1 = geo_data_1.loc[geo_data_1['product'] > 111, 'product'].count()\n",
    "count_2 = geo_data_2.loc[geo_data_2['product'] > 111, 'product'].count()\n",
    "\n",
    "print(f'Количество скважин 1-ого региона, где объем запаса сырья больше 111 баррелей = {count_0}')\n",
    "print(f'Количество скважин 2-ого региона, где объем запаса сырья больше 111 баррелей = {count_1}')\n",
    "print(f'Количество скважин 3-ого региона, где объем запаса сырья больше 111 баррелей = {count_2}')"
   ]
  },
  {
   "cell_type": "code",
   "execution_count": 23,
   "id": "9b0dbaea",
   "metadata": {},
   "outputs": [],
   "source": [
    "#prediction_0 = pd.Series(prediction_0)\n",
    "#prediction_1 = pd.Series(prediction_1)\n",
    "#prediction_2 = pd.Series(prediction_2)"
   ]
  },
  {
   "cell_type": "code",
   "execution_count": 24,
   "id": "8d5a7bac",
   "metadata": {
    "scrolled": true
   },
   "outputs": [],
   "source": [
    "#target_valid_0.sort_values(ascending=False)"
   ]
  },
  {
   "cell_type": "code",
   "execution_count": 34,
   "id": "3a03e61a",
   "metadata": {},
   "outputs": [
    {
     "name": "stdout",
     "output_type": "stream",
     "text": [
      "Прибыль первого региона для полученного объема сырья с 200 лучших скважин равна 3.32 млрд. руб.\n",
      "Прибыль второго региона для полученного объема сырья с 200 лучших скважин равна 2.42 млрд. руб.\n",
      "Прибыль третьего региона для полученного объема сырья с 200 лучших скважин равна 2.71 млрд. руб.\n"
     ]
    }
   ],
   "source": [
    "def income_func(prediction, target):\n",
    "#     probs = prediction.sort_values(ascending=False)[:200]\n",
    "#     selected = target[probs.index]\n",
    "    # код ревьюера\n",
    "    probs = prediction.sort_values(ascending=False)\n",
    "    selected = target[probs.index][:200]\n",
    "    sum_target = selected.sum()\n",
    "    return round(round((sum_target*INCOME) - BUDGET, 2)/1000000000, 2)\n",
    "\n",
    "print(f'Прибыль первого региона для полученного объема сырья с 200 лучших скважин равна {income_func(prediction_0, target_0)} млрд. руб.')\n",
    "print(f'Прибыль второго региона для полученного объема сырья с 200 лучших скважин равна {income_func(prediction_1, target_1)} млрд. руб.')\n",
    "print(f'Прибыль третьего региона для полученного объема сырья с 200 лучших скважин равна {income_func(prediction_2, target_2)} млрд. руб.')"
   ]
  },
  {
   "cell_type": "markdown",
   "id": "77f97943",
   "metadata": {},
   "source": [
    "В итоге, если брать наилучшие по добыче скважины в каждом регионе, то каждый регион будет прибыльним. Самый прибыльный из них - первый регион"
   ]
  },
  {
   "cell_type": "markdown",
   "id": "14507303",
   "metadata": {},
   "source": [
    "## Риски и прибыль каждого ргеиона"
   ]
  },
  {
   "cell_type": "code",
   "execution_count": 26,
   "id": "9ed46d3b",
   "metadata": {},
   "outputs": [],
   "source": [
    "def bootstrap_func(prediction, target, name):\n",
    "    \n",
    "    state = np.random.RandomState(12345)\n",
    "    \n",
    "    profit = []\n",
    "\n",
    "    for i in tqdm(range(1000)):\n",
    "        prediction_new = prediction.sample(500, replace=True, random_state=state)\n",
    "        target_new = target[prediction_new.index]\n",
    "        profit.append(income_func(prediction_new, target_new))\n",
    "        \n",
    "    profit_list = pd.Series(profit)\n",
    "    profit_mean = profit_list.mean()\n",
    "\n",
    "    lower = profit_list.quantile(0.025)\n",
    "    upper = profit_list.quantile(0.975)\n",
    "\n",
    "    loss_prob = (profit_list < 0).mean() * 100\n",
    "    \n",
    "    print(f'Средняя прибыль {name} региона равна: {round(profit_mean, 2)} млрд. руб.')\n",
    "    print(f'Доверительный интервал {name} региона равен от {round(lower, 2)} млрд. руб. до {round(upper, 2)} млрд. руб.')\n",
    "    print(f'Риск убытков {name} региона равен: {round(loss_prob, 2)}%')\n",
    "    \n",
    "    return profit"
   ]
  },
  {
   "cell_type": "code",
   "execution_count": 35,
   "id": "f22f65cd",
   "metadata": {},
   "outputs": [
    {
     "name": "stderr",
     "output_type": "stream",
     "text": [
      "100%|██████████| 1000/1000 [00:01<00:00, 780.42it/s]"
     ]
    },
    {
     "name": "stdout",
     "output_type": "stream",
     "text": [
      "Средняя прибыль 1 региона равна: 0.43 млрд. руб.\n",
      "Доверительный интервал 1 региона равен от -0.1 млрд. руб. до 0.95 млрд. руб.\n",
      "Риск убытков 1 региона равен: 5.9%\n"
     ]
    },
    {
     "name": "stderr",
     "output_type": "stream",
     "text": [
      "\n"
     ]
    }
   ],
   "source": [
    "profit_0 = bootstrap_func(prediction_0, target_valid_0, '1')"
   ]
  },
  {
   "cell_type": "code",
   "execution_count": 36,
   "id": "780ad0bd",
   "metadata": {},
   "outputs": [
    {
     "name": "stderr",
     "output_type": "stream",
     "text": [
      "100%|██████████| 1000/1000 [00:01<00:00, 793.27it/s]"
     ]
    },
    {
     "name": "stdout",
     "output_type": "stream",
     "text": [
      "Средняя прибыль 2 региона равна: 0.52 млрд. руб.\n",
      "Доверительный интервал 2 региона равен от 0.07 млрд. руб. до 0.93 млрд. руб.\n",
      "Риск убытков 2 региона равен: 1.0%\n"
     ]
    },
    {
     "name": "stderr",
     "output_type": "stream",
     "text": [
      "\n"
     ]
    }
   ],
   "source": [
    "profit_1 = bootstrap_func(prediction_1, target_valid_1, '2')"
   ]
  },
  {
   "cell_type": "code",
   "execution_count": 37,
   "id": "6c6f6cb1",
   "metadata": {},
   "outputs": [
    {
     "name": "stderr",
     "output_type": "stream",
     "text": [
      "100%|██████████| 1000/1000 [00:01<00:00, 728.07it/s]"
     ]
    },
    {
     "name": "stdout",
     "output_type": "stream",
     "text": [
      "Средняя прибыль 3 региона равна: 0.43 млрд. руб.\n",
      "Доверительный интервал 3 региона равен от -0.13 млрд. руб. до 0.97 млрд. руб.\n",
      "Риск убытков 3 региона равен: 6.3%\n"
     ]
    },
    {
     "name": "stderr",
     "output_type": "stream",
     "text": [
      "\n"
     ]
    }
   ],
   "source": [
    "profit_2 = bootstrap_func(prediction_2, target_valid_2, '3')"
   ]
  },
  {
   "cell_type": "markdown",
   "id": "dc154868",
   "metadata": {},
   "source": [
    "<div style=\"border:solid orange 2px; padding: 20px\">\n",
    "\n",
    "## Вывод\n",
    "\n",
    "В данном проекте были предоставлены данные трех регионов по добыче нефти, с характеристиками скважин (качество и объем запасов). \\\n",
    "В каждом датасете имелось 10000 значений для разных скважин. Но в данных присутствовали некоторые дубликаты, природа которых неизвестна, поэтому были оставлены, как есть. Пропусков в данных обнаружено не было.\n",
    "\n",
    "Все эти данные использовались для прогноза прибыльности региона, если взять 200 наиболее прибыльных скважин.\n",
    "\n",
    "Данные были разбиты на тренировочные и тестовые выборки, в качестве целевого признака был взять объем запасов скважины.\n",
    "\n",
    "В ходе анализа было выяснено, что для прибыльности региона, объем запаса сырья новой скважины должен быть более 111 баррелей.\n",
    "\n",
    "В конечном итоге, максимальная суммарная прибыль среди всех регионов должна быть у второго региона, которая равна 0.67 млрд. руб. Также этот регион наилучший по наименьшему риску убытков. Риск убытков в этом регионе составляет 0.3%"
   ]
  }
 ],
 "metadata": {
  "ExecuteTimeLog": [
   {
    "duration": 1679,
    "start_time": "2023-04-29T09:30:33.183Z"
   },
   {
    "duration": 210,
    "start_time": "2023-04-29T09:30:34.864Z"
   },
   {
    "duration": 178,
    "start_time": "2023-04-29T09:30:35.076Z"
   },
   {
    "duration": 184,
    "start_time": "2023-04-29T09:30:35.256Z"
   },
   {
    "duration": 18,
    "start_time": "2023-04-29T09:30:35.442Z"
   },
   {
    "duration": 43,
    "start_time": "2023-04-29T09:30:35.462Z"
   },
   {
    "duration": 32,
    "start_time": "2023-04-29T09:30:35.507Z"
   },
   {
    "duration": 34,
    "start_time": "2023-04-29T09:30:35.541Z"
   },
   {
    "duration": 24,
    "start_time": "2023-04-29T09:30:35.578Z"
   },
   {
    "duration": 16,
    "start_time": "2023-04-29T09:30:35.604Z"
   },
   {
    "duration": 20,
    "start_time": "2023-04-29T09:30:35.621Z"
   },
   {
    "duration": 4,
    "start_time": "2023-04-29T09:30:35.643Z"
   },
   {
    "duration": 53,
    "start_time": "2023-04-29T09:30:35.649Z"
   },
   {
    "duration": 185,
    "start_time": "2023-04-29T09:30:35.707Z"
   },
   {
    "duration": 3,
    "start_time": "2023-04-29T09:30:35.894Z"
   },
   {
    "duration": 18,
    "start_time": "2023-04-29T09:30:35.899Z"
   },
   {
    "duration": 74,
    "start_time": "2023-04-29T09:30:35.918Z"
   },
   {
    "duration": 4,
    "start_time": "2023-04-29T09:30:35.994Z"
   },
   {
    "duration": 104,
    "start_time": "2023-04-29T09:30:36.000Z"
   },
   {
    "duration": 86,
    "start_time": "2023-04-29T09:30:36.106Z"
   },
   {
    "duration": 98,
    "start_time": "2023-04-29T09:30:36.198Z"
   },
   {
    "duration": 15,
    "start_time": "2023-04-29T09:30:36.298Z"
   },
   {
    "duration": 8,
    "start_time": "2023-04-29T09:30:36.314Z"
   },
   {
    "duration": 6,
    "start_time": "2023-04-29T09:30:36.325Z"
   },
   {
    "duration": 38,
    "start_time": "2023-04-29T09:30:36.332Z"
   },
   {
    "duration": 5,
    "start_time": "2023-04-29T09:30:36.372Z"
   },
   {
    "duration": 122,
    "start_time": "2023-04-29T09:30:36.379Z"
   },
   {
    "duration": 0,
    "start_time": "2023-04-29T09:30:36.502Z"
   },
   {
    "duration": 0,
    "start_time": "2023-04-29T09:30:36.505Z"
   },
   {
    "duration": 4,
    "start_time": "2023-04-29T09:31:15.416Z"
   },
   {
    "duration": 1763,
    "start_time": "2023-04-29T09:35:32.107Z"
   },
   {
    "duration": 230,
    "start_time": "2023-04-29T09:35:33.872Z"
   },
   {
    "duration": 210,
    "start_time": "2023-04-29T09:35:34.104Z"
   },
   {
    "duration": 223,
    "start_time": "2023-04-29T09:35:34.315Z"
   },
   {
    "duration": 19,
    "start_time": "2023-04-29T09:35:34.541Z"
   },
   {
    "duration": 49,
    "start_time": "2023-04-29T09:35:34.561Z"
   },
   {
    "duration": 26,
    "start_time": "2023-04-29T09:35:34.612Z"
   },
   {
    "duration": 8,
    "start_time": "2023-04-29T09:35:34.641Z"
   },
   {
    "duration": 14,
    "start_time": "2023-04-29T09:35:34.651Z"
   },
   {
    "duration": 9,
    "start_time": "2023-04-29T09:35:34.667Z"
   },
   {
    "duration": 45,
    "start_time": "2023-04-29T09:35:34.678Z"
   },
   {
    "duration": 34,
    "start_time": "2023-04-29T09:35:34.725Z"
   },
   {
    "duration": 31,
    "start_time": "2023-04-29T09:35:34.761Z"
   },
   {
    "duration": 15,
    "start_time": "2023-04-29T09:35:34.796Z"
   },
   {
    "duration": 4,
    "start_time": "2023-04-29T09:35:34.813Z"
   },
   {
    "duration": 91,
    "start_time": "2023-04-29T09:35:34.819Z"
   },
   {
    "duration": 180,
    "start_time": "2023-04-29T09:35:34.912Z"
   },
   {
    "duration": 6,
    "start_time": "2023-04-29T09:35:35.094Z"
   },
   {
    "duration": 22,
    "start_time": "2023-04-29T09:35:35.102Z"
   },
   {
    "duration": 72,
    "start_time": "2023-04-29T09:35:35.128Z"
   },
   {
    "duration": 7,
    "start_time": "2023-04-29T09:35:35.202Z"
   },
   {
    "duration": 90,
    "start_time": "2023-04-29T09:35:35.211Z"
   },
   {
    "duration": 2,
    "start_time": "2023-04-29T09:35:35.304Z"
   },
   {
    "duration": 3,
    "start_time": "2023-04-29T09:35:35.308Z"
   },
   {
    "duration": 14,
    "start_time": "2023-04-29T09:35:35.313Z"
   },
   {
    "duration": 4,
    "start_time": "2023-04-29T09:35:35.329Z"
   },
   {
    "duration": 222504,
    "start_time": "2023-04-29T09:35:35.335Z"
   },
   {
    "duration": 0,
    "start_time": "2023-04-29T09:39:17.841Z"
   },
   {
    "duration": 0,
    "start_time": "2023-04-29T09:39:17.843Z"
   },
   {
    "duration": 6,
    "start_time": "2023-04-29T09:39:22.925Z"
   },
   {
    "duration": 5,
    "start_time": "2023-04-29T09:39:38.785Z"
   },
   {
    "duration": 7,
    "start_time": "2023-04-29T09:40:03.501Z"
   },
   {
    "duration": 35144,
    "start_time": "2023-04-29T09:40:06.727Z"
   },
   {
    "duration": 7,
    "start_time": "2023-04-29T09:41:07.761Z"
   },
   {
    "duration": 44,
    "start_time": "2023-04-29T09:41:09.000Z"
   },
   {
    "duration": 4,
    "start_time": "2023-04-29T09:41:20.847Z"
   },
   {
    "duration": 24,
    "start_time": "2023-04-29T09:43:00.901Z"
   },
   {
    "duration": 5,
    "start_time": "2023-04-29T09:43:06.520Z"
   },
   {
    "duration": 17,
    "start_time": "2023-04-29T09:43:07.961Z"
   },
   {
    "duration": 7,
    "start_time": "2023-04-29T09:43:26.503Z"
   },
   {
    "duration": 5596,
    "start_time": "2023-04-29T09:43:28.139Z"
   },
   {
    "duration": 16,
    "start_time": "2023-04-29T09:43:54.269Z"
   },
   {
    "duration": 1066,
    "start_time": "2023-04-30T17:26:50.471Z"
   },
   {
    "duration": 895,
    "start_time": "2023-04-30T17:26:51.539Z"
   },
   {
    "duration": 608,
    "start_time": "2023-04-30T17:26:52.435Z"
   },
   {
    "duration": 595,
    "start_time": "2023-04-30T17:26:53.045Z"
   },
   {
    "duration": 25,
    "start_time": "2023-04-30T17:26:53.641Z"
   },
   {
    "duration": 36,
    "start_time": "2023-04-30T17:26:53.668Z"
   },
   {
    "duration": 27,
    "start_time": "2023-04-30T17:26:53.706Z"
   },
   {
    "duration": 8,
    "start_time": "2023-04-30T17:26:53.734Z"
   },
   {
    "duration": 20,
    "start_time": "2023-04-30T17:26:53.743Z"
   },
   {
    "duration": 11,
    "start_time": "2023-04-30T17:26:53.766Z"
   },
   {
    "duration": 17,
    "start_time": "2023-04-30T17:26:53.779Z"
   },
   {
    "duration": 4,
    "start_time": "2023-04-30T17:26:53.798Z"
   },
   {
    "duration": 65,
    "start_time": "2023-04-30T17:26:53.804Z"
   },
   {
    "duration": 15,
    "start_time": "2023-04-30T17:26:53.957Z"
   },
   {
    "duration": 55,
    "start_time": "2023-04-30T17:26:53.974Z"
   },
   {
    "duration": 72,
    "start_time": "2023-04-30T17:26:54.031Z"
   },
   {
    "duration": 151,
    "start_time": "2023-04-30T17:26:54.105Z"
   },
   {
    "duration": 4,
    "start_time": "2023-04-30T17:26:54.258Z"
   },
   {
    "duration": 27,
    "start_time": "2023-04-30T17:26:54.264Z"
   },
   {
    "duration": 64,
    "start_time": "2023-04-30T17:26:54.293Z"
   },
   {
    "duration": 104,
    "start_time": "2023-04-30T17:26:54.359Z"
   },
   {
    "duration": 10,
    "start_time": "2023-04-30T17:26:54.464Z"
   },
   {
    "duration": 7,
    "start_time": "2023-04-30T17:26:54.476Z"
   },
   {
    "duration": 11,
    "start_time": "2023-04-30T17:26:54.485Z"
   },
   {
    "duration": 54,
    "start_time": "2023-04-30T17:26:54.497Z"
   },
   {
    "duration": 5,
    "start_time": "2023-04-30T17:26:54.553Z"
   },
   {
    "duration": 134,
    "start_time": "2023-04-30T17:27:15.223Z"
   },
   {
    "duration": 5,
    "start_time": "2023-04-30T17:31:55.491Z"
   },
   {
    "duration": 28,
    "start_time": "2023-04-30T17:31:58.053Z"
   },
   {
    "duration": 5,
    "start_time": "2023-04-30T17:32:14.589Z"
   },
   {
    "duration": 28,
    "start_time": "2023-04-30T17:32:17.037Z"
   },
   {
    "duration": 5,
    "start_time": "2023-04-30T17:32:31.647Z"
   },
   {
    "duration": 29,
    "start_time": "2023-04-30T17:32:38.321Z"
   },
   {
    "duration": 4,
    "start_time": "2023-04-30T17:32:46.234Z"
   },
   {
    "duration": 24,
    "start_time": "2023-04-30T17:32:49.493Z"
   },
   {
    "duration": 4,
    "start_time": "2023-04-30T17:32:56.579Z"
   },
   {
    "duration": 1281,
    "start_time": "2023-04-30T17:33:01.487Z"
   },
   {
    "duration": 1299,
    "start_time": "2023-04-30T17:33:09.089Z"
   },
   {
    "duration": 1429,
    "start_time": "2023-04-30T17:33:11.737Z"
   },
   {
    "duration": 5,
    "start_time": "2023-04-30T17:33:25.774Z"
   },
   {
    "duration": 1190,
    "start_time": "2023-04-30T17:33:26.366Z"
   },
   {
    "duration": 1200,
    "start_time": "2023-04-30T17:33:27.558Z"
   },
   {
    "duration": 1197,
    "start_time": "2023-04-30T17:33:28.759Z"
   },
   {
    "duration": 6,
    "start_time": "2023-04-30T17:34:24.189Z"
   },
   {
    "duration": 1277,
    "start_time": "2023-04-30T17:34:24.661Z"
   },
   {
    "duration": 1216,
    "start_time": "2023-04-30T17:34:25.940Z"
   },
   {
    "duration": 1225,
    "start_time": "2023-04-30T17:34:27.157Z"
   },
   {
    "duration": 605,
    "start_time": "2023-04-30T17:58:07.111Z"
   },
   {
    "duration": 57,
    "start_time": "2023-04-30T17:58:20.843Z"
   },
   {
    "duration": 54,
    "start_time": "2023-04-30T17:58:23.720Z"
   },
   {
    "duration": 6,
    "start_time": "2023-04-30T17:59:13.612Z"
   },
   {
    "duration": 1551,
    "start_time": "2023-04-30T17:59:16.279Z"
   },
   {
    "duration": 1483,
    "start_time": "2023-04-30T17:59:42.707Z"
   },
   {
    "duration": 1445,
    "start_time": "2023-04-30T17:59:52.015Z"
   },
   {
    "duration": 10,
    "start_time": "2023-04-30T18:00:16.754Z"
   },
   {
    "duration": 4,
    "start_time": "2023-04-30T18:00:16.843Z"
   },
   {
    "duration": 1624,
    "start_time": "2023-04-30T18:00:19.622Z"
   },
   {
    "duration": 5,
    "start_time": "2023-04-30T18:00:46.040Z"
   },
   {
    "duration": 1490,
    "start_time": "2023-04-30T18:00:48.737Z"
   },
   {
    "duration": 4,
    "start_time": "2023-04-30T18:00:58.833Z"
   },
   {
    "duration": 1606,
    "start_time": "2023-04-30T18:01:01.612Z"
   },
   {
    "duration": 5,
    "start_time": "2023-04-30T18:01:07.309Z"
   },
   {
    "duration": 1692,
    "start_time": "2023-04-30T18:01:07.844Z"
   },
   {
    "duration": 9,
    "start_time": "2023-04-30T18:01:21.459Z"
   },
   {
    "duration": 1609,
    "start_time": "2023-04-30T18:01:21.752Z"
   },
   {
    "duration": 1586,
    "start_time": "2023-04-30T18:01:24.214Z"
   },
   {
    "duration": 1516,
    "start_time": "2023-04-30T18:01:25.802Z"
   },
   {
    "duration": 19,
    "start_time": "2023-04-30T18:07:03.923Z"
   },
   {
    "duration": 18,
    "start_time": "2023-04-30T18:07:34.118Z"
   },
   {
    "duration": 14,
    "start_time": "2023-04-30T18:07:59.118Z"
   },
   {
    "duration": 1358,
    "start_time": "2023-05-01T08:46:30.906Z"
   },
   {
    "duration": 403,
    "start_time": "2023-05-01T08:46:32.266Z"
   },
   {
    "duration": 234,
    "start_time": "2023-05-01T08:46:32.670Z"
   },
   {
    "duration": 234,
    "start_time": "2023-05-01T08:46:32.906Z"
   },
   {
    "duration": 14,
    "start_time": "2023-05-01T08:46:33.141Z"
   },
   {
    "duration": 22,
    "start_time": "2023-05-01T08:46:33.156Z"
   },
   {
    "duration": 17,
    "start_time": "2023-05-01T08:46:33.179Z"
   },
   {
    "duration": 9,
    "start_time": "2023-05-01T08:46:33.197Z"
   },
   {
    "duration": 21,
    "start_time": "2023-05-01T08:46:33.207Z"
   },
   {
    "duration": 15,
    "start_time": "2023-05-01T08:46:33.230Z"
   },
   {
    "duration": 20,
    "start_time": "2023-05-01T08:46:33.246Z"
   },
   {
    "duration": 15,
    "start_time": "2023-05-01T08:46:33.267Z"
   },
   {
    "duration": 35,
    "start_time": "2023-05-01T08:46:33.283Z"
   },
   {
    "duration": 151,
    "start_time": "2023-05-01T08:46:33.323Z"
   },
   {
    "duration": 12,
    "start_time": "2023-05-01T08:46:33.476Z"
   },
   {
    "duration": 19,
    "start_time": "2023-05-01T08:46:33.490Z"
   },
   {
    "duration": 161,
    "start_time": "2023-05-01T08:46:33.511Z"
   },
   {
    "duration": 13,
    "start_time": "2023-05-01T08:46:33.674Z"
   },
   {
    "duration": 17,
    "start_time": "2023-05-01T08:46:33.689Z"
   },
   {
    "duration": 250,
    "start_time": "2023-05-01T08:46:33.707Z"
   },
   {
    "duration": 0,
    "start_time": "2023-05-01T08:46:33.958Z"
   },
   {
    "duration": 0,
    "start_time": "2023-05-01T08:46:33.959Z"
   },
   {
    "duration": 0,
    "start_time": "2023-05-01T08:46:33.960Z"
   },
   {
    "duration": 0,
    "start_time": "2023-05-01T08:46:33.971Z"
   },
   {
    "duration": 0,
    "start_time": "2023-05-01T08:46:33.972Z"
   },
   {
    "duration": 0,
    "start_time": "2023-05-01T08:46:33.973Z"
   },
   {
    "duration": 0,
    "start_time": "2023-05-01T08:46:33.974Z"
   },
   {
    "duration": 0,
    "start_time": "2023-05-01T08:46:33.975Z"
   },
   {
    "duration": 0,
    "start_time": "2023-05-01T08:46:33.976Z"
   },
   {
    "duration": 4,
    "start_time": "2023-05-01T08:47:09.215Z"
   },
   {
    "duration": 6,
    "start_time": "2023-05-01T08:47:13.145Z"
   },
   {
    "duration": 9,
    "start_time": "2023-05-01T08:47:14.553Z"
   },
   {
    "duration": 2,
    "start_time": "2023-05-01T08:47:15.534Z"
   },
   {
    "duration": 2,
    "start_time": "2023-05-01T08:47:15.723Z"
   },
   {
    "duration": 15,
    "start_time": "2023-05-01T08:47:15.912Z"
   },
   {
    "duration": 15,
    "start_time": "2023-05-01T08:47:35.068Z"
   },
   {
    "duration": 4,
    "start_time": "2023-05-01T08:47:41.466Z"
   },
   {
    "duration": 909,
    "start_time": "2023-05-01T08:47:42.184Z"
   },
   {
    "duration": 889,
    "start_time": "2023-05-01T08:47:43.094Z"
   },
   {
    "duration": 872,
    "start_time": "2023-05-01T08:47:43.984Z"
   },
   {
    "duration": 4,
    "start_time": "2023-05-01T08:48:35.643Z"
   },
   {
    "duration": 959,
    "start_time": "2023-05-01T08:48:36.113Z"
   },
   {
    "duration": 945,
    "start_time": "2023-05-01T08:48:37.074Z"
   },
   {
    "duration": 976,
    "start_time": "2023-05-01T08:48:38.020Z"
   },
   {
    "duration": 911,
    "start_time": "2023-05-01T09:01:24.389Z"
   },
   {
    "duration": 1013,
    "start_time": "2023-05-01T09:01:25.302Z"
   },
   {
    "duration": 928,
    "start_time": "2023-05-01T09:01:26.317Z"
   },
   {
    "duration": 2098,
    "start_time": "2023-05-02T08:17:02.781Z"
   },
   {
    "duration": 601,
    "start_time": "2023-05-02T08:17:04.881Z"
   },
   {
    "duration": 255,
    "start_time": "2023-05-02T08:17:05.484Z"
   },
   {
    "duration": 240,
    "start_time": "2023-05-02T08:17:05.741Z"
   },
   {
    "duration": 17,
    "start_time": "2023-05-02T08:17:05.983Z"
   },
   {
    "duration": 25,
    "start_time": "2023-05-02T08:17:06.002Z"
   },
   {
    "duration": 22,
    "start_time": "2023-05-02T08:17:06.028Z"
   },
   {
    "duration": 9,
    "start_time": "2023-05-02T08:17:06.051Z"
   },
   {
    "duration": 8,
    "start_time": "2023-05-02T08:17:06.061Z"
   },
   {
    "duration": 22,
    "start_time": "2023-05-02T08:17:06.073Z"
   },
   {
    "duration": 15,
    "start_time": "2023-05-02T08:17:06.097Z"
   },
   {
    "duration": 3,
    "start_time": "2023-05-02T08:17:06.113Z"
   },
   {
    "duration": 80,
    "start_time": "2023-05-02T08:17:06.118Z"
   },
   {
    "duration": 95,
    "start_time": "2023-05-02T08:17:06.199Z"
   },
   {
    "duration": 4,
    "start_time": "2023-05-02T08:17:06.296Z"
   },
   {
    "duration": 28,
    "start_time": "2023-05-02T08:17:06.302Z"
   },
   {
    "duration": 75,
    "start_time": "2023-05-02T08:17:06.331Z"
   },
   {
    "duration": 87,
    "start_time": "2023-05-02T08:17:06.408Z"
   },
   {
    "duration": 19,
    "start_time": "2023-05-02T08:17:06.497Z"
   },
   {
    "duration": 76,
    "start_time": "2023-05-02T08:17:06.520Z"
   },
   {
    "duration": 97,
    "start_time": "2023-05-02T08:17:06.599Z"
   },
   {
    "duration": 10,
    "start_time": "2023-05-02T08:17:06.699Z"
   },
   {
    "duration": 2,
    "start_time": "2023-05-02T08:17:06.711Z"
   },
   {
    "duration": 10,
    "start_time": "2023-05-02T08:17:06.715Z"
   },
   {
    "duration": 22,
    "start_time": "2023-05-02T08:17:06.726Z"
   },
   {
    "duration": 6,
    "start_time": "2023-05-02T08:17:06.750Z"
   },
   {
    "duration": 2610,
    "start_time": "2023-05-02T08:17:06.758Z"
   },
   {
    "duration": 2435,
    "start_time": "2023-05-02T08:17:09.372Z"
   },
   {
    "duration": 2389,
    "start_time": "2023-05-02T08:17:11.809Z"
   },
   {
    "duration": 14,
    "start_time": "2023-05-02T08:17:36.881Z"
   },
   {
    "duration": 1154,
    "start_time": "2023-05-02T08:17:40.553Z"
   },
   {
    "duration": 1142,
    "start_time": "2023-05-02T08:17:41.709Z"
   },
   {
    "duration": 1124,
    "start_time": "2023-05-02T08:17:42.853Z"
   },
   {
    "duration": 18,
    "start_time": "2023-05-02T08:21:54.657Z"
   },
   {
    "duration": 1290,
    "start_time": "2023-05-02T08:21:58.058Z"
   },
   {
    "duration": 1269,
    "start_time": "2023-05-02T08:21:59.349Z"
   },
   {
    "duration": 1381,
    "start_time": "2023-05-02T08:22:00.620Z"
   }
  ],
  "kernelspec": {
   "display_name": "Python 3 (ipykernel)",
   "language": "python",
   "name": "python3"
  },
  "language_info": {
   "codemirror_mode": {
    "name": "ipython",
    "version": 3
   },
   "file_extension": ".py",
   "mimetype": "text/x-python",
   "name": "python",
   "nbconvert_exporter": "python",
   "pygments_lexer": "ipython3",
   "version": "3.9.19"
  },
  "toc": {
   "base_numbering": 1,
   "nav_menu": {},
   "number_sections": true,
   "sideBar": true,
   "skip_h1_title": true,
   "title_cell": "Table of Contents",
   "title_sidebar": "Contents",
   "toc_cell": false,
   "toc_position": {},
   "toc_section_display": true,
   "toc_window_display": false
  }
 },
 "nbformat": 4,
 "nbformat_minor": 5
}
