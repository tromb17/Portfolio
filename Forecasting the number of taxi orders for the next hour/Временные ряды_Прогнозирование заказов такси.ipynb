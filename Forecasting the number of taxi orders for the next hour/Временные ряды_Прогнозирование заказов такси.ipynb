{
 "cells": [
  {
   "cell_type": "markdown",
   "metadata": {},
   "source": [
    "# Прогнозирование заказов такси"
   ]
  },
  {
   "cell_type": "markdown",
   "metadata": {},
   "source": [
    "## Описание проекта"
   ]
  },
  {
   "cell_type": "markdown",
   "metadata": {
    "id": "YVABhVMBq-V6"
   },
   "source": [
    "Компания «Чётенькое такси» собрала исторические данные о заказах такси в аэропортах. Чтобы привлекать больше водителей в период пиковой нагрузки, нужно спрогнозировать количество заказов такси на следующий час. Необходимо построить модель для такого предсказания.\\\n",
    "Значение метрики RMSE на тестовой выборке должно быть не больше 48."
   ]
  },
  {
   "cell_type": "code",
   "execution_count": 24,
   "metadata": {
    "colab": {
     "base_uri": "https://localhost:8080/"
    },
    "id": "pQciWS5mhzDy",
    "outputId": "96eb3599-d72a-49ea-a0de-8d6fc20360e3"
   },
   "outputs": [
    {
     "name": "stdout",
     "output_type": "stream",
     "text": [
      "Requirement already satisfied: catboost in /opt/conda/lib/python3.9/site-packages (1.0.3)\n",
      "Requirement already satisfied: graphviz in /opt/conda/lib/python3.9/site-packages (from catboost) (0.20.1)\n",
      "Requirement already satisfied: pandas>=0.24.0 in /opt/conda/lib/python3.9/site-packages (from catboost) (1.2.4)\n",
      "Requirement already satisfied: matplotlib in /opt/conda/lib/python3.9/site-packages (from catboost) (3.3.4)\n",
      "Requirement already satisfied: numpy>=1.16.0 in /opt/conda/lib/python3.9/site-packages (from catboost) (1.21.1)\n",
      "Requirement already satisfied: six in /opt/conda/lib/python3.9/site-packages (from catboost) (1.16.0)\n",
      "Requirement already satisfied: plotly in /opt/conda/lib/python3.9/site-packages (from catboost) (5.4.0)\n",
      "Requirement already satisfied: scipy in /opt/conda/lib/python3.9/site-packages (from catboost) (1.9.1)\n",
      "Requirement already satisfied: python-dateutil>=2.7.3 in /opt/conda/lib/python3.9/site-packages (from pandas>=0.24.0->catboost) (2.8.1)\n",
      "Requirement already satisfied: pytz>=2017.3 in /opt/conda/lib/python3.9/site-packages (from pandas>=0.24.0->catboost) (2021.1)\n",
      "Requirement already satisfied: kiwisolver>=1.0.1 in /opt/conda/lib/python3.9/site-packages (from matplotlib->catboost) (1.4.4)\n",
      "Requirement already satisfied: pillow>=6.2.0 in /opt/conda/lib/python3.9/site-packages (from matplotlib->catboost) (8.4.0)\n",
      "Requirement already satisfied: cycler>=0.10 in /opt/conda/lib/python3.9/site-packages (from matplotlib->catboost) (0.11.0)\n",
      "Requirement already satisfied: pyparsing!=2.0.4,!=2.1.2,!=2.1.6,>=2.0.3 in /opt/conda/lib/python3.9/site-packages (from matplotlib->catboost) (2.4.7)\n",
      "Requirement already satisfied: tenacity>=6.2.0 in /opt/conda/lib/python3.9/site-packages (from plotly->catboost) (8.0.1)\n"
     ]
    }
   ],
   "source": [
    "!pip install catboost"
   ]
  },
  {
   "cell_type": "code",
   "execution_count": 25,
   "metadata": {
    "id": "_yLVJik6qW1D"
   },
   "outputs": [],
   "source": [
    "import pandas as pd\n",
    "import numpy as np\n",
    "import matplotlib.pyplot as plt\n",
    "\n",
    "from statsmodels.tsa.seasonal import seasonal_decompose\n",
    "\n",
    "from sklearn.metrics import mean_squared_error\n",
    "from sklearn.linear_model import LinearRegression\n",
    "from sklearn.model_selection import train_test_split, GridSearchCV, TimeSeriesSplit\n",
    "from sklearn.ensemble import RandomForestRegressor\n",
    "\n",
    "from catboost import CatBoostRegressor\n",
    "\n",
    "import lightgbm as lgb\n",
    "\n",
    "import seaborn as sns"
   ]
  },
  {
   "cell_type": "markdown",
   "metadata": {
    "id": "V5omvf8zrjXU"
   },
   "source": [
    "## Загрузка данных"
   ]
  },
  {
   "cell_type": "code",
   "execution_count": 26,
   "metadata": {
    "id": "606qjb7Wqgwx"
   },
   "outputs": [],
   "source": [
    "try:\n",
    "  df = pd.read_csv('/content/taxi.csv', index_col=[0], parse_dates=[0])\n",
    "except:\n",
    "  df = pd.read_csv('/datasets/taxi.csv', index_col=[0], parse_dates=[0])"
   ]
  },
  {
   "cell_type": "code",
   "execution_count": 27,
   "metadata": {
    "id": "JIdfSbQ_s7F4"
   },
   "outputs": [],
   "source": [
    "#сортировка и ресемплирование данных по часу\n",
    "df.sort_index(inplace=True)\n",
    "df = df.resample('1H').sum()"
   ]
  },
  {
   "cell_type": "code",
   "execution_count": 28,
   "metadata": {
    "colab": {
     "base_uri": "https://localhost:8080/",
     "height": 237
    },
    "id": "V3HoUecuqyGQ",
    "outputId": "330b6e6d-5782-4008-cb43-9162051bdf1d"
   },
   "outputs": [
    {
     "data": {
      "text/html": [
       "<div>\n",
       "<style scoped>\n",
       "    .dataframe tbody tr th:only-of-type {\n",
       "        vertical-align: middle;\n",
       "    }\n",
       "\n",
       "    .dataframe tbody tr th {\n",
       "        vertical-align: top;\n",
       "    }\n",
       "\n",
       "    .dataframe thead th {\n",
       "        text-align: right;\n",
       "    }\n",
       "</style>\n",
       "<table border=\"1\" class=\"dataframe\">\n",
       "  <thead>\n",
       "    <tr style=\"text-align: right;\">\n",
       "      <th></th>\n",
       "      <th>num_orders</th>\n",
       "    </tr>\n",
       "    <tr>\n",
       "      <th>datetime</th>\n",
       "      <th></th>\n",
       "    </tr>\n",
       "  </thead>\n",
       "  <tbody>\n",
       "    <tr>\n",
       "      <th>2018-03-01 00:00:00</th>\n",
       "      <td>124</td>\n",
       "    </tr>\n",
       "    <tr>\n",
       "      <th>2018-03-01 01:00:00</th>\n",
       "      <td>85</td>\n",
       "    </tr>\n",
       "    <tr>\n",
       "      <th>2018-03-01 02:00:00</th>\n",
       "      <td>71</td>\n",
       "    </tr>\n",
       "    <tr>\n",
       "      <th>2018-03-01 03:00:00</th>\n",
       "      <td>66</td>\n",
       "    </tr>\n",
       "    <tr>\n",
       "      <th>2018-03-01 04:00:00</th>\n",
       "      <td>43</td>\n",
       "    </tr>\n",
       "  </tbody>\n",
       "</table>\n",
       "</div>"
      ],
      "text/plain": [
       "                     num_orders\n",
       "datetime                       \n",
       "2018-03-01 00:00:00         124\n",
       "2018-03-01 01:00:00          85\n",
       "2018-03-01 02:00:00          71\n",
       "2018-03-01 03:00:00          66\n",
       "2018-03-01 04:00:00          43"
      ]
     },
     "execution_count": 28,
     "metadata": {},
     "output_type": "execute_result"
    }
   ],
   "source": [
    "df.head()"
   ]
  },
  {
   "cell_type": "code",
   "execution_count": 29,
   "metadata": {
    "colab": {
     "base_uri": "https://localhost:8080/"
    },
    "id": "WW0uwMHNqzlv",
    "outputId": "ce46066b-65ed-4fb8-aa21-871b410e7595"
   },
   "outputs": [
    {
     "name": "stdout",
     "output_type": "stream",
     "text": [
      "<class 'pandas.core.frame.DataFrame'>\n",
      "DatetimeIndex: 4416 entries, 2018-03-01 00:00:00 to 2018-08-31 23:00:00\n",
      "Freq: H\n",
      "Data columns (total 1 columns):\n",
      " #   Column      Non-Null Count  Dtype\n",
      "---  ------      --------------  -----\n",
      " 0   num_orders  4416 non-null   int64\n",
      "dtypes: int64(1)\n",
      "memory usage: 69.0 KB\n"
     ]
    }
   ],
   "source": [
    "df.info()"
   ]
  },
  {
   "cell_type": "code",
   "execution_count": 30,
   "metadata": {
    "colab": {
     "base_uri": "https://localhost:8080/",
     "height": 300
    },
    "id": "gFijdQ8Wq1Sn",
    "outputId": "1df88990-79a8-4834-9125-dd8b4350b37f"
   },
   "outputs": [
    {
     "data": {
      "text/html": [
       "<div>\n",
       "<style scoped>\n",
       "    .dataframe tbody tr th:only-of-type {\n",
       "        vertical-align: middle;\n",
       "    }\n",
       "\n",
       "    .dataframe tbody tr th {\n",
       "        vertical-align: top;\n",
       "    }\n",
       "\n",
       "    .dataframe thead th {\n",
       "        text-align: right;\n",
       "    }\n",
       "</style>\n",
       "<table border=\"1\" class=\"dataframe\">\n",
       "  <thead>\n",
       "    <tr style=\"text-align: right;\">\n",
       "      <th></th>\n",
       "      <th>num_orders</th>\n",
       "    </tr>\n",
       "  </thead>\n",
       "  <tbody>\n",
       "    <tr>\n",
       "      <th>count</th>\n",
       "      <td>4416.000000</td>\n",
       "    </tr>\n",
       "    <tr>\n",
       "      <th>mean</th>\n",
       "      <td>84.422781</td>\n",
       "    </tr>\n",
       "    <tr>\n",
       "      <th>std</th>\n",
       "      <td>45.023853</td>\n",
       "    </tr>\n",
       "    <tr>\n",
       "      <th>min</th>\n",
       "      <td>0.000000</td>\n",
       "    </tr>\n",
       "    <tr>\n",
       "      <th>25%</th>\n",
       "      <td>54.000000</td>\n",
       "    </tr>\n",
       "    <tr>\n",
       "      <th>50%</th>\n",
       "      <td>78.000000</td>\n",
       "    </tr>\n",
       "    <tr>\n",
       "      <th>75%</th>\n",
       "      <td>107.000000</td>\n",
       "    </tr>\n",
       "    <tr>\n",
       "      <th>max</th>\n",
       "      <td>462.000000</td>\n",
       "    </tr>\n",
       "  </tbody>\n",
       "</table>\n",
       "</div>"
      ],
      "text/plain": [
       "        num_orders\n",
       "count  4416.000000\n",
       "mean     84.422781\n",
       "std      45.023853\n",
       "min       0.000000\n",
       "25%      54.000000\n",
       "50%      78.000000\n",
       "75%     107.000000\n",
       "max     462.000000"
      ]
     },
     "execution_count": 30,
     "metadata": {},
     "output_type": "execute_result"
    }
   ],
   "source": [
    "df.describe()"
   ]
  },
  {
   "cell_type": "markdown",
   "metadata": {
    "id": "GcgqB1LXqwYj"
   },
   "source": [
    "После получения данных, они были ресемплированы в интервале по 1 часу\\\n",
    "По итогу получилось 4416 строк данных.\\\n",
    "Со средним в 84 заказа в час, и медианным значением в 78 заказов."
   ]
  },
  {
   "cell_type": "markdown",
   "metadata": {
    "id": "rqN-02jArv1Y"
   },
   "source": [
    "## Анализ данных"
   ]
  },
  {
   "cell_type": "code",
   "execution_count": 31,
   "metadata": {
    "colab": {
     "base_uri": "https://localhost:8080/",
     "height": 394
    },
    "id": "uituyrw3sDwG",
    "outputId": "06edf498-1299-4c15-a37c-5922ee016463"
   },
   "outputs": [
    {
     "data": {
      "text/html": [
       "<div>\n",
       "<style scoped>\n",
       "    .dataframe tbody tr th:only-of-type {\n",
       "        vertical-align: middle;\n",
       "    }\n",
       "\n",
       "    .dataframe tbody tr th {\n",
       "        vertical-align: top;\n",
       "    }\n",
       "\n",
       "    .dataframe thead th {\n",
       "        text-align: right;\n",
       "    }\n",
       "</style>\n",
       "<table border=\"1\" class=\"dataframe\">\n",
       "  <thead>\n",
       "    <tr style=\"text-align: right;\">\n",
       "      <th></th>\n",
       "      <th>num_orders</th>\n",
       "      <th>rolling_mean</th>\n",
       "    </tr>\n",
       "    <tr>\n",
       "      <th>datetime</th>\n",
       "      <th></th>\n",
       "      <th></th>\n",
       "    </tr>\n",
       "  </thead>\n",
       "  <tbody>\n",
       "    <tr>\n",
       "      <th>2018-03-01 00:00:00</th>\n",
       "      <td>124</td>\n",
       "      <td>NaN</td>\n",
       "    </tr>\n",
       "    <tr>\n",
       "      <th>2018-03-01 01:00:00</th>\n",
       "      <td>85</td>\n",
       "      <td>NaN</td>\n",
       "    </tr>\n",
       "    <tr>\n",
       "      <th>2018-03-01 02:00:00</th>\n",
       "      <td>71</td>\n",
       "      <td>NaN</td>\n",
       "    </tr>\n",
       "    <tr>\n",
       "      <th>2018-03-01 03:00:00</th>\n",
       "      <td>66</td>\n",
       "      <td>NaN</td>\n",
       "    </tr>\n",
       "    <tr>\n",
       "      <th>2018-03-01 04:00:00</th>\n",
       "      <td>43</td>\n",
       "      <td>NaN</td>\n",
       "    </tr>\n",
       "    <tr>\n",
       "      <th>2018-03-01 05:00:00</th>\n",
       "      <td>6</td>\n",
       "      <td>NaN</td>\n",
       "    </tr>\n",
       "    <tr>\n",
       "      <th>2018-03-01 06:00:00</th>\n",
       "      <td>12</td>\n",
       "      <td>NaN</td>\n",
       "    </tr>\n",
       "    <tr>\n",
       "      <th>2018-03-01 07:00:00</th>\n",
       "      <td>15</td>\n",
       "      <td>NaN</td>\n",
       "    </tr>\n",
       "    <tr>\n",
       "      <th>2018-03-01 08:00:00</th>\n",
       "      <td>34</td>\n",
       "      <td>NaN</td>\n",
       "    </tr>\n",
       "    <tr>\n",
       "      <th>2018-03-01 09:00:00</th>\n",
       "      <td>69</td>\n",
       "      <td>52.5</td>\n",
       "    </tr>\n",
       "  </tbody>\n",
       "</table>\n",
       "</div>"
      ],
      "text/plain": [
       "                     num_orders  rolling_mean\n",
       "datetime                                     \n",
       "2018-03-01 00:00:00         124           NaN\n",
       "2018-03-01 01:00:00          85           NaN\n",
       "2018-03-01 02:00:00          71           NaN\n",
       "2018-03-01 03:00:00          66           NaN\n",
       "2018-03-01 04:00:00          43           NaN\n",
       "2018-03-01 05:00:00           6           NaN\n",
       "2018-03-01 06:00:00          12           NaN\n",
       "2018-03-01 07:00:00          15           NaN\n",
       "2018-03-01 08:00:00          34           NaN\n",
       "2018-03-01 09:00:00          69          52.5"
      ]
     },
     "execution_count": 31,
     "metadata": {},
     "output_type": "execute_result"
    }
   ],
   "source": [
    "df['rolling_mean'] = df.rolling(10).mean()\n",
    "df.head(10)"
   ]
  },
  {
   "cell_type": "code",
   "execution_count": 32,
   "metadata": {
    "colab": {
     "base_uri": "https://localhost:8080/",
     "height": 466
    },
    "id": "k60mtX4sVwCv",
    "outputId": "81872c06-3afa-49b6-ff66-b828179c2c74"
   },
   "outputs": [
    {
     "data": {
      "image/png": "[encoded data removed]",
      "text/plain": [
       "<Figure size 432x288 with 1 Axes>"
      ]
     },
     "metadata": {
      "needs_background": "light"
     },
     "output_type": "display_data"
    }
   ],
   "source": [
    "df.plot()\n",
    "plt.ylabel('count')\n",
    "plt.xlabel('datetime')\n",
    "plt.title('График исходного количества заказов и скользящего среднего по ним')\n",
    "plt.show()"
   ]
  },
  {
   "cell_type": "code",
   "execution_count": 33,
   "metadata": {
    "colab": {
     "base_uri": "https://localhost:8080/",
     "height": 1000
    },
    "id": "B0FykC3-V3UI",
    "outputId": "3ef8b38a-1ebc-4a7b-db2d-3485fb3549e9"
   },
   "outputs": [
    {
     "data": {
      "image/png": "[encoded data removed]",
      "text/plain": [
       "<Figure size 504x720 with 3 Axes>"
      ]
     },
     "metadata": {
      "needs_background": "light"
     },
     "output_type": "display_data"
    }
   ],
   "source": [
    "decomposed = seasonal_decompose(df['num_orders'])\n",
    "\n",
    "plt.figure(figsize=(7, 10))\n",
    "plt.subplot(311)\n",
    "\n",
    "decomposed.trend.plot(ax=plt.gca())\n",
    "plt.title('Trend')\n",
    "plt.subplot(312)\n",
    "\n",
    "decomposed.seasonal['2018-05-17':'2018-05-18'].plot(ax=plt.gca())\n",
    "plt.title('Seasonality')\n",
    "plt.subplot(313)\n",
    "\n",
    "decomposed.resid.plot(ax=plt.gca())\n",
    "plt.title('Residuals')\n",
    "\n",
    "plt.tight_layout()"
   ]
  },
  {
   "cell_type": "markdown",
   "metadata": {
    "id": "S3LTXriOX-Hm"
   },
   "source": [
    "- По полученым графикам можно увидеть общий тренд на повышение заказов\n",
    "- Ближе к полуночи количество заказов увеличивается и достигает своего пика\n",
    "- К 6 утра же наоборот, кол-во заказов уменьшается, в связи с тем, что начинает\\\n",
    "ходить общественный транспорт"
   ]
  },
  {
   "cell_type": "markdown",
   "metadata": {
    "id": "A92zL6sPVMz4"
   },
   "source": [
    "### Создание признаков"
   ]
  },
  {
   "cell_type": "code",
   "execution_count": 34,
   "metadata": {
    "id": "9qfmyUtyUo21"
   },
   "outputs": [],
   "source": [
    "def make_features(df, max_lag, rolling_mean_size):\n",
    "    df['year'] = df.index.year\n",
    "    df['month'] = df.index.month\n",
    "    df['day'] = df.index.day\n",
    "    df['dayofweek'] = df.index.dayofweek\n",
    "\n",
    "    for lag in range(1, max_lag + 1):\n",
    "        df['lag_{}'.format(lag)] = df['num_orders'].shift(lag)\n",
    "\n",
    "    df['rolling_mean'] = df['num_orders'].shift().rolling(rolling_mean_size).mean()"
   ]
  },
  {
   "cell_type": "code",
   "execution_count": 35,
   "metadata": {
    "colab": {
     "base_uri": "https://localhost:8080/"
    },
    "id": "VWSCYj4YVrh1",
    "outputId": "bcc71148-92bd-43bc-dcec-c753c87a35ab",
    "scrolled": true
   },
   "outputs": [],
   "source": [
    "make_features(df, 500, 100)"
   ]
  },
  {
   "cell_type": "code",
   "execution_count": 36,
   "metadata": {
    "colab": {
     "base_uri": "https://localhost:8080/",
     "height": 834
    },
    "id": "s7cKCUJFWRyt",
    "outputId": "7793666b-ce5b-4a2b-91c4-5144682ed30d",
    "scrolled": true
   },
   "outputs": [
    {
     "data": {
      "text/html": [
       "<div>\n",
       "<style scoped>\n",
       "    .dataframe tbody tr th:only-of-type {\n",
       "        vertical-align: middle;\n",
       "    }\n",
       "\n",
       "    .dataframe tbody tr th {\n",
       "        vertical-align: top;\n",
       "    }\n",
       "\n",
       "    .dataframe thead th {\n",
       "        text-align: right;\n",
       "    }\n",
       "</style>\n",
       "<table border=\"1\" class=\"dataframe\">\n",
       "  <thead>\n",
       "    <tr style=\"text-align: right;\">\n",
       "      <th></th>\n",
       "      <th>num_orders</th>\n",
       "      <th>rolling_mean</th>\n",
       "      <th>year</th>\n",
       "      <th>month</th>\n",
       "      <th>day</th>\n",
       "      <th>dayofweek</th>\n",
       "      <th>lag_1</th>\n",
       "      <th>lag_2</th>\n",
       "      <th>lag_3</th>\n",
       "      <th>lag_4</th>\n",
       "      <th>...</th>\n",
       "      <th>lag_491</th>\n",
       "      <th>lag_492</th>\n",
       "      <th>lag_493</th>\n",
       "      <th>lag_494</th>\n",
       "      <th>lag_495</th>\n",
       "      <th>lag_496</th>\n",
       "      <th>lag_497</th>\n",
       "      <th>lag_498</th>\n",
       "      <th>lag_499</th>\n",
       "      <th>lag_500</th>\n",
       "    </tr>\n",
       "    <tr>\n",
       "      <th>datetime</th>\n",
       "      <th></th>\n",
       "      <th></th>\n",
       "      <th></th>\n",
       "      <th></th>\n",
       "      <th></th>\n",
       "      <th></th>\n",
       "      <th></th>\n",
       "      <th></th>\n",
       "      <th></th>\n",
       "      <th></th>\n",
       "      <th></th>\n",
       "      <th></th>\n",
       "      <th></th>\n",
       "      <th></th>\n",
       "      <th></th>\n",
       "      <th></th>\n",
       "      <th></th>\n",
       "      <th></th>\n",
       "      <th></th>\n",
       "      <th></th>\n",
       "      <th></th>\n",
       "    </tr>\n",
       "  </thead>\n",
       "  <tbody>\n",
       "    <tr>\n",
       "      <th>2018-08-31 14:00:00</th>\n",
       "      <td>133</td>\n",
       "      <td>155.85</td>\n",
       "      <td>2018</td>\n",
       "      <td>8</td>\n",
       "      <td>31</td>\n",
       "      <td>4</td>\n",
       "      <td>166.0</td>\n",
       "      <td>136.0</td>\n",
       "      <td>167.0</td>\n",
       "      <td>191.0</td>\n",
       "      <td>...</td>\n",
       "      <td>171.0</td>\n",
       "      <td>175.0</td>\n",
       "      <td>226.0</td>\n",
       "      <td>249.0</td>\n",
       "      <td>162.0</td>\n",
       "      <td>188.0</td>\n",
       "      <td>143.0</td>\n",
       "      <td>114.0</td>\n",
       "      <td>98.0</td>\n",
       "      <td>131.0</td>\n",
       "    </tr>\n",
       "    <tr>\n",
       "      <th>2018-08-31 15:00:00</th>\n",
       "      <td>116</td>\n",
       "      <td>155.48</td>\n",
       "      <td>2018</td>\n",
       "      <td>8</td>\n",
       "      <td>31</td>\n",
       "      <td>4</td>\n",
       "      <td>133.0</td>\n",
       "      <td>166.0</td>\n",
       "      <td>136.0</td>\n",
       "      <td>167.0</td>\n",
       "      <td>...</td>\n",
       "      <td>126.0</td>\n",
       "      <td>171.0</td>\n",
       "      <td>175.0</td>\n",
       "      <td>226.0</td>\n",
       "      <td>249.0</td>\n",
       "      <td>162.0</td>\n",
       "      <td>188.0</td>\n",
       "      <td>143.0</td>\n",
       "      <td>114.0</td>\n",
       "      <td>98.0</td>\n",
       "    </tr>\n",
       "    <tr>\n",
       "      <th>2018-08-31 16:00:00</th>\n",
       "      <td>197</td>\n",
       "      <td>155.00</td>\n",
       "      <td>2018</td>\n",
       "      <td>8</td>\n",
       "      <td>31</td>\n",
       "      <td>4</td>\n",
       "      <td>116.0</td>\n",
       "      <td>133.0</td>\n",
       "      <td>166.0</td>\n",
       "      <td>136.0</td>\n",
       "      <td>...</td>\n",
       "      <td>55.0</td>\n",
       "      <td>126.0</td>\n",
       "      <td>171.0</td>\n",
       "      <td>175.0</td>\n",
       "      <td>226.0</td>\n",
       "      <td>249.0</td>\n",
       "      <td>162.0</td>\n",
       "      <td>188.0</td>\n",
       "      <td>143.0</td>\n",
       "      <td>114.0</td>\n",
       "    </tr>\n",
       "    <tr>\n",
       "      <th>2018-08-31 17:00:00</th>\n",
       "      <td>217</td>\n",
       "      <td>155.72</td>\n",
       "      <td>2018</td>\n",
       "      <td>8</td>\n",
       "      <td>31</td>\n",
       "      <td>4</td>\n",
       "      <td>197.0</td>\n",
       "      <td>116.0</td>\n",
       "      <td>133.0</td>\n",
       "      <td>166.0</td>\n",
       "      <td>...</td>\n",
       "      <td>56.0</td>\n",
       "      <td>55.0</td>\n",
       "      <td>126.0</td>\n",
       "      <td>171.0</td>\n",
       "      <td>175.0</td>\n",
       "      <td>226.0</td>\n",
       "      <td>249.0</td>\n",
       "      <td>162.0</td>\n",
       "      <td>188.0</td>\n",
       "      <td>143.0</td>\n",
       "    </tr>\n",
       "    <tr>\n",
       "      <th>2018-08-31 18:00:00</th>\n",
       "      <td>207</td>\n",
       "      <td>156.52</td>\n",
       "      <td>2018</td>\n",
       "      <td>8</td>\n",
       "      <td>31</td>\n",
       "      <td>4</td>\n",
       "      <td>217.0</td>\n",
       "      <td>197.0</td>\n",
       "      <td>116.0</td>\n",
       "      <td>133.0</td>\n",
       "      <td>...</td>\n",
       "      <td>33.0</td>\n",
       "      <td>56.0</td>\n",
       "      <td>55.0</td>\n",
       "      <td>126.0</td>\n",
       "      <td>171.0</td>\n",
       "      <td>175.0</td>\n",
       "      <td>226.0</td>\n",
       "      <td>249.0</td>\n",
       "      <td>162.0</td>\n",
       "      <td>188.0</td>\n",
       "    </tr>\n",
       "    <tr>\n",
       "      <th>2018-08-31 19:00:00</th>\n",
       "      <td>136</td>\n",
       "      <td>157.33</td>\n",
       "      <td>2018</td>\n",
       "      <td>8</td>\n",
       "      <td>31</td>\n",
       "      <td>4</td>\n",
       "      <td>207.0</td>\n",
       "      <td>217.0</td>\n",
       "      <td>197.0</td>\n",
       "      <td>116.0</td>\n",
       "      <td>...</td>\n",
       "      <td>106.0</td>\n",
       "      <td>33.0</td>\n",
       "      <td>56.0</td>\n",
       "      <td>55.0</td>\n",
       "      <td>126.0</td>\n",
       "      <td>171.0</td>\n",
       "      <td>175.0</td>\n",
       "      <td>226.0</td>\n",
       "      <td>249.0</td>\n",
       "      <td>162.0</td>\n",
       "    </tr>\n",
       "    <tr>\n",
       "      <th>2018-08-31 20:00:00</th>\n",
       "      <td>154</td>\n",
       "      <td>156.74</td>\n",
       "      <td>2018</td>\n",
       "      <td>8</td>\n",
       "      <td>31</td>\n",
       "      <td>4</td>\n",
       "      <td>136.0</td>\n",
       "      <td>207.0</td>\n",
       "      <td>217.0</td>\n",
       "      <td>197.0</td>\n",
       "      <td>...</td>\n",
       "      <td>120.0</td>\n",
       "      <td>106.0</td>\n",
       "      <td>33.0</td>\n",
       "      <td>56.0</td>\n",
       "      <td>55.0</td>\n",
       "      <td>126.0</td>\n",
       "      <td>171.0</td>\n",
       "      <td>175.0</td>\n",
       "      <td>226.0</td>\n",
       "      <td>249.0</td>\n",
       "    </tr>\n",
       "    <tr>\n",
       "      <th>2018-08-31 21:00:00</th>\n",
       "      <td>159</td>\n",
       "      <td>156.63</td>\n",
       "      <td>2018</td>\n",
       "      <td>8</td>\n",
       "      <td>31</td>\n",
       "      <td>4</td>\n",
       "      <td>154.0</td>\n",
       "      <td>136.0</td>\n",
       "      <td>207.0</td>\n",
       "      <td>217.0</td>\n",
       "      <td>...</td>\n",
       "      <td>140.0</td>\n",
       "      <td>120.0</td>\n",
       "      <td>106.0</td>\n",
       "      <td>33.0</td>\n",
       "      <td>56.0</td>\n",
       "      <td>55.0</td>\n",
       "      <td>126.0</td>\n",
       "      <td>171.0</td>\n",
       "      <td>175.0</td>\n",
       "      <td>226.0</td>\n",
       "    </tr>\n",
       "    <tr>\n",
       "      <th>2018-08-31 22:00:00</th>\n",
       "      <td>223</td>\n",
       "      <td>156.40</td>\n",
       "      <td>2018</td>\n",
       "      <td>8</td>\n",
       "      <td>31</td>\n",
       "      <td>4</td>\n",
       "      <td>159.0</td>\n",
       "      <td>154.0</td>\n",
       "      <td>136.0</td>\n",
       "      <td>207.0</td>\n",
       "      <td>...</td>\n",
       "      <td>81.0</td>\n",
       "      <td>140.0</td>\n",
       "      <td>120.0</td>\n",
       "      <td>106.0</td>\n",
       "      <td>33.0</td>\n",
       "      <td>56.0</td>\n",
       "      <td>55.0</td>\n",
       "      <td>126.0</td>\n",
       "      <td>171.0</td>\n",
       "      <td>175.0</td>\n",
       "    </tr>\n",
       "    <tr>\n",
       "      <th>2018-08-31 23:00:00</th>\n",
       "      <td>205</td>\n",
       "      <td>157.52</td>\n",
       "      <td>2018</td>\n",
       "      <td>8</td>\n",
       "      <td>31</td>\n",
       "      <td>4</td>\n",
       "      <td>223.0</td>\n",
       "      <td>159.0</td>\n",
       "      <td>154.0</td>\n",
       "      <td>136.0</td>\n",
       "      <td>...</td>\n",
       "      <td>63.0</td>\n",
       "      <td>81.0</td>\n",
       "      <td>140.0</td>\n",
       "      <td>120.0</td>\n",
       "      <td>106.0</td>\n",
       "      <td>33.0</td>\n",
       "      <td>56.0</td>\n",
       "      <td>55.0</td>\n",
       "      <td>126.0</td>\n",
       "      <td>171.0</td>\n",
       "    </tr>\n",
       "  </tbody>\n",
       "</table>\n",
       "<p>10 rows × 506 columns</p>\n",
       "</div>"
      ],
      "text/plain": [
       "                     num_orders  rolling_mean  year  month  day  dayofweek  \\\n",
       "datetime                                                                     \n",
       "2018-08-31 14:00:00         133        155.85  2018      8   31          4   \n",
       "2018-08-31 15:00:00         116        155.48  2018      8   31          4   \n",
       "2018-08-31 16:00:00         197        155.00  2018      8   31          4   \n",
       "2018-08-31 17:00:00         217        155.72  2018      8   31          4   \n",
       "2018-08-31 18:00:00         207        156.52  2018      8   31          4   \n",
       "2018-08-31 19:00:00         136        157.33  2018      8   31          4   \n",
       "2018-08-31 20:00:00         154        156.74  2018      8   31          4   \n",
       "2018-08-31 21:00:00         159        156.63  2018      8   31          4   \n",
       "2018-08-31 22:00:00         223        156.40  2018      8   31          4   \n",
       "2018-08-31 23:00:00         205        157.52  2018      8   31          4   \n",
       "\n",
       "                     lag_1  lag_2  lag_3  lag_4  ...  lag_491  lag_492  \\\n",
       "datetime                                         ...                     \n",
       "2018-08-31 14:00:00  166.0  136.0  167.0  191.0  ...    171.0    175.0   \n",
       "2018-08-31 15:00:00  133.0  166.0  136.0  167.0  ...    126.0    171.0   \n",
       "2018-08-31 16:00:00  116.0  133.0  166.0  136.0  ...     55.0    126.0   \n",
       "2018-08-31 17:00:00  197.0  116.0  133.0  166.0  ...     56.0     55.0   \n",
       "2018-08-31 18:00:00  217.0  197.0  116.0  133.0  ...     33.0     56.0   \n",
       "2018-08-31 19:00:00  207.0  217.0  197.0  116.0  ...    106.0     33.0   \n",
       "2018-08-31 20:00:00  136.0  207.0  217.0  197.0  ...    120.0    106.0   \n",
       "2018-08-31 21:00:00  154.0  136.0  207.0  217.0  ...    140.0    120.0   \n",
       "2018-08-31 22:00:00  159.0  154.0  136.0  207.0  ...     81.0    140.0   \n",
       "2018-08-31 23:00:00  223.0  159.0  154.0  136.0  ...     63.0     81.0   \n",
       "\n",
       "                     lag_493  lag_494  lag_495  lag_496  lag_497  lag_498  \\\n",
       "datetime                                                                    \n",
       "2018-08-31 14:00:00    226.0    249.0    162.0    188.0    143.0    114.0   \n",
       "2018-08-31 15:00:00    175.0    226.0    249.0    162.0    188.0    143.0   \n",
       "2018-08-31 16:00:00    171.0    175.0    226.0    249.0    162.0    188.0   \n",
       "2018-08-31 17:00:00    126.0    171.0    175.0    226.0    249.0    162.0   \n",
       "2018-08-31 18:00:00     55.0    126.0    171.0    175.0    226.0    249.0   \n",
       "2018-08-31 19:00:00     56.0     55.0    126.0    171.0    175.0    226.0   \n",
       "2018-08-31 20:00:00     33.0     56.0     55.0    126.0    171.0    175.0   \n",
       "2018-08-31 21:00:00    106.0     33.0     56.0     55.0    126.0    171.0   \n",
       "2018-08-31 22:00:00    120.0    106.0     33.0     56.0     55.0    126.0   \n",
       "2018-08-31 23:00:00    140.0    120.0    106.0     33.0     56.0     55.0   \n",
       "\n",
       "                     lag_499  lag_500  \n",
       "datetime                               \n",
       "2018-08-31 14:00:00     98.0    131.0  \n",
       "2018-08-31 15:00:00    114.0     98.0  \n",
       "2018-08-31 16:00:00    143.0    114.0  \n",
       "2018-08-31 17:00:00    188.0    143.0  \n",
       "2018-08-31 18:00:00    162.0    188.0  \n",
       "2018-08-31 19:00:00    249.0    162.0  \n",
       "2018-08-31 20:00:00    226.0    249.0  \n",
       "2018-08-31 21:00:00    175.0    226.0  \n",
       "2018-08-31 22:00:00    171.0    175.0  \n",
       "2018-08-31 23:00:00    126.0    171.0  \n",
       "\n",
       "[10 rows x 506 columns]"
      ]
     },
     "execution_count": 36,
     "metadata": {},
     "output_type": "execute_result"
    }
   ],
   "source": [
    "df.tail(10)"
   ]
  },
  {
   "cell_type": "markdown",
   "metadata": {
    "id": "e4k4vCc0YDk2"
   },
   "source": [
    "### Создание выборок"
   ]
  },
  {
   "cell_type": "code",
   "execution_count": 37,
   "metadata": {
    "colab": {
     "base_uri": "https://localhost:8080/"
    },
    "id": "9OpZSZB2YYCL",
    "outputId": "267e55a1-eb58-4609-8cb8-323845b432aa"
   },
   "outputs": [
    {
     "data": {
      "text/plain": [
       "num_orders        0\n",
       "rolling_mean    100\n",
       "year              0\n",
       "month             0\n",
       "day               0\n",
       "               ... \n",
       "lag_496         496\n",
       "lag_497         497\n",
       "lag_498         498\n",
       "lag_499         499\n",
       "lag_500         500\n",
       "Length: 506, dtype: int64"
      ]
     },
     "execution_count": 37,
     "metadata": {},
     "output_type": "execute_result"
    }
   ],
   "source": [
    "df.isna().sum()"
   ]
  },
  {
   "cell_type": "code",
   "execution_count": 38,
   "metadata": {
    "colab": {
     "base_uri": "https://localhost:8080/"
    },
    "id": "84kAPjl4Z2kU",
    "outputId": "b824e0e7-c10f-45df-adb4-d1ebb0672252"
   },
   "outputs": [
    {
     "name": "stdout",
     "output_type": "stream",
     "text": [
      "Доля обучающей выборки: 0.69\n",
      "Доля валидационной выборки: 0.1\n",
      "Доля тестовой выборки: 0.1\n"
     ]
    }
   ],
   "source": [
    "train, val_test = train_test_split(df, shuffle=False, test_size=0.2, random_state=12345)\n",
    "valid, test = train_test_split(val_test, shuffle=False, test_size=0.5, random_state=12345)\n",
    "\n",
    "train = train.dropna()\n",
    "\n",
    "features_train = train.drop('num_orders', axis=1)\n",
    "target_train = train['num_orders']\n",
    "\n",
    "features_valid = valid.drop('num_orders', axis=1)\n",
    "target_valid = valid['num_orders']\n",
    "\n",
    "features_test = test.drop('num_orders', axis=1)\n",
    "target_test = test['num_orders']\n",
    "\n",
    "print(f'Доля обучающей выборки: {round(len(features_train) / len(df), 2)}')\n",
    "print(f'Доля валидационной выборки: {round(len(features_valid) / len(df), 2)}')\n",
    "print(f'Доля тестовой выборки: {round(len(features_test) / len(df), 2)}')"
   ]
  },
  {
   "cell_type": "markdown",
   "metadata": {
    "id": "WLmv1kZbpclx"
   },
   "source": [
    "В данном разделе был проанализированы данные, выводы по ним были сделаны выши.\\\n",
    "Также были созданы дополнительные признаки для обучения, такие как год, месяц, день, горизонт прогнозирования и скользящее среднее.\\\n",
    "Далее, данные были разделены на подвыборки, в соотношении 80:10:10. Предварительно, в обучающей выборке избавились от пропусков, после создания признаков для горизонта прогнозирования и скользящего среднего. От них было решено просто избавиться, так как объем их достаточно маленький."
   ]
  },
  {
   "cell_type": "markdown",
   "metadata": {
    "id": "hI5TNVWwr0k4"
   },
   "source": [
    "## Обучение моделей"
   ]
  },
  {
   "cell_type": "markdown",
   "metadata": {
    "id": "1anM7z_qcBGa"
   },
   "source": [
    "##### Модель линейной регрессии"
   ]
  },
  {
   "cell_type": "code",
   "execution_count": 39,
   "metadata": {
    "colab": {
     "base_uri": "https://localhost:8080/"
    },
    "id": "L0dSsYSjq2ef",
    "outputId": "95a1ade6-90a0-4d54-bcc0-c050cad5e1ee"
   },
   "outputs": [
    {
     "name": "stdout",
     "output_type": "stream",
     "text": [
      "RMSE модели линейной регрессии = 29.04\n"
     ]
    }
   ],
   "source": [
    "model_lr = LinearRegression()\n",
    "\n",
    "model_lr.fit(features_train, target_train)\n",
    "lr_pred = model_lr.predict(features_valid)\n",
    "print(f'RMSE модели линейной регрессии = {round(mean_squared_error(target_valid, lr_pred) ** 0.5, 2)}')"
   ]
  },
  {
   "cell_type": "markdown",
   "metadata": {
    "id": "DgJ4hoLYdNk4"
   },
   "source": [
    "##### Модель случайного леса"
   ]
  },
  {
   "cell_type": "code",
   "execution_count": 40,
   "metadata": {
    "id": "wnwXL9E7eMnD"
   },
   "outputs": [],
   "source": [
    "splits = TimeSeriesSplit(n_splits=3)"
   ]
  },
  {
   "cell_type": "code",
   "execution_count": 41,
   "metadata": {
    "colab": {
     "base_uri": "https://localhost:8080/",
     "height": 116
    },
    "id": "25hCQGLudNTU",
    "outputId": "b9d7d3fb-4c16-47c0-f29c-9eed457f753a"
   },
   "outputs": [
    {
     "data": {
      "text/plain": [
       "GridSearchCV(cv=TimeSeriesSplit(gap=0, max_train_size=None, n_splits=3, test_size=None),\n",
       "             estimator=RandomForestRegressor(random_state=12345), n_jobs=-1,\n",
       "             param_grid={'max_depth': [24], 'n_estimators': [120]})"
      ]
     },
     "execution_count": 41,
     "metadata": {},
     "output_type": "execute_result"
    }
   ],
   "source": [
    "model_rf = RandomForestRegressor(random_state=12345)\n",
    "parameters = {\n",
    "    'n_estimators': [120],\n",
    "    'max_depth': [24],\n",
    "}\n",
    "rf_grid = GridSearchCV(model_rf, parameters, cv=splits, n_jobs=-1)\n",
    "\n",
    "rf_grid.fit(features_train, target_train)"
   ]
  },
  {
   "cell_type": "code",
   "execution_count": 42,
   "metadata": {
    "colab": {
     "base_uri": "https://localhost:8080/",
     "height": 74
    },
    "id": "WzxOQ2nJeliU",
    "outputId": "b2313395-b019-4235-e824-529eaaebe5f4"
   },
   "outputs": [
    {
     "data": {
      "text/plain": [
       "RandomForestRegressor(max_depth=24, n_estimators=120, random_state=12345)"
      ]
     },
     "execution_count": 42,
     "metadata": {},
     "output_type": "execute_result"
    }
   ],
   "source": [
    "rf_grid.best_estimator_"
   ]
  },
  {
   "cell_type": "code",
   "execution_count": 43,
   "metadata": {
    "colab": {
     "base_uri": "https://localhost:8080/"
    },
    "id": "zgVQrSEId4kc",
    "outputId": "965887fb-e5a3-4a8a-8e56-47f964d5c091"
   },
   "outputs": [
    {
     "name": "stdout",
     "output_type": "stream",
     "text": [
      "RMSE модели случайного леса = 29.82\n"
     ]
    }
   ],
   "source": [
    "rf_pred = rf_grid.best_estimator_.predict(features_valid)\n",
    "print(f'RMSE модели случайного леса = {round(mean_squared_error(target_valid, rf_pred) ** 0.5, 2)}')"
   ]
  },
  {
   "cell_type": "markdown",
   "metadata": {
    "id": "xEcL8f5UhcZ5"
   },
   "source": [
    "##### CatBoost"
   ]
  },
  {
   "cell_type": "code",
   "execution_count": 44,
   "metadata": {
    "colab": {
     "base_uri": "https://localhost:8080/",
     "height": 498
    },
    "id": "yxzPdb6Fhe75",
    "outputId": "c4d17152-492c-4127-cca9-f1bc6c370df8",
    "scrolled": true
   },
   "outputs": [
    {
     "name": "stdout",
     "output_type": "stream",
     "text": [
      "Fitting 3 folds for each of 4 candidates, totalling 12 fits\n",
      "Learning rate set to 0.5\n",
      "0:\tlearn: 25.9289348\ttotal: 13.1ms\tremaining: 118ms\n",
      "1:\tlearn: 22.8789178\ttotal: 23.7ms\tremaining: 94.7ms\n",
      "2:\tlearn: 20.4188725\ttotal: 39.3ms\tremaining: 91.7ms\n",
      "3:\tlearn: 19.2455387\ttotal: 48.3ms\tremaining: 72.4ms\n",
      "4:\tlearn: 18.5693661\ttotal: 56.8ms\tremaining: 56.8ms\n",
      "5:\tlearn: 18.1843100\ttotal: 65.1ms\tremaining: 43.4ms\n",
      "6:\tlearn: 17.7188618\ttotal: 73.7ms\tremaining: 31.6ms\n",
      "7:\tlearn: 17.3032880\ttotal: 82.3ms\tremaining: 20.6ms\n",
      "8:\tlearn: 17.1962518\ttotal: 90.7ms\tremaining: 10.1ms\n",
      "9:\tlearn: 17.1149296\ttotal: 99.2ms\tremaining: 0us\n",
      "Learning rate set to 0.5\n",
      "0:\tlearn: 26.9267886\ttotal: 12.7ms\tremaining: 114ms\n",
      "1:\tlearn: 23.7922515\ttotal: 25.5ms\tremaining: 102ms\n",
      "2:\tlearn: 22.1072394\ttotal: 37.1ms\tremaining: 86.7ms\n",
      "3:\tlearn: 21.1975685\ttotal: 48.2ms\tremaining: 72.4ms\n",
      "4:\tlearn: 20.3309268\ttotal: 58.8ms\tremaining: 58.8ms\n",
      "5:\tlearn: 19.8893777\ttotal: 69.4ms\tremaining: 46.2ms\n",
      "6:\tlearn: 19.6223714\ttotal: 80.7ms\tremaining: 34.6ms\n",
      "7:\tlearn: 19.5387031\ttotal: 91.6ms\tremaining: 22.9ms\n",
      "8:\tlearn: 19.4475000\ttotal: 103ms\tremaining: 11.4ms\n",
      "9:\tlearn: 19.2204626\ttotal: 115ms\tremaining: 0us\n",
      "Learning rate set to 0.5\n",
      "0:\tlearn: 27.9385407\ttotal: 20.9ms\tremaining: 188ms\n",
      "1:\tlearn: 24.6976348\ttotal: 34.5ms\tremaining: 138ms\n",
      "2:\tlearn: 23.1322107\ttotal: 46.9ms\tremaining: 109ms\n",
      "3:\tlearn: 21.9757058\ttotal: 59.3ms\tremaining: 89ms\n",
      "4:\tlearn: 21.4870313\ttotal: 71.8ms\tremaining: 71.8ms\n",
      "5:\tlearn: 20.9699664\ttotal: 84ms\tremaining: 56ms\n",
      "6:\tlearn: 20.6635817\ttotal: 97.2ms\tremaining: 41.7ms\n",
      "7:\tlearn: 20.4290748\ttotal: 114ms\tremaining: 28.6ms\n",
      "8:\tlearn: 20.3735309\ttotal: 126ms\tremaining: 14ms\n",
      "9:\tlearn: 20.2307750\ttotal: 138ms\tremaining: 0us\n",
      "Learning rate set to 0.5\n",
      "0:\tlearn: 25.9289348\ttotal: 10.1ms\tremaining: 191ms\n",
      "1:\tlearn: 22.8789178\ttotal: 21ms\tremaining: 189ms\n",
      "2:\tlearn: 20.4188725\ttotal: 31.5ms\tremaining: 178ms\n",
      "3:\tlearn: 19.2455387\ttotal: 40.5ms\tremaining: 162ms\n",
      "4:\tlearn: 18.5693661\ttotal: 49.1ms\tremaining: 147ms\n",
      "5:\tlearn: 18.1843100\ttotal: 57.3ms\tremaining: 134ms\n",
      "6:\tlearn: 17.7188618\ttotal: 65.5ms\tremaining: 122ms\n",
      "7:\tlearn: 17.3032880\ttotal: 73.7ms\tremaining: 111ms\n",
      "8:\tlearn: 17.1962518\ttotal: 82.6ms\tremaining: 101ms\n",
      "9:\tlearn: 17.1149296\ttotal: 91ms\tremaining: 91ms\n",
      "10:\tlearn: 16.9350855\ttotal: 99.3ms\tremaining: 81.3ms\n",
      "11:\tlearn: 16.8556120\ttotal: 114ms\tremaining: 76ms\n",
      "12:\tlearn: 16.6545726\ttotal: 123ms\tremaining: 66.3ms\n",
      "13:\tlearn: 16.3826372\ttotal: 132ms\tremaining: 56.5ms\n",
      "14:\tlearn: 16.0967999\ttotal: 140ms\tremaining: 46.8ms\n",
      "15:\tlearn: 16.0012167\ttotal: 149ms\tremaining: 37.2ms\n",
      "16:\tlearn: 15.8316112\ttotal: 158ms\tremaining: 27.9ms\n",
      "17:\tlearn: 15.7327572\ttotal: 166ms\tremaining: 18.5ms\n",
      "18:\tlearn: 15.6360347\ttotal: 175ms\tremaining: 9.2ms\n",
      "19:\tlearn: 15.5267851\ttotal: 183ms\tremaining: 0us\n",
      "Learning rate set to 0.5\n",
      "0:\tlearn: 26.9267886\ttotal: 12.8ms\tremaining: 243ms\n",
      "1:\tlearn: 23.7922515\ttotal: 28.3ms\tremaining: 255ms\n",
      "2:\tlearn: 22.1072394\ttotal: 40.5ms\tremaining: 229ms\n",
      "3:\tlearn: 21.1975685\ttotal: 51.3ms\tremaining: 205ms\n",
      "4:\tlearn: 20.3309268\ttotal: 62.3ms\tremaining: 187ms\n",
      "5:\tlearn: 19.8893777\ttotal: 72.3ms\tremaining: 169ms\n",
      "6:\tlearn: 19.6223714\ttotal: 82.7ms\tremaining: 154ms\n",
      "7:\tlearn: 19.5387031\ttotal: 92.8ms\tremaining: 139ms\n",
      "8:\tlearn: 19.4475000\ttotal: 103ms\tremaining: 126ms\n",
      "9:\tlearn: 19.2204626\ttotal: 114ms\tremaining: 114ms\n",
      "10:\tlearn: 19.1713672\ttotal: 124ms\tremaining: 102ms\n",
      "11:\tlearn: 18.9466584\ttotal: 134ms\tremaining: 89.5ms\n",
      "12:\tlearn: 18.7927987\ttotal: 145ms\tremaining: 77.9ms\n",
      "13:\tlearn: 18.6283767\ttotal: 155ms\tremaining: 66.5ms\n",
      "14:\tlearn: 18.4423659\ttotal: 165ms\tremaining: 55.1ms\n",
      "15:\tlearn: 18.3427354\ttotal: 175ms\tremaining: 43.9ms\n",
      "16:\tlearn: 18.2750235\ttotal: 187ms\tremaining: 32.9ms\n",
      "17:\tlearn: 18.0097746\ttotal: 203ms\tremaining: 22.5ms\n",
      "18:\tlearn: 17.8608302\ttotal: 215ms\tremaining: 11.3ms\n",
      "19:\tlearn: 17.7991914\ttotal: 229ms\tremaining: 0us\n",
      "Learning rate set to 0.5\n",
      "0:\tlearn: 27.9385407\ttotal: 13.5ms\tremaining: 256ms\n",
      "1:\tlearn: 24.6976348\ttotal: 25.6ms\tremaining: 230ms\n",
      "2:\tlearn: 23.1322107\ttotal: 37.9ms\tremaining: 215ms\n",
      "3:\tlearn: 21.9757058\ttotal: 49.7ms\tremaining: 199ms\n",
      "4:\tlearn: 21.4870313\ttotal: 62.1ms\tremaining: 186ms\n",
      "5:\tlearn: 20.9699664\ttotal: 73.7ms\tremaining: 172ms\n",
      "6:\tlearn: 20.6635817\ttotal: 87.1ms\tremaining: 162ms\n",
      "7:\tlearn: 20.4290748\ttotal: 104ms\tremaining: 156ms\n",
      "8:\tlearn: 20.3735309\ttotal: 116ms\tremaining: 142ms\n",
      "9:\tlearn: 20.2307750\ttotal: 128ms\tremaining: 128ms\n",
      "10:\tlearn: 20.1876404\ttotal: 141ms\tremaining: 115ms\n",
      "11:\tlearn: 20.0766630\ttotal: 153ms\tremaining: 102ms\n",
      "12:\tlearn: 19.9303857\ttotal: 166ms\tremaining: 89.3ms\n",
      "13:\tlearn: 19.8962805\ttotal: 179ms\tremaining: 76.5ms\n",
      "14:\tlearn: 19.7667030\ttotal: 198ms\tremaining: 65.9ms\n",
      "15:\tlearn: 19.6506024\ttotal: 211ms\tremaining: 52.6ms\n",
      "16:\tlearn: 19.5630347\ttotal: 223ms\tremaining: 39.4ms\n",
      "17:\tlearn: 19.4581456\ttotal: 236ms\tremaining: 26.2ms\n",
      "18:\tlearn: 19.2862588\ttotal: 249ms\tremaining: 13.1ms\n",
      "19:\tlearn: 19.1790861\ttotal: 264ms\tremaining: 0us\n",
      "Learning rate set to 0.5\n",
      "0:\tlearn: 24.5251842\ttotal: 43.4ms\tremaining: 391ms\n",
      "1:\tlearn: 21.1090090\ttotal: 67.6ms\tremaining: 271ms\n",
      "2:\tlearn: 19.2174393\ttotal: 91.3ms\tremaining: 213ms\n",
      "3:\tlearn: 18.1599580\ttotal: 114ms\tremaining: 171ms\n",
      "4:\tlearn: 17.3012239\ttotal: 145ms\tremaining: 145ms\n",
      "5:\tlearn: 16.8770567\ttotal: 171ms\tremaining: 114ms\n",
      "6:\tlearn: 16.4181829\ttotal: 196ms\tremaining: 83.8ms\n",
      "7:\tlearn: 16.3513229\ttotal: 220ms\tremaining: 54.9ms\n",
      "8:\tlearn: 16.1118765\ttotal: 256ms\tremaining: 28.4ms\n",
      "9:\tlearn: 16.0152187\ttotal: 279ms\tremaining: 0us\n",
      "Learning rate set to 0.5\n",
      "0:\tlearn: 26.2743336\ttotal: 40.6ms\tremaining: 365ms\n",
      "1:\tlearn: 22.7002168\ttotal: 71.9ms\tremaining: 288ms\n",
      "2:\tlearn: 20.9797125\ttotal: 109ms\tremaining: 255ms\n",
      "3:\tlearn: 19.8730321\ttotal: 137ms\tremaining: 205ms\n",
      "4:\tlearn: 19.0894225\ttotal: 165ms\tremaining: 165ms\n",
      "5:\tlearn: 18.9880070\ttotal: 208ms\tremaining: 139ms\n",
      "6:\tlearn: 18.6451627\ttotal: 244ms\tremaining: 105ms\n",
      "7:\tlearn: 18.2798222\ttotal: 272ms\tremaining: 68ms\n",
      "8:\tlearn: 18.1876165\ttotal: 308ms\tremaining: 34.2ms\n",
      "9:\tlearn: 17.8547601\ttotal: 336ms\tremaining: 0us\n",
      "Learning rate set to 0.5\n",
      "0:\tlearn: 27.1774360\ttotal: 49.7ms\tremaining: 448ms\n",
      "1:\tlearn: 23.6155149\ttotal: 81.3ms\tremaining: 325ms\n",
      "2:\tlearn: 21.7616966\ttotal: 113ms\tremaining: 263ms\n",
      "3:\tlearn: 20.7337218\ttotal: 150ms\tremaining: 225ms\n",
      "4:\tlearn: 20.0832527\ttotal: 180ms\tremaining: 180ms\n",
      "5:\tlearn: 19.6831083\ttotal: 211ms\tremaining: 141ms\n",
      "6:\tlearn: 19.4034080\ttotal: 248ms\tremaining: 106ms\n",
      "7:\tlearn: 19.1621428\ttotal: 279ms\tremaining: 69.7ms\n",
      "8:\tlearn: 19.0176356\ttotal: 311ms\tremaining: 34.5ms\n",
      "9:\tlearn: 18.9602989\ttotal: 350ms\tremaining: 0us\n",
      "Learning rate set to 0.5\n",
      "0:\tlearn: 24.5251842\ttotal: 52ms\tremaining: 988ms\n",
      "1:\tlearn: 21.1090090\ttotal: 78.6ms\tremaining: 707ms\n",
      "2:\tlearn: 19.2174393\ttotal: 108ms\tremaining: 611ms\n",
      "3:\tlearn: 18.1599580\ttotal: 137ms\tremaining: 548ms\n",
      "4:\tlearn: 17.3012239\ttotal: 162ms\tremaining: 485ms\n",
      "5:\tlearn: 16.8770567\ttotal: 184ms\tremaining: 430ms\n",
      "6:\tlearn: 16.4181829\ttotal: 212ms\tremaining: 393ms\n",
      "7:\tlearn: 16.3513229\ttotal: 246ms\tremaining: 369ms\n",
      "8:\tlearn: 16.1118765\ttotal: 270ms\tremaining: 331ms\n",
      "9:\tlearn: 16.0152187\ttotal: 295ms\tremaining: 295ms\n",
      "10:\tlearn: 15.6458050\ttotal: 322ms\tremaining: 263ms\n",
      "11:\tlearn: 15.2314824\ttotal: 346ms\tremaining: 231ms\n",
      "12:\tlearn: 14.9399330\ttotal: 369ms\tremaining: 199ms\n",
      "13:\tlearn: 14.5529651\ttotal: 394ms\tremaining: 169ms\n",
      "14:\tlearn: 14.4310272\ttotal: 423ms\tremaining: 141ms\n",
      "15:\tlearn: 14.0234078\ttotal: 448ms\tremaining: 112ms\n",
      "16:\tlearn: 13.6890888\ttotal: 472ms\tremaining: 83.3ms\n",
      "17:\tlearn: 13.2836411\ttotal: 501ms\tremaining: 55.7ms\n",
      "18:\tlearn: 12.9076281\ttotal: 526ms\tremaining: 27.7ms\n",
      "19:\tlearn: 12.3835616\ttotal: 551ms\tremaining: 0us\n",
      "Learning rate set to 0.5\n",
      "0:\tlearn: 26.2743336\ttotal: 42.3ms\tremaining: 803ms\n",
      "1:\tlearn: 22.7002168\ttotal: 71.8ms\tremaining: 646ms\n",
      "2:\tlearn: 20.9797125\ttotal: 107ms\tremaining: 608ms\n",
      "3:\tlearn: 19.8730321\ttotal: 137ms\tremaining: 546ms\n",
      "4:\tlearn: 19.0894225\ttotal: 165ms\tremaining: 494ms\n",
      "5:\tlearn: 18.9880070\ttotal: 200ms\tremaining: 466ms\n",
      "6:\tlearn: 18.6451627\ttotal: 232ms\tremaining: 430ms\n",
      "7:\tlearn: 18.2798222\ttotal: 260ms\tremaining: 389ms\n",
      "8:\tlearn: 18.1876165\ttotal: 294ms\tremaining: 359ms\n",
      "9:\tlearn: 17.8547601\ttotal: 322ms\tremaining: 322ms\n",
      "10:\tlearn: 17.6139422\ttotal: 350ms\tremaining: 287ms\n",
      "11:\tlearn: 17.3793947\ttotal: 378ms\tremaining: 252ms\n",
      "12:\tlearn: 17.2991490\ttotal: 413ms\tremaining: 223ms\n",
      "13:\tlearn: 16.9738446\ttotal: 442ms\tremaining: 189ms\n",
      "14:\tlearn: 16.8897385\ttotal: 469ms\tremaining: 156ms\n",
      "15:\tlearn: 16.7955087\ttotal: 503ms\tremaining: 126ms\n",
      "16:\tlearn: 16.4821746\ttotal: 535ms\tremaining: 94.4ms\n",
      "17:\tlearn: 16.4235809\ttotal: 562ms\tremaining: 62.4ms\n",
      "18:\tlearn: 16.2284060\ttotal: 595ms\tremaining: 31.3ms\n",
      "19:\tlearn: 16.0329968\ttotal: 626ms\tremaining: 0us\n",
      "Learning rate set to 0.5\n",
      "0:\tlearn: 27.1774360\ttotal: 50.6ms\tremaining: 962ms\n",
      "1:\tlearn: 23.6155149\ttotal: 83.3ms\tremaining: 750ms\n",
      "2:\tlearn: 21.7616966\ttotal: 123ms\tremaining: 699ms\n",
      "3:\tlearn: 20.7337218\ttotal: 157ms\tremaining: 628ms\n",
      "4:\tlearn: 20.0832527\ttotal: 193ms\tremaining: 579ms\n",
      "5:\tlearn: 19.6831083\ttotal: 230ms\tremaining: 537ms\n",
      "6:\tlearn: 19.4034080\ttotal: 263ms\tremaining: 489ms\n",
      "7:\tlearn: 19.1621428\ttotal: 301ms\tremaining: 452ms\n",
      "8:\tlearn: 19.0176356\ttotal: 334ms\tremaining: 409ms\n",
      "9:\tlearn: 18.9602989\ttotal: 364ms\tremaining: 364ms\n",
      "10:\tlearn: 18.8222936\ttotal: 402ms\tremaining: 329ms\n",
      "11:\tlearn: 18.6343387\ttotal: 435ms\tremaining: 290ms\n",
      "12:\tlearn: 18.6014316\ttotal: 466ms\tremaining: 251ms\n",
      "13:\tlearn: 18.3835255\ttotal: 505ms\tremaining: 216ms\n",
      "14:\tlearn: 18.2443490\ttotal: 534ms\tremaining: 178ms\n",
      "15:\tlearn: 18.1688259\ttotal: 564ms\tremaining: 141ms\n",
      "16:\tlearn: 17.9805917\ttotal: 602ms\tremaining: 106ms\n",
      "17:\tlearn: 17.9327892\ttotal: 633ms\tremaining: 70.3ms\n",
      "18:\tlearn: 17.6734793\ttotal: 664ms\tremaining: 35ms\n",
      "19:\tlearn: 17.5012108\ttotal: 702ms\tremaining: 0us\n",
      "Learning rate set to 0.5\n",
      "0:\tlearn: 29.6694813\ttotal: 14.4ms\tremaining: 274ms\n",
      "1:\tlearn: 25.8358419\ttotal: 32.8ms\tremaining: 295ms\n",
      "2:\tlearn: 23.8965966\ttotal: 47.4ms\tremaining: 269ms\n",
      "3:\tlearn: 22.8060703\ttotal: 60.6ms\tremaining: 242ms\n",
      "4:\tlearn: 22.3166815\ttotal: 73.2ms\tremaining: 220ms\n",
      "5:\tlearn: 21.8239764\ttotal: 86.1ms\tremaining: 201ms\n",
      "6:\tlearn: 21.5529637\ttotal: 98.5ms\tremaining: 183ms\n",
      "7:\tlearn: 21.3536654\ttotal: 111ms\tremaining: 166ms\n",
      "8:\tlearn: 21.2111726\ttotal: 131ms\tremaining: 160ms\n",
      "9:\tlearn: 21.1686032\ttotal: 151ms\tremaining: 151ms\n",
      "10:\tlearn: 21.1357242\ttotal: 166ms\tremaining: 136ms\n",
      "11:\tlearn: 21.0079773\ttotal: 179ms\tremaining: 119ms\n",
      "12:\tlearn: 20.8549157\ttotal: 192ms\tremaining: 103ms\n",
      "13:\tlearn: 20.7346960\ttotal: 205ms\tremaining: 87.7ms\n",
      "14:\tlearn: 20.6611343\ttotal: 218ms\tremaining: 72.6ms\n",
      "15:\tlearn: 20.5720051\ttotal: 236ms\tremaining: 58.9ms\n",
      "16:\tlearn: 20.4828404\ttotal: 250ms\tremaining: 44.1ms\n",
      "17:\tlearn: 20.4186805\ttotal: 264ms\tremaining: 29.3ms\n",
      "18:\tlearn: 20.2532502\ttotal: 277ms\tremaining: 14.6ms\n",
      "19:\tlearn: 20.2043280\ttotal: 290ms\tremaining: 0us\n"
     ]
    },
    {
     "data": {
      "text/plain": [
       "GridSearchCV(cv=TimeSeriesSplit(gap=0, max_train_size=None, n_splits=3, test_size=None),\n",
       "             estimator=<catboost.core.CatBoostRegressor object at 0x7f41cfbd3070>,\n",
       "             n_jobs=-1,\n",
       "             param_grid={'max_depth': [2, 4], 'n_estimators': [10, 20]},\n",
       "             verbose=1)"
      ]
     },
     "execution_count": 44,
     "metadata": {},
     "output_type": "execute_result"
    }
   ],
   "source": [
    "model_cat = CatBoostRegressor(random_state=12345)\n",
    "\n",
    "#parameters = {\n",
    "#    'n_estimators': [10, 20, 40, 60, 120],\n",
    "#    'max_depth': [2, 4, 8, 16, 24],\n",
    "#}\n",
    "parameters = {\n",
    "    'n_estimators': [10, 20],\n",
    "    'max_depth': [2, 4],\n",
    "}\n",
    "\n",
    "cat_grid = GridSearchCV(model_cat, parameters, cv=splits, n_jobs=-1, verbose=1)\n",
    "\n",
    "cat_grid.fit(features_train, target_train)"
   ]
  },
  {
   "cell_type": "code",
   "execution_count": 45,
   "metadata": {
    "colab": {
     "base_uri": "https://localhost:8080/"
    },
    "id": "dr2Kzsweiyv4",
    "outputId": "e751ab37-3e49-4142-c91b-5bfdd71afad5"
   },
   "outputs": [
    {
     "name": "stdout",
     "output_type": "stream",
     "text": [
      "RMSE модели CatBoost = 30.36\n"
     ]
    }
   ],
   "source": [
    "cat_pred = cat_grid.best_estimator_.predict(features_valid)\n",
    "print(f'RMSE модели CatBoost = {round(mean_squared_error(target_valid, cat_pred) ** 0.5, 2)}')"
   ]
  },
  {
   "cell_type": "markdown",
   "metadata": {
    "id": "-fQDJ5cEJuZI"
   },
   "source": [
    "##### LGBMRegressor"
   ]
  },
  {
   "cell_type": "code",
   "execution_count": 46,
   "metadata": {
    "colab": {
     "base_uri": "https://localhost:8080/",
     "height": 133
    },
    "id": "PViqxy7pJwOW",
    "outputId": "7295284d-5eb8-41ad-c721-b97d747ed49c"
   },
   "outputs": [
    {
     "name": "stdout",
     "output_type": "stream",
     "text": [
      "Fitting 3 folds for each of 1 candidates, totalling 3 fits\n",
      "[CV 1/3] END ...................max_depth=2, n_estimators=10; total time=   3.5s\n",
      "[CV 2/3] END ...................max_depth=2, n_estimators=10; total time=   4.7s\n",
      "[CV 3/3] END ...................max_depth=2, n_estimators=10; total time=   4.2s\n"
     ]
    },
    {
     "data": {
      "text/plain": [
       "GridSearchCV(cv=TimeSeriesSplit(gap=0, max_train_size=None, n_splits=3, test_size=None),\n",
       "             estimator=LGBMRegressor(random_state=12345), n_jobs=-1,\n",
       "             param_grid={'max_depth': [2], 'n_estimators': [10]}, verbose=3)"
      ]
     },
     "execution_count": 46,
     "metadata": {},
     "output_type": "execute_result"
    }
   ],
   "source": [
    "model_lgb = lgb.LGBMRegressor(random_state=12345)\n",
    "\n",
    "#parameters = {\n",
    "#    'n_estimators': [10, 20, 40, 60, 120],\n",
    "#    'max_depth': [2, 4, 8, 16, 24],\n",
    "#}\n",
    "\n",
    "parameters = {\n",
    "    'n_estimators': [10],\n",
    "    'max_depth': [2],\n",
    "}\n",
    "\n",
    "lgb_grid = GridSearchCV(model_lgb, parameters, cv=splits, n_jobs=-1, verbose=3)\n",
    "\n",
    "lgb_grid.fit(features_train, target_train)"
   ]
  },
  {
   "cell_type": "code",
   "execution_count": 47,
   "metadata": {
    "colab": {
     "base_uri": "https://localhost:8080/"
    },
    "id": "l-sXCe-HJ8zv",
    "outputId": "a4380f0d-e161-417c-8ce4-2b48123982c0"
   },
   "outputs": [
    {
     "name": "stdout",
     "output_type": "stream",
     "text": [
      "RMSE модели LightGBM = 40.61\n"
     ]
    }
   ],
   "source": [
    "lgb_pred = lgb_grid.best_estimator_.predict(features_valid)\n",
    "print(f'RMSE модели LightGBM = {round(mean_squared_error(target_valid, lgb_pred) ** 0.5, 2)}')"
   ]
  },
  {
   "cell_type": "markdown",
   "metadata": {
    "id": "UIgvWIyoY3xx"
   },
   "source": [
    "В ходе обучения моделей и проверки результатов метрики RMSE для каждой, были получены следующие результаты:\n",
    "- LinearRegression: 29.01\n",
    "- RandomForestRegressor: 29.82\n",
    "- CatBoost: 30.36\n",
    "- LightGBM: 29.42"
   ]
  },
  {
   "cell_type": "markdown",
   "metadata": {
    "id": "wGZA9xaDsF56"
   },
   "source": [
    "## Проверка данных на тестовой выборке"
   ]
  },
  {
   "cell_type": "code",
   "execution_count": 48,
   "metadata": {
    "colab": {
     "base_uri": "https://localhost:8080/"
    },
    "id": "HHD-9KSiaxex",
    "outputId": "583d7872-8dbe-4523-faf0-548cbb1cc362"
   },
   "outputs": [
    {
     "name": "stdout",
     "output_type": "stream",
     "text": [
      "RMSE модели LinearRegression = 39.37\n"
     ]
    }
   ],
   "source": [
    "lr_pred_test = model_lr.predict(features_test)\n",
    "print(f'RMSE модели LinearRegression = {round(mean_squared_error(target_test, lr_pred_test) ** 0.5, 2)}')"
   ]
  },
  {
   "cell_type": "code",
   "execution_count": 55,
   "metadata": {},
   "outputs": [
    {
     "data": {
      "image/png": "[encoded data removed]",
      "text/plain": [
       "<Figure size 864x504 with 1 Axes>"
      ]
     },
     "metadata": {
      "needs_background": "light"
     },
     "output_type": "display_data"
    }
   ],
   "source": [
    "plt.figure(figsize=(12, 7))\n",
    "sns.lineplot(data=target_test)\n",
    "sns.lineplot(x=target_test.index, y=lr_pred_test)\n",
    "plt.title('Графики исходного и предсказанных рядов')\n",
    "plt.legend(['Исходные данные', 'Предсказанные данные'])\n",
    "plt.show()"
   ]
  },
  {
   "cell_type": "markdown",
   "metadata": {
    "id": "kbO05TcjsEXP"
   },
   "source": [
    "<div style=\"border:solid orange 2px; padding: 20px\"> \n",
    "\n",
    "## Вывод\n",
    "\n",
    "В ходе работы над данным проектом были загружены и проанализированы предоставленные данные о заказах такси.\\\n",
    "Был проведен анализ на тренд и сезонность данных, в ходе которых выяснилось, что:\n",
    "- Общий тренд идет на повышение количества заказов;\n",
    "- Ближе к полуночи количество заказов увеличивается и достигает своего пика;\n",
    "- К 6 утра же наоборот, кол-во заказов уменьшается, в связи с тем, что начинает\n",
    "ходить общественный транспорт.\n",
    "\n",
    "Далее были созданы дополнительные признаки для обучения на них.\\\n",
    "Данные были разделены на обучающую, валидационную и тестовую выборки, в соотношении 80:10:10.\n",
    "\n",
    "Далее был обучен ряд моделей, таких как: LinearRegression, RandomForestRegressor, CatBoost, LightGBM.\\\n",
    "Были получены результаты на валидационных выборках:\n",
    "- LinearRegression: 29.01\n",
    "- RandomForestRegressor: 29.82\n",
    "- CatBoost: 30.36\n",
    "- LightGBM: 29.42\n",
    "\n",
    "Лучший результат показала модель линейной регрессии, на ней и было проведено тестирование на тестовых данных. Был получен результат RMSE равный 39.29, что удовлетворяет поставленной задаче."
   ]
  }
 ],
 "metadata": {
  "ExecuteTimeLog": [
   {
    "duration": 2484,
    "start_time": "2023-07-27T17:04:37.373Z"
   },
   {
    "duration": 1845,
    "start_time": "2023-07-27T17:04:39.859Z"
   },
   {
    "duration": 150,
    "start_time": "2023-07-27T17:04:41.705Z"
   },
   {
    "duration": 8,
    "start_time": "2023-07-27T17:04:41.858Z"
   },
   {
    "duration": 19,
    "start_time": "2023-07-27T17:04:41.867Z"
   },
   {
    "duration": 10,
    "start_time": "2023-07-27T17:04:41.887Z"
   },
   {
    "duration": 18,
    "start_time": "2023-07-27T17:04:41.898Z"
   },
   {
    "duration": 9,
    "start_time": "2023-07-27T17:04:41.917Z"
   },
   {
    "duration": 317,
    "start_time": "2023-07-27T17:04:41.927Z"
   },
   {
    "duration": 696,
    "start_time": "2023-07-27T17:04:42.247Z"
   },
   {
    "duration": 4,
    "start_time": "2023-07-27T17:04:42.945Z"
   },
   {
    "duration": 396,
    "start_time": "2023-07-27T17:04:42.951Z"
   },
   {
    "duration": 38,
    "start_time": "2023-07-27T17:04:43.349Z"
   },
   {
    "duration": 12,
    "start_time": "2023-07-27T17:04:43.389Z"
   },
   {
    "duration": 54,
    "start_time": "2023-07-27T17:04:43.402Z"
   },
   {
    "duration": 3427,
    "start_time": "2023-07-27T17:04:43.458Z"
   },
   {
    "duration": 4,
    "start_time": "2023-07-27T17:04:46.889Z"
   },
   {
    "duration": 187653,
    "start_time": "2023-07-27T17:04:46.895Z"
   },
   {
    "duration": 4,
    "start_time": "2023-07-27T17:07:54.549Z"
   },
   {
    "duration": 44,
    "start_time": "2023-07-27T17:07:54.554Z"
   },
   {
    "duration": 19087,
    "start_time": "2023-07-27T17:07:54.600Z"
   },
   {
    "duration": 23,
    "start_time": "2023-07-27T17:08:13.688Z"
   },
   {
    "duration": 316270,
    "start_time": "2023-07-27T17:08:13.713Z"
   },
   {
    "duration": 0,
    "start_time": "2023-07-27T17:13:29.988Z"
   },
   {
    "duration": 0,
    "start_time": "2023-07-27T17:13:29.989Z"
   },
   {
    "duration": 0,
    "start_time": "2023-07-27T17:13:29.990Z"
   },
   {
    "duration": 2223,
    "start_time": "2023-07-27T17:13:58.796Z"
   },
   {
    "duration": 3,
    "start_time": "2023-07-27T17:14:01.022Z"
   },
   {
    "duration": 102,
    "start_time": "2023-07-27T17:14:01.027Z"
   },
   {
    "duration": 8,
    "start_time": "2023-07-27T17:14:01.131Z"
   },
   {
    "duration": 52,
    "start_time": "2023-07-27T17:14:01.140Z"
   },
   {
    "duration": 56,
    "start_time": "2023-07-27T17:14:01.193Z"
   },
   {
    "duration": 63,
    "start_time": "2023-07-27T17:14:01.250Z"
   },
   {
    "duration": 55,
    "start_time": "2023-07-27T17:14:01.315Z"
   },
   {
    "duration": 300,
    "start_time": "2023-07-27T17:14:01.371Z"
   },
   {
    "duration": 722,
    "start_time": "2023-07-27T17:14:01.673Z"
   },
   {
    "duration": 4,
    "start_time": "2023-07-27T17:14:02.396Z"
   },
   {
    "duration": 350,
    "start_time": "2023-07-27T17:14:02.402Z"
   },
   {
    "duration": 37,
    "start_time": "2023-07-27T17:14:02.754Z"
   },
   {
    "duration": 13,
    "start_time": "2023-07-27T17:14:02.793Z"
   },
   {
    "duration": 66,
    "start_time": "2023-07-27T17:14:02.807Z"
   },
   {
    "duration": 4588,
    "start_time": "2023-07-27T17:14:02.886Z"
   },
   {
    "duration": 4,
    "start_time": "2023-07-27T17:14:07.488Z"
   },
   {
    "duration": 186912,
    "start_time": "2023-07-27T17:14:07.494Z"
   },
   {
    "duration": 5,
    "start_time": "2023-07-27T17:17:14.407Z"
   },
   {
    "duration": 68,
    "start_time": "2023-07-27T17:17:14.413Z"
   },
   {
    "duration": 14409,
    "start_time": "2023-07-27T17:17:14.483Z"
   },
   {
    "duration": 25,
    "start_time": "2023-07-27T17:17:28.894Z"
   },
   {
    "duration": 16677,
    "start_time": "2023-07-27T17:17:28.921Z"
   },
   {
    "duration": 91,
    "start_time": "2023-07-27T17:17:45.599Z"
   },
   {
    "duration": 13,
    "start_time": "2023-07-27T17:17:45.692Z"
   },
   {
    "duration": 13784,
    "start_time": "2023-07-27T17:17:45.707Z"
   },
   {
    "duration": 241,
    "start_time": "2023-07-27T17:18:23.189Z"
   },
   {
    "duration": 260,
    "start_time": "2023-07-27T17:19:13.499Z"
   },
   {
    "duration": 253,
    "start_time": "2023-07-27T17:19:24.908Z"
   },
   {
    "duration": 307,
    "start_time": "2023-07-27T17:19:30.414Z"
   },
   {
    "duration": 283,
    "start_time": "2023-07-27T17:19:42.460Z"
   },
   {
    "duration": 291,
    "start_time": "2023-07-27T17:20:28.807Z"
   }
  ],
  "colab": {
   "provenance": [],
   "toc_visible": true
  },
  "kernelspec": {
   "display_name": "Python 3 (ipykernel)",
   "language": "python",
   "name": "python3"
  },
  "language_info": {
   "codemirror_mode": {
    "name": "ipython",
    "version": 3
   },
   "file_extension": ".py",
   "mimetype": "text/x-python",
   "name": "python",
   "nbconvert_exporter": "python",
   "pygments_lexer": "ipython3",
   "version": "3.9.19"
  },
  "toc": {
   "base_numbering": 1,
   "nav_menu": {},
   "number_sections": true,
   "sideBar": true,
   "skip_h1_title": true,
   "title_cell": "Table of Contents",
   "title_sidebar": "Contents",
   "toc_cell": false,
   "toc_position": {},
   "toc_section_display": true,
   "toc_window_display": false
  }
 },
 "nbformat": 4,
 "nbformat_minor": 4
}
