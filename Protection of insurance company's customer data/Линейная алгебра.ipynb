{
 "cells": [
  {
   "cell_type": "markdown",
   "id": "2ae65241-7174-4ea5-b95e-7b280b2290bd",
   "metadata": {},
   "source": [
    "## Импорт библиотек"
   ]
  },
  {
   "cell_type": "code",
   "execution_count": 2,
   "id": "cab2ba98",
   "metadata": {},
   "outputs": [],
   "source": [
    "import numpy as np\n",
    "import pandas as pd\n",
    "import matplotlib.pyplot as plt\n",
    "\n",
    "from sklearn.metrics import r2_score\n",
    "from sklearn.linear_model import LinearRegression\n",
    "from sklearn.model_selection import train_test_split"
   ]
  },
  {
   "cell_type": "markdown",
   "id": "f27b4c90",
   "metadata": {},
   "source": [
    "## Загрузка и изучение данных"
   ]
  },
  {
   "cell_type": "code",
   "execution_count": 4,
   "id": "7f5abde3",
   "metadata": {},
   "outputs": [],
   "source": [
    "try:\n",
    "    df = pd.read_csv('C:/Users/trombee/YandexDisk/Учеба/Я. Практикум/insurance (1).csv')\n",
    "except:\n",
    "    df = pd.read_csv('/datasets/insurance.csv')"
   ]
  },
  {
   "cell_type": "code",
   "execution_count": 5,
   "id": "762176dd",
   "metadata": {},
   "outputs": [
    {
     "data": {
      "text/html": [
       "<div>\n",
       "<style scoped>\n",
       "    .dataframe tbody tr th:only-of-type {\n",
       "        vertical-align: middle;\n",
       "    }\n",
       "\n",
       "    .dataframe tbody tr th {\n",
       "        vertical-align: top;\n",
       "    }\n",
       "\n",
       "    .dataframe thead th {\n",
       "        text-align: right;\n",
       "    }\n",
       "</style>\n",
       "<table border=\"1\" class=\"dataframe\">\n",
       "  <thead>\n",
       "    <tr style=\"text-align: right;\">\n",
       "      <th></th>\n",
       "      <th>Пол</th>\n",
       "      <th>Возраст</th>\n",
       "      <th>Зарплата</th>\n",
       "      <th>Члены семьи</th>\n",
       "      <th>Страховые выплаты</th>\n",
       "    </tr>\n",
       "  </thead>\n",
       "  <tbody>\n",
       "    <tr>\n",
       "      <th>0</th>\n",
       "      <td>1</td>\n",
       "      <td>41.0</td>\n",
       "      <td>49600.0</td>\n",
       "      <td>1</td>\n",
       "      <td>0</td>\n",
       "    </tr>\n",
       "    <tr>\n",
       "      <th>1</th>\n",
       "      <td>0</td>\n",
       "      <td>46.0</td>\n",
       "      <td>38000.0</td>\n",
       "      <td>1</td>\n",
       "      <td>1</td>\n",
       "    </tr>\n",
       "    <tr>\n",
       "      <th>2</th>\n",
       "      <td>0</td>\n",
       "      <td>29.0</td>\n",
       "      <td>21000.0</td>\n",
       "      <td>0</td>\n",
       "      <td>0</td>\n",
       "    </tr>\n",
       "    <tr>\n",
       "      <th>3</th>\n",
       "      <td>0</td>\n",
       "      <td>21.0</td>\n",
       "      <td>41700.0</td>\n",
       "      <td>2</td>\n",
       "      <td>0</td>\n",
       "    </tr>\n",
       "    <tr>\n",
       "      <th>4</th>\n",
       "      <td>1</td>\n",
       "      <td>28.0</td>\n",
       "      <td>26100.0</td>\n",
       "      <td>0</td>\n",
       "      <td>0</td>\n",
       "    </tr>\n",
       "  </tbody>\n",
       "</table>\n",
       "</div>"
      ],
      "text/plain": [
       "   Пол  Возраст  Зарплата  Члены семьи  Страховые выплаты\n",
       "0    1     41.0   49600.0            1                  0\n",
       "1    0     46.0   38000.0            1                  1\n",
       "2    0     29.0   21000.0            0                  0\n",
       "3    0     21.0   41700.0            2                  0\n",
       "4    1     28.0   26100.0            0                  0"
      ]
     },
     "execution_count": 5,
     "metadata": {},
     "output_type": "execute_result"
    }
   ],
   "source": [
    "df.head()"
   ]
  },
  {
   "cell_type": "code",
   "execution_count": 61,
   "id": "384ef5f1",
   "metadata": {},
   "outputs": [],
   "source": [
    "df.info()"
   ]
  },
  {
   "cell_type": "code",
   "execution_count": 62,
   "id": "8a65ca8a",
   "metadata": {},
   "outputs": [
    {
     "data": {},
     "execution_count": 62,
     "metadata": {},
     "output_type": "execute_result"
    }
   ],
   "source": [
    "df.describe()"
   ]
  },
  {
   "cell_type": "code",
   "execution_count": 63,
   "id": "b0996ec9",
   "metadata": {},
   "outputs": [],
   "source": [
    "features = df.drop('Страховые выплаты', axis=1)\n",
    "target = df['Страховые выплаты']"
   ]
  },
  {
   "cell_type": "code",
   "execution_count": 64,
   "id": "618b0945",
   "metadata": {},
   "outputs": [
    {
     "data": {},
     "execution_count": 64,
     "metadata": {},
     "output_type": "execute_result"
    }
   ],
   "source": [
    "features.head()"
   ]
  },
  {
   "cell_type": "code",
   "execution_count": 65,
   "id": "4e87afd2",
   "metadata": {},
   "outputs": [
    {
     "data": {},
     "execution_count": 65,
     "metadata": {},
     "output_type": "execute_result"
    }
   ],
   "source": [
    "target.head()"
   ]
  },
  {
   "cell_type": "code",
   "execution_count": 66,
   "id": "bda5514e",
   "metadata": {},
   "outputs": [
    {
     "data": {},
     "execution_count": 66,
     "metadata": {},
     "output_type": "execute_result"
    }
   ],
   "source": [
    "df['Страховые выплаты'].unique()"
   ]
  },
  {
   "cell_type": "markdown",
   "id": "706b17ed",
   "metadata": {},
   "source": [
    "Были загружены данные по страховым выплатам клиентов. Данные чистые, без пропусков в данных. Используются типы данных int и float.\\\n",
    "В данных есть признаки и целевой признак, в виде страховых выплат для клиента. Которые в дальнейшем нужно будет разделить, соответствующим образом.\\\n",
    "Также это задача регрессии, т.к. в целевом признаке указано количество выплат по клиенту\\\n",
    "Данные распределены примерно поровну среди мужчин и женщин. Средний возраст клиентов 30 лет."
   ]
  },
  {
   "cell_type": "markdown",
   "id": "586f8906",
   "metadata": {},
   "source": [
    "## Обоснование решения"
   ]
  },
  {
   "cell_type": "markdown",
   "id": "4bba8966",
   "metadata": {},
   "source": [
    "**Ответ:** Качество линейной регрессии не изменится.\n",
    "\n",
    "**Обоснование:** \n",
    "\n",
    "Предсказания на исходных данных будут равны $a = Xw$\n",
    "\n",
    "В это уравнение необходимо подставить формулу обучения $w = (X^T X)^{-1} X^T y$\n",
    "\n",
    "После подстановки получаем следующее выражение $a = X (X^T X)^{-1} X^T y$\n",
    "\n",
    "Далее раскрываем выражение, используя свойства матриц $a = X X^{-1} (X^T)^{-1} X^T y$\n",
    "\n",
    "По свойству единичной матрицы $ X X^{-1} = E $ получаем $ a = E (X^T)^{-1} X^T y $\n",
    "\n",
    "Также по свойству единичной матрицы $ (X^T)^{-1} X^T = E $ получаем $ a = E E y $"
   ]
  },
  {
   "cell_type": "markdown",
   "id": "2c4ab21f",
   "metadata": {},
   "source": [
    "Предсказания на зашифрованных данных будут равны $ a\\scriptscriptstyle 1 \\textstyle = XPw \\scriptscriptstyle 1 $\n",
    "\n",
    "Подставим формулу обучения $ w \\scriptscriptstyle 1 \\textstyle = ((X P)^T (X P))^{-1} (X P)^T y $\n",
    "\n",
    "Получаем $ a \\scriptscriptstyle 1 \\textstyle = (X P) ((X P)^T (X P))^{-1} (X P)^T y $\n",
    "\n",
    "Далее воспользуемся свойством обратной матрицы: $ ((X P)^T (X P))^{-1} = (X P)^{-1} ((X P)^T)^{-1} $\n",
    "\n",
    "Получим из выражения $ a \\scriptscriptstyle 1 \\textstyle = (X P) (X P)^{-1} ((X P)^T)^{-1} (X P)^T y $ \n",
    "\n",
    "По свойствам единичных матриц, которые были использованы ранее, получим:\n",
    "\n",
    "$$ a\\scriptscriptstyle 1 \\textstyle = E E y\\scriptscriptstyle 1 $$"
   ]
  },
  {
   "cell_type": "markdown",
   "id": "429cebf0",
   "metadata": {},
   "source": [
    "Получается, что $ a = E E y $ и $ a\\scriptscriptstyle 1 \\textstyle = E E y\\scriptscriptstyle 1 $\n",
    "Следовательно: $ a = a\\scriptstyle 1 $"
   ]
  },
  {
   "cell_type": "markdown",
   "id": "fe59e3be",
   "metadata": {},
   "source": [
    "Получается нам нужно доказать следующее $ a = Xw = XEw = XPP^{-1}w = (XP)P^{-1}w = (XP)w' $\n",
    "\n",
    "$ w = (X^T X)^{-1} X^T y $\n",
    "\n",
    "$ w' = ((XP)^T XP)^{-1} (XP)^T y $\n",
    "\n",
    "$ w' = (P^T (X^T X) P)^{-1} (XP)^T y $\n",
    "\n",
    "Далее, по свойству обратимости $ (AB)^{-1} = B^{-1} A^{-1} $\n",
    "\n",
    "Получим $ w' = P^{-1} (X^T X)^{-1} (P^T)^{-1} P^T X^T y $\n",
    "\n",
    "По свойству $ A A^{-1} = A^{-1} A = E $, будет $ w' = P^{-1} (X^T X)^{-1} E X^T y $\n",
    "\n",
    "Согласно свойства $ AE = EA = A $ и выражения $ w = (X^T X)^{-1} X^T y $\n",
    "\n",
    "Будет $ w' = P^{-1} w $\n",
    "\n",
    "Тем самым доказано, что $ a = a\\scriptstyle 1 $"
   ]
  },
  {
   "cell_type": "markdown",
   "id": "cf308cfa",
   "metadata": {},
   "source": [
    "### "
   ]
  },
  {
   "cell_type": "markdown",
   "id": "68725c40",
   "metadata": {},
   "source": [
    "Исходя из доказательства выше, можно сказать, что качество линейной регрессии не изменится, если умножить признаки на обратную матрицу\\\n",
    "Поэтому, можно использовать этот алгоритм для преобразования данных"
   ]
  },
  {
   "cell_type": "markdown",
   "id": "6085b59a",
   "metadata": {},
   "source": [
    "Тогда алгоритм будет выглядеть следующим образом:\n",
    " - Разделим признаки и целевой признак на обучающую и тестовую выборку;\n",
    " - Далее обучим модель и проверим метрику r2_score на исходных данных\n",
    " - Далее создадим обратную матрицу;\n",
    " - Умножим обратную матрицу на матрицу признаков;\n",
    " - Далее обучение модели на преобразованных данных и проверка метрика r2_score на этих данных;\n",
    " - Сравнение двух метрик\n",
    " \n",
    "Выбран данный алгоритм, т.к. в итоге метрики r2_score при обучении на исходных данных, и на преобразованных практически не отличаются. А при этом, данные будут защищены."
   ]
  },
  {
   "cell_type": "markdown",
   "id": "3d36d553",
   "metadata": {},
   "source": [
    "### "
   ]
  },
  {
   "cell_type": "code",
   "execution_count": 67,
   "id": "917e0ef3",
   "metadata": {},
   "outputs": [],
   "source": [
    "features_train, features_test, target_train, target_test = train_test_split(features,\n",
    "                                                                            target,\n",
    "                                                                            test_size=0.25,\n",
    "                                                                            random_state=12345)"
   ]
  },
  {
   "cell_type": "code",
   "execution_count": 68,
   "id": "11702992",
   "metadata": {},
   "outputs": [],
   "source": [
    "model = LinearRegression()\n",
    "model.fit(features_train, target_train)\n",
    "predictions = model.predict(features_test)\n",
    "print(f'Метрика R2_score ={r2_score(target_test, predictions)}')"
   ]
  },
  {
   "cell_type": "code",
   "execution_count": 69,
   "id": "ae90c23e",
   "metadata": {},
   "outputs": [],
   "source": [
    "matrix = np.random.randn(4, 4)\n",
    "inv_matrix = np.linalg.inv(matrix)"
   ]
  },
  {
   "cell_type": "code",
   "execution_count": 70,
   "id": "67d1d845",
   "metadata": {},
   "outputs": [],
   "source": [
    "features_inv = features @ matrix"
   ]
  },
  {
   "cell_type": "code",
   "execution_count": 71,
   "id": "8bd78d59",
   "metadata": {},
   "outputs": [],
   "source": [
    "model_inv = LinearRegression()\n",
    "model_inv.fit(features_inv, target)\n",
    "predictions_inv = model_inv.predict(features_inv)\n",
    "print(f'Метрика R2_score на преобразованных данных = {r2_score(target, predictions_inv)}')"
   ]
  },
  {
   "cell_type": "markdown",
   "id": "ef9ae062",
   "metadata": {},
   "source": [
    "По итогу проверки данного алгоритму получилось, что метрика r2_score показывает одинаковый результат на исходных данных и на преобразованных данных."
   ]
  },
  {
   "cell_type": "markdown",
   "id": "ce6e478f",
   "metadata": {},
   "source": [
    "<div style=\"border:solid orange 2px; padding: 20px\">\n",
    "\n",
    "## Вывод\n",
    "\n",
    "В ходе работы на проектом \"защита персональных данных клиента\" был загружен и изучен набор данных о страховых выплатах клиентов.\n",
    "\n",
    "Были сформированы выборки из признаков и целевого признака.\n",
    "\n",
    "Также было доказано, что данные можно зашифровать путем умножения исходных признаков на обратную матрицу. После чего качество модели линейной регресси не изменилось, а данные остались защищены от злоумышленников."
   ]
  }
 ],
 "metadata": {
  "ExecuteTimeLog": [
   {
    "duration": 61,
    "start_time": "2023-06-23T12:36:33.364Z"
   },
   {
    "duration": 1821,
    "start_time": "2023-06-23T12:36:37.263Z"
   },
   {
    "duration": 127,
    "start_time": "2023-06-23T12:36:39.086Z"
   },
   {
    "duration": 132,
    "start_time": "2023-06-23T12:36:48.906Z"
   },
   {
    "duration": 15,
    "start_time": "2023-06-23T12:36:50.526Z"
   }
  ],
  "kernelspec": {
   "display_name": "Python 3 (ipykernel)",
   "language": "python",
   "name": "python3"
  },
  "language_info": {
   "codemirror_mode": {
    "name": "ipython",
    "version": 3
   },
   "file_extension": ".py",
   "mimetype": "text/x-python",
   "name": "python",
   "nbconvert_exporter": "python",
   "pygments_lexer": "ipython3",
   "version": "3.9.19"
  },
  "toc": {
   "base_numbering": 1,
   "nav_menu": {},
   "number_sections": true,
   "sideBar": true,
   "skip_h1_title": true,
   "title_cell": "Table of Contents",
   "title_sidebar": "Contents",
   "toc_cell": false,
   "toc_position": {},
   "toc_section_display": true,
   "toc_window_display": false
  }
 },
 "nbformat": 4,
 "nbformat_minor": 5
}
