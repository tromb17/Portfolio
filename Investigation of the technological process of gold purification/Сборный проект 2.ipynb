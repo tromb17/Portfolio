{
 "cells": [
  {
   "cell_type": "markdown",
   "id": "3caafec5",
   "metadata": {},
   "source": [
    "<div style=\"border:solid orange 2px; padding: 20px\">\n",
    "\n",
    "# Сборный проект 2\n",
    "\n",
    "Необходимо подготовить прототип модели машинного обучения для «Цифры». Компания разрабатывает решения для эффективной работы промышленных предприятий.\\\n",
    "Модель должна предсказать коэффициент восстановления золота из золотосодержащей руды. В вашем распоряжении данные с параметрами добычи и очистки.\\\n",
    "Модель поможет оптимизировать производство, чтобы не запускать предприятие с убыточными характеристиками.\n",
    "\n",
    "Цель проекта:\\\n",
    "Проект выполняется для закрепления пройденного материала, также чтобы потренироваться в выполнении проекта от начала (предобработки данных) до его завершения (создание лучшей модели для бизнеса).\n",
    "\n",
    "Задачи проекта:\n",
    "- Подготовка данных:\n",
    "    - Расчет MAE между расчетами и значениями признака;\n",
    "    - Анализ признаков, недоступных в тестовой выборке;\n",
    "    - Предобработка данных;\n",
    "- Анализ данных:\n",
    "    - Оценка изменения констрации металлов на разных этапах;\n",
    "    - Сравнение распределения размеров гранул исходного сырья;\n",
    "    - Расчет суммарной концентрации металлов на разных стадиях;\n",
    "- Построение модели:\n",
    "    - Написание функции smape;\n",
    "    - Обучение моделей и оценка их качества;\n",
    "    - Выбор лучшей модели и проверка ее на тестовой выборке.\n",
    "    \n",
    "Описание данных:\n",
    "- Технологический процесс:\n",
    "    - Rougher feed — исходное сырье\n",
    "    - Rougher additions (или reagent additions) — флотационные реагенты: Xanthate, Sulphate, Depressant\n",
    "    - Xanthate — ксантогенат (промотер, или активатор флотации);\n",
    "    - Sulphate — сульфат (на данном производстве сульфид натрия);\n",
    "    - Depressant — депрессант (силикат натрия).\n",
    "    - Rougher process (англ. «грубый процесс») — флотация\n",
    "    - Rougher tails — отвальные хвосты\n",
    "    - Float banks — флотационная установка\n",
    "    - Cleaner process — очистка\n",
    "    - Rougher Au — черновой концентрат золота\n",
    "    - Final Au — финальный концентрат золота\n",
    "- Параметры этапов:\n",
    "    - air amount — объём воздуха\n",
    "    - fluid levels — уровень жидкости\n",
    "    - feed size — размер гранул сырья\n",
    "    - feed rate — скорость подачи\n",
    "- Наименование признаков\n",
    "\n",
    "    Наименование признаков должно быть такое:\n",
    "    [этап].[тип_параметра].[название_параметра]\n",
    "    \n",
    "    Пример: rougher.input.feed_ag\n",
    "    \n",
    "    Возможные значения для блока [этап]:\n",
    "        - rougher — флотация\n",
    "        - primary_cleaner — первичная очистка\n",
    "        - secondary_cleaner — вторичная очистка\n",
    "        - final — финальные характеристики\n",
    "    Возможные значения для блока [тип_параметра]:\n",
    "        - input — параметры сырья\n",
    "        - output — параметры продукта\n",
    "        - state — параметры, характеризующие текущее состояние этапа\n",
    "        - calculation — расчётные характеристики"
   ]
  },
  {
   "cell_type": "markdown",
   "id": "66e577f9-9085-405c-ae39-1a57c8f18996",
   "metadata": {},
   "source": [
    "## Импорт библиотек и выгрузка данных"
   ]
  },
  {
   "cell_type": "code",
   "execution_count": 378,
   "id": "449d06c4",
   "metadata": {},
   "outputs": [],
   "source": [
    "import pandas as pd\n",
    "import numpy as np\n",
    "import seaborn as sns\n",
    "\n",
    "from sklearn.metrics import mean_absolute_error\n",
    "from sklearn.metrics import make_scorer\n",
    "\n",
    "from sklearn.model_selection import cross_val_score\n",
    "from sklearn.model_selection import cross_val_predict\n",
    "from sklearn.model_selection import GridSearchCV\n",
    "\n",
    "from sklearn.pipeline import Pipeline\n",
    "\n",
    "from sklearn.preprocessing import StandardScaler\n",
    "\n",
    "from sklearn.ensemble import RandomForestRegressor\n",
    "from sklearn.tree import DecisionTreeRegressor\n",
    "from sklearn.linear_model import LinearRegression\n",
    "from sklearn.dummy import DummyRegressor\n",
    "from sklearn.linear_model import Lasso\n",
    "from sklearn.linear_model import ElasticNet\n",
    "\n",
    "import matplotlib.pyplot as plt\n",
    "\n",
    "plt.rcParams[\"figure.figsize\"] = (10, 7)"
   ]
  },
  {
   "cell_type": "code",
   "execution_count": 316,
   "id": "f29f5b08",
   "metadata": {},
   "outputs": [],
   "source": [
    "try:\n",
    "    g_r_train = pd.read_csv('C:/Users/trombee/YandexDisk/Учеба/Я. Практикум/Сборный проетк - 2/gold_industry_train.csv')\n",
    "    g_r_test = pd.read_csv('C:/Users/trombee/YandexDisk/Учеба/Я. Практикум/Сборный проетк - 2/gold_industry_test.csv')\n",
    "    g_r_full = pd.read_csv('C:/Users/trombee/YandexDisk/Учеба/Я. Практикум/Сборный проетк - 2/gold_industry_full.csv')\n",
    "except:\n",
    "    g_r_train = pd.read_csv('/datasets/gold_industry_train.csv')\n",
    "    g_r_test = pd.read_csv('/datasets/gold_industry_test.csv')\n",
    "    g_r_full = pd.read_csv('/datasets/gold_industry_full.csv')"
   ]
  },
  {
   "cell_type": "code",
   "execution_count": 317,
   "id": "d9017885",
   "metadata": {
    "scrolled": true
   },
   "outputs": [
    {
     "name": "stdout",
     "output_type": "stream",
     "text": [
      "<class 'pandas.core.frame.DataFrame'>\n",
      "RangeIndex: 14579 entries, 0 to 14578\n",
      "Data columns (total 87 columns):\n",
      " #   Column                                              Non-Null Count  Dtype  \n",
      "---  ------                                              --------------  -----  \n",
      " 0   date                                                14579 non-null  object \n",
      " 1   rougher.input.feed_au                               14579 non-null  float64\n",
      " 2   rougher.input.feed_ag                               14579 non-null  float64\n",
      " 3   rougher.input.feed_pb                               14507 non-null  float64\n",
      " 4   rougher.input.feed_sol                              14502 non-null  float64\n",
      " 5   rougher.input.feed_rate                             14572 non-null  float64\n",
      " 6   rougher.input.feed_size                             14478 non-null  float64\n",
      " 7   rougher.input.floatbank10_sulfate                   14548 non-null  float64\n",
      " 8   rougher.input.floatbank10_xanthate                  14572 non-null  float64\n",
      " 9   rougher.state.floatbank10_a_air                     14579 non-null  float64\n",
      " 10  rougher.state.floatbank10_a_level                   14579 non-null  float64\n",
      " 11  rougher.state.floatbank10_b_air                     14579 non-null  float64\n",
      " 12  rougher.state.floatbank10_b_level                   14579 non-null  float64\n",
      " 13  rougher.state.floatbank10_c_air                     14579 non-null  float64\n",
      " 14  rougher.state.floatbank10_c_level                   14579 non-null  float64\n",
      " 15  rougher.state.floatbank10_d_air                     14579 non-null  float64\n",
      " 16  rougher.state.floatbank10_d_level                   14579 non-null  float64\n",
      " 17  rougher.state.floatbank10_e_air                     14150 non-null  float64\n",
      " 18  rougher.state.floatbank10_e_level                   14579 non-null  float64\n",
      " 19  rougher.state.floatbank10_f_air                     14579 non-null  float64\n",
      " 20  rougher.state.floatbank10_f_level                   14579 non-null  float64\n",
      " 21  rougher.input.floatbank11_sulfate                   14543 non-null  float64\n",
      " 22  rougher.input.floatbank11_xanthate                  14172 non-null  float64\n",
      " 23  rougher.calculation.sulfate_to_au_concentrate       14578 non-null  float64\n",
      " 24  rougher.calculation.floatbank10_sulfate_to_au_feed  14578 non-null  float64\n",
      " 25  rougher.calculation.floatbank11_sulfate_to_au_feed  14578 non-null  float64\n",
      " 26  rougher.calculation.au_pb_ratio                     14579 non-null  float64\n",
      " 27  rougher.output.concentrate_au                       14579 non-null  float64\n",
      " 28  rougher.output.concentrate_ag                       14579 non-null  float64\n",
      " 29  rougher.output.concentrate_pb                       14579 non-null  float64\n",
      " 30  rougher.output.concentrate_sol                      14561 non-null  float64\n",
      " 31  rougher.output.recovery                             14579 non-null  float64\n",
      " 32  rougher.output.tail_au                              14579 non-null  float64\n",
      " 33  rougher.output.tail_ag                              14578 non-null  float64\n",
      " 34  rougher.output.tail_pb                              14579 non-null  float64\n",
      " 35  rougher.output.tail_sol                             14579 non-null  float64\n",
      " 36  primary_cleaner.input.sulfate                       14556 non-null  float64\n",
      " 37  primary_cleaner.input.depressant                    14551 non-null  float64\n",
      " 38  primary_cleaner.input.feed_size                     14579 non-null  float64\n",
      " 39  primary_cleaner.input.xanthate                      14518 non-null  float64\n",
      " 40  primary_cleaner.state.floatbank8_a_air              14576 non-null  float64\n",
      " 41  primary_cleaner.state.floatbank8_a_level            14579 non-null  float64\n",
      " 42  primary_cleaner.state.floatbank8_b_air              14576 non-null  float64\n",
      " 43  primary_cleaner.state.floatbank8_b_level            14579 non-null  float64\n",
      " 44  primary_cleaner.state.floatbank8_c_air              14579 non-null  float64\n",
      " 45  primary_cleaner.state.floatbank8_c_level            14579 non-null  float64\n",
      " 46  primary_cleaner.state.floatbank8_d_air              14578 non-null  float64\n",
      " 47  primary_cleaner.state.floatbank8_d_level            14579 non-null  float64\n",
      " 48  primary_cleaner.output.concentrate_au               14579 non-null  float64\n",
      " 49  primary_cleaner.output.concentrate_ag               14579 non-null  float64\n",
      " 50  primary_cleaner.output.concentrate_pb               14491 non-null  float64\n",
      " 51  primary_cleaner.output.concentrate_sol              14314 non-null  float64\n",
      " 52  primary_cleaner.output.tail_au                      14579 non-null  float64\n",
      " 53  primary_cleaner.output.tail_ag                      14575 non-null  float64\n",
      " 54  primary_cleaner.output.tail_pb                      14573 non-null  float64\n",
      " 55  primary_cleaner.output.tail_sol                     14534 non-null  float64\n",
      " 56  secondary_cleaner.state.floatbank2_a_air            14485 non-null  float64\n",
      " 57  secondary_cleaner.state.floatbank2_a_level          14579 non-null  float64\n",
      " 58  secondary_cleaner.state.floatbank2_b_air            14557 non-null  float64\n",
      " 59  secondary_cleaner.state.floatbank2_b_level          14579 non-null  float64\n",
      " 60  secondary_cleaner.state.floatbank3_a_air            14567 non-null  float64\n",
      " 61  secondary_cleaner.state.floatbank3_a_level          14579 non-null  float64\n",
      " 62  secondary_cleaner.state.floatbank3_b_air            14579 non-null  float64\n",
      " 63  secondary_cleaner.state.floatbank3_b_level          14579 non-null  float64\n",
      " 64  secondary_cleaner.state.floatbank4_a_air            14574 non-null  float64\n",
      " 65  secondary_cleaner.state.floatbank4_a_level          14579 non-null  float64\n",
      " 66  secondary_cleaner.state.floatbank4_b_air            14579 non-null  float64\n",
      " 67  secondary_cleaner.state.floatbank4_b_level          14579 non-null  float64\n",
      " 68  secondary_cleaner.state.floatbank5_a_air            14579 non-null  float64\n",
      " 69  secondary_cleaner.state.floatbank5_a_level          14579 non-null  float64\n",
      " 70  secondary_cleaner.state.floatbank5_b_air            14579 non-null  float64\n",
      " 71  secondary_cleaner.state.floatbank5_b_level          14579 non-null  float64\n",
      " 72  secondary_cleaner.state.floatbank6_a_air            14578 non-null  float64\n",
      " 73  secondary_cleaner.state.floatbank6_a_level          14579 non-null  float64\n",
      " 74  secondary_cleaner.output.tail_au                    14579 non-null  float64\n",
      " 75  secondary_cleaner.output.tail_ag                    14578 non-null  float64\n",
      " 76  secondary_cleaner.output.tail_pb                    14575 non-null  float64\n",
      " 77  secondary_cleaner.output.tail_sol                   13659 non-null  float64\n",
      " 78  final.output.concentrate_au                         14579 non-null  float64\n",
      " 79  final.output.concentrate_ag                         14578 non-null  float64\n",
      " 80  final.output.concentrate_pb                         14578 non-null  float64\n",
      " 81  final.output.concentrate_sol                        14387 non-null  float64\n",
      " 82  final.output.recovery                               14579 non-null  float64\n",
      " 83  final.output.tail_au                                14579 non-null  float64\n",
      " 84  final.output.tail_ag                                14578 non-null  float64\n",
      " 85  final.output.tail_pb                                14504 non-null  float64\n",
      " 86  final.output.tail_sol                               14574 non-null  float64\n",
      "dtypes: float64(86), object(1)\n",
      "memory usage: 9.7+ MB\n"
     ]
    }
   ],
   "source": [
    "g_r_train.info()"
   ]
  },
  {
   "cell_type": "code",
   "execution_count": 318,
   "id": "f9a7fe14",
   "metadata": {},
   "outputs": [
    {
     "data": {
      "text/html": [
       "<div>\n",
       "<style scoped>\n",
       "    .dataframe tbody tr th:only-of-type {\n",
       "        vertical-align: middle;\n",
       "    }\n",
       "\n",
       "    .dataframe tbody tr th {\n",
       "        vertical-align: top;\n",
       "    }\n",
       "\n",
       "    .dataframe thead th {\n",
       "        text-align: right;\n",
       "    }\n",
       "</style>\n",
       "<table border=\"1\" class=\"dataframe\">\n",
       "  <thead>\n",
       "    <tr style=\"text-align: right;\">\n",
       "      <th></th>\n",
       "      <th>rougher.input.feed_au</th>\n",
       "      <th>rougher.input.feed_ag</th>\n",
       "      <th>rougher.input.feed_pb</th>\n",
       "      <th>rougher.input.feed_sol</th>\n",
       "      <th>rougher.input.feed_rate</th>\n",
       "      <th>rougher.input.feed_size</th>\n",
       "      <th>rougher.input.floatbank10_sulfate</th>\n",
       "      <th>rougher.input.floatbank10_xanthate</th>\n",
       "      <th>rougher.state.floatbank10_a_air</th>\n",
       "      <th>rougher.state.floatbank10_a_level</th>\n",
       "      <th>...</th>\n",
       "      <th>secondary_cleaner.output.tail_sol</th>\n",
       "      <th>final.output.concentrate_au</th>\n",
       "      <th>final.output.concentrate_ag</th>\n",
       "      <th>final.output.concentrate_pb</th>\n",
       "      <th>final.output.concentrate_sol</th>\n",
       "      <th>final.output.recovery</th>\n",
       "      <th>final.output.tail_au</th>\n",
       "      <th>final.output.tail_ag</th>\n",
       "      <th>final.output.tail_pb</th>\n",
       "      <th>final.output.tail_sol</th>\n",
       "    </tr>\n",
       "  </thead>\n",
       "  <tbody>\n",
       "    <tr>\n",
       "      <th>count</th>\n",
       "      <td>14579.000000</td>\n",
       "      <td>14579.000000</td>\n",
       "      <td>14507.000000</td>\n",
       "      <td>14502.000000</td>\n",
       "      <td>14572.000000</td>\n",
       "      <td>14478.000000</td>\n",
       "      <td>14548.000000</td>\n",
       "      <td>14572.000000</td>\n",
       "      <td>14579.000000</td>\n",
       "      <td>14579.000000</td>\n",
       "      <td>...</td>\n",
       "      <td>13659.000000</td>\n",
       "      <td>14579.000000</td>\n",
       "      <td>14578.000000</td>\n",
       "      <td>14578.000000</td>\n",
       "      <td>14387.000000</td>\n",
       "      <td>14579.000000</td>\n",
       "      <td>14579.000000</td>\n",
       "      <td>14578.000000</td>\n",
       "      <td>14504.000000</td>\n",
       "      <td>14574.000000</td>\n",
       "    </tr>\n",
       "    <tr>\n",
       "      <th>mean</th>\n",
       "      <td>8.352941</td>\n",
       "      <td>8.877460</td>\n",
       "      <td>3.604221</td>\n",
       "      <td>36.561420</td>\n",
       "      <td>474.332784</td>\n",
       "      <td>58.922712</td>\n",
       "      <td>12.427399</td>\n",
       "      <td>5.994854</td>\n",
       "      <td>1104.208278</td>\n",
       "      <td>-379.367166</td>\n",
       "      <td>...</td>\n",
       "      <td>7.111347</td>\n",
       "      <td>43.979499</td>\n",
       "      <td>5.192145</td>\n",
       "      <td>9.923809</td>\n",
       "      <td>9.566676</td>\n",
       "      <td>66.759066</td>\n",
       "      <td>3.087939</td>\n",
       "      <td>9.731972</td>\n",
       "      <td>2.719985</td>\n",
       "      <td>10.612745</td>\n",
       "    </tr>\n",
       "    <tr>\n",
       "      <th>std</th>\n",
       "      <td>1.934376</td>\n",
       "      <td>1.922536</td>\n",
       "      <td>1.056063</td>\n",
       "      <td>5.209823</td>\n",
       "      <td>108.503552</td>\n",
       "      <td>22.407410</td>\n",
       "      <td>3.428939</td>\n",
       "      <td>1.152873</td>\n",
       "      <td>162.235606</td>\n",
       "      <td>94.652311</td>\n",
       "      <td>...</td>\n",
       "      <td>3.909951</td>\n",
       "      <td>5.471437</td>\n",
       "      <td>1.388014</td>\n",
       "      <td>1.706976</td>\n",
       "      <td>2.805654</td>\n",
       "      <td>10.619709</td>\n",
       "      <td>0.915187</td>\n",
       "      <td>2.358143</td>\n",
       "      <td>0.958929</td>\n",
       "      <td>2.871075</td>\n",
       "    </tr>\n",
       "    <tr>\n",
       "      <th>min</th>\n",
       "      <td>0.010000</td>\n",
       "      <td>0.010000</td>\n",
       "      <td>0.010000</td>\n",
       "      <td>0.010000</td>\n",
       "      <td>0.002986</td>\n",
       "      <td>0.049194</td>\n",
       "      <td>0.001083</td>\n",
       "      <td>0.000568</td>\n",
       "      <td>-0.042069</td>\n",
       "      <td>-657.949759</td>\n",
       "      <td>...</td>\n",
       "      <td>0.000000</td>\n",
       "      <td>0.000000</td>\n",
       "      <td>0.000000</td>\n",
       "      <td>0.000000</td>\n",
       "      <td>0.000000</td>\n",
       "      <td>0.000000</td>\n",
       "      <td>0.000000</td>\n",
       "      <td>0.000000</td>\n",
       "      <td>0.000000</td>\n",
       "      <td>0.000000</td>\n",
       "    </tr>\n",
       "    <tr>\n",
       "      <th>25%</th>\n",
       "      <td>6.932996</td>\n",
       "      <td>7.341922</td>\n",
       "      <td>2.880490</td>\n",
       "      <td>34.093951</td>\n",
       "      <td>411.048483</td>\n",
       "      <td>47.278490</td>\n",
       "      <td>10.002832</td>\n",
       "      <td>5.304167</td>\n",
       "      <td>999.644856</td>\n",
       "      <td>-499.861797</td>\n",
       "      <td>...</td>\n",
       "      <td>3.784897</td>\n",
       "      <td>43.345906</td>\n",
       "      <td>4.283347</td>\n",
       "      <td>9.103183</td>\n",
       "      <td>7.860030</td>\n",
       "      <td>63.114596</td>\n",
       "      <td>2.505287</td>\n",
       "      <td>8.088928</td>\n",
       "      <td>2.036512</td>\n",
       "      <td>9.013412</td>\n",
       "    </tr>\n",
       "    <tr>\n",
       "      <th>50%</th>\n",
       "      <td>8.225284</td>\n",
       "      <td>8.715859</td>\n",
       "      <td>3.532399</td>\n",
       "      <td>37.097511</td>\n",
       "      <td>498.187968</td>\n",
       "      <td>54.361187</td>\n",
       "      <td>12.003320</td>\n",
       "      <td>6.003053</td>\n",
       "      <td>1000.982624</td>\n",
       "      <td>-300.314199</td>\n",
       "      <td>...</td>\n",
       "      <td>7.629968</td>\n",
       "      <td>44.975014</td>\n",
       "      <td>5.118647</td>\n",
       "      <td>10.046455</td>\n",
       "      <td>9.301970</td>\n",
       "      <td>67.962788</td>\n",
       "      <td>3.029238</td>\n",
       "      <td>9.818512</td>\n",
       "      <td>2.774847</td>\n",
       "      <td>10.670515</td>\n",
       "    </tr>\n",
       "    <tr>\n",
       "      <th>75%</th>\n",
       "      <td>9.832210</td>\n",
       "      <td>10.255843</td>\n",
       "      <td>4.257282</td>\n",
       "      <td>39.899799</td>\n",
       "      <td>549.586552</td>\n",
       "      <td>64.464926</td>\n",
       "      <td>14.929903</td>\n",
       "      <td>6.796632</td>\n",
       "      <td>1292.663971</td>\n",
       "      <td>-299.989315</td>\n",
       "      <td>...</td>\n",
       "      <td>10.367050</td>\n",
       "      <td>46.275153</td>\n",
       "      <td>5.925380</td>\n",
       "      <td>10.981203</td>\n",
       "      <td>11.001573</td>\n",
       "      <td>72.598187</td>\n",
       "      <td>3.614098</td>\n",
       "      <td>11.169187</td>\n",
       "      <td>3.353845</td>\n",
       "      <td>12.130827</td>\n",
       "    </tr>\n",
       "    <tr>\n",
       "      <th>max</th>\n",
       "      <td>13.731330</td>\n",
       "      <td>14.596026</td>\n",
       "      <td>7.052325</td>\n",
       "      <td>53.475325</td>\n",
       "      <td>717.508837</td>\n",
       "      <td>484.967466</td>\n",
       "      <td>36.118275</td>\n",
       "      <td>9.703448</td>\n",
       "      <td>1512.299531</td>\n",
       "      <td>-273.776101</td>\n",
       "      <td>...</td>\n",
       "      <td>26.000772</td>\n",
       "      <td>52.756638</td>\n",
       "      <td>16.001945</td>\n",
       "      <td>16.705297</td>\n",
       "      <td>19.423912</td>\n",
       "      <td>100.000000</td>\n",
       "      <td>8.245022</td>\n",
       "      <td>19.552149</td>\n",
       "      <td>5.804178</td>\n",
       "      <td>22.317730</td>\n",
       "    </tr>\n",
       "  </tbody>\n",
       "</table>\n",
       "<p>8 rows × 86 columns</p>\n",
       "</div>"
      ],
      "text/plain": [
       "       rougher.input.feed_au  rougher.input.feed_ag  rougher.input.feed_pb  \\\n",
       "count           14579.000000           14579.000000           14507.000000   \n",
       "mean                8.352941               8.877460               3.604221   \n",
       "std                 1.934376               1.922536               1.056063   \n",
       "min                 0.010000               0.010000               0.010000   \n",
       "25%                 6.932996               7.341922               2.880490   \n",
       "50%                 8.225284               8.715859               3.532399   \n",
       "75%                 9.832210              10.255843               4.257282   \n",
       "max                13.731330              14.596026               7.052325   \n",
       "\n",
       "       rougher.input.feed_sol  rougher.input.feed_rate  \\\n",
       "count            14502.000000             14572.000000   \n",
       "mean                36.561420               474.332784   \n",
       "std                  5.209823               108.503552   \n",
       "min                  0.010000                 0.002986   \n",
       "25%                 34.093951               411.048483   \n",
       "50%                 37.097511               498.187968   \n",
       "75%                 39.899799               549.586552   \n",
       "max                 53.475325               717.508837   \n",
       "\n",
       "       rougher.input.feed_size  rougher.input.floatbank10_sulfate  \\\n",
       "count             14478.000000                       14548.000000   \n",
       "mean                 58.922712                          12.427399   \n",
       "std                  22.407410                           3.428939   \n",
       "min                   0.049194                           0.001083   \n",
       "25%                  47.278490                          10.002832   \n",
       "50%                  54.361187                          12.003320   \n",
       "75%                  64.464926                          14.929903   \n",
       "max                 484.967466                          36.118275   \n",
       "\n",
       "       rougher.input.floatbank10_xanthate  rougher.state.floatbank10_a_air  \\\n",
       "count                        14572.000000                     14579.000000   \n",
       "mean                             5.994854                      1104.208278   \n",
       "std                              1.152873                       162.235606   \n",
       "min                              0.000568                        -0.042069   \n",
       "25%                              5.304167                       999.644856   \n",
       "50%                              6.003053                      1000.982624   \n",
       "75%                              6.796632                      1292.663971   \n",
       "max                              9.703448                      1512.299531   \n",
       "\n",
       "       rougher.state.floatbank10_a_level  ...  \\\n",
       "count                       14579.000000  ...   \n",
       "mean                         -379.367166  ...   \n",
       "std                            94.652311  ...   \n",
       "min                          -657.949759  ...   \n",
       "25%                          -499.861797  ...   \n",
       "50%                          -300.314199  ...   \n",
       "75%                          -299.989315  ...   \n",
       "max                          -273.776101  ...   \n",
       "\n",
       "       secondary_cleaner.output.tail_sol  final.output.concentrate_au  \\\n",
       "count                       13659.000000                 14579.000000   \n",
       "mean                            7.111347                    43.979499   \n",
       "std                             3.909951                     5.471437   \n",
       "min                             0.000000                     0.000000   \n",
       "25%                             3.784897                    43.345906   \n",
       "50%                             7.629968                    44.975014   \n",
       "75%                            10.367050                    46.275153   \n",
       "max                            26.000772                    52.756638   \n",
       "\n",
       "       final.output.concentrate_ag  final.output.concentrate_pb  \\\n",
       "count                 14578.000000                 14578.000000   \n",
       "mean                      5.192145                     9.923809   \n",
       "std                       1.388014                     1.706976   \n",
       "min                       0.000000                     0.000000   \n",
       "25%                       4.283347                     9.103183   \n",
       "50%                       5.118647                    10.046455   \n",
       "75%                       5.925380                    10.981203   \n",
       "max                      16.001945                    16.705297   \n",
       "\n",
       "       final.output.concentrate_sol  final.output.recovery  \\\n",
       "count                  14387.000000           14579.000000   \n",
       "mean                       9.566676              66.759066   \n",
       "std                        2.805654              10.619709   \n",
       "min                        0.000000               0.000000   \n",
       "25%                        7.860030              63.114596   \n",
       "50%                        9.301970              67.962788   \n",
       "75%                       11.001573              72.598187   \n",
       "max                       19.423912             100.000000   \n",
       "\n",
       "       final.output.tail_au  final.output.tail_ag  final.output.tail_pb  \\\n",
       "count          14579.000000          14578.000000          14504.000000   \n",
       "mean               3.087939              9.731972              2.719985   \n",
       "std                0.915187              2.358143              0.958929   \n",
       "min                0.000000              0.000000              0.000000   \n",
       "25%                2.505287              8.088928              2.036512   \n",
       "50%                3.029238              9.818512              2.774847   \n",
       "75%                3.614098             11.169187              3.353845   \n",
       "max                8.245022             19.552149              5.804178   \n",
       "\n",
       "       final.output.tail_sol  \n",
       "count           14574.000000  \n",
       "mean               10.612745  \n",
       "std                 2.871075  \n",
       "min                 0.000000  \n",
       "25%                 9.013412  \n",
       "50%                10.670515  \n",
       "75%                12.130827  \n",
       "max                22.317730  \n",
       "\n",
       "[8 rows x 86 columns]"
      ]
     },
     "execution_count": 318,
     "metadata": {},
     "output_type": "execute_result"
    }
   ],
   "source": [
    "g_r_train.describe()"
   ]
  },
  {
   "cell_type": "code",
   "execution_count": 319,
   "id": "d1aedeeb",
   "metadata": {
    "scrolled": true
   },
   "outputs": [
    {
     "name": "stdout",
     "output_type": "stream",
     "text": [
      "<class 'pandas.core.frame.DataFrame'>\n",
      "RangeIndex: 4860 entries, 0 to 4859\n",
      "Data columns (total 53 columns):\n",
      " #   Column                                      Non-Null Count  Dtype  \n",
      "---  ------                                      --------------  -----  \n",
      " 0   date                                        4860 non-null   object \n",
      " 1   rougher.input.feed_au                       4860 non-null   float64\n",
      " 2   rougher.input.feed_ag                       4860 non-null   float64\n",
      " 3   rougher.input.feed_pb                       4832 non-null   float64\n",
      " 4   rougher.input.feed_sol                      4838 non-null   float64\n",
      " 5   rougher.input.feed_rate                     4856 non-null   float64\n",
      " 6   rougher.input.feed_size                     4816 non-null   float64\n",
      " 7   rougher.input.floatbank10_sulfate           4857 non-null   float64\n",
      " 8   rougher.input.floatbank10_xanthate          4859 non-null   float64\n",
      " 9   rougher.state.floatbank10_a_air             4859 non-null   float64\n",
      " 10  rougher.state.floatbank10_a_level           4859 non-null   float64\n",
      " 11  rougher.state.floatbank10_b_air             4859 non-null   float64\n",
      " 12  rougher.state.floatbank10_b_level           4859 non-null   float64\n",
      " 13  rougher.state.floatbank10_c_air             4859 non-null   float64\n",
      " 14  rougher.state.floatbank10_c_level           4859 non-null   float64\n",
      " 15  rougher.state.floatbank10_d_air             4860 non-null   float64\n",
      " 16  rougher.state.floatbank10_d_level           4860 non-null   float64\n",
      " 17  rougher.state.floatbank10_e_air             4853 non-null   float64\n",
      " 18  rougher.state.floatbank10_e_level           4860 non-null   float64\n",
      " 19  rougher.state.floatbank10_f_air             4860 non-null   float64\n",
      " 20  rougher.state.floatbank10_f_level           4860 non-null   float64\n",
      " 21  rougher.input.floatbank11_sulfate           4852 non-null   float64\n",
      " 22  rougher.input.floatbank11_xanthate          4814 non-null   float64\n",
      " 23  primary_cleaner.input.sulfate               4859 non-null   float64\n",
      " 24  primary_cleaner.input.depressant            4851 non-null   float64\n",
      " 25  primary_cleaner.input.feed_size             4860 non-null   float64\n",
      " 26  primary_cleaner.input.xanthate              4817 non-null   float64\n",
      " 27  primary_cleaner.state.floatbank8_a_air      4859 non-null   float64\n",
      " 28  primary_cleaner.state.floatbank8_a_level    4859 non-null   float64\n",
      " 29  primary_cleaner.state.floatbank8_b_air      4859 non-null   float64\n",
      " 30  primary_cleaner.state.floatbank8_b_level    4859 non-null   float64\n",
      " 31  primary_cleaner.state.floatbank8_c_air      4858 non-null   float64\n",
      " 32  primary_cleaner.state.floatbank8_c_level    4859 non-null   float64\n",
      " 33  primary_cleaner.state.floatbank8_d_air      4858 non-null   float64\n",
      " 34  primary_cleaner.state.floatbank8_d_level    4859 non-null   float64\n",
      " 35  secondary_cleaner.state.floatbank2_a_air    4734 non-null   float64\n",
      " 36  secondary_cleaner.state.floatbank2_a_level  4859 non-null   float64\n",
      " 37  secondary_cleaner.state.floatbank2_b_air    4859 non-null   float64\n",
      " 38  secondary_cleaner.state.floatbank2_b_level  4859 non-null   float64\n",
      " 39  secondary_cleaner.state.floatbank3_a_air    4859 non-null   float64\n",
      " 40  secondary_cleaner.state.floatbank3_a_level  4859 non-null   float64\n",
      " 41  secondary_cleaner.state.floatbank3_b_air    4859 non-null   float64\n",
      " 42  secondary_cleaner.state.floatbank3_b_level  4859 non-null   float64\n",
      " 43  secondary_cleaner.state.floatbank4_a_air    4859 non-null   float64\n",
      " 44  secondary_cleaner.state.floatbank4_a_level  4859 non-null   float64\n",
      " 45  secondary_cleaner.state.floatbank4_b_air    4859 non-null   float64\n",
      " 46  secondary_cleaner.state.floatbank4_b_level  4859 non-null   float64\n",
      " 47  secondary_cleaner.state.floatbank5_a_air    4859 non-null   float64\n",
      " 48  secondary_cleaner.state.floatbank5_a_level  4859 non-null   float64\n",
      " 49  secondary_cleaner.state.floatbank5_b_air    4859 non-null   float64\n",
      " 50  secondary_cleaner.state.floatbank5_b_level  4859 non-null   float64\n",
      " 51  secondary_cleaner.state.floatbank6_a_air    4859 non-null   float64\n",
      " 52  secondary_cleaner.state.floatbank6_a_level  4859 non-null   float64\n",
      "dtypes: float64(52), object(1)\n",
      "memory usage: 2.0+ MB\n"
     ]
    }
   ],
   "source": [
    "g_r_test.info()"
   ]
  },
  {
   "cell_type": "code",
   "execution_count": 320,
   "id": "4fc9d60e",
   "metadata": {},
   "outputs": [
    {
     "data": {
      "text/html": [
       "<div>\n",
       "<style scoped>\n",
       "    .dataframe tbody tr th:only-of-type {\n",
       "        vertical-align: middle;\n",
       "    }\n",
       "\n",
       "    .dataframe tbody tr th {\n",
       "        vertical-align: top;\n",
       "    }\n",
       "\n",
       "    .dataframe thead th {\n",
       "        text-align: right;\n",
       "    }\n",
       "</style>\n",
       "<table border=\"1\" class=\"dataframe\">\n",
       "  <thead>\n",
       "    <tr style=\"text-align: right;\">\n",
       "      <th></th>\n",
       "      <th>rougher.input.feed_au</th>\n",
       "      <th>rougher.input.feed_ag</th>\n",
       "      <th>rougher.input.feed_pb</th>\n",
       "      <th>rougher.input.feed_sol</th>\n",
       "      <th>rougher.input.feed_rate</th>\n",
       "      <th>rougher.input.feed_size</th>\n",
       "      <th>rougher.input.floatbank10_sulfate</th>\n",
       "      <th>rougher.input.floatbank10_xanthate</th>\n",
       "      <th>rougher.state.floatbank10_a_air</th>\n",
       "      <th>rougher.state.floatbank10_a_level</th>\n",
       "      <th>...</th>\n",
       "      <th>secondary_cleaner.state.floatbank4_a_air</th>\n",
       "      <th>secondary_cleaner.state.floatbank4_a_level</th>\n",
       "      <th>secondary_cleaner.state.floatbank4_b_air</th>\n",
       "      <th>secondary_cleaner.state.floatbank4_b_level</th>\n",
       "      <th>secondary_cleaner.state.floatbank5_a_air</th>\n",
       "      <th>secondary_cleaner.state.floatbank5_a_level</th>\n",
       "      <th>secondary_cleaner.state.floatbank5_b_air</th>\n",
       "      <th>secondary_cleaner.state.floatbank5_b_level</th>\n",
       "      <th>secondary_cleaner.state.floatbank6_a_air</th>\n",
       "      <th>secondary_cleaner.state.floatbank6_a_level</th>\n",
       "    </tr>\n",
       "  </thead>\n",
       "  <tbody>\n",
       "    <tr>\n",
       "      <th>count</th>\n",
       "      <td>4860.000000</td>\n",
       "      <td>4860.000000</td>\n",
       "      <td>4832.000000</td>\n",
       "      <td>4838.000000</td>\n",
       "      <td>4856.000000</td>\n",
       "      <td>4816.000000</td>\n",
       "      <td>4857.000000</td>\n",
       "      <td>4859.000000</td>\n",
       "      <td>4859.000000</td>\n",
       "      <td>4859.000000</td>\n",
       "      <td>...</td>\n",
       "      <td>4.859000e+03</td>\n",
       "      <td>4859.000000</td>\n",
       "      <td>4.859000e+03</td>\n",
       "      <td>4859.000000</td>\n",
       "      <td>4859.000000</td>\n",
       "      <td>4859.000000</td>\n",
       "      <td>4859.000000</td>\n",
       "      <td>4859.000000</td>\n",
       "      <td>4859.000000</td>\n",
       "      <td>4859.000000</td>\n",
       "    </tr>\n",
       "    <tr>\n",
       "      <th>mean</th>\n",
       "      <td>8.005584</td>\n",
       "      <td>8.547348</td>\n",
       "      <td>3.579662</td>\n",
       "      <td>37.095864</td>\n",
       "      <td>490.285103</td>\n",
       "      <td>59.113400</td>\n",
       "      <td>12.055735</td>\n",
       "      <td>6.101308</td>\n",
       "      <td>1108.635895</td>\n",
       "      <td>-368.340127</td>\n",
       "      <td>...</td>\n",
       "      <td>1.985770e+01</td>\n",
       "      <td>-488.665140</td>\n",
       "      <td>1.557025e+01</td>\n",
       "      <td>-464.176507</td>\n",
       "      <td>16.594103</td>\n",
       "      <td>-490.815250</td>\n",
       "      <td>12.945971</td>\n",
       "      <td>-489.583564</td>\n",
       "      <td>19.053888</td>\n",
       "      <td>-504.678924</td>\n",
       "    </tr>\n",
       "    <tr>\n",
       "      <th>std</th>\n",
       "      <td>1.993590</td>\n",
       "      <td>1.958601</td>\n",
       "      <td>1.029377</td>\n",
       "      <td>4.926284</td>\n",
       "      <td>94.371623</td>\n",
       "      <td>19.125122</td>\n",
       "      <td>3.407642</td>\n",
       "      <td>1.042754</td>\n",
       "      <td>156.493143</td>\n",
       "      <td>91.155929</td>\n",
       "      <td>...</td>\n",
       "      <td>5.913105e+00</td>\n",
       "      <td>44.392714</td>\n",
       "      <td>4.927361e+00</td>\n",
       "      <td>65.706994</td>\n",
       "      <td>5.724305</td>\n",
       "      <td>32.258443</td>\n",
       "      <td>5.533176</td>\n",
       "      <td>37.084609</td>\n",
       "      <td>5.548996</td>\n",
       "      <td>38.690186</td>\n",
       "    </tr>\n",
       "    <tr>\n",
       "      <th>min</th>\n",
       "      <td>0.010000</td>\n",
       "      <td>0.010000</td>\n",
       "      <td>0.010000</td>\n",
       "      <td>0.010000</td>\n",
       "      <td>0.012786</td>\n",
       "      <td>0.046369</td>\n",
       "      <td>0.018907</td>\n",
       "      <td>0.015783</td>\n",
       "      <td>300.792494</td>\n",
       "      <td>-600.568138</td>\n",
       "      <td>...</td>\n",
       "      <td>1.079872e-16</td>\n",
       "      <td>-799.704969</td>\n",
       "      <td>2.489718e-17</td>\n",
       "      <td>-799.860767</td>\n",
       "      <td>-0.371498</td>\n",
       "      <td>-797.142475</td>\n",
       "      <td>1.358469</td>\n",
       "      <td>-800.006180</td>\n",
       "      <td>0.160386</td>\n",
       "      <td>-809.734800</td>\n",
       "    </tr>\n",
       "    <tr>\n",
       "      <th>25%</th>\n",
       "      <td>6.574363</td>\n",
       "      <td>6.975898</td>\n",
       "      <td>2.903612</td>\n",
       "      <td>34.510841</td>\n",
       "      <td>434.099695</td>\n",
       "      <td>47.596984</td>\n",
       "      <td>9.890429</td>\n",
       "      <td>5.499808</td>\n",
       "      <td>999.715729</td>\n",
       "      <td>-499.731972</td>\n",
       "      <td>...</td>\n",
       "      <td>1.501123e+01</td>\n",
       "      <td>-500.704004</td>\n",
       "      <td>1.202172e+01</td>\n",
       "      <td>-500.196517</td>\n",
       "      <td>11.073822</td>\n",
       "      <td>-500.483564</td>\n",
       "      <td>9.011890</td>\n",
       "      <td>-500.129913</td>\n",
       "      <td>14.963953</td>\n",
       "      <td>-500.668501</td>\n",
       "    </tr>\n",
       "    <tr>\n",
       "      <th>50%</th>\n",
       "      <td>7.812923</td>\n",
       "      <td>8.179714</td>\n",
       "      <td>3.540772</td>\n",
       "      <td>37.499761</td>\n",
       "      <td>502.118742</td>\n",
       "      <td>55.509481</td>\n",
       "      <td>11.997859</td>\n",
       "      <td>6.099805</td>\n",
       "      <td>1001.414798</td>\n",
       "      <td>-300.181367</td>\n",
       "      <td>...</td>\n",
       "      <td>1.996807e+01</td>\n",
       "      <td>-499.892919</td>\n",
       "      <td>1.501240e+01</td>\n",
       "      <td>-499.540776</td>\n",
       "      <td>16.631195</td>\n",
       "      <td>-499.873136</td>\n",
       "      <td>11.999417</td>\n",
       "      <td>-499.955304</td>\n",
       "      <td>19.960006</td>\n",
       "      <td>-500.033769</td>\n",
       "    </tr>\n",
       "    <tr>\n",
       "      <th>75%</th>\n",
       "      <td>9.556589</td>\n",
       "      <td>10.084339</td>\n",
       "      <td>4.199847</td>\n",
       "      <td>40.461315</td>\n",
       "      <td>555.596563</td>\n",
       "      <td>66.661547</td>\n",
       "      <td>14.496072</td>\n",
       "      <td>6.802101</td>\n",
       "      <td>1202.837565</td>\n",
       "      <td>-299.961547</td>\n",
       "      <td>...</td>\n",
       "      <td>2.498900e+01</td>\n",
       "      <td>-498.652030</td>\n",
       "      <td>1.999949e+01</td>\n",
       "      <td>-400.302329</td>\n",
       "      <td>19.983191</td>\n",
       "      <td>-498.852815</td>\n",
       "      <td>15.004198</td>\n",
       "      <td>-499.643776</td>\n",
       "      <td>24.974583</td>\n",
       "      <td>-499.460134</td>\n",
       "    </tr>\n",
       "    <tr>\n",
       "      <th>max</th>\n",
       "      <td>13.417156</td>\n",
       "      <td>14.533698</td>\n",
       "      <td>7.142594</td>\n",
       "      <td>53.477742</td>\n",
       "      <td>702.523396</td>\n",
       "      <td>363.989699</td>\n",
       "      <td>30.010759</td>\n",
       "      <td>9.396928</td>\n",
       "      <td>1521.980372</td>\n",
       "      <td>-281.039299</td>\n",
       "      <td>...</td>\n",
       "      <td>3.008450e+01</td>\n",
       "      <td>-383.373053</td>\n",
       "      <td>2.398898e+01</td>\n",
       "      <td>-114.250832</td>\n",
       "      <td>33.215996</td>\n",
       "      <td>-288.963521</td>\n",
       "      <td>24.177106</td>\n",
       "      <td>-141.934397</td>\n",
       "      <td>32.028529</td>\n",
       "      <td>-104.427459</td>\n",
       "    </tr>\n",
       "  </tbody>\n",
       "</table>\n",
       "<p>8 rows × 52 columns</p>\n",
       "</div>"
      ],
      "text/plain": [
       "       rougher.input.feed_au  rougher.input.feed_ag  rougher.input.feed_pb  \\\n",
       "count            4860.000000            4860.000000            4832.000000   \n",
       "mean                8.005584               8.547348               3.579662   \n",
       "std                 1.993590               1.958601               1.029377   \n",
       "min                 0.010000               0.010000               0.010000   \n",
       "25%                 6.574363               6.975898               2.903612   \n",
       "50%                 7.812923               8.179714               3.540772   \n",
       "75%                 9.556589              10.084339               4.199847   \n",
       "max                13.417156              14.533698               7.142594   \n",
       "\n",
       "       rougher.input.feed_sol  rougher.input.feed_rate  \\\n",
       "count             4838.000000              4856.000000   \n",
       "mean                37.095864               490.285103   \n",
       "std                  4.926284                94.371623   \n",
       "min                  0.010000                 0.012786   \n",
       "25%                 34.510841               434.099695   \n",
       "50%                 37.499761               502.118742   \n",
       "75%                 40.461315               555.596563   \n",
       "max                 53.477742               702.523396   \n",
       "\n",
       "       rougher.input.feed_size  rougher.input.floatbank10_sulfate  \\\n",
       "count              4816.000000                        4857.000000   \n",
       "mean                 59.113400                          12.055735   \n",
       "std                  19.125122                           3.407642   \n",
       "min                   0.046369                           0.018907   \n",
       "25%                  47.596984                           9.890429   \n",
       "50%                  55.509481                          11.997859   \n",
       "75%                  66.661547                          14.496072   \n",
       "max                 363.989699                          30.010759   \n",
       "\n",
       "       rougher.input.floatbank10_xanthate  rougher.state.floatbank10_a_air  \\\n",
       "count                         4859.000000                      4859.000000   \n",
       "mean                             6.101308                      1108.635895   \n",
       "std                              1.042754                       156.493143   \n",
       "min                              0.015783                       300.792494   \n",
       "25%                              5.499808                       999.715729   \n",
       "50%                              6.099805                      1001.414798   \n",
       "75%                              6.802101                      1202.837565   \n",
       "max                              9.396928                      1521.980372   \n",
       "\n",
       "       rougher.state.floatbank10_a_level  ...  \\\n",
       "count                        4859.000000  ...   \n",
       "mean                         -368.340127  ...   \n",
       "std                            91.155929  ...   \n",
       "min                          -600.568138  ...   \n",
       "25%                          -499.731972  ...   \n",
       "50%                          -300.181367  ...   \n",
       "75%                          -299.961547  ...   \n",
       "max                          -281.039299  ...   \n",
       "\n",
       "       secondary_cleaner.state.floatbank4_a_air  \\\n",
       "count                              4.859000e+03   \n",
       "mean                               1.985770e+01   \n",
       "std                                5.913105e+00   \n",
       "min                                1.079872e-16   \n",
       "25%                                1.501123e+01   \n",
       "50%                                1.996807e+01   \n",
       "75%                                2.498900e+01   \n",
       "max                                3.008450e+01   \n",
       "\n",
       "       secondary_cleaner.state.floatbank4_a_level  \\\n",
       "count                                 4859.000000   \n",
       "mean                                  -488.665140   \n",
       "std                                     44.392714   \n",
       "min                                   -799.704969   \n",
       "25%                                   -500.704004   \n",
       "50%                                   -499.892919   \n",
       "75%                                   -498.652030   \n",
       "max                                   -383.373053   \n",
       "\n",
       "       secondary_cleaner.state.floatbank4_b_air  \\\n",
       "count                              4.859000e+03   \n",
       "mean                               1.557025e+01   \n",
       "std                                4.927361e+00   \n",
       "min                                2.489718e-17   \n",
       "25%                                1.202172e+01   \n",
       "50%                                1.501240e+01   \n",
       "75%                                1.999949e+01   \n",
       "max                                2.398898e+01   \n",
       "\n",
       "       secondary_cleaner.state.floatbank4_b_level  \\\n",
       "count                                 4859.000000   \n",
       "mean                                  -464.176507   \n",
       "std                                     65.706994   \n",
       "min                                   -799.860767   \n",
       "25%                                   -500.196517   \n",
       "50%                                   -499.540776   \n",
       "75%                                   -400.302329   \n",
       "max                                   -114.250832   \n",
       "\n",
       "       secondary_cleaner.state.floatbank5_a_air  \\\n",
       "count                               4859.000000   \n",
       "mean                                  16.594103   \n",
       "std                                    5.724305   \n",
       "min                                   -0.371498   \n",
       "25%                                   11.073822   \n",
       "50%                                   16.631195   \n",
       "75%                                   19.983191   \n",
       "max                                   33.215996   \n",
       "\n",
       "       secondary_cleaner.state.floatbank5_a_level  \\\n",
       "count                                 4859.000000   \n",
       "mean                                  -490.815250   \n",
       "std                                     32.258443   \n",
       "min                                   -797.142475   \n",
       "25%                                   -500.483564   \n",
       "50%                                   -499.873136   \n",
       "75%                                   -498.852815   \n",
       "max                                   -288.963521   \n",
       "\n",
       "       secondary_cleaner.state.floatbank5_b_air  \\\n",
       "count                               4859.000000   \n",
       "mean                                  12.945971   \n",
       "std                                    5.533176   \n",
       "min                                    1.358469   \n",
       "25%                                    9.011890   \n",
       "50%                                   11.999417   \n",
       "75%                                   15.004198   \n",
       "max                                   24.177106   \n",
       "\n",
       "       secondary_cleaner.state.floatbank5_b_level  \\\n",
       "count                                 4859.000000   \n",
       "mean                                  -489.583564   \n",
       "std                                     37.084609   \n",
       "min                                   -800.006180   \n",
       "25%                                   -500.129913   \n",
       "50%                                   -499.955304   \n",
       "75%                                   -499.643776   \n",
       "max                                   -141.934397   \n",
       "\n",
       "       secondary_cleaner.state.floatbank6_a_air  \\\n",
       "count                               4859.000000   \n",
       "mean                                  19.053888   \n",
       "std                                    5.548996   \n",
       "min                                    0.160386   \n",
       "25%                                   14.963953   \n",
       "50%                                   19.960006   \n",
       "75%                                   24.974583   \n",
       "max                                   32.028529   \n",
       "\n",
       "       secondary_cleaner.state.floatbank6_a_level  \n",
       "count                                 4859.000000  \n",
       "mean                                  -504.678924  \n",
       "std                                     38.690186  \n",
       "min                                   -809.734800  \n",
       "25%                                   -500.668501  \n",
       "50%                                   -500.033769  \n",
       "75%                                   -499.460134  \n",
       "max                                   -104.427459  \n",
       "\n",
       "[8 rows x 52 columns]"
      ]
     },
     "execution_count": 320,
     "metadata": {},
     "output_type": "execute_result"
    }
   ],
   "source": [
    "g_r_test.describe()"
   ]
  },
  {
   "cell_type": "code",
   "execution_count": 321,
   "id": "5f242619",
   "metadata": {
    "scrolled": true
   },
   "outputs": [
    {
     "name": "stdout",
     "output_type": "stream",
     "text": [
      "<class 'pandas.core.frame.DataFrame'>\n",
      "RangeIndex: 19439 entries, 0 to 19438\n",
      "Data columns (total 87 columns):\n",
      " #   Column                                              Non-Null Count  Dtype  \n",
      "---  ------                                              --------------  -----  \n",
      " 0   date                                                19439 non-null  object \n",
      " 1   rougher.input.feed_au                               19439 non-null  float64\n",
      " 2   rougher.input.feed_ag                               19439 non-null  float64\n",
      " 3   rougher.input.feed_pb                               19339 non-null  float64\n",
      " 4   rougher.input.feed_sol                              19340 non-null  float64\n",
      " 5   rougher.input.feed_rate                             19428 non-null  float64\n",
      " 6   rougher.input.feed_size                             19294 non-null  float64\n",
      " 7   rougher.input.floatbank10_sulfate                   19405 non-null  float64\n",
      " 8   rougher.input.floatbank10_xanthate                  19431 non-null  float64\n",
      " 9   rougher.state.floatbank10_a_air                     19438 non-null  float64\n",
      " 10  rougher.state.floatbank10_a_level                   19438 non-null  float64\n",
      " 11  rougher.state.floatbank10_b_air                     19438 non-null  float64\n",
      " 12  rougher.state.floatbank10_b_level                   19438 non-null  float64\n",
      " 13  rougher.state.floatbank10_c_air                     19438 non-null  float64\n",
      " 14  rougher.state.floatbank10_c_level                   19438 non-null  float64\n",
      " 15  rougher.state.floatbank10_d_air                     19439 non-null  float64\n",
      " 16  rougher.state.floatbank10_d_level                   19439 non-null  float64\n",
      " 17  rougher.state.floatbank10_e_air                     19003 non-null  float64\n",
      " 18  rougher.state.floatbank10_e_level                   19439 non-null  float64\n",
      " 19  rougher.state.floatbank10_f_air                     19439 non-null  float64\n",
      " 20  rougher.state.floatbank10_f_level                   19439 non-null  float64\n",
      " 21  rougher.input.floatbank11_sulfate                   19395 non-null  float64\n",
      " 22  rougher.input.floatbank11_xanthate                  18986 non-null  float64\n",
      " 23  rougher.calculation.sulfate_to_au_concentrate       19437 non-null  float64\n",
      " 24  rougher.calculation.floatbank10_sulfate_to_au_feed  19437 non-null  float64\n",
      " 25  rougher.calculation.floatbank11_sulfate_to_au_feed  19437 non-null  float64\n",
      " 26  rougher.calculation.au_pb_ratio                     19439 non-null  float64\n",
      " 27  rougher.output.concentrate_au                       19439 non-null  float64\n",
      " 28  rougher.output.concentrate_ag                       19439 non-null  float64\n",
      " 29  rougher.output.concentrate_pb                       19439 non-null  float64\n",
      " 30  rougher.output.concentrate_sol                      19416 non-null  float64\n",
      " 31  rougher.output.recovery                             19439 non-null  float64\n",
      " 32  rougher.output.tail_au                              19439 non-null  float64\n",
      " 33  rougher.output.tail_ag                              19438 non-null  float64\n",
      " 34  rougher.output.tail_pb                              19439 non-null  float64\n",
      " 35  rougher.output.tail_sol                             19439 non-null  float64\n",
      " 36  primary_cleaner.input.sulfate                       19415 non-null  float64\n",
      " 37  primary_cleaner.input.depressant                    19402 non-null  float64\n",
      " 38  primary_cleaner.input.feed_size                     19439 non-null  float64\n",
      " 39  primary_cleaner.input.xanthate                      19335 non-null  float64\n",
      " 40  primary_cleaner.state.floatbank8_a_air              19435 non-null  float64\n",
      " 41  primary_cleaner.state.floatbank8_a_level            19438 non-null  float64\n",
      " 42  primary_cleaner.state.floatbank8_b_air              19435 non-null  float64\n",
      " 43  primary_cleaner.state.floatbank8_b_level            19438 non-null  float64\n",
      " 44  primary_cleaner.state.floatbank8_c_air              19437 non-null  float64\n",
      " 45  primary_cleaner.state.floatbank8_c_level            19438 non-null  float64\n",
      " 46  primary_cleaner.state.floatbank8_d_air              19436 non-null  float64\n",
      " 47  primary_cleaner.state.floatbank8_d_level            19438 non-null  float64\n",
      " 48  primary_cleaner.output.concentrate_au               19439 non-null  float64\n",
      " 49  primary_cleaner.output.concentrate_ag               19439 non-null  float64\n",
      " 50  primary_cleaner.output.concentrate_pb               19323 non-null  float64\n",
      " 51  primary_cleaner.output.concentrate_sol              19069 non-null  float64\n",
      " 52  primary_cleaner.output.tail_au                      19439 non-null  float64\n",
      " 53  primary_cleaner.output.tail_ag                      19435 non-null  float64\n",
      " 54  primary_cleaner.output.tail_pb                      19418 non-null  float64\n",
      " 55  primary_cleaner.output.tail_sol                     19377 non-null  float64\n",
      " 56  secondary_cleaner.state.floatbank2_a_air            19219 non-null  float64\n",
      " 57  secondary_cleaner.state.floatbank2_a_level          19438 non-null  float64\n",
      " 58  secondary_cleaner.state.floatbank2_b_air            19416 non-null  float64\n",
      " 59  secondary_cleaner.state.floatbank2_b_level          19438 non-null  float64\n",
      " 60  secondary_cleaner.state.floatbank3_a_air            19426 non-null  float64\n",
      " 61  secondary_cleaner.state.floatbank3_a_level          19438 non-null  float64\n",
      " 62  secondary_cleaner.state.floatbank3_b_air            19438 non-null  float64\n",
      " 63  secondary_cleaner.state.floatbank3_b_level          19438 non-null  float64\n",
      " 64  secondary_cleaner.state.floatbank4_a_air            19433 non-null  float64\n",
      " 65  secondary_cleaner.state.floatbank4_a_level          19438 non-null  float64\n",
      " 66  secondary_cleaner.state.floatbank4_b_air            19438 non-null  float64\n",
      " 67  secondary_cleaner.state.floatbank4_b_level          19438 non-null  float64\n",
      " 68  secondary_cleaner.state.floatbank5_a_air            19438 non-null  float64\n",
      " 69  secondary_cleaner.state.floatbank5_a_level          19438 non-null  float64\n",
      " 70  secondary_cleaner.state.floatbank5_b_air            19438 non-null  float64\n",
      " 71  secondary_cleaner.state.floatbank5_b_level          19438 non-null  float64\n",
      " 72  secondary_cleaner.state.floatbank6_a_air            19437 non-null  float64\n",
      " 73  secondary_cleaner.state.floatbank6_a_level          19438 non-null  float64\n",
      " 74  secondary_cleaner.output.tail_au                    19439 non-null  float64\n",
      " 75  secondary_cleaner.output.tail_ag                    19437 non-null  float64\n",
      " 76  secondary_cleaner.output.tail_pb                    19427 non-null  float64\n",
      " 77  secondary_cleaner.output.tail_sol                   17691 non-null  float64\n",
      " 78  final.output.concentrate_au                         19439 non-null  float64\n",
      " 79  final.output.concentrate_ag                         19438 non-null  float64\n",
      " 80  final.output.concentrate_pb                         19438 non-null  float64\n",
      " 81  final.output.concentrate_sol                        19228 non-null  float64\n",
      " 82  final.output.recovery                               19439 non-null  float64\n",
      " 83  final.output.tail_au                                19439 non-null  float64\n",
      " 84  final.output.tail_ag                                19438 non-null  float64\n",
      " 85  final.output.tail_pb                                19338 non-null  float64\n",
      " 86  final.output.tail_sol                               19433 non-null  float64\n",
      "dtypes: float64(86), object(1)\n",
      "memory usage: 12.9+ MB\n"
     ]
    }
   ],
   "source": [
    "g_r_full.info()"
   ]
  },
  {
   "cell_type": "code",
   "execution_count": 322,
   "id": "3d28810d",
   "metadata": {
    "scrolled": true
   },
   "outputs": [
    {
     "data": {
      "text/html": [
       "<div>\n",
       "<style scoped>\n",
       "    .dataframe tbody tr th:only-of-type {\n",
       "        vertical-align: middle;\n",
       "    }\n",
       "\n",
       "    .dataframe tbody tr th {\n",
       "        vertical-align: top;\n",
       "    }\n",
       "\n",
       "    .dataframe thead th {\n",
       "        text-align: right;\n",
       "    }\n",
       "</style>\n",
       "<table border=\"1\" class=\"dataframe\">\n",
       "  <thead>\n",
       "    <tr style=\"text-align: right;\">\n",
       "      <th></th>\n",
       "      <th>rougher.input.feed_au</th>\n",
       "      <th>rougher.input.feed_ag</th>\n",
       "      <th>rougher.input.feed_pb</th>\n",
       "      <th>rougher.input.feed_sol</th>\n",
       "      <th>rougher.input.feed_rate</th>\n",
       "      <th>rougher.input.feed_size</th>\n",
       "      <th>rougher.input.floatbank10_sulfate</th>\n",
       "      <th>rougher.input.floatbank10_xanthate</th>\n",
       "      <th>rougher.state.floatbank10_a_air</th>\n",
       "      <th>rougher.state.floatbank10_a_level</th>\n",
       "      <th>...</th>\n",
       "      <th>secondary_cleaner.output.tail_sol</th>\n",
       "      <th>final.output.concentrate_au</th>\n",
       "      <th>final.output.concentrate_ag</th>\n",
       "      <th>final.output.concentrate_pb</th>\n",
       "      <th>final.output.concentrate_sol</th>\n",
       "      <th>final.output.recovery</th>\n",
       "      <th>final.output.tail_au</th>\n",
       "      <th>final.output.tail_ag</th>\n",
       "      <th>final.output.tail_pb</th>\n",
       "      <th>final.output.tail_sol</th>\n",
       "    </tr>\n",
       "  </thead>\n",
       "  <tbody>\n",
       "    <tr>\n",
       "      <th>count</th>\n",
       "      <td>19439.000000</td>\n",
       "      <td>19439.000000</td>\n",
       "      <td>19339.000000</td>\n",
       "      <td>19340.000000</td>\n",
       "      <td>19428.000000</td>\n",
       "      <td>19294.000000</td>\n",
       "      <td>19405.000000</td>\n",
       "      <td>19431.000000</td>\n",
       "      <td>19438.000000</td>\n",
       "      <td>19438.000000</td>\n",
       "      <td>...</td>\n",
       "      <td>17691.000000</td>\n",
       "      <td>19439.000000</td>\n",
       "      <td>19438.000000</td>\n",
       "      <td>19438.000000</td>\n",
       "      <td>19228.000000</td>\n",
       "      <td>19439.000000</td>\n",
       "      <td>19439.000000</td>\n",
       "      <td>19438.000000</td>\n",
       "      <td>19338.000000</td>\n",
       "      <td>19433.000000</td>\n",
       "    </tr>\n",
       "    <tr>\n",
       "      <th>mean</th>\n",
       "      <td>8.266097</td>\n",
       "      <td>8.794927</td>\n",
       "      <td>3.598085</td>\n",
       "      <td>36.695114</td>\n",
       "      <td>478.320042</td>\n",
       "      <td>58.970310</td>\n",
       "      <td>12.334373</td>\n",
       "      <td>6.021474</td>\n",
       "      <td>1105.315068</td>\n",
       "      <td>-376.610690</td>\n",
       "      <td>...</td>\n",
       "      <td>7.167247</td>\n",
       "      <td>44.076513</td>\n",
       "      <td>5.168470</td>\n",
       "      <td>9.978895</td>\n",
       "      <td>9.501224</td>\n",
       "      <td>67.050208</td>\n",
       "      <td>3.042467</td>\n",
       "      <td>9.688589</td>\n",
       "      <td>2.705795</td>\n",
       "      <td>10.583728</td>\n",
       "    </tr>\n",
       "    <tr>\n",
       "      <th>std</th>\n",
       "      <td>1.955092</td>\n",
       "      <td>1.936847</td>\n",
       "      <td>1.049486</td>\n",
       "      <td>5.145445</td>\n",
       "      <td>105.373758</td>\n",
       "      <td>21.634478</td>\n",
       "      <td>3.427317</td>\n",
       "      <td>1.127263</td>\n",
       "      <td>160.826798</td>\n",
       "      <td>93.909667</td>\n",
       "      <td>...</td>\n",
       "      <td>3.916079</td>\n",
       "      <td>5.129784</td>\n",
       "      <td>1.372348</td>\n",
       "      <td>1.669240</td>\n",
       "      <td>2.787537</td>\n",
       "      <td>10.125840</td>\n",
       "      <td>0.922808</td>\n",
       "      <td>2.328642</td>\n",
       "      <td>0.949077</td>\n",
       "      <td>2.868782</td>\n",
       "    </tr>\n",
       "    <tr>\n",
       "      <th>min</th>\n",
       "      <td>0.010000</td>\n",
       "      <td>0.010000</td>\n",
       "      <td>0.010000</td>\n",
       "      <td>0.010000</td>\n",
       "      <td>0.002986</td>\n",
       "      <td>0.046369</td>\n",
       "      <td>0.001083</td>\n",
       "      <td>0.000568</td>\n",
       "      <td>-0.042069</td>\n",
       "      <td>-657.949759</td>\n",
       "      <td>...</td>\n",
       "      <td>0.000000</td>\n",
       "      <td>0.000000</td>\n",
       "      <td>0.000000</td>\n",
       "      <td>0.000000</td>\n",
       "      <td>0.000000</td>\n",
       "      <td>0.000000</td>\n",
       "      <td>0.000000</td>\n",
       "      <td>0.000000</td>\n",
       "      <td>0.000000</td>\n",
       "      <td>0.000000</td>\n",
       "    </tr>\n",
       "    <tr>\n",
       "      <th>25%</th>\n",
       "      <td>6.854384</td>\n",
       "      <td>7.237967</td>\n",
       "      <td>2.887280</td>\n",
       "      <td>34.207799</td>\n",
       "      <td>416.525453</td>\n",
       "      <td>47.435103</td>\n",
       "      <td>10.000362</td>\n",
       "      <td>5.398678</td>\n",
       "      <td>999.661867</td>\n",
       "      <td>-499.835165</td>\n",
       "      <td>...</td>\n",
       "      <td>3.845475</td>\n",
       "      <td>43.402215</td>\n",
       "      <td>4.251240</td>\n",
       "      <td>9.137262</td>\n",
       "      <td>7.722820</td>\n",
       "      <td>63.299712</td>\n",
       "      <td>2.461138</td>\n",
       "      <td>8.062878</td>\n",
       "      <td>2.040119</td>\n",
       "      <td>8.938947</td>\n",
       "    </tr>\n",
       "    <tr>\n",
       "      <th>50%</th>\n",
       "      <td>8.125839</td>\n",
       "      <td>8.593574</td>\n",
       "      <td>3.534895</td>\n",
       "      <td>37.202650</td>\n",
       "      <td>499.416120</td>\n",
       "      <td>54.610197</td>\n",
       "      <td>12.001174</td>\n",
       "      <td>6.008273</td>\n",
       "      <td>1001.072890</td>\n",
       "      <td>-300.263994</td>\n",
       "      <td>...</td>\n",
       "      <td>7.685827</td>\n",
       "      <td>45.011244</td>\n",
       "      <td>5.066094</td>\n",
       "      <td>10.102433</td>\n",
       "      <td>9.218961</td>\n",
       "      <td>68.172738</td>\n",
       "      <td>2.984909</td>\n",
       "      <td>9.743623</td>\n",
       "      <td>2.748730</td>\n",
       "      <td>10.622456</td>\n",
       "    </tr>\n",
       "    <tr>\n",
       "      <th>75%</th>\n",
       "      <td>9.769917</td>\n",
       "      <td>10.213771</td>\n",
       "      <td>4.244161</td>\n",
       "      <td>40.039133</td>\n",
       "      <td>550.172183</td>\n",
       "      <td>65.023044</td>\n",
       "      <td>14.716595</td>\n",
       "      <td>6.798051</td>\n",
       "      <td>1205.620588</td>\n",
       "      <td>-299.981998</td>\n",
       "      <td>...</td>\n",
       "      <td>10.411296</td>\n",
       "      <td>46.275313</td>\n",
       "      <td>5.895527</td>\n",
       "      <td>11.035769</td>\n",
       "      <td>10.947813</td>\n",
       "      <td>72.686642</td>\n",
       "      <td>3.571351</td>\n",
       "      <td>11.134294</td>\n",
       "      <td>3.333216</td>\n",
       "      <td>12.104271</td>\n",
       "    </tr>\n",
       "    <tr>\n",
       "      <th>max</th>\n",
       "      <td>13.731330</td>\n",
       "      <td>14.596026</td>\n",
       "      <td>7.142594</td>\n",
       "      <td>53.477742</td>\n",
       "      <td>717.508837</td>\n",
       "      <td>484.967466</td>\n",
       "      <td>36.118275</td>\n",
       "      <td>9.703448</td>\n",
       "      <td>1521.980372</td>\n",
       "      <td>-273.776101</td>\n",
       "      <td>...</td>\n",
       "      <td>26.000772</td>\n",
       "      <td>52.756638</td>\n",
       "      <td>16.001945</td>\n",
       "      <td>17.031899</td>\n",
       "      <td>19.615720</td>\n",
       "      <td>100.000000</td>\n",
       "      <td>8.245022</td>\n",
       "      <td>19.552149</td>\n",
       "      <td>5.804178</td>\n",
       "      <td>22.317730</td>\n",
       "    </tr>\n",
       "  </tbody>\n",
       "</table>\n",
       "<p>8 rows × 86 columns</p>\n",
       "</div>"
      ],
      "text/plain": [
       "       rougher.input.feed_au  rougher.input.feed_ag  rougher.input.feed_pb  \\\n",
       "count           19439.000000           19439.000000           19339.000000   \n",
       "mean                8.266097               8.794927               3.598085   \n",
       "std                 1.955092               1.936847               1.049486   \n",
       "min                 0.010000               0.010000               0.010000   \n",
       "25%                 6.854384               7.237967               2.887280   \n",
       "50%                 8.125839               8.593574               3.534895   \n",
       "75%                 9.769917              10.213771               4.244161   \n",
       "max                13.731330              14.596026               7.142594   \n",
       "\n",
       "       rougher.input.feed_sol  rougher.input.feed_rate  \\\n",
       "count            19340.000000             19428.000000   \n",
       "mean                36.695114               478.320042   \n",
       "std                  5.145445               105.373758   \n",
       "min                  0.010000                 0.002986   \n",
       "25%                 34.207799               416.525453   \n",
       "50%                 37.202650               499.416120   \n",
       "75%                 40.039133               550.172183   \n",
       "max                 53.477742               717.508837   \n",
       "\n",
       "       rougher.input.feed_size  rougher.input.floatbank10_sulfate  \\\n",
       "count             19294.000000                       19405.000000   \n",
       "mean                 58.970310                          12.334373   \n",
       "std                  21.634478                           3.427317   \n",
       "min                   0.046369                           0.001083   \n",
       "25%                  47.435103                          10.000362   \n",
       "50%                  54.610197                          12.001174   \n",
       "75%                  65.023044                          14.716595   \n",
       "max                 484.967466                          36.118275   \n",
       "\n",
       "       rougher.input.floatbank10_xanthate  rougher.state.floatbank10_a_air  \\\n",
       "count                        19431.000000                     19438.000000   \n",
       "mean                             6.021474                      1105.315068   \n",
       "std                              1.127263                       160.826798   \n",
       "min                              0.000568                        -0.042069   \n",
       "25%                              5.398678                       999.661867   \n",
       "50%                              6.008273                      1001.072890   \n",
       "75%                              6.798051                      1205.620588   \n",
       "max                              9.703448                      1521.980372   \n",
       "\n",
       "       rougher.state.floatbank10_a_level  ...  \\\n",
       "count                       19438.000000  ...   \n",
       "mean                         -376.610690  ...   \n",
       "std                            93.909667  ...   \n",
       "min                          -657.949759  ...   \n",
       "25%                          -499.835165  ...   \n",
       "50%                          -300.263994  ...   \n",
       "75%                          -299.981998  ...   \n",
       "max                          -273.776101  ...   \n",
       "\n",
       "       secondary_cleaner.output.tail_sol  final.output.concentrate_au  \\\n",
       "count                       17691.000000                 19439.000000   \n",
       "mean                            7.167247                    44.076513   \n",
       "std                             3.916079                     5.129784   \n",
       "min                             0.000000                     0.000000   \n",
       "25%                             3.845475                    43.402215   \n",
       "50%                             7.685827                    45.011244   \n",
       "75%                            10.411296                    46.275313   \n",
       "max                            26.000772                    52.756638   \n",
       "\n",
       "       final.output.concentrate_ag  final.output.concentrate_pb  \\\n",
       "count                 19438.000000                 19438.000000   \n",
       "mean                      5.168470                     9.978895   \n",
       "std                       1.372348                     1.669240   \n",
       "min                       0.000000                     0.000000   \n",
       "25%                       4.251240                     9.137262   \n",
       "50%                       5.066094                    10.102433   \n",
       "75%                       5.895527                    11.035769   \n",
       "max                      16.001945                    17.031899   \n",
       "\n",
       "       final.output.concentrate_sol  final.output.recovery  \\\n",
       "count                  19228.000000           19439.000000   \n",
       "mean                       9.501224              67.050208   \n",
       "std                        2.787537              10.125840   \n",
       "min                        0.000000               0.000000   \n",
       "25%                        7.722820              63.299712   \n",
       "50%                        9.218961              68.172738   \n",
       "75%                       10.947813              72.686642   \n",
       "max                       19.615720             100.000000   \n",
       "\n",
       "       final.output.tail_au  final.output.tail_ag  final.output.tail_pb  \\\n",
       "count          19439.000000          19438.000000          19338.000000   \n",
       "mean               3.042467              9.688589              2.705795   \n",
       "std                0.922808              2.328642              0.949077   \n",
       "min                0.000000              0.000000              0.000000   \n",
       "25%                2.461138              8.062878              2.040119   \n",
       "50%                2.984909              9.743623              2.748730   \n",
       "75%                3.571351             11.134294              3.333216   \n",
       "max                8.245022             19.552149              5.804178   \n",
       "\n",
       "       final.output.tail_sol  \n",
       "count           19433.000000  \n",
       "mean               10.583728  \n",
       "std                 2.868782  \n",
       "min                 0.000000  \n",
       "25%                 8.938947  \n",
       "50%                10.622456  \n",
       "75%                12.104271  \n",
       "max                22.317730  \n",
       "\n",
       "[8 rows x 86 columns]"
      ]
     },
     "execution_count": 322,
     "metadata": {},
     "output_type": "execute_result"
    }
   ],
   "source": [
    "g_r_full.describe()"
   ]
  },
  {
   "cell_type": "code",
   "execution_count": 323,
   "id": "ddaa5f7b",
   "metadata": {},
   "outputs": [],
   "source": [
    "#чтобы ознакомиться со всеми пропусками в данных, использовал метод set_option\n",
    "pd.set_option('display.max_rows', None)"
   ]
  },
  {
   "cell_type": "code",
   "execution_count": 324,
   "id": "dc63d45d",
   "metadata": {
    "scrolled": true
   },
   "outputs": [
    {
     "data": {
      "text/plain": [
       "date                                                    0\n",
       "rougher.input.feed_au                                   0\n",
       "rougher.input.feed_ag                                   0\n",
       "rougher.input.feed_pb                                  72\n",
       "rougher.input.feed_sol                                 77\n",
       "rougher.input.feed_rate                                 7\n",
       "rougher.input.feed_size                               101\n",
       "rougher.input.floatbank10_sulfate                      31\n",
       "rougher.input.floatbank10_xanthate                      7\n",
       "rougher.state.floatbank10_a_air                         0\n",
       "rougher.state.floatbank10_a_level                       0\n",
       "rougher.state.floatbank10_b_air                         0\n",
       "rougher.state.floatbank10_b_level                       0\n",
       "rougher.state.floatbank10_c_air                         0\n",
       "rougher.state.floatbank10_c_level                       0\n",
       "rougher.state.floatbank10_d_air                         0\n",
       "rougher.state.floatbank10_d_level                       0\n",
       "rougher.state.floatbank10_e_air                       429\n",
       "rougher.state.floatbank10_e_level                       0\n",
       "rougher.state.floatbank10_f_air                         0\n",
       "rougher.state.floatbank10_f_level                       0\n",
       "rougher.input.floatbank11_sulfate                      36\n",
       "rougher.input.floatbank11_xanthate                    407\n",
       "rougher.calculation.sulfate_to_au_concentrate           1\n",
       "rougher.calculation.floatbank10_sulfate_to_au_feed      1\n",
       "rougher.calculation.floatbank11_sulfate_to_au_feed      1\n",
       "rougher.calculation.au_pb_ratio                         0\n",
       "rougher.output.concentrate_au                           0\n",
       "rougher.output.concentrate_ag                           0\n",
       "rougher.output.concentrate_pb                           0\n",
       "rougher.output.concentrate_sol                         18\n",
       "rougher.output.recovery                                 0\n",
       "rougher.output.tail_au                                  0\n",
       "rougher.output.tail_ag                                  1\n",
       "rougher.output.tail_pb                                  0\n",
       "rougher.output.tail_sol                                 0\n",
       "primary_cleaner.input.sulfate                          23\n",
       "primary_cleaner.input.depressant                       28\n",
       "primary_cleaner.input.feed_size                         0\n",
       "primary_cleaner.input.xanthate                         61\n",
       "primary_cleaner.state.floatbank8_a_air                  3\n",
       "primary_cleaner.state.floatbank8_a_level                0\n",
       "primary_cleaner.state.floatbank8_b_air                  3\n",
       "primary_cleaner.state.floatbank8_b_level                0\n",
       "primary_cleaner.state.floatbank8_c_air                  0\n",
       "primary_cleaner.state.floatbank8_c_level                0\n",
       "primary_cleaner.state.floatbank8_d_air                  1\n",
       "primary_cleaner.state.floatbank8_d_level                0\n",
       "primary_cleaner.output.concentrate_au                   0\n",
       "primary_cleaner.output.concentrate_ag                   0\n",
       "primary_cleaner.output.concentrate_pb                  88\n",
       "primary_cleaner.output.concentrate_sol                265\n",
       "primary_cleaner.output.tail_au                          0\n",
       "primary_cleaner.output.tail_ag                          4\n",
       "primary_cleaner.output.tail_pb                          6\n",
       "primary_cleaner.output.tail_sol                        45\n",
       "secondary_cleaner.state.floatbank2_a_air               94\n",
       "secondary_cleaner.state.floatbank2_a_level              0\n",
       "secondary_cleaner.state.floatbank2_b_air               22\n",
       "secondary_cleaner.state.floatbank2_b_level              0\n",
       "secondary_cleaner.state.floatbank3_a_air               12\n",
       "secondary_cleaner.state.floatbank3_a_level              0\n",
       "secondary_cleaner.state.floatbank3_b_air                0\n",
       "secondary_cleaner.state.floatbank3_b_level              0\n",
       "secondary_cleaner.state.floatbank4_a_air                5\n",
       "secondary_cleaner.state.floatbank4_a_level              0\n",
       "secondary_cleaner.state.floatbank4_b_air                0\n",
       "secondary_cleaner.state.floatbank4_b_level              0\n",
       "secondary_cleaner.state.floatbank5_a_air                0\n",
       "secondary_cleaner.state.floatbank5_a_level              0\n",
       "secondary_cleaner.state.floatbank5_b_air                0\n",
       "secondary_cleaner.state.floatbank5_b_level              0\n",
       "secondary_cleaner.state.floatbank6_a_air                1\n",
       "secondary_cleaner.state.floatbank6_a_level              0\n",
       "secondary_cleaner.output.tail_au                        0\n",
       "secondary_cleaner.output.tail_ag                        1\n",
       "secondary_cleaner.output.tail_pb                        4\n",
       "secondary_cleaner.output.tail_sol                     920\n",
       "final.output.concentrate_au                             0\n",
       "final.output.concentrate_ag                             1\n",
       "final.output.concentrate_pb                             1\n",
       "final.output.concentrate_sol                          192\n",
       "final.output.recovery                                   0\n",
       "final.output.tail_au                                    0\n",
       "final.output.tail_ag                                    1\n",
       "final.output.tail_pb                                   75\n",
       "final.output.tail_sol                                   5\n",
       "dtype: int64"
      ]
     },
     "execution_count": 324,
     "metadata": {},
     "output_type": "execute_result"
    }
   ],
   "source": [
    "g_r_train.isna().sum()"
   ]
  },
  {
   "cell_type": "markdown",
   "id": "314ae550",
   "metadata": {},
   "source": [
    "## Проверка эффективности обогащения"
   ]
  },
  {
   "cell_type": "code",
   "execution_count": 325,
   "id": "68362aa6",
   "metadata": {},
   "outputs": [],
   "source": [
    "C = g_r_train['rougher.output.concentrate_au']\n",
    "F = g_r_train['rougher.input.feed_au']\n",
    "T = g_r_train['rougher.output.tail_au']\n",
    "\n",
    "\n",
    "recov = ((C * (F - T)) / (F * (C - T))) * 100"
   ]
  },
  {
   "cell_type": "code",
   "execution_count": 326,
   "id": "b7bc77ca",
   "metadata": {},
   "outputs": [
    {
     "name": "stdout",
     "output_type": "stream",
     "text": [
      "MAE = 9.83758577644259e-15\n"
     ]
    }
   ],
   "source": [
    "mae_recov = mean_absolute_error(g_r_train['rougher.output.recovery'], recov)\n",
    "print(f'MAE = {mae_recov}')"
   ]
  },
  {
   "cell_type": "code",
   "execution_count": 327,
   "id": "e5a449e4",
   "metadata": {},
   "outputs": [],
   "source": [
    "g_r_full['date'] = pd.to_datetime(g_r_full['date'])\n",
    "g_r_train['date'] = pd.to_datetime(g_r_train['date'])\n",
    "g_r_test['date'] = pd.to_datetime(g_r_test['date'])"
   ]
  },
  {
   "cell_type": "code",
   "execution_count": 328,
   "id": "33ebeec3",
   "metadata": {},
   "outputs": [],
   "source": [
    "#даты преобразовал в индексы\n",
    "g_r_train = g_r_train.set_index('date')\n",
    "g_r_test = g_r_test.set_index('date')\n",
    "g_r_full = g_r_full.set_index('date')"
   ]
  },
  {
   "cell_type": "code",
   "execution_count": 329,
   "id": "7551e52b",
   "metadata": {},
   "outputs": [
    {
     "data": {
      "text/html": [
       "<div>\n",
       "<style scoped>\n",
       "    .dataframe tbody tr th:only-of-type {\n",
       "        vertical-align: middle;\n",
       "    }\n",
       "\n",
       "    .dataframe tbody tr th {\n",
       "        vertical-align: top;\n",
       "    }\n",
       "\n",
       "    .dataframe thead th {\n",
       "        text-align: right;\n",
       "    }\n",
       "</style>\n",
       "<table border=\"1\" class=\"dataframe\">\n",
       "  <thead>\n",
       "    <tr style=\"text-align: right;\">\n",
       "      <th></th>\n",
       "      <th>rougher.input.feed_au</th>\n",
       "      <th>rougher.input.feed_ag</th>\n",
       "      <th>rougher.input.feed_pb</th>\n",
       "      <th>rougher.input.feed_sol</th>\n",
       "      <th>rougher.input.feed_rate</th>\n",
       "      <th>rougher.input.feed_size</th>\n",
       "      <th>rougher.input.floatbank10_sulfate</th>\n",
       "      <th>rougher.input.floatbank10_xanthate</th>\n",
       "      <th>rougher.state.floatbank10_a_air</th>\n",
       "      <th>rougher.state.floatbank10_a_level</th>\n",
       "      <th>...</th>\n",
       "      <th>secondary_cleaner.output.tail_sol</th>\n",
       "      <th>final.output.concentrate_au</th>\n",
       "      <th>final.output.concentrate_ag</th>\n",
       "      <th>final.output.concentrate_pb</th>\n",
       "      <th>final.output.concentrate_sol</th>\n",
       "      <th>final.output.recovery</th>\n",
       "      <th>final.output.tail_au</th>\n",
       "      <th>final.output.tail_ag</th>\n",
       "      <th>final.output.tail_pb</th>\n",
       "      <th>final.output.tail_sol</th>\n",
       "    </tr>\n",
       "    <tr>\n",
       "      <th>date</th>\n",
       "      <th></th>\n",
       "      <th></th>\n",
       "      <th></th>\n",
       "      <th></th>\n",
       "      <th></th>\n",
       "      <th></th>\n",
       "      <th></th>\n",
       "      <th></th>\n",
       "      <th></th>\n",
       "      <th></th>\n",
       "      <th></th>\n",
       "      <th></th>\n",
       "      <th></th>\n",
       "      <th></th>\n",
       "      <th></th>\n",
       "      <th></th>\n",
       "      <th></th>\n",
       "      <th></th>\n",
       "      <th></th>\n",
       "      <th></th>\n",
       "      <th></th>\n",
       "    </tr>\n",
       "  </thead>\n",
       "  <tbody>\n",
       "    <tr>\n",
       "      <th>2016-01-15 00:00:00</th>\n",
       "      <td>6.486150</td>\n",
       "      <td>6.100378</td>\n",
       "      <td>2.284912</td>\n",
       "      <td>36.808594</td>\n",
       "      <td>523.546326</td>\n",
       "      <td>55.486599</td>\n",
       "      <td>11.986616</td>\n",
       "      <td>6.007990</td>\n",
       "      <td>999.706909</td>\n",
       "      <td>-404.066986</td>\n",
       "      <td>...</td>\n",
       "      <td>8.764648</td>\n",
       "      <td>42.192020</td>\n",
       "      <td>6.055403</td>\n",
       "      <td>9.889648</td>\n",
       "      <td>5.507324</td>\n",
       "      <td>70.541216</td>\n",
       "      <td>2.143149</td>\n",
       "      <td>10.411962</td>\n",
       "      <td>0.895447</td>\n",
       "      <td>16.904297</td>\n",
       "    </tr>\n",
       "    <tr>\n",
       "      <th>2016-01-15 01:00:00</th>\n",
       "      <td>6.478583</td>\n",
       "      <td>6.161113</td>\n",
       "      <td>2.266033</td>\n",
       "      <td>35.753385</td>\n",
       "      <td>525.290581</td>\n",
       "      <td>57.278666</td>\n",
       "      <td>11.971193</td>\n",
       "      <td>6.005766</td>\n",
       "      <td>1000.286398</td>\n",
       "      <td>-400.065196</td>\n",
       "      <td>...</td>\n",
       "      <td>9.001494</td>\n",
       "      <td>42.701629</td>\n",
       "      <td>6.029369</td>\n",
       "      <td>9.968944</td>\n",
       "      <td>5.257781</td>\n",
       "      <td>69.266198</td>\n",
       "      <td>2.224930</td>\n",
       "      <td>10.462676</td>\n",
       "      <td>0.927452</td>\n",
       "      <td>16.634514</td>\n",
       "    </tr>\n",
       "    <tr>\n",
       "      <th>2016-01-15 02:00:00</th>\n",
       "      <td>6.362222</td>\n",
       "      <td>6.116455</td>\n",
       "      <td>2.159622</td>\n",
       "      <td>35.971630</td>\n",
       "      <td>530.026610</td>\n",
       "      <td>57.510649</td>\n",
       "      <td>11.920603</td>\n",
       "      <td>6.197377</td>\n",
       "      <td>999.719565</td>\n",
       "      <td>-400.074028</td>\n",
       "      <td>...</td>\n",
       "      <td>8.842896</td>\n",
       "      <td>42.657501</td>\n",
       "      <td>6.055926</td>\n",
       "      <td>10.213995</td>\n",
       "      <td>5.383759</td>\n",
       "      <td>68.116445</td>\n",
       "      <td>2.257889</td>\n",
       "      <td>10.507046</td>\n",
       "      <td>0.953716</td>\n",
       "      <td>16.208849</td>\n",
       "    </tr>\n",
       "    <tr>\n",
       "      <th>2016-01-15 03:00:00</th>\n",
       "      <td>6.118189</td>\n",
       "      <td>6.043309</td>\n",
       "      <td>2.037807</td>\n",
       "      <td>36.862241</td>\n",
       "      <td>542.590390</td>\n",
       "      <td>57.792734</td>\n",
       "      <td>11.630094</td>\n",
       "      <td>6.203177</td>\n",
       "      <td>999.814770</td>\n",
       "      <td>-400.200179</td>\n",
       "      <td>...</td>\n",
       "      <td>9.122857</td>\n",
       "      <td>42.689819</td>\n",
       "      <td>6.047977</td>\n",
       "      <td>9.977019</td>\n",
       "      <td>4.858634</td>\n",
       "      <td>68.347543</td>\n",
       "      <td>2.146849</td>\n",
       "      <td>10.422762</td>\n",
       "      <td>0.883763</td>\n",
       "      <td>16.532835</td>\n",
       "    </tr>\n",
       "    <tr>\n",
       "      <th>2016-01-15 04:00:00</th>\n",
       "      <td>5.663707</td>\n",
       "      <td>6.060915</td>\n",
       "      <td>1.786875</td>\n",
       "      <td>34.347666</td>\n",
       "      <td>540.531893</td>\n",
       "      <td>56.047189</td>\n",
       "      <td>10.957755</td>\n",
       "      <td>6.198826</td>\n",
       "      <td>999.678690</td>\n",
       "      <td>-399.752729</td>\n",
       "      <td>...</td>\n",
       "      <td>8.871028</td>\n",
       "      <td>42.774141</td>\n",
       "      <td>6.148599</td>\n",
       "      <td>10.142511</td>\n",
       "      <td>4.939416</td>\n",
       "      <td>66.927016</td>\n",
       "      <td>2.055292</td>\n",
       "      <td>10.360302</td>\n",
       "      <td>0.792826</td>\n",
       "      <td>16.525686</td>\n",
       "    </tr>\n",
       "  </tbody>\n",
       "</table>\n",
       "<p>5 rows × 86 columns</p>\n",
       "</div>"
      ],
      "text/plain": [
       "                     rougher.input.feed_au  rougher.input.feed_ag  \\\n",
       "date                                                                \n",
       "2016-01-15 00:00:00               6.486150               6.100378   \n",
       "2016-01-15 01:00:00               6.478583               6.161113   \n",
       "2016-01-15 02:00:00               6.362222               6.116455   \n",
       "2016-01-15 03:00:00               6.118189               6.043309   \n",
       "2016-01-15 04:00:00               5.663707               6.060915   \n",
       "\n",
       "                     rougher.input.feed_pb  rougher.input.feed_sol  \\\n",
       "date                                                                 \n",
       "2016-01-15 00:00:00               2.284912               36.808594   \n",
       "2016-01-15 01:00:00               2.266033               35.753385   \n",
       "2016-01-15 02:00:00               2.159622               35.971630   \n",
       "2016-01-15 03:00:00               2.037807               36.862241   \n",
       "2016-01-15 04:00:00               1.786875               34.347666   \n",
       "\n",
       "                     rougher.input.feed_rate  rougher.input.feed_size  \\\n",
       "date                                                                    \n",
       "2016-01-15 00:00:00               523.546326                55.486599   \n",
       "2016-01-15 01:00:00               525.290581                57.278666   \n",
       "2016-01-15 02:00:00               530.026610                57.510649   \n",
       "2016-01-15 03:00:00               542.590390                57.792734   \n",
       "2016-01-15 04:00:00               540.531893                56.047189   \n",
       "\n",
       "                     rougher.input.floatbank10_sulfate  \\\n",
       "date                                                     \n",
       "2016-01-15 00:00:00                          11.986616   \n",
       "2016-01-15 01:00:00                          11.971193   \n",
       "2016-01-15 02:00:00                          11.920603   \n",
       "2016-01-15 03:00:00                          11.630094   \n",
       "2016-01-15 04:00:00                          10.957755   \n",
       "\n",
       "                     rougher.input.floatbank10_xanthate  \\\n",
       "date                                                      \n",
       "2016-01-15 00:00:00                            6.007990   \n",
       "2016-01-15 01:00:00                            6.005766   \n",
       "2016-01-15 02:00:00                            6.197377   \n",
       "2016-01-15 03:00:00                            6.203177   \n",
       "2016-01-15 04:00:00                            6.198826   \n",
       "\n",
       "                     rougher.state.floatbank10_a_air  \\\n",
       "date                                                   \n",
       "2016-01-15 00:00:00                       999.706909   \n",
       "2016-01-15 01:00:00                      1000.286398   \n",
       "2016-01-15 02:00:00                       999.719565   \n",
       "2016-01-15 03:00:00                       999.814770   \n",
       "2016-01-15 04:00:00                       999.678690   \n",
       "\n",
       "                     rougher.state.floatbank10_a_level  ...  \\\n",
       "date                                                    ...   \n",
       "2016-01-15 00:00:00                        -404.066986  ...   \n",
       "2016-01-15 01:00:00                        -400.065196  ...   \n",
       "2016-01-15 02:00:00                        -400.074028  ...   \n",
       "2016-01-15 03:00:00                        -400.200179  ...   \n",
       "2016-01-15 04:00:00                        -399.752729  ...   \n",
       "\n",
       "                     secondary_cleaner.output.tail_sol  \\\n",
       "date                                                     \n",
       "2016-01-15 00:00:00                           8.764648   \n",
       "2016-01-15 01:00:00                           9.001494   \n",
       "2016-01-15 02:00:00                           8.842896   \n",
       "2016-01-15 03:00:00                           9.122857   \n",
       "2016-01-15 04:00:00                           8.871028   \n",
       "\n",
       "                     final.output.concentrate_au  final.output.concentrate_ag  \\\n",
       "date                                                                            \n",
       "2016-01-15 00:00:00                    42.192020                     6.055403   \n",
       "2016-01-15 01:00:00                    42.701629                     6.029369   \n",
       "2016-01-15 02:00:00                    42.657501                     6.055926   \n",
       "2016-01-15 03:00:00                    42.689819                     6.047977   \n",
       "2016-01-15 04:00:00                    42.774141                     6.148599   \n",
       "\n",
       "                     final.output.concentrate_pb  \\\n",
       "date                                               \n",
       "2016-01-15 00:00:00                     9.889648   \n",
       "2016-01-15 01:00:00                     9.968944   \n",
       "2016-01-15 02:00:00                    10.213995   \n",
       "2016-01-15 03:00:00                     9.977019   \n",
       "2016-01-15 04:00:00                    10.142511   \n",
       "\n",
       "                     final.output.concentrate_sol  final.output.recovery  \\\n",
       "date                                                                       \n",
       "2016-01-15 00:00:00                      5.507324              70.541216   \n",
       "2016-01-15 01:00:00                      5.257781              69.266198   \n",
       "2016-01-15 02:00:00                      5.383759              68.116445   \n",
       "2016-01-15 03:00:00                      4.858634              68.347543   \n",
       "2016-01-15 04:00:00                      4.939416              66.927016   \n",
       "\n",
       "                     final.output.tail_au  final.output.tail_ag  \\\n",
       "date                                                              \n",
       "2016-01-15 00:00:00              2.143149             10.411962   \n",
       "2016-01-15 01:00:00              2.224930             10.462676   \n",
       "2016-01-15 02:00:00              2.257889             10.507046   \n",
       "2016-01-15 03:00:00              2.146849             10.422762   \n",
       "2016-01-15 04:00:00              2.055292             10.360302   \n",
       "\n",
       "                     final.output.tail_pb  final.output.tail_sol  \n",
       "date                                                              \n",
       "2016-01-15 00:00:00              0.895447              16.904297  \n",
       "2016-01-15 01:00:00              0.927452              16.634514  \n",
       "2016-01-15 02:00:00              0.953716              16.208849  \n",
       "2016-01-15 03:00:00              0.883763              16.532835  \n",
       "2016-01-15 04:00:00              0.792826              16.525686  \n",
       "\n",
       "[5 rows x 86 columns]"
      ]
     },
     "execution_count": 329,
     "metadata": {},
     "output_type": "execute_result"
    }
   ],
   "source": [
    "g_r_full.head()"
   ]
  },
  {
   "cell_type": "code",
   "execution_count": 330,
   "id": "fb064858",
   "metadata": {},
   "outputs": [
    {
     "data": {
      "text/plain": [
       "{'final.output.concentrate_ag',\n",
       " 'final.output.concentrate_au',\n",
       " 'final.output.concentrate_pb',\n",
       " 'final.output.concentrate_sol',\n",
       " 'final.output.recovery',\n",
       " 'final.output.tail_ag',\n",
       " 'final.output.tail_au',\n",
       " 'final.output.tail_pb',\n",
       " 'final.output.tail_sol',\n",
       " 'primary_cleaner.output.concentrate_ag',\n",
       " 'primary_cleaner.output.concentrate_au',\n",
       " 'primary_cleaner.output.concentrate_pb',\n",
       " 'primary_cleaner.output.concentrate_sol',\n",
       " 'primary_cleaner.output.tail_ag',\n",
       " 'primary_cleaner.output.tail_au',\n",
       " 'primary_cleaner.output.tail_pb',\n",
       " 'primary_cleaner.output.tail_sol',\n",
       " 'rougher.calculation.au_pb_ratio',\n",
       " 'rougher.calculation.floatbank10_sulfate_to_au_feed',\n",
       " 'rougher.calculation.floatbank11_sulfate_to_au_feed',\n",
       " 'rougher.calculation.sulfate_to_au_concentrate',\n",
       " 'rougher.output.concentrate_ag',\n",
       " 'rougher.output.concentrate_au',\n",
       " 'rougher.output.concentrate_pb',\n",
       " 'rougher.output.concentrate_sol',\n",
       " 'rougher.output.recovery',\n",
       " 'rougher.output.tail_ag',\n",
       " 'rougher.output.tail_au',\n",
       " 'rougher.output.tail_pb',\n",
       " 'rougher.output.tail_sol',\n",
       " 'secondary_cleaner.output.tail_ag',\n",
       " 'secondary_cleaner.output.tail_au',\n",
       " 'secondary_cleaner.output.tail_pb',\n",
       " 'secondary_cleaner.output.tail_sol'}"
      ]
     },
     "execution_count": 330,
     "metadata": {},
     "output_type": "execute_result"
    }
   ],
   "source": [
    "#вывод разницы в столбцах\n",
    "columns_diff = set(g_r_train) - set(g_r_test)\n",
    "columns_diff"
   ]
  },
  {
   "cell_type": "code",
   "execution_count": 331,
   "id": "b8a41f6e",
   "metadata": {},
   "outputs": [],
   "source": [
    "#добавление целевых признаков в тестовую выборку\n",
    "g_r_test = g_r_test.merge(g_r_full[['rougher.output.recovery', 'final.output.recovery']], left_index=True, right_index=True)"
   ]
  },
  {
   "cell_type": "code",
   "execution_count": 332,
   "id": "c27ece64",
   "metadata": {
    "scrolled": true
   },
   "outputs": [
    {
     "data": {
      "text/html": [
       "<div>\n",
       "<style scoped>\n",
       "    .dataframe tbody tr th:only-of-type {\n",
       "        vertical-align: middle;\n",
       "    }\n",
       "\n",
       "    .dataframe tbody tr th {\n",
       "        vertical-align: top;\n",
       "    }\n",
       "\n",
       "    .dataframe thead th {\n",
       "        text-align: right;\n",
       "    }\n",
       "</style>\n",
       "<table border=\"1\" class=\"dataframe\">\n",
       "  <thead>\n",
       "    <tr style=\"text-align: right;\">\n",
       "      <th></th>\n",
       "      <th>rougher.input.feed_au</th>\n",
       "      <th>rougher.input.feed_ag</th>\n",
       "      <th>rougher.input.feed_pb</th>\n",
       "      <th>rougher.input.feed_sol</th>\n",
       "      <th>rougher.input.feed_rate</th>\n",
       "      <th>rougher.input.feed_size</th>\n",
       "      <th>rougher.input.floatbank10_sulfate</th>\n",
       "      <th>rougher.input.floatbank10_xanthate</th>\n",
       "      <th>rougher.state.floatbank10_a_air</th>\n",
       "      <th>rougher.state.floatbank10_a_level</th>\n",
       "      <th>...</th>\n",
       "      <th>secondary_cleaner.state.floatbank4_b_air</th>\n",
       "      <th>secondary_cleaner.state.floatbank4_b_level</th>\n",
       "      <th>secondary_cleaner.state.floatbank5_a_air</th>\n",
       "      <th>secondary_cleaner.state.floatbank5_a_level</th>\n",
       "      <th>secondary_cleaner.state.floatbank5_b_air</th>\n",
       "      <th>secondary_cleaner.state.floatbank5_b_level</th>\n",
       "      <th>secondary_cleaner.state.floatbank6_a_air</th>\n",
       "      <th>secondary_cleaner.state.floatbank6_a_level</th>\n",
       "      <th>rougher.output.recovery</th>\n",
       "      <th>final.output.recovery</th>\n",
       "    </tr>\n",
       "    <tr>\n",
       "      <th>date</th>\n",
       "      <th></th>\n",
       "      <th></th>\n",
       "      <th></th>\n",
       "      <th></th>\n",
       "      <th></th>\n",
       "      <th></th>\n",
       "      <th></th>\n",
       "      <th></th>\n",
       "      <th></th>\n",
       "      <th></th>\n",
       "      <th></th>\n",
       "      <th></th>\n",
       "      <th></th>\n",
       "      <th></th>\n",
       "      <th></th>\n",
       "      <th></th>\n",
       "      <th></th>\n",
       "      <th></th>\n",
       "      <th></th>\n",
       "      <th></th>\n",
       "      <th></th>\n",
       "    </tr>\n",
       "  </thead>\n",
       "  <tbody>\n",
       "    <tr>\n",
       "      <th>2017-12-09 14:59:59</th>\n",
       "      <td>4.365491</td>\n",
       "      <td>6.158718</td>\n",
       "      <td>3.875727</td>\n",
       "      <td>39.135119</td>\n",
       "      <td>555.820208</td>\n",
       "      <td>94.544358</td>\n",
       "      <td>6.146982</td>\n",
       "      <td>9.308612</td>\n",
       "      <td>1196.238112</td>\n",
       "      <td>-299.862743</td>\n",
       "      <td>...</td>\n",
       "      <td>20.020205</td>\n",
       "      <td>-500.220296</td>\n",
       "      <td>17.963512</td>\n",
       "      <td>-499.939490</td>\n",
       "      <td>12.990306</td>\n",
       "      <td>-500.080993</td>\n",
       "      <td>19.990336</td>\n",
       "      <td>-499.191575</td>\n",
       "      <td>89.514960</td>\n",
       "      <td>70.281454</td>\n",
       "    </tr>\n",
       "    <tr>\n",
       "      <th>2017-12-09 15:59:59</th>\n",
       "      <td>4.362781</td>\n",
       "      <td>6.048130</td>\n",
       "      <td>3.902537</td>\n",
       "      <td>39.713906</td>\n",
       "      <td>544.731687</td>\n",
       "      <td>123.742430</td>\n",
       "      <td>6.210119</td>\n",
       "      <td>9.297709</td>\n",
       "      <td>1201.904177</td>\n",
       "      <td>-299.907308</td>\n",
       "      <td>...</td>\n",
       "      <td>20.054122</td>\n",
       "      <td>-500.314711</td>\n",
       "      <td>17.979515</td>\n",
       "      <td>-499.272871</td>\n",
       "      <td>12.992404</td>\n",
       "      <td>-499.976268</td>\n",
       "      <td>20.013986</td>\n",
       "      <td>-500.625471</td>\n",
       "      <td>89.858126</td>\n",
       "      <td>65.523246</td>\n",
       "    </tr>\n",
       "    <tr>\n",
       "      <th>2017-12-09 16:59:59</th>\n",
       "      <td>5.081681</td>\n",
       "      <td>6.082745</td>\n",
       "      <td>4.564078</td>\n",
       "      <td>37.208683</td>\n",
       "      <td>558.155110</td>\n",
       "      <td>82.610855</td>\n",
       "      <td>7.363824</td>\n",
       "      <td>9.003562</td>\n",
       "      <td>1200.826926</td>\n",
       "      <td>-300.124116</td>\n",
       "      <td>...</td>\n",
       "      <td>20.029144</td>\n",
       "      <td>-500.000662</td>\n",
       "      <td>18.012723</td>\n",
       "      <td>-500.024764</td>\n",
       "      <td>13.016445</td>\n",
       "      <td>-500.058432</td>\n",
       "      <td>19.973767</td>\n",
       "      <td>-501.394155</td>\n",
       "      <td>91.816623</td>\n",
       "      <td>74.817644</td>\n",
       "    </tr>\n",
       "    <tr>\n",
       "      <th>2017-12-09 17:59:59</th>\n",
       "      <td>5.145949</td>\n",
       "      <td>6.084374</td>\n",
       "      <td>4.768124</td>\n",
       "      <td>36.808874</td>\n",
       "      <td>539.713765</td>\n",
       "      <td>77.984784</td>\n",
       "      <td>6.927072</td>\n",
       "      <td>8.955597</td>\n",
       "      <td>1199.292489</td>\n",
       "      <td>-299.778385</td>\n",
       "      <td>...</td>\n",
       "      <td>19.977466</td>\n",
       "      <td>-500.159903</td>\n",
       "      <td>17.980463</td>\n",
       "      <td>-500.504602</td>\n",
       "      <td>12.949071</td>\n",
       "      <td>-500.009937</td>\n",
       "      <td>20.010332</td>\n",
       "      <td>-508.337973</td>\n",
       "      <td>88.478959</td>\n",
       "      <td>63.082720</td>\n",
       "    </tr>\n",
       "    <tr>\n",
       "      <th>2017-12-09 18:59:59</th>\n",
       "      <td>5.735249</td>\n",
       "      <td>6.165220</td>\n",
       "      <td>4.512346</td>\n",
       "      <td>37.810642</td>\n",
       "      <td>558.713584</td>\n",
       "      <td>86.434874</td>\n",
       "      <td>7.823471</td>\n",
       "      <td>7.490356</td>\n",
       "      <td>1198.005449</td>\n",
       "      <td>-300.283401</td>\n",
       "      <td>...</td>\n",
       "      <td>20.023735</td>\n",
       "      <td>-499.713680</td>\n",
       "      <td>17.990955</td>\n",
       "      <td>-500.334769</td>\n",
       "      <td>13.007523</td>\n",
       "      <td>-499.968459</td>\n",
       "      <td>19.995999</td>\n",
       "      <td>-499.788805</td>\n",
       "      <td>89.230316</td>\n",
       "      <td>74.463380</td>\n",
       "    </tr>\n",
       "  </tbody>\n",
       "</table>\n",
       "<p>5 rows × 54 columns</p>\n",
       "</div>"
      ],
      "text/plain": [
       "                     rougher.input.feed_au  rougher.input.feed_ag  \\\n",
       "date                                                                \n",
       "2017-12-09 14:59:59               4.365491               6.158718   \n",
       "2017-12-09 15:59:59               4.362781               6.048130   \n",
       "2017-12-09 16:59:59               5.081681               6.082745   \n",
       "2017-12-09 17:59:59               5.145949               6.084374   \n",
       "2017-12-09 18:59:59               5.735249               6.165220   \n",
       "\n",
       "                     rougher.input.feed_pb  rougher.input.feed_sol  \\\n",
       "date                                                                 \n",
       "2017-12-09 14:59:59               3.875727               39.135119   \n",
       "2017-12-09 15:59:59               3.902537               39.713906   \n",
       "2017-12-09 16:59:59               4.564078               37.208683   \n",
       "2017-12-09 17:59:59               4.768124               36.808874   \n",
       "2017-12-09 18:59:59               4.512346               37.810642   \n",
       "\n",
       "                     rougher.input.feed_rate  rougher.input.feed_size  \\\n",
       "date                                                                    \n",
       "2017-12-09 14:59:59               555.820208                94.544358   \n",
       "2017-12-09 15:59:59               544.731687               123.742430   \n",
       "2017-12-09 16:59:59               558.155110                82.610855   \n",
       "2017-12-09 17:59:59               539.713765                77.984784   \n",
       "2017-12-09 18:59:59               558.713584                86.434874   \n",
       "\n",
       "                     rougher.input.floatbank10_sulfate  \\\n",
       "date                                                     \n",
       "2017-12-09 14:59:59                           6.146982   \n",
       "2017-12-09 15:59:59                           6.210119   \n",
       "2017-12-09 16:59:59                           7.363824   \n",
       "2017-12-09 17:59:59                           6.927072   \n",
       "2017-12-09 18:59:59                           7.823471   \n",
       "\n",
       "                     rougher.input.floatbank10_xanthate  \\\n",
       "date                                                      \n",
       "2017-12-09 14:59:59                            9.308612   \n",
       "2017-12-09 15:59:59                            9.297709   \n",
       "2017-12-09 16:59:59                            9.003562   \n",
       "2017-12-09 17:59:59                            8.955597   \n",
       "2017-12-09 18:59:59                            7.490356   \n",
       "\n",
       "                     rougher.state.floatbank10_a_air  \\\n",
       "date                                                   \n",
       "2017-12-09 14:59:59                      1196.238112   \n",
       "2017-12-09 15:59:59                      1201.904177   \n",
       "2017-12-09 16:59:59                      1200.826926   \n",
       "2017-12-09 17:59:59                      1199.292489   \n",
       "2017-12-09 18:59:59                      1198.005449   \n",
       "\n",
       "                     rougher.state.floatbank10_a_level  ...  \\\n",
       "date                                                    ...   \n",
       "2017-12-09 14:59:59                        -299.862743  ...   \n",
       "2017-12-09 15:59:59                        -299.907308  ...   \n",
       "2017-12-09 16:59:59                        -300.124116  ...   \n",
       "2017-12-09 17:59:59                        -299.778385  ...   \n",
       "2017-12-09 18:59:59                        -300.283401  ...   \n",
       "\n",
       "                     secondary_cleaner.state.floatbank4_b_air  \\\n",
       "date                                                            \n",
       "2017-12-09 14:59:59                                 20.020205   \n",
       "2017-12-09 15:59:59                                 20.054122   \n",
       "2017-12-09 16:59:59                                 20.029144   \n",
       "2017-12-09 17:59:59                                 19.977466   \n",
       "2017-12-09 18:59:59                                 20.023735   \n",
       "\n",
       "                     secondary_cleaner.state.floatbank4_b_level  \\\n",
       "date                                                              \n",
       "2017-12-09 14:59:59                                 -500.220296   \n",
       "2017-12-09 15:59:59                                 -500.314711   \n",
       "2017-12-09 16:59:59                                 -500.000662   \n",
       "2017-12-09 17:59:59                                 -500.159903   \n",
       "2017-12-09 18:59:59                                 -499.713680   \n",
       "\n",
       "                     secondary_cleaner.state.floatbank5_a_air  \\\n",
       "date                                                            \n",
       "2017-12-09 14:59:59                                 17.963512   \n",
       "2017-12-09 15:59:59                                 17.979515   \n",
       "2017-12-09 16:59:59                                 18.012723   \n",
       "2017-12-09 17:59:59                                 17.980463   \n",
       "2017-12-09 18:59:59                                 17.990955   \n",
       "\n",
       "                     secondary_cleaner.state.floatbank5_a_level  \\\n",
       "date                                                              \n",
       "2017-12-09 14:59:59                                 -499.939490   \n",
       "2017-12-09 15:59:59                                 -499.272871   \n",
       "2017-12-09 16:59:59                                 -500.024764   \n",
       "2017-12-09 17:59:59                                 -500.504602   \n",
       "2017-12-09 18:59:59                                 -500.334769   \n",
       "\n",
       "                     secondary_cleaner.state.floatbank5_b_air  \\\n",
       "date                                                            \n",
       "2017-12-09 14:59:59                                 12.990306   \n",
       "2017-12-09 15:59:59                                 12.992404   \n",
       "2017-12-09 16:59:59                                 13.016445   \n",
       "2017-12-09 17:59:59                                 12.949071   \n",
       "2017-12-09 18:59:59                                 13.007523   \n",
       "\n",
       "                     secondary_cleaner.state.floatbank5_b_level  \\\n",
       "date                                                              \n",
       "2017-12-09 14:59:59                                 -500.080993   \n",
       "2017-12-09 15:59:59                                 -499.976268   \n",
       "2017-12-09 16:59:59                                 -500.058432   \n",
       "2017-12-09 17:59:59                                 -500.009937   \n",
       "2017-12-09 18:59:59                                 -499.968459   \n",
       "\n",
       "                     secondary_cleaner.state.floatbank6_a_air  \\\n",
       "date                                                            \n",
       "2017-12-09 14:59:59                                 19.990336   \n",
       "2017-12-09 15:59:59                                 20.013986   \n",
       "2017-12-09 16:59:59                                 19.973767   \n",
       "2017-12-09 17:59:59                                 20.010332   \n",
       "2017-12-09 18:59:59                                 19.995999   \n",
       "\n",
       "                     secondary_cleaner.state.floatbank6_a_level  \\\n",
       "date                                                              \n",
       "2017-12-09 14:59:59                                 -499.191575   \n",
       "2017-12-09 15:59:59                                 -500.625471   \n",
       "2017-12-09 16:59:59                                 -501.394155   \n",
       "2017-12-09 17:59:59                                 -508.337973   \n",
       "2017-12-09 18:59:59                                 -499.788805   \n",
       "\n",
       "                     rougher.output.recovery  final.output.recovery  \n",
       "date                                                                 \n",
       "2017-12-09 14:59:59                89.514960              70.281454  \n",
       "2017-12-09 15:59:59                89.858126              65.523246  \n",
       "2017-12-09 16:59:59                91.816623              74.817644  \n",
       "2017-12-09 17:59:59                88.478959              63.082720  \n",
       "2017-12-09 18:59:59                89.230316              74.463380  \n",
       "\n",
       "[5 rows x 54 columns]"
      ]
     },
     "execution_count": 332,
     "metadata": {},
     "output_type": "execute_result"
    }
   ],
   "source": [
    "g_r_test.head()"
   ]
  },
  {
   "cell_type": "markdown",
   "id": "799a2fff",
   "metadata": {},
   "source": [
    "## Предобработка"
   ]
  },
  {
   "cell_type": "code",
   "execution_count": 333,
   "id": "12b19e18",
   "metadata": {},
   "outputs": [
    {
     "name": "stdout",
     "output_type": "stream",
     "text": [
      "<class 'pandas.core.frame.DataFrame'>\n",
      "DatetimeIndex: 14579 entries, 2016-01-15 00:00:00 to 2017-12-09 13:59:59\n",
      "Data columns (total 86 columns):\n",
      " #   Column                                              Non-Null Count  Dtype  \n",
      "---  ------                                              --------------  -----  \n",
      " 0   rougher.input.feed_au                               14579 non-null  float64\n",
      " 1   rougher.input.feed_ag                               14579 non-null  float64\n",
      " 2   rougher.input.feed_pb                               14507 non-null  float64\n",
      " 3   rougher.input.feed_sol                              14502 non-null  float64\n",
      " 4   rougher.input.feed_rate                             14572 non-null  float64\n",
      " 5   rougher.input.feed_size                             14478 non-null  float64\n",
      " 6   rougher.input.floatbank10_sulfate                   14548 non-null  float64\n",
      " 7   rougher.input.floatbank10_xanthate                  14572 non-null  float64\n",
      " 8   rougher.state.floatbank10_a_air                     14579 non-null  float64\n",
      " 9   rougher.state.floatbank10_a_level                   14579 non-null  float64\n",
      " 10  rougher.state.floatbank10_b_air                     14579 non-null  float64\n",
      " 11  rougher.state.floatbank10_b_level                   14579 non-null  float64\n",
      " 12  rougher.state.floatbank10_c_air                     14579 non-null  float64\n",
      " 13  rougher.state.floatbank10_c_level                   14579 non-null  float64\n",
      " 14  rougher.state.floatbank10_d_air                     14579 non-null  float64\n",
      " 15  rougher.state.floatbank10_d_level                   14579 non-null  float64\n",
      " 16  rougher.state.floatbank10_e_air                     14150 non-null  float64\n",
      " 17  rougher.state.floatbank10_e_level                   14579 non-null  float64\n",
      " 18  rougher.state.floatbank10_f_air                     14579 non-null  float64\n",
      " 19  rougher.state.floatbank10_f_level                   14579 non-null  float64\n",
      " 20  rougher.input.floatbank11_sulfate                   14543 non-null  float64\n",
      " 21  rougher.input.floatbank11_xanthate                  14172 non-null  float64\n",
      " 22  rougher.calculation.sulfate_to_au_concentrate       14578 non-null  float64\n",
      " 23  rougher.calculation.floatbank10_sulfate_to_au_feed  14578 non-null  float64\n",
      " 24  rougher.calculation.floatbank11_sulfate_to_au_feed  14578 non-null  float64\n",
      " 25  rougher.calculation.au_pb_ratio                     14579 non-null  float64\n",
      " 26  rougher.output.concentrate_au                       14579 non-null  float64\n",
      " 27  rougher.output.concentrate_ag                       14579 non-null  float64\n",
      " 28  rougher.output.concentrate_pb                       14579 non-null  float64\n",
      " 29  rougher.output.concentrate_sol                      14561 non-null  float64\n",
      " 30  rougher.output.recovery                             14579 non-null  float64\n",
      " 31  rougher.output.tail_au                              14579 non-null  float64\n",
      " 32  rougher.output.tail_ag                              14578 non-null  float64\n",
      " 33  rougher.output.tail_pb                              14579 non-null  float64\n",
      " 34  rougher.output.tail_sol                             14579 non-null  float64\n",
      " 35  primary_cleaner.input.sulfate                       14556 non-null  float64\n",
      " 36  primary_cleaner.input.depressant                    14551 non-null  float64\n",
      " 37  primary_cleaner.input.feed_size                     14579 non-null  float64\n",
      " 38  primary_cleaner.input.xanthate                      14518 non-null  float64\n",
      " 39  primary_cleaner.state.floatbank8_a_air              14576 non-null  float64\n",
      " 40  primary_cleaner.state.floatbank8_a_level            14579 non-null  float64\n",
      " 41  primary_cleaner.state.floatbank8_b_air              14576 non-null  float64\n",
      " 42  primary_cleaner.state.floatbank8_b_level            14579 non-null  float64\n",
      " 43  primary_cleaner.state.floatbank8_c_air              14579 non-null  float64\n",
      " 44  primary_cleaner.state.floatbank8_c_level            14579 non-null  float64\n",
      " 45  primary_cleaner.state.floatbank8_d_air              14578 non-null  float64\n",
      " 46  primary_cleaner.state.floatbank8_d_level            14579 non-null  float64\n",
      " 47  primary_cleaner.output.concentrate_au               14579 non-null  float64\n",
      " 48  primary_cleaner.output.concentrate_ag               14579 non-null  float64\n",
      " 49  primary_cleaner.output.concentrate_pb               14491 non-null  float64\n",
      " 50  primary_cleaner.output.concentrate_sol              14314 non-null  float64\n",
      " 51  primary_cleaner.output.tail_au                      14579 non-null  float64\n",
      " 52  primary_cleaner.output.tail_ag                      14575 non-null  float64\n",
      " 53  primary_cleaner.output.tail_pb                      14573 non-null  float64\n",
      " 54  primary_cleaner.output.tail_sol                     14534 non-null  float64\n",
      " 55  secondary_cleaner.state.floatbank2_a_air            14485 non-null  float64\n",
      " 56  secondary_cleaner.state.floatbank2_a_level          14579 non-null  float64\n",
      " 57  secondary_cleaner.state.floatbank2_b_air            14557 non-null  float64\n",
      " 58  secondary_cleaner.state.floatbank2_b_level          14579 non-null  float64\n",
      " 59  secondary_cleaner.state.floatbank3_a_air            14567 non-null  float64\n",
      " 60  secondary_cleaner.state.floatbank3_a_level          14579 non-null  float64\n",
      " 61  secondary_cleaner.state.floatbank3_b_air            14579 non-null  float64\n",
      " 62  secondary_cleaner.state.floatbank3_b_level          14579 non-null  float64\n",
      " 63  secondary_cleaner.state.floatbank4_a_air            14574 non-null  float64\n",
      " 64  secondary_cleaner.state.floatbank4_a_level          14579 non-null  float64\n",
      " 65  secondary_cleaner.state.floatbank4_b_air            14579 non-null  float64\n",
      " 66  secondary_cleaner.state.floatbank4_b_level          14579 non-null  float64\n",
      " 67  secondary_cleaner.state.floatbank5_a_air            14579 non-null  float64\n",
      " 68  secondary_cleaner.state.floatbank5_a_level          14579 non-null  float64\n",
      " 69  secondary_cleaner.state.floatbank5_b_air            14579 non-null  float64\n",
      " 70  secondary_cleaner.state.floatbank5_b_level          14579 non-null  float64\n",
      " 71  secondary_cleaner.state.floatbank6_a_air            14578 non-null  float64\n",
      " 72  secondary_cleaner.state.floatbank6_a_level          14579 non-null  float64\n",
      " 73  secondary_cleaner.output.tail_au                    14579 non-null  float64\n",
      " 74  secondary_cleaner.output.tail_ag                    14578 non-null  float64\n",
      " 75  secondary_cleaner.output.tail_pb                    14575 non-null  float64\n",
      " 76  secondary_cleaner.output.tail_sol                   13659 non-null  float64\n",
      " 77  final.output.concentrate_au                         14579 non-null  float64\n",
      " 78  final.output.concentrate_ag                         14578 non-null  float64\n",
      " 79  final.output.concentrate_pb                         14578 non-null  float64\n",
      " 80  final.output.concentrate_sol                        14387 non-null  float64\n",
      " 81  final.output.recovery                               14579 non-null  float64\n",
      " 82  final.output.tail_au                                14579 non-null  float64\n",
      " 83  final.output.tail_ag                                14578 non-null  float64\n",
      " 84  final.output.tail_pb                                14504 non-null  float64\n",
      " 85  final.output.tail_sol                               14574 non-null  float64\n",
      "dtypes: float64(86)\n",
      "memory usage: 9.7 MB\n"
     ]
    }
   ],
   "source": [
    "g_r_train.info()"
   ]
  },
  {
   "cell_type": "code",
   "execution_count": 334,
   "id": "8f5dca8e",
   "metadata": {},
   "outputs": [],
   "source": [
    "#заполнение пропусков в данных ближайшим верхним значением\n",
    "g_r_train.ffill(inplace=True)\n",
    "g_r_test.ffill(inplace=True)"
   ]
  },
  {
   "cell_type": "code",
   "execution_count": 335,
   "id": "1137665c",
   "metadata": {
    "scrolled": true
   },
   "outputs": [
    {
     "data": {
      "text/plain": [
       "rougher.input.feed_au                                 0\n",
       "rougher.input.feed_ag                                 0\n",
       "rougher.input.feed_pb                                 0\n",
       "rougher.input.feed_sol                                0\n",
       "rougher.input.feed_rate                               0\n",
       "rougher.input.feed_size                               0\n",
       "rougher.input.floatbank10_sulfate                     0\n",
       "rougher.input.floatbank10_xanthate                    0\n",
       "rougher.state.floatbank10_a_air                       0\n",
       "rougher.state.floatbank10_a_level                     0\n",
       "rougher.state.floatbank10_b_air                       0\n",
       "rougher.state.floatbank10_b_level                     0\n",
       "rougher.state.floatbank10_c_air                       0\n",
       "rougher.state.floatbank10_c_level                     0\n",
       "rougher.state.floatbank10_d_air                       0\n",
       "rougher.state.floatbank10_d_level                     0\n",
       "rougher.state.floatbank10_e_air                       0\n",
       "rougher.state.floatbank10_e_level                     0\n",
       "rougher.state.floatbank10_f_air                       0\n",
       "rougher.state.floatbank10_f_level                     0\n",
       "rougher.input.floatbank11_sulfate                     0\n",
       "rougher.input.floatbank11_xanthate                    0\n",
       "rougher.calculation.sulfate_to_au_concentrate         0\n",
       "rougher.calculation.floatbank10_sulfate_to_au_feed    0\n",
       "rougher.calculation.floatbank11_sulfate_to_au_feed    0\n",
       "rougher.calculation.au_pb_ratio                       0\n",
       "rougher.output.concentrate_au                         0\n",
       "rougher.output.concentrate_ag                         0\n",
       "rougher.output.concentrate_pb                         0\n",
       "rougher.output.concentrate_sol                        0\n",
       "rougher.output.recovery                               0\n",
       "rougher.output.tail_au                                0\n",
       "rougher.output.tail_ag                                0\n",
       "rougher.output.tail_pb                                0\n",
       "rougher.output.tail_sol                               0\n",
       "primary_cleaner.input.sulfate                         0\n",
       "primary_cleaner.input.depressant                      0\n",
       "primary_cleaner.input.feed_size                       0\n",
       "primary_cleaner.input.xanthate                        0\n",
       "primary_cleaner.state.floatbank8_a_air                0\n",
       "primary_cleaner.state.floatbank8_a_level              0\n",
       "primary_cleaner.state.floatbank8_b_air                0\n",
       "primary_cleaner.state.floatbank8_b_level              0\n",
       "primary_cleaner.state.floatbank8_c_air                0\n",
       "primary_cleaner.state.floatbank8_c_level              0\n",
       "primary_cleaner.state.floatbank8_d_air                0\n",
       "primary_cleaner.state.floatbank8_d_level              0\n",
       "primary_cleaner.output.concentrate_au                 0\n",
       "primary_cleaner.output.concentrate_ag                 0\n",
       "primary_cleaner.output.concentrate_pb                 0\n",
       "primary_cleaner.output.concentrate_sol                0\n",
       "primary_cleaner.output.tail_au                        0\n",
       "primary_cleaner.output.tail_ag                        0\n",
       "primary_cleaner.output.tail_pb                        0\n",
       "primary_cleaner.output.tail_sol                       0\n",
       "secondary_cleaner.state.floatbank2_a_air              0\n",
       "secondary_cleaner.state.floatbank2_a_level            0\n",
       "secondary_cleaner.state.floatbank2_b_air              0\n",
       "secondary_cleaner.state.floatbank2_b_level            0\n",
       "secondary_cleaner.state.floatbank3_a_air              0\n",
       "secondary_cleaner.state.floatbank3_a_level            0\n",
       "secondary_cleaner.state.floatbank3_b_air              0\n",
       "secondary_cleaner.state.floatbank3_b_level            0\n",
       "secondary_cleaner.state.floatbank4_a_air              0\n",
       "secondary_cleaner.state.floatbank4_a_level            0\n",
       "secondary_cleaner.state.floatbank4_b_air              0\n",
       "secondary_cleaner.state.floatbank4_b_level            0\n",
       "secondary_cleaner.state.floatbank5_a_air              0\n",
       "secondary_cleaner.state.floatbank5_a_level            0\n",
       "secondary_cleaner.state.floatbank5_b_air              0\n",
       "secondary_cleaner.state.floatbank5_b_level            0\n",
       "secondary_cleaner.state.floatbank6_a_air              0\n",
       "secondary_cleaner.state.floatbank6_a_level            0\n",
       "secondary_cleaner.output.tail_au                      0\n",
       "secondary_cleaner.output.tail_ag                      0\n",
       "secondary_cleaner.output.tail_pb                      0\n",
       "secondary_cleaner.output.tail_sol                     0\n",
       "final.output.concentrate_au                           0\n",
       "final.output.concentrate_ag                           0\n",
       "final.output.concentrate_pb                           0\n",
       "final.output.concentrate_sol                          0\n",
       "final.output.recovery                                 0\n",
       "final.output.tail_au                                  0\n",
       "final.output.tail_ag                                  0\n",
       "final.output.tail_pb                                  0\n",
       "final.output.tail_sol                                 0\n",
       "dtype: int64"
      ]
     },
     "execution_count": 335,
     "metadata": {},
     "output_type": "execute_result"
    }
   ],
   "source": [
    "g_r_train.isna().sum()"
   ]
  },
  {
   "cell_type": "code",
   "execution_count": 336,
   "id": "6d539241",
   "metadata": {},
   "outputs": [
    {
     "data": {
      "image/png": "[encoded data removed]",
      "text/plain": [
       "<Figure size 1000x700 with 1 Axes>"
      ]
     },
     "metadata": {},
     "output_type": "display_data"
    }
   ],
   "source": [
    "sns.histplot(g_r_train['final.output.recovery'], kde=True, alpha=0.5)\n",
    "sns.histplot(g_r_test['final.output.recovery'], kde=True, alpha=0.8, color='red')\n",
    "plt.legend(['train', 'test'])\n",
    "plt.title('Распределение целевого признака на выборках')\n",
    "plt.ylabel('Количество')\n",
    "plt.xlabel('Эффективность')\n",
    "plt.show()"
   ]
  },
  {
   "cell_type": "code",
   "execution_count": 337,
   "id": "04652541",
   "metadata": {},
   "outputs": [
    {
     "name": "stdout",
     "output_type": "stream",
     "text": [
      "98\n"
     ]
    },
    {
     "data": {
      "text/plain": [
       "0"
      ]
     },
     "execution_count": 337,
     "metadata": {},
     "output_type": "execute_result"
    }
   ],
   "source": [
    "#количество нулевых значений столбца final.output.recoverу\n",
    "print(len(g_r_train[g_r_train['final.output.recovery'] == 0]))\n",
    "len(g_r_test[g_r_test['final.output.recovery'] == 0])"
   ]
  },
  {
   "cell_type": "code",
   "execution_count": 338,
   "id": "7dd55504",
   "metadata": {},
   "outputs": [
    {
     "name": "stdout",
     "output_type": "stream",
     "text": [
      "72\n"
     ]
    },
    {
     "data": {
      "text/plain": [
       "19"
      ]
     },
     "execution_count": 338,
     "metadata": {},
     "output_type": "execute_result"
    }
   ],
   "source": [
    "print(len(g_r_train[g_r_train['final.output.recovery'] == 100]))\n",
    "len(g_r_test[g_r_test['final.output.recovery'] == 100])"
   ]
  },
  {
   "cell_type": "code",
   "execution_count": 339,
   "id": "efec54ae",
   "metadata": {},
   "outputs": [],
   "source": [
    "#количество таких строк не велико, поэтому решил их удалить\n",
    "g_r_train.drop(index=g_r_train[g_r_train['final.output.recovery'] == 0].index, inplace=True)\n",
    "g_r_test.drop(index=g_r_test[g_r_test['final.output.recovery'] == 0].index, inplace=True)\n",
    "\n",
    "g_r_train.drop(index=g_r_train[g_r_train['final.output.recovery'] == 100].index, inplace=True)\n",
    "g_r_test.drop(index=g_r_test[g_r_test['final.output.recovery'] == 100].index, inplace=True)"
   ]
  },
  {
   "cell_type": "code",
   "execution_count": 340,
   "id": "75ffe3ea",
   "metadata": {},
   "outputs": [
    {
     "name": "stdout",
     "output_type": "stream",
     "text": [
      "0\n"
     ]
    },
    {
     "data": {
      "text/plain": [
       "0"
      ]
     },
     "execution_count": 340,
     "metadata": {},
     "output_type": "execute_result"
    }
   ],
   "source": [
    "print(len(g_r_train[g_r_train['final.output.recovery'] == 0]))\n",
    "len(g_r_test[g_r_test['final.output.recovery'] == 0])"
   ]
  },
  {
   "cell_type": "code",
   "execution_count": 341,
   "id": "f853631d",
   "metadata": {},
   "outputs": [
    {
     "data": {
      "image/png": "[encoded data removed]",
      "text/plain": [
       "<Figure size 1000x700 with 1 Axes>"
      ]
     },
     "metadata": {},
     "output_type": "display_data"
    }
   ],
   "source": [
    "sns.histplot(g_r_train['final.output.recovery'], kde=True, alpha=0.5)\n",
    "sns.histplot(g_r_test['final.output.recovery'], kde=True, alpha=0.8, color='red')\n",
    "plt.legend(['train', 'test'])\n",
    "plt.title('Распределение целевого признака на выборках')\n",
    "plt.ylabel('Количество')\n",
    "plt.xlabel('Эффективность')\n",
    "plt.show()"
   ]
  },
  {
   "cell_type": "markdown",
   "id": "a70f3091",
   "metadata": {},
   "source": [
    "## Анализ данных"
   ]
  },
  {
   "cell_type": "code",
   "execution_count": 342,
   "id": "dbe5604a",
   "metadata": {},
   "outputs": [
    {
     "data": {
      "image/png": "[encoded data removed]",
      "text/plain": [
       "<Figure size 1000x500 with 1 Axes>"
      ]
     },
     "metadata": {},
     "output_type": "display_data"
    }
   ],
   "source": [
    "#концентрация металлов Au, Pb, Ag на этапе флотации\n",
    "rougher_conc = g_r_full[['rougher.output.concentrate_ag', 'rougher.output.concentrate_pb', 'rougher.output.concentrate_au']]\n",
    "rougher_conc.plot(figsize=(10,5),\n",
    "                  kind='hist',\n",
    "                  title='Концентрация металлов на этапе флотации',\n",
    "                 alpha=0.7)\n",
    "plt.xlabel('Концентрация металлов')\n",
    "plt.ylabel('Количество значений')\n",
    "plt.show()"
   ]
  },
  {
   "cell_type": "code",
   "execution_count": 343,
   "id": "50f260e6",
   "metadata": {},
   "outputs": [],
   "source": [
    "g_r_full = g_r_full.query('`rougher.output.concentrate_au` >= 1')"
   ]
  },
  {
   "cell_type": "code",
   "execution_count": 344,
   "id": "9e4148f4",
   "metadata": {},
   "outputs": [
    {
     "data": {
      "image/png": "[encoded data removed]",
      "text/plain": [
       "<Figure size 1000x500 with 1 Axes>"
      ]
     },
     "metadata": {},
     "output_type": "display_data"
    }
   ],
   "source": [
    "#концентрация металлов Au, Pb, Ag на этапе флотации\n",
    "rougher_conc = g_r_full[['rougher.output.concentrate_ag', 'rougher.output.concentrate_pb', 'rougher.output.concentrate_au']]\n",
    "rougher_conc.plot(figsize=(10,5),\n",
    "                  kind='hist',\n",
    "                  title='Концентрация металлов на этапе флотации после удаления аномалий',\n",
    "                 alpha=0.7)\n",
    "plt.xlabel('Концентрация металлов')\n",
    "plt.ylabel('Количество значений')\n",
    "plt.show()"
   ]
  },
  {
   "cell_type": "code",
   "execution_count": 345,
   "id": "81ef23cd",
   "metadata": {},
   "outputs": [
    {
     "data": {
      "image/png": "[encoded data removed]",
      "text/plain": [
       "<Figure size 1000x500 with 1 Axes>"
      ]
     },
     "metadata": {},
     "output_type": "display_data"
    }
   ],
   "source": [
    "#концентрация металлов Au, Pb, Ag на этапе первичной очистки\n",
    "primary_cleaner_conc = g_r_full[['primary_cleaner.output.concentrate_ag', 'primary_cleaner.output.concentrate_pb', 'primary_cleaner.output.concentrate_au']]\n",
    "primary_cleaner_conc.plot(figsize=(10,5), \n",
    "                          kind='hist', \n",
    "                          title='Концентрация металлов на этапе первичной очистки',\n",
    "                         alpha=0.7)\n",
    "plt.xlabel('Концентрация металлов')\n",
    "plt.ylabel('Количество значений')\n",
    "plt.show()"
   ]
  },
  {
   "cell_type": "code",
   "execution_count": 346,
   "id": "c165cfd9",
   "metadata": {},
   "outputs": [],
   "source": [
    "g_r_full = g_r_full.query('`primary_cleaner.output.concentrate_au` >= 1')"
   ]
  },
  {
   "cell_type": "code",
   "execution_count": 347,
   "id": "6ca4d9ef",
   "metadata": {},
   "outputs": [
    {
     "data": {
      "image/png": "[encoded data removed]",
      "text/plain": [
       "<Figure size 1000x500 with 1 Axes>"
      ]
     },
     "metadata": {},
     "output_type": "display_data"
    }
   ],
   "source": [
    "#концентрация металлов Au, Pb, Ag на этапе первичной очистки после удаления аномалий\n",
    "primary_cleaner_conc = g_r_full[['primary_cleaner.output.concentrate_ag', 'primary_cleaner.output.concentrate_pb', 'primary_cleaner.output.concentrate_au']]\n",
    "primary_cleaner_conc.plot(figsize=(10,5), \n",
    "                          kind='hist', \n",
    "                          title='Концентрация металлов на этапе первичной очистки после удаления аномалий',\n",
    "                         alpha=0.7)\n",
    "plt.xlabel('Концентрация металлов')\n",
    "plt.ylabel('Количество значений')\n",
    "plt.show()"
   ]
  },
  {
   "cell_type": "code",
   "execution_count": 348,
   "id": "edfb5010",
   "metadata": {},
   "outputs": [
    {
     "data": {
      "image/png": "[encoded data removed]",
      "text/plain": [
       "<Figure size 1000x500 with 1 Axes>"
      ]
     },
     "metadata": {},
     "output_type": "display_data"
    }
   ],
   "source": [
    "#концентрация металлов Au, Pb, Ag на этапе финальных характеристик\n",
    "final_conc = g_r_full[['final.output.concentrate_ag', 'final.output.concentrate_pb', 'final.output.concentrate_au']]\n",
    "final_conc.plot(figsize=(10,5),\n",
    "               kind='hist',\n",
    "               title='Концентрация металлов на этапе финальных характеристик',\n",
    "               alpha=0.7)\n",
    "plt.xlabel('Концентрация металлов')\n",
    "plt.ylabel('Количество значений')\n",
    "plt.show()"
   ]
  },
  {
   "cell_type": "code",
   "execution_count": 349,
   "id": "9ab7c013",
   "metadata": {},
   "outputs": [],
   "source": [
    "g_r_full = g_r_full.query('`final.output.concentrate_au` >= 1')"
   ]
  },
  {
   "cell_type": "code",
   "execution_count": 350,
   "id": "1c5eca80",
   "metadata": {},
   "outputs": [
    {
     "data": {
      "image/png": "[encoded data removed]",
      "text/plain": [
       "<Figure size 1000x500 with 1 Axes>"
      ]
     },
     "metadata": {},
     "output_type": "display_data"
    }
   ],
   "source": [
    "#концентрация металлов Au, Pb, Ag на этапе финальных характеристик\n",
    "final_conc = g_r_full[['final.output.concentrate_ag', 'final.output.concentrate_pb', 'final.output.concentrate_au']]\n",
    "final_conc.plot(figsize=(10,5),\n",
    "               kind='hist',\n",
    "               title='Концентрация металлов на этапе финальных характеристик после удаления аномалий',\n",
    "               alpha=0.7)\n",
    "plt.xlabel('Концентрация металлов')\n",
    "plt.ylabel('Количество значений')\n",
    "plt.show()"
   ]
  },
  {
   "cell_type": "markdown",
   "id": "d6d8b2a7",
   "metadata": {},
   "source": [
    "С каждым последующим этапом, начиная от этапа флотации, концентрации золота значительно возрастает, в то время, как остальные металлы уменьшаются"
   ]
  },
  {
   "cell_type": "code",
   "execution_count": 351,
   "id": "f74f09d6",
   "metadata": {},
   "outputs": [
    {
     "data": {
      "image/png": "[encoded data removed]",
      "text/plain": [
       "<Figure size 1000x500 with 1 Axes>"
      ]
     },
     "metadata": {},
     "output_type": "display_data"
    }
   ],
   "source": [
    "#концентрация металлов Au, Pb, Ag на этапе финальных характеристик\n",
    "final_conc = g_r_full[['rougher.input.feed_ag', 'rougher.input.feed_pb', 'rougher.input.feed_au']]\n",
    "final_conc.plot(figsize=(10,5),\n",
    "               kind='hist',\n",
    "               title='Концентрация металлов на этапе финальных характеристик',\n",
    "               alpha=0.7)\n",
    "plt.xlabel('Концентрация металлов')\n",
    "plt.ylabel('Количество значений')\n",
    "plt.show()"
   ]
  },
  {
   "cell_type": "code",
   "execution_count": 352,
   "id": "e29d0e0f",
   "metadata": {},
   "outputs": [],
   "source": [
    "g_r_full = g_r_full.query('`rougher.input.feed_au` >= 1')"
   ]
  },
  {
   "cell_type": "code",
   "execution_count": 353,
   "id": "5b62a75c",
   "metadata": {},
   "outputs": [
    {
     "data": {
      "image/png": "[encoded data removed]",
      "text/plain": [
       "<Figure size 1000x500 with 1 Axes>"
      ]
     },
     "metadata": {},
     "output_type": "display_data"
    }
   ],
   "source": [
    "#концентрация металлов Au, Pb, Ag на этапе финальных характеристик\n",
    "final_conc = g_r_full[['rougher.input.feed_ag', 'rougher.input.feed_pb', 'rougher.input.feed_au']]\n",
    "final_conc.plot(figsize=(10,5),\n",
    "               kind='hist',\n",
    "               title='Концентрация металлов на этапе финальных характеристик после удаления аномалий',\n",
    "               alpha=0.7)\n",
    "plt.xlabel('Концентрация металлов')\n",
    "plt.ylabel('Количество значений')\n",
    "plt.show()"
   ]
  },
  {
   "cell_type": "code",
   "execution_count": 354,
   "id": "4086215e",
   "metadata": {},
   "outputs": [],
   "source": [
    "g_r_train = g_r_train.query('`rougher.output.concentrate_au` >= 1')\n",
    "g_r_train = g_r_train.query('`primary_cleaner.output.concentrate_au` >= 1')\n",
    "g_r_train = g_r_train.query('`final.output.concentrate_au` >= 1')\n",
    "g_r_train = g_r_train.query('`rougher.input.feed_au` >= 1')"
   ]
  },
  {
   "cell_type": "code",
   "execution_count": 355,
   "id": "01a502df",
   "metadata": {},
   "outputs": [],
   "source": [
    "g_r_train = g_r_train.query('`rougher.output.concentrate_pb` > 0')\n",
    "g_r_train = g_r_train.query('`primary_cleaner.output.concentrate_pb` > 0')\n",
    "g_r_train = g_r_train.query('`final.output.concentrate_pb` > 0')\n",
    "g_r_train = g_r_train.query('`rougher.input.feed_pb` > 0')"
   ]
  },
  {
   "cell_type": "code",
   "execution_count": 356,
   "id": "95698ef3",
   "metadata": {},
   "outputs": [],
   "source": [
    "g_r_train = g_r_train.query('`rougher.output.concentrate_ag` > 0')\n",
    "g_r_train = g_r_train.query('`primary_cleaner.output.concentrate_ag` > 0')\n",
    "g_r_train = g_r_train.query('`final.output.concentrate_ag` > 0')\n",
    "g_r_train = g_r_train.query('`rougher.input.feed_ag` > 0')"
   ]
  },
  {
   "cell_type": "markdown",
   "id": "a7de1bc2",
   "metadata": {},
   "source": [
    "### Определение размера гранул"
   ]
  },
  {
   "cell_type": "code",
   "execution_count": 357,
   "id": "f2702436",
   "metadata": {
    "scrolled": true
   },
   "outputs": [
    {
     "data": {
      "text/plain": [
       "Index(['rougher.input.feed_au', 'rougher.input.feed_ag',\n",
       "       'rougher.input.feed_pb', 'rougher.input.feed_sol',\n",
       "       'rougher.input.feed_rate', 'rougher.input.feed_size',\n",
       "       'rougher.input.floatbank10_sulfate',\n",
       "       'rougher.input.floatbank10_xanthate', 'rougher.state.floatbank10_a_air',\n",
       "       'rougher.state.floatbank10_a_level', 'rougher.state.floatbank10_b_air',\n",
       "       'rougher.state.floatbank10_b_level', 'rougher.state.floatbank10_c_air',\n",
       "       'rougher.state.floatbank10_c_level', 'rougher.state.floatbank10_d_air',\n",
       "       'rougher.state.floatbank10_d_level', 'rougher.state.floatbank10_e_air',\n",
       "       'rougher.state.floatbank10_e_level', 'rougher.state.floatbank10_f_air',\n",
       "       'rougher.state.floatbank10_f_level',\n",
       "       'rougher.input.floatbank11_sulfate',\n",
       "       'rougher.input.floatbank11_xanthate',\n",
       "       'rougher.calculation.sulfate_to_au_concentrate',\n",
       "       'rougher.calculation.floatbank10_sulfate_to_au_feed',\n",
       "       'rougher.calculation.floatbank11_sulfate_to_au_feed',\n",
       "       'rougher.calculation.au_pb_ratio', 'rougher.output.concentrate_au',\n",
       "       'rougher.output.concentrate_ag', 'rougher.output.concentrate_pb',\n",
       "       'rougher.output.concentrate_sol', 'rougher.output.recovery',\n",
       "       'rougher.output.tail_au', 'rougher.output.tail_ag',\n",
       "       'rougher.output.tail_pb', 'rougher.output.tail_sol',\n",
       "       'primary_cleaner.input.sulfate', 'primary_cleaner.input.depressant',\n",
       "       'primary_cleaner.input.feed_size', 'primary_cleaner.input.xanthate',\n",
       "       'primary_cleaner.state.floatbank8_a_air',\n",
       "       'primary_cleaner.state.floatbank8_a_level',\n",
       "       'primary_cleaner.state.floatbank8_b_air',\n",
       "       'primary_cleaner.state.floatbank8_b_level',\n",
       "       'primary_cleaner.state.floatbank8_c_air',\n",
       "       'primary_cleaner.state.floatbank8_c_level',\n",
       "       'primary_cleaner.state.floatbank8_d_air',\n",
       "       'primary_cleaner.state.floatbank8_d_level',\n",
       "       'primary_cleaner.output.concentrate_au',\n",
       "       'primary_cleaner.output.concentrate_ag',\n",
       "       'primary_cleaner.output.concentrate_pb',\n",
       "       'primary_cleaner.output.concentrate_sol',\n",
       "       'primary_cleaner.output.tail_au', 'primary_cleaner.output.tail_ag',\n",
       "       'primary_cleaner.output.tail_pb', 'primary_cleaner.output.tail_sol',\n",
       "       'secondary_cleaner.state.floatbank2_a_air',\n",
       "       'secondary_cleaner.state.floatbank2_a_level',\n",
       "       'secondary_cleaner.state.floatbank2_b_air',\n",
       "       'secondary_cleaner.state.floatbank2_b_level',\n",
       "       'secondary_cleaner.state.floatbank3_a_air',\n",
       "       'secondary_cleaner.state.floatbank3_a_level',\n",
       "       'secondary_cleaner.state.floatbank3_b_air',\n",
       "       'secondary_cleaner.state.floatbank3_b_level',\n",
       "       'secondary_cleaner.state.floatbank4_a_air',\n",
       "       'secondary_cleaner.state.floatbank4_a_level',\n",
       "       'secondary_cleaner.state.floatbank4_b_air',\n",
       "       'secondary_cleaner.state.floatbank4_b_level',\n",
       "       'secondary_cleaner.state.floatbank5_a_air',\n",
       "       'secondary_cleaner.state.floatbank5_a_level',\n",
       "       'secondary_cleaner.state.floatbank5_b_air',\n",
       "       'secondary_cleaner.state.floatbank5_b_level',\n",
       "       'secondary_cleaner.state.floatbank6_a_air',\n",
       "       'secondary_cleaner.state.floatbank6_a_level',\n",
       "       'secondary_cleaner.output.tail_au', 'secondary_cleaner.output.tail_ag',\n",
       "       'secondary_cleaner.output.tail_pb', 'secondary_cleaner.output.tail_sol',\n",
       "       'final.output.concentrate_au', 'final.output.concentrate_ag',\n",
       "       'final.output.concentrate_pb', 'final.output.concentrate_sol',\n",
       "       'final.output.recovery', 'final.output.tail_au', 'final.output.tail_ag',\n",
       "       'final.output.tail_pb', 'final.output.tail_sol'],\n",
       "      dtype='object')"
      ]
     },
     "execution_count": 357,
     "metadata": {},
     "output_type": "execute_result"
    }
   ],
   "source": [
    "g_r_train.columns"
   ]
  },
  {
   "cell_type": "code",
   "execution_count": 358,
   "id": "81d20e4b",
   "metadata": {},
   "outputs": [
    {
     "data": {
      "image/png": "[encoded data removed]",
      "text/plain": [
       "<Figure size 1000x700 with 1 Axes>"
      ]
     },
     "metadata": {},
     "output_type": "display_data"
    }
   ],
   "source": [
    "sns.kdeplot(g_r_train['rougher.input.feed_size'])\n",
    "sns.kdeplot(g_r_test['rougher.input.feed_size'])\n",
    "plt.title('Распределение размеров гранул на обучающей и тестовой выборке')\n",
    "plt.legend(['train', 'test'])\n",
    "plt.xlabel('Размер гранул')\n",
    "plt.ylabel('Плотность распределения')\n",
    "plt.show()"
   ]
  },
  {
   "cell_type": "markdown",
   "id": "a747fc4b",
   "metadata": {},
   "source": [
    "Распределения размеров гранул на обучающей и тестовой выборках схожи, поэтому такие данные можно использовать для моделей."
   ]
  },
  {
   "cell_type": "markdown",
   "id": "6ef5141f",
   "metadata": {},
   "source": [
    "### Суммарная концентрация всех веществ на разных стадиях"
   ]
  },
  {
   "cell_type": "code",
   "execution_count": 359,
   "id": "566a3463",
   "metadata": {},
   "outputs": [
    {
     "data": {
      "text/plain": [
       "Index(['rougher.input.feed_au', 'rougher.input.feed_ag',\n",
       "       'rougher.input.feed_pb', 'rougher.input.feed_sol',\n",
       "       'rougher.input.feed_rate', 'rougher.input.feed_size',\n",
       "       'rougher.input.floatbank10_sulfate',\n",
       "       'rougher.input.floatbank10_xanthate', 'rougher.state.floatbank10_a_air',\n",
       "       'rougher.state.floatbank10_a_level', 'rougher.state.floatbank10_b_air',\n",
       "       'rougher.state.floatbank10_b_level', 'rougher.state.floatbank10_c_air',\n",
       "       'rougher.state.floatbank10_c_level', 'rougher.state.floatbank10_d_air',\n",
       "       'rougher.state.floatbank10_d_level', 'rougher.state.floatbank10_e_air',\n",
       "       'rougher.state.floatbank10_e_level', 'rougher.state.floatbank10_f_air',\n",
       "       'rougher.state.floatbank10_f_level',\n",
       "       'rougher.input.floatbank11_sulfate',\n",
       "       'rougher.input.floatbank11_xanthate',\n",
       "       'rougher.calculation.sulfate_to_au_concentrate',\n",
       "       'rougher.calculation.floatbank10_sulfate_to_au_feed',\n",
       "       'rougher.calculation.floatbank11_sulfate_to_au_feed',\n",
       "       'rougher.calculation.au_pb_ratio', 'rougher.output.concentrate_au',\n",
       "       'rougher.output.concentrate_ag', 'rougher.output.concentrate_pb',\n",
       "       'rougher.output.concentrate_sol', 'rougher.output.recovery',\n",
       "       'rougher.output.tail_au', 'rougher.output.tail_ag',\n",
       "       'rougher.output.tail_pb', 'rougher.output.tail_sol',\n",
       "       'primary_cleaner.input.sulfate', 'primary_cleaner.input.depressant',\n",
       "       'primary_cleaner.input.feed_size', 'primary_cleaner.input.xanthate',\n",
       "       'primary_cleaner.state.floatbank8_a_air',\n",
       "       'primary_cleaner.state.floatbank8_a_level',\n",
       "       'primary_cleaner.state.floatbank8_b_air',\n",
       "       'primary_cleaner.state.floatbank8_b_level',\n",
       "       'primary_cleaner.state.floatbank8_c_air',\n",
       "       'primary_cleaner.state.floatbank8_c_level',\n",
       "       'primary_cleaner.state.floatbank8_d_air',\n",
       "       'primary_cleaner.state.floatbank8_d_level',\n",
       "       'primary_cleaner.output.concentrate_au',\n",
       "       'primary_cleaner.output.concentrate_ag',\n",
       "       'primary_cleaner.output.concentrate_pb',\n",
       "       'primary_cleaner.output.concentrate_sol',\n",
       "       'primary_cleaner.output.tail_au', 'primary_cleaner.output.tail_ag',\n",
       "       'primary_cleaner.output.tail_pb', 'primary_cleaner.output.tail_sol',\n",
       "       'secondary_cleaner.state.floatbank2_a_air',\n",
       "       'secondary_cleaner.state.floatbank2_a_level',\n",
       "       'secondary_cleaner.state.floatbank2_b_air',\n",
       "       'secondary_cleaner.state.floatbank2_b_level',\n",
       "       'secondary_cleaner.state.floatbank3_a_air',\n",
       "       'secondary_cleaner.state.floatbank3_a_level',\n",
       "       'secondary_cleaner.state.floatbank3_b_air',\n",
       "       'secondary_cleaner.state.floatbank3_b_level',\n",
       "       'secondary_cleaner.state.floatbank4_a_air',\n",
       "       'secondary_cleaner.state.floatbank4_a_level',\n",
       "       'secondary_cleaner.state.floatbank4_b_air',\n",
       "       'secondary_cleaner.state.floatbank4_b_level',\n",
       "       'secondary_cleaner.state.floatbank5_a_air',\n",
       "       'secondary_cleaner.state.floatbank5_a_level',\n",
       "       'secondary_cleaner.state.floatbank5_b_air',\n",
       "       'secondary_cleaner.state.floatbank5_b_level',\n",
       "       'secondary_cleaner.state.floatbank6_a_air',\n",
       "       'secondary_cleaner.state.floatbank6_a_level',\n",
       "       'secondary_cleaner.output.tail_au', 'secondary_cleaner.output.tail_ag',\n",
       "       'secondary_cleaner.output.tail_pb', 'secondary_cleaner.output.tail_sol',\n",
       "       'final.output.concentrate_au', 'final.output.concentrate_ag',\n",
       "       'final.output.concentrate_pb', 'final.output.concentrate_sol',\n",
       "       'final.output.recovery', 'final.output.tail_au', 'final.output.tail_ag',\n",
       "       'final.output.tail_pb', 'final.output.tail_sol'],\n",
       "      dtype='object')"
      ]
     },
     "execution_count": 359,
     "metadata": {},
     "output_type": "execute_result"
    }
   ],
   "source": [
    "g_r_full.columns"
   ]
  },
  {
   "cell_type": "code",
   "execution_count": 360,
   "id": "f0eb0671",
   "metadata": {},
   "outputs": [
    {
     "data": {
      "text/html": [
       "<div>\n",
       "<style scoped>\n",
       "    .dataframe tbody tr th:only-of-type {\n",
       "        vertical-align: middle;\n",
       "    }\n",
       "\n",
       "    .dataframe tbody tr th {\n",
       "        vertical-align: top;\n",
       "    }\n",
       "\n",
       "    .dataframe thead th {\n",
       "        text-align: right;\n",
       "    }\n",
       "</style>\n",
       "<table border=\"1\" class=\"dataframe\">\n",
       "  <thead>\n",
       "    <tr style=\"text-align: right;\">\n",
       "      <th></th>\n",
       "      <th>sum_conc_feed</th>\n",
       "      <th>sum_conc_rougher</th>\n",
       "      <th>sum_conc_final</th>\n",
       "    </tr>\n",
       "    <tr>\n",
       "      <th>date</th>\n",
       "      <th></th>\n",
       "      <th></th>\n",
       "      <th></th>\n",
       "    </tr>\n",
       "  </thead>\n",
       "  <tbody>\n",
       "    <tr>\n",
       "      <th>2016-01-15 00:00:00</th>\n",
       "      <td>51.680034</td>\n",
       "      <td>66.424950</td>\n",
       "      <td>63.644396</td>\n",
       "    </tr>\n",
       "    <tr>\n",
       "      <th>2016-01-15 01:00:00</th>\n",
       "      <td>50.659114</td>\n",
       "      <td>67.012710</td>\n",
       "      <td>63.957723</td>\n",
       "    </tr>\n",
       "    <tr>\n",
       "      <th>2016-01-15 02:00:00</th>\n",
       "      <td>50.609929</td>\n",
       "      <td>66.103793</td>\n",
       "      <td>64.311180</td>\n",
       "    </tr>\n",
       "    <tr>\n",
       "      <th>2016-01-15 03:00:00</th>\n",
       "      <td>51.061546</td>\n",
       "      <td>65.752751</td>\n",
       "      <td>63.573449</td>\n",
       "    </tr>\n",
       "    <tr>\n",
       "      <th>2016-01-15 04:00:00</th>\n",
       "      <td>47.859163</td>\n",
       "      <td>65.908382</td>\n",
       "      <td>64.004667</td>\n",
       "    </tr>\n",
       "  </tbody>\n",
       "</table>\n",
       "</div>"
      ],
      "text/plain": [
       "                     sum_conc_feed  sum_conc_rougher  sum_conc_final\n",
       "date                                                                \n",
       "2016-01-15 00:00:00      51.680034         66.424950       63.644396\n",
       "2016-01-15 01:00:00      50.659114         67.012710       63.957723\n",
       "2016-01-15 02:00:00      50.609929         66.103793       64.311180\n",
       "2016-01-15 03:00:00      51.061546         65.752751       63.573449\n",
       "2016-01-15 04:00:00      47.859163         65.908382       64.004667"
      ]
     },
     "execution_count": 360,
     "metadata": {},
     "output_type": "execute_result"
    }
   ],
   "source": [
    "#суммарная концентрация сырья\n",
    "g_r_full['sum_conc_feed'] = g_r_full[['rougher.input.feed_ag',\n",
    "                                      'rougher.input.feed_pb',\n",
    "                                      'rougher.input.feed_sol',\n",
    "                                      'rougher.input.feed_au']].sum(axis=1)\n",
    "#суммарная концентрация в черновом концентратах\n",
    "g_r_full['sum_conc_rougher'] = g_r_full[['rougher.output.concentrate_ag',\n",
    "                                        'rougher.output.concentrate_pb',\n",
    "                                        'rougher.output.concentrate_sol',\n",
    "                                        'rougher.output.concentrate_au']].sum(axis=1)\n",
    "#суммарная концентрация в финальных концентратах\n",
    "g_r_full['sum_conc_final'] = g_r_full[['final.output.concentrate_ag',\n",
    "                                      'final.output.concentrate_pb',\n",
    "                                      'final.output.concentrate_sol',\n",
    "                                      'final.output.concentrate_au']].sum(axis=1)\n",
    "g_r_full[['sum_conc_feed', 'sum_conc_rougher', 'sum_conc_final']].head()"
   ]
  },
  {
   "cell_type": "markdown",
   "id": "d420924a",
   "metadata": {},
   "source": [
    "Сумма концентрации металлов при переходе от сырья к этапу флотации возрастает, а затем на финальном этапе эта сумма немного уменьшается."
   ]
  },
  {
   "cell_type": "code",
   "execution_count": 361,
   "id": "13e3ad11",
   "metadata": {},
   "outputs": [
    {
     "data": {
      "image/png": "[encoded data removed]",
      "text/plain": [
       "<Figure size 1000x700 with 1 Axes>"
      ]
     },
     "metadata": {},
     "output_type": "display_data"
    }
   ],
   "source": [
    "sns.histplot(g_r_full[['sum_conc_feed', 'sum_conc_rougher', 'sum_conc_final']], kde=True)\n",
    "plt.legend(['feed', 'rougher', 'final'])\n",
    "plt.title('Динамика суммарной концентрации металлов')\n",
    "plt.xlabel('Концентрация металлов')\n",
    "plt.ylabel('Количество значений')\n",
    "plt.show()"
   ]
  },
  {
   "cell_type": "markdown",
   "id": "194bfa1a",
   "metadata": {},
   "source": [
    "## Создание модели"
   ]
  },
  {
   "cell_type": "code",
   "execution_count": 362,
   "id": "160cdd26",
   "metadata": {},
   "outputs": [],
   "source": [
    "def smape(target, predicted):\n",
    "    smape = 1 / len(target) * sum(abs(target - predicted) / ((abs(target) + abs(predicted)) / 2) * 100)\n",
    "    return smape"
   ]
  },
  {
   "cell_type": "code",
   "execution_count": 363,
   "id": "f8169bf9",
   "metadata": {},
   "outputs": [],
   "source": [
    "def final_smape(target, predicted):\n",
    "    final_smape = 0.25 * target + 0.75 * predicted\n",
    "    return final_smape"
   ]
  },
  {
   "cell_type": "code",
   "execution_count": 364,
   "id": "7e1dbc5d",
   "metadata": {},
   "outputs": [],
   "source": [
    "common_cols = set(g_r_train.columns).intersection(set(g_r_test.columns))"
   ]
  },
  {
   "cell_type": "code",
   "execution_count": 365,
   "id": "0adeecf3",
   "metadata": {},
   "outputs": [],
   "source": [
    "g_r_train = g_r_train[list(common_cols)]"
   ]
  },
  {
   "cell_type": "markdown",
   "id": "f6c6de1a",
   "metadata": {},
   "source": [
    "Удалил все столбцы из тренировочной выборки, которых нет в тестовой, так как модель будет обучена некорректно"
   ]
  },
  {
   "cell_type": "code",
   "execution_count": 366,
   "id": "2097b867",
   "metadata": {},
   "outputs": [],
   "source": [
    "#разделил тренировочную выборку на признаки, целевой признак rougher и целевой признак final\n",
    "features_train = g_r_train.drop(['rougher.output.recovery', 'final.output.recovery'], axis=1)\n",
    "target_train_rougher = g_r_train['rougher.output.recovery']\n",
    "target_train_final = g_r_train['final.output.recovery']"
   ]
  },
  {
   "cell_type": "code",
   "execution_count": 367,
   "id": "45a96314",
   "metadata": {},
   "outputs": [],
   "source": [
    "#также разделил тестовую выборку на признаки, целевой признак rougher и целевой признак final\n",
    "features_test = g_r_test.drop(['rougher.output.recovery', 'final.output.recovery'], axis=1)\n",
    "target_test_rougher = g_r_test['rougher.output.recovery']\n",
    "target_test_final = g_r_test['final.output.recovery']"
   ]
  },
  {
   "cell_type": "code",
   "execution_count": 368,
   "id": "fab34acd",
   "metadata": {},
   "outputs": [],
   "source": [
    "#из признаков сделал одномерный массив, чтобы заработала функция smape\n",
    "#target_train_rougher = target_train_rougher.ravel()\n",
    "#target_test_rougher = target_test_rougher.ravel()"
   ]
  },
  {
   "cell_type": "code",
   "execution_count": 369,
   "id": "5895a4c2",
   "metadata": {},
   "outputs": [],
   "source": [
    "scorer = make_scorer(smape, greater_is_better=False)"
   ]
  },
  {
   "cell_type": "code",
   "execution_count": 370,
   "id": "9810ce90",
   "metadata": {},
   "outputs": [],
   "source": [
    "#state = np.random.RandomState(12345)"
   ]
  },
  {
   "cell_type": "markdown",
   "id": "f861ffd7",
   "metadata": {},
   "source": [
    "### Модель дерева решений"
   ]
  },
  {
   "cell_type": "code",
   "execution_count": 371,
   "id": "44d109e0",
   "metadata": {},
   "outputs": [
    {
     "data": {
      "text/html": [
       "<div>\n",
       "<style scoped>\n",
       "    .dataframe tbody tr th:only-of-type {\n",
       "        vertical-align: middle;\n",
       "    }\n",
       "\n",
       "    .dataframe tbody tr th {\n",
       "        vertical-align: top;\n",
       "    }\n",
       "\n",
       "    .dataframe thead th {\n",
       "        text-align: right;\n",
       "    }\n",
       "</style>\n",
       "<table border=\"1\" class=\"dataframe\">\n",
       "  <thead>\n",
       "    <tr style=\"text-align: right;\">\n",
       "      <th></th>\n",
       "      <th>rougher.state.floatbank10_c_air</th>\n",
       "      <th>rougher.input.feed_au</th>\n",
       "      <th>rougher.output.recovery</th>\n",
       "      <th>rougher.state.floatbank10_f_level</th>\n",
       "      <th>primary_cleaner.input.sulfate</th>\n",
       "      <th>rougher.input.feed_sol</th>\n",
       "      <th>secondary_cleaner.state.floatbank3_b_level</th>\n",
       "      <th>secondary_cleaner.state.floatbank2_b_air</th>\n",
       "      <th>rougher.input.feed_pb</th>\n",
       "      <th>rougher.input.floatbank10_sulfate</th>\n",
       "      <th>...</th>\n",
       "      <th>primary_cleaner.state.floatbank8_c_level</th>\n",
       "      <th>rougher.state.floatbank10_e_air</th>\n",
       "      <th>rougher.input.feed_size</th>\n",
       "      <th>rougher.state.floatbank10_b_level</th>\n",
       "      <th>secondary_cleaner.state.floatbank5_b_air</th>\n",
       "      <th>rougher.input.floatbank10_xanthate</th>\n",
       "      <th>secondary_cleaner.state.floatbank3_a_air</th>\n",
       "      <th>primary_cleaner.state.floatbank8_c_air</th>\n",
       "      <th>primary_cleaner.state.floatbank8_d_level</th>\n",
       "      <th>primary_cleaner.state.floatbank8_b_level</th>\n",
       "    </tr>\n",
       "    <tr>\n",
       "      <th>date</th>\n",
       "      <th></th>\n",
       "      <th></th>\n",
       "      <th></th>\n",
       "      <th></th>\n",
       "      <th></th>\n",
       "      <th></th>\n",
       "      <th></th>\n",
       "      <th></th>\n",
       "      <th></th>\n",
       "      <th></th>\n",
       "      <th></th>\n",
       "      <th></th>\n",
       "      <th></th>\n",
       "      <th></th>\n",
       "      <th></th>\n",
       "      <th></th>\n",
       "      <th></th>\n",
       "      <th></th>\n",
       "      <th></th>\n",
       "      <th></th>\n",
       "      <th></th>\n",
       "    </tr>\n",
       "  </thead>\n",
       "  <tbody>\n",
       "    <tr>\n",
       "      <th>2016-01-15 00:00:00</th>\n",
       "      <td>1602.375000</td>\n",
       "      <td>6.486150</td>\n",
       "      <td>87.107763</td>\n",
       "      <td>-451.939636</td>\n",
       "      <td>127.092003</td>\n",
       "      <td>36.808594</td>\n",
       "      <td>-499.340973</td>\n",
       "      <td>23.893660</td>\n",
       "      <td>2.284912</td>\n",
       "      <td>11.986616</td>\n",
       "      <td>...</td>\n",
       "      <td>-498.666595</td>\n",
       "      <td>1404.472046</td>\n",
       "      <td>55.486599</td>\n",
       "      <td>-434.715027</td>\n",
       "      <td>8.079666</td>\n",
       "      <td>6.007990</td>\n",
       "      <td>23.961798</td>\n",
       "      <td>1549.873901</td>\n",
       "      <td>-493.428131</td>\n",
       "      <td>-516.403442</td>\n",
       "    </tr>\n",
       "    <tr>\n",
       "      <th>2016-01-15 01:00:00</th>\n",
       "      <td>1600.479580</td>\n",
       "      <td>6.478583</td>\n",
       "      <td>86.843261</td>\n",
       "      <td>-450.119001</td>\n",
       "      <td>125.629232</td>\n",
       "      <td>35.753385</td>\n",
       "      <td>-499.446897</td>\n",
       "      <td>23.889530</td>\n",
       "      <td>2.266033</td>\n",
       "      <td>11.971193</td>\n",
       "      <td>...</td>\n",
       "      <td>-499.315107</td>\n",
       "      <td>1399.227084</td>\n",
       "      <td>57.278666</td>\n",
       "      <td>-449.953435</td>\n",
       "      <td>7.984757</td>\n",
       "      <td>6.005766</td>\n",
       "      <td>23.970550</td>\n",
       "      <td>1575.994189</td>\n",
       "      <td>-498.931665</td>\n",
       "      <td>-499.865889</td>\n",
       "    </tr>\n",
       "    <tr>\n",
       "      <th>2016-01-15 02:00:00</th>\n",
       "      <td>1599.672797</td>\n",
       "      <td>6.362222</td>\n",
       "      <td>86.842308</td>\n",
       "      <td>-450.527147</td>\n",
       "      <td>123.819808</td>\n",
       "      <td>35.971630</td>\n",
       "      <td>-499.901982</td>\n",
       "      <td>23.886657</td>\n",
       "      <td>2.159622</td>\n",
       "      <td>11.920603</td>\n",
       "      <td>...</td>\n",
       "      <td>-500.870069</td>\n",
       "      <td>1399.180945</td>\n",
       "      <td>57.510649</td>\n",
       "      <td>-450.008530</td>\n",
       "      <td>8.013877</td>\n",
       "      <td>6.197377</td>\n",
       "      <td>23.913535</td>\n",
       "      <td>1602.003542</td>\n",
       "      <td>-499.827444</td>\n",
       "      <td>-500.607762</td>\n",
       "    </tr>\n",
       "    <tr>\n",
       "      <th>2016-01-15 03:00:00</th>\n",
       "      <td>1600.012842</td>\n",
       "      <td>6.118189</td>\n",
       "      <td>87.226430</td>\n",
       "      <td>-449.790835</td>\n",
       "      <td>122.270188</td>\n",
       "      <td>36.862241</td>\n",
       "      <td>-499.944710</td>\n",
       "      <td>23.955516</td>\n",
       "      <td>2.037807</td>\n",
       "      <td>11.630094</td>\n",
       "      <td>...</td>\n",
       "      <td>-500.727997</td>\n",
       "      <td>1400.943157</td>\n",
       "      <td>57.792734</td>\n",
       "      <td>-450.619948</td>\n",
       "      <td>7.977324</td>\n",
       "      <td>6.203177</td>\n",
       "      <td>23.966838</td>\n",
       "      <td>1600.304144</td>\n",
       "      <td>-500.052575</td>\n",
       "      <td>-499.677094</td>\n",
       "    </tr>\n",
       "    <tr>\n",
       "      <th>2016-01-15 04:00:00</th>\n",
       "      <td>1600.357732</td>\n",
       "      <td>5.663707</td>\n",
       "      <td>86.688794</td>\n",
       "      <td>-450.407128</td>\n",
       "      <td>117.988169</td>\n",
       "      <td>34.347666</td>\n",
       "      <td>-499.990309</td>\n",
       "      <td>23.955345</td>\n",
       "      <td>1.786875</td>\n",
       "      <td>10.957755</td>\n",
       "      <td>...</td>\n",
       "      <td>-500.888152</td>\n",
       "      <td>1401.560902</td>\n",
       "      <td>56.047189</td>\n",
       "      <td>-449.599614</td>\n",
       "      <td>7.894242</td>\n",
       "      <td>6.198826</td>\n",
       "      <td>23.985703</td>\n",
       "      <td>1599.581894</td>\n",
       "      <td>-500.593010</td>\n",
       "      <td>-500.323246</td>\n",
       "    </tr>\n",
       "  </tbody>\n",
       "</table>\n",
       "<p>5 rows × 54 columns</p>\n",
       "</div>"
      ],
      "text/plain": [
       "                     rougher.state.floatbank10_c_air  rougher.input.feed_au  \\\n",
       "date                                                                          \n",
       "2016-01-15 00:00:00                      1602.375000               6.486150   \n",
       "2016-01-15 01:00:00                      1600.479580               6.478583   \n",
       "2016-01-15 02:00:00                      1599.672797               6.362222   \n",
       "2016-01-15 03:00:00                      1600.012842               6.118189   \n",
       "2016-01-15 04:00:00                      1600.357732               5.663707   \n",
       "\n",
       "                     rougher.output.recovery  \\\n",
       "date                                           \n",
       "2016-01-15 00:00:00                87.107763   \n",
       "2016-01-15 01:00:00                86.843261   \n",
       "2016-01-15 02:00:00                86.842308   \n",
       "2016-01-15 03:00:00                87.226430   \n",
       "2016-01-15 04:00:00                86.688794   \n",
       "\n",
       "                     rougher.state.floatbank10_f_level  \\\n",
       "date                                                     \n",
       "2016-01-15 00:00:00                        -451.939636   \n",
       "2016-01-15 01:00:00                        -450.119001   \n",
       "2016-01-15 02:00:00                        -450.527147   \n",
       "2016-01-15 03:00:00                        -449.790835   \n",
       "2016-01-15 04:00:00                        -450.407128   \n",
       "\n",
       "                     primary_cleaner.input.sulfate  rougher.input.feed_sol  \\\n",
       "date                                                                         \n",
       "2016-01-15 00:00:00                     127.092003               36.808594   \n",
       "2016-01-15 01:00:00                     125.629232               35.753385   \n",
       "2016-01-15 02:00:00                     123.819808               35.971630   \n",
       "2016-01-15 03:00:00                     122.270188               36.862241   \n",
       "2016-01-15 04:00:00                     117.988169               34.347666   \n",
       "\n",
       "                     secondary_cleaner.state.floatbank3_b_level  \\\n",
       "date                                                              \n",
       "2016-01-15 00:00:00                                 -499.340973   \n",
       "2016-01-15 01:00:00                                 -499.446897   \n",
       "2016-01-15 02:00:00                                 -499.901982   \n",
       "2016-01-15 03:00:00                                 -499.944710   \n",
       "2016-01-15 04:00:00                                 -499.990309   \n",
       "\n",
       "                     secondary_cleaner.state.floatbank2_b_air  \\\n",
       "date                                                            \n",
       "2016-01-15 00:00:00                                 23.893660   \n",
       "2016-01-15 01:00:00                                 23.889530   \n",
       "2016-01-15 02:00:00                                 23.886657   \n",
       "2016-01-15 03:00:00                                 23.955516   \n",
       "2016-01-15 04:00:00                                 23.955345   \n",
       "\n",
       "                     rougher.input.feed_pb  rougher.input.floatbank10_sulfate  \\\n",
       "date                                                                            \n",
       "2016-01-15 00:00:00               2.284912                          11.986616   \n",
       "2016-01-15 01:00:00               2.266033                          11.971193   \n",
       "2016-01-15 02:00:00               2.159622                          11.920603   \n",
       "2016-01-15 03:00:00               2.037807                          11.630094   \n",
       "2016-01-15 04:00:00               1.786875                          10.957755   \n",
       "\n",
       "                     ...  primary_cleaner.state.floatbank8_c_level  \\\n",
       "date                 ...                                             \n",
       "2016-01-15 00:00:00  ...                               -498.666595   \n",
       "2016-01-15 01:00:00  ...                               -499.315107   \n",
       "2016-01-15 02:00:00  ...                               -500.870069   \n",
       "2016-01-15 03:00:00  ...                               -500.727997   \n",
       "2016-01-15 04:00:00  ...                               -500.888152   \n",
       "\n",
       "                     rougher.state.floatbank10_e_air  rougher.input.feed_size  \\\n",
       "date                                                                            \n",
       "2016-01-15 00:00:00                      1404.472046                55.486599   \n",
       "2016-01-15 01:00:00                      1399.227084                57.278666   \n",
       "2016-01-15 02:00:00                      1399.180945                57.510649   \n",
       "2016-01-15 03:00:00                      1400.943157                57.792734   \n",
       "2016-01-15 04:00:00                      1401.560902                56.047189   \n",
       "\n",
       "                     rougher.state.floatbank10_b_level  \\\n",
       "date                                                     \n",
       "2016-01-15 00:00:00                        -434.715027   \n",
       "2016-01-15 01:00:00                        -449.953435   \n",
       "2016-01-15 02:00:00                        -450.008530   \n",
       "2016-01-15 03:00:00                        -450.619948   \n",
       "2016-01-15 04:00:00                        -449.599614   \n",
       "\n",
       "                     secondary_cleaner.state.floatbank5_b_air  \\\n",
       "date                                                            \n",
       "2016-01-15 00:00:00                                  8.079666   \n",
       "2016-01-15 01:00:00                                  7.984757   \n",
       "2016-01-15 02:00:00                                  8.013877   \n",
       "2016-01-15 03:00:00                                  7.977324   \n",
       "2016-01-15 04:00:00                                  7.894242   \n",
       "\n",
       "                     rougher.input.floatbank10_xanthate  \\\n",
       "date                                                      \n",
       "2016-01-15 00:00:00                            6.007990   \n",
       "2016-01-15 01:00:00                            6.005766   \n",
       "2016-01-15 02:00:00                            6.197377   \n",
       "2016-01-15 03:00:00                            6.203177   \n",
       "2016-01-15 04:00:00                            6.198826   \n",
       "\n",
       "                     secondary_cleaner.state.floatbank3_a_air  \\\n",
       "date                                                            \n",
       "2016-01-15 00:00:00                                 23.961798   \n",
       "2016-01-15 01:00:00                                 23.970550   \n",
       "2016-01-15 02:00:00                                 23.913535   \n",
       "2016-01-15 03:00:00                                 23.966838   \n",
       "2016-01-15 04:00:00                                 23.985703   \n",
       "\n",
       "                     primary_cleaner.state.floatbank8_c_air  \\\n",
       "date                                                          \n",
       "2016-01-15 00:00:00                             1549.873901   \n",
       "2016-01-15 01:00:00                             1575.994189   \n",
       "2016-01-15 02:00:00                             1602.003542   \n",
       "2016-01-15 03:00:00                             1600.304144   \n",
       "2016-01-15 04:00:00                             1599.581894   \n",
       "\n",
       "                     primary_cleaner.state.floatbank8_d_level  \\\n",
       "date                                                            \n",
       "2016-01-15 00:00:00                               -493.428131   \n",
       "2016-01-15 01:00:00                               -498.931665   \n",
       "2016-01-15 02:00:00                               -499.827444   \n",
       "2016-01-15 03:00:00                               -500.052575   \n",
       "2016-01-15 04:00:00                               -500.593010   \n",
       "\n",
       "                     primary_cleaner.state.floatbank8_b_level  \n",
       "date                                                           \n",
       "2016-01-15 00:00:00                               -516.403442  \n",
       "2016-01-15 01:00:00                               -499.865889  \n",
       "2016-01-15 02:00:00                               -500.607762  \n",
       "2016-01-15 03:00:00                               -499.677094  \n",
       "2016-01-15 04:00:00                               -500.323246  \n",
       "\n",
       "[5 rows x 54 columns]"
      ]
     },
     "execution_count": 371,
     "metadata": {},
     "output_type": "execute_result"
    }
   ],
   "source": [
    "g_r_train.head()"
   ]
  },
  {
   "cell_type": "code",
   "execution_count": 377,
   "id": "ff3b2b2c",
   "metadata": {},
   "outputs": [],
   "source": [
    "#сделал одинаковый порядок для признаков в трейне и тесте\n",
    "features_test = features_test[features_train.columns]"
   ]
  },
  {
   "cell_type": "code",
   "execution_count": 375,
   "id": "e1a3b285",
   "metadata": {
    "scrolled": true
   },
   "outputs": [
    {
     "name": "stdout",
     "output_type": "stream",
     "text": [
      "rougher.state.floatbank10_c_air ********** rougher.state.floatbank10_c_air ********** True\n",
      "rougher.input.feed_au ********** rougher.input.feed_au ********** True\n",
      "rougher.state.floatbank10_f_level ********** rougher.state.floatbank10_f_level ********** True\n",
      "primary_cleaner.input.sulfate ********** primary_cleaner.input.sulfate ********** True\n",
      "rougher.input.feed_sol ********** rougher.input.feed_sol ********** True\n",
      "secondary_cleaner.state.floatbank3_b_level ********** secondary_cleaner.state.floatbank3_b_level ********** True\n",
      "secondary_cleaner.state.floatbank2_b_air ********** secondary_cleaner.state.floatbank2_b_air ********** True\n",
      "rougher.input.feed_pb ********** rougher.input.feed_pb ********** True\n",
      "rougher.input.floatbank10_sulfate ********** rougher.input.floatbank10_sulfate ********** True\n",
      "secondary_cleaner.state.floatbank6_a_air ********** secondary_cleaner.state.floatbank6_a_air ********** True\n",
      "primary_cleaner.state.floatbank8_a_air ********** primary_cleaner.state.floatbank8_a_air ********** True\n",
      "secondary_cleaner.state.floatbank4_a_level ********** secondary_cleaner.state.floatbank4_a_level ********** True\n",
      "secondary_cleaner.state.floatbank5_b_level ********** secondary_cleaner.state.floatbank5_b_level ********** True\n",
      "secondary_cleaner.state.floatbank4_b_level ********** secondary_cleaner.state.floatbank4_b_level ********** True\n",
      "primary_cleaner.input.feed_size ********** primary_cleaner.input.feed_size ********** True\n",
      "rougher.input.floatbank11_xanthate ********** rougher.input.floatbank11_xanthate ********** True\n",
      "rougher.state.floatbank10_f_air ********** rougher.state.floatbank10_f_air ********** True\n",
      "secondary_cleaner.state.floatbank6_a_level ********** secondary_cleaner.state.floatbank6_a_level ********** True\n",
      "rougher.input.feed_rate ********** rougher.input.feed_rate ********** True\n",
      "secondary_cleaner.state.floatbank4_a_air ********** secondary_cleaner.state.floatbank4_a_air ********** True\n",
      "secondary_cleaner.state.floatbank5_a_air ********** secondary_cleaner.state.floatbank5_a_air ********** True\n",
      "rougher.state.floatbank10_c_level ********** rougher.state.floatbank10_c_level ********** True\n",
      "secondary_cleaner.state.floatbank2_b_level ********** secondary_cleaner.state.floatbank2_b_level ********** True\n",
      "secondary_cleaner.state.floatbank5_a_level ********** secondary_cleaner.state.floatbank5_a_level ********** True\n",
      "rougher.state.floatbank10_a_level ********** rougher.state.floatbank10_a_level ********** True\n",
      "rougher.input.floatbank11_sulfate ********** rougher.input.floatbank11_sulfate ********** True\n",
      "secondary_cleaner.state.floatbank4_b_air ********** secondary_cleaner.state.floatbank4_b_air ********** True\n",
      "primary_cleaner.state.floatbank8_a_level ********** primary_cleaner.state.floatbank8_a_level ********** True\n",
      "rougher.state.floatbank10_b_air ********** rougher.state.floatbank10_b_air ********** True\n",
      "secondary_cleaner.state.floatbank3_a_level ********** secondary_cleaner.state.floatbank3_a_level ********** True\n",
      "rougher.state.floatbank10_d_air ********** rougher.state.floatbank10_d_air ********** True\n",
      "secondary_cleaner.state.floatbank3_b_air ********** secondary_cleaner.state.floatbank3_b_air ********** True\n",
      "primary_cleaner.input.depressant ********** primary_cleaner.input.depressant ********** True\n",
      "rougher.input.feed_ag ********** rougher.input.feed_ag ********** True\n",
      "rougher.state.floatbank10_a_air ********** rougher.state.floatbank10_a_air ********** True\n",
      "primary_cleaner.state.floatbank8_d_air ********** primary_cleaner.state.floatbank8_d_air ********** True\n",
      "secondary_cleaner.state.floatbank2_a_level ********** secondary_cleaner.state.floatbank2_a_level ********** True\n",
      "primary_cleaner.state.floatbank8_b_air ********** primary_cleaner.state.floatbank8_b_air ********** True\n",
      "secondary_cleaner.state.floatbank2_a_air ********** secondary_cleaner.state.floatbank2_a_air ********** True\n",
      "primary_cleaner.input.xanthate ********** primary_cleaner.input.xanthate ********** True\n",
      "rougher.state.floatbank10_d_level ********** rougher.state.floatbank10_d_level ********** True\n",
      "rougher.state.floatbank10_e_level ********** rougher.state.floatbank10_e_level ********** True\n",
      "primary_cleaner.state.floatbank8_c_level ********** primary_cleaner.state.floatbank8_c_level ********** True\n",
      "rougher.state.floatbank10_e_air ********** rougher.state.floatbank10_e_air ********** True\n",
      "rougher.input.feed_size ********** rougher.input.feed_size ********** True\n",
      "rougher.state.floatbank10_b_level ********** rougher.state.floatbank10_b_level ********** True\n",
      "secondary_cleaner.state.floatbank5_b_air ********** secondary_cleaner.state.floatbank5_b_air ********** True\n",
      "rougher.input.floatbank10_xanthate ********** rougher.input.floatbank10_xanthate ********** True\n",
      "secondary_cleaner.state.floatbank3_a_air ********** secondary_cleaner.state.floatbank3_a_air ********** True\n",
      "primary_cleaner.state.floatbank8_c_air ********** primary_cleaner.state.floatbank8_c_air ********** True\n",
      "primary_cleaner.state.floatbank8_d_level ********** primary_cleaner.state.floatbank8_d_level ********** True\n",
      "primary_cleaner.state.floatbank8_b_level ********** primary_cleaner.state.floatbank8_b_level ********** True\n"
     ]
    }
   ],
   "source": [
    "for train_col, test_col in zip(features_train.columns, features_test.columns):\n",
    "    print(train_col, '*'*10, test_col, '*'*10, test_col==train_col)"
   ]
  },
  {
   "cell_type": "markdown",
   "id": "18a4e4fc",
   "metadata": {},
   "source": [
    "### DecisionTreeRegressor"
   ]
  },
  {
   "cell_type": "code",
   "execution_count": 424,
   "id": "6e173c0d",
   "metadata": {
    "scrolled": true
   },
   "outputs": [],
   "source": [
    "#подбор гиперпараметров для дерева решений с помощью GridSearchCV\n",
    "parameters = {'max_depth': [1, 5, 10], 'min_samples_leaf': [1, 5, 10]}\n",
    "model_dtr = DecisionTreeRegressor(random_state=12345)\n",
    "model_dtr = GridSearchCV(model, parameters, cv=5, scoring=scorer, n_jobs=-1)\n",
    "model_dtr.fit(features_train, target_train_rougher)\n",
    "cv_score_rougher = model_dtr.best_score_\n",
    "cv_score_rougher = cv_score_rougher * -1"
   ]
  },
  {
   "cell_type": "code",
   "execution_count": 425,
   "id": "3dd7892b",
   "metadata": {},
   "outputs": [],
   "source": [
    "parameters = {'max_depth': [1, 5, 10], 'min_samples_leaf': [1, 5, 10]}\n",
    "model_dtr = DecisionTreeRegressor(random_state=12345)\n",
    "model_dtr = GridSearchCV(model, parameters, cv=5, scoring=scorer, n_jobs=-1)\n",
    "model_dtr.fit(features_train, target_train_final)\n",
    "cv_score_final = model_dtr.best_score_\n",
    "cv_score_final = cv_score_final * -1"
   ]
  },
  {
   "cell_type": "code",
   "execution_count": 426,
   "id": "13ea4749",
   "metadata": {},
   "outputs": [
    {
     "name": "stdout",
     "output_type": "stream",
     "text": [
      "Модель дерева решений показала результат метрики final_smape равный 8.55\n"
     ]
    }
   ],
   "source": [
    "print(f'Модель дерева решений показала результат метрики final_smape равный {round(final_smape(cv_score_rougher, cv_score_final), 2)}')"
   ]
  },
  {
   "cell_type": "markdown",
   "id": "684d055b",
   "metadata": {},
   "source": [
    "### Модель линейной регрессии"
   ]
  },
  {
   "cell_type": "code",
   "execution_count": 403,
   "id": "c83ed40b",
   "metadata": {},
   "outputs": [
    {
     "data": {
      "text/plain": [
       "7.09766106410414"
      ]
     },
     "execution_count": 403,
     "metadata": {},
     "output_type": "execute_result"
    }
   ],
   "source": [
    "parameters = {}\n",
    "model_lr = LinearRegression()\n",
    "model_lr = GridSearchCV(model_lr, parameters, cv=5, scoring=scorer, n_jobs=-1)\n",
    "model_lr.fit(features_train, target_train_rougher)\n",
    "cv_score_rougher = model_lr.best_score_\n",
    "cv_score_rougher = cv_score_rougher * -1\n",
    "cv_score_rougher"
   ]
  },
  {
   "cell_type": "code",
   "execution_count": 404,
   "id": "98472fc9",
   "metadata": {
    "scrolled": true
   },
   "outputs": [
    {
     "data": {
      "text/plain": [
       "9.356372636323917"
      ]
     },
     "execution_count": 404,
     "metadata": {},
     "output_type": "execute_result"
    }
   ],
   "source": [
    "parameters = {}\n",
    "model_lr = LinearRegression()\n",
    "model_lr = GridSearchCV(model_lr, parameters, cv=5, scoring=scorer, n_jobs=-1)\n",
    "model_lr.fit(features_train, target_train_final)\n",
    "cv_score_final = model_lr.best_score_\n",
    "cv_score_final = cv_score_final * -1\n",
    "cv_score_final"
   ]
  },
  {
   "cell_type": "code",
   "execution_count": 405,
   "id": "2c9a23d0",
   "metadata": {},
   "outputs": [
    {
     "name": "stdout",
     "output_type": "stream",
     "text": [
      "Модель линейной регрессии показала результат метрики final_smape равный 8.79\n"
     ]
    }
   ],
   "source": [
    "print(f'Модель линейной регрессии показала результат метрики final_smape равный {round(final_smape(cv_score_rougher, cv_score_final), 2)}')"
   ]
  },
  {
   "cell_type": "markdown",
   "id": "541f1278",
   "metadata": {},
   "source": [
    "### Модель случайного леса"
   ]
  },
  {
   "cell_type": "code",
   "execution_count": 429,
   "id": "24db5b60",
   "metadata": {},
   "outputs": [
    {
     "name": "stdout",
     "output_type": "stream",
     "text": [
      "Fitting 5 folds for each of 12 candidates, totalling 60 fits\n",
      "Лучшие параметры: {'max_depth': 5, 'n_estimators': 20}\n"
     ]
    },
    {
     "data": {
      "text/plain": [
       "6.316343322191673"
      ]
     },
     "execution_count": 429,
     "metadata": {},
     "output_type": "execute_result"
    }
   ],
   "source": [
    "#подбор гиперпараметров для случайного леса с помощью GridSearchCV\n",
    "parameters = {'n_estimators' : [1, 10, 20, 50], 'max_depth' : [1, 5, 10]}\n",
    "model_rfr = RandomForestRegressor(random_state=12345)\n",
    "model_rfr = GridSearchCV(model_rfr, parameters, cv=5, scoring=scorer, n_jobs=-1, verbose=10)\n",
    "model_rfr.fit(features_train, target_train_rougher)\n",
    "cv_score_rougher = model_rfr.best_score_\n",
    "cv_score_rougher = cv_score_rougher * -1\n",
    "best_params_rgr_rougher = model_rfr.best_params_\n",
    "print(f'Лучшие параметры: {best_params_rgr_rougher}')\n",
    "cv_score_rougher"
   ]
  },
  {
   "cell_type": "code",
   "execution_count": 430,
   "id": "5503934f",
   "metadata": {},
   "outputs": [
    {
     "name": "stdout",
     "output_type": "stream",
     "text": [
      "Fitting 5 folds for each of 12 candidates, totalling 60 fits\n",
      "Лучшие параметры: {'max_depth': 1, 'n_estimators': 10}\n"
     ]
    },
    {
     "data": {
      "text/plain": [
       "8.910388823940414"
      ]
     },
     "execution_count": 430,
     "metadata": {},
     "output_type": "execute_result"
    }
   ],
   "source": [
    "#подбор гиперпараметров для случайного леса с помощью GridSearchCV\n",
    "parameters = {'n_estimators' : [1, 10, 20, 50], 'max_depth' : [1, 5, 10]}\n",
    "model_rfr = RandomForestRegressor(random_state=12345)\n",
    "model_rfr = GridSearchCV(model_rfr, parameters, cv=5, scoring=scorer, n_jobs=-1, verbose=10)\n",
    "model_rfr.fit(features_train, target_train_final)\n",
    "cv_score_final = model_rfr.best_score_\n",
    "cv_score_final = cv_score_final * -1\n",
    "best_params_rgr_final = model_rfr.best_params_\n",
    "print(f'Лучшие параметры: {best_params_rgr_final}')\n",
    "cv_score_final"
   ]
  },
  {
   "cell_type": "code",
   "execution_count": 431,
   "id": "2b132a45",
   "metadata": {
    "scrolled": true
   },
   "outputs": [
    {
     "name": "stdout",
     "output_type": "stream",
     "text": [
      "Модель случайного леса показала результат метрики final_smape равный 8.26\n"
     ]
    }
   ],
   "source": [
    "print(f'Модель случайного леса показала результат метрики final_smape равный {round(final_smape(cv_score_rougher, cv_score_final), 2)}')"
   ]
  },
  {
   "cell_type": "markdown",
   "id": "f34826b7",
   "metadata": {},
   "source": [
    "### ElasticNet"
   ]
  },
  {
   "cell_type": "code",
   "execution_count": 412,
   "id": "803749ca",
   "metadata": {},
   "outputs": [
    {
     "name": "stderr",
     "output_type": "stream",
     "text": [
      "C:\\Users\\trombee\\anaconda3\\lib\\site-packages\\sklearn\\linear_model\\_coordinate_descent.py:647: ConvergenceWarning: Objective did not converge. You might want to increase the number of iterations, check the scale of the features or consider increasing regularisation. Duality gap: 8.217e+03, tolerance: 8.111e+01\n",
      "  model = cd_fast.enet_coordinate_descent(\n"
     ]
    },
    {
     "data": {
      "text/plain": [
       "6.709891552242269"
      ]
     },
     "execution_count": 412,
     "metadata": {},
     "output_type": "execute_result"
    }
   ],
   "source": [
    "parameters = {'alpha' : [0.1, 0.5, 1], 'max_iter' : [100, 200, 300]}\n",
    "model_en = ElasticNet(random_state=12345)\n",
    "model_en = GridSearchCV(model_en, parameters, cv=5, scoring=scorer, n_jobs=-1)\n",
    "model_en.fit(features_train, target_train_rougher)\n",
    "cv_score_rougher = model_en.best_score_\n",
    "cv_score_rougher = cv_score_rougher * -1\n",
    "cv_score_rougher"
   ]
  },
  {
   "cell_type": "code",
   "execution_count": 413,
   "id": "7106182f",
   "metadata": {},
   "outputs": [
    {
     "name": "stderr",
     "output_type": "stream",
     "text": [
      "C:\\Users\\trombee\\anaconda3\\lib\\site-packages\\sklearn\\linear_model\\_coordinate_descent.py:647: ConvergenceWarning: Objective did not converge. You might want to increase the number of iterations, check the scale of the features or consider increasing regularisation. Duality gap: 2.405e+05, tolerance: 1.027e+02\n",
      "  model = cd_fast.enet_coordinate_descent(\n"
     ]
    },
    {
     "data": {
      "text/plain": [
       "9.115261186488107"
      ]
     },
     "execution_count": 413,
     "metadata": {},
     "output_type": "execute_result"
    }
   ],
   "source": [
    "parameters = {'alpha' : [0.1, 0.5, 1], 'max_iter' : [100, 200, 300]}\n",
    "model_en = ElasticNet(random_state=12345)\n",
    "model_en = GridSearchCV(model_en, parameters, cv=5, scoring=scorer, n_jobs=-1)\n",
    "model_en.fit(features_train, target_train_final)\n",
    "cv_score_final = model_en.best_score_\n",
    "cv_score_final = cv_score_final * -1\n",
    "cv_score_final"
   ]
  },
  {
   "cell_type": "code",
   "execution_count": 414,
   "id": "4dffc3ef",
   "metadata": {},
   "outputs": [
    {
     "name": "stdout",
     "output_type": "stream",
     "text": [
      "Модель ElasticNet показала результат метрики final_smape равный 8.51\n"
     ]
    }
   ],
   "source": [
    "print(f'Модель ElasticNet показала результат метрики final_smape равный {round(final_smape(cv_score_rougher, cv_score_final), 2)}')"
   ]
  },
  {
   "cell_type": "markdown",
   "id": "3e33a49e",
   "metadata": {},
   "source": [
    "### Lasso"
   ]
  },
  {
   "cell_type": "code",
   "execution_count": 415,
   "id": "62ac9727",
   "metadata": {},
   "outputs": [
    {
     "name": "stderr",
     "output_type": "stream",
     "text": [
      "C:\\Users\\trombee\\anaconda3\\lib\\site-packages\\sklearn\\linear_model\\_coordinate_descent.py:647: ConvergenceWarning: Objective did not converge. You might want to increase the number of iterations, check the scale of the features or consider increasing regularisation. Duality gap: 3.670e+04, tolerance: 8.111e+01\n",
      "  model = cd_fast.enet_coordinate_descent(\n"
     ]
    },
    {
     "data": {
      "text/plain": [
       "6.860481386151298"
      ]
     },
     "execution_count": 415,
     "metadata": {},
     "output_type": "execute_result"
    }
   ],
   "source": [
    "parameters = {'alpha' : [0.1, 0.5, 1], 'max_iter' : [100, 200, 300]}\n",
    "model_lasso = Lasso(random_state=12345)\n",
    "model_lasso = GridSearchCV(model_lasso, parameters, cv=5, scoring=scorer, n_jobs=-1)\n",
    "model_lasso.fit(features_train, target_train_rougher)\n",
    "cv_score_rougher = model_lasso.best_score_\n",
    "cv_score_rougher = cv_score_rougher * -1\n",
    "cv_score_rougher"
   ]
  },
  {
   "cell_type": "code",
   "execution_count": 416,
   "id": "87d4de7c",
   "metadata": {},
   "outputs": [
    {
     "name": "stderr",
     "output_type": "stream",
     "text": [
      "C:\\Users\\trombee\\anaconda3\\lib\\site-packages\\sklearn\\linear_model\\_coordinate_descent.py:647: ConvergenceWarning: Objective did not converge. You might want to increase the number of iterations, check the scale of the features or consider increasing regularisation. Duality gap: 1.659e+05, tolerance: 1.027e+02\n",
      "  model = cd_fast.enet_coordinate_descent(\n"
     ]
    },
    {
     "data": {
      "text/plain": [
       "9.078866911605088"
      ]
     },
     "execution_count": 416,
     "metadata": {},
     "output_type": "execute_result"
    }
   ],
   "source": [
    "parameters = {'alpha' : [0.1, 0.5, 1], 'max_iter' : [100, 200, 300]}\n",
    "model_lasso = Lasso(random_state=12345)\n",
    "model_lasso = GridSearchCV(model_lasso, parameters, cv=5, scoring=scorer, n_jobs=-1)\n",
    "model_lasso.fit(features_train, target_train_final)\n",
    "cv_score_final = model_lasso.best_score_\n",
    "cv_score_final = cv_score_final * -1\n",
    "cv_score_final"
   ]
  },
  {
   "cell_type": "code",
   "execution_count": 417,
   "id": "1710a8b2",
   "metadata": {},
   "outputs": [
    {
     "name": "stdout",
     "output_type": "stream",
     "text": [
      "Модель Lasso показала результат метрики final_smape равный 8.52\n"
     ]
    }
   ],
   "source": [
    "print(f'Модель Lasso показала результат метрики final_smape равный {round(final_smape(cv_score_rougher, cv_score_final), 2)}')"
   ]
  },
  {
   "cell_type": "markdown",
   "id": "5f60b67b",
   "metadata": {},
   "source": [
    "## Проверка лучшей модели на тестовой выборке и сравнение с константной моделью"
   ]
  },
  {
   "cell_type": "markdown",
   "id": "b0646f84",
   "metadata": {},
   "source": [
    "### Константная модель DummyRegressor"
   ]
  },
  {
   "cell_type": "code",
   "execution_count": 438,
   "id": "9bd3af40",
   "metadata": {},
   "outputs": [
    {
     "name": "stdout",
     "output_type": "stream",
     "text": [
      "rougher sMAPE для константной модели = 6.093128475294952\n"
     ]
    }
   ],
   "source": [
    "model_dummy = DummyRegressor()\n",
    "model_dummy.fit(features_train, target_train_rougher)\n",
    "dummy_predict = model_dummy.predict(features_test)\n",
    "dummy_smape_rougher = smape(target_test_rougher, dummy_predict)\n",
    "\n",
    "print(f'rougher sMAPE для константной модели = {dummy_smape_rougher}')"
   ]
  },
  {
   "cell_type": "code",
   "execution_count": 439,
   "id": "4ab3b4fd",
   "metadata": {},
   "outputs": [
    {
     "name": "stdout",
     "output_type": "stream",
     "text": [
      "final sMAPE для константной модели = 9.170346362291186\n"
     ]
    }
   ],
   "source": [
    "model_dummy = DummyRegressor()\n",
    "model_dummy.fit(features_train, target_train_final)\n",
    "dummy_predict = model_dummy.predict(features_test)\n",
    "dummy_smape_final = smape(target_test_final, dummy_predict)\n",
    "\n",
    "print(f'final sMAPE для константной модели = {dummy_smape_final}')"
   ]
  },
  {
   "cell_type": "code",
   "execution_count": 440,
   "id": "91d5d8cd",
   "metadata": {},
   "outputs": [
    {
     "name": "stdout",
     "output_type": "stream",
     "text": [
      "final_smape для константной модели равен 8.401041890542128\n"
     ]
    }
   ],
   "source": [
    "print(f'final_smape для константной модели равен {final_smape(dummy_smape_rougher, dummy_smape_final)}')"
   ]
  },
  {
   "cell_type": "markdown",
   "id": "86e1fc01",
   "metadata": {},
   "source": [
    "### Проверка RFR на тесте"
   ]
  },
  {
   "cell_type": "code",
   "execution_count": 441,
   "id": "1f225742",
   "metadata": {},
   "outputs": [
    {
     "data": {
      "text/plain": [
       "3.858380152771629"
      ]
     },
     "execution_count": 441,
     "metadata": {},
     "output_type": "execute_result"
    }
   ],
   "source": [
    "model_rfr = RandomForestRegressor(random_state=12345, max_depth=5, n_estimators=20)\n",
    "model_rfr.fit(features_train, target_train_rougher)\n",
    "rfr_predict_rougher = model_rfr.predict(features_test)\n",
    "rfr_rougher_smape = smape(target_test_rougher, rfr_predict_rougher)\n",
    "rfr_rougher_smape"
   ]
  },
  {
   "cell_type": "code",
   "execution_count": 442,
   "id": "bf83817f",
   "metadata": {},
   "outputs": [
    {
     "data": {
      "text/plain": [
       "8.543784676054361"
      ]
     },
     "execution_count": 442,
     "metadata": {},
     "output_type": "execute_result"
    }
   ],
   "source": [
    "model_rfr = RandomForestRegressor(random_state=12345, max_depth=1, n_estimators=10)\n",
    "model_rfr.fit(features_train, target_train_final)\n",
    "rfr_predict_final = model_rfr.predict(features_test)\n",
    "rfr_final_smape = smape(target_test_final, rfr_predict_final)\n",
    "rfr_final_smape"
   ]
  },
  {
   "cell_type": "code",
   "execution_count": 443,
   "id": "97f432a2",
   "metadata": {},
   "outputs": [
    {
     "data": {
      "text/plain": [
       "7.372433545233679"
      ]
     },
     "execution_count": 443,
     "metadata": {},
     "output_type": "execute_result"
    }
   ],
   "source": [
    "final_smape(rfr_rougher_smape, rfr_final_smape)"
   ]
  },
  {
   "cell_type": "markdown",
   "id": "9580fe5a",
   "metadata": {},
   "source": [
    "## Итоговый вывод"
   ]
  },
  {
   "cell_type": "markdown",
   "id": "ebc40415",
   "metadata": {},
   "source": [
    "<div style=\"border:solid orange 2px; padding: 20px\"> \n",
    "    \n",
    "В ходе выполнения работы были проделаны следующие шаги:\n",
    "- Проведены подготовка данных:\n",
    "    - Загружены данные;\n",
    "    - Проведена проверка на корректность расчетов об эффективности обогащения. В итоге проверки расчеты корректные, метрика MAE показала результат сильно ниже нуля;\n",
    "    - Были проанализированы признаки, недоступные в тестовой выборке. Это произошло из-за офлайн и онлайн метрики. Т.е. в обучающей выборке собраны исторические данные, соответственно там имеются и данных на выходе (output). А в тестовой выборке данные реального времени, которые подаются на вход модели;\n",
    "    - Проведена предобработка данных: заполнены пропуски, удалены аномальные значения, проанализирован распределение признаков на обучающей и тестовой выборках\n",
    "- Проанализированы данные:\n",
    "    - Проанализирована динамика изменения концентрации каждого металла. С каждым последующим этапом концентрация золота возрастает, а других металлов уменьшается;\n",
    "    - Сравнены распределения размеров гранул на обучающей и тестовой выборке. Распределения оказались схожи, поэтому данные можно использовать для обучения моделей;\n",
    "    - Также было выяснено, что суммарная концентрация металлов уменьшается ближе к финальной стадии.\n",
    "- Построение и выбор лучшей модели:\n",
    "    - Модель линейной регрессии показала результат final_smape равный 8.79\n",
    "    - Модель дерева решений показала результат final_smape равный 8.55\n",
    "    - Модель случайного леса показала результа final_smape равный 8.26\n",
    "    - Модель Lasso показала результа final_smape равный 8.52\n",
    "    - Модель ElasticNet показала результа final_smape равный 8.51\n",
    "    - final_smape константной модели равен 8.4\n",
    "    \n",
    "По итогу, лучшей моделью на обучающем наборе данных стала модель случайного леса, с результатом в 8.26.\n",
    "\n",
    "Далее эта модель была проверена на тестовой выборке, где показала результат равный 7.37. Данная модель нам подходит, так как значительно превосходит результаты константной модели в 8.4."
   ]
  }
 ],
 "metadata": {
  "ExecuteTimeLog": [
   {
    "duration": 1229,
    "start_time": "2023-05-12T06:44:14.771Z"
   },
   {
    "duration": 809,
    "start_time": "2023-05-12T06:44:16.002Z"
   },
   {
    "duration": 23,
    "start_time": "2023-05-12T06:44:16.812Z"
   },
   {
    "duration": 243,
    "start_time": "2023-05-12T06:44:16.837Z"
   },
   {
    "duration": 17,
    "start_time": "2023-05-12T06:44:17.082Z"
   },
   {
    "duration": 176,
    "start_time": "2023-05-12T06:44:17.101Z"
   },
   {
    "duration": 21,
    "start_time": "2023-05-12T06:44:17.279Z"
   },
   {
    "duration": 265,
    "start_time": "2023-05-12T06:44:17.302Z"
   },
   {
    "duration": 3,
    "start_time": "2023-05-12T06:44:17.568Z"
   },
   {
    "duration": 33,
    "start_time": "2023-05-12T06:44:17.574Z"
   },
   {
    "duration": 14,
    "start_time": "2023-05-12T06:44:17.610Z"
   },
   {
    "duration": 7,
    "start_time": "2023-05-12T06:44:17.626Z"
   },
   {
    "duration": 203,
    "start_time": "2023-05-12T06:44:17.635Z"
   },
   {
    "duration": 12,
    "start_time": "2023-05-12T06:44:17.841Z"
   },
   {
    "duration": 22,
    "start_time": "2023-05-12T06:44:17.854Z"
   },
   {
    "duration": 51,
    "start_time": "2023-05-12T06:44:17.878Z"
   },
   {
    "duration": 19,
    "start_time": "2023-05-12T06:44:17.931Z"
   },
   {
    "duration": 17,
    "start_time": "2023-05-12T06:44:17.951Z"
   },
   {
    "duration": 14,
    "start_time": "2023-05-12T06:44:17.970Z"
   },
   {
    "duration": 26,
    "start_time": "2023-05-12T06:44:17.986Z"
   },
   {
    "duration": 8,
    "start_time": "2023-05-12T06:44:18.025Z"
   },
   {
    "duration": 44,
    "start_time": "2023-05-12T06:44:18.035Z"
   },
   {
    "duration": 6,
    "start_time": "2023-05-12T06:44:18.081Z"
   },
   {
    "duration": 259,
    "start_time": "2023-05-12T06:44:18.089Z"
   },
   {
    "duration": 215,
    "start_time": "2023-05-12T06:44:18.349Z"
   },
   {
    "duration": 233,
    "start_time": "2023-05-12T06:44:18.565Z"
   },
   {
    "duration": 4,
    "start_time": "2023-05-12T06:44:18.800Z"
   },
   {
    "duration": 592,
    "start_time": "2023-05-12T06:44:18.805Z"
   },
   {
    "duration": 4,
    "start_time": "2023-05-12T06:44:19.398Z"
   },
   {
    "duration": 14,
    "start_time": "2023-05-12T06:44:19.404Z"
   },
   {
    "duration": 149,
    "start_time": "2023-05-12T06:44:19.420Z"
   },
   {
    "duration": 67,
    "start_time": "2023-05-12T06:44:19.571Z"
   },
   {
    "duration": 3,
    "start_time": "2023-05-12T06:44:19.640Z"
   },
   {
    "duration": 12,
    "start_time": "2023-05-12T06:44:19.645Z"
   },
   {
    "duration": 4,
    "start_time": "2023-05-12T06:44:19.659Z"
   },
   {
    "duration": 7,
    "start_time": "2023-05-12T06:44:19.665Z"
   },
   {
    "duration": 17,
    "start_time": "2023-05-12T06:44:19.674Z"
   },
   {
    "duration": 11,
    "start_time": "2023-05-12T06:44:19.693Z"
   },
   {
    "duration": 13,
    "start_time": "2023-05-12T06:44:19.707Z"
   },
   {
    "duration": 11,
    "start_time": "2023-05-12T06:44:19.721Z"
   },
   {
    "duration": 3,
    "start_time": "2023-05-12T06:44:19.737Z"
   },
   {
    "duration": 11,
    "start_time": "2023-05-12T06:44:19.742Z"
   },
   {
    "duration": 19,
    "start_time": "2023-05-12T06:44:19.755Z"
   },
   {
    "duration": 7,
    "start_time": "2023-05-12T06:44:19.777Z"
   },
   {
    "duration": 839,
    "start_time": "2023-05-12T06:44:19.786Z"
   },
   {
    "duration": 0,
    "start_time": "2023-05-12T06:44:20.628Z"
   },
   {
    "duration": 4,
    "start_time": "2023-05-12T07:01:43.414Z"
   },
   {
    "duration": 5,
    "start_time": "2023-05-12T07:01:51.473Z"
   },
   {
    "duration": 7087,
    "start_time": "2023-05-12T07:05:10.314Z"
   },
   {
    "duration": 3004,
    "start_time": "2023-05-12T07:05:17.402Z"
   },
   {
    "duration": 4,
    "start_time": "2023-05-12T07:06:23.990Z"
   },
   {
    "duration": 3,
    "start_time": "2023-05-12T07:06:28.480Z"
   },
   {
    "duration": 2035,
    "start_time": "2023-05-15T16:49:22.411Z"
   },
   {
    "duration": 878,
    "start_time": "2023-05-15T16:49:24.448Z"
   },
   {
    "duration": 20,
    "start_time": "2023-05-15T16:49:25.328Z"
   },
   {
    "duration": 208,
    "start_time": "2023-05-15T16:49:25.350Z"
   },
   {
    "duration": 12,
    "start_time": "2023-05-15T16:49:25.560Z"
   },
   {
    "duration": 152,
    "start_time": "2023-05-15T16:49:25.573Z"
   },
   {
    "duration": 18,
    "start_time": "2023-05-15T16:49:25.727Z"
   },
   {
    "duration": 254,
    "start_time": "2023-05-15T16:49:25.747Z"
   },
   {
    "duration": 3,
    "start_time": "2023-05-15T16:49:26.003Z"
   },
   {
    "duration": 11,
    "start_time": "2023-05-15T16:49:26.019Z"
   },
   {
    "duration": 14,
    "start_time": "2023-05-15T16:49:26.032Z"
   },
   {
    "duration": 5,
    "start_time": "2023-05-15T16:49:26.048Z"
   },
   {
    "duration": 32,
    "start_time": "2023-05-15T16:49:26.055Z"
   },
   {
    "duration": 13,
    "start_time": "2023-05-15T16:49:26.089Z"
   },
   {
    "duration": 33,
    "start_time": "2023-05-15T16:49:26.118Z"
   },
   {
    "duration": 11,
    "start_time": "2023-05-15T16:49:26.153Z"
   },
   {
    "duration": 16,
    "start_time": "2023-05-15T16:49:26.166Z"
   },
   {
    "duration": 34,
    "start_time": "2023-05-15T16:49:26.184Z"
   },
   {
    "duration": 22,
    "start_time": "2023-05-15T16:49:26.220Z"
   },
   {
    "duration": 11,
    "start_time": "2023-05-15T16:49:26.244Z"
   },
   {
    "duration": 11,
    "start_time": "2023-05-15T16:49:26.256Z"
   },
   {
    "duration": 740,
    "start_time": "2023-05-15T16:49:26.268Z"
   },
   {
    "duration": 12,
    "start_time": "2023-05-15T16:49:27.010Z"
   },
   {
    "duration": 20,
    "start_time": "2023-05-15T16:49:27.024Z"
   },
   {
    "duration": 97,
    "start_time": "2023-05-15T16:49:27.045Z"
   },
   {
    "duration": 7,
    "start_time": "2023-05-15T16:49:27.508Z"
   },
   {
    "duration": 755,
    "start_time": "2023-05-15T16:49:28.069Z"
   },
   {
    "duration": 223,
    "start_time": "2023-05-15T16:49:29.116Z"
   },
   {
    "duration": 17,
    "start_time": "2023-05-15T16:49:29.340Z"
   },
   {
    "duration": 219,
    "start_time": "2023-05-15T16:49:29.388Z"
   },
   {
    "duration": 225,
    "start_time": "2023-05-15T16:49:29.609Z"
   },
   {
    "duration": 14,
    "start_time": "2023-05-15T16:49:29.836Z"
   },
   {
    "duration": 221,
    "start_time": "2023-05-15T16:49:29.869Z"
   },
   {
    "duration": 234,
    "start_time": "2023-05-15T16:49:30.093Z"
   },
   {
    "duration": 21,
    "start_time": "2023-05-15T16:49:30.329Z"
   },
   {
    "duration": 271,
    "start_time": "2023-05-15T16:49:30.381Z"
   },
   {
    "duration": 376,
    "start_time": "2023-05-15T16:49:31.744Z"
   },
   {
    "duration": 23,
    "start_time": "2023-05-15T16:49:32.123Z"
   },
   {
    "duration": 266,
    "start_time": "2023-05-15T16:49:32.148Z"
   },
   {
    "duration": 47,
    "start_time": "2023-05-15T16:49:32.416Z"
   },
   {
    "duration": 4,
    "start_time": "2023-05-15T16:49:33.086Z"
   },
   {
    "duration": 455,
    "start_time": "2023-05-15T16:49:33.266Z"
   },
   {
    "duration": 7,
    "start_time": "2023-05-15T16:49:34.958Z"
   },
   {
    "duration": 37,
    "start_time": "2023-05-15T16:49:35.120Z"
   },
   {
    "duration": 1526,
    "start_time": "2023-05-15T16:49:36.085Z"
   },
   {
    "duration": 3,
    "start_time": "2023-05-15T16:49:37.652Z"
   },
   {
    "duration": 3,
    "start_time": "2023-05-15T16:49:37.848Z"
   },
   {
    "duration": 4,
    "start_time": "2023-05-15T16:49:38.323Z"
   },
   {
    "duration": 6,
    "start_time": "2023-05-15T16:49:38.516Z"
   },
   {
    "duration": 6,
    "start_time": "2023-05-15T16:49:39.686Z"
   },
   {
    "duration": 5,
    "start_time": "2023-05-15T16:49:40.992Z"
   },
   {
    "duration": 3,
    "start_time": "2023-05-15T16:49:41.981Z"
   },
   {
    "duration": 2,
    "start_time": "2023-05-15T16:49:43.586Z"
   },
   {
    "duration": 2,
    "start_time": "2023-05-15T16:49:44.224Z"
   },
   {
    "duration": 123,
    "start_time": "2023-05-15T16:50:35.124Z"
   },
   {
    "duration": 19,
    "start_time": "2023-05-15T16:50:41.624Z"
   },
   {
    "duration": 25,
    "start_time": "2023-05-15T16:51:13.256Z"
   },
   {
    "duration": 30,
    "start_time": "2023-05-15T16:51:40.039Z"
   },
   {
    "duration": 5,
    "start_time": "2023-05-15T16:57:00.716Z"
   },
   {
    "duration": 28,
    "start_time": "2023-05-15T16:57:15.153Z"
   },
   {
    "duration": 552,
    "start_time": "2023-05-15T16:57:43.875Z"
   },
   {
    "duration": 176,
    "start_time": "2023-05-15T16:57:44.644Z"
   },
   {
    "duration": 4,
    "start_time": "2023-05-15T16:57:45.507Z"
   }
  ],
  "kernelspec": {
   "display_name": "Python 3 (ipykernel)",
   "language": "python",
   "name": "python3"
  },
  "language_info": {
   "codemirror_mode": {
    "name": "ipython",
    "version": 3
   },
   "file_extension": ".py",
   "mimetype": "text/x-python",
   "name": "python",
   "nbconvert_exporter": "python",
   "pygments_lexer": "ipython3",
   "version": "3.9.19"
  },
  "toc": {
   "base_numbering": 1,
   "nav_menu": {},
   "number_sections": true,
   "sideBar": true,
   "skip_h1_title": true,
   "title_cell": "Table of Contents",
   "title_sidebar": "Contents",
   "toc_cell": false,
   "toc_position": {},
   "toc_section_display": true,
   "toc_window_display": false
  }
 },
 "nbformat": 4,
 "nbformat_minor": 5
}
